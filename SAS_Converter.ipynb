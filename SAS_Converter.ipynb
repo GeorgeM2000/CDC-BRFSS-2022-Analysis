{
 "cells": [
  {
   "cell_type": "code",
   "execution_count": 1,
   "metadata": {},
   "outputs": [],
   "source": [
    "from pathlib import Path\n",
    "import pandas as pd"
   ]
  },
  {
   "cell_type": "code",
   "execution_count": 2,
   "metadata": {},
   "outputs": [],
   "source": [
    "PROCESSED_FILE_PATH_PARQUET = 'MMSA_2021.parquet'\n",
    "PROCESSED_FILE_PATH_CSV = 'MMSA_2021.csv'"
   ]
  },
  {
   "cell_type": "code",
   "execution_count": 3,
   "metadata": {},
   "outputs": [],
   "source": [
    "# Change the file path\n",
    "RAW_FILE_PATH = 'MMSA2021_XPT/MMSA2021.xpt'"
   ]
  },
  {
   "cell_type": "code",
   "execution_count": null,
   "metadata": {},
   "outputs": [],
   "source": [
    "def sas_converter(path: str, dest_path: str, file_format: str):\n",
    "    assert file_format in ['csv', 'parquet']\n",
    "    \n",
    "    try:\n",
    "        #df = pd.read_sas(path, encoding='utf-8')\n",
    "        df = pd.read_sas(path)\n",
    "    except pd.errors.ParserError as pe:\n",
    "        # Catch specific ParserError related to SAS file parsing\n",
    "        print(\"Error parsing SAS file:\", pe)\n",
    "    except Exception as e:\n",
    "        print('Not a valid SAS file.')\n",
    "        print(e)\n",
    "    else:\n",
    "        if file_format == 'csv':\n",
    "            df.to_csv(dest_path, index=False)\n",
    "        elif file_format == 'parquet':\n",
    "            df.to_parquet(dest_path, index=False)"
   ]
  },
  {
   "cell_type": "code",
   "execution_count": null,
   "metadata": {},
   "outputs": [],
   "source": [
    "sas_converter(path=RAW_FILE_PATH, dest_path=PROCESSED_FILE_PATH_CSV, file_format='csv')"
   ]
  },
  {
   "cell_type": "code",
   "execution_count": 4,
   "metadata": {},
   "outputs": [],
   "source": [
    "data = pd.read_csv(PROCESSED_FILE_PATH_CSV)"
   ]
  },
  {
   "cell_type": "code",
   "execution_count": 5,
   "metadata": {},
   "outputs": [
    {
     "name": "stdout",
     "output_type": "stream",
     "text": [
      "<class 'pandas.core.frame.DataFrame'>\n",
      "RangeIndex: 227792 entries, 0 to 227791\n",
      "Columns: 152 entries, DISPCODE to MMSANAME\n",
      "dtypes: float64(151), object(1)\n",
      "memory usage: 264.2+ MB\n"
     ]
    }
   ],
   "source": [
    "data.info()"
   ]
  },
  {
   "cell_type": "code",
   "execution_count": 6,
   "metadata": {},
   "outputs": [
    {
     "data": {
      "text/html": [
       "<div>\n",
       "<style scoped>\n",
       "    .dataframe tbody tr th:only-of-type {\n",
       "        vertical-align: middle;\n",
       "    }\n",
       "\n",
       "    .dataframe tbody tr th {\n",
       "        vertical-align: top;\n",
       "    }\n",
       "\n",
       "    .dataframe thead th {\n",
       "        text-align: right;\n",
       "    }\n",
       "</style>\n",
       "<table border=\"1\" class=\"dataframe\">\n",
       "  <thead>\n",
       "    <tr style=\"text-align: right;\">\n",
       "      <th></th>\n",
       "      <th>DISPCODE</th>\n",
       "      <th>STATERE1</th>\n",
       "      <th>CELPHON1</th>\n",
       "      <th>LADULT1</th>\n",
       "      <th>COLGSEX</th>\n",
       "      <th>LANDSEX</th>\n",
       "      <th>RESPSLCT</th>\n",
       "      <th>SAFETIME</th>\n",
       "      <th>CADULT1</th>\n",
       "      <th>CELLSEX</th>\n",
       "      <th>...</th>\n",
       "      <th>_FRTLT1A</th>\n",
       "      <th>_VEGLT1A</th>\n",
       "      <th>_FRT16A</th>\n",
       "      <th>_VEG23A</th>\n",
       "      <th>_FRUITE1</th>\n",
       "      <th>_VEGETE1</th>\n",
       "      <th>_MMSA</th>\n",
       "      <th>_MMSAWT</th>\n",
       "      <th>SEQNO</th>\n",
       "      <th>MMSANAME</th>\n",
       "    </tr>\n",
       "  </thead>\n",
       "  <tbody>\n",
       "    <tr>\n",
       "      <th>0</th>\n",
       "      <td>1200.0</td>\n",
       "      <td>NaN</td>\n",
       "      <td>NaN</td>\n",
       "      <td>NaN</td>\n",
       "      <td>NaN</td>\n",
       "      <td>NaN</td>\n",
       "      <td>NaN</td>\n",
       "      <td>1.0</td>\n",
       "      <td>1.0</td>\n",
       "      <td>1.0</td>\n",
       "      <td>...</td>\n",
       "      <td>2.0</td>\n",
       "      <td>1.0</td>\n",
       "      <td>1.0</td>\n",
       "      <td>1.0</td>\n",
       "      <td>5.397605e-79</td>\n",
       "      <td>5.397605e-79</td>\n",
       "      <td>10100.0</td>\n",
       "      <td>90.030265</td>\n",
       "      <td>2.021000e+09</td>\n",
       "      <td>b'Aberdeen, SD, Micropolitan Statistical Area'</td>\n",
       "    </tr>\n",
       "    <tr>\n",
       "      <th>1</th>\n",
       "      <td>1200.0</td>\n",
       "      <td>NaN</td>\n",
       "      <td>NaN</td>\n",
       "      <td>NaN</td>\n",
       "      <td>NaN</td>\n",
       "      <td>NaN</td>\n",
       "      <td>NaN</td>\n",
       "      <td>1.0</td>\n",
       "      <td>1.0</td>\n",
       "      <td>1.0</td>\n",
       "      <td>...</td>\n",
       "      <td>2.0</td>\n",
       "      <td>1.0</td>\n",
       "      <td>1.0</td>\n",
       "      <td>1.0</td>\n",
       "      <td>5.397605e-79</td>\n",
       "      <td>5.397605e-79</td>\n",
       "      <td>10100.0</td>\n",
       "      <td>29.643176</td>\n",
       "      <td>2.021000e+09</td>\n",
       "      <td>b'Aberdeen, SD, Micropolitan Statistical Area'</td>\n",
       "    </tr>\n",
       "    <tr>\n",
       "      <th>2</th>\n",
       "      <td>1200.0</td>\n",
       "      <td>NaN</td>\n",
       "      <td>NaN</td>\n",
       "      <td>NaN</td>\n",
       "      <td>NaN</td>\n",
       "      <td>NaN</td>\n",
       "      <td>NaN</td>\n",
       "      <td>1.0</td>\n",
       "      <td>1.0</td>\n",
       "      <td>2.0</td>\n",
       "      <td>...</td>\n",
       "      <td>1.0</td>\n",
       "      <td>1.0</td>\n",
       "      <td>1.0</td>\n",
       "      <td>1.0</td>\n",
       "      <td>5.397605e-79</td>\n",
       "      <td>5.397605e-79</td>\n",
       "      <td>10100.0</td>\n",
       "      <td>37.000680</td>\n",
       "      <td>2.021000e+09</td>\n",
       "      <td>b'Aberdeen, SD, Micropolitan Statistical Area'</td>\n",
       "    </tr>\n",
       "    <tr>\n",
       "      <th>3</th>\n",
       "      <td>1200.0</td>\n",
       "      <td>NaN</td>\n",
       "      <td>NaN</td>\n",
       "      <td>NaN</td>\n",
       "      <td>NaN</td>\n",
       "      <td>NaN</td>\n",
       "      <td>NaN</td>\n",
       "      <td>1.0</td>\n",
       "      <td>1.0</td>\n",
       "      <td>1.0</td>\n",
       "      <td>...</td>\n",
       "      <td>1.0</td>\n",
       "      <td>1.0</td>\n",
       "      <td>1.0</td>\n",
       "      <td>1.0</td>\n",
       "      <td>5.397605e-79</td>\n",
       "      <td>5.397605e-79</td>\n",
       "      <td>10100.0</td>\n",
       "      <td>49.702755</td>\n",
       "      <td>2.021000e+09</td>\n",
       "      <td>b'Aberdeen, SD, Micropolitan Statistical Area'</td>\n",
       "    </tr>\n",
       "    <tr>\n",
       "      <th>4</th>\n",
       "      <td>1200.0</td>\n",
       "      <td>NaN</td>\n",
       "      <td>NaN</td>\n",
       "      <td>NaN</td>\n",
       "      <td>NaN</td>\n",
       "      <td>NaN</td>\n",
       "      <td>NaN</td>\n",
       "      <td>1.0</td>\n",
       "      <td>1.0</td>\n",
       "      <td>2.0</td>\n",
       "      <td>...</td>\n",
       "      <td>1.0</td>\n",
       "      <td>1.0</td>\n",
       "      <td>1.0</td>\n",
       "      <td>1.0</td>\n",
       "      <td>5.397605e-79</td>\n",
       "      <td>5.397605e-79</td>\n",
       "      <td>10100.0</td>\n",
       "      <td>15.396983</td>\n",
       "      <td>2.021000e+09</td>\n",
       "      <td>b'Aberdeen, SD, Micropolitan Statistical Area'</td>\n",
       "    </tr>\n",
       "  </tbody>\n",
       "</table>\n",
       "<p>5 rows × 152 columns</p>\n",
       "</div>"
      ],
      "text/plain": [
       "   DISPCODE  STATERE1  CELPHON1  LADULT1  COLGSEX  LANDSEX  RESPSLCT  \\\n",
       "0    1200.0       NaN       NaN      NaN      NaN      NaN       NaN   \n",
       "1    1200.0       NaN       NaN      NaN      NaN      NaN       NaN   \n",
       "2    1200.0       NaN       NaN      NaN      NaN      NaN       NaN   \n",
       "3    1200.0       NaN       NaN      NaN      NaN      NaN       NaN   \n",
       "4    1200.0       NaN       NaN      NaN      NaN      NaN       NaN   \n",
       "\n",
       "   SAFETIME  CADULT1  CELLSEX  ...  _FRTLT1A  _VEGLT1A  _FRT16A  _VEG23A  \\\n",
       "0       1.0      1.0      1.0  ...       2.0       1.0      1.0      1.0   \n",
       "1       1.0      1.0      1.0  ...       2.0       1.0      1.0      1.0   \n",
       "2       1.0      1.0      2.0  ...       1.0       1.0      1.0      1.0   \n",
       "3       1.0      1.0      1.0  ...       1.0       1.0      1.0      1.0   \n",
       "4       1.0      1.0      2.0  ...       1.0       1.0      1.0      1.0   \n",
       "\n",
       "       _FRUITE1      _VEGETE1    _MMSA    _MMSAWT         SEQNO  \\\n",
       "0  5.397605e-79  5.397605e-79  10100.0  90.030265  2.021000e+09   \n",
       "1  5.397605e-79  5.397605e-79  10100.0  29.643176  2.021000e+09   \n",
       "2  5.397605e-79  5.397605e-79  10100.0  37.000680  2.021000e+09   \n",
       "3  5.397605e-79  5.397605e-79  10100.0  49.702755  2.021000e+09   \n",
       "4  5.397605e-79  5.397605e-79  10100.0  15.396983  2.021000e+09   \n",
       "\n",
       "                                         MMSANAME  \n",
       "0  b'Aberdeen, SD, Micropolitan Statistical Area'  \n",
       "1  b'Aberdeen, SD, Micropolitan Statistical Area'  \n",
       "2  b'Aberdeen, SD, Micropolitan Statistical Area'  \n",
       "3  b'Aberdeen, SD, Micropolitan Statistical Area'  \n",
       "4  b'Aberdeen, SD, Micropolitan Statistical Area'  \n",
       "\n",
       "[5 rows x 152 columns]"
      ]
     },
     "execution_count": 6,
     "metadata": {},
     "output_type": "execute_result"
    }
   ],
   "source": [
    "data.head()"
   ]
  },
  {
   "cell_type": "code",
   "execution_count": 13,
   "metadata": {},
   "outputs": [
    {
     "data": {
      "text/plain": [
       "DISPCODE         0\n",
       "STATERE1    172268\n",
       "CELPHON1    172268\n",
       "LADULT1     172268\n",
       "COLGSEX     227774\n",
       "             ...  \n",
       "_VEGETE1         0\n",
       "_MMSA            0\n",
       "_MMSAWT          0\n",
       "SEQNO            0\n",
       "MMSANAME         0\n",
       "Length: 152, dtype: int64"
      ]
     },
     "execution_count": 13,
     "metadata": {},
     "output_type": "execute_result"
    }
   ],
   "source": [
    "data.isna().sum()"
   ]
  }
 ],
 "metadata": {
  "kernelspec": {
   "display_name": "CDC-BRFSS",
   "language": "python",
   "name": "python3"
  },
  "language_info": {
   "codemirror_mode": {
    "name": "ipython",
    "version": 3
   },
   "file_extension": ".py",
   "mimetype": "text/x-python",
   "name": "python",
   "nbconvert_exporter": "python",
   "pygments_lexer": "ipython3",
   "version": "3.10.12"
  }
 },
 "nbformat": 4,
 "nbformat_minor": 2
}
