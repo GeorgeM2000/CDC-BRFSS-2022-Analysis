{
 "cells": [
  {
   "cell_type": "markdown",
   "metadata": {},
   "source": [
    "# ***Libraries & Tools***"
   ]
  },
  {
   "cell_type": "code",
   "execution_count": 27,
   "metadata": {},
   "outputs": [],
   "source": [
    "import pandas as pd\n",
    "import numpy as np\n",
    "import matplotlib.pyplot as plt\n",
    "import seaborn as sns\n",
    "from scipy.stats import randint \n",
    "import time\n",
    "import json\n",
    "import math\n",
    "import re\n",
    "from sklearn.svm import SVC\n",
    "from sklearn.tree import DecisionTreeClassifier\n",
    "from sklearn.neighbors import KNeighborsClassifier\n",
    "from sklearn.model_selection import train_test_split, RandomizedSearchCV, GridSearchCV, StratifiedShuffleSplit\n",
    "from sklearn.metrics import accuracy_score, confusion_matrix, make_scorer, classification_report, RocCurveDisplay\n",
    "from sklearn.ensemble import RandomForestClassifier, AdaBoostClassifier, BaggingClassifier\n",
    "from sklearn.preprocessing import LabelEncoder, OneHotEncoder\n",
    "from imblearn.over_sampling import SMOTE, RandomOverSampler, SMOTEN, SMOTENC, BorderlineSMOTE\n",
    "from imblearn.under_sampling import RandomUnderSampler\n",
    "from sklearn.naive_bayes import GaussianNB, MultinomialNB, BernoulliNB\n",
    "from sklearn.feature_extraction.text import CountVectorizer\n",
    "from xgboost import XGBClassifier\n",
    "from itertools import product\n",
    "from scipy.stats import randint"
   ]
  },
  {
   "cell_type": "markdown",
   "metadata": {},
   "source": [
    "# ***Data Overview and Exploration***"
   ]
  },
  {
   "cell_type": "markdown",
   "metadata": {},
   "source": [
    "## Data Overview"
   ]
  },
  {
   "cell_type": "code",
   "execution_count": 2,
   "metadata": {},
   "outputs": [],
   "source": [
    "data = pd.read_csv('MMSA_2021.csv')"
   ]
  },
  {
   "cell_type": "code",
   "execution_count": 3,
   "metadata": {},
   "outputs": [
    {
     "name": "stdout",
     "output_type": "stream",
     "text": [
      "<class 'pandas.core.frame.DataFrame'>\n",
      "RangeIndex: 227792 entries, 0 to 227791\n",
      "Columns: 152 entries, DISPCODE to MMSANAME\n",
      "dtypes: float64(151), object(1)\n",
      "memory usage: 264.2+ MB\n"
     ]
    }
   ],
   "source": [
    "data.info()"
   ]
  },
  {
   "cell_type": "code",
   "execution_count": 4,
   "metadata": {},
   "outputs": [
    {
     "data": {
      "text/html": [
       "<div>\n",
       "<style scoped>\n",
       "    .dataframe tbody tr th:only-of-type {\n",
       "        vertical-align: middle;\n",
       "    }\n",
       "\n",
       "    .dataframe tbody tr th {\n",
       "        vertical-align: top;\n",
       "    }\n",
       "\n",
       "    .dataframe thead th {\n",
       "        text-align: right;\n",
       "    }\n",
       "</style>\n",
       "<table border=\"1\" class=\"dataframe\">\n",
       "  <thead>\n",
       "    <tr style=\"text-align: right;\">\n",
       "      <th></th>\n",
       "      <th>DISPCODE</th>\n",
       "      <th>STATERE1</th>\n",
       "      <th>CELPHON1</th>\n",
       "      <th>LADULT1</th>\n",
       "      <th>COLGSEX</th>\n",
       "      <th>LANDSEX</th>\n",
       "      <th>RESPSLCT</th>\n",
       "      <th>SAFETIME</th>\n",
       "      <th>CADULT1</th>\n",
       "      <th>CELLSEX</th>\n",
       "      <th>...</th>\n",
       "      <th>_FRTLT1A</th>\n",
       "      <th>_VEGLT1A</th>\n",
       "      <th>_FRT16A</th>\n",
       "      <th>_VEG23A</th>\n",
       "      <th>_FRUITE1</th>\n",
       "      <th>_VEGETE1</th>\n",
       "      <th>_MMSA</th>\n",
       "      <th>_MMSAWT</th>\n",
       "      <th>SEQNO</th>\n",
       "      <th>MMSANAME</th>\n",
       "    </tr>\n",
       "  </thead>\n",
       "  <tbody>\n",
       "    <tr>\n",
       "      <th>0</th>\n",
       "      <td>1200.0</td>\n",
       "      <td>NaN</td>\n",
       "      <td>NaN</td>\n",
       "      <td>NaN</td>\n",
       "      <td>NaN</td>\n",
       "      <td>NaN</td>\n",
       "      <td>NaN</td>\n",
       "      <td>1.0</td>\n",
       "      <td>1.0</td>\n",
       "      <td>1.0</td>\n",
       "      <td>...</td>\n",
       "      <td>2.0</td>\n",
       "      <td>1.0</td>\n",
       "      <td>1.0</td>\n",
       "      <td>1.0</td>\n",
       "      <td>5.397605e-79</td>\n",
       "      <td>5.397605e-79</td>\n",
       "      <td>10100.0</td>\n",
       "      <td>90.030265</td>\n",
       "      <td>2.021000e+09</td>\n",
       "      <td>b'Aberdeen, SD, Micropolitan Statistical Area'</td>\n",
       "    </tr>\n",
       "    <tr>\n",
       "      <th>1</th>\n",
       "      <td>1200.0</td>\n",
       "      <td>NaN</td>\n",
       "      <td>NaN</td>\n",
       "      <td>NaN</td>\n",
       "      <td>NaN</td>\n",
       "      <td>NaN</td>\n",
       "      <td>NaN</td>\n",
       "      <td>1.0</td>\n",
       "      <td>1.0</td>\n",
       "      <td>1.0</td>\n",
       "      <td>...</td>\n",
       "      <td>2.0</td>\n",
       "      <td>1.0</td>\n",
       "      <td>1.0</td>\n",
       "      <td>1.0</td>\n",
       "      <td>5.397605e-79</td>\n",
       "      <td>5.397605e-79</td>\n",
       "      <td>10100.0</td>\n",
       "      <td>29.643176</td>\n",
       "      <td>2.021000e+09</td>\n",
       "      <td>b'Aberdeen, SD, Micropolitan Statistical Area'</td>\n",
       "    </tr>\n",
       "    <tr>\n",
       "      <th>2</th>\n",
       "      <td>1200.0</td>\n",
       "      <td>NaN</td>\n",
       "      <td>NaN</td>\n",
       "      <td>NaN</td>\n",
       "      <td>NaN</td>\n",
       "      <td>NaN</td>\n",
       "      <td>NaN</td>\n",
       "      <td>1.0</td>\n",
       "      <td>1.0</td>\n",
       "      <td>2.0</td>\n",
       "      <td>...</td>\n",
       "      <td>1.0</td>\n",
       "      <td>1.0</td>\n",
       "      <td>1.0</td>\n",
       "      <td>1.0</td>\n",
       "      <td>5.397605e-79</td>\n",
       "      <td>5.397605e-79</td>\n",
       "      <td>10100.0</td>\n",
       "      <td>37.000680</td>\n",
       "      <td>2.021000e+09</td>\n",
       "      <td>b'Aberdeen, SD, Micropolitan Statistical Area'</td>\n",
       "    </tr>\n",
       "    <tr>\n",
       "      <th>3</th>\n",
       "      <td>1200.0</td>\n",
       "      <td>NaN</td>\n",
       "      <td>NaN</td>\n",
       "      <td>NaN</td>\n",
       "      <td>NaN</td>\n",
       "      <td>NaN</td>\n",
       "      <td>NaN</td>\n",
       "      <td>1.0</td>\n",
       "      <td>1.0</td>\n",
       "      <td>1.0</td>\n",
       "      <td>...</td>\n",
       "      <td>1.0</td>\n",
       "      <td>1.0</td>\n",
       "      <td>1.0</td>\n",
       "      <td>1.0</td>\n",
       "      <td>5.397605e-79</td>\n",
       "      <td>5.397605e-79</td>\n",
       "      <td>10100.0</td>\n",
       "      <td>49.702755</td>\n",
       "      <td>2.021000e+09</td>\n",
       "      <td>b'Aberdeen, SD, Micropolitan Statistical Area'</td>\n",
       "    </tr>\n",
       "    <tr>\n",
       "      <th>4</th>\n",
       "      <td>1200.0</td>\n",
       "      <td>NaN</td>\n",
       "      <td>NaN</td>\n",
       "      <td>NaN</td>\n",
       "      <td>NaN</td>\n",
       "      <td>NaN</td>\n",
       "      <td>NaN</td>\n",
       "      <td>1.0</td>\n",
       "      <td>1.0</td>\n",
       "      <td>2.0</td>\n",
       "      <td>...</td>\n",
       "      <td>1.0</td>\n",
       "      <td>1.0</td>\n",
       "      <td>1.0</td>\n",
       "      <td>1.0</td>\n",
       "      <td>5.397605e-79</td>\n",
       "      <td>5.397605e-79</td>\n",
       "      <td>10100.0</td>\n",
       "      <td>15.396983</td>\n",
       "      <td>2.021000e+09</td>\n",
       "      <td>b'Aberdeen, SD, Micropolitan Statistical Area'</td>\n",
       "    </tr>\n",
       "  </tbody>\n",
       "</table>\n",
       "<p>5 rows × 152 columns</p>\n",
       "</div>"
      ],
      "text/plain": [
       "   DISPCODE  STATERE1  CELPHON1  LADULT1  COLGSEX  LANDSEX  RESPSLCT  \\\n",
       "0    1200.0       NaN       NaN      NaN      NaN      NaN       NaN   \n",
       "1    1200.0       NaN       NaN      NaN      NaN      NaN       NaN   \n",
       "2    1200.0       NaN       NaN      NaN      NaN      NaN       NaN   \n",
       "3    1200.0       NaN       NaN      NaN      NaN      NaN       NaN   \n",
       "4    1200.0       NaN       NaN      NaN      NaN      NaN       NaN   \n",
       "\n",
       "   SAFETIME  CADULT1  CELLSEX  ...  _FRTLT1A  _VEGLT1A  _FRT16A  _VEG23A  \\\n",
       "0       1.0      1.0      1.0  ...       2.0       1.0      1.0      1.0   \n",
       "1       1.0      1.0      1.0  ...       2.0       1.0      1.0      1.0   \n",
       "2       1.0      1.0      2.0  ...       1.0       1.0      1.0      1.0   \n",
       "3       1.0      1.0      1.0  ...       1.0       1.0      1.0      1.0   \n",
       "4       1.0      1.0      2.0  ...       1.0       1.0      1.0      1.0   \n",
       "\n",
       "       _FRUITE1      _VEGETE1    _MMSA    _MMSAWT         SEQNO  \\\n",
       "0  5.397605e-79  5.397605e-79  10100.0  90.030265  2.021000e+09   \n",
       "1  5.397605e-79  5.397605e-79  10100.0  29.643176  2.021000e+09   \n",
       "2  5.397605e-79  5.397605e-79  10100.0  37.000680  2.021000e+09   \n",
       "3  5.397605e-79  5.397605e-79  10100.0  49.702755  2.021000e+09   \n",
       "4  5.397605e-79  5.397605e-79  10100.0  15.396983  2.021000e+09   \n",
       "\n",
       "                                         MMSANAME  \n",
       "0  b'Aberdeen, SD, Micropolitan Statistical Area'  \n",
       "1  b'Aberdeen, SD, Micropolitan Statistical Area'  \n",
       "2  b'Aberdeen, SD, Micropolitan Statistical Area'  \n",
       "3  b'Aberdeen, SD, Micropolitan Statistical Area'  \n",
       "4  b'Aberdeen, SD, Micropolitan Statistical Area'  \n",
       "\n",
       "[5 rows x 152 columns]"
      ]
     },
     "execution_count": 4,
     "metadata": {},
     "output_type": "execute_result"
    }
   ],
   "source": [
    "data.head()"
   ]
  },
  {
   "cell_type": "code",
   "execution_count": 5,
   "metadata": {},
   "outputs": [
    {
     "name": "stdout",
     "output_type": "stream",
     "text": [
      "DISPCODE: 0\n",
      "STATERE1: 172268\n",
      "CELPHON1: 172268\n",
      "LADULT1: 172268\n",
      "COLGSEX: 227774\n",
      "LANDSEX: 204447\n",
      "RESPSLCT: 196968\n",
      "SAFETIME: 55524\n",
      "CADULT1: 55524\n",
      "CELLSEX: 55525\n",
      "HHADULT: 55525\n",
      "SEXVAR: 0\n",
      "GENHLTH: 2\n",
      "PHYSHLTH: 2\n",
      "MENTHLTH: 0\n",
      "POORHLTH: 104941\n",
      "PRIMINSR: 1\n",
      "PERSDOC3: 0\n",
      "MEDCOST1: 1\n",
      "CHECKUP1: 0\n",
      "EXERANY2: 0\n",
      "BPHIGH6: 0\n",
      "BPMEDS: 143010\n",
      "CHOLCHK3: 0\n",
      "TOLDHI3: 29849\n",
      "CHOLMED3: 30130\n",
      "CVDINFR4: 0\n",
      "CVDCRHD4: 0\n",
      "CVDSTRK3: 0\n",
      "ASTHMA3: 0\n",
      "ASTHNOW: 195581\n",
      "CHCSCNCR: 0\n",
      "CHCOCNCR: 0\n",
      "CHCCOPD3: 0\n",
      "ADDEPEV3: 0\n",
      "CHCKDNY2: 0\n",
      "DIABETE4: 0\n",
      "DIABAGE3: 199821\n",
      "HAVARTH5: 0\n",
      "ARTHEXER: 158813\n",
      "ARTHEDU: 158813\n",
      "LMTJOIN3: 158813\n",
      "ARTHDIS2: 158813\n",
      "JOINPAI2: 158813\n",
      "MARITAL: 1\n",
      "EDUCA: 0\n",
      "RENTHOM1: 1\n",
      "NUMHHOL3: 172269\n",
      "NUMPHON3: 211707\n",
      "CPDEMO1B: 170\n",
      "VETERAN3: 949\n",
      "EMPLOY1: 2047\n",
      "CHILDREN: 3540\n",
      "INCOME3: 5154\n",
      "PREGNANT: 182883\n",
      "WEIGHT2: 6747\n",
      "HEIGHT3: 7408\n",
      "DEAF: 8316\n",
      "BLIND: 8973\n",
      "DECIDE: 9547\n",
      "DIFFWALK: 10201\n",
      "DIFFDRES: 10646\n",
      "DIFFALON: 11222\n",
      "SMOKE100: 12001\n",
      "SMOKDAY2: 145458\n",
      "USENOW3: 12408\n",
      "ECIGNOW1: 13013\n",
      "ALCDAY5: 13868\n",
      "AVEDRNK3: 113057\n",
      "DRNK3GE5: 113425\n",
      "MAXDRNKS: 113755\n",
      "FLUSHOT7: 15649\n",
      "FLSHTMY3: 115386\n",
      "IMFVPLA2: 117527\n",
      "PNEUVAC4: 16477\n",
      "HIVTST7: 17092\n",
      "HIVTSTD3: 155405\n",
      "FRUIT2: 19309\n",
      "FRUITJU2: 20191\n",
      "FVGREEN1: 20850\n",
      "FRENCHF1: 21453\n",
      "POTATOE1: 22080\n",
      "VEGETAB2: 22778\n",
      "_STSTR: 0\n",
      "_IMPSEX: 0\n",
      "CAGEG: 201128\n",
      "_RFHLTH: 0\n",
      "_PHYS14D: 0\n",
      "_MENT14D: 0\n",
      "_HLTHPLN: 0\n",
      "_HCVU652: 0\n",
      "_TOTINDA: 0\n",
      "_RFHYPE6: 0\n",
      "_CHOLCH3: 0\n",
      "_RFCHOL3: 29981\n",
      "_MICHD: 2308\n",
      "_LTASTH1: 0\n",
      "_CASTHM1: 0\n",
      "_ASTHMS1: 0\n",
      "_DRDXAR3: 1480\n",
      "_LMTACT3: 1480\n",
      "_LMTWRK3: 1480\n",
      "_PRACE1: 0\n",
      "_MRACE1: 0\n",
      "_HISPANC: 0\n",
      "_RACE: 0\n",
      "_RACEG21: 0\n",
      "_RACEGR3: 0\n",
      "_RACEPRV: 0\n",
      "_SEX: 0\n",
      "_AGEG5YR: 0\n",
      "_AGE65YR: 0\n",
      "_AGE80: 0\n",
      "_AGE_G: 0\n",
      "WTKG3: 22711\n",
      "_BMI5: 26341\n",
      "_BMI5CAT: 26341\n",
      "_RFBMI5: 0\n",
      "_EDUCAG: 0\n",
      "_INCOMG1: 0\n",
      "_SMOKER3: 0\n",
      "_RFSMOK3: 0\n",
      "_CURECI1: 0\n",
      "DRNKANY5: 0\n",
      "_RFBING5: 0\n",
      "_DRNKWK1: 0\n",
      "_RFDRHV7: 0\n",
      "_FLSHOT7: 149524\n",
      "_PNEUMO3: 149524\n",
      "_AIDTST4: 17092\n",
      "FTJUDA2_: 24654\n",
      "FRUTDA2_: 24097\n",
      "GRENDA1_: 24449\n",
      "FRNCHDA_: 24886\n",
      "POTADA1_: 26756\n",
      "VEGEDA2_: 26817\n",
      "_MISFRT1: 0\n",
      "_MISVEG1: 0\n",
      "_FRTRES1: 0\n",
      "_VEGRES1: 0\n",
      "_FRUTSU1: 27859\n",
      "_VEGESU1: 32613\n",
      "_FRTLT1A: 0\n",
      "_VEGLT1A: 0\n",
      "_FRT16A: 0\n",
      "_VEG23A: 0\n",
      "_FRUITE1: 0\n",
      "_VEGETE1: 0\n",
      "_MMSA: 0\n",
      "_MMSAWT: 0\n",
      "SEQNO: 0\n",
      "MMSANAME: 0\n"
     ]
    }
   ],
   "source": [
    "# Some columns have many null values\n",
    "isna_data = data.isna().sum()\n",
    "for column, count in isna_data.items():\n",
    "    print(f\"{column}: {count}\")"
   ]
  },
  {
   "cell_type": "code",
   "execution_count": 5,
   "metadata": {},
   "outputs": [
    {
     "data": {
      "text/plain": [
       "(0, 152)"
      ]
     },
     "execution_count": 5,
     "metadata": {},
     "output_type": "execute_result"
    }
   ],
   "source": [
    "# If we were to drop all null values, the data would have no records left\n",
    "data.dropna().shape"
   ]
  },
  {
   "cell_type": "markdown",
   "metadata": {},
   "source": [
    "## Hand-pick Variables\n",
    "Select some interesting columns from the dataset."
   ]
  },
  {
   "cell_type": "markdown",
   "metadata": {},
   "source": [
    "#### Columns"
   ]
  },
  {
   "cell_type": "code",
   "execution_count": 3,
   "metadata": {},
   "outputs": [],
   "source": [
    "columns = [\n",
    "    # === List with all meaningful columns ===\n",
    "    [\n",
    "        # Sec 1 Health Status\n",
    "        '_RFHLTH',\n",
    "\n",
    "        # Sec 2 Healthy Days\n",
    "        '_PHYS14D',\n",
    "        '_MENT14D',\n",
    "\n",
    "        # Sec 3 Health Care Access\n",
    "        '_HLTHPLN',\n",
    "        '_HCVU652',\n",
    "\n",
    "        # Sec 4 Exercise\n",
    "        '_TOTINDA',\n",
    "\n",
    "        # Sec 5 Hypertension Awareness\n",
    "        '_RFHYPE6',\n",
    "\n",
    "        # Sec 6 Cholesterol Awareness\n",
    "        '_CHOLCH3',\n",
    "        '_RFCHOL3',\n",
    "\n",
    "        # Sec 7 Chronic Health Conditions\n",
    "        '_MICHD',\n",
    "\n",
    "        # Sec 8 Arthritis\n",
    "        '_DRDXAR3',\n",
    "        '_LMTACT3',\n",
    "        '_LMTWRK3',\n",
    "\n",
    "        # Sec 11 Tobacco Use\n",
    "        '_SMOKER3',\n",
    "        '_RFSMOK3',\n",
    "        '_CURECI1',\n",
    "\n",
    "        # Sec 12 Alcohol Consumption\n",
    "        'DRNKANY5',\n",
    "        'ALCDAY5',\n",
    "        '_RFBING5',\n",
    "        '_DRNKWK1',\n",
    "        '_RFDRHV7',\n",
    "\n",
    "        # Sec 14 HIV/AIDS\n",
    "        '_AIDTST4',\n",
    "\n",
    "        # Sec 15 Fruits & Vegetables\n",
    "        'FTJUDA2_',\n",
    "        'FRUTDA2_',\n",
    "        'GRENDA1_',\n",
    "        'FRNCHDA_',\n",
    "        'POTADA1_',\n",
    "        'VEGEDA2_',\n",
    "        '_FRUTSU1',\n",
    "        '_VEGESU1',\n",
    "        '_FRTLT1A',\n",
    "        '_VEGLT1A',\n",
    "        \n",
    "        # Sec 9 Demographics\n",
    "        '_INCOMG1',\n",
    "        '_EDUCAG',\n",
    "        'CHILDREN',\n",
    "        '_RFBMI5',\n",
    "        '_BMI5CAT',\n",
    "        '_BMI5',\n",
    "        'WTKG3',\n",
    "        'HEIGHT3',\n",
    "        '_AGE_G',\n",
    "        '_AGE80',\n",
    "        '_AGE65YR',\n",
    "        '_AGEG5YR',\n",
    "        '_SEX',\n",
    "        '_RACEPRV',\n",
    "        '_RACEGR3',\n",
    "        '_RACEG21',\n",
    "        '_RACE',\n",
    "        '_HISPANC',\n",
    "        '_MRACE1',\n",
    "        '_PRACE1'\n",
    "    ],\n",
    "\n",
    "    # === 1st subset of all the meaningful columns === \n",
    "    [\n",
    "        # Sec 1 Health Status\n",
    "        '_RFHLTH',\n",
    "\n",
    "        # Sec 2 Healthy Days\n",
    "        '_PHYS14D',\n",
    "        '_MENT14D',\n",
    "\n",
    "        # Sec 3 Health Care Access\n",
    "        '_HLTHPLN',\n",
    "        '_HCVU652',\n",
    "\n",
    "        # Sec 4 Exercise\n",
    "        '_TOTINDA',\n",
    "\n",
    "        # Sec 5 Hypertension Awareness\n",
    "        '_RFHYPE6',\n",
    "\n",
    "        # Sec 6 Cholesterol Awareness\n",
    "        '_CHOLCH3',\n",
    "        '_RFCHOL3',\n",
    "\n",
    "        # Sec 7 Chronic Health Conditions\n",
    "        '_MICHD',\n",
    "\n",
    "        # Sec 8 Arthritis\n",
    "\n",
    "        # Sec 11 Tobacco Use\n",
    "        '_SMOKER3',\n",
    "\n",
    "        # Sec 12 Alcohol Consumption\n",
    "        '_RFBING5',\n",
    "        '_RFDRHV7',\n",
    "\n",
    "        # Sec 14 HIV/AIDS\n",
    "        '_AIDTST4',\n",
    "\n",
    "        # Sec 15 Fruits & Vegetables\n",
    "        '_FRUTSU1',\n",
    "        '_VEGESU1',\n",
    "        \n",
    "        # Sec 9 Demographics\n",
    "        '_INCOMG1',\n",
    "        '_EDUCAG',\n",
    "        '_RFBMI5',\n",
    "        '_BMI5CAT',\n",
    "        '_AGE_G',\n",
    "        '_SEX',\n",
    "        '_RACE'\n",
    "    ],\n",
    "\n",
    "\n",
    "    # === 2nd subset of all the meaningul columns ===\n",
    "    [\n",
    "        # Sec 1 Health Status\n",
    "        '_RFHLTH',\n",
    "\n",
    "        # Sec 2 Healthy Days\n",
    "        '_PHYS14D',\n",
    "        '_MENT14D',\n",
    "\n",
    "        # Sec 3 Health Care Access\n",
    "        '_HLTHPLN',\n",
    "        '_HCVU652',\n",
    "\n",
    "        # Sec 4 Exercise\n",
    "        '_TOTINDA',\n",
    "\n",
    "        # Sec 5 Hypertension Awareness\n",
    "        '_RFHYPE6',\n",
    "\n",
    "        # Sec 6 Cholesterol Awareness\n",
    "        '_CHOLCH3',\n",
    "        '_RFCHOL3',\n",
    "\n",
    "        # Sec 7 Chronic Health Conditions\n",
    "        '_MICHD',\n",
    "\n",
    "        # Sec 8 Arthritis\n",
    "        \n",
    "\n",
    "        # Sec 11 Tobacco Use\n",
    "        '_SMOKER3',\n",
    "\n",
    "        # Sec 12 Alcohol Consumption\n",
    "        '_RFBING5',\n",
    "        '_RFDRHV7',\n",
    "\n",
    "        # Sec 14 HIV/AIDS\n",
    "        '_AIDTST4',\n",
    "\n",
    "        # Sec 15 Fruits & Vegetables\n",
    "        '_FRTLT1A',\n",
    "        '_VEGLT1A',\n",
    "        \n",
    "        # Sec 9 Demographics\n",
    "        '_INCOMG1',\n",
    "        '_EDUCAG',\n",
    "        '_RFBMI5',\n",
    "        '_BMI5CAT',\n",
    "        '_AGE_G',\n",
    "        '_SEX',\n",
    "        '_RACE'\n",
    "    ]\n",
    "]"
   ]
  },
  {
   "cell_type": "markdown",
   "metadata": {},
   "source": [
    "#### Categorical and Continuous Columns\n",
    "We can use the one hot encoder to properly encode the values of each categorical variable that exhibits no apparent order."
   ]
  },
  {
   "cell_type": "code",
   "execution_count": 4,
   "metadata": {},
   "outputs": [],
   "source": [
    "\"\"\"\n",
    "\n",
    "1: For categorical\n",
    "2: For continuous\n",
    "\n",
    "\"\"\"\n",
    "\n",
    "cat_con_variables = {\n",
    "    # Sec 1 Health Status\n",
    "    '_RFHLTH': 1,\n",
    "\n",
    "    # Sec 2 Healthy Days\n",
    "    '_PHYS14D': 1,\n",
    "    '_MENT14D': 1,\n",
    "\n",
    "    # Sec 3 Health Care Access\n",
    "    '_HLTHPLN': 1,\n",
    "    '_HCVU652': 1,\n",
    "\n",
    "    # Sec 4 Exercise\n",
    "    '_TOTINDA': 1,\n",
    "\n",
    "    # Sec 5 Hypertension Awareness\n",
    "    '_RFHYPE6': 1,\n",
    "\n",
    "    # Sec 6 Cholesterol Awareness\n",
    "    '_CHOLCH3': 1,\n",
    "    '_RFCHOL3': 1,\n",
    "\n",
    "    # Sec 7 Chronic Health Conditions\n",
    "    '_MICHD': 1,\n",
    "\n",
    "    # Sec 8 Arthritis\n",
    "    '_DRDXAR3': 1,\n",
    "    '_LMTACT3': 1,\n",
    "    '_LMTWRK3': 1,\n",
    "\n",
    "    # Sec 11 Tobacco Use\n",
    "    '_SMOKER3': 1,\n",
    "    '_RFSMOK3': 1,\n",
    "    '_CURECI1': 1,\n",
    "\n",
    "    # Sec 12 Alcohol Consumption\n",
    "    'DRNKANY5': 1,\n",
    "    'ALCDAY5': 2,\n",
    "    '_RFBING5': 1,\n",
    "    '_DRNKWK1': 2,\n",
    "    '_RFDRHV7': 1,\n",
    "\n",
    "    # Sec 14 HIV/AIDS\n",
    "    '_AIDTST4': 1,\n",
    "\n",
    "    # Sec 15 Fruits & Vegetables\n",
    "    'FTJUDA2_': 2,\n",
    "    'FRUTDA2_': 2,\n",
    "    'GRENDA1_': 2,\n",
    "    'FRNCHDA_': 2,\n",
    "    'POTADA1_': 2,\n",
    "    'VEGEDA2_': 2,\n",
    "    '_FRUTSU1': 2,\n",
    "    '_VEGESU1': 2,\n",
    "    '_FRTLT1A': 1,\n",
    "    '_VEGLT1A': 1,\n",
    "    \n",
    "    # Sec 9 Demographics\n",
    "    '_INCOMG1': 1,\n",
    "    '_EDUCAG': 1,\n",
    "    'CHILDREN': 1,\n",
    "    '_RFBMI5': 1,\n",
    "    '_BMI5CAT': 1,\n",
    "    '_BMI5': 2,\n",
    "    'WTKG3': 2,\n",
    "    'HEIGHT3': 2,\n",
    "    \n",
    "    # === The age variables can remain the same because their values represent a natural ordering ===\n",
    "    '_AGE_G': 1,\n",
    "    '_AGE80': 1,\n",
    "    '_AGE65YR': 1,\n",
    "    '_AGEG5YR': 1,\n",
    "    \n",
    "    '_SEX': 1,\n",
    "    '_RACEPRV': 1,\n",
    "    '_RACEGR3': 1,\n",
    "    '_RACEG21': 1,\n",
    "    '_RACE': 1,\n",
    "    '_HISPANC': 1,\n",
    "    '_MRACE1': 1,\n",
    "    '_PRACE1': 1\n",
    "}"
   ]
  },
  {
   "cell_type": "markdown",
   "metadata": {},
   "source": [
    "#### Column Values that are Irrelevant\n",
    "Some columns/variables have values, such as \"Dont Know/Not Sure\", that are irrelevant to the analysis. These values are included in data mining methods but can be ignored in NLP mehtods. NLP methods handle text sequences of varying forms."
   ]
  },
  {
   "cell_type": "code",
   "execution_count": 5,
   "metadata": {},
   "outputs": [],
   "source": [
    "irrel_col_values = {\n",
    "    # Sec 1 Health Status\n",
    "    '_RFHLTH': 9,\n",
    "\n",
    "    # Sec 2 Healthy Days\n",
    "    '_PHYS14D': 9,\n",
    "    '_MENT14D': 9,\n",
    "\n",
    "    # Sec 3 Health Care Access\n",
    "    '_HLTHPLN': 9,\n",
    "    '_HCVU652': 9,\n",
    "\n",
    "    # Sec 4 Exercise\n",
    "    '_TOTINDA': 9,\n",
    "\n",
    "    # Sec 5 Hypertension Awareness\n",
    "    '_RFHYPE6': 9,\n",
    "\n",
    "    # Sec 6 Cholesterol Awareness\n",
    "    '_CHOLCH3': 9,\n",
    "    '_RFCHOL3': 9,\n",
    "\n",
    "    # Sec 7 Chronic Health Conditions\n",
    "\n",
    "    # Sec 8 Arthritis\n",
    "    '_LMTACT3': 9,\n",
    "    '_LMTWRK3': 9,\n",
    "\n",
    "    # Sec 11 Tobacco Use\n",
    "    '_SMOKER3': 9,\n",
    "    '_RFSMOK3': 9,\n",
    "    '_CURECI1': 9,\n",
    "\n",
    "    # Sec 12 Alcohol Consumption\n",
    "    'DRNKANY5': 9,\n",
    "    'ALCDAY5': 900,\n",
    "    '_RFBING5': 9,\n",
    "    '_DRNKWK1': 99900,\n",
    "    '_RFDRHV7': 9,\n",
    "\n",
    "    # Sec 14 HIV/AIDS\n",
    "    '_AIDTST4': 9,\n",
    "\n",
    "    # Sec 15 Fruits & Vegetables\n",
    "    '_FRTLT1A': 9,\n",
    "    '_VEGLT1A': 9,\n",
    "    \n",
    "    # Sec 9 Demographics\n",
    "    '_INCOMG1': 9,\n",
    "    '_EDUCAG': 9,\n",
    "    'CHILDREN': 9,\n",
    "    '_RFBMI5': 9,\n",
    "    '_AGE65YR': 3,\n",
    "    '_AGEG5YR': 14,\n",
    "    '_RACEGR3': 9,\n",
    "    '_RACEG21': 9,\n",
    "    '_RACE': 9,\n",
    "    '_HISPANC': 9,\n",
    "    '_MRACE1': [77,99],\n",
    "    '_PRACE1': [77, 99]\n",
    "}"
   ]
  },
  {
   "cell_type": "code",
   "execution_count": 6,
   "metadata": {},
   "outputs": [
    {
     "name": "stdout",
     "output_type": "stream",
     "text": [
      "Number of rows with value 9 in column '_RFHLTH': 601\n",
      "Number of rows with value 9 in column '_PHYS14D': 4691\n",
      "Number of rows with value 9 in column '_MENT14D': 4011\n",
      "Number of rows with value 9 in column '_HLTHPLN': 9341\n",
      "Number of rows with value 9 in column '_HCVU652': 83992\n",
      "Number of rows with value 9 in column '_TOTINDA': 454\n",
      "Number of rows with value 9 in column '_RFHYPE6': 1031\n",
      "Number of rows with value 9 in column '_CHOLCH3': 15155\n",
      "Number of rows with value 9 in column '_RFCHOL3': 1639\n",
      "Number of rows with value 9 in column '_LMTACT3': 712\n",
      "Number of rows with value 9 in column '_LMTWRK3': 1664\n",
      "Number of rows with value 9 in column '_SMOKER3': 14005\n",
      "Number of rows with value 9 in column '_RFSMOK3': 14005\n",
      "Number of rows with value 9 in column '_CURECI1': 13478\n",
      "Number of rows with value 9 in column 'DRNKANY5': 15146\n",
      "Number of rows with value 900 in column 'ALCDAY5': 0\n",
      "Number of rows with value 9 in column '_RFBING5': 19641\n",
      "Number of rows with value 99900 in column '_DRNKWK1': 19412\n",
      "Number of rows with value 9 in column '_RFDRHV7': 19412\n",
      "Number of rows with value 9 in column '_AIDTST4': 11198\n",
      "Number of rows with value 9 in column '_FRTLT1A': 27859\n",
      "Number of rows with value 9 in column '_VEGLT1A': 32613\n",
      "Number of rows with value 9 in column '_INCOMG1': 50442\n",
      "Number of rows with value 9 in column '_EDUCAG': 1471\n",
      "Number of rows with value 9 in column 'CHILDREN': 23\n",
      "Number of rows with value 9 in column '_RFBMI5': 26341\n",
      "Number of rows with value 3 in column '_AGE65YR': 5586\n",
      "Number of rows with value 14 in column '_AGEG5YR': 5586\n",
      "Number of rows with value 9 in column '_RACEGR3': 6007\n",
      "Number of rows with value 9 in column '_RACEG21': 6007\n",
      "Number of rows with value 9 in column '_RACE': 6007\n",
      "Number of rows with value 9 in column '_HISPANC': 3241\n",
      "Number of rows with values in [77, 99] in column '_MRACE1': 7869\n",
      "Number of rows with values in [77, 99] in column '_PRACE1': 7869\n",
      "Size of the dataset after removing rows with specified values: 84002\n"
     ]
    }
   ],
   "source": [
    "for column, values in irrel_col_values.items():\n",
    "    if isinstance(values, int):  \n",
    "        num_rows = len(data[data[column] == values])\n",
    "        print(f\"Number of rows with value {values} in column '{column}': {num_rows}\")\n",
    "    elif isinstance(values, list):  \n",
    "        num_rows = len(data[data[column].isin(values)])\n",
    "        print(f\"Number of rows with values in {values} in column '{column}': {num_rows}\")\n",
    "\n",
    "# Calculating the size of the dataset after removing rows with specified values\n",
    "filtered_data = data.copy() \n",
    "for column, values in irrel_col_values.items():\n",
    "    if isinstance(values, int):  \n",
    "        filtered_data = filtered_data[filtered_data[column] != values]\n",
    "    elif isinstance(values, list):  \n",
    "        filtered_data = filtered_data[~filtered_data[column].isin(values)]\n",
    "\n",
    "# Calculate the size of the filtered dataset\n",
    "filtered_size = filtered_data.shape[0]\n",
    "print(f\"Size of the dataset after removing rows with specified values: {filtered_size}\")"
   ]
  },
  {
   "cell_type": "markdown",
   "metadata": {},
   "source": [
    "Some columns described in the 2021 SMART City and Country CodeBook are derived from other columns in the dataset.\n",
    "\n",
    "- DROCDY3_ Calculated variable for drink-occasions-per-day. DROCDY3_ is derived from ALCDAY5 by dividing the ALCDAY5 variable by 7 days per week or 30 days per month.\n",
    "\n",
    "- _CHLDCNT Calculated variable for number of children in household. _CHLDCNT is derived from CHILDREN.\n",
    "\n",
    "- HTM4 Calculated variable for reported height in meters. HTM4 is derived from the variable HTIN4 by multiplying HTIN4 by 2.54 cm per in and dividing by 100 cm per meter. HTM4 is derived from HEIGHT2 metric values by dividing by 100.\n",
    "\n",
    "- HTIN4 Calculated variable for reported height in inches. HTIN4 is derived from HEIGHT3. HTIN4 is calculated by adding the foot portion of HEIGHT3 multiplied by 12, to the inch portion. "
   ]
  },
  {
   "cell_type": "markdown",
   "metadata": {},
   "source": [
    "## Candidate Dataframe Creation"
   ]
  },
  {
   "cell_type": "code",
   "execution_count": null,
   "metadata": {},
   "outputs": [],
   "source": [
    "# Check if the columns selected earlier exist in the dataset\n",
    "for col in columns[0]:\n",
    "    if col in data.columns:\n",
    "        print(col)\n",
    "    else:\n",
    "        print(f'{col} does not exist')"
   ]
  },
  {
   "cell_type": "code",
   "execution_count": 62,
   "metadata": {},
   "outputs": [
    {
     "name": "stdout",
     "output_type": "stream",
     "text": [
      "_RFHLTH: 0\n",
      "_PHYS14D: 0\n",
      "_MENT14D: 0\n",
      "_HLTHPLN: 0\n",
      "_HCVU652: 0\n",
      "_TOTINDA: 0\n",
      "_RFHYPE6: 0\n",
      "_CHOLCH3: 0\n",
      "_RFCHOL3: 29981\n",
      "_MICHD: 2308\n",
      "_DRDXAR3: 1480\n",
      "_LMTACT3: 1480\n",
      "_LMTWRK3: 1480\n",
      "_SMOKER3: 0\n",
      "_RFSMOK3: 0\n",
      "_CURECI1: 0\n",
      "DRNKANY5: 0\n",
      "ALCDAY5: 13868\n",
      "_RFBING5: 0\n",
      "_DRNKWK1: 0\n",
      "_RFDRHV7: 0\n",
      "_AIDTST4: 17092\n",
      "FTJUDA2_: 24654\n",
      "FRUTDA2_: 24097\n",
      "GRENDA1_: 24449\n",
      "FRNCHDA_: 24886\n",
      "POTADA1_: 26756\n",
      "VEGEDA2_: 26817\n",
      "_FRUTSU1: 27859\n",
      "_VEGESU1: 32613\n",
      "_FRTLT1A: 0\n",
      "_VEGLT1A: 0\n",
      "_INCOMG1: 0\n",
      "_EDUCAG: 0\n",
      "CHILDREN: 3540\n",
      "_RFBMI5: 0\n",
      "_BMI5CAT: 26341\n",
      "_BMI5: 26341\n",
      "WTKG3: 22711\n",
      "HEIGHT3: 7408\n",
      "_AGE_G: 0\n",
      "_AGE80: 0\n",
      "_AGE65YR: 0\n",
      "_AGEG5YR: 0\n",
      "_SEX: 0\n",
      "_RACEPRV: 0\n",
      "_RACEGR3: 0\n",
      "_RACEG21: 0\n",
      "_RACE: 0\n",
      "_HISPANC: 0\n",
      "_MRACE1: 0\n",
      "_PRACE1: 0\n"
     ]
    }
   ],
   "source": [
    "# How many null values each selected column has\n",
    "isna_data = data[columns[0]].isna().sum()\n",
    "for column, count in isna_data.items():\n",
    "    print(f\"{column}: {count}\")"
   ]
  },
  {
   "cell_type": "code",
   "execution_count": 6,
   "metadata": {},
   "outputs": [],
   "source": [
    "# Create dataframes based on the selected columns\n",
    "# Question: Should we drop the rows with null values?\n",
    "dataframes = [\n",
    "    data[columns[0]].dropna().copy(),\n",
    "    data[columns[1]].dropna().copy(),\n",
    "    data[columns[2]].dropna().copy(),\n",
    "]"
   ]
  },
  {
   "cell_type": "code",
   "execution_count": null,
   "metadata": {},
   "outputs": [],
   "source": [
    "object_cols = []\n",
    "for col, cat_con_var in cat_con_variables.items():\n",
    "    if cat_con_var == 1:\n",
    "        object_cols.append(col)\n",
    "\n",
    "print(f'Categorical Columns: \\n{object_cols}')"
   ]
  },
  {
   "cell_type": "code",
   "execution_count": 7,
   "metadata": {},
   "outputs": [],
   "source": [
    "for dataframe in dataframes:\n",
    "    dataframe['_MICHD'] = dataframe['_MICHD'].replace({1.0: 1, 2.0: 2})\n",
    "    dataframe['_MICHD'] = dataframe['_MICHD'].astype('int64')\n",
    "\n",
    "    # Convert categorical columns to integers\n",
    "    for column, col_type in cat_con_variables.items():\n",
    "        if col_type == 1 and (column in dataframe.columns):  # Check if the column is categorical\n",
    "            dataframe[column] = dataframe[column].astype('int64')\n",
    "\n",
    "    # Use this if you want to utilize the one hot encoder\n",
    "    # The one hot encoder will create sub-variables for each distinct value of a variable\n",
    "    #dataframe = pd.get_dummies(dataframe, columns=object_cols)"
   ]
  },
  {
   "cell_type": "code",
   "execution_count": 8,
   "metadata": {},
   "outputs": [
    {
     "data": {
      "text/plain": [
       "_MICHD\n",
       "2    141513\n",
       "1     12410\n",
       "Name: count, dtype: int64"
      ]
     },
     "execution_count": 8,
     "metadata": {},
     "output_type": "execute_result"
    }
   ],
   "source": [
    "dataframes[0]['_MICHD'].value_counts()"
   ]
  },
  {
   "cell_type": "code",
   "execution_count": 18,
   "metadata": {},
   "outputs": [
    {
     "data": {
      "text/plain": [
       "(153923, 52)"
      ]
     },
     "execution_count": 18,
     "metadata": {},
     "output_type": "execute_result"
    }
   ],
   "source": [
    "dataframes[0].shape"
   ]
  },
  {
   "cell_type": "code",
   "execution_count": 13,
   "metadata": {},
   "outputs": [
    {
     "data": {
      "text/plain": [
       "32930"
      ]
     },
     "execution_count": 13,
     "metadata": {},
     "output_type": "execute_result"
    }
   ],
   "source": [
    "# Print the total number of duplicates for one of the categories of variable \"_MICHD\"\n",
    "dataframes[2][dataframes[2]['_MICHD'] == 2].duplicated().sum()"
   ]
  },
  {
   "cell_type": "markdown",
   "metadata": {},
   "source": [
    "### Dataset Sample Creation\n",
    "Create a sample for one of the dataframes for later feature extraction. Another method we can use to take a sample is to split the original dataframe and apply a combination of oversampling and undersampling to the training set."
   ]
  },
  {
   "cell_type": "markdown",
   "metadata": {},
   "source": [
    "First way to create a sample: \n",
    "- Take all the samples from the minority class\n",
    "- Define a percentage of samples that you want to take and subtract the number of minority class samples; that will be the number of majority class samples"
   ]
  },
  {
   "cell_type": "code",
   "execution_count": 48,
   "metadata": {},
   "outputs": [],
   "source": [
    "minority_samples = dataframes[0][dataframes[0]['_MICHD'] == 1.0]\n",
    "\n",
    "num_minority_samples = len(minority_samples)\n",
    "num_majority_samples =  math.floor(dataframes[0].shape[0] * 0.3) - num_minority_samples\n",
    "\n",
    "majority_unique_samples = dataframes[0][dataframes[0]['_MICHD'] == 2.0].drop_duplicates()\n",
    "num_unique_majority_samples = len(majority_unique_samples)\n",
    "\n",
    "majority_samples = majority_unique_samples.sample(n=num_majority_samples)\n",
    "\n",
    "dataframe_sample = pd.concat([minority_samples, majority_samples])"
   ]
  },
  {
   "cell_type": "markdown",
   "metadata": {},
   "source": [
    "Second way to create a sample:\n",
    "- Perform stratified sampling using a percentage of samples"
   ]
  },
  {
   "cell_type": "code",
   "execution_count": null,
   "metadata": {},
   "outputs": [],
   "source": [
    "# Specify the fraction of samples you want to retain in the subset (e.g., 0.5 for 50%)\n",
    "subset_fraction = 0.25\n",
    "\n",
    "# Perform stratified sampling to create a smaller dataframe\n",
    "dataframe_sample = dataframes[0].groupby('_MICHD', group_keys = False).apply(lambda x: x.sample(frac = subset_fraction))"
   ]
  },
  {
   "cell_type": "code",
   "execution_count": 49,
   "metadata": {},
   "outputs": [
    {
     "data": {
      "text/plain": [
       "(46176, 52)"
      ]
     },
     "execution_count": 49,
     "metadata": {},
     "output_type": "execute_result"
    }
   ],
   "source": [
    "dataframe_sample.shape"
   ]
  },
  {
   "cell_type": "code",
   "execution_count": 50,
   "metadata": {},
   "outputs": [
    {
     "data": {
      "text/plain": [
       "_MICHD\n",
       "2    33766\n",
       "1    12410\n",
       "Name: count, dtype: int64"
      ]
     },
     "execution_count": 50,
     "metadata": {},
     "output_type": "execute_result"
    }
   ],
   "source": [
    "dataframe_sample['_MICHD'].value_counts()"
   ]
  },
  {
   "cell_type": "code",
   "execution_count": 13,
   "metadata": {},
   "outputs": [
    {
     "name": "stdout",
     "output_type": "stream",
     "text": [
      "<class 'pandas.core.frame.DataFrame'>\n",
      "Index: 15458 entries, 22120 to 8977\n",
      "Data columns (total 22 columns):\n",
      " #   Column    Non-Null Count  Dtype  \n",
      "---  ------    --------------  -----  \n",
      " 0   _RFHLTH   15458 non-null  float64\n",
      " 1   _PHYS14D  15458 non-null  float64\n",
      " 2   _MENT14D  15458 non-null  float64\n",
      " 3   _HCVU652  15458 non-null  float64\n",
      " 4   _TOTINDA  15458 non-null  float64\n",
      " 5   _RFHYPE6  15458 non-null  float64\n",
      " 6   _CHOLCH3  15458 non-null  float64\n",
      " 7   _RFCHOL3  15458 non-null  float64\n",
      " 8   _MICHD    15458 non-null  float64\n",
      " 9   _SMOKER3  15458 non-null  float64\n",
      " 10  _RFBING5  15458 non-null  float64\n",
      " 11  _RFDRHV7  15458 non-null  float64\n",
      " 12  _AIDTST4  15458 non-null  float64\n",
      " 13  _FRUTSU1  15458 non-null  float64\n",
      " 14  _VEGESU1  15458 non-null  float64\n",
      " 15  _INCOMG1  15458 non-null  float64\n",
      " 16  _EDUCAG   15458 non-null  float64\n",
      " 17  _RFBMI5   15458 non-null  float64\n",
      " 18  _BMI5CAT  15458 non-null  float64\n",
      " 19  _AGE_G    15458 non-null  float64\n",
      " 20  _SEX      15458 non-null  float64\n",
      " 21  _RACE     15458 non-null  float64\n",
      "dtypes: float64(22)\n",
      "memory usage: 2.7 MB\n"
     ]
    }
   ],
   "source": [
    "dataframe_sample.info()"
   ]
  },
  {
   "cell_type": "markdown",
   "metadata": {},
   "source": [
    "## Feature Selection with SVM\n",
    "Feature selection with a linear SVM is time consuming. However, we can use undersampling to take all the instances of the minority class and reduce the size of the majority class. Use this methodology only if you want to improve the results of the classification."
   ]
  },
  {
   "cell_type": "code",
   "execution_count": 6,
   "metadata": {},
   "outputs": [],
   "source": [
    "def calc_cost(y_true, y_pred, cost_matrix):\n",
    "    conf = confusion_matrix(y_true,y_pred).T\n",
    "    return np.sum(conf * cost_matrix)"
   ]
  },
  {
   "cell_type": "code",
   "execution_count": 77,
   "metadata": {},
   "outputs": [],
   "source": [
    "def find_best_params(estimator, params, train_set, validation_set, starting_point = 0):\n",
    "    train_x = train_set[0]\n",
    "    train_y = train_set[1]\n",
    "    test_x = validation_set[0]\n",
    "    test_y = validation_set[1]\n",
    "    \n",
    "    min_cost = np.inf\n",
    "    best_params = {}  \n",
    "    full_params_set = []\n",
    "    \n",
    "    if type(params) == dict:\n",
    "        \n",
    "        for values in product(*params.values()):\n",
    "            point = dict(zip(params.keys(), values))\n",
    "            full_params_set.append(point)\n",
    "        \n",
    "    elif type(params) == list:\n",
    "        \n",
    "        for params_subset in params:\n",
    "            for values in product(*params_subset.values()):\n",
    "                point = dict(zip(params_subset.keys(), values))\n",
    "                full_params_set.append(point)\n",
    "    \n",
    "    else:\n",
    "        return []\n",
    "    \n",
    "    steps = len(full_params_set)\n",
    "    counter = starting_point\n",
    "    print(f\"Testing {steps} models in total.\")\n",
    "    start = time.time()\n",
    "    \n",
    "    performance_log = []\n",
    "    \n",
    "    for params in full_params_set[starting_point:]:\n",
    "\n",
    "        estimator.set_params(**params)\n",
    "        estimator.fit(train_x,train_y)\n",
    "        pred_y = estimator.predict(test_x)\n",
    "        cost_matrix = np.matrix([[0,1], [40,0]])\n",
    "        cost = calc_cost(test_y, pred_y, cost_matrix)\n",
    "\n",
    "        if cost < min_cost:\n",
    "            min_cost = cost\n",
    "            best_params = params\n",
    "        \n",
    "        log = f\"{counter}/{steps} | Cost: {cost} | Elapsed: {int((time.time()-start)*100)/100}s | {params}\"\n",
    "        performance_log.append(log)\n",
    "        print(\"________________________________________________________________________________________\")\n",
    "        print(log)\n",
    "        print(\"________________________________________________________________________________________\")\n",
    "        counter += 1\n",
    "        if counter % 10 == 0:\n",
    "            with open(\"Performance_Logs.txt\", \"w\") as f:\n",
    "                f.write(\"\\n\".join(performance_log))\n",
    "\n",
    "    return best_params"
   ]
  },
  {
   "cell_type": "code",
   "execution_count": 17,
   "metadata": {},
   "outputs": [],
   "source": [
    "linear_params = {\"C\":[0.1,1.0,10.0,100.0],\"kernel\":[\"linear\"]}\n",
    "\n",
    "# If the columns are all of type float, then there is no need to apply label encoding\n",
    "#LE = LabelEncoder()\n",
    "#data_encoded = dataframe_sample.apply(LE.fit_transform, axis = 1)\n",
    "\n",
    "target_column = \"_MICHD\"\n",
    "\n",
    "y = dataframe_sample[target_column]\n",
    "x = dataframe_sample.drop(columns = [target_column])\n",
    "\n",
    "x_train,x_test,y_train,y_test = train_test_split(x, y, test_size = 0.20)\n",
    "x_train,x_val,y_train,y_val = train_test_split(x_train, y_train, test_size = 0.25)"
   ]
  },
  {
   "cell_type": "code",
   "execution_count": null,
   "metadata": {},
   "outputs": [],
   "source": [
    "best_params = find_best_params(SVC(), linear_params, [x_train, y_train], [x_val, y_val])"
   ]
  },
  {
   "cell_type": "code",
   "execution_count": null,
   "metadata": {},
   "outputs": [],
   "source": [
    "print(best_params)"
   ]
  },
  {
   "cell_type": "code",
   "execution_count": null,
   "metadata": {},
   "outputs": [],
   "source": [
    "classifier = SVC(*best_params)\n",
    "classifier.fit(x_train, y_train)\n",
    "weights = zip(list(data.columns),classifier.coef_.todense().data)\n",
    "weights_sorted = {k: v for k, v in sorted(weights.items(), key=lambda item: item[1])}\n",
    "with open(\"Important_Features.json\",\"w\") as f:\n",
    "    json.dump(weights_sorted,f)"
   ]
  },
  {
   "cell_type": "markdown",
   "metadata": {},
   "source": [
    "## Feature Selection with Random Forests\n",
    "We can use the GridSearch, or the RandomizedSearch method with the Random Forest algorithm to evaluate the importance of each variable and identify the optimal features for assessing the risk of MI or CHD."
   ]
  },
  {
   "cell_type": "code",
   "execution_count": 51,
   "metadata": {},
   "outputs": [],
   "source": [
    "target_column = \"_MICHD\"\n",
    "\n",
    "y = dataframe_sample[target_column]\n",
    "x = dataframe_sample.drop(columns = [target_column])"
   ]
  },
  {
   "cell_type": "code",
   "execution_count": 52,
   "metadata": {},
   "outputs": [],
   "source": [
    "# Define the cost matrix\n",
    "cost_matrix = [[0, 0.25],  # Cost of false negative \n",
    "               [1, 0]]  # Cost of false positive"
   ]
  },
  {
   "cell_type": "code",
   "execution_count": 53,
   "metadata": {},
   "outputs": [],
   "source": [
    "# Define a custom scoring function using the cost matrix\n",
    "def custom_score(y_true, y_pred):\n",
    "    cm = confusion_matrix(y_true, y_pred)\n",
    "    cost = np.sum(cm * cost_matrix)\n",
    "    return -cost  # Minimize cost, so negative of cost is returned"
   ]
  },
  {
   "cell_type": "code",
   "execution_count": 54,
   "metadata": {},
   "outputs": [],
   "source": [
    "# Make the custom scoring function into a scorer object\n",
    "custom_scorer = make_scorer(custom_score, greater_is_better = False)"
   ]
  },
  {
   "cell_type": "markdown",
   "metadata": {},
   "source": [
    "### Random Search"
   ]
  },
  {
   "cell_type": "code",
   "execution_count": 55,
   "metadata": {},
   "outputs": [],
   "source": [
    "# Define the parameter distributions to sample from\n",
    "param_dist = {\n",
    "    'n_estimators': randint(50, 200),\n",
    "    'max_depth': [None] + list(range(10, 21)),\n",
    "    'min_samples_split': randint(2, 11)\n",
    "}\n",
    "\n",
    "# Initialize a Random Forest classifier\n",
    "rf_classifier = RandomForestClassifier(random_state=42)\n",
    "\n",
    "# Initialize RandomizedSearchCV with custom scoring\n",
    "random_search = RandomizedSearchCV(estimator=rf_classifier, param_distributions=param_dist, n_iter=10, cv=5, \n",
    "                                   scoring=custom_scorer, n_jobs=4, random_state=42)\n"
   ]
  },
  {
   "cell_type": "markdown",
   "metadata": {},
   "source": [
    "### Grid Search"
   ]
  },
  {
   "cell_type": "code",
   "execution_count": null,
   "metadata": {},
   "outputs": [],
   "source": [
    "# Define the parameter grid to search\n",
    "param_grid = {\n",
    "    'n_estimators': [50, 100, 200],\n",
    "    'max_depth': [None, 10, 20],\n",
    "    'min_samples_split': [2, 5, 10]\n",
    "}\n",
    "\n",
    "# Initialize a Random Forest classifier\n",
    "rf_classifier = RandomForestClassifier(random_state=42)\n",
    "\n",
    "# Initialize GridSearchCV\n",
    "grid_search = GridSearchCV(estimator=rf_classifier, param_grid=param_grid, cv=5, n_jobs=4, scoring=custom_scorer)\n"
   ]
  },
  {
   "cell_type": "markdown",
   "metadata": {},
   "source": [
    "### Initialize search, output the best parameters, and print feature importance"
   ]
  },
  {
   "cell_type": "code",
   "execution_count": 56,
   "metadata": {},
   "outputs": [
    {
     "data": {
      "text/html": [
       "<style>#sk-container-id-1 {\n",
       "  /* Definition of color scheme common for light and dark mode */\n",
       "  --sklearn-color-text: black;\n",
       "  --sklearn-color-line: gray;\n",
       "  /* Definition of color scheme for unfitted estimators */\n",
       "  --sklearn-color-unfitted-level-0: #fff5e6;\n",
       "  --sklearn-color-unfitted-level-1: #f6e4d2;\n",
       "  --sklearn-color-unfitted-level-2: #ffe0b3;\n",
       "  --sklearn-color-unfitted-level-3: chocolate;\n",
       "  /* Definition of color scheme for fitted estimators */\n",
       "  --sklearn-color-fitted-level-0: #f0f8ff;\n",
       "  --sklearn-color-fitted-level-1: #d4ebff;\n",
       "  --sklearn-color-fitted-level-2: #b3dbfd;\n",
       "  --sklearn-color-fitted-level-3: cornflowerblue;\n",
       "\n",
       "  /* Specific color for light theme */\n",
       "  --sklearn-color-text-on-default-background: var(--sg-text-color, var(--theme-code-foreground, var(--jp-content-font-color1, black)));\n",
       "  --sklearn-color-background: var(--sg-background-color, var(--theme-background, var(--jp-layout-color0, white)));\n",
       "  --sklearn-color-border-box: var(--sg-text-color, var(--theme-code-foreground, var(--jp-content-font-color1, black)));\n",
       "  --sklearn-color-icon: #696969;\n",
       "\n",
       "  @media (prefers-color-scheme: dark) {\n",
       "    /* Redefinition of color scheme for dark theme */\n",
       "    --sklearn-color-text-on-default-background: var(--sg-text-color, var(--theme-code-foreground, var(--jp-content-font-color1, white)));\n",
       "    --sklearn-color-background: var(--sg-background-color, var(--theme-background, var(--jp-layout-color0, #111)));\n",
       "    --sklearn-color-border-box: var(--sg-text-color, var(--theme-code-foreground, var(--jp-content-font-color1, white)));\n",
       "    --sklearn-color-icon: #878787;\n",
       "  }\n",
       "}\n",
       "\n",
       "#sk-container-id-1 {\n",
       "  color: var(--sklearn-color-text);\n",
       "}\n",
       "\n",
       "#sk-container-id-1 pre {\n",
       "  padding: 0;\n",
       "}\n",
       "\n",
       "#sk-container-id-1 input.sk-hidden--visually {\n",
       "  border: 0;\n",
       "  clip: rect(1px 1px 1px 1px);\n",
       "  clip: rect(1px, 1px, 1px, 1px);\n",
       "  height: 1px;\n",
       "  margin: -1px;\n",
       "  overflow: hidden;\n",
       "  padding: 0;\n",
       "  position: absolute;\n",
       "  width: 1px;\n",
       "}\n",
       "\n",
       "#sk-container-id-1 div.sk-dashed-wrapped {\n",
       "  border: 1px dashed var(--sklearn-color-line);\n",
       "  margin: 0 0.4em 0.5em 0.4em;\n",
       "  box-sizing: border-box;\n",
       "  padding-bottom: 0.4em;\n",
       "  background-color: var(--sklearn-color-background);\n",
       "}\n",
       "\n",
       "#sk-container-id-1 div.sk-container {\n",
       "  /* jupyter's `normalize.less` sets `[hidden] { display: none; }`\n",
       "     but bootstrap.min.css set `[hidden] { display: none !important; }`\n",
       "     so we also need the `!important` here to be able to override the\n",
       "     default hidden behavior on the sphinx rendered scikit-learn.org.\n",
       "     See: https://github.com/scikit-learn/scikit-learn/issues/21755 */\n",
       "  display: inline-block !important;\n",
       "  position: relative;\n",
       "}\n",
       "\n",
       "#sk-container-id-1 div.sk-text-repr-fallback {\n",
       "  display: none;\n",
       "}\n",
       "\n",
       "div.sk-parallel-item,\n",
       "div.sk-serial,\n",
       "div.sk-item {\n",
       "  /* draw centered vertical line to link estimators */\n",
       "  background-image: linear-gradient(var(--sklearn-color-text-on-default-background), var(--sklearn-color-text-on-default-background));\n",
       "  background-size: 2px 100%;\n",
       "  background-repeat: no-repeat;\n",
       "  background-position: center center;\n",
       "}\n",
       "\n",
       "/* Parallel-specific style estimator block */\n",
       "\n",
       "#sk-container-id-1 div.sk-parallel-item::after {\n",
       "  content: \"\";\n",
       "  width: 100%;\n",
       "  border-bottom: 2px solid var(--sklearn-color-text-on-default-background);\n",
       "  flex-grow: 1;\n",
       "}\n",
       "\n",
       "#sk-container-id-1 div.sk-parallel {\n",
       "  display: flex;\n",
       "  align-items: stretch;\n",
       "  justify-content: center;\n",
       "  background-color: var(--sklearn-color-background);\n",
       "  position: relative;\n",
       "}\n",
       "\n",
       "#sk-container-id-1 div.sk-parallel-item {\n",
       "  display: flex;\n",
       "  flex-direction: column;\n",
       "}\n",
       "\n",
       "#sk-container-id-1 div.sk-parallel-item:first-child::after {\n",
       "  align-self: flex-end;\n",
       "  width: 50%;\n",
       "}\n",
       "\n",
       "#sk-container-id-1 div.sk-parallel-item:last-child::after {\n",
       "  align-self: flex-start;\n",
       "  width: 50%;\n",
       "}\n",
       "\n",
       "#sk-container-id-1 div.sk-parallel-item:only-child::after {\n",
       "  width: 0;\n",
       "}\n",
       "\n",
       "/* Serial-specific style estimator block */\n",
       "\n",
       "#sk-container-id-1 div.sk-serial {\n",
       "  display: flex;\n",
       "  flex-direction: column;\n",
       "  align-items: center;\n",
       "  background-color: var(--sklearn-color-background);\n",
       "  padding-right: 1em;\n",
       "  padding-left: 1em;\n",
       "}\n",
       "\n",
       "\n",
       "/* Toggleable style: style used for estimator/Pipeline/ColumnTransformer box that is\n",
       "clickable and can be expanded/collapsed.\n",
       "- Pipeline and ColumnTransformer use this feature and define the default style\n",
       "- Estimators will overwrite some part of the style using the `sk-estimator` class\n",
       "*/\n",
       "\n",
       "/* Pipeline and ColumnTransformer style (default) */\n",
       "\n",
       "#sk-container-id-1 div.sk-toggleable {\n",
       "  /* Default theme specific background. It is overwritten whether we have a\n",
       "  specific estimator or a Pipeline/ColumnTransformer */\n",
       "  background-color: var(--sklearn-color-background);\n",
       "}\n",
       "\n",
       "/* Toggleable label */\n",
       "#sk-container-id-1 label.sk-toggleable__label {\n",
       "  cursor: pointer;\n",
       "  display: block;\n",
       "  width: 100%;\n",
       "  margin-bottom: 0;\n",
       "  padding: 0.5em;\n",
       "  box-sizing: border-box;\n",
       "  text-align: center;\n",
       "}\n",
       "\n",
       "#sk-container-id-1 label.sk-toggleable__label-arrow:before {\n",
       "  /* Arrow on the left of the label */\n",
       "  content: \"▸\";\n",
       "  float: left;\n",
       "  margin-right: 0.25em;\n",
       "  color: var(--sklearn-color-icon);\n",
       "}\n",
       "\n",
       "#sk-container-id-1 label.sk-toggleable__label-arrow:hover:before {\n",
       "  color: var(--sklearn-color-text);\n",
       "}\n",
       "\n",
       "/* Toggleable content - dropdown */\n",
       "\n",
       "#sk-container-id-1 div.sk-toggleable__content {\n",
       "  max-height: 0;\n",
       "  max-width: 0;\n",
       "  overflow: hidden;\n",
       "  text-align: left;\n",
       "  /* unfitted */\n",
       "  background-color: var(--sklearn-color-unfitted-level-0);\n",
       "}\n",
       "\n",
       "#sk-container-id-1 div.sk-toggleable__content.fitted {\n",
       "  /* fitted */\n",
       "  background-color: var(--sklearn-color-fitted-level-0);\n",
       "}\n",
       "\n",
       "#sk-container-id-1 div.sk-toggleable__content pre {\n",
       "  margin: 0.2em;\n",
       "  border-radius: 0.25em;\n",
       "  color: var(--sklearn-color-text);\n",
       "  /* unfitted */\n",
       "  background-color: var(--sklearn-color-unfitted-level-0);\n",
       "}\n",
       "\n",
       "#sk-container-id-1 div.sk-toggleable__content.fitted pre {\n",
       "  /* unfitted */\n",
       "  background-color: var(--sklearn-color-fitted-level-0);\n",
       "}\n",
       "\n",
       "#sk-container-id-1 input.sk-toggleable__control:checked~div.sk-toggleable__content {\n",
       "  /* Expand drop-down */\n",
       "  max-height: 200px;\n",
       "  max-width: 100%;\n",
       "  overflow: auto;\n",
       "}\n",
       "\n",
       "#sk-container-id-1 input.sk-toggleable__control:checked~label.sk-toggleable__label-arrow:before {\n",
       "  content: \"▾\";\n",
       "}\n",
       "\n",
       "/* Pipeline/ColumnTransformer-specific style */\n",
       "\n",
       "#sk-container-id-1 div.sk-label input.sk-toggleable__control:checked~label.sk-toggleable__label {\n",
       "  color: var(--sklearn-color-text);\n",
       "  background-color: var(--sklearn-color-unfitted-level-2);\n",
       "}\n",
       "\n",
       "#sk-container-id-1 div.sk-label.fitted input.sk-toggleable__control:checked~label.sk-toggleable__label {\n",
       "  background-color: var(--sklearn-color-fitted-level-2);\n",
       "}\n",
       "\n",
       "/* Estimator-specific style */\n",
       "\n",
       "/* Colorize estimator box */\n",
       "#sk-container-id-1 div.sk-estimator input.sk-toggleable__control:checked~label.sk-toggleable__label {\n",
       "  /* unfitted */\n",
       "  background-color: var(--sklearn-color-unfitted-level-2);\n",
       "}\n",
       "\n",
       "#sk-container-id-1 div.sk-estimator.fitted input.sk-toggleable__control:checked~label.sk-toggleable__label {\n",
       "  /* fitted */\n",
       "  background-color: var(--sklearn-color-fitted-level-2);\n",
       "}\n",
       "\n",
       "#sk-container-id-1 div.sk-label label.sk-toggleable__label,\n",
       "#sk-container-id-1 div.sk-label label {\n",
       "  /* The background is the default theme color */\n",
       "  color: var(--sklearn-color-text-on-default-background);\n",
       "}\n",
       "\n",
       "/* On hover, darken the color of the background */\n",
       "#sk-container-id-1 div.sk-label:hover label.sk-toggleable__label {\n",
       "  color: var(--sklearn-color-text);\n",
       "  background-color: var(--sklearn-color-unfitted-level-2);\n",
       "}\n",
       "\n",
       "/* Label box, darken color on hover, fitted */\n",
       "#sk-container-id-1 div.sk-label.fitted:hover label.sk-toggleable__label.fitted {\n",
       "  color: var(--sklearn-color-text);\n",
       "  background-color: var(--sklearn-color-fitted-level-2);\n",
       "}\n",
       "\n",
       "/* Estimator label */\n",
       "\n",
       "#sk-container-id-1 div.sk-label label {\n",
       "  font-family: monospace;\n",
       "  font-weight: bold;\n",
       "  display: inline-block;\n",
       "  line-height: 1.2em;\n",
       "}\n",
       "\n",
       "#sk-container-id-1 div.sk-label-container {\n",
       "  text-align: center;\n",
       "}\n",
       "\n",
       "/* Estimator-specific */\n",
       "#sk-container-id-1 div.sk-estimator {\n",
       "  font-family: monospace;\n",
       "  border: 1px dotted var(--sklearn-color-border-box);\n",
       "  border-radius: 0.25em;\n",
       "  box-sizing: border-box;\n",
       "  margin-bottom: 0.5em;\n",
       "  /* unfitted */\n",
       "  background-color: var(--sklearn-color-unfitted-level-0);\n",
       "}\n",
       "\n",
       "#sk-container-id-1 div.sk-estimator.fitted {\n",
       "  /* fitted */\n",
       "  background-color: var(--sklearn-color-fitted-level-0);\n",
       "}\n",
       "\n",
       "/* on hover */\n",
       "#sk-container-id-1 div.sk-estimator:hover {\n",
       "  /* unfitted */\n",
       "  background-color: var(--sklearn-color-unfitted-level-2);\n",
       "}\n",
       "\n",
       "#sk-container-id-1 div.sk-estimator.fitted:hover {\n",
       "  /* fitted */\n",
       "  background-color: var(--sklearn-color-fitted-level-2);\n",
       "}\n",
       "\n",
       "/* Specification for estimator info (e.g. \"i\" and \"?\") */\n",
       "\n",
       "/* Common style for \"i\" and \"?\" */\n",
       "\n",
       ".sk-estimator-doc-link,\n",
       "a:link.sk-estimator-doc-link,\n",
       "a:visited.sk-estimator-doc-link {\n",
       "  float: right;\n",
       "  font-size: smaller;\n",
       "  line-height: 1em;\n",
       "  font-family: monospace;\n",
       "  background-color: var(--sklearn-color-background);\n",
       "  border-radius: 1em;\n",
       "  height: 1em;\n",
       "  width: 1em;\n",
       "  text-decoration: none !important;\n",
       "  margin-left: 1ex;\n",
       "  /* unfitted */\n",
       "  border: var(--sklearn-color-unfitted-level-1) 1pt solid;\n",
       "  color: var(--sklearn-color-unfitted-level-1);\n",
       "}\n",
       "\n",
       ".sk-estimator-doc-link.fitted,\n",
       "a:link.sk-estimator-doc-link.fitted,\n",
       "a:visited.sk-estimator-doc-link.fitted {\n",
       "  /* fitted */\n",
       "  border: var(--sklearn-color-fitted-level-1) 1pt solid;\n",
       "  color: var(--sklearn-color-fitted-level-1);\n",
       "}\n",
       "\n",
       "/* On hover */\n",
       "div.sk-estimator:hover .sk-estimator-doc-link:hover,\n",
       ".sk-estimator-doc-link:hover,\n",
       "div.sk-label-container:hover .sk-estimator-doc-link:hover,\n",
       ".sk-estimator-doc-link:hover {\n",
       "  /* unfitted */\n",
       "  background-color: var(--sklearn-color-unfitted-level-3);\n",
       "  color: var(--sklearn-color-background);\n",
       "  text-decoration: none;\n",
       "}\n",
       "\n",
       "div.sk-estimator.fitted:hover .sk-estimator-doc-link.fitted:hover,\n",
       ".sk-estimator-doc-link.fitted:hover,\n",
       "div.sk-label-container:hover .sk-estimator-doc-link.fitted:hover,\n",
       ".sk-estimator-doc-link.fitted:hover {\n",
       "  /* fitted */\n",
       "  background-color: var(--sklearn-color-fitted-level-3);\n",
       "  color: var(--sklearn-color-background);\n",
       "  text-decoration: none;\n",
       "}\n",
       "\n",
       "/* Span, style for the box shown on hovering the info icon */\n",
       ".sk-estimator-doc-link span {\n",
       "  display: none;\n",
       "  z-index: 9999;\n",
       "  position: relative;\n",
       "  font-weight: normal;\n",
       "  right: .2ex;\n",
       "  padding: .5ex;\n",
       "  margin: .5ex;\n",
       "  width: min-content;\n",
       "  min-width: 20ex;\n",
       "  max-width: 50ex;\n",
       "  color: var(--sklearn-color-text);\n",
       "  box-shadow: 2pt 2pt 4pt #999;\n",
       "  /* unfitted */\n",
       "  background: var(--sklearn-color-unfitted-level-0);\n",
       "  border: .5pt solid var(--sklearn-color-unfitted-level-3);\n",
       "}\n",
       "\n",
       ".sk-estimator-doc-link.fitted span {\n",
       "  /* fitted */\n",
       "  background: var(--sklearn-color-fitted-level-0);\n",
       "  border: var(--sklearn-color-fitted-level-3);\n",
       "}\n",
       "\n",
       ".sk-estimator-doc-link:hover span {\n",
       "  display: block;\n",
       "}\n",
       "\n",
       "/* \"?\"-specific style due to the `<a>` HTML tag */\n",
       "\n",
       "#sk-container-id-1 a.estimator_doc_link {\n",
       "  float: right;\n",
       "  font-size: 1rem;\n",
       "  line-height: 1em;\n",
       "  font-family: monospace;\n",
       "  background-color: var(--sklearn-color-background);\n",
       "  border-radius: 1rem;\n",
       "  height: 1rem;\n",
       "  width: 1rem;\n",
       "  text-decoration: none;\n",
       "  /* unfitted */\n",
       "  color: var(--sklearn-color-unfitted-level-1);\n",
       "  border: var(--sklearn-color-unfitted-level-1) 1pt solid;\n",
       "}\n",
       "\n",
       "#sk-container-id-1 a.estimator_doc_link.fitted {\n",
       "  /* fitted */\n",
       "  border: var(--sklearn-color-fitted-level-1) 1pt solid;\n",
       "  color: var(--sklearn-color-fitted-level-1);\n",
       "}\n",
       "\n",
       "/* On hover */\n",
       "#sk-container-id-1 a.estimator_doc_link:hover {\n",
       "  /* unfitted */\n",
       "  background-color: var(--sklearn-color-unfitted-level-3);\n",
       "  color: var(--sklearn-color-background);\n",
       "  text-decoration: none;\n",
       "}\n",
       "\n",
       "#sk-container-id-1 a.estimator_doc_link.fitted:hover {\n",
       "  /* fitted */\n",
       "  background-color: var(--sklearn-color-fitted-level-3);\n",
       "}\n",
       "</style><div id=\"sk-container-id-1\" class=\"sk-top-container\"><div class=\"sk-text-repr-fallback\"><pre>RandomizedSearchCV(cv=5, estimator=RandomForestClassifier(random_state=42),\n",
       "                   n_jobs=4,\n",
       "                   param_distributions={&#x27;max_depth&#x27;: [None, 10, 11, 12, 13, 14,\n",
       "                                                      15, 16, 17, 18, 19, 20],\n",
       "                                        &#x27;min_samples_split&#x27;: &lt;scipy.stats._distn_infrastructure.rv_discrete_frozen object at 0x792d986f2080&gt;,\n",
       "                                        &#x27;n_estimators&#x27;: &lt;scipy.stats._distn_infrastructure.rv_discrete_frozen object at 0x792d98506a10&gt;},\n",
       "                   random_state=42,\n",
       "                   scoring=make_scorer(custom_score, greater_is_better=False, response_method=&#x27;predict&#x27;))</pre><b>In a Jupyter environment, please rerun this cell to show the HTML representation or trust the notebook. <br />On GitHub, the HTML representation is unable to render, please try loading this page with nbviewer.org.</b></div><div class=\"sk-container\" hidden><div class=\"sk-item sk-dashed-wrapped\"><div class=\"sk-label-container\"><div class=\"sk-label fitted sk-toggleable\"><input class=\"sk-toggleable__control sk-hidden--visually\" id=\"sk-estimator-id-1\" type=\"checkbox\" ><label for=\"sk-estimator-id-1\" class=\"sk-toggleable__label fitted sk-toggleable__label-arrow fitted\">&nbsp;&nbsp;RandomizedSearchCV<a class=\"sk-estimator-doc-link fitted\" rel=\"noreferrer\" target=\"_blank\" href=\"https://scikit-learn.org/1.4/modules/generated/sklearn.model_selection.RandomizedSearchCV.html\">?<span>Documentation for RandomizedSearchCV</span></a><span class=\"sk-estimator-doc-link fitted\">i<span>Fitted</span></span></label><div class=\"sk-toggleable__content fitted\"><pre>RandomizedSearchCV(cv=5, estimator=RandomForestClassifier(random_state=42),\n",
       "                   n_jobs=4,\n",
       "                   param_distributions={&#x27;max_depth&#x27;: [None, 10, 11, 12, 13, 14,\n",
       "                                                      15, 16, 17, 18, 19, 20],\n",
       "                                        &#x27;min_samples_split&#x27;: &lt;scipy.stats._distn_infrastructure.rv_discrete_frozen object at 0x792d986f2080&gt;,\n",
       "                                        &#x27;n_estimators&#x27;: &lt;scipy.stats._distn_infrastructure.rv_discrete_frozen object at 0x792d98506a10&gt;},\n",
       "                   random_state=42,\n",
       "                   scoring=make_scorer(custom_score, greater_is_better=False, response_method=&#x27;predict&#x27;))</pre></div> </div></div><div class=\"sk-parallel\"><div class=\"sk-parallel-item\"><div class=\"sk-item\"><div class=\"sk-label-container\"><div class=\"sk-label fitted sk-toggleable\"><input class=\"sk-toggleable__control sk-hidden--visually\" id=\"sk-estimator-id-2\" type=\"checkbox\" ><label for=\"sk-estimator-id-2\" class=\"sk-toggleable__label fitted sk-toggleable__label-arrow fitted\">estimator: RandomForestClassifier</label><div class=\"sk-toggleable__content fitted\"><pre>RandomForestClassifier(random_state=42)</pre></div> </div></div><div class=\"sk-serial\"><div class=\"sk-item\"><div class=\"sk-estimator fitted sk-toggleable\"><input class=\"sk-toggleable__control sk-hidden--visually\" id=\"sk-estimator-id-3\" type=\"checkbox\" ><label for=\"sk-estimator-id-3\" class=\"sk-toggleable__label fitted sk-toggleable__label-arrow fitted\">&nbsp;RandomForestClassifier<a class=\"sk-estimator-doc-link fitted\" rel=\"noreferrer\" target=\"_blank\" href=\"https://scikit-learn.org/1.4/modules/generated/sklearn.ensemble.RandomForestClassifier.html\">?<span>Documentation for RandomForestClassifier</span></a></label><div class=\"sk-toggleable__content fitted\"><pre>RandomForestClassifier(random_state=42)</pre></div> </div></div></div></div></div></div></div></div></div>"
      ],
      "text/plain": [
       "RandomizedSearchCV(cv=5, estimator=RandomForestClassifier(random_state=42),\n",
       "                   n_jobs=4,\n",
       "                   param_distributions={'max_depth': [None, 10, 11, 12, 13, 14,\n",
       "                                                      15, 16, 17, 18, 19, 20],\n",
       "                                        'min_samples_split': <scipy.stats._distn_infrastructure.rv_discrete_frozen object at 0x792d986f2080>,\n",
       "                                        'n_estimators': <scipy.stats._distn_infrastructure.rv_discrete_frozen object at 0x792d98506a10>},\n",
       "                   random_state=42,\n",
       "                   scoring=make_scorer(custom_score, greater_is_better=False, response_method='predict'))"
      ]
     },
     "execution_count": 56,
     "metadata": {},
     "output_type": "execute_result"
    }
   ],
   "source": [
    "random_search.fit(x, y)\n",
    "#grid_search.fit(x, y)"
   ]
  },
  {
   "cell_type": "code",
   "execution_count": 58,
   "metadata": {},
   "outputs": [
    {
     "name": "stdout",
     "output_type": "stream",
     "text": [
      "Best Parameters: {'max_depth': 19, 'min_samples_split': 9, 'n_estimators': 70}\n"
     ]
    }
   ],
   "source": [
    "# Get the best parameters from the random search\n",
    "best_params = random_search.best_params_\n",
    "\n",
    "# Print the best parameters\n",
    "print(\"Best Parameters:\", best_params)\n",
    "\n",
    "# Get the best estimator (Random Forest classifier with the best parameters)\n",
    "best_rf_classifier = random_search.best_estimator_\n",
    "\n",
    "# Train the best classifier on the entire dataset\n",
    "best_rf_classifier.fit(x, y)\n",
    "\n",
    "# Extract feature importance\n",
    "feature_importances = best_rf_classifier.feature_importances_"
   ]
  },
  {
   "cell_type": "markdown",
   "metadata": {},
   "source": [
    "Print the importance of each feature if original unaltered variables are used."
   ]
  },
  {
   "cell_type": "code",
   "execution_count": 59,
   "metadata": {},
   "outputs": [
    {
     "name": "stdout",
     "output_type": "stream",
     "text": [
      "\n",
      "Feature Importance:\n",
      "_RFHLTH: 0.059078359278274144\n",
      "_PHYS14D: 0.02442186158342125\n",
      "_MENT14D: 0.011579076044032013\n",
      "_HLTHPLN: 0.0033895501269200785\n",
      "_HCVU652: 0.014564756331303034\n",
      "_TOTINDA: 0.007997931771532215\n",
      "_RFHYPE6: 0.055155960891758136\n",
      "_CHOLCH3: 0.0012639240670698404\n",
      "_RFCHOL3: 0.03367317298017319\n",
      "_DRDXAR3: 0.010126543855978273\n",
      "_LMTACT3: 0.01189494568859544\n",
      "_LMTWRK3: 0.014579616203637343\n",
      "_SMOKER3: 0.016901999973661857\n",
      "_RFSMOK3: 0.004779899865860209\n",
      "_CURECI1: 0.0021898871382454326\n",
      "DRNKANY5: 0.005786126884919146\n",
      "ALCDAY5: 0.01883939881186808\n",
      "_RFBING5: 0.0034576734022927296\n",
      "_DRNKWK1: 0.02165858167122022\n",
      "_RFDRHV7: 0.0027468852940699963\n",
      "_AIDTST4: 0.009260131523649767\n",
      "FTJUDA2_: 0.022553894001121573\n",
      "FRUTDA2_: 0.026130163804587096\n",
      "GRENDA1_: 0.028590851698487484\n",
      "FRNCHDA_: 0.02834947122901776\n",
      "POTADA1_: 0.02993928545272123\n",
      "VEGEDA2_: 0.027084317511321575\n",
      "_FRUTSU1: 0.03447702852817967\n",
      "_VEGESU1: 0.04378899497119232\n",
      "_FRTLT1A: 0.004067714936235357\n",
      "_VEGLT1A: 0.0037632422359381015\n",
      "_INCOMG1: 0.02617421513017165\n",
      "_EDUCAG: 0.015372211615884783\n",
      "CHILDREN: 0.009390753237411972\n",
      "_RFBMI5: 0.0034129113288446714\n",
      "_BMI5CAT: 0.0077210192799030426\n",
      "_BMI5: 0.0454024276317822\n",
      "WTKG3: 0.04175793607392779\n",
      "HEIGHT3: 0.03389649956126151\n",
      "_AGE_G: 0.041945195534645006\n",
      "_AGE80: 0.06547394837983021\n",
      "_AGE65YR: 0.022204717152894737\n",
      "_AGEG5YR: 0.04483391735411979\n",
      "_SEX: 0.022461341818748783\n",
      "_RACEPRV: 0.0063987466809237266\n",
      "_RACEGR3: 0.006162124747574277\n",
      "_RACEG21: 0.003564086978397415\n",
      "_RACE: 0.006177361893050887\n",
      "_HISPANC: 0.002516360204193489\n",
      "_MRACE1: 0.0066920971184966475\n",
      "_PRACE1: 0.006350880520652905\n"
     ]
    }
   ],
   "source": [
    "# Print all features and their importance scores\n",
    "print(\"\\nFeature Importance:\")\n",
    "for feature, importance in zip(x.columns, feature_importances):\n",
    "    print(f\"{feature}: {importance}\")"
   ]
  },
  {
   "cell_type": "markdown",
   "metadata": {},
   "source": [
    "Print the importance of each feature if one hot encoder is used."
   ]
  },
  {
   "cell_type": "code",
   "execution_count": null,
   "metadata": {},
   "outputs": [],
   "source": [
    "feature_importance_sum = {}\n",
    "\n",
    "for feature, importance in zip(x.columns, feature_importances):\n",
    "    feature_name = re.sub(r'^(.*?)_.+', r'\\1', feature)\n",
    "\n",
    "    if feature_name in feature_importance_sum:\n",
    "        feature_importance_sum[feature_name] += importance\n",
    "    else:\n",
    "        feature_importance_sum[feature_name] = importance\n",
    "\n",
    "sorted_feature_importance_sum = sorted(feature_importance_sum.items(), key=lambda x: x[1], reverse=True)\n",
    "\n",
    "for feature, importance_sum in sorted_feature_importance_sum:\n",
    "    print(f\"{feature}: {importance_sum}\")"
   ]
  },
  {
   "cell_type": "markdown",
   "metadata": {},
   "source": [
    "Print the top features if original unaltered variables are used."
   ]
  },
  {
   "cell_type": "code",
   "execution_count": 60,
   "metadata": {},
   "outputs": [
    {
     "name": "stdout",
     "output_type": "stream",
     "text": [
      "Top features:\n",
      "_AGE80\n",
      "_RFHLTH\n",
      "_RFHYPE6\n",
      "_BMI5\n",
      "_AGEG5YR\n",
      "_VEGESU1\n",
      "_AGE_G\n",
      "WTKG3\n",
      "_FRUTSU1\n",
      "HEIGHT3\n",
      "_RFCHOL3\n",
      "POTADA1_\n",
      "GRENDA1_\n",
      "FRNCHDA_\n",
      "VEGEDA2_\n",
      "_INCOMG1\n",
      "FRUTDA2_\n",
      "_PHYS14D\n",
      "FTJUDA2_\n",
      "_SEX\n"
     ]
    }
   ],
   "source": [
    "num_top_features = 20  # You can adjust this number based on your preference\n",
    "top_feature_indices = feature_importances.argsort()[-num_top_features:][::-1]\n",
    "top_features = x.columns[top_feature_indices]\n",
    "\n",
    "print(\"Top features:\")\n",
    "for feature in top_features:\n",
    "    print(feature)"
   ]
  },
  {
   "cell_type": "markdown",
   "metadata": {},
   "source": [
    "Print the top features if one hot encoder is used."
   ]
  },
  {
   "cell_type": "code",
   "execution_count": null,
   "metadata": {},
   "outputs": [],
   "source": [
    "top_features = [sorted_feature_importance_sum[i][0] for i in range(13)]\n",
    "\n",
    "complete_features = []\n",
    "\n",
    "for feature in top_features:\n",
    "  for column in dataframe_sample.columns:\n",
    "      if column.startswith(feature):\n",
    "          suffix = column[len(feature):].lstrip('_')\n",
    "          if suffix != '':\n",
    "            complete_part = feature + '_' + suffix\n",
    "          else:\n",
    "            complete_part = feature\n",
    "\n",
    "          complete_features.append(complete_part)\n",
    "\n",
    "top_features = complete_features\n",
    "for complete_feat in top_features: print(complete_feat)"
   ]
  },
  {
   "cell_type": "markdown",
   "metadata": {},
   "source": [
    "# ***Classification with Data Mining Methods***"
   ]
  },
  {
   "cell_type": "markdown",
   "metadata": {},
   "source": [
    "## Class Frequency of the Target Variable"
   ]
  },
  {
   "cell_type": "code",
   "execution_count": 78,
   "metadata": {},
   "outputs": [
    {
     "data": {
      "text/plain": [
       "<Axes: xlabel='_MICHD', ylabel='count'>"
      ]
     },
     "execution_count": 78,
     "metadata": {},
     "output_type": "execute_result"
    },
    {
     "data": {
      "image/png": "[encoded data removed]",
      "text/plain": [
       "<Figure size 640x480 with 1 Axes>"
      ]
     },
     "metadata": {},
     "output_type": "display_data"
    }
   ],
   "source": [
    "# Counts for the \"Had_CHD_MI\" variable\n",
    "sns.countplot(data=dataframes[2],x='_MICHD')"
   ]
  },
  {
   "cell_type": "markdown",
   "metadata": {},
   "source": [
    "## Generation of Synthetic Data"
   ]
  },
  {
   "cell_type": "markdown",
   "metadata": {},
   "source": [
    "### Borderline SMOTE"
   ]
  },
  {
   "cell_type": "code",
   "execution_count": 156,
   "metadata": {},
   "outputs": [],
   "source": [
    "SMOTE_data = dataframes[2].copy()"
   ]
  },
  {
   "cell_type": "code",
   "execution_count": 135,
   "metadata": {},
   "outputs": [
    {
     "data": {
      "text/plain": [
       "_MICHD\n",
       "2.0    153711\n",
       "1.0     13872\n",
       "Name: count, dtype: int64"
      ]
     },
     "execution_count": 135,
     "metadata": {},
     "output_type": "execute_result"
    }
   ],
   "source": [
    "SMOTE_data['_MICHD'].value_counts()"
   ]
  },
  {
   "cell_type": "code",
   "execution_count": 147,
   "metadata": {},
   "outputs": [
    {
     "data": {
      "text/plain": [
       "_MICHD\n",
       "2.0    120396\n",
       "1.0     12908\n",
       "Name: count, dtype: int64"
      ]
     },
     "execution_count": 147,
     "metadata": {},
     "output_type": "execute_result"
    }
   ],
   "source": [
    "SMOTE_data.drop_duplicates()['_MICHD'].value_counts()"
   ]
  },
  {
   "cell_type": "markdown",
   "metadata": {},
   "source": [
    "#### Split data before applying Borderline SMOTE"
   ]
  },
  {
   "cell_type": "code",
   "execution_count": null,
   "metadata": {},
   "outputs": [],
   "source": [
    "SMOTE_train_data, SMOTE_test_data = train_test_split(SMOTE_data, test_size=0.20, stratify=SMOTE_data['_MICHD'])"
   ]
  },
  {
   "cell_type": "code",
   "execution_count": 157,
   "metadata": {},
   "outputs": [
    {
     "name": "stdout",
     "output_type": "stream",
     "text": [
      "Training set class distribution:\n",
      "_MICHD\n",
      "2.0    107597\n",
      "1.0     12484\n",
      "Name: count, dtype: int64\n",
      "\n",
      "Testing set class distribution:\n",
      "_MICHD\n",
      "2.0    46114\n",
      "1.0     1388\n",
      "Name: count, dtype: int64\n"
     ]
    }
   ],
   "source": [
    "# Separate the dataframe into minority and majority classes\n",
    "minority_df = SMOTE_data[SMOTE_data['_MICHD'] == 1.0]\n",
    "majority_df = SMOTE_data[SMOTE_data['_MICHD'] == 2.0]\n",
    "\n",
    "# Split the minority class into training and testing sets\n",
    "minority_train, minority_test = train_test_split(minority_df, test_size=0.1)\n",
    "\n",
    "# Split the majority class into training and testing sets\n",
    "majority_train, majority_test = train_test_split(majority_df, test_size=0.3)\n",
    "\n",
    "# Concatenate the training and testing sets for both classes\n",
    "train_set = pd.concat([minority_train, majority_train])\n",
    "test_set = pd.concat([minority_test, majority_test])\n",
    "\n",
    "# Shuffle the rows in the testing set\n",
    "test_set = test_set.sample(frac=1)\n",
    "\n",
    "# Ensure that the testing set does not contain samples from the training set\n",
    "test_set = test_set[~test_set.index.isin(train_set.index)]\n",
    "\n",
    "# Verify the class distribution in the training and testing sets\n",
    "print(\"Training set class distribution:\")\n",
    "print(train_set['_MICHD'].value_counts())\n",
    "print(\"\\nTesting set class distribution:\")\n",
    "print(test_set['_MICHD'].value_counts())"
   ]
  },
  {
   "cell_type": "code",
   "execution_count": 158,
   "metadata": {},
   "outputs": [],
   "source": [
    "# Generate synthetic data for the original imbalanced data\n",
    "resampled_data = BorderlineSMOTE().fit_resample(train_set.drop(columns = ['_MICHD']), \n",
    "                                        train_set['_MICHD'])\n",
    "train_set = resampled_data[0]\n",
    "train_set[target_column] = resampled_data[1].to_numpy()"
   ]
  },
  {
   "cell_type": "code",
   "execution_count": 159,
   "metadata": {},
   "outputs": [
    {
     "data": {
      "text/plain": [
       "<Axes: xlabel='_MICHD', ylabel='count'>"
      ]
     },
     "execution_count": 159,
     "metadata": {},
     "output_type": "execute_result"
    },
    {
     "data": {
      "image/png": "[encoded data removed]",
      "text/plain": [
       "<Figure size 640x480 with 1 Axes>"
      ]
     },
     "metadata": {},
     "output_type": "display_data"
    }
   ],
   "source": [
    "# Counts for the \"Had_CHD_MI\" variable\n",
    "sns.countplot(data=train_set,x='_MICHD')"
   ]
  },
  {
   "cell_type": "code",
   "execution_count": 160,
   "metadata": {},
   "outputs": [],
   "source": [
    "# 0: Reported having MI or CHD\n",
    "# 1: Did not report having MI or CHD\n",
    "\n",
    "train_set['_MICHD'] = train_set['_MICHD'].map({1.0: 0, 2.0: 1})\n",
    "test_set['_MICHD'] = test_set['_MICHD'].map({1.0: 0, 2.0: 1})"
   ]
  },
  {
   "cell_type": "markdown",
   "metadata": {},
   "source": [
    "#### Apply Borderline SMOTE without spliting data"
   ]
  },
  {
   "cell_type": "code",
   "execution_count": 121,
   "metadata": {},
   "outputs": [],
   "source": [
    "# Generate synthetic data for the original imbalanced data\n",
    "resampled_data = BorderlineSMOTE().fit_resample(SMOTE_data.drop(columns = ['_MICHD']), \n",
    "                                        SMOTE_data['_MICHD'])\n",
    "SMOTE_data = resampled_data[0]\n",
    "SMOTE_data[target_column] = resampled_data[1].to_numpy()"
   ]
  },
  {
   "cell_type": "code",
   "execution_count": 122,
   "metadata": {},
   "outputs": [
    {
     "data": {
      "text/plain": [
       "<Axes: xlabel='_MICHD', ylabel='count'>"
      ]
     },
     "execution_count": 122,
     "metadata": {},
     "output_type": "execute_result"
    },
    {
     "data": {
      "image/png": "[encoded data removed]",
      "text/plain": [
       "<Figure size 640x480 with 1 Axes>"
      ]
     },
     "metadata": {},
     "output_type": "display_data"
    }
   ],
   "source": [
    "# Counts for the \"Had_CHD_MI\" variable\n",
    "sns.countplot(data=SMOTE_data,x='_MICHD')"
   ]
  },
  {
   "cell_type": "code",
   "execution_count": 123,
   "metadata": {},
   "outputs": [],
   "source": [
    "# 0: Reported having MI or CHD\n",
    "# 1: Did not report having MI or CHD\n",
    "\n",
    "SMOTE_data['_MICHD'] = SMOTE_data['_MICHD'].map({1.0: 0, 2.0: 1})"
   ]
  },
  {
   "cell_type": "markdown",
   "metadata": {},
   "source": [
    "## Classification"
   ]
  },
  {
   "cell_type": "markdown",
   "metadata": {},
   "source": [
    "### XGBoost"
   ]
  },
  {
   "cell_type": "markdown",
   "metadata": {},
   "source": [
    "#### XGBoost for pre-split data"
   ]
  },
  {
   "cell_type": "code",
   "execution_count": 162,
   "metadata": {},
   "outputs": [
    {
     "name": "stdout",
     "output_type": "stream",
     "text": [
      "Confusion Matrix:\n",
      "[[ 1071   317]\n",
      " [12565 33549]]\n"
     ]
    }
   ],
   "source": [
    "# Define the cost matrix\n",
    "cost_matrix = [[0, 1],  \n",
    "               [0.15, 0]] \n",
    "\n",
    "# Calculate the scale_pos_weight based on the corrected cost matrix\n",
    "scale_pos_weight = cost_matrix[1][0] / cost_matrix[0][1]\n",
    "\n",
    "# Create an XGBClassifier object\n",
    "xgb = XGBClassifier(n_estimators = 500, learning_rate = 0.1, scale_pos_weight=scale_pos_weight)\n",
    "\n",
    "# Train the classifier\n",
    "xgb.fit(train_set.drop(columns=['_MICHD']), train_set['_MICHD'])\n",
    "\n",
    "# Predict the response for test dataset\n",
    "y_pred = xgb.predict(test_set.drop(columns=['_MICHD']))\n",
    "\n",
    "# Print the confusion matrix\n",
    "print('Confusion Matrix:')\n",
    "print(confusion_matrix(test_set['_MICHD'], y_pred))"
   ]
  },
  {
   "cell_type": "markdown",
   "metadata": {},
   "source": [
    "#### XGBoost for non-split data"
   ]
  },
  {
   "cell_type": "code",
   "execution_count": 125,
   "metadata": {},
   "outputs": [],
   "source": [
    "# Split the balanced dataset to a set of training and testing samples \n",
    "x_train, x_test, y_train, y_test = train_test_split(SMOTE_data.drop(columns=['_MICHD']), SMOTE_data['_MICHD'], test_size=0.25)"
   ]
  },
  {
   "cell_type": "code",
   "execution_count": 133,
   "metadata": {},
   "outputs": [
    {
     "name": "stdout",
     "output_type": "stream",
     "text": [
      "Confusion Matrix:\n",
      "[[37154  1389]\n",
      " [ 7298 31015]]\n"
     ]
    }
   ],
   "source": [
    "# Define the cost matrix\n",
    "cost_matrix = [[0, 1],  \n",
    "               [0.20, 0]] \n",
    "\n",
    "# Calculate the scale_pos_weight based on the corrected cost matrix\n",
    "scale_pos_weight = cost_matrix[1][0] / cost_matrix[0][1]\n",
    "\n",
    "\n",
    "# Create an XGBClassifier object\n",
    "xgb = XGBClassifier(n_estimators = 500, learning_rate = 0.1, scale_pos_weight=scale_pos_weight)\n",
    "\n",
    "\n",
    "# Train the classifier\n",
    "xgb.fit(x_train, y_train)\n",
    "\n",
    "# Predict the response for test dataset\n",
    "y_pred = xgb.predict(x_test)\n",
    "\n",
    "# Print the confusion matrix\n",
    "print('Confusion Matrix:')\n",
    "print(confusion_matrix(y_test, y_pred))"
   ]
  },
  {
   "cell_type": "markdown",
   "metadata": {},
   "source": [
    "# ***Classification with NLP Methods***"
   ]
  },
  {
   "cell_type": "markdown",
   "metadata": {},
   "source": [
    "## Convert Original Data to Text Sequences"
   ]
  },
  {
   "cell_type": "markdown",
   "metadata": {},
   "source": [
    "### Sentences from Variable Values\n",
    "Create a small sentence from each variable value according to the 2021 SMART BRFSS Survey Codebook"
   ]
  },
  {
   "cell_type": "code",
   "execution_count": 14,
   "metadata": {},
   "outputs": [],
   "source": [
    "sequences = {\n",
    "    # Sec 1 Health Status\n",
    "    '_RFHLTH': {\n",
    "        1: \"i think my health is good or very good\",\n",
    "        2: \"i think my health is fair or poor\"\n",
    "    },\n",
    "\n",
    "    # Sec 2 Healthy Days\n",
    "    '_PHYS14D': {\n",
    "        1: \"my health has not been good for zero days\",\n",
    "        2: \"my health has not been good for 1-13 days\",\n",
    "        3: \"my health has not been good for 14 or more days\"\n",
    "    },\n",
    "\n",
    "    '_MENT14D': {\n",
    "        1: \"my mental health has not been good for zero days\",\n",
    "        2: \"my mental health has not been good for 1-13 days\",\n",
    "        3: \"my mental health has not been good for 14 or more days\"\n",
    "    },\n",
    "\n",
    "    # Sec 3 Health Care Access\n",
    "    '_HLTHPLN': {\n",
    "        1: \"i had some form of health insurance\",\n",
    "        2: \"i didn't have some form of health insurance\"\n",
    "    },\n",
    "\n",
    "    '_HCVU652': {\n",
    "        1: \"i have some form of health insurance\",\n",
    "        2: \"i don't have some form of health insurance\"\n",
    "    },\n",
    "\n",
    "    # Sec 4 Exercise\n",
    "    '_TOTINDA': {\n",
    "        1: \"i have exercised during the past 30 days\",\n",
    "        2: \"i haven't exercised during the past 30 days\"\n",
    "    },\n",
    "\n",
    "    # Sec 5 Hypertension Awareness\n",
    "    '_RFHYPE6': {\n",
    "        1: \"i haven't been told that my blood pressure is high\",\n",
    "        2: \"i have been told that my blood pressure is high\"\n",
    "    },\n",
    "\n",
    "    # Sec 6 Cholesterol Awareness\n",
    "    '_CHOLCH3': {\n",
    "        1: \"i have had my cholesterol checked within the past five years\",\n",
    "        2: \"i haven't had my cholesterol checked within the past five years\",\n",
    "        3: \"i have never had my cholesterol checked\"\n",
    "    },\n",
    "\n",
    "    '_RFCHOL3': {\n",
    "        1: \"i have checked my cholesterol and it's not high\",\n",
    "        2: \"i have checked my cholesterol and it's high\"\n",
    "    },\n",
    "\n",
    "    # Sec 7 Chronic Health Conditions\n",
    "    \n",
    "\n",
    "    # Sec 8 Arthritis\n",
    "    \n",
    "\n",
    "    # Sec 11 Tobacco Use\n",
    "    '_SMOKER3': {\n",
    "        1: \"i smoke every day\",\n",
    "        2: \"i smoke some days\",\n",
    "        3: \"i'm a former smoker\",\n",
    "        4: \"i've never smoked\"\n",
    "    },\n",
    "\n",
    "    # Sec 12 Alcohol Consumption\n",
    "    '_RFBING5': {\n",
    "        1: \"i didn't drink in the past 30 days, but if i did, i didn't drink five or more drinks on an occasion\",\n",
    "        2: \"i did drink in the past 30 days and had five or more drinks on one or more occasions in the past month\"\n",
    "    },\n",
    "\n",
    "    '_RFDRHV7': {\n",
    "        1: \"i'm not a heavy drinker\",\n",
    "        2: \"i'm a heavy drinker\"\n",
    "    },\n",
    "\n",
    "    # Sec 14 HIV/AIDS\n",
    "    '_AIDTST4': {\n",
    "        1: \"i have been tested for HIV\",\n",
    "        2: \"i haven't been tested for HIV\"\n",
    "    },\n",
    "\n",
    "    # Sec 15 Fruits & Vegetables\n",
    "    '_FRTLT1A': {\n",
    "        1: \"i eat fruits one or more times per day\",\n",
    "        2: \"i don't eat fruits one or more times per day\"\n",
    "    },\n",
    "\n",
    "    '_VEGLT1A': {\n",
    "        1: \"i eat vegetables one or more times per day\",\n",
    "        2: \"i don't eat vegetables one or more times per day\"\n",
    "    },\n",
    "    \n",
    "    # Sec 9 Demographics\n",
    "    '_INCOMG1': {\n",
    "        1: \"my inclome is less than 15,000\",\n",
    "        2: \"my income ranges from 15,000 to 25,000\",\n",
    "        3: \"my income ranges from 25,000 to 35,000\",\n",
    "        4: \"my income ranges from 35,000 to 50,000\",\n",
    "        5: \"my income ranges from 50,000 to 100,000\",\n",
    "        6: \"my income ranges from 100,000 to 200,000\",\n",
    "        7: \"my income ranges from 200,000 and higher\"\n",
    "    },\n",
    "\n",
    "    '_EDUCAG': {\n",
    "        1: \"i didn't graduate high school\",\n",
    "        2: \"i graduated high school\",\n",
    "        3: \"i attended college\",\n",
    "        4: \"i graduated from college\"\n",
    "    },\n",
    "\n",
    "    '_RFBMI5': {\n",
    "        1: \"my BMI is less than 25.00\",\n",
    "        2: \"my BMI is greater than 25.00\"\n",
    "    },\n",
    "\n",
    "    '_BMI5CAT': {\n",
    "        1: \"i am underweight\",\n",
    "        2: \"my weight is normal\",\n",
    "        3: \"i am overweight\",\n",
    "        4: \"i am obese\"\n",
    "    },\n",
    "\n",
    "    '_AGE_G': {\n",
    "        1: \"my age is 18 to 24\",\n",
    "        2: \"my age is 25 to 34\",\n",
    "        3: \"my age is 35 to 44\",\n",
    "        4: \"my age is 45 to 54\",\n",
    "        5: \"my age is 55 to 64\",\n",
    "        6: \"my age is 65 or older\",\n",
    "    },\n",
    "\n",
    "    '_SEX': {\n",
    "        1: \"i'm a male\",\n",
    "        2: \"i'm a female\"\n",
    "    },\n",
    "\n",
    "    '_RACE': {\n",
    "        1: \"i'm white\",\n",
    "        2: \"i'm black\",\n",
    "        3: \"i'm american indian or alaskan\",\n",
    "        4: \"i'm asian\",\n",
    "        5: \"i'm native hawaiian or other pacific islander\",\n",
    "        6: \"i belong to some other race\",\n",
    "        7: \"i'm multiracial\",\n",
    "        8: \"i'm hispanic\"\n",
    "    }\n",
    "}"
   ]
  },
  {
   "cell_type": "markdown",
   "metadata": {},
   "source": [
    "Target Variable: '_MICHD': {\n",
    "        1: \"i had MI or CHD\",\n",
    "        2: \"i haven't had MI or CHD\"\n",
    "    },"
   ]
  },
  {
   "cell_type": "markdown",
   "metadata": {},
   "source": [
    "### String Variable Values\n",
    "In the 2021 SMART BRFSS Codebook there are numerical values that correspond to string values, which represent a short description of the variable. The description of each variable value is used to create the small sentence. Here, we use the corresponding string value."
   ]
  },
  {
   "cell_type": "code",
   "execution_count": 51,
   "metadata": {},
   "outputs": [],
   "source": [
    "string_var_values = {\n",
    "    # Sec 1 Health Status\n",
    "    '_RFHLTH': {\n",
    "        1: \"Good or Better Health\",\n",
    "        2: \"Fair or Poor Health\"\n",
    "    },\n",
    "\n",
    "    # Sec 2 Healthy Days\n",
    "    '_PHYS14D': {\n",
    "        1: \"Zero days when physical health not good\",\n",
    "        2: \"1-13 days when physical health not good\",\n",
    "        3: \"14+ days when physical health not good\"\n",
    "    },\n",
    "\n",
    "    '_MENT14D': {\n",
    "        1: \"Zero days when mental health not good\",\n",
    "        2: \"1-13 days when mental health not good\",\n",
    "        3: \"14+ days when mental health not good\"\n",
    "    },\n",
    "\n",
    "    # Sec 3 Health Care Access\n",
    "    '_HLTHPLN': {\n",
    "        1: \"Have some form of insurance\",\n",
    "        2: \"Do not have some form of health insurance\"\n",
    "    },\n",
    "\n",
    "    '_HCVU652': {\n",
    "        1: \"Have some form of health insurance\",\n",
    "        2: \"Do not have any form of health insurance\"\n",
    "    },\n",
    "\n",
    "    # Sec 4 Exercise\n",
    "    '_TOTINDA': {\n",
    "        1: \"Had physical activity or exercise\",\n",
    "        2: \"No physical activity or exercise in last 30 days\"\n",
    "    },\n",
    "\n",
    "    # Sec 5 Hypertension Awareness\n",
    "    '_RFHYPE6': {\n",
    "        1: \"_RFHYPE6-No\",\n",
    "        2: \"_RFHYPE6-Yes\"\n",
    "    },\n",
    "\n",
    "    # Sec 6 Cholesterol Awareness\n",
    "    '_CHOLCH3': {\n",
    "        1: \"Had cholesterol checked in past 5 years\",\n",
    "        2: \"Did not have cholesterol checked in past 5 years\",\n",
    "        3: \"Have never had cholesterol checked\"\n",
    "    },\n",
    "\n",
    "    '_RFCHOL3': {\n",
    "        1: \"_RFCHOL3-No\",\n",
    "        2: \"_RFCHOL3-Yes\"\n",
    "    },\n",
    "\n",
    "    # Sec 7 Chronic Health Conditions\n",
    "    \n",
    "\n",
    "    # Sec 8 Arthritis\n",
    "    \n",
    "\n",
    "    # Sec 11 Tobacco Use\n",
    "    '_SMOKER3': {\n",
    "        1: \"Current smoker-now smokes every day\",\n",
    "        2: \"Current smoker-now smokes some days\",\n",
    "        3: \"Former smoker\",\n",
    "        4: \"Never smoked\"\n",
    "    },\n",
    "\n",
    "    # Sec 12 Alcohol Consumption\n",
    "    '_RFBING5': {\n",
    "        1: \"_RFBING5-No\",\n",
    "        2: \"_RFBING5-Yes\"\n",
    "    },\n",
    "\n",
    "    '_RFDRHV7': {\n",
    "        1: \"_RFDRHV7-No\",\n",
    "        2: \"_RFDRHV7-Yes\"\n",
    "    },\n",
    "\n",
    "    # Sec 14 HIV/AIDS\n",
    "    '_AIDTST4': {\n",
    "        1: \"_AIDTST4-Yes\",\n",
    "        2: \"_AIDTST4-No\"\n",
    "    },\n",
    "\n",
    "    # Sec 15 Fruits & Vegetables\n",
    "    '_FRTLT1A': {\n",
    "        1: \"Consumed fruit one or more times per day\",\n",
    "        2: \"Consumed fruit less than one time per day\"\n",
    "    },\n",
    "\n",
    "    '_VEGLT1A': {\n",
    "        1: \"Consumed vegetables one or more times per day\",\n",
    "        2: \"Consumed vegetables less than one time per day\"\n",
    "    },\n",
    "    \n",
    "    # Sec 9 Demographics\n",
    "    '_INCOMG1': {\n",
    "        1: \"Less than $15,000\",\n",
    "        2: \"$15,000 to less than $25,000\",\n",
    "        3: \"$25,000 to less than $35,000\",\n",
    "        4: \"$35,000 to less than $50,000\",\n",
    "        5: \"$50,000 to less than $100,000\",\n",
    "        6: \"$100,000 to less than $200,000\",\n",
    "        7: \"$200,000 or more\"\n",
    "    },\n",
    "\n",
    "    '_EDUCAG': {\n",
    "        1: \"Did not graduate High School\",\n",
    "        2: \"Graduated High School\",\n",
    "        3: \"Attended College or Technical School\",\n",
    "        4: \"Graduated from College or Technical School\"\n",
    "    },\n",
    "\n",
    "    '_RFBMI5': {\n",
    "        1: \"_RFBMI5-No\",\n",
    "        2: \"_RFBMI5-Yes\"\n",
    "    },\n",
    "\n",
    "    '_BMI5CAT': {\n",
    "        1: \"Underweight\",\n",
    "        2: \"Normal Weight\",\n",
    "        3: \"Overweight\",\n",
    "        4: \"Obese\"\n",
    "    },\n",
    "\n",
    "    '_AGE_G': {\n",
    "        1: \"my age is 18 to 24\",\n",
    "        2: \"my age is 25 to 34\",\n",
    "        3: \"my age is 35 to 44\",\n",
    "        4: \"my age is 45 to 54\",\n",
    "        5: \"my age is 55 to 64\",\n",
    "        6: \"my age is 65 or older\",\n",
    "    },\n",
    "\n",
    "    '_SEX': {\n",
    "        1: \"Male\",\n",
    "        2: \"Female\"\n",
    "    },\n",
    "\n",
    "    '_RACE': {\n",
    "        1: \"White only, non-Hispanic\",\n",
    "        2: \"Black only, non-Hispanic\",\n",
    "        3: \"American Indian or Alaskan Native only, Non-Hispanic\",\n",
    "        4: \"Asian only, non-Hispanic\",\n",
    "        5: \"Native Hawaiian or other Pacific Islander only, Non-Hispanic\",\n",
    "        6: \"Other race only, non-Hispanic\",\n",
    "        7: \"Multiracial, non-Hispanic\",\n",
    "        8: \"Hispanic\"\n",
    "    }\n",
    "}"
   ]
  },
  {
   "cell_type": "markdown",
   "metadata": {},
   "source": [
    "Target Variable: '_MICHD': {\n",
    "        1: \"Reported having MI or CHD\",\n",
    "        2: \"Did not report having MI or CHD\"\n",
    "    },"
   ]
  },
  {
   "cell_type": "markdown",
   "metadata": {},
   "source": [
    "### New Text Dataset Creation\n",
    "We create text datasets based on the transformation of the numerical values to string/text values. Two datasets will be created:\n",
    "- Dataset A: This dataset will transform each variable value into a small sentence\n",
    "- Dataset B: This dataset will transform each variable value into its corresponding text value, according to the text values provided in \"2021 SMART BRFSS Survey Codebook\"."
   ]
  },
  {
   "cell_type": "markdown",
   "metadata": {},
   "source": [
    "The following algorithm implements the generation of text sequences from the original data."
   ]
  },
  {
   "cell_type": "code",
   "execution_count": 52,
   "metadata": {},
   "outputs": [
    {
     "name": "stdout",
     "output_type": "stream",
     "text": [
      "                                                 Sentence  Classification\n",
      "0       i think my health is good or very good, my hea...               2\n",
      "1       i think my health is good or very good, my hea...               2\n",
      "2       i think my health is good or very good, my hea...               2\n",
      "3       i think my health is good or very good, my hea...               2\n",
      "4       i think my health is good or very good, my hea...               2\n",
      "...                                                   ...             ...\n",
      "167578  i think my health is fair or poor, my health h...               1\n",
      "167579  i think my health is good or very good, my hea...               2\n",
      "167580  i think my health is good or very good, my hea...               2\n",
      "167581  i think my health is good or very good, my hea...               2\n",
      "167582  i think my health is good or very good, my hea...               2\n",
      "\n",
      "[167583 rows x 2 columns]\n",
      "\n",
      "                                                 Sentence  Classification\n",
      "0       Good or Better Health, Zero days when physical...               2\n",
      "1       Good or Better Health, Zero days when physical...               2\n",
      "2       Good or Better Health, Zero days when physical...               2\n",
      "3       Good or Better Health, Zero days when physical...               2\n",
      "4       Good or Better Health, Zero days when physical...               2\n",
      "...                                                   ...             ...\n",
      "167578  Fair or Poor Health, 14+ days when physical he...               1\n",
      "167579  Good or Better Health, 1-13 days when physical...               2\n",
      "167580  Good or Better Health, 1-13 days when physical...               2\n",
      "167581  Good or Better Health, Zero days when physical...               2\n",
      "167582  Good or Better Health, Zero days when physical...               2\n",
      "\n",
      "[167583 rows x 2 columns]\n"
     ]
    }
   ],
   "source": [
    "# Create an empty list to store rows for the two datasets\n",
    "new_dataset_rows = [\n",
    "    [],\n",
    "    []\n",
    "]\n",
    "\n",
    "# Create an empty list to store the two datasets\n",
    "text_data = []\n",
    "\n",
    "# Iterate through each row in the original dataset\n",
    "for _, row in dataframes[2].iterrows():\n",
    "    sentence_parts = [\n",
    "        [],  # To store parts of the sentence for each row for dataset A\n",
    "        []   # To store parts of the sentence for each row for dataset B\n",
    "    ]\n",
    "\n",
    "    # Iterate through each column in the original dataset\n",
    "    for column_name, value in row.items():\n",
    "        # Check if the current column is in the sequences dictionary. Both the sequences and the string_var_values dictionaries have the same keys.\n",
    "        if (column_name in sequences) and (value in sequences[column_name]):\n",
    "\n",
    "            # === Dataset A ===\n",
    "            # Get the description for the current value of the variable\n",
    "            description = sequences[column_name].get(value, '')\n",
    "            # Add a comma to the end of the description\n",
    "            description += ','\n",
    "            # Add the description to the sentence parts for dataset A\n",
    "            sentence_parts[0].append(description)\n",
    "\n",
    "            # === Dataset B ===\n",
    "            # Get the description for the current value of the variable\n",
    "            description = string_var_values[column_name].get(value, '')\n",
    "            # Add a comma to the end of the description\n",
    "            description += ','\n",
    "            # Add the description to the sentence parts for dataset B\n",
    "            sentence_parts[1].append(description)\n",
    "        \n",
    "        # Check if the current column is the target variable\n",
    "        elif column_name == '_MICHD':\n",
    "            # Add the target variable's value to the second column of both datasets\n",
    "            classification_value = value\n",
    "    \n",
    "    # === Dataset A ===\n",
    "    # Concatenate the sentence parts into a single sentence\n",
    "    sentence = ' '.join(sentence_parts[0])\n",
    "    \n",
    "    # Create a new row for dataset A\n",
    "    new_dataset_rows[0].append({'Sentence': sentence, 'Classification': classification_value})\n",
    "\n",
    "    # === Dataset B ===\n",
    "    # Concatenate the sentence parts into a single sentence \n",
    "    sentence = ' '.join(sentence_parts[1])\n",
    "    \n",
    "    # Create a new row for dataset B\n",
    "    new_dataset_rows[1].append({'Sentence': sentence, 'Classification': classification_value})\n",
    "\n",
    "# Create the new dataset from the list of rows\n",
    "text_data.append(pd.DataFrame(new_dataset_rows[0]))\n",
    "text_data.append(pd.DataFrame(new_dataset_rows[1]))\n",
    "\n",
    "# Display dataset A\n",
    "print(text_data[0])\n",
    "\n",
    "print()\n",
    "\n",
    "# Display dataset B\n",
    "print(text_data[1])"
   ]
  },
  {
   "cell_type": "code",
   "execution_count": 53,
   "metadata": {},
   "outputs": [],
   "source": [
    "# Capitalize the \"i\" in the beginning of each sentence, remove the comma from the end fo the sentence and replace it with a period.\n",
    "text_data[0]['Sentence'] = text_data[0]['Sentence'].str.rstrip(',')  # Remove comma from the end\n",
    "text_data[0]['Sentence'] = text_data[0]['Sentence'].str.capitalize()  # Capitalize \"I\" at the beginning\n",
    "text_data[0]['Sentence'] = text_data[0]['Sentence'].str.replace(r'\\bi\\b', 'I')  # Capitalize standalone \"i\"\n",
    "text_data[0]['Sentence'] = text_data[0]['Sentence'] + '.'  # Replace comma with a period at the end"
   ]
  },
  {
   "cell_type": "code",
   "execution_count": 54,
   "metadata": {},
   "outputs": [
    {
     "name": "stdout",
     "output_type": "stream",
     "text": [
      "                                                 Sentence  Classification\n",
      "0       I think my health is good or very good, my hea...               2\n",
      "1       I think my health is good or very good, my hea...               2\n",
      "2       I think my health is good or very good, my hea...               2\n",
      "3       I think my health is good or very good, my hea...               2\n",
      "4       I think my health is good or very good, my hea...               2\n",
      "...                                                   ...             ...\n",
      "167578  I think my health is fair or poor, my health h...               1\n",
      "167579  I think my health is good or very good, my hea...               2\n",
      "167580  I think my health is good or very good, my hea...               2\n",
      "167581  I think my health is good or very good, my hea...               2\n",
      "167582  I think my health is good or very good, my hea...               2\n",
      "\n",
      "[167583 rows x 2 columns]\n"
     ]
    }
   ],
   "source": [
    "print(text_data[0])"
   ]
  },
  {
   "cell_type": "code",
   "execution_count": 55,
   "metadata": {},
   "outputs": [],
   "source": [
    "text_data[1]['Sentence'] = text_data[1]['Sentence'].str.rstrip(',')  # Remove comma from the end"
   ]
  },
  {
   "cell_type": "code",
   "execution_count": null,
   "metadata": {},
   "outputs": [],
   "source": [
    "# Based on the value (custom sentence, string/text), convert the \"_MICHD\" target variable values to 1 and 0\n",
    "text_data['Classification'] = text_data['Classification'].map({'Yes': 1, 'No': 0})"
   ]
  },
  {
   "cell_type": "code",
   "execution_count": 48,
   "metadata": {},
   "outputs": [
    {
     "data": {
      "text/plain": [
       "Classification\n",
       "2    153711\n",
       "1     13872\n",
       "Name: count, dtype: int64"
      ]
     },
     "execution_count": 48,
     "metadata": {},
     "output_type": "execute_result"
    }
   ],
   "source": [
    "text_data[0]['Classification'].value_counts()"
   ]
  },
  {
   "cell_type": "code",
   "execution_count": 49,
   "metadata": {},
   "outputs": [
    {
     "data": {
      "text/plain": [
       "Classification\n",
       "2    153711\n",
       "1     13872\n",
       "Name: count, dtype: int64"
      ]
     },
     "execution_count": 49,
     "metadata": {},
     "output_type": "execute_result"
    }
   ],
   "source": [
    "text_data[1]['Classification'].value_counts()"
   ]
  },
  {
   "cell_type": "code",
   "execution_count": 56,
   "metadata": {},
   "outputs": [],
   "source": [
    "# Save the new sentence dataset. This dataset will be used for sequence classification tasks.\n",
    "text_data[1].to_excel(\"Text_Sequence_Dataset.xlsx\",  index=False)"
   ]
  },
  {
   "cell_type": "markdown",
   "metadata": {},
   "source": [
    "## Synthetic Text Generation"
   ]
  },
  {
   "cell_type": "markdown",
   "metadata": {},
   "source": [
    "## Classification using Multinomial Naive Bayes Classifiers"
   ]
  },
  {
   "cell_type": "code",
   "execution_count": 25,
   "metadata": {},
   "outputs": [],
   "source": [
    "# We can add the \"NOT_\" word infront of words that come after negation words\n",
    "def add_not_to_words(sentence):\n",
    "    words = sentence.split()\n",
    "    new_sentence = []\n",
    "\n",
    "    add_not = False\n",
    "\n",
    "    for word in words:\n",
    "        if add_not:\n",
    "            new_sentence.append(\"NOT_\" + word)\n",
    "            # Stop adding \"NOT_\" when a comma is encountered\n",
    "            if \",\" in word:\n",
    "                add_not = False\n",
    "        else:\n",
    "            new_sentence.append(word)\n",
    "\n",
    "        if word.lower() in ['not', \"didn't\", \"don't\", \"haven't\", \"never\"]:\n",
    "            add_not = True\n",
    "\n",
    "    return ' '.join(new_sentence)"
   ]
  },
  {
   "cell_type": "code",
   "execution_count": 24,
   "metadata": {},
   "outputs": [],
   "source": [
    "negation_text_data = text_data[0].copy()"
   ]
  },
  {
   "cell_type": "code",
   "execution_count": 26,
   "metadata": {},
   "outputs": [],
   "source": [
    "# Apply the function to every sentence in the DataFrame\n",
    "negation_text_data['Sentence'] = negation_text_data['Sentence'].apply(add_not_to_words)"
   ]
  },
  {
   "cell_type": "code",
   "execution_count": 28,
   "metadata": {},
   "outputs": [],
   "source": [
    "COST = [\n",
    "    [0, 1],\n",
    "    [0.25, 0]\n",
    "]"
   ]
  },
  {
   "cell_type": "markdown",
   "metadata": {},
   "source": [
    "### Multinomial NB\n"
   ]
  },
  {
   "cell_type": "code",
   "execution_count": 30,
   "metadata": {},
   "outputs": [
    {
     "name": "stdout",
     "output_type": "stream",
     "text": [
      "Confusion Matrix: \n",
      "[[ 2492   976]\n",
      " [11362 27066]]\n",
      "\n",
      "Total Cost: 3816.5\n",
      "\n",
      "Classification Report:\n",
      "              precision    recall  f1-score   support\n",
      "\n",
      "           1       0.18      0.72      0.29      3468\n",
      "           2       0.97      0.70      0.81     38428\n",
      "\n",
      "    accuracy                           0.71     41896\n",
      "   macro avg       0.57      0.71      0.55     41896\n",
      "weighted avg       0.90      0.71      0.77     41896\n",
      "\n"
     ]
    }
   ],
   "source": [
    "# Split the dataset into training and testing sets\n",
    "x_train, x_test, y_train, y_test = train_test_split(negation_text_data['Sentence'], negation_text_data['Classification'], test_size=0.25, random_state=42, stratify=negation_text_data['Classification'])\n",
    "\n",
    "weights = np.zeros(y_train.shape[0])\n",
    "weights[np.where(y_train == 1)] = 1\n",
    "weights[np.where(y_train == 2)] = 0.25\n",
    "\n",
    "# Create a CountVectorizer to convert the text data into numerical features\n",
    "vectorizer = CountVectorizer()\n",
    "x_train_vectorized = vectorizer.fit_transform(x_train)\n",
    "x_test_vectorized = vectorizer.transform(x_test)\n",
    "\n",
    "# Train a Multinomial Naive Bayes classifier\n",
    "clf = MultinomialNB()\n",
    "clf.fit(x_train_vectorized, y_train, sample_weight=weights)\n",
    "\n",
    "# Make predictions on the test set\n",
    "y_pred = clf.predict(x_test_vectorized)\n",
    "\n",
    "\n",
    "# Calculate the confusion matrix\n",
    "conf_matrix = confusion_matrix(y_test, y_pred)\n",
    "print(f'Confusion Matrix: \\n{conf_matrix}\\n')\n",
    "\n",
    "# Calculate the total cost\n",
    "total_cost = np.sum(conf_matrix * COST)\n",
    "print(f'Total Cost: {total_cost}\\n')\n",
    "\n",
    "\n",
    "# Evaluate the performance\n",
    "classification_rep = classification_report(y_test, y_pred)\n",
    "\n",
    "# Display the results\n",
    "print('Classification Report:')\n",
    "print(classification_rep)"
   ]
  },
  {
   "cell_type": "markdown",
   "metadata": {},
   "source": [
    "### Multi-variate Bernoulli NB\n"
   ]
  },
  {
   "cell_type": "code",
   "execution_count": 31,
   "metadata": {},
   "outputs": [
    {
     "name": "stdout",
     "output_type": "stream",
     "text": [
      "Confusion Matrix: \n",
      "[[ 2520   948]\n",
      " [12371 26057]]\n",
      "\n",
      "Total Cost: 4040.75\n",
      "\n",
      "Classification Report:\n",
      "              precision    recall  f1-score   support\n",
      "\n",
      "           1       0.17      0.73      0.27      3468\n",
      "           2       0.96      0.68      0.80     38428\n",
      "\n",
      "    accuracy                           0.68     41896\n",
      "   macro avg       0.57      0.70      0.54     41896\n",
      "weighted avg       0.90      0.68      0.75     41896\n",
      "\n"
     ]
    }
   ],
   "source": [
    "# Split the dataset into training and testing sets\n",
    "x_train, x_test, y_train, y_test = train_test_split(negation_text_data['Sentence'], negation_text_data['Classification'], test_size=0.25, random_state=42, stratify=negation_text_data['Classification'])\n",
    "\n",
    "weights = np.zeros(y_train.shape[0])\n",
    "weights[np.where(y_train == 1)] = 1\n",
    "weights[np.where(y_train == 2)] = 0.25\n",
    "\n",
    "# Create a CountVectorizer to convert the text data into numerical features\n",
    "vectorizer = CountVectorizer()\n",
    "x_train_vectorized = vectorizer.fit_transform(x_train)\n",
    "x_test_vectorized = vectorizer.transform(x_test)\n",
    "\n",
    "# Train a Multinomial Naive Bayes classifier\n",
    "clf = BernoulliNB()\n",
    "clf.fit(x_train_vectorized, y_train, sample_weight=weights)\n",
    "\n",
    "# Make predictions on the test set\n",
    "y_pred = clf.predict(x_test_vectorized)\n",
    "\n",
    "\n",
    "# Calculate the confusion matrix\n",
    "conf_matrix = confusion_matrix(y_test, y_pred)\n",
    "print(f'Confusion Matrix: \\n{conf_matrix}\\n')\n",
    "\n",
    "# Calculate the total cost\n",
    "total_cost = np.sum(conf_matrix * COST)\n",
    "print(f'Total Cost: {total_cost}\\n')\n",
    "\n",
    "\n",
    "# Evaluate the performance\n",
    "classification_rep = classification_report(y_test, y_pred)\n",
    "\n",
    "# Display the results\n",
    "print('Classification Report:')\n",
    "print(classification_rep)"
   ]
  },
  {
   "cell_type": "markdown",
   "metadata": {},
   "source": [
    "### Binary Multinomail NB"
   ]
  },
  {
   "cell_type": "code",
   "execution_count": 33,
   "metadata": {},
   "outputs": [
    {
     "name": "stdout",
     "output_type": "stream",
     "text": [
      "Confusion Matrix: \n",
      "[[ 2656   812]\n",
      " [13125 25303]]\n",
      "\n",
      "Total Cost: 4093.25\n",
      "\n",
      "Classification Report:\n",
      "              precision    recall  f1-score   support\n",
      "\n",
      "           1       0.17      0.77      0.28      3468\n",
      "           2       0.97      0.66      0.78     38428\n",
      "\n",
      "    accuracy                           0.67     41896\n",
      "   macro avg       0.57      0.71      0.53     41896\n",
      "weighted avg       0.90      0.67      0.74     41896\n",
      "\n"
     ]
    }
   ],
   "source": [
    "# Split the dataset into training and testing sets\n",
    "x_train, x_test, y_train, y_test = train_test_split(negation_text_data['Sentence'], negation_text_data['Classification'], test_size=0.25, random_state=42, stratify=negation_text_data['Classification'])\n",
    "\n",
    "weights = np.zeros(y_train.shape[0])\n",
    "weights[np.where(y_train == 1)] = 5\n",
    "weights[np.where(y_train == 2)] = 0.25\n",
    "\n",
    "# Create a CountVectorizer to convert the text data into numerical features\n",
    "vectorizer = CountVectorizer()\n",
    "x_train_vectorized = vectorizer.fit_transform(x_train.apply(lambda x: ' '.join(set(x.split()))))\n",
    "x_test_vectorized = vectorizer.transform(x_test.apply(lambda x: ' '.join(set(x.split()))))\n",
    "\n",
    "# Train a Multinomial Naive Bayes classifier\n",
    "clf = MultinomialNB()\n",
    "clf.fit(x_train_vectorized, y_train, sample_weight=weights)\n",
    "\n",
    "# Make predictions on the test set\n",
    "y_pred = clf.predict(x_test_vectorized)\n",
    "\n",
    "\n",
    "# Calculate the confusion matrix\n",
    "conf_matrix = confusion_matrix(y_test, y_pred)\n",
    "print(f'Confusion Matrix: \\n{conf_matrix}\\n')\n",
    "\n",
    "# Calculate the total cost\n",
    "total_cost = np.sum(conf_matrix * COST)\n",
    "print(f'Total Cost: {total_cost}\\n')\n",
    "\n",
    "\n",
    "# Evaluate the performance\n",
    "classification_rep = classification_report(y_test, y_pred)\n",
    "\n",
    "# Display the results\n",
    "print('Classification Report:')\n",
    "print(classification_rep)"
   ]
  }
 ],
 "metadata": {
  "kernelspec": {
   "display_name": "CDC-BRFSS",
   "language": "python",
   "name": "python3"
  },
  "language_info": {
   "codemirror_mode": {
    "name": "ipython",
    "version": 3
   },
   "file_extension": ".py",
   "mimetype": "text/x-python",
   "name": "python",
   "nbconvert_exporter": "python",
   "pygments_lexer": "ipython3",
   "version": "3.10.12"
  }
 },
 "nbformat": 4,
 "nbformat_minor": 2
}
