{
 "cells": [
  {
   "cell_type": "code",
   "metadata": {
    "ExecuteTime": {
     "end_time": "2024-04-29T12:44:14.601596Z",
     "start_time": "2024-04-29T12:44:12.681514Z"
    }
   },
   "source": [
    "import pandas as pd\n",
    "import numpy as np\n",
    "import matplotlib.pyplot as plt\n",
    "import seaborn as sns\n",
    "from scipy.stats import randint \n",
    "import time\n",
    "import json\n",
    "import math\n",
    "import re\n",
    "from sklearn.svm import SVC\n",
    "from sklearn.tree import DecisionTreeClassifier, export_graphviz, plot_tree\n",
    "from sklearn.neighbors import KNeighborsClassifier\n",
    "from sklearn.model_selection import train_test_split, RandomizedSearchCV, GridSearchCV, StratifiedShuffleSplit\n",
    "from sklearn.metrics import accuracy_score, confusion_matrix, make_scorer, classification_report, RocCurveDisplay\n",
    "from sklearn.ensemble import RandomForestClassifier, AdaBoostClassifier, BaggingClassifier\n",
    "from sklearn.preprocessing import LabelEncoder, OneHotEncoder\n",
    "from imblearn.over_sampling import SMOTE, RandomOverSampler, SMOTEN, SMOTENC, BorderlineSMOTE\n",
    "from imblearn.under_sampling import RandomUnderSampler\n",
    "from sklearn.naive_bayes import GaussianNB, MultinomialNB, BernoulliNB\n",
    "from sklearn.feature_extraction.text import CountVectorizer\n",
    "from xgboost import XGBClassifier\n",
    "from itertools import product\n",
    "from scipy.stats import randint\n",
    "from sklearn import tree\n",
    "from IPython.display import Image\n",
    "import pydotplus\n",
    "import graphviz\n",
    "\n",
    "SEED = 42"
   ],
   "outputs": [],
   "execution_count": 1
  },
  {
   "cell_type": "markdown",
   "metadata": {},
   "source": [
    "# ***Data Overview and Exploration***"
   ]
  },
  {
   "cell_type": "markdown",
   "metadata": {},
   "source": [
    "## Data Overview"
   ]
  },
  {
   "cell_type": "code",
   "metadata": {
    "ExecuteTime": {
     "end_time": "2024-04-29T12:44:22.999919Z",
     "start_time": "2024-04-29T12:44:14.602592Z"
    }
   },
   "source": [
    "data = pd.read_csv('MMSA_2021.csv')"
   ],
   "outputs": [],
   "execution_count": 2
  },
  {
   "cell_type": "code",
   "metadata": {
    "ExecuteTime": {
     "end_time": "2024-04-29T12:44:23.030966Z",
     "start_time": "2024-04-29T12:44:23.005917Z"
    }
   },
   "source": [
    "data.info()"
   ],
   "outputs": [
    {
     "name": "stdout",
     "output_type": "stream",
     "text": [
      "<class 'pandas.core.frame.DataFrame'>\n",
      "RangeIndex: 227792 entries, 0 to 227791\n",
      "Columns: 152 entries, DISPCODE to MMSANAME\n",
      "dtypes: float64(151), object(1)\n",
      "memory usage: 264.2+ MB\n"
     ]
    }
   ],
   "execution_count": 3
  },
  {
   "cell_type": "code",
   "metadata": {
    "ExecuteTime": {
     "end_time": "2024-04-29T12:44:23.103942Z",
     "start_time": "2024-04-29T12:44:23.035961Z"
    }
   },
   "source": [
    "data.head()"
   ],
   "outputs": [
    {
     "data": {
      "text/plain": [
       "   DISPCODE  STATERE1  CELPHON1  LADULT1  COLGSEX  LANDSEX  RESPSLCT  \\\n",
       "0    1200.0       NaN       NaN      NaN      NaN      NaN       NaN   \n",
       "1    1200.0       NaN       NaN      NaN      NaN      NaN       NaN   \n",
       "2    1200.0       NaN       NaN      NaN      NaN      NaN       NaN   \n",
       "3    1200.0       NaN       NaN      NaN      NaN      NaN       NaN   \n",
       "4    1200.0       NaN       NaN      NaN      NaN      NaN       NaN   \n",
       "\n",
       "   SAFETIME  CADULT1  CELLSEX  ...  _FRTLT1A  _VEGLT1A  _FRT16A  _VEG23A  \\\n",
       "0       1.0      1.0      1.0  ...       2.0       1.0      1.0      1.0   \n",
       "1       1.0      1.0      1.0  ...       2.0       1.0      1.0      1.0   \n",
       "2       1.0      1.0      2.0  ...       1.0       1.0      1.0      1.0   \n",
       "3       1.0      1.0      1.0  ...       1.0       1.0      1.0      1.0   \n",
       "4       1.0      1.0      2.0  ...       1.0       1.0      1.0      1.0   \n",
       "\n",
       "       _FRUITE1      _VEGETE1    _MMSA    _MMSAWT         SEQNO  \\\n",
       "0  5.397605e-79  5.397605e-79  10100.0  90.030265  2.021000e+09   \n",
       "1  5.397605e-79  5.397605e-79  10100.0  29.643176  2.021000e+09   \n",
       "2  5.397605e-79  5.397605e-79  10100.0  37.000680  2.021000e+09   \n",
       "3  5.397605e-79  5.397605e-79  10100.0  49.702755  2.021000e+09   \n",
       "4  5.397605e-79  5.397605e-79  10100.0  15.396983  2.021000e+09   \n",
       "\n",
       "                                         MMSANAME  \n",
       "0  b'Aberdeen, SD, Micropolitan Statistical Area'  \n",
       "1  b'Aberdeen, SD, Micropolitan Statistical Area'  \n",
       "2  b'Aberdeen, SD, Micropolitan Statistical Area'  \n",
       "3  b'Aberdeen, SD, Micropolitan Statistical Area'  \n",
       "4  b'Aberdeen, SD, Micropolitan Statistical Area'  \n",
       "\n",
       "[5 rows x 152 columns]"
      ],
      "text/html": [
       "<div>\n",
       "<style scoped>\n",
       "    .dataframe tbody tr th:only-of-type {\n",
       "        vertical-align: middle;\n",
       "    }\n",
       "\n",
       "    .dataframe tbody tr th {\n",
       "        vertical-align: top;\n",
       "    }\n",
       "\n",
       "    .dataframe thead th {\n",
       "        text-align: right;\n",
       "    }\n",
       "</style>\n",
       "<table border=\"1\" class=\"dataframe\">\n",
       "  <thead>\n",
       "    <tr style=\"text-align: right;\">\n",
       "      <th></th>\n",
       "      <th>DISPCODE</th>\n",
       "      <th>STATERE1</th>\n",
       "      <th>CELPHON1</th>\n",
       "      <th>LADULT1</th>\n",
       "      <th>COLGSEX</th>\n",
       "      <th>LANDSEX</th>\n",
       "      <th>RESPSLCT</th>\n",
       "      <th>SAFETIME</th>\n",
       "      <th>CADULT1</th>\n",
       "      <th>CELLSEX</th>\n",
       "      <th>...</th>\n",
       "      <th>_FRTLT1A</th>\n",
       "      <th>_VEGLT1A</th>\n",
       "      <th>_FRT16A</th>\n",
       "      <th>_VEG23A</th>\n",
       "      <th>_FRUITE1</th>\n",
       "      <th>_VEGETE1</th>\n",
       "      <th>_MMSA</th>\n",
       "      <th>_MMSAWT</th>\n",
       "      <th>SEQNO</th>\n",
       "      <th>MMSANAME</th>\n",
       "    </tr>\n",
       "  </thead>\n",
       "  <tbody>\n",
       "    <tr>\n",
       "      <th>0</th>\n",
       "      <td>1200.0</td>\n",
       "      <td>NaN</td>\n",
       "      <td>NaN</td>\n",
       "      <td>NaN</td>\n",
       "      <td>NaN</td>\n",
       "      <td>NaN</td>\n",
       "      <td>NaN</td>\n",
       "      <td>1.0</td>\n",
       "      <td>1.0</td>\n",
       "      <td>1.0</td>\n",
       "      <td>...</td>\n",
       "      <td>2.0</td>\n",
       "      <td>1.0</td>\n",
       "      <td>1.0</td>\n",
       "      <td>1.0</td>\n",
       "      <td>5.397605e-79</td>\n",
       "      <td>5.397605e-79</td>\n",
       "      <td>10100.0</td>\n",
       "      <td>90.030265</td>\n",
       "      <td>2.021000e+09</td>\n",
       "      <td>b'Aberdeen, SD, Micropolitan Statistical Area'</td>\n",
       "    </tr>\n",
       "    <tr>\n",
       "      <th>1</th>\n",
       "      <td>1200.0</td>\n",
       "      <td>NaN</td>\n",
       "      <td>NaN</td>\n",
       "      <td>NaN</td>\n",
       "      <td>NaN</td>\n",
       "      <td>NaN</td>\n",
       "      <td>NaN</td>\n",
       "      <td>1.0</td>\n",
       "      <td>1.0</td>\n",
       "      <td>1.0</td>\n",
       "      <td>...</td>\n",
       "      <td>2.0</td>\n",
       "      <td>1.0</td>\n",
       "      <td>1.0</td>\n",
       "      <td>1.0</td>\n",
       "      <td>5.397605e-79</td>\n",
       "      <td>5.397605e-79</td>\n",
       "      <td>10100.0</td>\n",
       "      <td>29.643176</td>\n",
       "      <td>2.021000e+09</td>\n",
       "      <td>b'Aberdeen, SD, Micropolitan Statistical Area'</td>\n",
       "    </tr>\n",
       "    <tr>\n",
       "      <th>2</th>\n",
       "      <td>1200.0</td>\n",
       "      <td>NaN</td>\n",
       "      <td>NaN</td>\n",
       "      <td>NaN</td>\n",
       "      <td>NaN</td>\n",
       "      <td>NaN</td>\n",
       "      <td>NaN</td>\n",
       "      <td>1.0</td>\n",
       "      <td>1.0</td>\n",
       "      <td>2.0</td>\n",
       "      <td>...</td>\n",
       "      <td>1.0</td>\n",
       "      <td>1.0</td>\n",
       "      <td>1.0</td>\n",
       "      <td>1.0</td>\n",
       "      <td>5.397605e-79</td>\n",
       "      <td>5.397605e-79</td>\n",
       "      <td>10100.0</td>\n",
       "      <td>37.000680</td>\n",
       "      <td>2.021000e+09</td>\n",
       "      <td>b'Aberdeen, SD, Micropolitan Statistical Area'</td>\n",
       "    </tr>\n",
       "    <tr>\n",
       "      <th>3</th>\n",
       "      <td>1200.0</td>\n",
       "      <td>NaN</td>\n",
       "      <td>NaN</td>\n",
       "      <td>NaN</td>\n",
       "      <td>NaN</td>\n",
       "      <td>NaN</td>\n",
       "      <td>NaN</td>\n",
       "      <td>1.0</td>\n",
       "      <td>1.0</td>\n",
       "      <td>1.0</td>\n",
       "      <td>...</td>\n",
       "      <td>1.0</td>\n",
       "      <td>1.0</td>\n",
       "      <td>1.0</td>\n",
       "      <td>1.0</td>\n",
       "      <td>5.397605e-79</td>\n",
       "      <td>5.397605e-79</td>\n",
       "      <td>10100.0</td>\n",
       "      <td>49.702755</td>\n",
       "      <td>2.021000e+09</td>\n",
       "      <td>b'Aberdeen, SD, Micropolitan Statistical Area'</td>\n",
       "    </tr>\n",
       "    <tr>\n",
       "      <th>4</th>\n",
       "      <td>1200.0</td>\n",
       "      <td>NaN</td>\n",
       "      <td>NaN</td>\n",
       "      <td>NaN</td>\n",
       "      <td>NaN</td>\n",
       "      <td>NaN</td>\n",
       "      <td>NaN</td>\n",
       "      <td>1.0</td>\n",
       "      <td>1.0</td>\n",
       "      <td>2.0</td>\n",
       "      <td>...</td>\n",
       "      <td>1.0</td>\n",
       "      <td>1.0</td>\n",
       "      <td>1.0</td>\n",
       "      <td>1.0</td>\n",
       "      <td>5.397605e-79</td>\n",
       "      <td>5.397605e-79</td>\n",
       "      <td>10100.0</td>\n",
       "      <td>15.396983</td>\n",
       "      <td>2.021000e+09</td>\n",
       "      <td>b'Aberdeen, SD, Micropolitan Statistical Area'</td>\n",
       "    </tr>\n",
       "  </tbody>\n",
       "</table>\n",
       "<p>5 rows × 152 columns</p>\n",
       "</div>"
      ]
     },
     "execution_count": 4,
     "metadata": {},
     "output_type": "execute_result"
    }
   ],
   "execution_count": 4
  },
  {
   "cell_type": "code",
   "metadata": {
    "ExecuteTime": {
     "end_time": "2024-04-29T12:44:23.293558Z",
     "start_time": "2024-04-29T12:44:23.107938Z"
    }
   },
   "source": [
    "# Some columns have many null values\n",
    "isna_data = data.isna().sum()\n",
    "for column, count in isna_data.items():\n",
    "    print(f\"{column}: {count}\")"
   ],
   "outputs": [
    {
     "name": "stdout",
     "output_type": "stream",
     "text": [
      "DISPCODE: 0\n",
      "STATERE1: 172268\n",
      "CELPHON1: 172268\n",
      "LADULT1: 172268\n",
      "COLGSEX: 227774\n",
      "LANDSEX: 204447\n",
      "RESPSLCT: 196968\n",
      "SAFETIME: 55524\n",
      "CADULT1: 55524\n",
      "CELLSEX: 55525\n",
      "HHADULT: 55525\n",
      "SEXVAR: 0\n",
      "GENHLTH: 2\n",
      "PHYSHLTH: 2\n",
      "MENTHLTH: 0\n",
      "POORHLTH: 104941\n",
      "PRIMINSR: 1\n",
      "PERSDOC3: 0\n",
      "MEDCOST1: 1\n",
      "CHECKUP1: 0\n",
      "EXERANY2: 0\n",
      "BPHIGH6: 0\n",
      "BPMEDS: 143010\n",
      "CHOLCHK3: 0\n",
      "TOLDHI3: 29849\n",
      "CHOLMED3: 30130\n",
      "CVDINFR4: 0\n",
      "CVDCRHD4: 0\n",
      "CVDSTRK3: 0\n",
      "ASTHMA3: 0\n",
      "ASTHNOW: 195581\n",
      "CHCSCNCR: 0\n",
      "CHCOCNCR: 0\n",
      "CHCCOPD3: 0\n",
      "ADDEPEV3: 0\n",
      "CHCKDNY2: 0\n",
      "DIABETE4: 0\n",
      "DIABAGE3: 199821\n",
      "HAVARTH5: 0\n",
      "ARTHEXER: 158813\n",
      "ARTHEDU: 158813\n",
      "LMTJOIN3: 158813\n",
      "ARTHDIS2: 158813\n",
      "JOINPAI2: 158813\n",
      "MARITAL: 1\n",
      "EDUCA: 0\n",
      "RENTHOM1: 1\n",
      "NUMHHOL3: 172269\n",
      "NUMPHON3: 211707\n",
      "CPDEMO1B: 170\n",
      "VETERAN3: 949\n",
      "EMPLOY1: 2047\n",
      "CHILDREN: 3540\n",
      "INCOME3: 5154\n",
      "PREGNANT: 182883\n",
      "WEIGHT2: 6747\n",
      "HEIGHT3: 7408\n",
      "DEAF: 8316\n",
      "BLIND: 8973\n",
      "DECIDE: 9547\n",
      "DIFFWALK: 10201\n",
      "DIFFDRES: 10646\n",
      "DIFFALON: 11222\n",
      "SMOKE100: 12001\n",
      "SMOKDAY2: 145458\n",
      "USENOW3: 12408\n",
      "ECIGNOW1: 13013\n",
      "ALCDAY5: 13868\n",
      "AVEDRNK3: 113057\n",
      "DRNK3GE5: 113425\n",
      "MAXDRNKS: 113755\n",
      "FLUSHOT7: 15649\n",
      "FLSHTMY3: 115386\n",
      "IMFVPLA2: 117527\n",
      "PNEUVAC4: 16477\n",
      "HIVTST7: 17092\n",
      "HIVTSTD3: 155405\n",
      "FRUIT2: 19309\n",
      "FRUITJU2: 20191\n",
      "FVGREEN1: 20850\n",
      "FRENCHF1: 21453\n",
      "POTATOE1: 22080\n",
      "VEGETAB2: 22778\n",
      "_STSTR: 0\n",
      "_IMPSEX: 0\n",
      "CAGEG: 201128\n",
      "_RFHLTH: 0\n",
      "_PHYS14D: 0\n",
      "_MENT14D: 0\n",
      "_HLTHPLN: 0\n",
      "_HCVU652: 0\n",
      "_TOTINDA: 0\n",
      "_RFHYPE6: 0\n",
      "_CHOLCH3: 0\n",
      "_RFCHOL3: 29981\n",
      "_MICHD: 2308\n",
      "_LTASTH1: 0\n",
      "_CASTHM1: 0\n",
      "_ASTHMS1: 0\n",
      "_DRDXAR3: 1480\n",
      "_LMTACT3: 1480\n",
      "_LMTWRK3: 1480\n",
      "_PRACE1: 0\n",
      "_MRACE1: 0\n",
      "_HISPANC: 0\n",
      "_RACE: 0\n",
      "_RACEG21: 0\n",
      "_RACEGR3: 0\n",
      "_RACEPRV: 0\n",
      "_SEX: 0\n",
      "_AGEG5YR: 0\n",
      "_AGE65YR: 0\n",
      "_AGE80: 0\n",
      "_AGE_G: 0\n",
      "WTKG3: 22711\n",
      "_BMI5: 26341\n",
      "_BMI5CAT: 26341\n",
      "_RFBMI5: 0\n",
      "_EDUCAG: 0\n",
      "_INCOMG1: 0\n",
      "_SMOKER3: 0\n",
      "_RFSMOK3: 0\n",
      "_CURECI1: 0\n",
      "DRNKANY5: 0\n",
      "_RFBING5: 0\n",
      "_DRNKWK1: 0\n",
      "_RFDRHV7: 0\n",
      "_FLSHOT7: 149524\n",
      "_PNEUMO3: 149524\n",
      "_AIDTST4: 17092\n",
      "FTJUDA2_: 24654\n",
      "FRUTDA2_: 24097\n",
      "GRENDA1_: 24449\n",
      "FRNCHDA_: 24886\n",
      "POTADA1_: 26756\n",
      "VEGEDA2_: 26817\n",
      "_MISFRT1: 0\n",
      "_MISVEG1: 0\n",
      "_FRTRES1: 0\n",
      "_VEGRES1: 0\n",
      "_FRUTSU1: 27859\n",
      "_VEGESU1: 32613\n",
      "_FRTLT1A: 0\n",
      "_VEGLT1A: 0\n",
      "_FRT16A: 0\n",
      "_VEG23A: 0\n",
      "_FRUITE1: 0\n",
      "_VEGETE1: 0\n",
      "_MMSA: 0\n",
      "_MMSAWT: 0\n",
      "SEQNO: 0\n",
      "MMSANAME: 0\n"
     ]
    }
   ],
   "execution_count": 5
  },
  {
   "cell_type": "code",
   "metadata": {
    "ExecuteTime": {
     "end_time": "2024-04-29T12:44:23.442068Z",
     "start_time": "2024-04-29T12:44:23.323594Z"
    }
   },
   "source": [
    "# If we were to drop all null values, the data would have no records left\n",
    "data.dropna().shape"
   ],
   "outputs": [
    {
     "data": {
      "text/plain": [
       "(0, 152)"
      ]
     },
     "execution_count": 6,
     "metadata": {},
     "output_type": "execute_result"
    }
   ],
   "execution_count": 6
  },
  {
   "cell_type": "markdown",
   "metadata": {},
   "source": [
    "## Hand-pick Variables\n",
    "Select some interesting columns from the dataset."
   ]
  },
  {
   "cell_type": "markdown",
   "metadata": {},
   "source": [
    "#### Columns"
   ]
  },
  {
   "cell_type": "code",
   "metadata": {
    "ExecuteTime": {
     "end_time": "2024-04-29T12:44:23.454570Z",
     "start_time": "2024-04-29T12:44:23.443574Z"
    }
   },
   "source": [
    "columns = [\n",
    "    # === List with all meaningful columns ===\n",
    "    [\n",
    "        # Sec 1 Health Status\n",
    "        '_RFHLTH',\n",
    "\n",
    "        # Sec 2 Healthy Days\n",
    "        '_PHYS14D',\n",
    "        '_MENT14D',\n",
    "\n",
    "        # Sec 3 Health Care Access\n",
    "        '_HLTHPLN',\n",
    "        '_HCVU652',\n",
    "\n",
    "        # Sec 4 Exercise\n",
    "        '_TOTINDA',\n",
    "\n",
    "        # Sec 5 Hypertension Awareness\n",
    "        '_RFHYPE6',\n",
    "\n",
    "        # Sec 6 Cholesterol Awareness\n",
    "        '_CHOLCH3',\n",
    "        '_RFCHOL3',\n",
    "\n",
    "        # Sec 7 Chronic Health Conditions\n",
    "        '_MICHD',\n",
    "\n",
    "        # Sec 8 Arthritis\n",
    "        '_DRDXAR3',\n",
    "        '_LMTACT3',\n",
    "        '_LMTWRK3',\n",
    "\n",
    "        # Sec 11 Tobacco Use\n",
    "        '_SMOKER3',\n",
    "        '_RFSMOK3',\n",
    "        '_CURECI1',\n",
    "\n",
    "        # Sec 12 Alcohol Consumption\n",
    "        'DRNKANY5',\n",
    "        'ALCDAY5',\n",
    "        '_RFBING5',\n",
    "        '_DRNKWK1',\n",
    "        '_RFDRHV7',\n",
    "\n",
    "        # Sec 14 HIV/AIDS\n",
    "        '_AIDTST4',\n",
    "\n",
    "        # Sec 15 Fruits & Vegetables\n",
    "        'FTJUDA2_',\n",
    "        'FRUTDA2_',\n",
    "        'GRENDA1_',\n",
    "        'FRNCHDA_',\n",
    "        'POTADA1_',\n",
    "        'VEGEDA2_',\n",
    "        '_FRUTSU1',\n",
    "        '_VEGESU1',\n",
    "        '_FRTLT1A',\n",
    "        '_VEGLT1A',\n",
    "        \n",
    "        # Sec 9 Demographics\n",
    "        '_INCOMG1',\n",
    "        '_EDUCAG',\n",
    "        'CHILDREN',\n",
    "        '_RFBMI5',\n",
    "        '_BMI5CAT',\n",
    "        '_BMI5',\n",
    "        'WTKG3',\n",
    "        'HEIGHT3',\n",
    "        '_AGE_G',\n",
    "        '_AGE80',\n",
    "        '_AGE65YR',\n",
    "        '_AGEG5YR',\n",
    "        '_SEX',\n",
    "        '_RACEPRV',\n",
    "        '_RACEGR3',\n",
    "        '_RACEG21',\n",
    "        '_RACE',\n",
    "        '_HISPANC',\n",
    "        '_MRACE1',\n",
    "        '_PRACE1'\n",
    "    ],\n",
    "\n",
    "    # === 1st subset of all the meaningful columns === \n",
    "    [\n",
    "        # Sec 1 Health Status\n",
    "        '_RFHLTH',\n",
    "\n",
    "        # Sec 2 Healthy Days\n",
    "        '_PHYS14D',\n",
    "        '_MENT14D',\n",
    "\n",
    "        # Sec 3 Health Care Access\n",
    "        '_HLTHPLN',\n",
    "        '_HCVU652',\n",
    "\n",
    "        # Sec 4 Exercise\n",
    "        '_TOTINDA',\n",
    "\n",
    "        # Sec 5 Hypertension Awareness\n",
    "        '_RFHYPE6',\n",
    "\n",
    "        # Sec 6 Cholesterol Awareness\n",
    "        '_CHOLCH3',\n",
    "        '_RFCHOL3',\n",
    "\n",
    "        # Sec 7 Chronic Health Conditions\n",
    "        '_MICHD',\n",
    "\n",
    "        # Sec 8 Arthritis\n",
    "\n",
    "        # Sec 11 Tobacco Use\n",
    "        '_SMOKER3',\n",
    "\n",
    "        # Sec 12 Alcohol Consumption\n",
    "        '_RFBING5',\n",
    "        '_RFDRHV7',\n",
    "\n",
    "        # Sec 14 HIV/AIDS\n",
    "        '_AIDTST4',\n",
    "\n",
    "        # Sec 15 Fruits & Vegetables\n",
    "        '_FRUTSU1',\n",
    "        '_VEGESU1',\n",
    "        \n",
    "        # Sec 9 Demographics\n",
    "        '_INCOMG1',\n",
    "        '_EDUCAG',\n",
    "        '_RFBMI5',\n",
    "        '_BMI5CAT',\n",
    "        '_AGE_G',\n",
    "        '_SEX',\n",
    "        '_RACE'\n",
    "    ],\n",
    "\n",
    "\n",
    "    # === 2nd subset of all the meaningul columns ===\n",
    "    [\n",
    "        # Sec 1 Health Status\n",
    "        '_RFHLTH',\n",
    "\n",
    "        # Sec 2 Healthy Days\n",
    "        '_PHYS14D',\n",
    "        '_MENT14D',\n",
    "\n",
    "        # Sec 3 Health Care Access\n",
    "        '_HLTHPLN',\n",
    "        '_HCVU652',\n",
    "\n",
    "        # Sec 4 Exercise\n",
    "        '_TOTINDA',\n",
    "\n",
    "        # Sec 5 Hypertension Awareness\n",
    "        '_RFHYPE6',\n",
    "\n",
    "        # Sec 6 Cholesterol Awareness\n",
    "        '_CHOLCH3',\n",
    "        '_RFCHOL3',\n",
    "\n",
    "        # Sec 7 Chronic Health Conditions\n",
    "        '_MICHD',\n",
    "\n",
    "        # Sec 8 Arthritis\n",
    "        \n",
    "\n",
    "        # Sec 11 Tobacco Use\n",
    "        '_SMOKER3',\n",
    "\n",
    "        # Sec 12 Alcohol Consumption\n",
    "        '_RFBING5',\n",
    "        '_RFDRHV7',\n",
    "\n",
    "        # Sec 14 HIV/AIDS\n",
    "        '_AIDTST4',\n",
    "\n",
    "        # Sec 15 Fruits & Vegetables\n",
    "        '_FRTLT1A',\n",
    "        '_VEGLT1A',\n",
    "        \n",
    "        # Sec 9 Demographics\n",
    "        '_INCOMG1',\n",
    "        '_EDUCAG',\n",
    "        '_RFBMI5',\n",
    "        '_BMI5CAT',\n",
    "        '_AGE_G',\n",
    "        '_SEX',\n",
    "        '_RACE'\n",
    "    ]\n",
    "]"
   ],
   "outputs": [],
   "execution_count": 7
  },
  {
   "cell_type": "markdown",
   "metadata": {},
   "source": [
    "#### Categorical and Continuous Columns\n",
    "We can use the one hot encoder to properly encode the values of each categorical variable that exhibits no apparent order."
   ]
  },
  {
   "cell_type": "code",
   "metadata": {
    "ExecuteTime": {
     "end_time": "2024-04-29T12:44:23.463567Z",
     "start_time": "2024-04-29T12:44:23.456570Z"
    }
   },
   "source": [
    "\"\"\"\n",
    "\n",
    "1: For categorical\n",
    "2: For continuous\n",
    "\n",
    "\"\"\"\n",
    "\n",
    "cat_con_variables = {\n",
    "    # Sec 1 Health Status\n",
    "    '_RFHLTH': 1,\n",
    "\n",
    "    # Sec 2 Healthy Days\n",
    "    '_PHYS14D': 1,\n",
    "    '_MENT14D': 1,\n",
    "\n",
    "    # Sec 3 Health Care Access\n",
    "    '_HLTHPLN': 1,\n",
    "    '_HCVU652': 1,\n",
    "\n",
    "    # Sec 4 Exercise\n",
    "    '_TOTINDA': 1,\n",
    "\n",
    "    # Sec 5 Hypertension Awareness\n",
    "    '_RFHYPE6': 1,\n",
    "\n",
    "    # Sec 6 Cholesterol Awareness\n",
    "    '_CHOLCH3': 1,\n",
    "    '_RFCHOL3': 1,\n",
    "\n",
    "    # Sec 7 Chronic Health Conditions\n",
    "    '_MICHD': 1,\n",
    "\n",
    "    # Sec 8 Arthritis\n",
    "    '_DRDXAR3': 1,\n",
    "    '_LMTACT3': 1,\n",
    "    '_LMTWRK3': 1,\n",
    "\n",
    "    # Sec 11 Tobacco Use\n",
    "    '_SMOKER3': 1,\n",
    "    '_RFSMOK3': 1,\n",
    "    '_CURECI1': 1,\n",
    "\n",
    "    # Sec 12 Alcohol Consumption\n",
    "    'DRNKANY5': 1,\n",
    "    'ALCDAY5': 2,\n",
    "    '_RFBING5': 1,\n",
    "    '_DRNKWK1': 2,\n",
    "    '_RFDRHV7': 1,\n",
    "\n",
    "    # Sec 14 HIV/AIDS\n",
    "    '_AIDTST4': 1,\n",
    "\n",
    "    # Sec 15 Fruits & Vegetables\n",
    "    'FTJUDA2_': 2,\n",
    "    'FRUTDA2_': 2,\n",
    "    'GRENDA1_': 2,\n",
    "    'FRNCHDA_': 2,\n",
    "    'POTADA1_': 2,\n",
    "    'VEGEDA2_': 2,\n",
    "    '_FRUTSU1': 2,\n",
    "    '_VEGESU1': 2,\n",
    "    '_FRTLT1A': 1,\n",
    "    '_VEGLT1A': 1,\n",
    "    \n",
    "    # Sec 9 Demographics\n",
    "    '_INCOMG1': 1,\n",
    "    '_EDUCAG': 1,\n",
    "    'CHILDREN': 1,\n",
    "    '_RFBMI5': 1,\n",
    "    '_BMI5CAT': 1,\n",
    "    '_BMI5': 2,\n",
    "    'WTKG3': 2,\n",
    "    'HEIGHT3': 2,\n",
    "    \n",
    "    # === The age variables can remain the same because their values represent a natural ordering ===\n",
    "    '_AGE_G': 1,\n",
    "    '_AGE80': 1,\n",
    "    '_AGE65YR': 1,\n",
    "    '_AGEG5YR': 1,\n",
    "    \n",
    "    '_SEX': 1,\n",
    "    '_RACEPRV': 1,\n",
    "    '_RACEGR3': 1,\n",
    "    '_RACEG21': 1,\n",
    "    '_RACE': 1,\n",
    "    '_HISPANC': 1,\n",
    "    '_MRACE1': 1,\n",
    "    '_PRACE1': 1\n",
    "}"
   ],
   "outputs": [],
   "execution_count": 8
  },
  {
   "cell_type": "markdown",
   "metadata": {},
   "source": [
    "#### Column Values that are Irrelevant\n",
    "Some columns/variables have values, such as \"Dont Know/Not Sure\", that are irrelevant to the analysis. These values are included in data mining methods but can be ignored in NLP mehtods. NLP methods handle text sequences of varying forms."
   ]
  },
  {
   "cell_type": "code",
   "metadata": {
    "ExecuteTime": {
     "end_time": "2024-04-29T12:44:23.484118Z",
     "start_time": "2024-04-29T12:44:23.478565Z"
    }
   },
   "source": [
    "irrel_col_values = {\n",
    "    # Sec 1 Health Status\n",
    "    '_RFHLTH': 9,\n",
    "\n",
    "    # Sec 2 Healthy Days\n",
    "    '_PHYS14D': 9,\n",
    "    '_MENT14D': 9,\n",
    "\n",
    "    # Sec 3 Health Care Access\n",
    "    '_HLTHPLN': 9,\n",
    "    '_HCVU652': 9,\n",
    "\n",
    "    # Sec 4 Exercise\n",
    "    '_TOTINDA': 9,\n",
    "\n",
    "    # Sec 5 Hypertension Awareness\n",
    "    '_RFHYPE6': 9,\n",
    "\n",
    "    # Sec 6 Cholesterol Awareness\n",
    "    '_CHOLCH3': 9,\n",
    "    '_RFCHOL3': 9,\n",
    "\n",
    "    # Sec 7 Chronic Health Conditions\n",
    "\n",
    "    # Sec 8 Arthritis\n",
    "    '_LMTACT3': 9,\n",
    "    '_LMTWRK3': 9,\n",
    "\n",
    "    # Sec 11 Tobacco Use\n",
    "    '_SMOKER3': 9,\n",
    "    '_RFSMOK3': 9,\n",
    "    '_CURECI1': 9,\n",
    "\n",
    "    # Sec 12 Alcohol Consumption\n",
    "    'DRNKANY5': 9,\n",
    "    'ALCDAY5': 900,\n",
    "    '_RFBING5': 9,\n",
    "    '_DRNKWK1': 99900,\n",
    "    '_RFDRHV7': 9,\n",
    "\n",
    "    # Sec 14 HIV/AIDS\n",
    "    '_AIDTST4': 9,\n",
    "\n",
    "    # Sec 15 Fruits & Vegetables\n",
    "    '_FRTLT1A': 9,\n",
    "    '_VEGLT1A': 9,\n",
    "    \n",
    "    # Sec 9 Demographics\n",
    "    '_INCOMG1': 9,\n",
    "    '_EDUCAG': 9,\n",
    "    'CHILDREN': 9,\n",
    "    '_RFBMI5': 9,\n",
    "    '_AGE65YR': 3,\n",
    "    '_AGEG5YR': 14,\n",
    "    '_RACEGR3': 9,\n",
    "    '_RACEG21': 9,\n",
    "    '_RACE': 9,\n",
    "    '_HISPANC': 9,\n",
    "    '_MRACE1': [77,99],\n",
    "    '_PRACE1': [77, 99]\n",
    "}"
   ],
   "outputs": [],
   "execution_count": 9
  },
  {
   "cell_type": "code",
   "metadata": {
    "ExecuteTime": {
     "end_time": "2024-04-29T12:44:30.567863Z",
     "start_time": "2024-04-29T12:44:23.485622Z"
    }
   },
   "source": [
    "for column, values in irrel_col_values.items():\n",
    "    if isinstance(values, int):  \n",
    "        num_rows = len(data[data[column] == values])\n",
    "        print(f\"Number of rows with value {values} in column '{column}': {num_rows}\")\n",
    "    elif isinstance(values, list):  \n",
    "        num_rows = len(data[data[column].isin(values)])\n",
    "        print(f\"Number of rows with values in {values} in column '{column}': {num_rows}\")\n",
    "\n",
    "# Calculating the size of the dataset after removing rows with specified values\n",
    "filtered_data = data.copy() \n",
    "for column, values in irrel_col_values.items():\n",
    "    if isinstance(values, int):  \n",
    "        filtered_data = filtered_data[filtered_data[column] != values]\n",
    "    elif isinstance(values, list):  \n",
    "        filtered_data = filtered_data[~filtered_data[column].isin(values)]\n",
    "\n",
    "# Calculate the size of the filtered dataset\n",
    "filtered_size = filtered_data.shape[0]\n",
    "print(f\"Size of the dataset after removing rows with specified values: {filtered_size}\")"
   ],
   "outputs": [
    {
     "name": "stdout",
     "output_type": "stream",
     "text": [
      "Number of rows with value 9 in column '_RFHLTH': 601\n",
      "Number of rows with value 9 in column '_PHYS14D': 4691\n",
      "Number of rows with value 9 in column '_MENT14D': 4011\n",
      "Number of rows with value 9 in column '_HLTHPLN': 9341\n",
      "Number of rows with value 9 in column '_HCVU652': 83992\n",
      "Number of rows with value 9 in column '_TOTINDA': 454\n",
      "Number of rows with value 9 in column '_RFHYPE6': 1031\n",
      "Number of rows with value 9 in column '_CHOLCH3': 15155\n",
      "Number of rows with value 9 in column '_RFCHOL3': 1639\n",
      "Number of rows with value 9 in column '_LMTACT3': 712\n",
      "Number of rows with value 9 in column '_LMTWRK3': 1664\n",
      "Number of rows with value 9 in column '_SMOKER3': 14005\n",
      "Number of rows with value 9 in column '_RFSMOK3': 14005\n",
      "Number of rows with value 9 in column '_CURECI1': 13478\n",
      "Number of rows with value 9 in column 'DRNKANY5': 15146\n",
      "Number of rows with value 900 in column 'ALCDAY5': 0\n",
      "Number of rows with value 9 in column '_RFBING5': 19641\n",
      "Number of rows with value 99900 in column '_DRNKWK1': 19412\n",
      "Number of rows with value 9 in column '_RFDRHV7': 19412\n",
      "Number of rows with value 9 in column '_AIDTST4': 11198\n",
      "Number of rows with value 9 in column '_FRTLT1A': 27859\n",
      "Number of rows with value 9 in column '_VEGLT1A': 32613\n",
      "Number of rows with value 9 in column '_INCOMG1': 50442\n",
      "Number of rows with value 9 in column '_EDUCAG': 1471\n",
      "Number of rows with value 9 in column 'CHILDREN': 23\n",
      "Number of rows with value 9 in column '_RFBMI5': 26341\n",
      "Number of rows with value 3 in column '_AGE65YR': 5586\n",
      "Number of rows with value 14 in column '_AGEG5YR': 5586\n",
      "Number of rows with value 9 in column '_RACEGR3': 6007\n",
      "Number of rows with value 9 in column '_RACEG21': 6007\n",
      "Number of rows with value 9 in column '_RACE': 6007\n",
      "Number of rows with value 9 in column '_HISPANC': 3241\n",
      "Number of rows with values in [77, 99] in column '_MRACE1': 7869\n",
      "Number of rows with values in [77, 99] in column '_PRACE1': 7869\n",
      "Size of the dataset after removing rows with specified values: 84002\n"
     ]
    }
   ],
   "execution_count": 10
  },
  {
   "cell_type": "markdown",
   "metadata": {},
   "source": [
    "Some columns described in the 2021 SMART City and Country CodeBook are derived from other columns in the dataset.\n",
    "\n",
    "- DROCDY3_ Calculated variable for drink-occasions-per-day. DROCDY3_ is derived from ALCDAY5 by dividing the ALCDAY5 variable by 7 days per week or 30 days per month.\n",
    "\n",
    "- _CHLDCNT Calculated variable for number of children in household. _CHLDCNT is derived from CHILDREN.\n",
    "\n",
    "- HTM4 Calculated variable for reported height in meters. HTM4 is derived from the variable HTIN4 by multiplying HTIN4 by 2.54 cm per in and dividing by 100 cm per meter. HTM4 is derived from HEIGHT2 metric values by dividing by 100.\n",
    "\n",
    "- HTIN4 Calculated variable for reported height in inches. HTIN4 is derived from HEIGHT3. HTIN4 is calculated by adding the foot portion of HEIGHT3 multiplied by 12, to the inch portion. "
   ]
  },
  {
   "cell_type": "markdown",
   "metadata": {},
   "source": [
    "## Candidate Dataframe Creation"
   ]
  },
  {
   "cell_type": "code",
   "metadata": {
    "ExecuteTime": {
     "end_time": "2024-04-29T12:44:30.588856Z",
     "start_time": "2024-04-29T12:44:30.572861Z"
    }
   },
   "source": [
    "# Check if the columns selected earlier exist in the dataset\n",
    "for col in columns[0]:\n",
    "    if col in data.columns:\n",
    "        print(col)\n",
    "    else:\n",
    "        print(f'{col} does not exist')"
   ],
   "outputs": [
    {
     "name": "stdout",
     "output_type": "stream",
     "text": [
      "_RFHLTH\n",
      "_PHYS14D\n",
      "_MENT14D\n",
      "_HLTHPLN\n",
      "_HCVU652\n",
      "_TOTINDA\n",
      "_RFHYPE6\n",
      "_CHOLCH3\n",
      "_RFCHOL3\n",
      "_MICHD\n",
      "_DRDXAR3\n",
      "_LMTACT3\n",
      "_LMTWRK3\n",
      "_SMOKER3\n",
      "_RFSMOK3\n",
      "_CURECI1\n",
      "DRNKANY5\n",
      "ALCDAY5\n",
      "_RFBING5\n",
      "_DRNKWK1\n",
      "_RFDRHV7\n",
      "_AIDTST4\n",
      "FTJUDA2_\n",
      "FRUTDA2_\n",
      "GRENDA1_\n",
      "FRNCHDA_\n",
      "POTADA1_\n",
      "VEGEDA2_\n",
      "_FRUTSU1\n",
      "_VEGESU1\n",
      "_FRTLT1A\n",
      "_VEGLT1A\n",
      "_INCOMG1\n",
      "_EDUCAG\n",
      "CHILDREN\n",
      "_RFBMI5\n",
      "_BMI5CAT\n",
      "_BMI5\n",
      "WTKG3\n",
      "HEIGHT3\n",
      "_AGE_G\n",
      "_AGE80\n",
      "_AGE65YR\n",
      "_AGEG5YR\n",
      "_SEX\n",
      "_RACEPRV\n",
      "_RACEGR3\n",
      "_RACEG21\n",
      "_RACE\n",
      "_HISPANC\n",
      "_MRACE1\n",
      "_PRACE1\n"
     ]
    }
   ],
   "execution_count": 11
  },
  {
   "cell_type": "code",
   "metadata": {
    "ExecuteTime": {
     "end_time": "2024-04-29T12:44:30.715833Z",
     "start_time": "2024-04-29T12:44:30.597853Z"
    }
   },
   "source": [
    "# How many null values each selected column has\n",
    "isna_data = data[columns[0]].isna().sum()\n",
    "for column, count in isna_data.items():\n",
    "    print(f\"{column}: {count}\")"
   ],
   "outputs": [
    {
     "name": "stdout",
     "output_type": "stream",
     "text": [
      "_RFHLTH: 0\n",
      "_PHYS14D: 0\n",
      "_MENT14D: 0\n",
      "_HLTHPLN: 0\n",
      "_HCVU652: 0\n",
      "_TOTINDA: 0\n",
      "_RFHYPE6: 0\n",
      "_CHOLCH3: 0\n",
      "_RFCHOL3: 29981\n",
      "_MICHD: 2308\n",
      "_DRDXAR3: 1480\n",
      "_LMTACT3: 1480\n",
      "_LMTWRK3: 1480\n",
      "_SMOKER3: 0\n",
      "_RFSMOK3: 0\n",
      "_CURECI1: 0\n",
      "DRNKANY5: 0\n",
      "ALCDAY5: 13868\n",
      "_RFBING5: 0\n",
      "_DRNKWK1: 0\n",
      "_RFDRHV7: 0\n",
      "_AIDTST4: 17092\n",
      "FTJUDA2_: 24654\n",
      "FRUTDA2_: 24097\n",
      "GRENDA1_: 24449\n",
      "FRNCHDA_: 24886\n",
      "POTADA1_: 26756\n",
      "VEGEDA2_: 26817\n",
      "_FRUTSU1: 27859\n",
      "_VEGESU1: 32613\n",
      "_FRTLT1A: 0\n",
      "_VEGLT1A: 0\n",
      "_INCOMG1: 0\n",
      "_EDUCAG: 0\n",
      "CHILDREN: 3540\n",
      "_RFBMI5: 0\n",
      "_BMI5CAT: 26341\n",
      "_BMI5: 26341\n",
      "WTKG3: 22711\n",
      "HEIGHT3: 7408\n",
      "_AGE_G: 0\n",
      "_AGE80: 0\n",
      "_AGE65YR: 0\n",
      "_AGEG5YR: 0\n",
      "_SEX: 0\n",
      "_RACEPRV: 0\n",
      "_RACEGR3: 0\n",
      "_RACEG21: 0\n",
      "_RACE: 0\n",
      "_HISPANC: 0\n",
      "_MRACE1: 0\n",
      "_PRACE1: 0\n"
     ]
    }
   ],
   "execution_count": 12
  },
  {
   "cell_type": "code",
   "metadata": {
    "ExecuteTime": {
     "end_time": "2024-04-29T12:44:31.184541Z",
     "start_time": "2024-04-29T12:44:30.725831Z"
    }
   },
   "source": [
    "# Create dataframes based on the selected columns\n",
    "# Question: Should we drop the rows with null values?\n",
    "dataframes = [\n",
    "    data[columns[0]].dropna().copy(),\n",
    "    data[columns[1]].dropna().copy(),\n",
    "    data[columns[2]].dropna().copy(),\n",
    "]"
   ],
   "outputs": [],
   "execution_count": 13
  },
  {
   "cell_type": "code",
   "metadata": {
    "ExecuteTime": {
     "end_time": "2024-04-29T12:44:31.245826Z",
     "start_time": "2024-04-29T12:44:31.189540Z"
    }
   },
   "source": [
    "object_cols = []\n",
    "for col, cat_con_var in cat_con_variables.items():\n",
    "    if cat_con_var == 1:\n",
    "        object_cols.append(col)\n",
    "\n",
    "print(f'Categorical Columns: \\n{object_cols}')"
   ],
   "outputs": [
    {
     "name": "stdout",
     "output_type": "stream",
     "text": [
      "Categorical Columns: \n",
      "['_RFHLTH', '_PHYS14D', '_MENT14D', '_HLTHPLN', '_HCVU652', '_TOTINDA', '_RFHYPE6', '_CHOLCH3', '_RFCHOL3', '_MICHD', '_DRDXAR3', '_LMTACT3', '_LMTWRK3', '_SMOKER3', '_RFSMOK3', '_CURECI1', 'DRNKANY5', '_RFBING5', '_RFDRHV7', '_AIDTST4', '_FRTLT1A', '_VEGLT1A', '_INCOMG1', '_EDUCAG', 'CHILDREN', '_RFBMI5', '_BMI5CAT', '_AGE_G', '_AGE80', '_AGE65YR', '_AGEG5YR', '_SEX', '_RACEPRV', '_RACEGR3', '_RACEG21', '_RACE', '_HISPANC', '_MRACE1', '_PRACE1']\n"
     ]
    }
   ],
   "execution_count": 14
  },
  {
   "cell_type": "code",
   "metadata": {
    "ExecuteTime": {
     "end_time": "2024-04-29T12:44:31.510157Z",
     "start_time": "2024-04-29T12:44:31.267814Z"
    }
   },
   "source": [
    "for dataframe in dataframes:\n",
    "    dataframe['_MICHD'] = dataframe['_MICHD'].replace({1.0: 1, 2.0: 2})\n",
    "    dataframe['_MICHD'] = dataframe['_MICHD'].astype('int64')\n",
    "\n",
    "    # Convert categorical columns to integers\n",
    "    for column, col_type in cat_con_variables.items():\n",
    "        if col_type == 1 and (column in dataframe.columns):  # Check if the column is categorical\n",
    "            dataframe[column] = dataframe[column].astype('int64')\n",
    "\n",
    "    # Use this if you want to utilize the one hot encoder\n",
    "    # The one hot encoder will create sub-variables for each distinct value of a variable\n",
    "    #dataframe = pd.get_dummies(dataframe, columns=object_cols)"
   ],
   "outputs": [],
   "execution_count": 15
  },
  {
   "cell_type": "code",
   "metadata": {
    "ExecuteTime": {
     "end_time": "2024-04-29T12:44:31.519961Z",
     "start_time": "2024-04-29T12:44:31.512149Z"
    }
   },
   "source": [
    "dataframes[0]['_MICHD'].value_counts()"
   ],
   "outputs": [
    {
     "data": {
      "text/plain": [
       "_MICHD\n",
       "2    141513\n",
       "1     12410\n",
       "Name: count, dtype: int64"
      ]
     },
     "execution_count": 16,
     "metadata": {},
     "output_type": "execute_result"
    }
   ],
   "execution_count": 16
  },
  {
   "cell_type": "code",
   "metadata": {
    "ExecuteTime": {
     "end_time": "2024-04-29T12:44:31.527808Z",
     "start_time": "2024-04-29T12:44:31.520956Z"
    }
   },
   "source": [
    "dataframes[0].shape"
   ],
   "outputs": [
    {
     "data": {
      "text/plain": [
       "(153923, 52)"
      ]
     },
     "execution_count": 17,
     "metadata": {},
     "output_type": "execute_result"
    }
   ],
   "execution_count": 17
  },
  {
   "cell_type": "code",
   "metadata": {
    "ExecuteTime": {
     "end_time": "2024-04-29T12:44:31.689241Z",
     "start_time": "2024-04-29T12:44:31.528805Z"
    }
   },
   "source": [
    "# Print the total number of duplicates for one of the categories of variable \"_MICHD\"\n",
    "dataframes[2][dataframes[2]['_MICHD'] == 2].duplicated().sum()"
   ],
   "outputs": [
    {
     "data": {
      "text/plain": [
       "32930"
      ]
     },
     "execution_count": 18,
     "metadata": {},
     "output_type": "execute_result"
    }
   ],
   "execution_count": 18
  },
  {
   "metadata": {
    "ExecuteTime": {
     "end_time": "2024-04-29T12:45:00.496136Z",
     "start_time": "2024-04-29T12:44:31.690207Z"
    }
   },
   "cell_type": "code",
   "source": [
    "# Split variables into groups of five\n",
    "variable_groups = [dataframes[2].columns[i:i+5] for i in range(0, len(dataframes[2].columns), 5)]\n",
    "\n",
    "# Plot each group of variables\n",
    "for group in variable_groups:\n",
    "    plt.figure(figsize=(12, 6))\n",
    "    for idx, variable in enumerate(group):\n",
    "        plt.subplot(math.ceil(len(group)/2), 2, idx+1)\n",
    "        sns.countplot(data=dataframes[2], x=variable, hue=variable, palette='Set3', legend=False)\n",
    "        plt.title(f'Frequency of Categories in {variable}')\n",
    "        plt.xlabel('Categories')\n",
    "        plt.ylabel('Frequency')\n",
    "        plt.xticks(rotation=45)\n",
    "    plt.tight_layout()\n",
    "    plt.show()"
   ],
   "outputs": [
    {
     "data": {
      "text/plain": [
       "<Figure size 1200x600 with 5 Axes>"
      ],
      "image/png": "[encoded data removed]"
     },
     "metadata": {},
     "output_type": "display_data"
    },
    {
     "data": {
      "text/plain": [
       "<Figure size 1200x600 with 5 Axes>"
      ],
      "image/png": "[encoded data removed]"
     },
     "metadata": {},
     "output_type": "display_data"
    },
    {
     "data": {
      "text/plain": [
       "<Figure size 1200x600 with 5 Axes>"
      ],
      "image/png": "[encoded data removed]"
     },
     "metadata": {},
     "output_type": "display_data"
    },
    {
     "data": {
      "text/plain": [
       "<Figure size 1200x600 with 5 Axes>"
      ],
      "image/png": "[encoded data removed]"
     },
     "metadata": {},
     "output_type": "display_data"
    },
    {
     "data": {
      "text/plain": [
       "<Figure size 1200x600 with 3 Axes>"
      ],
      "image/png": "[encoded data removed]"
     },
     "metadata": {},
     "output_type": "display_data"
    }
   ],
   "execution_count": 19
  },
  {
   "cell_type": "markdown",
   "metadata": {},
   "source": [
    "### Dataset Sample Creation\n",
    "Create a sample for one of the dataframes for later feature extraction and classification. Another method we can use to take a sample is to split the original dataframe and apply a combination of oversampling and undersampling to the training set."
   ]
  },
  {
   "cell_type": "markdown",
   "metadata": {},
   "source": [
    "First way to create a sample: \n",
    "- Take all the samples from the minority class\n",
    "- Define a percentage of samples that you want to take and subtract the number of minority class samples; that will be the number of majority class samples"
   ]
  },
  {
   "cell_type": "code",
   "metadata": {},
   "source": [
    "# Take all minority samples. Including duplicates\n",
    "minority_samples = dataframes[2][dataframes[2]['_MICHD'] == 1.0] \n",
    "num_minority_samples = len(minority_samples)\n",
    "\n",
    "\"\"\"\n",
    "Lets say that we want to take p% of the original dataframe as a sample. The first step we have to take is subtract the number of minority samples assuming we have already included them in our sample.\n",
    "The second step is to add the necessary number of majority samples in our sample until we reach the upper limit which is p% of samples. We can add some of the unique samples from the majority class \n",
    "to the sample or we can randomly pick some of them. Below, we add unique samples to the sample.\n",
    "\"\"\"\n",
    "num_majority_samples =  math.floor(dataframes[2].shape[0] * 0.25) - num_minority_samples\n",
    "majority_unique_samples = dataframes[2][dataframes[2]['_MICHD'] == 2.0].drop_duplicates()\n",
    "num_unique_majority_samples = len(majority_unique_samples)\n",
    "\n",
    "majority_samples = majority_unique_samples.sample(n=num_majority_samples)\n",
    "\n",
    "dataframe_sample = pd.concat([minority_samples, majority_samples])"
   ],
   "outputs": [],
   "execution_count": null
  },
  {
   "cell_type": "markdown",
   "metadata": {},
   "source": [
    "Second way to create a sample:\n",
    "- Perform stratified sampling using a percentage of samples"
   ]
  },
  {
   "cell_type": "code",
   "metadata": {},
   "source": [
    "# Specify the fraction of samples you want to retain in the subset (e.g., 0.5 for 50%)\n",
    "subset_fraction = 0.1\n",
    "\n",
    "# Perform stratified sampling to create a smaller dataframe\n",
    "dataframe_sample = dataframes[2].groupby('_MICHD', group_keys = False).apply(lambda x: x.sample(frac = subset_fraction))"
   ],
   "outputs": [],
   "execution_count": null
  },
  {
   "cell_type": "markdown",
   "metadata": {},
   "source": [
    "Third way to create a sample:\n",
    "- Undersample the majority class so we can keep all instances of the minority class, thereby reducing the overall size of the dataset. The downside of this approach is we lose valuable instances of the majority class."
   ]
  },
  {
   "cell_type": "code",
   "metadata": {},
   "source": [
    "# Define the undersampler\n",
    "undersampler = RandomUnderSampler(random_state=42)\n",
    "\n",
    "# Separate features (X) and target variable (y)\n",
    "x = dataframes[2].drop(columns=['_MICHD'])\n",
    "y = dataframes[2]['_MICHD']\n",
    "\n",
    "# Perform undersampling\n",
    "x_resampled, y_resampled = undersampler.fit_resample(x, y)\n",
    "\n",
    "# Construct the balanced DataFrame\n",
    "dataframe_sample = pd.concat([x_resampled, y_resampled], axis=1)"
   ],
   "outputs": [],
   "execution_count": null
  },
  {
   "cell_type": "code",
   "metadata": {},
   "source": [
    "dataframe_sample.shape"
   ],
   "outputs": [],
   "execution_count": null
  },
  {
   "cell_type": "code",
   "metadata": {},
   "source": [
    "dataframe_sample['_MICHD'].value_counts()"
   ],
   "outputs": [],
   "execution_count": null
  },
  {
   "cell_type": "code",
   "metadata": {},
   "source": [
    "dataframe_sample.info()"
   ],
   "outputs": [],
   "execution_count": null
  },
  {
   "cell_type": "markdown",
   "metadata": {},
   "source": [
    "## Feature Selection with SVM\n",
    "Feature selection with a linear SVM is time consuming. However, we can use undersampling to take all the instances of the minority class and reduce the size of the majority class. Use this methodology only if you want to improve the results of the classification."
   ]
  },
  {
   "cell_type": "code",
   "metadata": {},
   "source": [
    "def calc_cost(y_true, y_pred, cost_matrix):\n",
    "    conf = confusion_matrix(y_true,y_pred).T\n",
    "    return np.sum(conf * cost_matrix)"
   ],
   "outputs": [],
   "execution_count": null
  },
  {
   "cell_type": "code",
   "metadata": {},
   "source": [
    "def find_best_params(estimator, params, train_set, validation_set, starting_point = 0):\n",
    "    train_x = train_set[0]\n",
    "    train_y = train_set[1]\n",
    "    test_x = validation_set[0]\n",
    "    test_y = validation_set[1]\n",
    "    \n",
    "    min_cost = np.inf\n",
    "    best_params = {}  \n",
    "    full_params_set = []\n",
    "    \n",
    "    if type(params) == dict:\n",
    "        \n",
    "        for values in product(*params.values()):\n",
    "            point = dict(zip(params.keys(), values))\n",
    "            full_params_set.append(point)\n",
    "        \n",
    "    elif type(params) == list:\n",
    "        \n",
    "        for params_subset in params:\n",
    "            for values in product(*params_subset.values()):\n",
    "                point = dict(zip(params_subset.keys(), values))\n",
    "                full_params_set.append(point)\n",
    "    \n",
    "    else:\n",
    "        return []\n",
    "    \n",
    "    steps = len(full_params_set)\n",
    "    counter = starting_point\n",
    "    print(f\"Testing {steps} models in total.\")\n",
    "    start = time.time()\n",
    "    \n",
    "    performance_log = []\n",
    "    \n",
    "    for params in full_params_set[starting_point:]:\n",
    "\n",
    "        estimator.set_params(**params)\n",
    "        estimator.fit(train_x,train_y)\n",
    "        pred_y = estimator.predict(test_x)\n",
    "        cost_matrix = np.matrix([[0,1], [40,0]])\n",
    "        cost = calc_cost(test_y, pred_y, cost_matrix)\n",
    "\n",
    "        if cost < min_cost:\n",
    "            min_cost = cost\n",
    "            best_params = params\n",
    "        \n",
    "        log = f\"{counter}/{steps} | Cost: {cost} | Elapsed: {int((time.time()-start)*100)/100}s | {params}\"\n",
    "        performance_log.append(log)\n",
    "        print(\"________________________________________________________________________________________\")\n",
    "        print(log)\n",
    "        print(\"________________________________________________________________________________________\")\n",
    "        counter += 1\n",
    "        if counter % 10 == 0:\n",
    "            with open(\"Performance_Logs.txt\", \"w\") as f:\n",
    "                f.write(\"\\n\".join(performance_log))\n",
    "\n",
    "    return best_params"
   ],
   "outputs": [],
   "execution_count": null
  },
  {
   "cell_type": "code",
   "metadata": {},
   "source": [
    "linear_params = {\"C\":[0.1,1.0,10.0,100.0],\"kernel\":[\"linear\"]}\n",
    "\n",
    "# If the columns are all type float, then there is no need to apply label encoding\n",
    "#LE = LabelEncoder()\n",
    "#data_encoded = dataframe_sample.apply(LE.fit_transform, axis = 1)\n",
    "\n",
    "target_column = \"_MICHD\"\n",
    "\n",
    "y = dataframe_sample[target_column]\n",
    "x = dataframe_sample.drop(columns = [target_column])\n",
    "\n",
    "x_train,x_test,y_train,y_test = train_test_split(x, y, test_size = 0.20)\n",
    "x_train,x_val,y_train,y_val = train_test_split(x_train, y_train, test_size = 0.25)"
   ],
   "outputs": [],
   "execution_count": null
  },
  {
   "cell_type": "code",
   "metadata": {},
   "source": [
    "best_params = find_best_params(SVC(), linear_params, [x_train, y_train], [x_val, y_val])"
   ],
   "outputs": [],
   "execution_count": null
  },
  {
   "cell_type": "code",
   "metadata": {},
   "source": [
    "print(best_params)"
   ],
   "outputs": [],
   "execution_count": null
  },
  {
   "cell_type": "code",
   "metadata": {},
   "source": [
    "classifier = SVC(**best_params)\n",
    "classifier.fit(x_train, y_train)\n",
    "weights = zip(list(data.columns),classifier.coef_.todense().data)\n",
    "weights_sorted = {k: v for k, v in sorted(weights.items(), key=lambda item: item[1])}\n",
    "with open(\"Important_Features.json\",\"w\") as f:\n",
    "    json.dump(weights_sorted,f)"
   ],
   "outputs": [],
   "execution_count": null
  },
  {
   "cell_type": "markdown",
   "metadata": {},
   "source": [
    "## Feature Selection with Random Forests\n",
    "We can use the GridSearch, or the RandomizedSearch method with the Random Forest algorithm to evaluate the importance of each variable and identify the optimal features for assessing the risk of MI or CHD."
   ]
  },
  {
   "cell_type": "code",
   "metadata": {},
   "source": [
    "target_column = \"_MICHD\"\n",
    "\n",
    "y = dataframes[2][target_column]\n",
    "x = dataframes[2].drop(columns = [target_column])\n",
    "\n",
    "# y = dataframe_sample[target_column]\n",
    "# x = dataframe_sample.drop(columns = [target_column])"
   ],
   "outputs": [],
   "execution_count": null
  },
  {
   "cell_type": "code",
   "metadata": {},
   "source": [
    "# Define the cost matrix\n",
    "cost_matrix = [[0, 0.25],  # Cost of false positive \n",
    "               [1, 0]]  # Cost of false negative"
   ],
   "outputs": [],
   "execution_count": null
  },
  {
   "cell_type": "code",
   "metadata": {},
   "source": [
    "# Define a custom scoring function using the cost matrix\n",
    "def custom_score(y_true, y_pred):\n",
    "    cm = confusion_matrix(y_true, y_pred)\n",
    "    cost = np.sum(cm * cost_matrix)\n",
    "    return -cost  # Minimize cost, so negative of cost is returned"
   ],
   "outputs": [],
   "execution_count": null
  },
  {
   "cell_type": "code",
   "metadata": {},
   "source": [
    "# Make the custom scoring function into a scorer object\n",
    "custom_scorer = make_scorer(custom_score, greater_is_better = False)"
   ],
   "outputs": [],
   "execution_count": null
  },
  {
   "cell_type": "markdown",
   "metadata": {},
   "source": [
    "### Random Search"
   ]
  },
  {
   "cell_type": "code",
   "metadata": {},
   "source": [
    "# Define the parameter distributions to sample from\n",
    "param_dist = {\n",
    "    'n_estimators': randint(50, 200),\n",
    "    'max_depth': [None] + list(range(10, 21)),\n",
    "    'min_samples_split': randint(2, 11)\n",
    "}\n",
    "\n",
    "# Initialize a Random Forest classifier\n",
    "rf_classifier = RandomForestClassifier(random_state=42)\n",
    "\n",
    "# Initialize RandomizedSearchCV with custom scoring\n",
    "random_search = RandomizedSearchCV(estimator=rf_classifier, param_distributions=param_dist, n_iter=10, cv=5, \n",
    "                                   scoring=custom_scorer, n_jobs=4, random_state=42)\n"
   ],
   "outputs": [],
   "execution_count": null
  },
  {
   "cell_type": "markdown",
   "metadata": {},
   "source": [
    "### Grid Search"
   ]
  },
  {
   "cell_type": "code",
   "metadata": {},
   "source": [
    "# Define the parameter grid to search\n",
    "param_grid = {\n",
    "    'n_estimators': [50, 100, 200],\n",
    "    'max_depth': [None, 10, 20],\n",
    "    'min_samples_split': [2, 5, 10]\n",
    "}\n",
    "\n",
    "# Initialize a Random Forest classifier\n",
    "rf_classifier = RandomForestClassifier(random_state=42)\n",
    "\n",
    "# Initialize GridSearchCV\n",
    "grid_search = GridSearchCV(estimator=rf_classifier, param_grid=param_grid, cv=5, n_jobs=4, scoring=custom_scorer)\n"
   ],
   "outputs": [],
   "execution_count": null
  },
  {
   "cell_type": "markdown",
   "metadata": {},
   "source": [
    "### Initialize search, output the best parameters, and print feature importance"
   ]
  },
  {
   "cell_type": "code",
   "metadata": {
    "jupyter": {
     "is_executing": true
    }
   },
   "source": [
    "random_search.fit(x, y)\n",
    "#grid_search.fit(x, y)"
   ],
   "outputs": [],
   "execution_count": null
  },
  {
   "cell_type": "code",
   "metadata": {
    "jupyter": {
     "is_executing": true
    }
   },
   "source": [
    "# Get the best parameters from the random search\n",
    "best_params = random_search.best_params_\n",
    "\n",
    "# Print the best parameters\n",
    "print(\"Best Parameters:\", best_params)\n",
    "\n",
    "# Get the best estimator (Random Forest classifier with the best parameters)\n",
    "best_rf_classifier = random_search.best_estimator_\n",
    "\n",
    "# Train the best classifier on the entire dataset\n",
    "best_rf_classifier.fit(x, y)\n",
    "\n",
    "# Extract feature importance\n",
    "feature_importances = best_rf_classifier.feature_importances_"
   ],
   "outputs": [],
   "execution_count": null
  },
  {
   "cell_type": "markdown",
   "metadata": {},
   "source": [
    "Print the importance of each feature if original unaltered variables are used."
   ]
  },
  {
   "cell_type": "code",
   "metadata": {
    "jupyter": {
     "is_executing": true
    }
   },
   "source": [
    "# Sort the features and their importance scores by importance in descending order\n",
    "sorted_features = sorted(zip(x.columns, feature_importances), key=lambda x: x[1], reverse=True)\n",
    "\n",
    "# Print all features and their importance scores in descending order\n",
    "print(\"\\nFeature Importance (Descending Order):\")\n",
    "for feature, importance in sorted_features:\n",
    "    print(f\"{feature}: {importance}\")"
   ],
   "outputs": [],
   "execution_count": null
  },
  {
   "cell_type": "markdown",
   "metadata": {},
   "source": [
    "Print the importance of each feature if one hot encoder is used."
   ]
  },
  {
   "cell_type": "code",
   "metadata": {
    "jupyter": {
     "is_executing": true
    }
   },
   "source": [
    "feature_importance_sum = {}\n",
    "\n",
    "for feature, importance in zip(x.columns, feature_importances):\n",
    "    feature_name = re.sub(r'^(.*?)_.+', r'\\1', feature)\n",
    "\n",
    "    if feature_name in feature_importance_sum:\n",
    "        feature_importance_sum[feature_name] += importance\n",
    "    else:\n",
    "        feature_importance_sum[feature_name] = importance\n",
    "\n",
    "sorted_feature_importance_sum = sorted(feature_importance_sum.items(), key=lambda x: x[1], reverse=True)\n",
    "\n",
    "for feature, importance_sum in sorted_feature_importance_sum:\n",
    "    print(f\"{feature}: {importance_sum}\")"
   ],
   "outputs": [],
   "execution_count": null
  },
  {
   "cell_type": "markdown",
   "metadata": {},
   "source": [
    "Print the top features if original unaltered variables are used."
   ]
  },
  {
   "cell_type": "code",
   "metadata": {
    "jupyter": {
     "is_executing": true
    }
   },
   "source": [
    "num_top_features = 23  # You can adjust this number based on your preference\n",
    "top_feature_indices = feature_importances.argsort()[-num_top_features:][::-1]\n",
    "top_features = x.columns[top_feature_indices]\n",
    "\n",
    "print(\"Top features:\")\n",
    "for feature in top_features:\n",
    "    print(feature)"
   ],
   "outputs": [],
   "execution_count": null
  },
  {
   "cell_type": "markdown",
   "metadata": {},
   "source": [
    "Print the top features if one hot encoder is used."
   ]
  },
  {
   "cell_type": "code",
   "metadata": {
    "jupyter": {
     "is_executing": true
    }
   },
   "source": [
    "top_features = [sorted_feature_importance_sum[i][0] for i in range(13)]\n",
    "\n",
    "complete_features = []\n",
    "\n",
    "for feature in top_features:\n",
    "  for column in dataframe_sample.columns:\n",
    "      if column.startswith(feature):\n",
    "          suffix = column[len(feature):].lstrip('_')\n",
    "          if suffix != '':\n",
    "            complete_part = feature + '_' + suffix\n",
    "          else:\n",
    "            complete_part = feature\n",
    "\n",
    "          complete_features.append(complete_part)\n",
    "\n",
    "top_features = complete_features\n",
    "for complete_feat in top_features: print(complete_feat)"
   ],
   "outputs": [],
   "execution_count": null
  },
  {
   "cell_type": "markdown",
   "metadata": {},
   "source": [
    "# ***Classification with Data Mining Methods***"
   ]
  },
  {
   "cell_type": "markdown",
   "metadata": {},
   "source": [
    "## Class Frequency of the Target Variable"
   ]
  },
  {
   "cell_type": "code",
   "metadata": {
    "ExecuteTime": {
     "end_time": "2024-04-29T12:45:02.022037Z",
     "start_time": "2024-04-29T12:45:01.303756Z"
    }
   },
   "source": [
    "# Counts for the \"Had_CHD_MI\" variable\n",
    "sns.countplot(data=dataframes[2],x='_MICHD')"
   ],
   "outputs": [
    {
     "data": {
      "text/plain": [
       "<Axes: xlabel='_MICHD', ylabel='count'>"
      ]
     },
     "execution_count": 20,
     "metadata": {},
     "output_type": "execute_result"
    },
    {
     "data": {
      "text/plain": [
       "<Figure size 640x480 with 1 Axes>"
      ],
      "image/png": "[encoded data removed]"
     },
     "metadata": {},
     "output_type": "display_data"
    }
   ],
   "execution_count": 20
  },
  {
   "cell_type": "markdown",
   "metadata": {},
   "source": "<h1 style=\"text-align: center;\">Generation of Synthetic Data</h1>"
  },
  {
   "cell_type": "markdown",
   "metadata": {},
   "source": "<h2> Here we try different oversampling methods and for each variant we run the model and save the results </h2>"
  },
  {
   "cell_type": "code",
   "metadata": {
    "ExecuteTime": {
     "end_time": "2024-04-29T12:45:02.109433Z",
     "start_time": "2024-04-29T12:45:02.032034Z"
    }
   },
   "source": "SMOTE_data = dataframes[2].copy()",
   "outputs": [],
   "execution_count": 21
  },
  {
   "cell_type": "code",
   "metadata": {
    "ExecuteTime": {
     "end_time": "2024-04-29T12:45:02.158299Z",
     "start_time": "2024-04-29T12:45:02.120429Z"
    }
   },
   "source": [
    "SMOTE_data['_MICHD'].value_counts()"
   ],
   "outputs": [
    {
     "data": {
      "text/plain": [
       "_MICHD\n",
       "2    153711\n",
       "1     13872\n",
       "Name: count, dtype: int64"
      ]
     },
     "execution_count": 22,
     "metadata": {},
     "output_type": "execute_result"
    }
   ],
   "execution_count": 22
  },
  {
   "cell_type": "code",
   "metadata": {
    "ExecuteTime": {
     "end_time": "2024-04-29T12:45:02.354257Z",
     "start_time": "2024-04-29T12:45:02.169296Z"
    }
   },
   "source": [
    "SMOTE_data.drop_duplicates()['_MICHD'].value_counts()"
   ],
   "outputs": [
    {
     "data": {
      "text/plain": [
       "_MICHD\n",
       "2    120781\n",
       "1     12936\n",
       "Name: count, dtype: int64"
      ]
     },
     "execution_count": 23,
     "metadata": {},
     "output_type": "execute_result"
    }
   ],
   "execution_count": 23
  },
  {
   "metadata": {
    "ExecuteTime": {
     "end_time": "2024-04-29T12:45:02.392753Z",
     "start_time": "2024-04-29T12:45:02.366761Z"
    }
   },
   "cell_type": "code",
   "source": "target_column = \"_MICHD\"",
   "outputs": [],
   "execution_count": 24
  },
  {
   "metadata": {},
   "cell_type": "markdown",
   "source": "<h3 style=\"text-align: center;\"> First variant: Borderline SMOTE </h3>"
  },
  {
   "metadata": {},
   "cell_type": "markdown",
   "source": "#### Split data before applying Borderline SMOTE"
  },
  {
   "metadata": {
    "jupyter": {
     "is_executing": true
    }
   },
   "cell_type": "code",
   "source": "SMOTE_train_data, SMOTE_test_data = train_test_split(SMOTE_data, test_size=0.20, stratify=SMOTE_data['_MICHD'])",
   "outputs": [],
   "execution_count": null
  },
  {
   "metadata": {
    "jupyter": {
     "is_executing": true
    }
   },
   "cell_type": "code",
   "source": [
    "# Separate the dataframe into minority and majority classes\n",
    "minority_df = SMOTE_data[SMOTE_data['_MICHD'] == 1.0]\n",
    "majority_df = SMOTE_data[SMOTE_data['_MICHD'] == 2.0]\n",
    "\n",
    "# Split the minority class into training and testing sets\n",
    "minority_train, minority_test = train_test_split(minority_df, test_size=0.1)\n",
    "\n",
    "# Split the majority class into training and testing sets\n",
    "majority_train, majority_test = train_test_split(majority_df, test_size=0.3)\n",
    "\n",
    "# Concatenate the training and testing sets for both classes\n",
    "train_set = pd.concat([minority_train, majority_train])\n",
    "test_set = pd.concat([minority_test, majority_test])\n",
    "\n",
    "# Shuffle the rows in the testing set\n",
    "test_set = test_set.sample(frac=1)\n",
    "\n",
    "# Ensure that the testing set does not contain samples from the training set\n",
    "test_set = test_set[~test_set.index.isin(train_set.index)]\n",
    "\n",
    "# Verify the class distribution in the training and testing sets\n",
    "print(\"Training set class distribution:\")\n",
    "print(train_set['_MICHD'].value_counts())\n",
    "print(\"\\nTesting set class distribution:\")\n",
    "print(test_set['_MICHD'].value_counts())"
   ],
   "outputs": [],
   "execution_count": null
  },
  {
   "cell_type": "code",
   "metadata": {
    "jupyter": {
     "is_executing": true
    }
   },
   "source": [
    "# Generate synthetic data for the original imbalanced data\n",
    "resampled_data = BorderlineSMOTE().fit_resample(train_set.drop(columns = ['_MICHD']), \n",
    "                                        train_set['_MICHD'])\n",
    "train_set = resampled_data[0]\n",
    "train_set[target_column] = resampled_data[1].to_numpy()"
   ],
   "outputs": [],
   "execution_count": null
  },
  {
   "cell_type": "code",
   "metadata": {
    "jupyter": {
     "is_executing": true
    }
   },
   "source": [
    "# Counts for the \"Had_CHD_MI\" variable\n",
    "sns.countplot(data=train_set,x='_MICHD')"
   ],
   "outputs": [],
   "execution_count": null
  },
  {
   "cell_type": "code",
   "metadata": {
    "jupyter": {
     "is_executing": true
    }
   },
   "source": [
    "# 0: Reported having MI or CHD\n",
    "# 1: Did not report having MI or CHD\n",
    "\n",
    "train_set['_MICHD'] = train_set['_MICHD'].map({1.0: 0, 2.0: 1})\n",
    "test_set['_MICHD'] = test_set['_MICHD'].map({1.0: 0, 2.0: 1})"
   ],
   "outputs": [],
   "execution_count": null
  },
  {
   "cell_type": "markdown",
   "metadata": {},
   "source": [
    "#### Apply Borderline SMOTE without spliting data"
   ]
  },
  {
   "cell_type": "code",
   "metadata": {
    "ExecuteTime": {
     "end_time": "2024-04-29T12:46:36.189973Z",
     "start_time": "2024-04-29T12:45:02.409748Z"
    }
   },
   "source": [
    "# Generate synthetic data for the original imbalanced data\n",
    "resampled_data = BorderlineSMOTE().fit_resample(SMOTE_data.drop(columns = ['_MICHD']), \n",
    "                                        SMOTE_data['_MICHD'])\n",
    "SMOTE_data = resampled_data[0]\n",
    "SMOTE_data[target_column] = resampled_data[1].to_numpy()\n",
    "\n",
    "# This variable specifies the oversampling method we use. 1 is for the first method, 2 is for the second and so on. Based on this variable, the results are saved to the correct dataframe.\n",
    "method=1"
   ],
   "outputs": [],
   "execution_count": 25
  },
  {
   "cell_type": "code",
   "metadata": {
    "ExecuteTime": {
     "end_time": "2024-04-29T12:46:38.998428Z",
     "start_time": "2024-04-29T12:46:36.193972Z"
    }
   },
   "source": [
    "# Counts for the \"Had_CHD_MI\" variable\n",
    "sns.countplot(data=SMOTE_data,x='_MICHD')"
   ],
   "outputs": [
    {
     "data": {
      "text/plain": [
       "<Axes: xlabel='_MICHD', ylabel='count'>"
      ]
     },
     "execution_count": 26,
     "metadata": {},
     "output_type": "execute_result"
    },
    {
     "data": {
      "text/plain": [
       "<Figure size 640x480 with 1 Axes>"
      ],
      "image/png": "[encoded data removed]"
     },
     "metadata": {},
     "output_type": "display_data"
    }
   ],
   "execution_count": 26
  },
  {
   "cell_type": "code",
   "metadata": {
    "ExecuteTime": {
     "end_time": "2024-04-29T12:46:39.029418Z",
     "start_time": "2024-04-29T12:46:39.000428Z"
    }
   },
   "source": [
    "# 0: Reported having MI or CHD\n",
    "# 1: Did not report having MI or CHD\n",
    "\n",
    "SMOTE_data['_MICHD'] = SMOTE_data['_MICHD'].map({1.0: 0, 2.0: 1})"
   ],
   "outputs": [],
   "execution_count": 27
  },
  {
   "metadata": {
    "ExecuteTime": {
     "end_time": "2024-04-29T12:46:39.055410Z",
     "start_time": "2024-04-29T12:46:39.039415Z"
    }
   },
   "cell_type": "code",
   "source": [
    "# In this dataframe we will keep the results for every oversampling variant and for all the methods we use. In rows, we have the metrics and in columns, we have the classifiers.\n",
    "BorderlineSMOTE_loss = pd.DataFrame(columns = ['XGBoost', 'Decision Tree', 'GaussianNB', 'Random Forests', 'KNN', 'Logistic regression'])\n",
    "BorderlineSMOTE_precision = pd.DataFrame(columns=['XGBoost', 'Decision Tree', 'GaussianNB', 'Random Forests', 'KNN', 'Logistic regression'])\n",
    "BorderlineSMOTE_recall = pd.DataFrame(columns=['XGBoost', 'Decision Tree', 'GaussianNB', 'Random Forests', 'KNN', 'Logistic regression'])\n",
    "BorderlineSMOTE_f1_score = pd.DataFrame(columns=['XGBoost', 'Decision Tree', 'GaussianNB', 'Random Forests', 'KNN', 'Logistic regression'])"
   ],
   "outputs": [],
   "execution_count": 28
  },
  {
   "metadata": {},
   "cell_type": "markdown",
   "source": "<h3 style=\"text-align: center;\"> Second variant: SMOTE-Tomek </h3>"
  },
  {
   "metadata": {
    "jupyter": {
     "is_executing": true
    }
   },
   "cell_type": "code",
   "source": [
    "# Generate synthetic data for the original imbalanced data\n",
    "from imblearn.combine import SMOTETomek\n",
    "\n",
    "smote_tomek = SMOTETomek()\n",
    "resampled_data = smote_tomek.fit_resample(SMOTE_data.drop(columns=['_MICHD']), SMOTE_data['_MICHD'])\n",
    "\n",
    "SMOTE_data = resampled_data[0]\n",
    "SMOTE_data[target_column] = resampled_data[1].to_numpy()\n",
    "\n",
    "method=2"
   ],
   "outputs": [],
   "execution_count": null
  },
  {
   "metadata": {
    "jupyter": {
     "is_executing": true
    }
   },
   "cell_type": "code",
   "source": [
    "# Counts for the \"Had_CHD_MI\" variable\n",
    "sns.countplot(data=SMOTE_data,x='_MICHD')"
   ],
   "outputs": [],
   "execution_count": null
  },
  {
   "metadata": {
    "jupyter": {
     "is_executing": true
    }
   },
   "cell_type": "code",
   "source": [
    "# 0: Reported having MI or CHD\n",
    "# 1: Did not report having MI or CHD\n",
    "\n",
    "SMOTE_data['_MICHD'] = SMOTE_data['_MICHD'].map({1.0: 0, 2.0: 1})"
   ],
   "outputs": [],
   "execution_count": null
  },
  {
   "metadata": {
    "jupyter": {
     "is_executing": true
    }
   },
   "cell_type": "code",
   "source": [
    "# In this dataframe we will keep the results for every oversampling variant and for all the methods we use. In rows, we have the metrics and in columns, we have the classifiers.\n",
    "smote_tomek_loss = pd.DataFrame(columns = ['XGBoost', 'Decision Tree', 'GaussianNB', 'Random Forests', 'KNN', 'Logistic regression'])\n",
    "smote_tomek_precision = pd.DataFrame(columns=['XGBoost', 'Decision Tree', 'GaussianNB', 'Random Forests', 'KNN', 'Logistic regression'])\n",
    "smote_tomek_recall = pd.DataFrame(columns=['XGBoost', 'Decision Tree', 'GaussianNB', 'Random Forests', 'KNN', 'Logistic regression'])\n",
    "smote_tomek_f1_score = pd.DataFrame(columns=['XGBoost', 'Decision Tree', 'GaussianNB', 'Random Forests', 'KNN', 'Logistic regression'])"
   ],
   "outputs": [],
   "execution_count": null
  },
  {
   "metadata": {},
   "cell_type": "markdown",
   "source": "<h3 style=\"text-align: center;\"> Third variant: ADASYN (Adaptive Synthetic Sampling) </h3>"
  },
  {
   "metadata": {},
   "cell_type": "markdown",
   "source": "ADASYN is an extension of SMOTE that adaptively generates samples according to the local density of minority samples. It focuses more on regions where the class imbalance is more severe."
  },
  {
   "metadata": {
    "jupyter": {
     "is_executing": true
    }
   },
   "cell_type": "code",
   "source": [
    "from imblearn.over_sampling import ADASYN\n",
    "\n",
    "adasyn = ADASYN()\n",
    "resampled_data = adasyn.fit_resample(SMOTE_data.drop(columns=['_MICHD']), SMOTE_data['_MICHD'])\n",
    "\n",
    "SMOTE_data = resampled_data[0]\n",
    "SMOTE_data[target_column] = resampled_data[1].to_numpy()\n",
    "\n",
    "method=3"
   ],
   "outputs": [],
   "execution_count": null
  },
  {
   "metadata": {
    "jupyter": {
     "is_executing": true
    }
   },
   "cell_type": "code",
   "source": [
    "# Counts for the \"Had_CHD_MI\" variable\n",
    "sns.countplot(data=SMOTE_data,x='_MICHD')"
   ],
   "outputs": [],
   "execution_count": null
  },
  {
   "metadata": {
    "jupyter": {
     "is_executing": true
    }
   },
   "cell_type": "code",
   "source": [
    "# 0: Reported having MI or CHD\n",
    "# 1: Did not report having MI or CHD\n",
    "\n",
    "SMOTE_data['_MICHD'] = SMOTE_data['_MICHD'].map({1.0: 0, 2.0: 1})"
   ],
   "outputs": [],
   "execution_count": null
  },
  {
   "metadata": {
    "jupyter": {
     "is_executing": true
    }
   },
   "cell_type": "code",
   "source": [
    "# In this dataframe we will keep the results for every oversampling variant and for all the methods we use. In rows, we have the metrics and in columns, we have the classifiers.\n",
    "adasyn_loss = pd.DataFrame(columns = ['XGBoost', 'Decision Tree', 'GaussianNB', 'Random Forests', 'KNN', 'Logistic regression'])\n",
    "adasyn_precision = pd.DataFrame(columns=['XGBoost', 'Decision Tree', 'GaussianNB', 'Random Forests', 'KNN', 'Logistic regression'])\n",
    "adasyn_recall = pd.DataFrame(columns=['XGBoost', 'Decision Tree', 'GaussianNB', 'Random Forests', 'KNN', 'Logistic regression'])\n",
    "adasyn_f1_score = pd.DataFrame(columns=['XGBoost', 'Decision Tree', 'GaussianNB', 'Random Forests', 'KNN', 'Logistic regression'])"
   ],
   "outputs": [],
   "execution_count": null
  },
  {
   "metadata": {},
   "cell_type": "markdown",
   "source": "<h3 style=\"text-align: center;\"> Fourth variant: SMOTE </h3>"
  },
  {
   "metadata": {
    "jupyter": {
     "is_executing": true
    }
   },
   "cell_type": "code",
   "source": [
    "from imblearn.over_sampling import SMOTE\n",
    "\n",
    "resampled_data = SMOTE().fit_resample(SMOTE_data.drop(columns=['_MICHD']), SMOTE_data['_MICHD'])\n",
    "\n",
    "SMOTE_data = resampled_data[0]\n",
    "SMOTE_data[target_column] = resampled_data[1].to_numpy()\n",
    "\n",
    "method=4"
   ],
   "outputs": [],
   "execution_count": null
  },
  {
   "metadata": {
    "jupyter": {
     "is_executing": true
    }
   },
   "cell_type": "code",
   "source": [
    "# Counts for the \"Had_CHD_MI\" variable\n",
    "sns.countplot(data=SMOTE_data,x='_MICHD')"
   ],
   "outputs": [],
   "execution_count": null
  },
  {
   "metadata": {
    "jupyter": {
     "is_executing": true
    }
   },
   "cell_type": "code",
   "source": [
    "# 0: Reported having MI or CHD\n",
    "# 1: Did not report having MI or CHD\n",
    "\n",
    "SMOTE_data['_MICHD'] = SMOTE_data['_MICHD'].map({1.0: 0, 2.0: 1})"
   ],
   "outputs": [],
   "execution_count": null
  },
  {
   "metadata": {
    "jupyter": {
     "is_executing": true
    }
   },
   "cell_type": "code",
   "source": [
    "# In this dataframe we will keep the results for every oversampling variant and for all the methods we use. In rows, we have the metrics and in columns, we have the classifiers.\n",
    "SMOTE_loss = pd.DataFrame(columns = ['XGBoost', 'Decision Tree', 'GaussianNB', 'Random Forests', 'KNN', 'Logistic regression'])\n",
    "SMOTE_precision = pd.DataFrame(columns=['XGBoost', 'Decision Tree', 'GaussianNB', 'Random Forests', 'KNN', 'Logistic regression'])\n",
    "SMOTE_recall = pd.DataFrame(columns=['XGBoost', 'Decision Tree', 'GaussianNB', 'Random Forests', 'KNN', 'Logistic regression'])\n",
    "SMOTE_f1_score = pd.DataFrame(columns=['XGBoost', 'Decision Tree', 'GaussianNB', 'Random Forests', 'KNN', 'Logistic regression'])"
   ],
   "outputs": [],
   "execution_count": null
  },
  {
   "cell_type": "markdown",
   "metadata": {},
   "source": [
    "## Classification"
   ]
  },
  {
   "cell_type": "code",
   "metadata": {
    "ExecuteTime": {
     "end_time": "2024-04-29T12:46:58.656921Z",
     "start_time": "2024-04-29T12:46:58.649923Z"
    }
   },
   "source": [
    "# Define the cost matrix\n",
    "cost_matrix = [ \n",
    "    [0, 0.25],  \n",
    "    [1, 0]\n",
    "] "
   ],
   "outputs": [],
   "execution_count": 29
  },
  {
   "cell_type": "markdown",
   "metadata": {},
   "source": [
    "### ***XGBoost***"
   ]
  },
  {
   "cell_type": "markdown",
   "metadata": {},
   "source": [
    "#### XGBoost for pre-split data"
   ]
  },
  {
   "cell_type": "code",
   "metadata": {
    "ExecuteTime": {
     "end_time": "2024-04-29T12:47:08.712219Z",
     "start_time": "2024-04-29T12:47:08.708677Z"
    }
   },
   "source": [
    "# # Calculate the scale_pos_weight based on the corrected cost matrix\n",
    "# scale_pos_weight = cost_matrix[1][0] / cost_matrix[0][1]\n",
    "# \n",
    "# # Create an XGBClassifier object\n",
    "# xgb_model = XGBClassifier(n_estimators = 500, learning_rate = 0.1, scale_pos_weight=scale_pos_weight)\n",
    "# \n",
    "# # Train the classifier\n",
    "# xgb_model.fit(train_set.drop(columns=['_MICHD']), train_set['_MICHD'])\n",
    "# \n",
    "# # Predict the response for test dataset\n",
    "# y_pred = xgb_model.predict(test_set.drop(columns=['_MICHD']))\n",
    "# \n",
    "# # Print the confusion matrix\n",
    "# print('Confusion Matrix:')\n",
    "# print(confusion_matrix(test_set['_MICHD'], y_pred))"
   ],
   "outputs": [],
   "execution_count": 30
  },
  {
   "cell_type": "markdown",
   "metadata": {},
   "source": [
    "#### XGBoost for non-split data"
   ]
  },
  {
   "cell_type": "code",
   "metadata": {
    "ExecuteTime": {
     "end_time": "2024-04-29T12:47:12.751391Z",
     "start_time": "2024-04-29T12:47:12.447488Z"
    }
   },
   "source": [
    "# Split the balanced dataset to a set of training and testing samples \n",
    "x_train, x_test, y_train, y_test = train_test_split(SMOTE_data.drop(columns=['_MICHD']), SMOTE_data['_MICHD'], test_size=0.25, random_state=SEED)"
   ],
   "outputs": [],
   "execution_count": 31
  },
  {
   "cell_type": "code",
   "source": [
    "from sklearn.model_selection import GridSearchCV\n",
    "\n",
    "# Define the parameter grid to search\n",
    "param_grid = {\n",
    "    'n_estimators': [100, 300, 500],  # Number of trees in the forest\n",
    "    'learning_rate': [0.05, 0.1, 0.2],  # Learning rate\n",
    "    'max_depth': [3, 5, 7],  # Maximum depth of each tree\n",
    "    'min_child_weight': [1, 3, 5],  # Minimum sum of instance weight needed in a child\n",
    "}\n",
    "\n",
    "# Create an XGBClassifier object\n",
    "xgb_model = XGBClassifier(random_state=SEED)\n",
    "\n",
    "# Create GridSearchCV object\n",
    "grid_search = GridSearchCV(estimator=xgb_model, param_grid=param_grid, cv=5, scoring='neg_mean_squared_error', n_jobs=-1)\n",
    "\n",
    "# Perform grid search\n",
    "grid_search.fit(x_train, y_train)\n",
    "\n",
    "# Get the best parameters and the best estimator\n",
    "best_params = grid_search.best_params_\n",
    "best_xgb_model = grid_search.best_estimator_\n",
    "\n",
    "# Train the best estimator\n",
    "best_xgb_model.fit(x_train, y_train)\n",
    "\n",
    "# Predict the response for test dataset\n",
    "y_pred = best_xgb_model.predict(x_test)\n",
    "\n",
    "# Print the confusion matrix\n",
    "print('Confusion Matrix:')\n",
    "print(confusion_matrix(y_test, y_pred).T)\n",
    "\n",
    "total_cost = np.sum(confusion_matrix(y_test, y_pred).T * cost_matrix)\n",
    "print(f\"\\nTotal Cost: {total_cost}\") \n",
    "\n",
    "# Print classification report for additional evaluation metrics\n",
    "print('\\nClassification Report:')\n",
    "print(classification_report(y_test, y_pred, target_names=[\"Reported having MI or CHD\", \"Did not report having MI or CHD\"]))\n",
    "\n",
    "# Extract macro metrics from the classification report\n",
    "metrics_dict = classification_report(y_test, y_pred, target_names=[\"Reported having MI or CHD\", \"Did not report having MI or CHD\"], output_dict=True)['macro avg']\n",
    "\n",
    "if method == 1:\n",
    "    BorderlineSMOTE_loss.loc['Total Cost baseline', 'XGBoost'] = total_cost\n",
    "    BorderlineSMOTE_precision.loc['macro precision baseline', 'XGBoost'] = metrics_dict['precision']\n",
    "    BorderlineSMOTE_recall.loc['macro recall baseline', 'XGBoost'] = metrics_dict['recall']\n",
    "    BorderlineSMOTE_f1_score.loc['macro f1-score baseline', 'XGBoost'] = metrics_dict['f1-score']\n",
    "elif method == 2:\n",
    "    smote_tomek_loss.loc['Total Cost baseline', 'XGBoost'] = total_cost\n",
    "    smote_tomek_precision.loc['macro precision baseline', 'XGBoost'] = metrics_dict['precision']\n",
    "    smote_tomek_recall.loc['macro recall baseline', 'XGBoost'] = metrics_dict['recall']\n",
    "    smote_tomek_f1_score.loc['macro f1-score baseline', 'XGBoost'] = metrics_dict['f1-score']\n",
    "elif method == 3:\n",
    "    adasyn_loss.loc['Total Cost baseline', 'XGBoost'] = total_cost\n",
    "    adasyn_precision.loc['macro precision baseline', 'XGBoost'] = metrics_dict['precision']\n",
    "    adasyn_recall.loc['macro recall baseline', 'XGBoost'] = metrics_dict['recall']\n",
    "    adasyn_f1_score.loc['macro f1-score baseline', 'XGBoost'] = metrics_dict['f1-score']\n",
    "else:\n",
    "    SMOTE_loss.loc['Total Cost baseline', 'XGBoost'] = total_cost\n",
    "    SMOTE_precision.loc['macro precision baseline', 'XGBoost'] = metrics_dict['precision']\n",
    "    SMOTE_recall.loc['macro recall baseline', 'XGBoost'] = metrics_dict['recall']\n",
    "    SMOTE_f1_score.loc['macro f1-score baseline', 'XGBoost'] = metrics_dict['f1-score']"
   ],
   "metadata": {
    "collapsed": false,
    "ExecuteTime": {
     "end_time": "2024-04-29T12:57:37.811451Z",
     "start_time": "2024-04-29T12:47:12.839362Z"
    }
   },
   "outputs": [
    {
     "name": "stdout",
     "output_type": "stream",
     "text": [
      "Confusion Matrix:\n",
      "[[35056  7033]\n",
      " [ 3650 31117]]\n",
      "\n",
      "Total Cost: 5408.25\n",
      "\n",
      "Classification Report:\n",
      "                                 precision    recall  f1-score   support\n",
      "\n",
      "      Reported having MI or CHD       0.83      0.91      0.87     38706\n",
      "Did not report having MI or CHD       0.90      0.82      0.85     38150\n",
      "\n",
      "                       accuracy                           0.86     76856\n",
      "                      macro avg       0.86      0.86      0.86     76856\n",
      "                   weighted avg       0.86      0.86      0.86     76856\n",
      "\n"
     ]
    }
   ],
   "execution_count": 32
  },
  {
   "metadata": {
    "ExecuteTime": {
     "end_time": "2024-04-29T12:57:37.838037Z",
     "start_time": "2024-04-29T12:57:37.813446Z"
    }
   },
   "cell_type": "code",
   "source": [
    "# import matplotlib.pyplot as plt\n",
    "# \n",
    "# # Get feature importances\n",
    "# importances = best_xgb_model.feature_importances_\n",
    "# features = x_train.columns\n",
    "# \n",
    "# # Sort feature importances in descending order\n",
    "# indices = np.argsort(importances)[::-1]\n",
    "# \n",
    "# # Plot\n",
    "# plt.figure(figsize=(10, 6))\n",
    "# plt.title(\"Feature Importances (XGBoost)\")\n",
    "# plt.bar(range(x_train.shape[1]), importances[indices], align=\"center\")\n",
    "# plt.xticks(range(x_train.shape[1]), [features[i] for i in indices], rotation=90)\n",
    "# plt.xlabel(\"Feature\")\n",
    "# plt.ylabel(\"Importance\")\n",
    "# plt.tight_layout()\n",
    "# \n",
    "# # Save the plot as an image file\n",
    "# plt.savefig(\"feature_importance_plot (XGBoost).png\")\n",
    "# \n",
    "# # Display the plot\n",
    "# plt.show()"
   ],
   "outputs": [],
   "execution_count": 33
  },
  {
   "metadata": {
    "ExecuteTime": {
     "end_time": "2024-04-29T12:57:37.849563Z",
     "start_time": "2024-04-29T12:57:37.844035Z"
    }
   },
   "cell_type": "code",
   "source": [
    "# import shap\n",
    "# \n",
    "# # Explain the model's predictions using SHAP\n",
    "# explainer = shap.TreeExplainer(best_xgb_model)\n",
    "# shap_values = explainer.shap_values(x_train)\n",
    "# \n",
    "# # Save SHAP values to a file\n",
    "# np.save('shap_values.npy', shap_values)\n",
    "# \n",
    "# # Plot the SHAP values\n",
    "# shap.summary_plot(shap_values, features=x_train, feature_names=x_train.columns, show=False)\n",
    "# plt.savefig('shap_summary_plot.png', bbox_inches='tight')  # Save the plot as an image\n",
    "# plt.show()"
   ],
   "outputs": [],
   "execution_count": 34
  },
  {
   "cell_type": "code",
   "source": [
    "def predict(y_prob, cost_m):\n",
    "    t_BMR = (cost_m[1][0] - cost_m[1][1])/(cost_m[0][1] - cost_m[1][1] - cost_m[0][0] + cost_m[1][0])\n",
    "    y_pred = np.greater(y_prob[:, 1], t_BMR).astype(int)\n",
    "    \n",
    "    return y_pred\n",
    "\n",
    "from sklearn.calibration import CalibratedClassifierCV\n",
    "\n",
    "# Create an XGBClassifier object\n",
    "xgb_model = CalibratedClassifierCV(XGBClassifier(**best_params, random_state=SEED), method=\"isotonic\", cv=10)\n",
    "\n",
    "# Train the classifier\n",
    "xgb_model.fit(x_train, y_train)\n",
    "\n",
    "# Predict the response for test dataset\n",
    "y_prob = xgb_model.predict_proba(x_test)\n",
    "y_pred = predict(y_prob, cost_matrix)\n",
    "    \n",
    "# Print the confusion matrix\n",
    "print('Confusion Matrix:')\n",
    "print(confusion_matrix(y_test, y_pred).T)\n",
    "\n",
    "total_cost = np.sum(confusion_matrix(y_test, y_pred).T * cost_matrix)\n",
    "print(f\"\\nTotal loss Cost: {total_cost}\") \n",
    "\n",
    "# Print classification report for additional evaluation metrics\n",
    "print('\\nClassification Report:')\n",
    "print(classification_report(y_test, y_pred, target_names = [\"Reported having MI or CHD\", \"Did not report having MI or CHD\"]))\n",
    "\n",
    "# Extract macro metrics from the classification report\n",
    "metrics_dict = classification_report(y_test, y_pred, target_names=[\"Reported having MI or CHD\", \"Did not report having MI or CHD\"], output_dict=True)['macro avg']\n",
    "\n",
    "if method == 1:\n",
    "    BorderlineSMOTE_loss.loc['Total Cost MEC', 'XGBoost'] = total_cost\n",
    "    BorderlineSMOTE_precision.loc['macro precision MEC', 'XGBoost'] = metrics_dict['precision']\n",
    "    BorderlineSMOTE_recall.loc['macro recall MEC', 'XGBoost'] = metrics_dict['recall']\n",
    "    BorderlineSMOTE_f1_score.loc['macro f1-score MEC', 'XGBoost'] = metrics_dict['f1-score']\n",
    "elif method == 2:\n",
    "    smote_tomek_loss.loc['Total Cost MEC', 'XGBoost'] = total_cost\n",
    "    smote_tomek_precision.loc['macro precision MEC', 'XGBoost'] = metrics_dict['precision']\n",
    "    smote_tomek_recall.loc['macro recall MEC', 'XGBoost'] = metrics_dict['recall']\n",
    "    smote_tomek_f1_score.loc['macro f1-score MEC', 'XGBoost'] = metrics_dict['f1-score']\n",
    "elif method == 3:\n",
    "    adasyn_loss.loc['Total Cost MEC', 'XGBoost'] = total_cost\n",
    "    adasyn_precision.loc['macro precision MEC', 'XGBoost'] = metrics_dict['precision']\n",
    "    adasyn_recall.loc['macro recall MEC', 'XGBoost'] = metrics_dict['recall']\n",
    "    adasyn_f1_score.loc['macro f1-score MEC', 'XGBoost'] = metrics_dict['f1-score']\n",
    "else:\n",
    "    SMOTE_loss.loc['Total Cost MEC', 'XGBoost'] = total_cost\n",
    "    SMOTE_precision.loc['macro precision MEC', 'XGBoost'] = metrics_dict['precision']\n",
    "    SMOTE_recall.loc['macro recall MEC', 'XGBoost'] = metrics_dict['recall']\n",
    "    SMOTE_f1_score.loc['macro f1-score MEC', 'XGBoost'] = metrics_dict['f1-score']"
   ],
   "metadata": {
    "collapsed": false,
    "ExecuteTime": {
     "end_time": "2024-04-29T13:04:17.466272Z",
     "start_time": "2024-04-29T12:57:37.852541Z"
    }
   },
   "outputs": [
    {
     "name": "stdout",
     "output_type": "stream",
     "text": [
      "Confusion Matrix:\n",
      "[[37504 12156]\n",
      " [ 1202 25994]]\n",
      "\n",
      "Total loss Cost: 4241.0\n",
      "\n",
      "Classification Report:\n",
      "                                 precision    recall  f1-score   support\n",
      "\n",
      "      Reported having MI or CHD       0.76      0.97      0.85     38706\n",
      "Did not report having MI or CHD       0.96      0.68      0.80     38150\n",
      "\n",
      "                       accuracy                           0.83     76856\n",
      "                      macro avg       0.86      0.83      0.82     76856\n",
      "                   weighted avg       0.85      0.83      0.82     76856\n",
      "\n"
     ]
    }
   ],
   "execution_count": 35
  },
  {
   "cell_type": "code",
   "metadata": {
    "ExecuteTime": {
     "end_time": "2024-04-29T13:05:02.628913Z",
     "start_time": "2024-04-29T13:04:17.469261Z"
    }
   },
   "source": [
    "# Calculate the scale_pos_weight based on the corrected cost matrix\n",
    "scale_pos_weight = cost_matrix[1][0] / cost_matrix[0][1]\n",
    "\n",
    "# Create an XGBClassifier object\n",
    "xgb_model = XGBClassifier(**best_params, scale_pos_weight=scale_pos_weight, random_state=SEED)\n",
    "\n",
    "# Train the classifier\n",
    "xgb_model.fit(x_train, y_train)\n",
    "\n",
    "# Predict the response for test dataset\n",
    "y_pred = xgb_model.predict(x_test)\n",
    "\n",
    "# Print the confusion matrix\n",
    "print('Confusion Matrix:')\n",
    "print(confusion_matrix(y_test, y_pred).T)\n",
    "\n",
    "total_cost = np.sum(confusion_matrix(y_test, y_pred).T * cost_matrix)\n",
    "print(f\"\\nTotal loss Cost: {total_cost}\") \n",
    "\n",
    "# Print classification report for additional evaluation metrics\n",
    "print('\\nClassification Report:')\n",
    "print(classification_report(y_test, y_pred, target_names = [\"Reported having MI or CHD\", \"Did not report having MI or CHD\"]))\n",
    "\n",
    "# Extract macro metrics from the classification report\n",
    "metrics_dict = classification_report(y_test, y_pred, target_names=[\"Reported having MI or CHD\", \"Did not report having MI or CHD\"], output_dict=True)['macro avg']\n",
    "\n",
    "if method == 1:\n",
    "    BorderlineSMOTE_loss.loc['Total Cost weighting', 'XGBoost'] = total_cost\n",
    "    BorderlineSMOTE_precision.loc['macro precision weighting', 'XGBoost'] = metrics_dict['precision']\n",
    "    BorderlineSMOTE_recall.loc['macro recall weighting', 'XGBoost'] = metrics_dict['recall']\n",
    "    BorderlineSMOTE_f1_score.loc['macro f1-score weighting', 'XGBoost'] = metrics_dict['f1-score']\n",
    "elif method == 2:\n",
    "    smote_tomek_loss.loc['Total Cost weighting', 'XGBoost'] = total_cost\n",
    "    smote_tomek_precision.loc['macro precision weighting', 'XGBoost'] = metrics_dict['precision']\n",
    "    smote_tomek_recall.loc['macro recall weighting', 'XGBoost'] = metrics_dict['recall']\n",
    "    smote_tomek_f1_score.loc['macro f1-score weighting', 'XGBoost'] = metrics_dict['f1-score']\n",
    "elif method == 3:\n",
    "    adasyn_loss.loc['Total Cost weighting', 'XGBoost'] = total_cost\n",
    "    adasyn_precision.loc['macro precision weighting', 'XGBoost'] = metrics_dict['precision']\n",
    "    adasyn_recall.loc['macro recall weighting', 'XGBoost'] = metrics_dict['recall']\n",
    "    adasyn_f1_score.loc['macro f1-score weighting', 'XGBoost'] = metrics_dict['f1-score']\n",
    "else:\n",
    "    SMOTE_loss.loc['Total Cost weighting', 'XGBoost'] = total_cost\n",
    "    SMOTE_precision.loc['macro precision weighting', 'XGBoost'] = metrics_dict['precision']\n",
    "    SMOTE_recall.loc['macro recall weighting', 'XGBoost'] = metrics_dict['recall']\n",
    "    SMOTE_f1_score.loc['macro f1-score weighting', 'XGBoost'] = metrics_dict['f1-score']"
   ],
   "outputs": [
    {
     "name": "stdout",
     "output_type": "stream",
     "text": [
      "Confusion Matrix:\n",
      "[[25598  2479]\n",
      " [13108 35671]]\n",
      "\n",
      "Total loss Cost: 13727.75\n",
      "\n",
      "Classification Report:\n",
      "                                 precision    recall  f1-score   support\n",
      "\n",
      "      Reported having MI or CHD       0.91      0.66      0.77     38706\n",
      "Did not report having MI or CHD       0.73      0.94      0.82     38150\n",
      "\n",
      "                       accuracy                           0.80     76856\n",
      "                      macro avg       0.82      0.80      0.79     76856\n",
      "                   weighted avg       0.82      0.80      0.79     76856\n",
      "\n"
     ]
    }
   ],
   "execution_count": 36
  },
  {
   "cell_type": "markdown",
   "metadata": {},
   "source": [
    "### ***Decision Tree Classifier***"
   ]
  },
  {
   "cell_type": "code",
   "metadata": {
    "ExecuteTime": {
     "end_time": "2024-04-29T13:05:02.647013Z",
     "start_time": "2024-04-29T13:05:02.632909Z"
    }
   },
   "source": [
    "from io import StringIO\n",
    "\n",
    "# Visualize the decision tree\n",
    "def show_decision_tree_classifier(model, features):\n",
    "  dot_data = StringIO()\n",
    "  export_graphviz(model,\n",
    "                  out_file=dot_data,\n",
    "                  filled=False,\n",
    "                  rounded=True,\n",
    "                  special_characters=False,\n",
    "                  impurity=True,\n",
    "                  precision=2,\n",
    "                  rotate=False,\n",
    "                  feature_names=features,\n",
    "                  fontname='arial',\n",
    "                  label='all',\n",
    "                  class_names=['1', '2', '3', '4', '5', '6'])\n",
    "\n",
    "  graph = pydotplus.graph_from_dot_data(dot_data.getvalue())\n",
    "  graph.write_png('DecisionTree.png')\n",
    "\n",
    "  return graph"
   ],
   "outputs": [],
   "execution_count": 37
  },
  {
   "cell_type": "markdown",
   "metadata": {},
   "source": [
    "#### Decision Tree for pre-split data"
   ]
  },
  {
   "cell_type": "code",
   "metadata": {
    "ExecuteTime": {
     "end_time": "2024-04-29T13:05:02.674299Z",
     "start_time": "2024-04-29T13:05:02.656007Z"
    }
   },
   "source": [
    "# # Create a Decision Tree Classifier object\n",
    "# dt = DecisionTreeClassifier()\n",
    "# \n",
    "# # Train the classifier\n",
    "# dt.fit(train_set.drop(columns=['_MICHD']), train_set['_MICHD'], sample_weight=cost_matrix)\n",
    "# \n",
    "# # Predict the response for test dataset\n",
    "# y_pred = dt.predict(test_set.drop(columns=['_MICHD']))\n",
    "# \n",
    "# # Print the confusion matrix and a classification report\n",
    "# print('Confusion Matrix:')\n",
    "# print(confusion_matrix(test_set['_MICHD'], y_pred))\n",
    "# \n",
    "# print(classification_report(test_set['_MICHD'], y_pred))"
   ],
   "outputs": [],
   "execution_count": 38
  },
  {
   "cell_type": "markdown",
   "metadata": {},
   "source": [
    "#### Decision Tree for non-split data"
   ]
  },
  {
   "cell_type": "code",
   "metadata": {
    "ExecuteTime": {
     "end_time": "2024-04-29T13:05:02.966089Z",
     "start_time": "2024-04-29T13:05:02.678293Z"
    }
   },
   "source": [
    "# Split the balanced dataset to a set of training and testing samples \n",
    "x_train, x_test, y_train, y_test = train_test_split(SMOTE_data.drop(columns=['_MICHD']), SMOTE_data['_MICHD'], test_size=0.25, random_state=SEED)"
   ],
   "outputs": [],
   "execution_count": 39
  },
  {
   "metadata": {
    "ExecuteTime": {
     "end_time": "2024-04-29T13:40:41.676039Z",
     "start_time": "2024-04-29T13:05:02.995076Z"
    }
   },
   "cell_type": "code",
   "source": [
    "from sklearn.model_selection import GridSearchCV\n",
    "\n",
    "# Define the adjusted parameter grid\n",
    "param_grid = {\n",
    "    'criterion': ['gini', 'entropy'],\n",
    "    'max_depth': [None, 10, 20, 30],\n",
    "    'min_samples_split': [2, 5, 10],\n",
    "    'min_samples_leaf': [1, 2, 4],\n",
    "    'max_features': [None, 'sqrt', 'log2', 0.5, 0.7]  # Adjusted max_features values\n",
    "}\n",
    "\n",
    "# Create a Decision Tree Classifier object\n",
    "dt = DecisionTreeClassifier(random_state=SEED)\n",
    "\n",
    "# Instantiate the grid search with 5-fold cross-validation\n",
    "grid_search = GridSearchCV(dt, param_grid, cv=5, scoring='accuracy')\n",
    "\n",
    "# Fit the grid search to the data\n",
    "grid_search.fit(x_train, y_train)\n",
    "\n",
    "# Get the best parameters\n",
    "best_params = grid_search.best_params_\n",
    "print(\"Best Parameters:\", best_params)\n",
    "\n",
    "# Train the classifier with the best parameters\n",
    "best_dt = DecisionTreeClassifier(random_state=SEED, **best_params)\n",
    "best_dt.fit(x_train, y_train)\n",
    "\n",
    "# Predict the response for test dataset using the best classifier\n",
    "y_pred = best_dt.predict(x_test)\n",
    "\n",
    "# Print the confusion matrix and a classification report\n",
    "print('Confusion Matrix:')\n",
    "print(confusion_matrix(y_test, y_pred).T)\n",
    "\n",
    "total_cost = np.sum(confusion_matrix(y_test, y_pred).T * cost_matrix)\n",
    "print(f\"\\nTotal Cost: {total_cost}\") \n",
    "\n",
    "print(classification_report(y_test, y_pred))\n",
    "\n",
    "# Extract macro metrics from the classification report\n",
    "metrics_dict = classification_report(y_test, y_pred, target_names=[\"Reported having MI or CHD\", \"Did not report having MI or CHD\"], output_dict=True)['macro avg']\n",
    "\n",
    "if method==1:\n",
    "    BorderlineSMOTE_loss.loc['Total Cost baseline', 'Decision Tree'] = total_cost\n",
    "    BorderlineSMOTE_precision.loc['macro precision baseline', 'Decision Tree'] = metrics_dict['precision']\n",
    "    BorderlineSMOTE_recall.loc['macro recall baseline', 'Decision Tree'] = metrics_dict['recall']\n",
    "    BorderlineSMOTE_f1_score.loc['macro f1-score baseline', 'Decision Tree'] = metrics_dict['f1-score']\n",
    "elif method==2:\n",
    "    smote_tomek_loss.loc['Total Cost baseline', 'Decision Tree'] = total_cost\n",
    "    smote_tomek_precision.loc['macro precision baseline', 'Decision Tree'] = metrics_dict['precision']\n",
    "    smote_tomek_recall.loc['macro recall baseline', 'Decision Tree'] = metrics_dict['recall']\n",
    "    smote_tomek_f1_score.loc['macro f1-score baseline', 'Decision Tree'] = metrics_dict['f1-score']\n",
    "elif method==3:\n",
    "    adasyn_loss.loc['Total Cost baseline', 'Decision Tree'] = total_cost\n",
    "    adasyn_precision.loc['macro precision baseline', 'Decision Tree'] = metrics_dict['precision']\n",
    "    adasyn_recall.loc['macro recall baseline', 'Decision Tree'] = metrics_dict['recall']\n",
    "    adasyn_f1_score.loc['macro f1-score baseline', 'Decision Tree'] = metrics_dict['f1-score']\n",
    "else:\n",
    "    SMOTE_loss.loc['Total Cost baseline', 'Decision Tree'] = total_cost\n",
    "    SMOTE_precision.loc['macro precision baseline', 'Decision Tree'] = metrics_dict['precision']\n",
    "    SMOTE_recall.loc['macro recall baseline', 'Decision Tree'] = metrics_dict['recall']\n",
    "    SMOTE_f1_score.loc['macro f1-score baseline', 'Decision Tree'] = metrics_dict['f1-score']"
   ],
   "outputs": [
    {
     "name": "stdout",
     "output_type": "stream",
     "text": [
      "Best Parameters: {'criterion': 'entropy', 'max_depth': None, 'max_features': 0.5, 'min_samples_leaf': 1, 'min_samples_split': 2}\n",
      "Confusion Matrix:\n",
      "[[36539  6298]\n",
      " [ 2167 31852]]\n",
      "\n",
      "Total Cost: 3741.5\n",
      "              precision    recall  f1-score   support\n",
      "\n",
      "           0       0.85      0.94      0.90     38706\n",
      "           1       0.94      0.83      0.88     38150\n",
      "\n",
      "    accuracy                           0.89     76856\n",
      "   macro avg       0.89      0.89      0.89     76856\n",
      "weighted avg       0.89      0.89      0.89     76856\n",
      "\n"
     ]
    }
   ],
   "execution_count": 40
  },
  {
   "metadata": {
    "ExecuteTime": {
     "end_time": "2024-04-29T13:40:41.705023Z",
     "start_time": "2024-04-29T13:40:41.694026Z"
    }
   },
   "cell_type": "code",
   "source": [
    "# from sklearn.inspection import permutation_importance\n",
    "# \n",
    "# # Compute permutation feature importance\n",
    "# perm_importance = permutation_importance(best_dt, x_test, y_test)\n",
    "# \n",
    "# # Get feature names\n",
    "# feature_names = x_test.columns\n",
    "# \n",
    "# # Get sorted indices of feature importance\n",
    "# sorted_idx = perm_importance.importances_mean.argsort()\n",
    "# \n",
    "# # Plot permutation feature importance\n",
    "# plt.figure(figsize=(10, 6))\n",
    "# plt.barh(range(len(sorted_idx)), perm_importance.importances_mean[sorted_idx], tick_label=feature_names[sorted_idx])\n",
    "# plt.xlabel('Permutation Importance')\n",
    "# plt.ylabel('Feature')\n",
    "# plt.title('Permutation Feature Importance')\n",
    "# \n",
    "# # Save the plot as an image file\n",
    "# plt.savefig(\"feature_importance_plot (DecisionTreeClassifier).png\")\n",
    "# \n",
    "# # Display the plot\n",
    "# plt.show()"
   ],
   "outputs": [],
   "execution_count": 41
  },
  {
   "metadata": {
    "ExecuteTime": {
     "end_time": "2024-04-29T13:40:41.713018Z",
     "start_time": "2024-04-29T13:40:41.708020Z"
    }
   },
   "cell_type": "code",
   "source": [
    "# import shap\n",
    "# \n",
    "# # Explain the model's predictions using SHAP\n",
    "# explainer = shap.TreeExplainer(best_dt)\n",
    "# shap_values = explainer.shap_values(x_train)\n",
    "# \n",
    "# # Save SHAP values to a file\n",
    "# np.save('shap_values.npy', shap_values)\n",
    "# \n",
    "# # Plot the SHAP values\n",
    "# shap.summary_plot(shap_values, features=x_train, feature_names=x_train.columns, show=False)\n",
    "# plt.savefig('shap_summary_plot (dt).png', bbox_inches='tight')  # Save the plot as an image\n",
    "# plt.show()"
   ],
   "outputs": [],
   "execution_count": 42
  },
  {
   "cell_type": "code",
   "source": [
    "def predict(y_prob, cost_m):\n",
    "    t_BMR = (cost_m[1][0] - cost_m[1][1])/(cost_m[0][1] - cost_m[1][1] - cost_m[0][0] + cost_m[1][0])\n",
    "    y_pred = np.greater(y_prob[:, 1], t_BMR).astype(int)\n",
    "    \n",
    "    return y_pred\n",
    "\n",
    "from sklearn.calibration import CalibratedClassifierCV\n",
    "\n",
    "# Create a Decision Tree Classifier object\n",
    "dt = CalibratedClassifierCV(\n",
    "    DecisionTreeClassifier(random_state=SEED, **best_params),\n",
    "    method=\"isotonic\",\n",
    "    cv=10\n",
    ")\n",
    "\n",
    "# Train the classifier\n",
    "dt.fit(x_train , y_train)\n",
    "\n",
    "# Predict the response for test dataset\n",
    "y_prob = dt.predict_proba(x_test)\n",
    "y_pred = predict(y_prob, cost_matrix)\n",
    "\n",
    "# Print the confusion matrix and a classification report\n",
    "print('Confusion Matrix:')\n",
    "print(confusion_matrix(y_test, y_pred).T)\n",
    "\n",
    "total_cost = np.sum(confusion_matrix(y_test, y_pred).T * cost_matrix)\n",
    "print(f\"\\nTotal Cost: {total_cost}\") \n",
    "\n",
    "print(classification_report(y_test, y_pred))\n",
    "\n",
    "# Extract macro metrics from the classification report\n",
    "metrics_dict = classification_report(y_test, y_pred, target_names=[\"Reported having MI or CHD\", \"Did not report having MI or CHD\"], output_dict=True)['macro avg']\n",
    "\n",
    "if method==1:\n",
    "    BorderlineSMOTE_loss.loc['Total Cost MEC', 'Decision Tree'] = total_cost\n",
    "    BorderlineSMOTE_precision.loc['macro precision MEC', 'Decision Tree'] = metrics_dict['precision']\n",
    "    BorderlineSMOTE_recall.loc['macro recall MEC', 'Decision Tree'] = metrics_dict['recall']\n",
    "    BorderlineSMOTE_f1_score.loc['macro f1-score MEC', 'Decision Tree'] = metrics_dict['f1-score']\n",
    "elif method==2:\n",
    "    smote_tomek_loss.loc['Total Cost MEC', 'Decision Tree'] = total_cost\n",
    "    smote_tomek_precision.loc['macro precision MEC', 'Decision Tree'] = metrics_dict['precision']\n",
    "    smote_tomek_recall.loc['macro recall MEC', 'Decision Tree'] = metrics_dict['recall']\n",
    "    smote_tomek_f1_score.loc['macro f1-score MEC', 'Decision Tree'] = metrics_dict['f1-score']\n",
    "elif method==3:\n",
    "    adasyn_loss.loc['Total Cost MEC', 'Decision Tree'] = total_cost\n",
    "    adasyn_precision.loc['macro precision MEC', 'Decision Tree'] = metrics_dict['precision']\n",
    "    adasyn_recall.loc['macro recall MEC', 'Decision Tree'] = metrics_dict['recall']\n",
    "    adasyn_f1_score.loc['macro f1-score MEC', 'Decision Tree'] = metrics_dict['f1-score']\n",
    "else:\n",
    "    SMOTE_loss.loc['Total Cost MEC', 'Decision Tree'] = total_cost\n",
    "    SMOTE_precision.loc['macro precision MEC', 'Decision Tree'] = metrics_dict['precision']\n",
    "    SMOTE_recall.loc['macro recall MEC', 'Decision Tree'] = metrics_dict['recall']\n",
    "    SMOTE_f1_score.loc['macro f1-score MEC', 'Decision Tree'] = metrics_dict['f1-score']"
   ],
   "metadata": {
    "collapsed": false,
    "ExecuteTime": {
     "end_time": "2024-04-29T13:40:58.750172Z",
     "start_time": "2024-04-29T13:40:41.715018Z"
    }
   },
   "outputs": [
    {
     "name": "stdout",
     "output_type": "stream",
     "text": [
      "Confusion Matrix:\n",
      "[[38028 11593]\n",
      " [  678 26557]]\n",
      "\n",
      "Total Cost: 3576.25\n",
      "              precision    recall  f1-score   support\n",
      "\n",
      "           0       0.77      0.98      0.86     38706\n",
      "           1       0.98      0.70      0.81     38150\n",
      "\n",
      "    accuracy                           0.84     76856\n",
      "   macro avg       0.87      0.84      0.84     76856\n",
      "weighted avg       0.87      0.84      0.84     76856\n",
      "\n"
     ]
    }
   ],
   "execution_count": 43
  },
  {
   "cell_type": "code",
   "metadata": {
    "ExecuteTime": {
     "end_time": "2024-04-29T13:41:00.568592Z",
     "start_time": "2024-04-29T13:40:58.752676Z"
    }
   },
   "source": [
    "# Calculate sample weights based on the corrected cost matrix\n",
    "sample_weights = np.zeros_like(y_train, dtype=float)\n",
    "sample_weights[y_train == 0] = cost_matrix[0][1]\n",
    "sample_weights[y_train == 1] = cost_matrix[1][0]\n",
    "\n",
    "# Create a Decision Tree Classifier object\n",
    "dt = DecisionTreeClassifier(random_state=SEED, **best_params)\n",
    "\n",
    "# Train the classifier\n",
    "dt.fit(x_train , y_train, sample_weight=sample_weights)\n",
    "\n",
    "# Predict the response for test dataset\n",
    "y_pred = dt.predict(x_test)\n",
    "\n",
    "# Print the confusion matrix and a classification report\n",
    "print('Confusion Matrix:')\n",
    "print(confusion_matrix(y_test, y_pred).T)\n",
    "\n",
    "total_cost = np.sum(confusion_matrix(y_test, y_pred).T * cost_matrix)\n",
    "print(f\"\\nTotal Cost: {total_cost}\") \n",
    "\n",
    "print(classification_report(y_test, y_pred))\n",
    "\n",
    "# Extract macro metrics from the classification report\n",
    "metrics_dict = classification_report(y_test, y_pred, target_names=[\"Reported having MI or CHD\", \"Did not report having MI or CHD\"], output_dict=True)['macro avg']\n",
    "\n",
    "if method==1:\n",
    "    BorderlineSMOTE_loss.loc['Total Cost weighting', 'Decision Tree'] = total_cost\n",
    "    BorderlineSMOTE_precision.loc['macro precision weighting', 'Decision Tree'] = metrics_dict['precision']\n",
    "    BorderlineSMOTE_recall.loc['macro recall weighting', 'Decision Tree'] = metrics_dict['recall']\n",
    "    BorderlineSMOTE_f1_score.loc['macro f1-score weighting', 'Decision Tree'] = metrics_dict['f1-score']\n",
    "elif method==2:\n",
    "    smote_tomek_loss.loc['Total Cost weighting', 'Decision Tree'] = total_cost\n",
    "    smote_tomek_precision.loc['macro precision weighting', 'Decision Tree'] = metrics_dict['precision']\n",
    "    smote_tomek_recall.loc['macro recall weighting', 'Decision Tree'] = metrics_dict['recall']\n",
    "    smote_tomek_f1_score.loc['macro f1-score weighting', 'Decision Tree'] = metrics_dict['f1-score']\n",
    "elif method==3:\n",
    "    adasyn_loss.loc['Total Cost weighting', 'Decision Tree'] = total_cost\n",
    "    adasyn_precision.loc['macro precision weighting', 'Decision Tree'] = metrics_dict['precision']\n",
    "    adasyn_recall.loc['macro recall weighting', 'Decision Tree'] = metrics_dict['recall']\n",
    "    adasyn_f1_score.loc['macro f1-score weighting', 'Decision Tree'] = metrics_dict['f1-score']\n",
    "else:\n",
    "    SMOTE_loss.loc['Total Cost weighting', 'Decision Tree'] = total_cost\n",
    "    SMOTE_precision.loc['macro precision weighting', 'Decision Tree'] = metrics_dict['precision']\n",
    "    SMOTE_recall.loc['macro recall weighting', 'Decision Tree'] = metrics_dict['recall']\n",
    "    SMOTE_f1_score.loc['macro f1-score weighting', 'Decision Tree'] = metrics_dict['f1-score']"
   ],
   "outputs": [
    {
     "name": "stdout",
     "output_type": "stream",
     "text": [
      "Confusion Matrix:\n",
      "[[33679  5254]\n",
      " [ 5027 32896]]\n",
      "\n",
      "Total Cost: 6340.5\n",
      "              precision    recall  f1-score   support\n",
      "\n",
      "           0       0.87      0.87      0.87     38706\n",
      "           1       0.87      0.86      0.86     38150\n",
      "\n",
      "    accuracy                           0.87     76856\n",
      "   macro avg       0.87      0.87      0.87     76856\n",
      "weighted avg       0.87      0.87      0.87     76856\n",
      "\n"
     ]
    }
   ],
   "execution_count": 44
  },
  {
   "cell_type": "markdown",
   "metadata": {},
   "source": [
    "### ***Gaussian Naive Bayes***"
   ]
  },
  {
   "cell_type": "markdown",
   "metadata": {},
   "source": [
    "#### NB for pre-split data"
   ]
  },
  {
   "cell_type": "code",
   "metadata": {
    "ExecuteTime": {
     "end_time": "2024-04-29T13:41:00.616733Z",
     "start_time": "2024-04-29T13:41:00.588585Z"
    }
   },
   "source": [
    "# # Create a Gaussian Naive Bayes Classifier object\n",
    "# gnb = GaussianNB()\n",
    "# \n",
    "# # Train the classifier\n",
    "# gnb.fit(train_set.drop(columns=['_MICHD']), train_set['_MICHD'], sample_weight=cost_matrix)\n",
    "# \n",
    "# # Predict the response for test dataset\n",
    "# y_pred = gnb.predict(test_set.drop(columns=['_MICHD']))\n",
    "# \n",
    "# # Print the confusion matrix and a classification report\n",
    "# print('Confusion Matrix:')\n",
    "# print(confusion_matrix(test_set['_MICHD'], y_pred))\n",
    "# \n",
    "# print(classification_report(test_set['_MICHD'], y_pred))"
   ],
   "outputs": [],
   "execution_count": 45
  },
  {
   "cell_type": "markdown",
   "metadata": {},
   "source": [
    "#### NB for non-split data"
   ]
  },
  {
   "cell_type": "code",
   "metadata": {
    "ExecuteTime": {
     "end_time": "2024-04-30T09:26:08.481764Z",
     "start_time": "2024-04-30T09:26:07.830703Z"
    }
   },
   "source": [
    "# Split the balanced dataset to a set of training and testing samples \n",
    "x_train, x_test, y_train, y_test = train_test_split(SMOTE_data.drop(columns=['_MICHD']), SMOTE_data['_MICHD'], test_size=0.25, random_state=SEED)"
   ],
   "outputs": [],
   "execution_count": 92
  },
  {
   "cell_type": "code",
   "source": [
    "from sklearn.model_selection import GridSearchCV\n",
    "from sklearn.naive_bayes import GaussianNB\n",
    "\n",
    "# Create a Gaussian Naive Bayes Classifier object\n",
    "gnb = GaussianNB()\n",
    "\n",
    "# Define a grid of parameters to search\n",
    "param_grid = {\n",
    "    'priors': [None, [0.5, 0.5], [0.3, 0.7], [0.7, 0.3]]  # Example priors to search\n",
    "}\n",
    "\n",
    "# Instantiate the grid search with the Gaussian Naive Bayes classifier\n",
    "grid_search = GridSearchCV(estimator=gnb, param_grid=param_grid, cv=5)\n",
    "\n",
    "# Fit the grid search to the data\n",
    "grid_search.fit(x_train, y_train)\n",
    "\n",
    "# Get the best parameters\n",
    "best_params = grid_search.best_params_\n",
    "\n",
    "# Use the best parameters to create a new Gaussian Naive Bayes classifier\n",
    "best_gnb = GaussianNB(**best_params)\n",
    "\n",
    "# Train the classifier with the best parameters\n",
    "best_gnb.fit(x_train, y_train)\n",
    "\n",
    "# Predict the response for the test dataset\n",
    "y_pred = best_gnb.predict(x_test)\n",
    "\n",
    "# Print the confusion matrix and a classification report\n",
    "print('Confusion Matrix:')\n",
    "print(confusion_matrix(y_test, y_pred).T)\n",
    "\n",
    "total_cost = np.sum(confusion_matrix(y_test, y_pred).T * cost_matrix)\n",
    "print(f\"\\nTotal Cost: {total_cost}\")\n",
    "\n",
    "print(classification_report(y_test, y_pred, target_names=[\"Reported having MI or CHD\", \"Did not report having MI or CHD\"]))\n",
    "\n",
    "# Extract macro metrics from the classification report\n",
    "metrics_dict = classification_report(y_test, y_pred, target_names=[\"Reported having MI or CHD\", \"Did not report having MI or CHD\"], output_dict=True)['macro avg']\n",
    "\n",
    "if method==1:\n",
    "    BorderlineSMOTE_loss.loc['Total Cost baseline', 'GaussianNB'] = total_cost\n",
    "    BorderlineSMOTE_precision.loc['macro precision baseline', 'GaussianNB'] = metrics_dict['precision']\n",
    "    BorderlineSMOTE_recall.loc['macro recall baseline', 'GaussianNB'] = metrics_dict['recall']\n",
    "    BorderlineSMOTE_f1_score.loc['macro f1-score baseline', 'GaussianNB'] = metrics_dict['f1-score']\n",
    "elif method==2:\n",
    "    smote_tomek_loss.loc['Total Cost baseline', 'GaussianNB'] = total_cost\n",
    "    smote_tomek_precision.loc['macro precision baseline', 'GaussianNB'] = metrics_dict['precision']\n",
    "    smote_tomek_recall.loc['macro recall baseline', 'GaussianNB'] = metrics_dict['recall']\n",
    "    smote_tomek_f1_score.loc['macro f1-score baseline', 'GaussianNB'] = metrics_dict['f1-score']\n",
    "elif method==3:\n",
    "    adasyn_loss.loc['Total Cost baseline', 'GaussianNB'] = total_cost\n",
    "    adasyn_precision.loc['macro precision baseline', 'GaussianNB'] = metrics_dict['precision']\n",
    "    adasyn_recall.loc['macro recall baseline', 'GaussianNB'] = metrics_dict['recall']\n",
    "    adasyn_f1_score.loc['macro f1-score baseline', 'GaussianNB'] = metrics_dict['f1-score']\n",
    "else:\n",
    "    SMOTE_loss.loc['Total Cost baseline', 'GaussianNB'] = total_cost\n",
    "    SMOTE_precision.loc['macro precision baseline', 'GaussianNB'] = metrics_dict['precision']\n",
    "    SMOTE_recall.loc['macro recall baseline', 'GaussianNB'] = metrics_dict['recall']\n",
    "    SMOTE_f1_score.loc['macro f1-score baseline', 'GaussianNB'] = metrics_dict['f1-score']"
   ],
   "metadata": {
    "collapsed": false,
    "ExecuteTime": {
     "end_time": "2024-04-30T09:26:20.287965Z",
     "start_time": "2024-04-30T09:26:08.486762Z"
    }
   },
   "outputs": [
    {
     "name": "stdout",
     "output_type": "stream",
     "text": [
      "Confusion Matrix:\n",
      "[[33537 14394]\n",
      " [ 5169 23756]]\n",
      "\n",
      "Total Cost: 8767.5\n",
      "                                 precision    recall  f1-score   support\n",
      "\n",
      "      Reported having MI or CHD       0.70      0.87      0.77     38706\n",
      "Did not report having MI or CHD       0.82      0.62      0.71     38150\n",
      "\n",
      "                       accuracy                           0.75     76856\n",
      "                      macro avg       0.76      0.74      0.74     76856\n",
      "                   weighted avg       0.76      0.75      0.74     76856\n",
      "\n"
     ]
    }
   ],
   "execution_count": 93
  },
  {
   "metadata": {
    "ExecuteTime": {
     "end_time": "2024-04-29T13:41:09.993872Z",
     "start_time": "2024-04-29T13:41:09.986628Z"
    }
   },
   "cell_type": "code",
   "source": [
    "# # Get SHAP values\n",
    "# explainer = shap.Explainer(best_gnb, x_train)\n",
    "# shap_values = explainer(x_test)\n",
    "# \n",
    "# # Plot and save the SHAP summary plot\n",
    "# shap.summary_plot(shap_values, features=x_test, plot_type='bar', show=False)\n",
    "# plt.savefig('shap_summary_plot (best_gnb).png')  # Save the plot as PNG file\n",
    "# plt.show()  # Display the plot"
   ],
   "outputs": [],
   "execution_count": 48
  },
  {
   "cell_type": "code",
   "metadata": {
    "ExecuteTime": {
     "end_time": "2024-04-30T09:26:21.289305Z",
     "start_time": "2024-04-30T09:26:20.294962Z"
    }
   },
   "source": [
    "sample_weights = np.zeros_like(y_train, dtype=float)\n",
    "sample_weights[y_train == 0] = cost_matrix[0][1]\n",
    "sample_weights[y_train == 1] = cost_matrix[1][0]\n",
    "\n",
    "# Create a Gaussian Naive Bayes Classifier object\n",
    "gnb = GaussianNB(**best_params)\n",
    "\n",
    "# Train the classifier\n",
    "gnb.fit(x_train , y_train, sample_weight=sample_weights)\n",
    "\n",
    "# Predict the response for test dataset\n",
    "y_pred = gnb.predict(x_test)\n",
    "\n",
    "# Print the confusion matrix and a classification report\n",
    "print('Confusion Matrix:')\n",
    "print(confusion_matrix(y_test, y_pred).T)\n",
    "\n",
    "total_cost = np.sum(confusion_matrix(y_test, y_pred).T * cost_matrix)\n",
    "print(f\"\\nTotal Cost: {total_cost}\") \n",
    "\n",
    "print(classification_report(y_test, y_pred, target_names=[\"Reported having MI or CHD\", \"Did not report having MI or CHD\"]))\n",
    "\n",
    "# Extract macro metrics from the classification report\n",
    "metrics_dict = classification_report(y_test, y_pred, target_names=[\"Reported having MI or CHD\", \"Did not report having MI or CHD\"], output_dict=True)['macro avg']\n",
    "\n",
    "if method==1:\n",
    "    BorderlineSMOTE_loss.loc['Total Cost weighting', 'GaussianNB'] = total_cost\n",
    "    BorderlineSMOTE_precision.loc['macro precision weighting', 'GaussianNB'] = metrics_dict['precision']\n",
    "    BorderlineSMOTE_recall.loc['macro recall weighting', 'GaussianNB'] = metrics_dict['recall']\n",
    "    BorderlineSMOTE_f1_score.loc['macro f1-score weighting', 'GaussianNB'] = metrics_dict['f1-score']\n",
    "elif method==2:\n",
    "    smote_tomek_loss.loc['Total Cost weighting', 'GaussianNB'] = total_cost\n",
    "    smote_tomek_precision.loc['macro precision weighting', 'GaussianNB'] = metrics_dict['precision']\n",
    "    smote_tomek_recall.loc['macro recall weighting', 'GaussianNB'] = metrics_dict['recall']\n",
    "    smote_tomek_f1_score.loc['macro f1-score weighting', 'GaussianNB'] = metrics_dict['f1-score']\n",
    "elif method==3:\n",
    "    adasyn_loss.loc['Total Cost weighting', 'GaussianNB'] = total_cost\n",
    "    adasyn_precision.loc['macro precision weighting', 'GaussianNB'] = metrics_dict['precision']\n",
    "    adasyn_recall.loc['macro recall weighting', 'GaussianNB'] = metrics_dict['recall']\n",
    "    adasyn_f1_score.loc['macro f1-score weighting', 'GaussianNB'] = metrics_dict['f1-score']\n",
    "else:\n",
    "    SMOTE_loss.loc['Total Cost weighting', 'GaussianNB'] = total_cost\n",
    "    SMOTE_precision.loc['macro precision weighting', 'GaussianNB'] = metrics_dict['precision']\n",
    "    SMOTE_recall.loc['macro recall weighting', 'GaussianNB'] = metrics_dict['recall']\n",
    "    SMOTE_f1_score.loc['macro f1-score weighting', 'GaussianNB'] = metrics_dict['f1-score']"
   ],
   "outputs": [
    {
     "name": "stdout",
     "output_type": "stream",
     "text": [
      "Confusion Matrix:\n",
      "[[33537 14394]\n",
      " [ 5169 23756]]\n",
      "\n",
      "Total Cost: 8767.5\n",
      "                                 precision    recall  f1-score   support\n",
      "\n",
      "      Reported having MI or CHD       0.70      0.87      0.77     38706\n",
      "Did not report having MI or CHD       0.82      0.62      0.71     38150\n",
      "\n",
      "                       accuracy                           0.75     76856\n",
      "                      macro avg       0.76      0.74      0.74     76856\n",
      "                   weighted avg       0.76      0.75      0.74     76856\n",
      "\n"
     ]
    }
   ],
   "execution_count": 94
  },
  {
   "cell_type": "code",
   "source": [
    "def predict(y_prob, cost_m):\n",
    "    t_BMR = (cost_m[1][0] - cost_m[1][1])/(cost_m[0][1] - cost_m[1][1] - cost_m[0][0] + cost_m[1][0])\n",
    "    y_pred = np.greater(y_prob[:, 1], t_BMR).astype(int)\n",
    "    \n",
    "    return y_pred\n",
    "\n",
    "from sklearn.calibration import CalibratedClassifierCV\n",
    "\n",
    "# Create a Gaussian Naive Bayes Classifier object\n",
    "gnb = CalibratedClassifierCV(GaussianNB(**best_params), method=\"isotonic\", cv=10)\n",
    "\n",
    "# Train the classifier\n",
    "gnb.fit(x_train , y_train)\n",
    "\n",
    "# Predict the response for test dataset\n",
    "y_prob = gnb.predict_proba(x_test)\n",
    "y_pred = predict(y_prob, cost_matrix)\n",
    "\n",
    "# Print the confusion matrix and a classification report\n",
    "print('Confusion Matrix:')\n",
    "print(confusion_matrix(y_test, y_pred).T)\n",
    "\n",
    "total_cost = np.sum(confusion_matrix(y_test, y_pred).T * cost_matrix)\n",
    "print(f\"\\nTotal Cost: {total_cost}\") \n",
    "\n",
    "print(classification_report(y_test, y_pred, target_names=[\"Reported having MI or CHD\", \"Did not report having MI or CHD\"]))\n",
    "\n",
    "# Extract macro metrics from the classification report\n",
    "metrics_dict = classification_report(y_test, y_pred, target_names=[\"Reported having MI or CHD\", \"Did not report having MI or CHD\"], output_dict=True)['macro avg']\n",
    "\n",
    "if method==1:\n",
    "    BorderlineSMOTE_loss.loc['Total Cost MEC', 'GaussianNB'] = total_cost\n",
    "    BorderlineSMOTE_precision.loc['macro precision MEC', 'GaussianNB'] = metrics_dict['precision']\n",
    "    BorderlineSMOTE_recall.loc['macro recall MEC', 'GaussianNB'] = metrics_dict['recall']\n",
    "    BorderlineSMOTE_f1_score.loc['macro f1-score MEC', 'GaussianNB'] = metrics_dict['f1-score']\n",
    "elif method==2:\n",
    "    smote_tomek_loss.loc['Total Cost MEC', 'GaussianNB'] = total_cost\n",
    "    smote_tomek_precision.loc['macro precision MEC', 'GaussianNB'] = metrics_dict['precision']\n",
    "    smote_tomek_recall.loc['macro recall MEC', 'GaussianNB'] = metrics_dict['recall']\n",
    "    smote_tomek_f1_score.loc['macro f1-score MEC', 'GaussianNB'] = metrics_dict['f1-score']\n",
    "elif method==3:\n",
    "    adasyn_loss.loc['Total Cost MEC', 'GaussianNB'] = total_cost\n",
    "    adasyn_precision.loc['macro precision MEC', 'GaussianNB'] = metrics_dict['precision']\n",
    "    adasyn_recall.loc['macro recall MEC', 'GaussianNB'] = metrics_dict['recall']\n",
    "    adasyn_f1_score.loc['macro f1-score MEC', 'GaussianNB'] = metrics_dict['f1-score']\n",
    "else:\n",
    "    SMOTE_loss.loc['Total Cost MEC', 'GaussianNB'] = total_cost\n",
    "    SMOTE_precision.loc['macro precision MEC', 'GaussianNB'] = metrics_dict['precision']\n",
    "    SMOTE_recall.loc['macro recall MEC', 'DeGaussianNB'] = metrics_dict['recall']\n",
    "    SMOTE_f1_score.loc['macro f1-score MEC', 'GaussianNB'] = metrics_dict['f1-score']"
   ],
   "metadata": {
    "collapsed": false,
    "ExecuteTime": {
     "end_time": "2024-04-30T09:26:29.331101Z",
     "start_time": "2024-04-30T09:26:21.293304Z"
    }
   },
   "outputs": [
    {
     "name": "stdout",
     "output_type": "stream",
     "text": [
      "Confusion Matrix:\n",
      "[[36823 21694]\n",
      " [ 1883 16456]]\n",
      "\n",
      "Total Cost: 7306.5\n",
      "                                 precision    recall  f1-score   support\n",
      "\n",
      "      Reported having MI or CHD       0.63      0.95      0.76     38706\n",
      "Did not report having MI or CHD       0.90      0.43      0.58     38150\n",
      "\n",
      "                       accuracy                           0.69     76856\n",
      "                      macro avg       0.76      0.69      0.67     76856\n",
      "                   weighted avg       0.76      0.69      0.67     76856\n",
      "\n"
     ]
    }
   ],
   "execution_count": 95
  },
  {
   "cell_type": "markdown",
   "metadata": {},
   "source": [
    "### ***Random Forests***"
   ]
  },
  {
   "cell_type": "markdown",
   "metadata": {},
   "source": [
    "#### RF for pre-split data"
   ]
  },
  {
   "cell_type": "code",
   "metadata": {
    "ExecuteTime": {
     "end_time": "2024-04-29T13:41:17.033253Z",
     "start_time": "2024-04-29T13:41:17.029633Z"
    }
   },
   "source": [
    "# # Create a Random Forests Classifier object\n",
    "# rf_classifier = RandomForestClassifier(n_estimators=393, max_depth=16)\n",
    "# \n",
    "# # Train the classifier\n",
    "# rf_classifier.fit(train_set.drop(columns=['_MICHD']), train_set['_MICHD'], sample_weight=cost_matrix)\n",
    "# \n",
    "# # Predict the response for test dataset\n",
    "# y_pred = rf_classifier.predict(test_set.drop(columns=['_MICHD']))\n",
    "# \n",
    "# # Print the confusion matrix and a classification report\n",
    "# print('Confusion Matrix:')\n",
    "# print(confusion_matrix(test_set['_MICHD'], y_pred))\n",
    "# \n",
    "# print(classification_report(test_set['_MICHD'], y_pred))"
   ],
   "outputs": [],
   "execution_count": 51
  },
  {
   "cell_type": "markdown",
   "metadata": {},
   "source": [
    "#### RF for non-split data"
   ]
  },
  {
   "cell_type": "code",
   "metadata": {
    "ExecuteTime": {
     "end_time": "2024-04-29T13:41:17.283246Z",
     "start_time": "2024-04-29T13:41:17.034250Z"
    }
   },
   "source": [
    "# Split the balanced dataset to a set of training and testing samples \n",
    "x_train, x_test, y_train, y_test = train_test_split(SMOTE_data.drop(columns=['_MICHD']), SMOTE_data['_MICHD'], test_size=0.25, random_state=SEED)"
   ],
   "outputs": [],
   "execution_count": 52
  },
  {
   "metadata": {
    "jupyter": {
     "is_executing": true
    },
    "ExecuteTime": {
     "start_time": "2024-04-30T19:14:03.467331Z"
    }
   },
   "cell_type": "code",
   "source": [
    "from sklearn.model_selection import GridSearchCV\n",
    "\n",
    "# Define the parameter grid to search\n",
    "param_grid = {\n",
    "    'n_estimators': [100, 200, 300, 400],  # Example values, adjust as needed\n",
    "    'max_depth': [10, 20, 30, None]  # Example values, adjust as needed\n",
    "}\n",
    "\n",
    "# Create a Random Forest Classifier object\n",
    "rf_classifier = RandomForestClassifier(random_state=SEED)\n",
    "\n",
    "# Instantiate the GridSearchCV object\n",
    "grid_search = GridSearchCV(rf_classifier, param_grid, cv=5, scoring='accuracy')\n",
    "\n",
    "# Fit the grid search to the data\n",
    "grid_search.fit(x_train, y_train)\n",
    "\n",
    "# Print the best parameters found\n",
    "print(\"Best Parameters:\", grid_search.best_params_)\n",
    "\n",
    "# Use the best estimator to make predictions\n",
    "best_rf_classifier = grid_search.best_estimator_\n",
    "y_pred = best_rf_classifier.predict(x_test)\n",
    "\n",
    "# Print the confusion matrix and a classification report\n",
    "print('Confusion Matrix:')\n",
    "print(confusion_matrix(y_test, y_pred).T)\n",
    "\n",
    "total_cost = np.sum(confusion_matrix(y_test, y_pred).T * cost_matrix)\n",
    "print(f\"\\nTotal Cost: {total_cost}\")\n",
    "\n",
    "print(classification_report(y_test, y_pred, target_names=[\"Reported having MI or CHD\", \"Did not report having MI or CHD\"]))\n",
    "\n",
    "# Extract macro metrics from the classification report\n",
    "metrics_dict = classification_report(y_test, y_pred, target_names=[\"Reported having MI or CHD\", \"Did not report having MI or CHD\"], output_dict=True)['macro avg']\n",
    "\n",
    "if method==1:\n",
    "    BorderlineSMOTE_loss.loc['Total Cost baseline', 'Random Forests'] = total_cost\n",
    "    BorderlineSMOTE_precision.loc['macro precision baseline', 'Random Forests'] = metrics_dict['precision']\n",
    "    BorderlineSMOTE_recall.loc['macro recall baseline', 'Random Forests'] = metrics_dict['recall']\n",
    "    BorderlineSMOTE_f1_score.loc['macro f1-score baseline', 'Random Forests'] = metrics_dict['f1-score']\n",
    "elif method==2:\n",
    "    smote_tomek_loss.loc['Total Cost baseline', 'Random Forests'] = total_cost\n",
    "    smote_tomek_precision.loc['macro precision baseline', 'Random Forests'] = metrics_dict['precision']\n",
    "    smote_tomek_recall.loc['macro recall baseline', 'Random Forests'] = metrics_dict['recall']\n",
    "    smote_tomek_f1_score.loc['macro f1-score baseline', 'Random Forests'] = metrics_dict['f1-score']\n",
    "elif method==3:\n",
    "    adasyn_loss.loc['Total Cost baseline', 'Random Forests'] = total_cost\n",
    "    adasyn_precision.loc['macro precision baseline', 'Random Forests'] = metrics_dict['precision']\n",
    "    adasyn_recall.loc['macro recall baseline', 'Random Forests'] = metrics_dict['recall']\n",
    "    adasyn_f1_score.loc['macro f1-score baseline', 'Random Forests'] = metrics_dict['f1-score']\n",
    "else:\n",
    "    SMOTE_loss.loc['Total Cost baseline', 'Random Forests'] = total_cost\n",
    "    SMOTE_precision.loc['macro precision baseline', 'Random Forests'] = metrics_dict['precision']\n",
    "    SMOTE_recall.loc['macro recall baseline', 'Random Forests'] = metrics_dict['recall']\n",
    "    SMOTE_f1_score.loc['macro f1-score baseline', 'Random Forests'] = metrics_dict['f1-score']"
   ],
   "outputs": [],
   "execution_count": null
  },
  {
   "metadata": {},
   "cell_type": "code",
   "outputs": [],
   "execution_count": null,
   "source": ""
  },
  {
   "metadata": {
    "ExecuteTime": {
     "end_time": "2024-04-29T15:49:18.586129Z",
     "start_time": "2024-04-29T15:49:18.575409Z"
    }
   },
   "cell_type": "code",
   "source": [
    "# import matplotlib.pyplot as plt\n",
    "# \n",
    "# # Extract feature importances from the best classifier\n",
    "# feature_importances = best_rf_classifier.feature_importances_\n",
    "# \n",
    "# # Get the names of the features\n",
    "# feature_names = x_train.columns  # Assuming x_train is a DataFrame\n",
    "# \n",
    "# # Sort feature importances in descending order\n",
    "# indices = np.argsort(feature_importances)[::-1]\n",
    "# \n",
    "# # Plot the feature importances\n",
    "# plt.figure(figsize=(10, 6))\n",
    "# plt.title(\"Feature Importances\")\n",
    "# plt.bar(range(x_train.shape[1]), feature_importances[indices], color=\"b\", align=\"center\")\n",
    "# plt.xticks(range(x_train.shape[1]), [feature_names[i] for i in indices], rotation=90)\n",
    "# plt.xlim([-1, x_train.shape[1]])\n",
    "# plt.tight_layout()\n",
    "# \n",
    "# # Save the plot as an image file\n",
    "# plt.savefig(\"feature_importance_plot (RandomForestClassifier).png\")\n",
    "# \n",
    "# plt.show()"
   ],
   "outputs": [],
   "execution_count": 54
  },
  {
   "cell_type": "code",
   "source": [
    "def predict(y_prob, cost_m):\n",
    "    t_BMR = (cost_m[1][0] - cost_m[1][1])/(cost_m[0][1] - cost_m[1][1] - cost_m[0][0] + cost_m[1][0])\n",
    "    y_pred = np.greater(y_prob[:, 1], t_BMR).astype(int)\n",
    "    \n",
    "    return y_pred\n",
    "\n",
    "\n",
    "from sklearn.calibration import CalibratedClassifierCV\n",
    "\n",
    "# Best parameters found from grid search\n",
    "best_n_estimators = grid_search.best_params_['n_estimators']\n",
    "best_max_depth = grid_search.best_params_['max_depth']\n",
    "\n",
    "# Create a Random Forest Classifier object with the best parameters\n",
    "rf_classifier = CalibratedClassifierCV(\n",
    "    RandomForestClassifier(n_estimators=best_n_estimators, max_depth=best_max_depth, random_state=SEED),\n",
    "    method=\"sigmoid\", cv=10)\n",
    "\n",
    "# Train the classifier\n",
    "rf_classifier.fit(x_train, y_train)\n",
    "\n",
    "# Predict the response for test dataset\n",
    "y_prob = rf_classifier.predict_proba(x_test)\n",
    "y_pred = predict(y_prob, cost_matrix)\n",
    "\n",
    "# Print the confusion matrix and a classification report\n",
    "print('Confusion Matrix:')\n",
    "print(confusion_matrix(y_test, y_pred).T)\n",
    "\n",
    "total_cost = np.sum(confusion_matrix(y_test, y_pred).T * cost_matrix)\n",
    "print(f\"\\nTotal Cost: {total_cost}\")\n",
    "\n",
    "print(classification_report(y_test, y_pred, target_names=[\"Reported having MI or CHD\", \"Did not report having MI or CHD\"]))\n",
    "\n",
    "# Extract macro metrics from the classification report\n",
    "metrics_dict = classification_report(y_test, y_pred, target_names=[\"Reported having MI or CHD\", \"Did not report having MI or CHD\"], output_dict=True)['macro avg']\n",
    "\n",
    "if method==1:\n",
    "    BorderlineSMOTE_loss.loc['Total Cost MEC', 'Random Forests'] = total_cost\n",
    "    BorderlineSMOTE_precision.loc['macro precision MEC', 'Random Forests'] = metrics_dict['precision']\n",
    "    BorderlineSMOTE_recall.loc['macro recall MEC', 'Random Forests'] = metrics_dict['recall']\n",
    "    BorderlineSMOTE_f1_score.loc['macro f1-score MEC', 'Random Forests'] = metrics_dict['f1-score']\n",
    "elif method==2:\n",
    "    smote_tomek_loss.loc['Total Cost MEC', 'Random Forests'] = total_cost\n",
    "    smote_tomek_precision.loc['macro precision MEC', 'Random Forests'] = metrics_dict['precision']\n",
    "    smote_tomek_recall.loc['macro recall MEC', 'Random Forests'] = metrics_dict['recall']\n",
    "    smote_tomek_f1_score.loc['macro f1-score MEC', 'Random Forests'] = metrics_dict['f1-score']\n",
    "elif method==3:\n",
    "    adasyn_loss.loc['Total Cost MEC', 'Random Forests'] = total_cost\n",
    "    adasyn_precision.loc['macro precision MEC', 'Random Forests'] = metrics_dict['precision']\n",
    "    adasyn_recall.loc['macro recall MEC', 'Random Forests'] = metrics_dict['recall']\n",
    "    adasyn_f1_score.loc['macro f1-score MEC', 'Random Forests'] = metrics_dict['f1-score']\n",
    "else:\n",
    "    SMOTE_loss.loc['Total Cost MEC', 'Random Forests'] = total_cost\n",
    "    SMOTE_precision.loc['macro precision MEC', 'Random Forests'] = metrics_dict['precision']\n",
    "    SMOTE_recall.loc['macro recall MEC', 'Random Forests'] = metrics_dict['recall']\n",
    "    SMOTE_f1_score.loc['macro f1-score MEC', 'Random Forests'] = metrics_dict['f1-score']"
   ],
   "metadata": {
    "collapsed": false,
    "ExecuteTime": {
     "end_time": "2024-04-29T16:09:02.119079Z",
     "start_time": "2024-04-29T15:49:18.589126Z"
    }
   },
   "outputs": [
    {
     "name": "stdout",
     "output_type": "stream",
     "text": [
      "Confusion Matrix:\n",
      "[[37472  6772]\n",
      " [ 1234 31378]]\n",
      "\n",
      "Total Cost: 2927.0\n",
      "                                 precision    recall  f1-score   support\n",
      "\n",
      "      Reported having MI or CHD       0.85      0.97      0.90     38706\n",
      "Did not report having MI or CHD       0.96      0.82      0.89     38150\n",
      "\n",
      "                       accuracy                           0.90     76856\n",
      "                      macro avg       0.90      0.90      0.90     76856\n",
      "                   weighted avg       0.90      0.90      0.90     76856\n",
      "\n"
     ]
    }
   ],
   "execution_count": 55
  },
  {
   "cell_type": "code",
   "metadata": {
    "ExecuteTime": {
     "end_time": "2024-04-29T16:10:43.364555Z",
     "start_time": "2024-04-29T16:09:02.132067Z"
    }
   },
   "source": [
    "sample_weights = np.zeros_like(y_train, dtype=float)\n",
    "sample_weights[y_train == 0] = cost_matrix[0][1]\n",
    "sample_weights[y_train == 1] = cost_matrix[1][0]\n",
    "\n",
    "# Best parameters found from grid search\n",
    "best_n_estimators = grid_search.best_params_['n_estimators']\n",
    "best_max_depth = grid_search.best_params_['max_depth']\n",
    "\n",
    "# Create a Random Forests Classifier object\n",
    "rf_classifier = RandomForestClassifier(n_estimators=best_n_estimators, max_depth=best_max_depth, random_state=SEED)\n",
    "\n",
    "# Train the classifier\n",
    "rf_classifier.fit(x_train , y_train, sample_weight=sample_weights)\n",
    "\n",
    "# Predict the response for test dataset\n",
    "y_pred = rf_classifier.predict(x_test)\n",
    "\n",
    "# Print the confusion matrix and a classification report\n",
    "print('Confusion Matrix:')\n",
    "print(confusion_matrix(y_test, y_pred).T)\n",
    "\n",
    "total_cost = np.sum(confusion_matrix(y_test, y_pred).T * cost_matrix)\n",
    "print(f\"\\nTotal Cost: {total_cost}\")\n",
    "\n",
    "print(classification_report(y_test, y_pred, target_names=[\"Reported having MI or CHD\", \"Did not report having MI or CHD\"]))\n",
    "\n",
    "# Extract macro metrics from the classification report\n",
    "metrics_dict = classification_report(y_test, y_pred, target_names=[\"Reported having MI or CHD\", \"Did not report having MI or CHD\"], output_dict=True)['macro avg']\n",
    "\n",
    "if method==1:\n",
    "    BorderlineSMOTE_loss.loc['Total Cost weighting', 'Random Forests'] = total_cost\n",
    "    BorderlineSMOTE_precision.loc['macro precision weighting', 'Random Forests'] = metrics_dict['precision']\n",
    "    BorderlineSMOTE_recall.loc['macro recall weighting', 'Random Forests'] = metrics_dict['recall']\n",
    "    BorderlineSMOTE_f1_score.loc['macro f1-score weighting', 'Random Forests'] = metrics_dict['f1-score']\n",
    "elif method==2:\n",
    "    smote_tomek_loss.loc['Total Cost weighting', 'Random Forests'] = total_cost\n",
    "    smote_tomek_precision.loc['macro precision weighting', 'Random Forests'] = metrics_dict['precision']\n",
    "    smote_tomek_recall.loc['macro recall weighting', 'Random Forests'] = metrics_dict['recall']\n",
    "    smote_tomek_f1_score.loc['macro f1-score weighting', 'Random Forests'] = metrics_dict['f1-score']\n",
    "elif method==3:\n",
    "    adasyn_loss.loc['Total Cost weighting', 'Random Forests'] = total_cost\n",
    "    adasyn_precision.loc['macro precision weighting', 'Random Forests'] = metrics_dict['precision']\n",
    "    adasyn_recall.loc['macro recall weighting', 'Random Forests'] = metrics_dict['recall']\n",
    "    adasyn_f1_score.loc['macro f1-score weighting', 'Random Forests'] = metrics_dict['f1-score']\n",
    "else:\n",
    "    SMOTE_loss.loc['Total Cost weighting', 'Random Forests'] = total_cost\n",
    "    SMOTE_precision.loc['macro precision weighting', 'Random Forests'] = metrics_dict['precision']\n",
    "    SMOTE_recall.loc['macro recall weighting', 'Random Forests'] = metrics_dict['recall']\n",
    "    SMOTE_f1_score.loc['macro f1-score weighting', 'Random Forests'] = metrics_dict['f1-score']"
   ],
   "outputs": [
    {
     "name": "stdout",
     "output_type": "stream",
     "text": [
      "Confusion Matrix:\n",
      "[[34546  3935]\n",
      " [ 4160 34215]]\n",
      "\n",
      "Total Cost: 5143.75\n",
      "                                 precision    recall  f1-score   support\n",
      "\n",
      "      Reported having MI or CHD       0.90      0.89      0.90     38706\n",
      "Did not report having MI or CHD       0.89      0.90      0.89     38150\n",
      "\n",
      "                       accuracy                           0.89     76856\n",
      "                      macro avg       0.89      0.89      0.89     76856\n",
      "                   weighted avg       0.89      0.89      0.89     76856\n",
      "\n"
     ]
    }
   ],
   "execution_count": 56
  },
  {
   "metadata": {
    "ExecuteTime": {
     "end_time": "2024-04-29T16:10:43.370564Z",
     "start_time": "2024-04-29T16:10:43.366550Z"
    }
   },
   "cell_type": "code",
   "source": [
    "# import shap\n",
    "# \n",
    "# # Calculate SHAP values\n",
    "# explainer = shap.TreeExplainer(best_rf_classifier)\n",
    "# shap_values = explainer.shap_values(x_train)\n",
    "# \n",
    "# # Plot SHAP summary plot\n",
    "# summary_plot = shap.summary_plot(shap_values, x_train, feature_names=feature_names)\n",
    "# \n",
    "# # Save the plot\n",
    "# summary_plot.savefig(\"shap_summary_plot.png\")"
   ],
   "outputs": [],
   "execution_count": 57
  },
  {
   "metadata": {},
   "cell_type": "markdown",
   "source": "### ***K-Nearest Neighbors (KNN)***"
  },
  {
   "metadata": {
    "ExecuteTime": {
     "end_time": "2024-04-29T16:10:43.623123Z",
     "start_time": "2024-04-29T16:10:43.374264Z"
    }
   },
   "cell_type": "code",
   "source": [
    "# Split the balanced dataset to a set of training and testing samples \n",
    "x_train, x_test, y_train, y_test = train_test_split(SMOTE_data.drop(columns=['_MICHD']), SMOTE_data['_MICHD'], test_size=0.25, random_state=SEED)"
   ],
   "outputs": [],
   "execution_count": 58
  },
  {
   "metadata": {
    "ExecuteTime": {
     "end_time": "2024-04-29T22:31:19.603536Z",
     "start_time": "2024-04-29T16:10:43.650108Z"
    }
   },
   "cell_type": "code",
   "source": [
    "from sklearn.model_selection import cross_val_score\n",
    "\n",
    "# Define a range of k values to try\n",
    "k_values = range(1, 21)  # You can adjust this range as needed\n",
    "\n",
    "# Initialize lists to store mean cross-validation scores for each k\n",
    "mean_cv_scores = []\n",
    "\n",
    "# Iterate over each k value\n",
    "for k in k_values:\n",
    "    # Create a KNeighborsClassifier object with the current k value\n",
    "    knn_model = KNeighborsClassifier(n_neighbors=k)\n",
    "    \n",
    "    # Perform 5-fold cross-validation and compute the mean accuracy\n",
    "    cv_scores = cross_val_score(knn_model, x_train, y_train, cv=5, scoring='accuracy')\n",
    "    mean_cv_score = np.mean(cv_scores)\n",
    "    \n",
    "    # Append the mean cross-validation score to the list\n",
    "    mean_cv_scores.append(mean_cv_score)\n",
    "\n",
    "# Find the index of the k value with the highest mean cross-validation score\n",
    "best_k_index = np.argmax(mean_cv_scores)\n",
    "\n",
    "# Get the best value of k\n",
    "best_k = k_values[best_k_index]\n",
    "\n",
    "print(f\"The best value of k is: {best_k}\")\n",
    "\n",
    "# Create a KNeighborsClassifier object with the best value of k\n",
    "best_knn_model = KNeighborsClassifier(n_neighbors=best_k)\n",
    "\n",
    "# Train the classifier\n",
    "best_knn_model.fit(x_train, y_train)\n",
    "\n",
    "# Predict the response for the test dataset\n",
    "y_pred = best_knn_model.predict(x_test)\n",
    "\n",
    "# Print the confusion matrix\n",
    "print('Confusion Matrix:')\n",
    "print(confusion_matrix(y_test, y_pred).T)\n",
    "\n",
    "# Calculate and print the total cost\n",
    "total_cost = np.sum(confusion_matrix(y_test, y_pred).T * cost_matrix)\n",
    "print(f\"\\nTotal Cost: {total_cost}\") \n",
    "\n",
    "# Print the classification report for additional evaluation metrics\n",
    "print('\\nClassification Report:')\n",
    "print(classification_report(y_test, y_pred, target_names=[\"Reported having MI or CHD\", \"Did not report having MI or CHD\"]))\n",
    "\n",
    "# Extract macro metrics from the classification report\n",
    "metrics_dict = classification_report(y_test, y_pred, target_names=[\"Reported having MI or CHD\", \"Did not report having MI or CHD\"], output_dict=True)['macro avg']\n",
    "\n",
    "if method==1:\n",
    "    BorderlineSMOTE_loss.loc['Total Cost baseline', 'KNN'] = total_cost\n",
    "    BorderlineSMOTE_precision.loc['macro precision baseline', 'KNN'] = metrics_dict['precision']\n",
    "    BorderlineSMOTE_recall.loc['macro recall baseline', 'KNN'] = metrics_dict['recall']\n",
    "    BorderlineSMOTE_f1_score.loc['macro f1-score baseline', 'KNN'] = metrics_dict['f1-score']\n",
    "elif method==2:\n",
    "    smote_tomek_loss.loc['Total Cost baseline', 'KNN'] = total_cost\n",
    "    smote_tomek_precision.loc['macro precision baseline', 'KNN'] = metrics_dict['precision']\n",
    "    smote_tomek_recall.loc['macro recall baseline', 'KNN'] = metrics_dict['recall']\n",
    "    smote_tomek_f1_score.loc['macro f1-score baseline', 'KNN'] = metrics_dict['f1-score']\n",
    "elif method==3:\n",
    "    adasyn_loss.loc['Total Cost baseline', 'KNN'] = total_cost\n",
    "    adasyn_precision.loc['macro precision baseline', 'KNN'] = metrics_dict['precision']\n",
    "    adasyn_recall.loc['macro recall baseline', 'KNN'] = metrics_dict['recall']\n",
    "    adasyn_f1_score.loc['macro f1-score baseline', 'KNN'] = metrics_dict['f1-score']\n",
    "else:\n",
    "    SMOTE_loss.loc['Total Cost baseline', 'KNN'] = total_cost\n",
    "    SMOTE_precision.loc['macro precision baseline', 'KNN'] = metrics_dict['precision']\n",
    "    SMOTE_recall.loc['macro recall baseline', 'KNN'] = metrics_dict['recall']\n",
    "    SMOTE_f1_score.loc['macro f1-score baseline', 'KNN'] = metrics_dict['f1-score']"
   ],
   "outputs": [
    {
     "name": "stdout",
     "output_type": "stream",
     "text": [
      "The best value of k is: 1\n",
      "Confusion Matrix:\n",
      "[[35891  7194]\n",
      " [ 2815 30956]]\n",
      "\n",
      "Total Cost: 4613.5\n",
      "\n",
      "Classification Report:\n",
      "                                 precision    recall  f1-score   support\n",
      "\n",
      "      Reported having MI or CHD       0.83      0.93      0.88     38706\n",
      "Did not report having MI or CHD       0.92      0.81      0.86     38150\n",
      "\n",
      "                       accuracy                           0.87     76856\n",
      "                      macro avg       0.87      0.87      0.87     76856\n",
      "                   weighted avg       0.87      0.87      0.87     76856\n",
      "\n"
     ]
    }
   ],
   "execution_count": 59
  },
  {
   "metadata": {
    "ExecuteTime": {
     "end_time": "2024-04-30T00:04:53.636253Z",
     "start_time": "2024-04-29T22:31:19.610539Z"
    }
   },
   "cell_type": "code",
   "source": [
    "def predict(y_prob, cost_m):\n",
    "    t_BMR = (cost_m[1][0] - cost_m[1][1])/(cost_m[0][1] - cost_m[1][1] - cost_m[0][0] + cost_m[1][0])\n",
    "    y_pred = np.greater(y_prob[:, 1], t_BMR).astype(int)\n",
    "    \n",
    "    return y_pred\n",
    "\n",
    "\n",
    "from sklearn.calibration import CalibratedClassifierCV\n",
    "\n",
    "# Create a KNeighborsClassifier object with the best value of k\n",
    "knn_model = CalibratedClassifierCV(KNeighborsClassifier(n_neighbors=best_k), method='isotonic', cv=10)\n",
    "\n",
    "# Train the classifier\n",
    "knn_model.fit(x_train, y_train)\n",
    "\n",
    "# Predict the response for the test dataset\n",
    "y_prob = knn_model.predict_proba(x_test)\n",
    "y_pred = predict(y_prob, cost_matrix)\n",
    "\n",
    "# Print the confusion matrix\n",
    "print('Confusion Matrix:')\n",
    "print(confusion_matrix(y_test, y_pred).T)\n",
    "\n",
    "# Calculate and print the total cost\n",
    "total_cost = np.sum(confusion_matrix(y_test, y_pred).T * cost_matrix)\n",
    "print(f\"\\nTotal Cost: {total_cost}\") \n",
    "\n",
    "# Print the classification report for additional evaluation metrics\n",
    "print('\\nClassification Report:')\n",
    "print(classification_report(y_test, y_pred, target_names=[\"Reported having MI or CHD\", \"Did not report having MI or CHD\"]))\n",
    "\n",
    "# Extract macro metrics from the classification report\n",
    "metrics_dict = classification_report(y_test, y_pred, target_names=[\"Reported having MI or CHD\", \"Did not report having MI or CHD\"], output_dict=True)['macro avg']\n",
    "\n",
    "if method==1:\n",
    "    BorderlineSMOTE_loss.loc['Total Cost MEC', 'KNN'] = total_cost\n",
    "    BorderlineSMOTE_precision.loc['macro precision MEC', 'KNN'] = metrics_dict['precision']\n",
    "    BorderlineSMOTE_recall.loc['macro recall MEC', 'KNN'] = metrics_dict['recall']\n",
    "    BorderlineSMOTE_f1_score.loc['macro f1-score MEC', 'KNN'] = metrics_dict['f1-score']\n",
    "elif method==2:\n",
    "    smote_tomek_loss.loc['Total Cost MEC', 'KNN'] = total_cost\n",
    "    smote_tomek_precision.loc['macro precision MEC', 'KNN'] = metrics_dict['precision']\n",
    "    smote_tomek_recall.loc['macro recall MEC', 'KNN'] = metrics_dict['recall']\n",
    "    smote_tomek_f1_score.loc['macro f1-score MEC', 'KNN'] = metrics_dict['f1-score']\n",
    "elif method==3:\n",
    "    adasyn_loss.loc['Total Cost MEC', 'KNN'] = total_cost\n",
    "    adasyn_precision.loc['macro precision MEC', 'KNN'] = metrics_dict['precision']\n",
    "    adasyn_recall.loc['macro recall MEC', 'KNN'] = metrics_dict['recall']\n",
    "    adasyn_f1_score.loc['macro f1-score MEC', 'KNN'] = metrics_dict['f1-score']\n",
    "else:\n",
    "    SMOTE_loss.loc['Total Cost MEC', 'KNN'] = total_cost\n",
    "    SMOTE_precision.loc['macro precision MEC', 'KNN'] = metrics_dict['precision']\n",
    "    SMOTE_recall.loc['macro recall MEC', 'KNN'] = metrics_dict['recall']\n",
    "    SMOTE_f1_score.loc['macro f1-score MEC', 'KNN'] = metrics_dict['f1-score']"
   ],
   "outputs": [
    {
     "name": "stdout",
     "output_type": "stream",
     "text": [
      "Confusion Matrix:\n",
      "[[35891  7194]\n",
      " [ 2815 30956]]\n",
      "\n",
      "Total Cost: 4613.5\n",
      "\n",
      "Classification Report:\n",
      "                                 precision    recall  f1-score   support\n",
      "\n",
      "      Reported having MI or CHD       0.83      0.93      0.88     38706\n",
      "Did not report having MI or CHD       0.92      0.81      0.86     38150\n",
      "\n",
      "                       accuracy                           0.87     76856\n",
      "                      macro avg       0.87      0.87      0.87     76856\n",
      "                   weighted avg       0.87      0.87      0.87     76856\n",
      "\n"
     ]
    }
   ],
   "execution_count": 60
  },
  {
   "metadata": {
    "ExecuteTime": {
     "end_time": "2024-04-30T09:03:22.046288Z",
     "start_time": "2024-04-30T08:55:30.490330Z"
    }
   },
   "cell_type": "code",
   "source": [
    "from sklearn.utils import resample\n",
    "\n",
    "# sample_weights = np.zeros_like(y_train, dtype=float)\n",
    "# sample_weights[y_train == 0] = cost_matrix[0][1]\n",
    "# sample_weights[y_train == 1] = cost_matrix[1][0]\n",
    "\n",
    "# Convert y_train to a NumPy array\n",
    "y_train_array = y_train.values\n",
    "\n",
    "# Get indices of minority class instances\n",
    "minority_indices = np.where(y_train == 1)[0]\n",
    "\n",
    "# Replicate minority class instances with their respective weights\n",
    "x_train_up = np.repeat(x_train.iloc[minority_indices], sample_weights[minority_indices].astype(int), axis=0)\n",
    "y_train_up = np.repeat(y_train_array[minority_indices], sample_weights[minority_indices].astype(int))\n",
    "\n",
    "# Concatenate the upsampled minority class with the majority class\n",
    "x_train_weighted = np.vstack((x_train[y_train == 0], x_train_up))\n",
    "y_train_weighted = np.hstack((y_train[y_train == 0], y_train_up))\n",
    "\n",
    "# Create a KNeighborsClassifier object with the best value of k\n",
    "knn_model = KNeighborsClassifier(n_neighbors=best_k)\n",
    "\n",
    "# Train the classifier\n",
    "knn_model.fit(x_train_weighted, y_train_weighted)\n",
    "\n",
    "# Predict the response for the test dataset\n",
    "y_pred = knn_model.predict(x_test)\n",
    "\n",
    "# Print the confusion matrix\n",
    "print('Confusion Matrix:')\n",
    "print(confusion_matrix(y_test, y_pred).T)\n",
    "\n",
    "# Calculate and print the total cost\n",
    "total_cost = np.sum(confusion_matrix(y_test, y_pred).T * cost_matrix)\n",
    "print(f\"\\nTotal Cost: {total_cost}\") \n",
    "\n",
    "# Print the classification report for additional evaluation metrics\n",
    "print('\\nClassification Report:')\n",
    "print(classification_report(y_test, y_pred, target_names=[\"Reported having MI or CHD\", \"Did not report having MI or CHD\"]))\n",
    "\n",
    "# Extract macro metrics from the classification report\n",
    "metrics_dict = classification_report(y_test, y_pred, target_names=[\"Reported having MI or CHD\", \"Did not report having MI or CHD\"], output_dict=True)['macro avg']\n",
    "\n",
    "if method==1:\n",
    "    BorderlineSMOTE_loss.loc['Total Cost weighting', 'KNN'] = total_cost\n",
    "    BorderlineSMOTE_precision.loc['macro precision weighting', 'KNN'] = metrics_dict['precision']\n",
    "    BorderlineSMOTE_recall.loc['macro recall weighting', 'KNN'] = metrics_dict['recall']\n",
    "    BorderlineSMOTE_f1_score.loc['macro f1-score weighting', 'KNN'] = metrics_dict['f1-score']\n",
    "elif method==2:\n",
    "    smote_tomek_loss.loc['Total Cost weighting', 'KNN'] = total_cost\n",
    "    smote_tomek_precision.loc['macro precision weighting', 'KNN'] = metrics_dict['precision']\n",
    "    smote_tomek_recall.loc['macro recall weighting', 'KNN'] = metrics_dict['recall']\n",
    "    smote_tomek_f1_score.loc['macro f1-score weighting', 'KNN'] = metrics_dict['f1-score']\n",
    "elif method==3:\n",
    "    adasyn_loss.loc['Total Cost weighting', 'KNN'] = total_cost\n",
    "    adasyn_precision.loc['macro precision weighting', 'KNN'] = metrics_dict['precision']\n",
    "    adasyn_recall.loc['macro recall weighting', 'KNN'] = metrics_dict['recall']\n",
    "    adasyn_f1_score.loc['macro f1-score weighting', 'KNN'] = metrics_dict['f1-score']\n",
    "else:\n",
    "    SMOTE_loss.loc['Total Cost weighting', 'KNN'] = total_cost\n",
    "    SMOTE_precision.loc['macro precision weighting', 'KNN'] = metrics_dict['precision']\n",
    "    SMOTE_recall.loc['macro recall weighting', 'KNN'] = metrics_dict['recall']\n",
    "    SMOTE_f1_score.loc['macro f1-score weighting', 'KNN'] = metrics_dict['f1-score']"
   ],
   "outputs": [
    {
     "name": "stderr",
     "output_type": "stream",
     "text": [
      "C:\\Users\\skape\\PycharmProjects\\pythonProject3\\.venv\\Lib\\site-packages\\sklearn\\base.py:486: UserWarning: X has feature names, but KNeighborsClassifier was fitted without feature names\n",
      "  warnings.warn(\n"
     ]
    },
    {
     "name": "stdout",
     "output_type": "stream",
     "text": [
      "Confusion Matrix:\n",
      "[[38168 11085]\n",
      " [  538 27065]]\n",
      "\n",
      "Total Cost: 3309.25\n",
      "\n",
      "Classification Report:\n",
      "                                 precision    recall  f1-score   support\n",
      "\n",
      "      Reported having MI or CHD       0.77      0.99      0.87     38706\n",
      "Did not report having MI or CHD       0.98      0.71      0.82     38150\n",
      "\n",
      "                       accuracy                           0.85     76856\n",
      "                      macro avg       0.88      0.85      0.85     76856\n",
      "                   weighted avg       0.88      0.85      0.85     76856\n",
      "\n"
     ]
    }
   ],
   "execution_count": 67
  },
  {
   "metadata": {},
   "cell_type": "markdown",
   "source": "### ***LogisticRegression***"
  },
  {
   "metadata": {
    "ExecuteTime": {
     "end_time": "2024-04-30T18:23:50.488739Z",
     "start_time": "2024-04-30T17:32:18.663463Z"
    }
   },
   "cell_type": "code",
   "source": [
    "from sklearn.linear_model import LogisticRegression\n",
    "\n",
    "# Define the parameter grid to search\n",
    "param_grid = {\n",
    "    'penalty': ['l1', 'l2'],  # Regularization penalty\n",
    "    'C': [0.001, 0.01, 0.1, 1, 10, 100],  # Inverse of regularization strength\n",
    "    'solver': ['liblinear', 'saga'] \n",
    "}\n",
    "\n",
    "# Create a Logistic Regression Classifier object\n",
    "logreg_classifier = LogisticRegression(random_state=SEED)\n",
    "\n",
    "# Instantiate the GridSearchCV object\n",
    "grid_search = GridSearchCV(logreg_classifier, param_grid, cv=5, scoring='accuracy')\n",
    "\n",
    "# Fit the grid search to the data\n",
    "grid_search.fit(x_train, y_train)\n",
    "\n",
    "# Print the best parameters found\n",
    "print(\"Best Parameters:\", grid_search.best_params_)\n",
    "\n",
    "# Use the best estimator to make predictions\n",
    "best_logreg_classifier = grid_search.best_estimator_\n",
    "y_pred = best_logreg_classifier.predict(x_test)\n",
    "\n",
    "# Print the confusion matrix and a classification report\n",
    "print('Confusion Matrix:')\n",
    "print(confusion_matrix(y_test, y_pred).T)\n",
    "\n",
    "total_cost = np.sum(confusion_matrix(y_test, y_pred).T * cost_matrix)\n",
    "print(f\"\\nTotal Cost: {total_cost}\")\n",
    "\n",
    "print(classification_report(y_test, y_pred, target_names=[\"Reported having MI or CHD\", \"Did not report having MI or CHD\"]))\n",
    "\n",
    "# Extract macro metrics from the classification report\n",
    "metrics_dict = classification_report(y_test, y_pred, target_names=[\"Reported having MI or CHD\", \"Did not report having MI or CHD\"], output_dict=True)['macro avg']\n",
    "\n",
    "if method==1:\n",
    "    BorderlineSMOTE_loss.loc['Total Cost baseline', 'Logistic Regression'] = total_cost\n",
    "    BorderlineSMOTE_precision.loc['macro precision baseline', 'Logistic Regression'] = metrics_dict['precision']\n",
    "    BorderlineSMOTE_recall.loc['macro recall baseline', 'Logistic Regression'] = metrics_dict['recall']\n",
    "    BorderlineSMOTE_f1_score.loc['macro f1-score baseline', 'Logistic Regression'] = metrics_dict['f1-score']\n",
    "elif method==2:\n",
    "    smote_tomek_loss.loc['Total Cost baseline', 'Logistic Regression'] = total_cost\n",
    "    smote_tomek_precision.loc['macro precision baseline', 'Logistic Regression'] = metrics_dict['precision']\n",
    "    smote_tomek_recall.loc['macro recall baseline', 'Logistic Regression'] = metrics_dict['recall']\n",
    "    smote_tomek_f1_score.loc['macro f1-score baseline', 'Logistic Regression'] = metrics_dict['f1-score']\n",
    "elif method==3:\n",
    "    adasyn_loss.loc['Total Cost baseline', 'Logistic Regression'] = total_cost\n",
    "    adasyn_precision.loc['macro precision baseline', 'Logistic Regression'] = metrics_dict['precision']\n",
    "    adasyn_recall.loc['macro recall baseline', 'Logistic Regression'] = metrics_dict['recall']\n",
    "    adasyn_f1_score.loc['macro f1-score baseline', 'Logistic Regression'] = metrics_dict['f1-score']\n",
    "else:\n",
    "    SMOTE_loss.loc['Total Cost baseline', 'Logistic Regression'] = total_cost\n",
    "    SMOTE_precision.loc['macro precision baseline', 'Logistic Regression'] = metrics_dict['precision']\n",
    "    SMOTE_recall.loc['macro recall baseline', 'Logistic Regression'] = metrics_dict['recall']\n",
    "    SMOTE_f1_score.loc['macro f1-score baseline', 'Logistic Regression'] = metrics_dict['f1-score']"
   ],
   "outputs": [
    {
     "name": "stdout",
     "output_type": "stream",
     "text": [
      "Best Parameters: {'C': 0.1, 'penalty': 'l1', 'solver': 'saga'}\n",
      "Confusion Matrix:\n",
      "[[31488 10259]\n",
      " [ 7218 27891]]\n",
      "\n",
      "Total Cost: 9782.75\n",
      "                                 precision    recall  f1-score   support\n",
      "\n",
      "      Reported having MI or CHD       0.75      0.81      0.78     38706\n",
      "Did not report having MI or CHD       0.79      0.73      0.76     38150\n",
      "\n",
      "                       accuracy                           0.77     76856\n",
      "                      macro avg       0.77      0.77      0.77     76856\n",
      "                   weighted avg       0.77      0.77      0.77     76856\n",
      "\n"
     ]
    }
   ],
   "execution_count": 110
  },
  {
   "metadata": {
    "ExecuteTime": {
     "end_time": "2024-04-30T11:43:59.556759Z",
     "start_time": "2024-04-30T11:43:36.814859Z"
    }
   },
   "cell_type": "code",
   "source": [
    "def predict(y_prob, cost_m):\n",
    "    t_BMR = (cost_m[1][0] - cost_m[1][1])/(cost_m[0][1] - cost_m[1][1] - cost_m[0][0] + cost_m[1][0])\n",
    "    y_pred = np.greater(y_prob[:, 1], t_BMR).astype(int)\n",
    "    \n",
    "    return y_pred\n",
    "\n",
    "\n",
    "# Create a logistic regression classifier with the best parameters\n",
    "logreg_model = LogisticRegression(**grid_search.best_params_, random_state=SEED)\n",
    "\n",
    "# Train the classifier\n",
    "logreg_model.fit(x_train, y_train)\n",
    "\n",
    "# Predict probabilities for the test dataset\n",
    "y_prob = logreg_model.predict_proba(x_test)\n",
    "\n",
    "# Use the custom predict function to get binary predictions\n",
    "y_pred = predict(y_prob, cost_matrix)\n",
    "\n",
    "# Print the confusion matrix\n",
    "print('Confusion Matrix:')\n",
    "print(confusion_matrix(y_test, y_pred).T)\n",
    "\n",
    "# Calculate and print the total cost\n",
    "total_cost = np.sum(confusion_matrix(y_test, y_pred).T * cost_matrix)\n",
    "print(f\"\\nTotal Cost: {total_cost}\") \n",
    "\n",
    "# Print the classification report for additional evaluation metrics\n",
    "print('\\nClassification Report:')\n",
    "print(classification_report(y_test, y_pred, target_names=[\"Reported having MI or CHD\", \"Did not report having MI or CHD\"]))\n",
    "\n",
    "# Extract macro metrics from the classification report\n",
    "metrics_dict = classification_report(y_test, y_pred, target_names=[\"Reported having MI or CHD\", \"Did not report having MI or CHD\"], output_dict=True)['macro avg']\n",
    "\n",
    "# Update the appropriate DataFrame based on the chosen method\n",
    "if method == 1:\n",
    "    BorderlineSMOTE_loss.loc['Total Cost MEC', 'Logistic Regression'] = total_cost\n",
    "    BorderlineSMOTE_precision.loc['macro precision MEC', 'Logistic Regression'] = metrics_dict['precision']\n",
    "    BorderlineSMOTE_recall.loc['macro recall MEC', 'Logistic Regression'] = metrics_dict['recall']\n",
    "    BorderlineSMOTE_f1_score.loc['macro f1-score MEC', 'Logistic Regression'] = metrics_dict['f1-score']\n",
    "elif method == 2:\n",
    "    smote_tomek_loss.loc['Total Cost MEC', 'Logistic Regression'] = total_cost\n",
    "    smote_tomek_precision.loc['macro precision MEC', 'Logistic Regression'] = metrics_dict['precision']\n",
    "    smote_tomek_recall.loc['macro recall MEC', 'Logistic Regression'] = metrics_dict['recall']\n",
    "    smote_tomek_f1_score.loc['macro f1-score MEC', 'Logistic Regression'] = metrics_dict['f1-score']\n",
    "elif method == 3:\n",
    "    adasyn_loss.loc['Total Cost MEC', 'Logistic Regression'] = total_cost\n",
    "    adasyn_precision.loc['macro precision MEC', 'Logistic Regression'] = metrics_dict['precision']\n",
    "    adasyn_recall.loc['macro recall MEC', 'Logistic Regression'] = metrics_dict['recall']\n",
    "    adasyn_f1_score.loc['macro f1-score MEC', 'Logistic Regression'] = metrics_dict['f1-score']\n",
    "else:\n",
    "    SMOTE_loss.loc['Total Cost MEC', 'Logistic Regression'] = total_cost\n",
    "    SMOTE_precision.loc['macro precision MEC', 'Logistic Regression'] = metrics_dict['precision']\n",
    "    SMOTE_recall.loc['macro recall MEC', 'Logistic Regression'] = metrics_dict['recall']\n",
    "    SMOTE_f1_score.loc['macro f1-score MEC', 'Logistic Regression'] = metrics_dict['f1-score']"
   ],
   "outputs": [
    {
     "name": "stdout",
     "output_type": "stream",
     "text": [
      "Confusion Matrix:\n",
      "[[37587 21159]\n",
      " [ 1119 16991]]\n",
      "\n",
      "Total Cost: 6408.75\n",
      "\n",
      "Classification Report:\n",
      "                                 precision    recall  f1-score   support\n",
      "\n",
      "      Reported having MI or CHD       0.64      0.97      0.77     38706\n",
      "Did not report having MI or CHD       0.94      0.45      0.60     38150\n",
      "\n",
      "                       accuracy                           0.71     76856\n",
      "                      macro avg       0.79      0.71      0.69     76856\n",
      "                   weighted avg       0.79      0.71      0.69     76856\n",
      "\n"
     ]
    }
   ],
   "execution_count": 108
  },
  {
   "metadata": {
    "ExecuteTime": {
     "end_time": "2024-04-30T11:44:03.674187Z",
     "start_time": "2024-04-30T11:43:59.559755Z"
    }
   },
   "cell_type": "code",
   "source": [
    "sample_weights = np.zeros_like(y_train, dtype=float)\n",
    "sample_weights[y_train == 0] = cost_matrix[0][1]\n",
    "sample_weights[y_train == 1] = cost_matrix[1][0]\n",
    "\n",
    "# Create a logistic regression classifier with the best parameters\n",
    "logreg_model = LogisticRegression(**grid_search.best_params_, random_state=SEED, max_iter=10000)\n",
    "\n",
    "# Train the classifier with sample weights\n",
    "logreg_classifier.fit(x_train, y_train, sample_weight=sample_weights)\n",
    "\n",
    "# Predict the response for the test dataset\n",
    "y_pred = logreg_classifier.predict(x_test)\n",
    "\n",
    "# Print the confusion matrix and a classification report\n",
    "print('Confusion Matrix:')\n",
    "print(confusion_matrix(y_test, y_pred).T)\n",
    "\n",
    "total_cost = np.sum(confusion_matrix(y_test, y_pred).T * cost_matrix)\n",
    "print(f\"\\nTotal Cost: {total_cost}\")\n",
    "\n",
    "print(classification_report(y_test, y_pred, target_names=[\"Reported having MI or CHD\", \"Did not report having MI or CHD\"]))\n",
    "\n",
    "# Extract macro metrics from the classification report\n",
    "metrics_dict = classification_report(y_test, y_pred, target_names=[\"Reported having MI or CHD\", \"Did not report having MI or CHD\"], output_dict=True)['macro avg']\n",
    "\n",
    "# Update the appropriate DataFrame based on the chosen method\n",
    "if method == 1:\n",
    "    BorderlineSMOTE_loss.loc['Total Cost weighting', 'Logistic Regression'] = total_cost\n",
    "    BorderlineSMOTE_precision.loc['macro precision weighting', 'Logistic Regression'] = metrics_dict['precision']\n",
    "    BorderlineSMOTE_recall.loc['macro recall weighting', 'Logistic Regression'] = metrics_dict['recall']\n",
    "    BorderlineSMOTE_f1_score.loc['macro f1-score weighting', 'Logistic Regression'] = metrics_dict['f1-score']\n",
    "elif method == 2:\n",
    "    smote_tomek_loss.loc['Total Cost weighting', 'Logistic Regression'] = total_cost\n",
    "    smote_tomek_precision.loc['macro precision weighting', 'Logistic Regression'] = metrics_dict['precision']\n",
    "    smote_tomek_recall.loc['macro recall weighting', 'Logistic Regression'] = metrics_dict['recall']\n",
    "    smote_tomek_f1_score.loc['macro f1-score weighting', 'Logistic Regression'] = metrics_dict['f1-score']\n",
    "elif method == 3:\n",
    "    adasyn_loss.loc['Total Cost weighting', 'Logistic Regression'] = total_cost\n",
    "    adasyn_precision.loc['macro precision weighting', 'Logistic Regression'] = metrics_dict['precision']\n",
    "    adasyn_recall.loc['macro recall weighting', 'Logistic Regression'] = metrics_dict['recall']\n",
    "    adasyn_f1_score.loc['macro f1-score weighting', 'Logistic Regression'] = metrics_dict['f1-score']\n",
    "else:\n",
    "    SMOTE_loss.loc['Total Cost weighting', 'Logistic Regression'] = total_cost\n",
    "    SMOTE_precision.loc['macro precision weighting', 'Logistic Regression'] = metrics_dict['precision']\n",
    "    SMOTE_recall.loc['macro recall weighting', 'Logistic Regression'] = metrics_dict['recall']\n",
    "    SMOTE_f1_score.loc['macro f1-score weighting', 'Logistic Regression'] = metrics_dict['f1-score']"
   ],
   "outputs": [
    {
     "name": "stderr",
     "output_type": "stream",
     "text": [
      "C:\\Users\\skape\\PycharmProjects\\pythonProject3\\.venv\\Lib\\site-packages\\sklearn\\linear_model\\_logistic.py:469: ConvergenceWarning: lbfgs failed to converge (status=1):\n",
      "STOP: TOTAL NO. of ITERATIONS REACHED LIMIT.\n",
      "\n",
      "Increase the number of iterations (max_iter) or scale the data as shown in:\n",
      "    https://scikit-learn.org/stable/modules/preprocessing.html\n",
      "Please also refer to the documentation for alternative solver options:\n",
      "    https://scikit-learn.org/stable/modules/linear_model.html#logistic-regression\n",
      "  n_iter_i = _check_optimize_result(\n"
     ]
    },
    {
     "name": "stdout",
     "output_type": "stream",
     "text": [
      "Confusion Matrix:\n",
      "[[11664  2013]\n",
      " [27042 36137]]\n",
      "\n",
      "Total Cost: 27545.25\n",
      "                                 precision    recall  f1-score   support\n",
      "\n",
      "      Reported having MI or CHD       0.85      0.30      0.45     38706\n",
      "Did not report having MI or CHD       0.57      0.95      0.71     38150\n",
      "\n",
      "                       accuracy                           0.62     76856\n",
      "                      macro avg       0.71      0.62      0.58     76856\n",
      "                   weighted avg       0.71      0.62      0.58     76856\n",
      "\n"
     ]
    }
   ],
   "execution_count": 109
  },
  {
   "cell_type": "markdown",
   "metadata": {},
   "source": [
    "# ***Classification with NLP Methods***"
   ]
  },
  {
   "cell_type": "markdown",
   "metadata": {},
   "source": [
    "## Convert Original Data to Text Sequences"
   ]
  },
  {
   "cell_type": "markdown",
   "metadata": {},
   "source": [
    "### Sentences from Variable Values\n",
    "Create a small sentence from each variable value according to the 2021 SMART BRFSS Survey Codebook"
   ]
  },
  {
   "cell_type": "code",
   "metadata": {},
   "source": [
    "sequences = {\n",
    "    # Sec 1 Health Status\n",
    "    '_RFHLTH': {\n",
    "        1: \"i think my health is good or very good\",\n",
    "        2: \"i think my health is fair or poor\"\n",
    "    },\n",
    "\n",
    "    # Sec 2 Healthy Days\n",
    "    '_PHYS14D': {\n",
    "        1: \"my health has not been good for zero days\",\n",
    "        2: \"my health has not been good for 1-13 days\",\n",
    "        3: \"my health has not been good for 14 or more days\"\n",
    "    },\n",
    "\n",
    "    '_MENT14D': {\n",
    "        1: \"my mental health has not been good for zero days\",\n",
    "        2: \"my mental health has not been good for 1-13 days\",\n",
    "        3: \"my mental health has not been good for 14 or more days\"\n",
    "    },\n",
    "\n",
    "    # Sec 3 Health Care Access\n",
    "    '_HLTHPLN': {\n",
    "        1: \"i had some form of health insurance\",\n",
    "        2: \"i didn't have some form of health insurance\"\n",
    "    },\n",
    "\n",
    "    '_HCVU652': {\n",
    "        1: \"i have some form of health insurance\",\n",
    "        2: \"i don't have some form of health insurance\"\n",
    "    },\n",
    "\n",
    "    # Sec 4 Exercise\n",
    "    '_TOTINDA': {\n",
    "        1: \"i have exercised during the past 30 days\",\n",
    "        2: \"i haven't exercised during the past 30 days\"\n",
    "    },\n",
    "\n",
    "    # Sec 5 Hypertension Awareness\n",
    "    '_RFHYPE6': {\n",
    "        1: \"i haven't been told that my blood pressure is high\",\n",
    "        2: \"i have been told that my blood pressure is high\"\n",
    "    },\n",
    "\n",
    "    # Sec 6 Cholesterol Awareness\n",
    "    '_CHOLCH3': {\n",
    "        1: \"i have had my cholesterol checked within the past five years\",\n",
    "        2: \"i haven't had my cholesterol checked within the past five years\",\n",
    "        3: \"i have never had my cholesterol checked\"\n",
    "    },\n",
    "\n",
    "    '_RFCHOL3': {\n",
    "        1: \"i have checked my cholesterol and it's not high\",\n",
    "        2: \"i have checked my cholesterol and it's high\"\n",
    "    },\n",
    "\n",
    "    # Sec 7 Chronic Health Conditions\n",
    "    \n",
    "\n",
    "    # Sec 8 Arthritis\n",
    "    \n",
    "\n",
    "    # Sec 11 Tobacco Use\n",
    "    '_SMOKER3': {\n",
    "        1: \"i smoke every day\",\n",
    "        2: \"i smoke some days\",\n",
    "        3: \"i'm a former smoker\",\n",
    "        4: \"i've never smoked\"\n",
    "    },\n",
    "\n",
    "    # Sec 12 Alcohol Consumption\n",
    "    '_RFBING5': {\n",
    "        1: \"i didn't drink in the past 30 days, but if i did, i didn't drink five or more drinks on an occasion\",\n",
    "        2: \"i did drink in the past 30 days and had five or more drinks on one or more occasions in the past month\"\n",
    "    },\n",
    "\n",
    "    '_RFDRHV7': {\n",
    "        1: \"i'm not a heavy drinker\",\n",
    "        2: \"i'm a heavy drinker\"\n",
    "    },\n",
    "\n",
    "    # Sec 14 HIV/AIDS\n",
    "    '_AIDTST4': {\n",
    "        1: \"i have been tested for HIV\",\n",
    "        2: \"i haven't been tested for HIV\"\n",
    "    },\n",
    "\n",
    "    # Sec 15 Fruits & Vegetables\n",
    "    '_FRTLT1A': {\n",
    "        1: \"i eat fruits one or more times per day\",\n",
    "        2: \"i don't eat fruits one or more times per day\"\n",
    "    },\n",
    "\n",
    "    '_VEGLT1A': {\n",
    "        1: \"i eat vegetables one or more times per day\",\n",
    "        2: \"i don't eat vegetables one or more times per day\"\n",
    "    },\n",
    "    \n",
    "    # Sec 9 Demographics\n",
    "    '_INCOMG1': {\n",
    "        1: \"my inclome is less than 15,000\",\n",
    "        2: \"my income ranges from 15,000 to 25,000\",\n",
    "        3: \"my income ranges from 25,000 to 35,000\",\n",
    "        4: \"my income ranges from 35,000 to 50,000\",\n",
    "        5: \"my income ranges from 50,000 to 100,000\",\n",
    "        6: \"my income ranges from 100,000 to 200,000\",\n",
    "        7: \"my income ranges from 200,000 and higher\"\n",
    "    },\n",
    "\n",
    "    '_EDUCAG': {\n",
    "        1: \"i didn't graduate high school\",\n",
    "        2: \"i graduated high school\",\n",
    "        3: \"i attended college\",\n",
    "        4: \"i graduated from college\"\n",
    "    },\n",
    "\n",
    "    '_RFBMI5': {\n",
    "        1: \"my BMI is less than 25.00\",\n",
    "        2: \"my BMI is greater than 25.00\"\n",
    "    },\n",
    "\n",
    "    '_BMI5CAT': {\n",
    "        1: \"i am underweight\",\n",
    "        2: \"my weight is normal\",\n",
    "        3: \"i am overweight\",\n",
    "        4: \"i am obese\"\n",
    "    },\n",
    "\n",
    "    '_AGE_G': {\n",
    "        1: \"my age is 18 to 24\",\n",
    "        2: \"my age is 25 to 34\",\n",
    "        3: \"my age is 35 to 44\",\n",
    "        4: \"my age is 45 to 54\",\n",
    "        5: \"my age is 55 to 64\",\n",
    "        6: \"my age is 65 or older\",\n",
    "    },\n",
    "\n",
    "    '_SEX': {\n",
    "        1: \"i'm a male\",\n",
    "        2: \"i'm a female\"\n",
    "    },\n",
    "\n",
    "    '_RACE': {\n",
    "        1: \"i'm white\",\n",
    "        2: \"i'm black\",\n",
    "        3: \"i'm american indian or alaskan\",\n",
    "        4: \"i'm asian\",\n",
    "        5: \"i'm native hawaiian or other pacific islander\",\n",
    "        6: \"i belong to some other race\",\n",
    "        7: \"i'm multiracial\",\n",
    "        8: \"i'm hispanic\"\n",
    "    }\n",
    "}"
   ],
   "outputs": [],
   "execution_count": null
  },
  {
   "cell_type": "markdown",
   "metadata": {},
   "source": [
    "Target Variable: '_MICHD': {\n",
    "        1: \"i had MI or CHD\",\n",
    "        2: \"i haven't had MI or CHD\"\n",
    "    },"
   ]
  },
  {
   "cell_type": "markdown",
   "metadata": {},
   "source": [
    "### String Variable Values\n",
    "In the 2021 SMART BRFSS Codebook there are numerical values that correspond to string values, which represent a short description of the variable. The description of each variable value is used to create the small sentence. Here, we use the corresponding string values which might be the optimal and most practical choice of converting the numerical values to text. The reason why is obvious; we don't have to manually write small sentences for each variable value, we hust have to map each numerical value to its corresponding string value which already exists in the 2021 SMART Codebook."
   ]
  },
  {
   "cell_type": "code",
   "metadata": {},
   "source": [
    "string_var_values = {\n",
    "    # Sec 1 Health Status\n",
    "    '_RFHLTH': {\n",
    "        1: \"Good or Better Health\",\n",
    "        2: \"Fair or Poor Health\"\n",
    "    },\n",
    "\n",
    "    # Sec 2 Healthy Days\n",
    "    '_PHYS14D': {\n",
    "        1: \"Zero days when physical health not good\",\n",
    "        2: \"1-13 days when physical health not good\",\n",
    "        3: \"14+ days when physical health not good\"\n",
    "    },\n",
    "\n",
    "    '_MENT14D': {\n",
    "        1: \"Zero days when mental health not good\",\n",
    "        2: \"1-13 days when mental health not good\",\n",
    "        3: \"14+ days when mental health not good\"\n",
    "    },\n",
    "\n",
    "    # Sec 3 Health Care Access\n",
    "    '_HLTHPLN': {\n",
    "        1: \"Have some form of insurance\",\n",
    "        2: \"Do not have some form of health insurance\"\n",
    "    },\n",
    "\n",
    "    '_HCVU652': {\n",
    "        1: \"Have some form of health insurance\",\n",
    "        2: \"Do not have any form of health insurance\"\n",
    "    },\n",
    "\n",
    "    # Sec 4 Exercise\n",
    "    '_TOTINDA': {\n",
    "        1: \"Had physical activity or exercise\",\n",
    "        2: \"No physical activity or exercise in last 30 days\"\n",
    "    },\n",
    "\n",
    "    # Sec 5 Hypertension Awareness\n",
    "    '_RFHYPE6': {\n",
    "        1: \"_RFHYPE6-No\",\n",
    "        2: \"_RFHYPE6-Yes\"\n",
    "    },\n",
    "\n",
    "    # Sec 6 Cholesterol Awareness\n",
    "    '_CHOLCH3': {\n",
    "        1: \"Had cholesterol checked in past 5 years\",\n",
    "        2: \"Did not have cholesterol checked in past 5 years\",\n",
    "        3: \"Have never had cholesterol checked\"\n",
    "    },\n",
    "\n",
    "    '_RFCHOL3': {\n",
    "        1: \"_RFCHOL3-No\",\n",
    "        2: \"_RFCHOL3-Yes\"\n",
    "    },\n",
    "\n",
    "    # Sec 7 Chronic Health Conditions\n",
    "    \n",
    "\n",
    "    # Sec 8 Arthritis\n",
    "    \n",
    "\n",
    "    # Sec 11 Tobacco Use\n",
    "    '_SMOKER3': {\n",
    "        1: \"Current smoker-now smokes every day\",\n",
    "        2: \"Current smoker-now smokes some days\",\n",
    "        3: \"Former smoker\",\n",
    "        4: \"Never smoked\"\n",
    "    },\n",
    "\n",
    "    # Sec 12 Alcohol Consumption\n",
    "    '_RFBING5': {\n",
    "        1: \"_RFBING5-No\",\n",
    "        2: \"_RFBING5-Yes\"\n",
    "    },\n",
    "\n",
    "    '_RFDRHV7': {\n",
    "        1: \"_RFDRHV7-No\",\n",
    "        2: \"_RFDRHV7-Yes\"\n",
    "    },\n",
    "\n",
    "    # Sec 14 HIV/AIDS\n",
    "    '_AIDTST4': {\n",
    "        1: \"_AIDTST4-Yes\",\n",
    "        2: \"_AIDTST4-No\"\n",
    "    },\n",
    "\n",
    "    # Sec 15 Fruits & Vegetables\n",
    "    '_FRTLT1A': {\n",
    "        1: \"Consumed fruit one or more times per day\",\n",
    "        2: \"Consumed fruit less than one time per day\"\n",
    "    },\n",
    "\n",
    "    '_VEGLT1A': {\n",
    "        1: \"Consumed vegetables one or more times per day\",\n",
    "        2: \"Consumed vegetables less than one time per day\"\n",
    "    },\n",
    "    \n",
    "    # Sec 9 Demographics\n",
    "    '_INCOMG1': {\n",
    "        1: \"Less than $15,000\",\n",
    "        2: \"$15,000 to less than $25,000\",\n",
    "        3: \"$25,000 to less than $35,000\",\n",
    "        4: \"$35,000 to less than $50,000\",\n",
    "        5: \"$50,000 to less than $100,000\",\n",
    "        6: \"$100,000 to less than $200,000\",\n",
    "        7: \"$200,000 or more\"\n",
    "    },\n",
    "\n",
    "    '_EDUCAG': {\n",
    "        1: \"Did not graduate High School\",\n",
    "        2: \"Graduated High School\",\n",
    "        3: \"Attended College or Technical School\",\n",
    "        4: \"Graduated from College or Technical School\"\n",
    "    },\n",
    "\n",
    "    '_RFBMI5': {\n",
    "        1: \"_RFBMI5-No\",\n",
    "        2: \"_RFBMI5-Yes\"\n",
    "    },\n",
    "\n",
    "    '_BMI5CAT': {\n",
    "        1: \"Underweight\",\n",
    "        2: \"Normal Weight\",\n",
    "        3: \"Overweight\",\n",
    "        4: \"Obese\"\n",
    "    },\n",
    "\n",
    "    '_AGE_G': {\n",
    "        1: \"my age is 18 to 24\",\n",
    "        2: \"my age is 25 to 34\",\n",
    "        3: \"my age is 35 to 44\",\n",
    "        4: \"my age is 45 to 54\",\n",
    "        5: \"my age is 55 to 64\",\n",
    "        6: \"my age is 65 or older\",\n",
    "    },\n",
    "\n",
    "    '_SEX': {\n",
    "        1: \"Male\",\n",
    "        2: \"Female\"\n",
    "    },\n",
    "\n",
    "    '_RACE': {\n",
    "        1: \"White only, non-Hispanic\",\n",
    "        2: \"Black only, non-Hispanic\",\n",
    "        3: \"American Indian or Alaskan Native only, Non-Hispanic\",\n",
    "        4: \"Asian only, non-Hispanic\",\n",
    "        5: \"Native Hawaiian or other Pacific Islander only, Non-Hispanic\",\n",
    "        6: \"Other race only, non-Hispanic\",\n",
    "        7: \"Multiracial, non-Hispanic\",\n",
    "        8: \"Hispanic\"\n",
    "    }\n",
    "}"
   ],
   "outputs": [],
   "execution_count": null
  },
  {
   "cell_type": "markdown",
   "metadata": {},
   "source": [
    "Target Variable: '_MICHD': {\n",
    "        1: \"Reported having MI or CHD\",\n",
    "        2: \"Did not report having MI or CHD\"\n",
    "    },"
   ]
  },
  {
   "cell_type": "markdown",
   "metadata": {},
   "source": [
    "### New Text Dataset Creation\n",
    "We create text datasets based on the transformation of the numerical values to string/text values. Two datasets will be created:\n",
    "- Dataset A: This dataset will transform each variable value into a small sentence\n",
    "- Dataset B: This dataset will transform each variable value into its corresponding text value, according to the text values provided in \"2021 SMART BRFSS Survey Codebook\"."
   ]
  },
  {
   "cell_type": "markdown",
   "metadata": {},
   "source": [
    "The following algorithm implements the generation of text sequences from the original data."
   ]
  },
  {
   "cell_type": "code",
   "metadata": {},
   "source": [
    "# Create an empty list to store rows for the two datasets\n",
    "new_dataset_rows = [\n",
    "    [],\n",
    "    []\n",
    "]\n",
    "\n",
    "# Create an empty list to store the two datasets\n",
    "text_data = []\n",
    "\n",
    "# Iterate through each row in the original dataset\n",
    "for _, row in dataframe_sample.iterrows():\n",
    "    sentence_parts = [\n",
    "        [],  # To store parts of the sentence for each row for dataset A\n",
    "        []   # To store parts of the sentence for each row for dataset B\n",
    "    ]\n",
    "\n",
    "    # Iterate through each column in the original dataset\n",
    "    for column_name, value in row.items():\n",
    "        # Check if the current column is in the sequences dictionary. Both the sequences and the string_var_values dictionaries have the same keys.\n",
    "        if (column_name in sequences) and (value in sequences[column_name]):\n",
    "\n",
    "            # === Dataset A ===\n",
    "            # Get the description for the current value of the variable\n",
    "            description = sequences[column_name].get(value, '')\n",
    "            # Add a comma to the end of the description\n",
    "            description += ','\n",
    "            # Add the description to the sentence parts for dataset A\n",
    "            sentence_parts[0].append(description)\n",
    "\n",
    "            # === Dataset B ===\n",
    "            # Get the description for the current value of the variable\n",
    "            description = string_var_values[column_name].get(value, '')\n",
    "            # Add a comma to the end of the description\n",
    "            description += ','\n",
    "            # Add the description to the sentence parts for dataset B\n",
    "            sentence_parts[1].append(description)\n",
    "        \n",
    "        # Check if the current column is the target variable\n",
    "        elif column_name == '_MICHD':\n",
    "            # Add the target variable's value to the second column of both datasets\n",
    "            classification_value = value\n",
    "    \n",
    "    # === Dataset A ===\n",
    "    # Concatenate the sentence parts into a single sentence\n",
    "    sentence = ' '.join(sentence_parts[0])\n",
    "    \n",
    "    # Create a new row for dataset A\n",
    "    new_dataset_rows[0].append({'Sentence': sentence, 'Classification': classification_value})\n",
    "\n",
    "    # === Dataset B ===\n",
    "    # Concatenate the sentence parts into a single sentence \n",
    "    sentence = ' '.join(sentence_parts[1])\n",
    "    \n",
    "    # Create a new row for dataset B\n",
    "    new_dataset_rows[1].append({'Sentence': sentence, 'Classification': classification_value})\n",
    "\n",
    "# Create the new dataset from the list of rows\n",
    "text_data.append(pd.DataFrame(new_dataset_rows[0]))\n",
    "text_data.append(pd.DataFrame(new_dataset_rows[1]))\n",
    "\n",
    "# Display dataset A\n",
    "print(text_data[0])\n",
    "\n",
    "print()\n",
    "\n",
    "# Display dataset B\n",
    "print(text_data[1])"
   ],
   "outputs": [],
   "execution_count": null
  },
  {
   "cell_type": "code",
   "metadata": {
    "ExecuteTime": {
     "end_time": "2024-04-30T00:04:56.780433Z",
     "start_time": "2024-04-30T00:04:56.780433Z"
    }
   },
   "source": [
    "# Capitalize the \"i\" in the beginning of each sentence, remove the comma from the end fo the sentence and replace it with a period.\n",
    "text_data[0]['Sentence'] = text_data[0]['Sentence'].str.rstrip(',')  # Remove comma from the end\n",
    "text_data[0]['Sentence'] = text_data[0]['Sentence'].str.capitalize()  # Capitalize \"I\" at the beginning\n",
    "text_data[0]['Sentence'] = text_data[0]['Sentence'].str.replace(r'\\bi\\b', 'I')  # Capitalize standalone \"i\"\n",
    "text_data[0]['Sentence'] = text_data[0]['Sentence'] + '.'  # Replace comma with a period at the end"
   ],
   "outputs": [],
   "execution_count": null
  },
  {
   "cell_type": "code",
   "metadata": {},
   "source": [
    "print(text_data[0])"
   ],
   "outputs": [],
   "execution_count": null
  },
  {
   "cell_type": "code",
   "metadata": {},
   "source": [
    "text_data[1]['Sentence'] = text_data[1]['Sentence'].str.rstrip(',')  # Remove comma from the end"
   ],
   "outputs": [],
   "execution_count": null
  },
  {
   "cell_type": "code",
   "metadata": {
    "ExecuteTime": {
     "end_time": "2024-04-30T00:04:56.786431Z",
     "start_time": "2024-04-30T00:04:56.785431Z"
    }
   },
   "source": [
    "# Based on the value (custom sentence, string/text), convert the \"_MICHD\" target variable values to 1 and 0\n",
    "text_data['Classification'] = text_data['Classification'].map({'Yes': 1, 'No': 0})"
   ],
   "outputs": [],
   "execution_count": null
  },
  {
   "cell_type": "code",
   "metadata": {},
   "source": [
    "text_data[0]['Classification'].value_counts()"
   ],
   "outputs": [],
   "execution_count": null
  },
  {
   "cell_type": "code",
   "metadata": {},
   "source": [
    "text_data[1]['Classification'].value_counts()"
   ],
   "outputs": [],
   "execution_count": null
  },
  {
   "cell_type": "code",
   "metadata": {},
   "source": [
    "# Save the new sentence dataset. This dataset will be used for sequence classification tasks.\n",
    "text_data[1].to_excel(\"Text_Sequence_Dataset.xlsx\",  index=False)"
   ],
   "outputs": [],
   "execution_count": null
  },
  {
   "cell_type": "markdown",
   "metadata": {},
   "source": [
    "## Synthetic Text Generation"
   ]
  },
  {
   "cell_type": "markdown",
   "metadata": {},
   "source": [
    "## Classification using Multinomial Naive Bayes Classifiers"
   ]
  },
  {
   "cell_type": "code",
   "metadata": {},
   "source": [
    "# We can add the \"NOT_\" word infront of words that come after negation words\n",
    "def add_not_to_words(sentence):\n",
    "    words = sentence.split()\n",
    "    new_sentence = []\n",
    "\n",
    "    add_not = False\n",
    "\n",
    "    for word in words:\n",
    "        if add_not:\n",
    "            new_sentence.append(\"NOT_\" + word)\n",
    "            # Stop adding \"NOT_\" when a comma is encountered\n",
    "            if \",\" in word:\n",
    "                add_not = False\n",
    "        else:\n",
    "            new_sentence.append(word)\n",
    "\n",
    "        if word.lower() in ['not', \"didn't\", \"don't\", \"haven't\", \"never\"]:\n",
    "            add_not = True\n",
    "\n",
    "    return ' '.join(new_sentence)"
   ],
   "outputs": [],
   "execution_count": null
  },
  {
   "cell_type": "code",
   "metadata": {
    "ExecuteTime": {
     "end_time": "2024-04-30T00:04:56.813423Z",
     "start_time": "2024-04-30T00:04:56.812423Z"
    }
   },
   "source": [
    "negation_text_data = text_data[1].copy()"
   ],
   "outputs": [],
   "execution_count": null
  },
  {
   "cell_type": "code",
   "metadata": {
    "ExecuteTime": {
     "end_time": "2024-04-30T00:04:56.823420Z",
     "start_time": "2024-04-30T00:04:56.823420Z"
    }
   },
   "source": [
    "# Apply the function to every sentence in the DataFrame\n",
    "negation_text_data['Sentence'] = negation_text_data['Sentence'].apply(add_not_to_words)"
   ],
   "outputs": [],
   "execution_count": null
  },
  {
   "cell_type": "code",
   "metadata": {},
   "source": [
    "COST = [\n",
    "    [0, 5],\n",
    "    [0.25, 0]\n",
    "]"
   ],
   "outputs": [],
   "execution_count": null
  },
  {
   "cell_type": "markdown",
   "metadata": {},
   "source": [
    "### Multinomial NB\n"
   ]
  },
  {
   "cell_type": "code",
   "metadata": {},
   "source": [
    "# Split the dataset into training and testing sets\n",
    "x_train, x_test, y_train, y_test = train_test_split(negation_text_data['Sentence'], negation_text_data['Classification'], test_size=0.3, random_state=42, stratify=negation_text_data['Classification'])\n",
    "\n",
    "weights = np.zeros(y_train.shape[0])\n",
    "weights[np.where(y_train == 1)] = 1\n",
    "weights[np.where(y_train == 2)] = 0.25\n",
    "\n",
    "# Create a CountVectorizer to convert the text data into numerical features\n",
    "vectorizer = CountVectorizer()\n",
    "x_train_vectorized = vectorizer.fit_transform(x_train)\n",
    "x_test_vectorized = vectorizer.transform(x_test)\n",
    "\n",
    "# Train a Multinomial Naive Bayes classifier\n",
    "clf = MultinomialNB()\n",
    "clf.fit(x_train_vectorized, y_train, sample_weight=weights)\n",
    "\n",
    "# Make predictions on the test set\n",
    "y_pred = clf.predict(x_test_vectorized)\n",
    "\n",
    "\n",
    "# Calculate the confusion matrix\n",
    "conf_matrix = confusion_matrix(y_test, y_pred)\n",
    "print(f'Confusion Matrix: \\n{conf_matrix}\\n')\n",
    "\n",
    "# Calculate the total cost\n",
    "total_cost = np.sum(conf_matrix * COST)\n",
    "print(f'Total Cost: {total_cost}\\n')\n",
    "\n",
    "\n",
    "# Evaluate the performance\n",
    "classification_rep = classification_report(y_test, y_pred)\n",
    "\n",
    "# Display the results\n",
    "print('Classification Report:')\n",
    "print(classification_rep)"
   ],
   "outputs": [],
   "execution_count": null
  },
  {
   "cell_type": "markdown",
   "metadata": {},
   "source": [
    "### Multi-variate Bernoulli NB\n"
   ]
  },
  {
   "cell_type": "code",
   "metadata": {},
   "source": [
    "# Split the dataset into training and testing sets\n",
    "x_train, x_test, y_train, y_test = train_test_split(negation_text_data['Sentence'], negation_text_data['Classification'], test_size=0.25, random_state=42, stratify=negation_text_data['Classification'])\n",
    "\n",
    "weights = np.zeros(y_train.shape[0])\n",
    "weights[np.where(y_train == 1)] = 1\n",
    "weights[np.where(y_train == 2)] = 0.25\n",
    "\n",
    "# Create a CountVectorizer to convert the text data into numerical features\n",
    "vectorizer = CountVectorizer()\n",
    "x_train_vectorized = vectorizer.fit_transform(x_train)\n",
    "x_test_vectorized = vectorizer.transform(x_test)\n",
    "\n",
    "# Train a Multinomial Naive Bayes classifier\n",
    "clf = BernoulliNB()\n",
    "clf.fit(x_train_vectorized, y_train, sample_weight=weights)\n",
    "\n",
    "# Make predictions on the test set\n",
    "y_pred = clf.predict(x_test_vectorized)\n",
    "\n",
    "\n",
    "# Calculate the confusion matrix\n",
    "conf_matrix = confusion_matrix(y_test, y_pred)\n",
    "print(f'Confusion Matrix: \\n{conf_matrix}\\n')\n",
    "\n",
    "# Calculate the total cost\n",
    "total_cost = np.sum(conf_matrix * COST)\n",
    "print(f'Total Cost: {total_cost}\\n')\n",
    "\n",
    "\n",
    "# Evaluate the performance\n",
    "classification_rep = classification_report(y_test, y_pred)\n",
    "\n",
    "# Display the results\n",
    "print('Classification Report:')\n",
    "print(classification_rep)"
   ],
   "outputs": [],
   "execution_count": null
  },
  {
   "cell_type": "markdown",
   "metadata": {},
   "source": [
    "### Binary Multinomail NB"
   ]
  },
  {
   "cell_type": "code",
   "metadata": {},
   "source": [
    "# Split the dataset into training and testing sets\n",
    "x_train, x_test, y_train, y_test = train_test_split(negation_text_data['Sentence'], negation_text_data['Classification'], test_size=0.25, random_state=42, stratify=negation_text_data['Classification'])\n",
    "\n",
    "weights = np.zeros(y_train.shape[0])\n",
    "weights[np.where(y_train == 1)] = 5\n",
    "weights[np.where(y_train == 2)] = 0.25\n",
    "\n",
    "# Create a CountVectorizer to convert the text data into numerical features\n",
    "vectorizer = CountVectorizer()\n",
    "x_train_vectorized = vectorizer.fit_transform(x_train.apply(lambda x: ' '.join(set(x.split()))))\n",
    "x_test_vectorized = vectorizer.transform(x_test.apply(lambda x: ' '.join(set(x.split()))))\n",
    "\n",
    "# Train a Multinomial Naive Bayes classifier\n",
    "clf = MultinomialNB()\n",
    "clf.fit(x_train_vectorized, y_train, sample_weight=weights)\n",
    "\n",
    "# Make predictions on the test set\n",
    "y_pred = clf.predict(x_test_vectorized)\n",
    "\n",
    "\n",
    "# Calculate the confusion matrix\n",
    "conf_matrix = confusion_matrix(y_test, y_pred)\n",
    "print(f'Confusion Matrix: \\n{conf_matrix}\\n')\n",
    "\n",
    "# Calculate the total cost\n",
    "total_cost = np.sum(conf_matrix * COST)\n",
    "print(f'Total Cost: {total_cost}\\n')\n",
    "\n",
    "\n",
    "# Evaluate the performance\n",
    "classification_rep = classification_report(y_test, y_pred)\n",
    "\n",
    "# Display the results\n",
    "print('Classification Report:')\n",
    "print(classification_rep)"
   ],
   "outputs": [],
   "execution_count": null
  }
 ],
 "metadata": {
  "kernelspec": {
   "display_name": "CDC-BRFSS",
   "language": "python",
   "name": "python3"
  },
  "language_info": {
   "codemirror_mode": {
    "name": "ipython",
    "version": 3
   },
   "file_extension": ".py",
   "mimetype": "text/x-python",
   "name": "python",
   "nbconvert_exporter": "python",
   "pygments_lexer": "ipython3",
   "version": "3.10.12"
  }
 },
 "nbformat": 4,
 "nbformat_minor": 2
}
