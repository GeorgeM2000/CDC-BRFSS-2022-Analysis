{
 "cells": [
  {
   "cell_type": "code",
<<<<<<< HEAD
   "execution_count": 1,
   "metadata": {},
   "outputs": [
    {
     "name": "stderr",
     "output_type": "stream",
     "text": [
      "/home/georgematlis/AUTH/DWS/ADVANCED_TOPICS_IN_MACHINE_LEARNING/CDC-BRFSS/lib/python3.10/site-packages/tqdm/auto.py:21: TqdmWarning: IProgress not found. Please update jupyter and ipywidgets. See https://ipywidgets.readthedocs.io/en/stable/user_install.html\n",
      "  from .autonotebook import tqdm as notebook_tqdm\n"
     ]
    }
   ],
=======
   "metadata": {
    "ExecuteTime": {
     "end_time": "2024-04-29T12:44:14.601596Z",
     "start_time": "2024-04-29T12:44:12.681514Z"
    }
   },
>>>>>>> origin/main
   "source": [
    "import pandas as pd\n",
    "import numpy as np\n",
    "import matplotlib.pyplot as plt\n",
    "import seaborn as sns\n",
    "from scipy.stats import randint, uniform, chi2_contingency\n",
    "\n",
    "\n",
    "import time\n",
    "import json\n",
    "import math\n",
    "import re\n",
    "\n",
    "# NLP tools\n",
    "import nltk\n",
    "from wordcloud import WordCloud\n",
    "from nltk.tokenize import word_tokenize\n",
    "\n",
    "# Scikit-Learn\n",
    "from sklearn.svm import SVC\n",
    "from sklearn.tree import DecisionTreeClassifier, export_graphviz, plot_tree\n",
    "from sklearn.neighbors import KNeighborsClassifier\n",
    "from sklearn.model_selection import train_test_split, RandomizedSearchCV, GridSearchCV, StratifiedShuffleSplit\n",
    "from sklearn.metrics import accuracy_score, confusion_matrix, make_scorer, classification_report, RocCurveDisplay, f1_score\n",
    "from sklearn.ensemble import RandomForestClassifier, AdaBoostClassifier, BaggingClassifier\n",
    "from sklearn.preprocessing import LabelEncoder, OneHotEncoder\n",
    "from sklearn.naive_bayes import GaussianNB, MultinomialNB, BernoulliNB\n",
    "from sklearn.feature_extraction.text import CountVectorizer, TfidfVectorizer\n",
    "from sklearn.calibration import CalibratedClassifierCV, calibration_curve\n",
    "from sklearn.pipeline import Pipeline\n",
    "from sklearn import tree\n",
    "\n",
    "# Imbalanced learn library\n",
    "from imblearn.over_sampling import SMOTE, RandomOverSampler, SMOTEN, SMOTENC, BorderlineSMOTE\n",
    "from imblearn.under_sampling import RandomUnderSampler\n",
    "\n",
    "# Boosting ensemble methods\n",
    "from xgboost import XGBClassifier\n",
    "from catboost import CatBoostClassifier\n",
    "\n",
    "\n",
    "from itertools import product\n",
    "from IPython.display import Image\n",
    "import pydotplus\n",
    "import graphviz\n",
    "import shap\n",
    "\n",
    "SEED = 42"
   ]
  },
  {
   "cell_type": "code",
   "execution_count": 40,
   "metadata": {},
   "outputs": [
    {
     "name": "stderr",
     "output_type": "stream",
     "text": [
      "[nltk_data] Downloading package punkt to /home/georgematlis/AUTH/DWS/A\n",
      "[nltk_data]     DVANCED_TOPICS_IN_MACHINE_LEARNING/CDC-\n",
      "[nltk_data]     BRFSS/Downloaded_Files...\n",
      "[nltk_data]   Unzipping tokenizers/punkt.zip.\n"
     ]
    },
    {
     "data": {
      "text/plain": [
       "True"
      ]
     },
     "execution_count": 40,
     "metadata": {},
     "output_type": "execute_result"
    }
   ],
   "source": [
    "# Download punkt package for wordcloud\n",
    "nltk.download('punkt', download_dir='/home/georgematlis/AUTH/DWS/ADVANCED_TOPICS_IN_MACHINE_LEARNING/CDC-BRFSS/Downloaded_Files')"
   ]
  },
  {
   "cell_type": "code",
   "execution_count": 2,
   "metadata": {},
   "outputs": [],
<<<<<<< HEAD
   "source": [
    "# Specify the path to the tokenizers\n",
    "nltk.data.path.append(\"/home/georgematlis/AUTH/DWS/ADVANCED_TOPICS_IN_MACHINE_LEARNING/CDC-BRFSS/Downloaded_Files\")"
   ]
=======
   "execution_count": 1
>>>>>>> origin/main
  },
  {
   "cell_type": "markdown",
   "metadata": {},
   "source": [
    "# ***Data Overview and Exploration***"
   ]
  },
  {
   "cell_type": "markdown",
   "metadata": {},
   "source": [
    "## Data Overview"
   ]
  },
  {
   "cell_type": "code",
<<<<<<< HEAD
   "execution_count": 3,
   "metadata": {},
   "outputs": [],
   "source": [
    "data = pd.read_csv('MMSA_2021.csv')"
   ]
  },
  {
   "cell_type": "code",
   "execution_count": 3,
   "metadata": {},
   "outputs": [
    {
     "name": "stdout",
     "output_type": "stream",
     "text": [
      "<class 'pandas.core.frame.DataFrame'>\n",
      "RangeIndex: 227792 entries, 0 to 227791\n",
      "Columns: 152 entries, DISPCODE to MMSANAME\n",
      "dtypes: float64(151), object(1)\n",
      "memory usage: 264.2+ MB\n"
     ]
    }
   ],
   "source": [
    "data.info()"
   ]
  },
  {
   "cell_type": "code",
   "execution_count": 4,
   "metadata": {},
   "outputs": [
    {
     "data": {
      "text/html": [
       "<div>\n",
       "<style scoped>\n",
       "    .dataframe tbody tr th:only-of-type {\n",
       "        vertical-align: middle;\n",
       "    }\n",
       "\n",
       "    .dataframe tbody tr th {\n",
       "        vertical-align: top;\n",
       "    }\n",
       "\n",
       "    .dataframe thead th {\n",
       "        text-align: right;\n",
       "    }\n",
       "</style>\n",
       "<table border=\"1\" class=\"dataframe\">\n",
       "  <thead>\n",
       "    <tr style=\"text-align: right;\">\n",
       "      <th></th>\n",
       "      <th>DISPCODE</th>\n",
       "      <th>STATERE1</th>\n",
       "      <th>CELPHON1</th>\n",
       "      <th>LADULT1</th>\n",
       "      <th>COLGSEX</th>\n",
       "      <th>LANDSEX</th>\n",
       "      <th>RESPSLCT</th>\n",
       "      <th>SAFETIME</th>\n",
       "      <th>CADULT1</th>\n",
       "      <th>CELLSEX</th>\n",
       "      <th>...</th>\n",
       "      <th>_FRTLT1A</th>\n",
       "      <th>_VEGLT1A</th>\n",
       "      <th>_FRT16A</th>\n",
       "      <th>_VEG23A</th>\n",
       "      <th>_FRUITE1</th>\n",
       "      <th>_VEGETE1</th>\n",
       "      <th>_MMSA</th>\n",
       "      <th>_MMSAWT</th>\n",
       "      <th>SEQNO</th>\n",
       "      <th>MMSANAME</th>\n",
       "    </tr>\n",
       "  </thead>\n",
       "  <tbody>\n",
       "    <tr>\n",
       "      <th>0</th>\n",
       "      <td>1200.0</td>\n",
       "      <td>NaN</td>\n",
       "      <td>NaN</td>\n",
       "      <td>NaN</td>\n",
       "      <td>NaN</td>\n",
       "      <td>NaN</td>\n",
       "      <td>NaN</td>\n",
       "      <td>1.0</td>\n",
       "      <td>1.0</td>\n",
       "      <td>1.0</td>\n",
       "      <td>...</td>\n",
       "      <td>2.0</td>\n",
       "      <td>1.0</td>\n",
       "      <td>1.0</td>\n",
       "      <td>1.0</td>\n",
       "      <td>5.397605e-79</td>\n",
       "      <td>5.397605e-79</td>\n",
       "      <td>10100.0</td>\n",
       "      <td>90.030265</td>\n",
       "      <td>2.021000e+09</td>\n",
       "      <td>b'Aberdeen, SD, Micropolitan Statistical Area'</td>\n",
       "    </tr>\n",
       "    <tr>\n",
       "      <th>1</th>\n",
       "      <td>1200.0</td>\n",
       "      <td>NaN</td>\n",
       "      <td>NaN</td>\n",
       "      <td>NaN</td>\n",
       "      <td>NaN</td>\n",
       "      <td>NaN</td>\n",
       "      <td>NaN</td>\n",
       "      <td>1.0</td>\n",
       "      <td>1.0</td>\n",
       "      <td>1.0</td>\n",
       "      <td>...</td>\n",
       "      <td>2.0</td>\n",
       "      <td>1.0</td>\n",
       "      <td>1.0</td>\n",
       "      <td>1.0</td>\n",
       "      <td>5.397605e-79</td>\n",
       "      <td>5.397605e-79</td>\n",
       "      <td>10100.0</td>\n",
       "      <td>29.643176</td>\n",
       "      <td>2.021000e+09</td>\n",
       "      <td>b'Aberdeen, SD, Micropolitan Statistical Area'</td>\n",
       "    </tr>\n",
       "    <tr>\n",
       "      <th>2</th>\n",
       "      <td>1200.0</td>\n",
       "      <td>NaN</td>\n",
       "      <td>NaN</td>\n",
       "      <td>NaN</td>\n",
       "      <td>NaN</td>\n",
       "      <td>NaN</td>\n",
       "      <td>NaN</td>\n",
       "      <td>1.0</td>\n",
       "      <td>1.0</td>\n",
       "      <td>2.0</td>\n",
       "      <td>...</td>\n",
       "      <td>1.0</td>\n",
       "      <td>1.0</td>\n",
       "      <td>1.0</td>\n",
       "      <td>1.0</td>\n",
       "      <td>5.397605e-79</td>\n",
       "      <td>5.397605e-79</td>\n",
       "      <td>10100.0</td>\n",
       "      <td>37.000680</td>\n",
       "      <td>2.021000e+09</td>\n",
       "      <td>b'Aberdeen, SD, Micropolitan Statistical Area'</td>\n",
       "    </tr>\n",
       "    <tr>\n",
       "      <th>3</th>\n",
       "      <td>1200.0</td>\n",
       "      <td>NaN</td>\n",
       "      <td>NaN</td>\n",
       "      <td>NaN</td>\n",
       "      <td>NaN</td>\n",
       "      <td>NaN</td>\n",
       "      <td>NaN</td>\n",
       "      <td>1.0</td>\n",
       "      <td>1.0</td>\n",
       "      <td>1.0</td>\n",
       "      <td>...</td>\n",
       "      <td>1.0</td>\n",
       "      <td>1.0</td>\n",
       "      <td>1.0</td>\n",
       "      <td>1.0</td>\n",
       "      <td>5.397605e-79</td>\n",
       "      <td>5.397605e-79</td>\n",
       "      <td>10100.0</td>\n",
       "      <td>49.702755</td>\n",
       "      <td>2.021000e+09</td>\n",
       "      <td>b'Aberdeen, SD, Micropolitan Statistical Area'</td>\n",
       "    </tr>\n",
       "    <tr>\n",
       "      <th>4</th>\n",
       "      <td>1200.0</td>\n",
       "      <td>NaN</td>\n",
       "      <td>NaN</td>\n",
       "      <td>NaN</td>\n",
       "      <td>NaN</td>\n",
       "      <td>NaN</td>\n",
       "      <td>NaN</td>\n",
       "      <td>1.0</td>\n",
       "      <td>1.0</td>\n",
       "      <td>2.0</td>\n",
       "      <td>...</td>\n",
       "      <td>1.0</td>\n",
       "      <td>1.0</td>\n",
       "      <td>1.0</td>\n",
       "      <td>1.0</td>\n",
       "      <td>5.397605e-79</td>\n",
       "      <td>5.397605e-79</td>\n",
       "      <td>10100.0</td>\n",
       "      <td>15.396983</td>\n",
       "      <td>2.021000e+09</td>\n",
       "      <td>b'Aberdeen, SD, Micropolitan Statistical Area'</td>\n",
       "    </tr>\n",
       "  </tbody>\n",
       "</table>\n",
       "<p>5 rows × 152 columns</p>\n",
       "</div>"
      ],
      "text/plain": [
       "   DISPCODE  STATERE1  CELPHON1  LADULT1  COLGSEX  LANDSEX  RESPSLCT  \\\n",
       "0    1200.0       NaN       NaN      NaN      NaN      NaN       NaN   \n",
       "1    1200.0       NaN       NaN      NaN      NaN      NaN       NaN   \n",
       "2    1200.0       NaN       NaN      NaN      NaN      NaN       NaN   \n",
       "3    1200.0       NaN       NaN      NaN      NaN      NaN       NaN   \n",
       "4    1200.0       NaN       NaN      NaN      NaN      NaN       NaN   \n",
       "\n",
       "   SAFETIME  CADULT1  CELLSEX  ...  _FRTLT1A  _VEGLT1A  _FRT16A  _VEG23A  \\\n",
       "0       1.0      1.0      1.0  ...       2.0       1.0      1.0      1.0   \n",
       "1       1.0      1.0      1.0  ...       2.0       1.0      1.0      1.0   \n",
       "2       1.0      1.0      2.0  ...       1.0       1.0      1.0      1.0   \n",
       "3       1.0      1.0      1.0  ...       1.0       1.0      1.0      1.0   \n",
       "4       1.0      1.0      2.0  ...       1.0       1.0      1.0      1.0   \n",
       "\n",
       "       _FRUITE1      _VEGETE1    _MMSA    _MMSAWT         SEQNO  \\\n",
       "0  5.397605e-79  5.397605e-79  10100.0  90.030265  2.021000e+09   \n",
       "1  5.397605e-79  5.397605e-79  10100.0  29.643176  2.021000e+09   \n",
       "2  5.397605e-79  5.397605e-79  10100.0  37.000680  2.021000e+09   \n",
       "3  5.397605e-79  5.397605e-79  10100.0  49.702755  2.021000e+09   \n",
       "4  5.397605e-79  5.397605e-79  10100.0  15.396983  2.021000e+09   \n",
       "\n",
       "                                         MMSANAME  \n",
       "0  b'Aberdeen, SD, Micropolitan Statistical Area'  \n",
       "1  b'Aberdeen, SD, Micropolitan Statistical Area'  \n",
       "2  b'Aberdeen, SD, Micropolitan Statistical Area'  \n",
       "3  b'Aberdeen, SD, Micropolitan Statistical Area'  \n",
       "4  b'Aberdeen, SD, Micropolitan Statistical Area'  \n",
       "\n",
       "[5 rows x 152 columns]"
      ]
     },
     "execution_count": 4,
     "metadata": {},
     "output_type": "execute_result"
    }
   ],
   "source": [
    "data.head()"
   ]
  },
  {
   "cell_type": "code",
   "execution_count": null,
   "metadata": {},
   "outputs": [],
=======
   "metadata": {
    "ExecuteTime": {
     "end_time": "2024-04-29T12:44:22.999919Z",
     "start_time": "2024-04-29T12:44:14.602592Z"
    }
   },
   "source": [
    "data = pd.read_csv('MMSA_2021.csv')"
   ],
   "outputs": [],
   "execution_count": 2
  },
  {
   "cell_type": "code",
   "metadata": {
    "ExecuteTime": {
     "end_time": "2024-04-29T12:44:23.030966Z",
     "start_time": "2024-04-29T12:44:23.005917Z"
    }
   },
   "source": [
    "data.info()"
   ],
   "outputs": [
    {
     "name": "stdout",
     "output_type": "stream",
     "text": [
      "<class 'pandas.core.frame.DataFrame'>\n",
      "RangeIndex: 227792 entries, 0 to 227791\n",
      "Columns: 152 entries, DISPCODE to MMSANAME\n",
      "dtypes: float64(151), object(1)\n",
      "memory usage: 264.2+ MB\n"
     ]
    }
   ],
   "execution_count": 3
  },
  {
   "cell_type": "code",
   "metadata": {
    "ExecuteTime": {
     "end_time": "2024-04-29T12:44:23.103942Z",
     "start_time": "2024-04-29T12:44:23.035961Z"
    }
   },
   "source": [
    "data.head()"
   ],
   "outputs": [
    {
     "data": {
      "text/plain": [
       "   DISPCODE  STATERE1  CELPHON1  LADULT1  COLGSEX  LANDSEX  RESPSLCT  \\\n",
       "0    1200.0       NaN       NaN      NaN      NaN      NaN       NaN   \n",
       "1    1200.0       NaN       NaN      NaN      NaN      NaN       NaN   \n",
       "2    1200.0       NaN       NaN      NaN      NaN      NaN       NaN   \n",
       "3    1200.0       NaN       NaN      NaN      NaN      NaN       NaN   \n",
       "4    1200.0       NaN       NaN      NaN      NaN      NaN       NaN   \n",
       "\n",
       "   SAFETIME  CADULT1  CELLSEX  ...  _FRTLT1A  _VEGLT1A  _FRT16A  _VEG23A  \\\n",
       "0       1.0      1.0      1.0  ...       2.0       1.0      1.0      1.0   \n",
       "1       1.0      1.0      1.0  ...       2.0       1.0      1.0      1.0   \n",
       "2       1.0      1.0      2.0  ...       1.0       1.0      1.0      1.0   \n",
       "3       1.0      1.0      1.0  ...       1.0       1.0      1.0      1.0   \n",
       "4       1.0      1.0      2.0  ...       1.0       1.0      1.0      1.0   \n",
       "\n",
       "       _FRUITE1      _VEGETE1    _MMSA    _MMSAWT         SEQNO  \\\n",
       "0  5.397605e-79  5.397605e-79  10100.0  90.030265  2.021000e+09   \n",
       "1  5.397605e-79  5.397605e-79  10100.0  29.643176  2.021000e+09   \n",
       "2  5.397605e-79  5.397605e-79  10100.0  37.000680  2.021000e+09   \n",
       "3  5.397605e-79  5.397605e-79  10100.0  49.702755  2.021000e+09   \n",
       "4  5.397605e-79  5.397605e-79  10100.0  15.396983  2.021000e+09   \n",
       "\n",
       "                                         MMSANAME  \n",
       "0  b'Aberdeen, SD, Micropolitan Statistical Area'  \n",
       "1  b'Aberdeen, SD, Micropolitan Statistical Area'  \n",
       "2  b'Aberdeen, SD, Micropolitan Statistical Area'  \n",
       "3  b'Aberdeen, SD, Micropolitan Statistical Area'  \n",
       "4  b'Aberdeen, SD, Micropolitan Statistical Area'  \n",
       "\n",
       "[5 rows x 152 columns]"
      ],
      "text/html": [
       "<div>\n",
       "<style scoped>\n",
       "    .dataframe tbody tr th:only-of-type {\n",
       "        vertical-align: middle;\n",
       "    }\n",
       "\n",
       "    .dataframe tbody tr th {\n",
       "        vertical-align: top;\n",
       "    }\n",
       "\n",
       "    .dataframe thead th {\n",
       "        text-align: right;\n",
       "    }\n",
       "</style>\n",
       "<table border=\"1\" class=\"dataframe\">\n",
       "  <thead>\n",
       "    <tr style=\"text-align: right;\">\n",
       "      <th></th>\n",
       "      <th>DISPCODE</th>\n",
       "      <th>STATERE1</th>\n",
       "      <th>CELPHON1</th>\n",
       "      <th>LADULT1</th>\n",
       "      <th>COLGSEX</th>\n",
       "      <th>LANDSEX</th>\n",
       "      <th>RESPSLCT</th>\n",
       "      <th>SAFETIME</th>\n",
       "      <th>CADULT1</th>\n",
       "      <th>CELLSEX</th>\n",
       "      <th>...</th>\n",
       "      <th>_FRTLT1A</th>\n",
       "      <th>_VEGLT1A</th>\n",
       "      <th>_FRT16A</th>\n",
       "      <th>_VEG23A</th>\n",
       "      <th>_FRUITE1</th>\n",
       "      <th>_VEGETE1</th>\n",
       "      <th>_MMSA</th>\n",
       "      <th>_MMSAWT</th>\n",
       "      <th>SEQNO</th>\n",
       "      <th>MMSANAME</th>\n",
       "    </tr>\n",
       "  </thead>\n",
       "  <tbody>\n",
       "    <tr>\n",
       "      <th>0</th>\n",
       "      <td>1200.0</td>\n",
       "      <td>NaN</td>\n",
       "      <td>NaN</td>\n",
       "      <td>NaN</td>\n",
       "      <td>NaN</td>\n",
       "      <td>NaN</td>\n",
       "      <td>NaN</td>\n",
       "      <td>1.0</td>\n",
       "      <td>1.0</td>\n",
       "      <td>1.0</td>\n",
       "      <td>...</td>\n",
       "      <td>2.0</td>\n",
       "      <td>1.0</td>\n",
       "      <td>1.0</td>\n",
       "      <td>1.0</td>\n",
       "      <td>5.397605e-79</td>\n",
       "      <td>5.397605e-79</td>\n",
       "      <td>10100.0</td>\n",
       "      <td>90.030265</td>\n",
       "      <td>2.021000e+09</td>\n",
       "      <td>b'Aberdeen, SD, Micropolitan Statistical Area'</td>\n",
       "    </tr>\n",
       "    <tr>\n",
       "      <th>1</th>\n",
       "      <td>1200.0</td>\n",
       "      <td>NaN</td>\n",
       "      <td>NaN</td>\n",
       "      <td>NaN</td>\n",
       "      <td>NaN</td>\n",
       "      <td>NaN</td>\n",
       "      <td>NaN</td>\n",
       "      <td>1.0</td>\n",
       "      <td>1.0</td>\n",
       "      <td>1.0</td>\n",
       "      <td>...</td>\n",
       "      <td>2.0</td>\n",
       "      <td>1.0</td>\n",
       "      <td>1.0</td>\n",
       "      <td>1.0</td>\n",
       "      <td>5.397605e-79</td>\n",
       "      <td>5.397605e-79</td>\n",
       "      <td>10100.0</td>\n",
       "      <td>29.643176</td>\n",
       "      <td>2.021000e+09</td>\n",
       "      <td>b'Aberdeen, SD, Micropolitan Statistical Area'</td>\n",
       "    </tr>\n",
       "    <tr>\n",
       "      <th>2</th>\n",
       "      <td>1200.0</td>\n",
       "      <td>NaN</td>\n",
       "      <td>NaN</td>\n",
       "      <td>NaN</td>\n",
       "      <td>NaN</td>\n",
       "      <td>NaN</td>\n",
       "      <td>NaN</td>\n",
       "      <td>1.0</td>\n",
       "      <td>1.0</td>\n",
       "      <td>2.0</td>\n",
       "      <td>...</td>\n",
       "      <td>1.0</td>\n",
       "      <td>1.0</td>\n",
       "      <td>1.0</td>\n",
       "      <td>1.0</td>\n",
       "      <td>5.397605e-79</td>\n",
       "      <td>5.397605e-79</td>\n",
       "      <td>10100.0</td>\n",
       "      <td>37.000680</td>\n",
       "      <td>2.021000e+09</td>\n",
       "      <td>b'Aberdeen, SD, Micropolitan Statistical Area'</td>\n",
       "    </tr>\n",
       "    <tr>\n",
       "      <th>3</th>\n",
       "      <td>1200.0</td>\n",
       "      <td>NaN</td>\n",
       "      <td>NaN</td>\n",
       "      <td>NaN</td>\n",
       "      <td>NaN</td>\n",
       "      <td>NaN</td>\n",
       "      <td>NaN</td>\n",
       "      <td>1.0</td>\n",
       "      <td>1.0</td>\n",
       "      <td>1.0</td>\n",
       "      <td>...</td>\n",
       "      <td>1.0</td>\n",
       "      <td>1.0</td>\n",
       "      <td>1.0</td>\n",
       "      <td>1.0</td>\n",
       "      <td>5.397605e-79</td>\n",
       "      <td>5.397605e-79</td>\n",
       "      <td>10100.0</td>\n",
       "      <td>49.702755</td>\n",
       "      <td>2.021000e+09</td>\n",
       "      <td>b'Aberdeen, SD, Micropolitan Statistical Area'</td>\n",
       "    </tr>\n",
       "    <tr>\n",
       "      <th>4</th>\n",
       "      <td>1200.0</td>\n",
       "      <td>NaN</td>\n",
       "      <td>NaN</td>\n",
       "      <td>NaN</td>\n",
       "      <td>NaN</td>\n",
       "      <td>NaN</td>\n",
       "      <td>NaN</td>\n",
       "      <td>1.0</td>\n",
       "      <td>1.0</td>\n",
       "      <td>2.0</td>\n",
       "      <td>...</td>\n",
       "      <td>1.0</td>\n",
       "      <td>1.0</td>\n",
       "      <td>1.0</td>\n",
       "      <td>1.0</td>\n",
       "      <td>5.397605e-79</td>\n",
       "      <td>5.397605e-79</td>\n",
       "      <td>10100.0</td>\n",
       "      <td>15.396983</td>\n",
       "      <td>2.021000e+09</td>\n",
       "      <td>b'Aberdeen, SD, Micropolitan Statistical Area'</td>\n",
       "    </tr>\n",
       "  </tbody>\n",
       "</table>\n",
       "<p>5 rows × 152 columns</p>\n",
       "</div>"
      ]
     },
     "execution_count": 4,
     "metadata": {},
     "output_type": "execute_result"
    }
   ],
   "execution_count": 4
  },
  {
   "cell_type": "code",
   "metadata": {
    "ExecuteTime": {
     "end_time": "2024-04-29T12:44:23.293558Z",
     "start_time": "2024-04-29T12:44:23.107938Z"
    }
   },
>>>>>>> origin/main
   "source": [
    "# Some columns have many null values\n",
    "isna_data = data.isna().sum()\n",
    "for column, count in isna_data.items():\n",
    "    print(f\"{column}: {count}\")"
<<<<<<< HEAD
   ]
  },
  {
   "cell_type": "code",
   "execution_count": null,
   "metadata": {},
   "outputs": [],
   "source": [
    "# If we were to drop all null values, the data would have no records left\n",
    "data.dropna().shape"
   ]
=======
   ],
   "outputs": [
    {
     "name": "stdout",
     "output_type": "stream",
     "text": [
      "DISPCODE: 0\n",
      "STATERE1: 172268\n",
      "CELPHON1: 172268\n",
      "LADULT1: 172268\n",
      "COLGSEX: 227774\n",
      "LANDSEX: 204447\n",
      "RESPSLCT: 196968\n",
      "SAFETIME: 55524\n",
      "CADULT1: 55524\n",
      "CELLSEX: 55525\n",
      "HHADULT: 55525\n",
      "SEXVAR: 0\n",
      "GENHLTH: 2\n",
      "PHYSHLTH: 2\n",
      "MENTHLTH: 0\n",
      "POORHLTH: 104941\n",
      "PRIMINSR: 1\n",
      "PERSDOC3: 0\n",
      "MEDCOST1: 1\n",
      "CHECKUP1: 0\n",
      "EXERANY2: 0\n",
      "BPHIGH6: 0\n",
      "BPMEDS: 143010\n",
      "CHOLCHK3: 0\n",
      "TOLDHI3: 29849\n",
      "CHOLMED3: 30130\n",
      "CVDINFR4: 0\n",
      "CVDCRHD4: 0\n",
      "CVDSTRK3: 0\n",
      "ASTHMA3: 0\n",
      "ASTHNOW: 195581\n",
      "CHCSCNCR: 0\n",
      "CHCOCNCR: 0\n",
      "CHCCOPD3: 0\n",
      "ADDEPEV3: 0\n",
      "CHCKDNY2: 0\n",
      "DIABETE4: 0\n",
      "DIABAGE3: 199821\n",
      "HAVARTH5: 0\n",
      "ARTHEXER: 158813\n",
      "ARTHEDU: 158813\n",
      "LMTJOIN3: 158813\n",
      "ARTHDIS2: 158813\n",
      "JOINPAI2: 158813\n",
      "MARITAL: 1\n",
      "EDUCA: 0\n",
      "RENTHOM1: 1\n",
      "NUMHHOL3: 172269\n",
      "NUMPHON3: 211707\n",
      "CPDEMO1B: 170\n",
      "VETERAN3: 949\n",
      "EMPLOY1: 2047\n",
      "CHILDREN: 3540\n",
      "INCOME3: 5154\n",
      "PREGNANT: 182883\n",
      "WEIGHT2: 6747\n",
      "HEIGHT3: 7408\n",
      "DEAF: 8316\n",
      "BLIND: 8973\n",
      "DECIDE: 9547\n",
      "DIFFWALK: 10201\n",
      "DIFFDRES: 10646\n",
      "DIFFALON: 11222\n",
      "SMOKE100: 12001\n",
      "SMOKDAY2: 145458\n",
      "USENOW3: 12408\n",
      "ECIGNOW1: 13013\n",
      "ALCDAY5: 13868\n",
      "AVEDRNK3: 113057\n",
      "DRNK3GE5: 113425\n",
      "MAXDRNKS: 113755\n",
      "FLUSHOT7: 15649\n",
      "FLSHTMY3: 115386\n",
      "IMFVPLA2: 117527\n",
      "PNEUVAC4: 16477\n",
      "HIVTST7: 17092\n",
      "HIVTSTD3: 155405\n",
      "FRUIT2: 19309\n",
      "FRUITJU2: 20191\n",
      "FVGREEN1: 20850\n",
      "FRENCHF1: 21453\n",
      "POTATOE1: 22080\n",
      "VEGETAB2: 22778\n",
      "_STSTR: 0\n",
      "_IMPSEX: 0\n",
      "CAGEG: 201128\n",
      "_RFHLTH: 0\n",
      "_PHYS14D: 0\n",
      "_MENT14D: 0\n",
      "_HLTHPLN: 0\n",
      "_HCVU652: 0\n",
      "_TOTINDA: 0\n",
      "_RFHYPE6: 0\n",
      "_CHOLCH3: 0\n",
      "_RFCHOL3: 29981\n",
      "_MICHD: 2308\n",
      "_LTASTH1: 0\n",
      "_CASTHM1: 0\n",
      "_ASTHMS1: 0\n",
      "_DRDXAR3: 1480\n",
      "_LMTACT3: 1480\n",
      "_LMTWRK3: 1480\n",
      "_PRACE1: 0\n",
      "_MRACE1: 0\n",
      "_HISPANC: 0\n",
      "_RACE: 0\n",
      "_RACEG21: 0\n",
      "_RACEGR3: 0\n",
      "_RACEPRV: 0\n",
      "_SEX: 0\n",
      "_AGEG5YR: 0\n",
      "_AGE65YR: 0\n",
      "_AGE80: 0\n",
      "_AGE_G: 0\n",
      "WTKG3: 22711\n",
      "_BMI5: 26341\n",
      "_BMI5CAT: 26341\n",
      "_RFBMI5: 0\n",
      "_EDUCAG: 0\n",
      "_INCOMG1: 0\n",
      "_SMOKER3: 0\n",
      "_RFSMOK3: 0\n",
      "_CURECI1: 0\n",
      "DRNKANY5: 0\n",
      "_RFBING5: 0\n",
      "_DRNKWK1: 0\n",
      "_RFDRHV7: 0\n",
      "_FLSHOT7: 149524\n",
      "_PNEUMO3: 149524\n",
      "_AIDTST4: 17092\n",
      "FTJUDA2_: 24654\n",
      "FRUTDA2_: 24097\n",
      "GRENDA1_: 24449\n",
      "FRNCHDA_: 24886\n",
      "POTADA1_: 26756\n",
      "VEGEDA2_: 26817\n",
      "_MISFRT1: 0\n",
      "_MISVEG1: 0\n",
      "_FRTRES1: 0\n",
      "_VEGRES1: 0\n",
      "_FRUTSU1: 27859\n",
      "_VEGESU1: 32613\n",
      "_FRTLT1A: 0\n",
      "_VEGLT1A: 0\n",
      "_FRT16A: 0\n",
      "_VEG23A: 0\n",
      "_FRUITE1: 0\n",
      "_VEGETE1: 0\n",
      "_MMSA: 0\n",
      "_MMSAWT: 0\n",
      "SEQNO: 0\n",
      "MMSANAME: 0\n"
     ]
    }
   ],
   "execution_count": 5
  },
  {
   "cell_type": "code",
   "metadata": {
    "ExecuteTime": {
     "end_time": "2024-04-29T12:44:23.442068Z",
     "start_time": "2024-04-29T12:44:23.323594Z"
    }
   },
   "source": [
    "# If we were to drop all null values, the data would have no records left\n",
    "data.dropna().shape"
   ],
   "outputs": [
    {
     "data": {
      "text/plain": [
       "(0, 152)"
      ]
     },
     "execution_count": 6,
     "metadata": {},
     "output_type": "execute_result"
    }
   ],
   "execution_count": 6
>>>>>>> origin/main
  },
  {
   "cell_type": "markdown",
   "metadata": {},
   "source": [
    "## Hand-pick Variables\n",
    "Select some interesting columns from the dataset."
   ]
  },
  {
   "cell_type": "markdown",
   "metadata": {},
   "source": [
    "#### Columns"
   ]
  },
  {
   "cell_type": "code",
<<<<<<< HEAD
   "execution_count": 4,
   "metadata": {},
   "outputs": [],
=======
   "metadata": {
    "ExecuteTime": {
     "end_time": "2024-04-29T12:44:23.454570Z",
     "start_time": "2024-04-29T12:44:23.443574Z"
    }
   },
>>>>>>> origin/main
   "source": [
    "columns = [\n",
    "    # === List with all meaningful columns ===\n",
    "    [\n",
    "        # Sec 1 Health Status\n",
    "        '_RFHLTH',\n",
    "\n",
    "        # Sec 2 Healthy Days\n",
    "        '_PHYS14D',\n",
    "        '_MENT14D',\n",
    "\n",
    "        # Sec 3 Health Care Access\n",
    "        '_HLTHPLN',\n",
    "        '_HCVU652',\n",
    "\n",
    "        # Sec 4 Exercise\n",
    "        '_TOTINDA',\n",
    "\n",
    "        # Sec 5 Hypertension Awareness\n",
    "        '_RFHYPE6',\n",
    "\n",
    "        # Sec 6 Cholesterol Awareness\n",
    "        '_CHOLCH3',\n",
    "        '_RFCHOL3',\n",
    "\n",
    "        # Sec 7 Chronic Health Conditions\n",
    "        '_MICHD',\n",
    "\n",
    "        # Sec 8 Arthritis\n",
    "        '_DRDXAR3',\n",
    "        '_LMTACT3',\n",
    "        '_LMTWRK3',\n",
    "\n",
    "        # Sec 11 Tobacco Use\n",
    "        '_SMOKER3',\n",
    "        '_RFSMOK3',\n",
    "        '_CURECI1',\n",
    "\n",
    "        # Sec 12 Alcohol Consumption\n",
    "        'DRNKANY5',\n",
    "        'ALCDAY5',\n",
    "        '_RFBING5',\n",
    "        '_DRNKWK1',\n",
    "        '_RFDRHV7',\n",
    "\n",
    "        # Sec 14 HIV/AIDS\n",
    "        '_AIDTST4',\n",
    "\n",
    "        # Sec 15 Fruits & Vegetables\n",
    "        'FTJUDA2_',\n",
    "        'FRUTDA2_',\n",
    "        'GRENDA1_',\n",
    "        'FRNCHDA_',\n",
    "        'POTADA1_',\n",
    "        'VEGEDA2_',\n",
    "        '_FRUTSU1',\n",
    "        '_VEGESU1',\n",
    "        '_FRTLT1A',\n",
    "        '_VEGLT1A',\n",
    "        \n",
    "        # Sec 9 Demographics\n",
    "        '_INCOMG1',\n",
    "        '_EDUCAG',\n",
    "        'CHILDREN',\n",
    "        '_RFBMI5',\n",
    "        '_BMI5CAT',\n",
    "        '_BMI5',\n",
    "        'WTKG3',\n",
    "        'HEIGHT3',\n",
    "        '_AGE_G',\n",
    "        '_AGE80',\n",
    "        '_AGE65YR',\n",
    "        '_AGEG5YR',\n",
    "        '_SEX',\n",
    "        '_RACEPRV',\n",
    "        '_RACEGR3',\n",
    "        '_RACEG21',\n",
    "        '_RACE',\n",
    "        '_HISPANC',\n",
    "        '_MRACE1',\n",
    "        '_PRACE1'\n",
    "    ],\n",
    "\n",
    "    # === 1st subset of all the meaningful columns === \n",
    "    [\n",
    "        # Sec 1 Health Status\n",
    "        '_RFHLTH',\n",
    "\n",
    "        # Sec 2 Healthy Days\n",
    "        '_PHYS14D',\n",
    "        '_MENT14D',\n",
    "\n",
    "        # Sec 3 Health Care Access\n",
    "        '_HLTHPLN',\n",
    "        '_HCVU652',\n",
    "\n",
    "        # Sec 4 Exercise\n",
    "        '_TOTINDA',\n",
    "\n",
    "        # Sec 5 Hypertension Awareness\n",
    "        '_RFHYPE6',\n",
    "\n",
    "        # Sec 6 Cholesterol Awareness\n",
    "        '_CHOLCH3',\n",
    "        '_RFCHOL3',\n",
    "\n",
    "        # Sec 7 Chronic Health Conditions\n",
    "        '_MICHD',\n",
    "\n",
    "        # Sec 8 Arthritis\n",
    "\n",
    "        # Sec 11 Tobacco Use\n",
    "        '_SMOKER3',\n",
    "\n",
    "        # Sec 12 Alcohol Consumption\n",
    "        '_RFBING5',\n",
    "        '_RFDRHV7',\n",
    "\n",
    "        # Sec 14 HIV/AIDS\n",
    "        '_AIDTST4',\n",
    "\n",
    "        # Sec 15 Fruits & Vegetables\n",
    "        '_FRUTSU1',\n",
    "        '_VEGESU1',\n",
    "        \n",
    "        # Sec 9 Demographics\n",
    "        '_INCOMG1',\n",
    "        '_EDUCAG',\n",
    "        '_RFBMI5',\n",
    "        '_BMI5CAT',\n",
    "        '_AGE_G',\n",
    "        '_SEX',\n",
    "        '_RACE'\n",
    "    ],\n",
    "\n",
    "\n",
    "    # === 2nd subset of all the meaningul columns ===\n",
    "    [\n",
    "        # Sec 1 Health Status\n",
    "        '_RFHLTH',\n",
    "\n",
    "        # Sec 2 Healthy Days\n",
    "        '_PHYS14D',\n",
    "        '_MENT14D',\n",
    "\n",
    "        # Sec 3 Health Care Access\n",
    "        '_HLTHPLN',\n",
    "        '_HCVU652',\n",
    "\n",
    "        # Sec 4 Exercise\n",
    "        '_TOTINDA',\n",
    "\n",
    "        # Sec 5 Hypertension Awareness\n",
    "        '_RFHYPE6',\n",
    "\n",
    "        # Sec 6 Cholesterol Awareness\n",
    "        '_CHOLCH3',\n",
    "        '_RFCHOL3',\n",
    "\n",
    "        # Sec 7 Chronic Health Conditions\n",
    "        '_MICHD',\n",
    "\n",
    "        # Sec 8 Arthritis\n",
    "        \n",
    "\n",
    "        # Sec 11 Tobacco Use\n",
    "        '_SMOKER3',\n",
    "\n",
    "        # Sec 12 Alcohol Consumption\n",
    "        '_RFBING5',\n",
    "        '_RFDRHV7',\n",
    "\n",
    "        # Sec 14 HIV/AIDS\n",
    "        '_AIDTST4',\n",
    "\n",
    "        # Sec 15 Fruits & Vegetables\n",
    "        '_FRTLT1A',\n",
    "        '_VEGLT1A',\n",
    "        \n",
    "        # Sec 9 Demographics\n",
    "        '_INCOMG1',\n",
    "        '_EDUCAG',\n",
    "        '_RFBMI5',\n",
    "        '_BMI5CAT',\n",
    "        '_AGE_G',\n",
    "        '_SEX',\n",
    "        '_RACE'\n",
    "    ]\n",
    "]"
<<<<<<< HEAD
   ]
=======
   ],
   "outputs": [],
   "execution_count": 7
>>>>>>> origin/main
  },
  {
   "cell_type": "markdown",
   "metadata": {},
   "source": [
    "#### Categorical and Continuous Columns\n",
    "We can use the one hot encoder to properly encode the values of each categorical variable that exhibits no apparent order."
   ]
  },
  {
   "cell_type": "code",
<<<<<<< HEAD
   "execution_count": 5,
   "metadata": {},
   "outputs": [],
=======
   "metadata": {
    "ExecuteTime": {
     "end_time": "2024-04-29T12:44:23.463567Z",
     "start_time": "2024-04-29T12:44:23.456570Z"
    }
   },
>>>>>>> origin/main
   "source": [
    "\"\"\"\n",
    "\n",
    "1: For categorical\n",
    "2: For continuous\n",
    "\n",
    "\"\"\"\n",
    "\n",
    "cat_con_variables = {\n",
    "    # Sec 1 Health Status\n",
    "    '_RFHLTH': 1,\n",
    "\n",
    "    # Sec 2 Healthy Days\n",
    "    '_PHYS14D': 1,\n",
    "    '_MENT14D': 1,\n",
    "\n",
    "    # Sec 3 Health Care Access\n",
    "    '_HLTHPLN': 1,\n",
    "    '_HCVU652': 1,\n",
    "\n",
    "    # Sec 4 Exercise\n",
    "    '_TOTINDA': 1,\n",
    "\n",
    "    # Sec 5 Hypertension Awareness\n",
    "    '_RFHYPE6': 1,\n",
    "\n",
    "    # Sec 6 Cholesterol Awareness\n",
    "    '_CHOLCH3': 1,\n",
    "    '_RFCHOL3': 1,\n",
    "\n",
    "    # Sec 7 Chronic Health Conditions\n",
    "    '_MICHD': 1,\n",
    "\n",
    "    # Sec 8 Arthritis\n",
    "    '_DRDXAR3': 1,\n",
    "    '_LMTACT3': 1,\n",
    "    '_LMTWRK3': 1,\n",
    "\n",
    "    # Sec 11 Tobacco Use\n",
    "    '_SMOKER3': 1,\n",
    "    '_RFSMOK3': 1,\n",
    "    '_CURECI1': 1,\n",
    "\n",
    "    # Sec 12 Alcohol Consumption\n",
    "    'DRNKANY5': 1,\n",
    "    'ALCDAY5': 2,\n",
    "    '_RFBING5': 1,\n",
    "    '_DRNKWK1': 2,\n",
    "    '_RFDRHV7': 1,\n",
    "\n",
    "    # Sec 14 HIV/AIDS\n",
    "    '_AIDTST4': 1,\n",
    "\n",
    "    # Sec 15 Fruits & Vegetables\n",
    "    'FTJUDA2_': 2,\n",
    "    'FRUTDA2_': 2,\n",
    "    'GRENDA1_': 2,\n",
    "    'FRNCHDA_': 2,\n",
    "    'POTADA1_': 2,\n",
    "    'VEGEDA2_': 2,\n",
    "    '_FRUTSU1': 2,\n",
    "    '_VEGESU1': 2,\n",
    "    '_FRTLT1A': 1,\n",
    "    '_VEGLT1A': 1,\n",
    "    \n",
    "    # Sec 9 Demographics\n",
    "    '_INCOMG1': 1,\n",
    "    '_EDUCAG': 1,\n",
    "    'CHILDREN': 1,\n",
    "    '_RFBMI5': 1,\n",
    "    '_BMI5CAT': 1,\n",
    "    '_BMI5': 2,\n",
    "    'WTKG3': 2,\n",
    "    'HEIGHT3': 2,\n",
    "    \n",
    "    # === The age variables can remain the same because their values represent a natural ordering ===\n",
    "    '_AGE_G': 1,\n",
    "    '_AGE80': 1,\n",
    "    '_AGE65YR': 1,\n",
    "    '_AGEG5YR': 1,\n",
    "    \n",
    "    '_SEX': 1,\n",
    "    '_RACEPRV': 1,\n",
    "    '_RACEGR3': 1,\n",
    "    '_RACEG21': 1,\n",
    "    '_RACE': 1,\n",
    "    '_HISPANC': 1,\n",
    "    '_MRACE1': 1,\n",
    "    '_PRACE1': 1\n",
    "}"
<<<<<<< HEAD
   ]
=======
   ],
   "outputs": [],
   "execution_count": 8
>>>>>>> origin/main
  },
  {
   "cell_type": "markdown",
   "metadata": {},
   "source": [
    "#### Column Values that are Irrelevant\n",
    "Some columns/variables have values, such as \"Dont Know/Not Sure\", that are irrelevant to the analysis. These values are included in data mining methods but can be ignored in NLP mehtods. NLP methods handle text sequences of varying forms."
   ]
  },
  {
   "cell_type": "code",
<<<<<<< HEAD
   "execution_count": 6,
   "metadata": {},
   "outputs": [],
=======
   "metadata": {
    "ExecuteTime": {
     "end_time": "2024-04-29T12:44:23.484118Z",
     "start_time": "2024-04-29T12:44:23.478565Z"
    }
   },
>>>>>>> origin/main
   "source": [
    "irrel_col_values = {\n",
    "    # Sec 1 Health Status\n",
    "    '_RFHLTH': 9,\n",
    "\n",
    "    # Sec 2 Healthy Days\n",
    "    '_PHYS14D': 9,\n",
    "    '_MENT14D': 9,\n",
    "\n",
    "    # Sec 3 Health Care Access\n",
    "    '_HLTHPLN': 9,\n",
    "    '_HCVU652': 9,\n",
    "\n",
    "    # Sec 4 Exercise\n",
    "    '_TOTINDA': 9,\n",
    "\n",
    "    # Sec 5 Hypertension Awareness\n",
    "    '_RFHYPE6': 9,\n",
    "\n",
    "    # Sec 6 Cholesterol Awareness\n",
    "    '_CHOLCH3': 9,\n",
    "    '_RFCHOL3': 9,\n",
    "\n",
    "    # Sec 7 Chronic Health Conditions\n",
    "\n",
    "    # Sec 8 Arthritis\n",
    "    '_LMTACT3': 9,\n",
    "    '_LMTWRK3': 9,\n",
    "\n",
    "    # Sec 11 Tobacco Use\n",
    "    '_SMOKER3': 9,\n",
    "    '_RFSMOK3': 9,\n",
    "    '_CURECI1': 9,\n",
    "\n",
    "    # Sec 12 Alcohol Consumption\n",
    "    'DRNKANY5': 9,\n",
    "    'ALCDAY5': 900,\n",
    "    '_RFBING5': 9,\n",
    "    '_DRNKWK1': 99900,\n",
    "    '_RFDRHV7': 9,\n",
    "\n",
    "    # Sec 14 HIV/AIDS\n",
    "    '_AIDTST4': 9,\n",
    "\n",
    "    # Sec 15 Fruits & Vegetables\n",
    "    '_FRTLT1A': 9,\n",
    "    '_VEGLT1A': 9,\n",
    "    \n",
    "    # Sec 9 Demographics\n",
    "    '_INCOMG1': 9,\n",
    "    '_EDUCAG': 9,\n",
    "    'CHILDREN': 9,\n",
    "    '_RFBMI5': 9,\n",
    "    '_AGE65YR': 3,\n",
    "    '_AGEG5YR': 14,\n",
    "    '_RACEGR3': 9,\n",
    "    '_RACEG21': 9,\n",
    "    '_RACE': 9,\n",
    "    '_HISPANC': 9,\n",
    "    '_MRACE1': [77,99],\n",
    "    '_PRACE1': [77, 99]\n",
    "}"
<<<<<<< HEAD
   ]
  },
  {
   "cell_type": "code",
   "execution_count": 7,
   "metadata": {},
   "outputs": [
    {
     "name": "stdout",
     "output_type": "stream",
     "text": [
      "Number of rows with value 9 in column '_RFHLTH': 601\n",
      "Number of rows with value 9 in column '_PHYS14D': 4691\n",
      "Number of rows with value 9 in column '_MENT14D': 4011\n",
      "Number of rows with value 9 in column '_HLTHPLN': 9341\n",
      "Number of rows with value 9 in column '_HCVU652': 83992\n",
      "Number of rows with value 9 in column '_TOTINDA': 454\n",
      "Number of rows with value 9 in column '_RFHYPE6': 1031\n",
      "Number of rows with value 9 in column '_CHOLCH3': 15155\n",
      "Number of rows with value 9 in column '_RFCHOL3': 1639\n",
      "Number of rows with value 9 in column '_LMTACT3': 712\n",
      "Number of rows with value 9 in column '_LMTWRK3': 1664\n",
      "Number of rows with value 9 in column '_SMOKER3': 14005\n",
      "Number of rows with value 9 in column '_RFSMOK3': 14005\n",
      "Number of rows with value 9 in column '_CURECI1': 13478\n",
      "Number of rows with value 9 in column 'DRNKANY5': 15146\n",
      "Number of rows with value 900 in column 'ALCDAY5': 0\n",
      "Number of rows with value 9 in column '_RFBING5': 19641\n",
      "Number of rows with value 99900 in column '_DRNKWK1': 19412\n",
      "Number of rows with value 9 in column '_RFDRHV7': 19412\n",
      "Number of rows with value 9 in column '_AIDTST4': 11198\n",
      "Number of rows with value 9 in column '_FRTLT1A': 27859\n",
      "Number of rows with value 9 in column '_VEGLT1A': 32613\n",
      "Number of rows with value 9 in column '_INCOMG1': 50442\n",
      "Number of rows with value 9 in column '_EDUCAG': 1471\n",
      "Number of rows with value 9 in column 'CHILDREN': 23\n",
      "Number of rows with value 9 in column '_RFBMI5': 26341\n",
      "Number of rows with value 3 in column '_AGE65YR': 5586\n",
      "Number of rows with value 14 in column '_AGEG5YR': 5586\n",
      "Number of rows with value 9 in column '_RACEGR3': 6007\n",
      "Number of rows with value 9 in column '_RACEG21': 6007\n",
      "Number of rows with value 9 in column '_RACE': 6007\n",
      "Number of rows with value 9 in column '_HISPANC': 3241\n",
      "Number of rows with values in [77, 99] in column '_MRACE1': 7869\n",
      "Number of rows with values in [77, 99] in column '_PRACE1': 7869\n",
      "Size of the dataset after removing rows with specified values: 84002\n"
     ]
    }
   ],
=======
   ],
   "outputs": [],
   "execution_count": 9
  },
  {
   "cell_type": "code",
   "metadata": {
    "ExecuteTime": {
     "end_time": "2024-04-29T12:44:30.567863Z",
     "start_time": "2024-04-29T12:44:23.485622Z"
    }
   },
>>>>>>> origin/main
   "source": [
    "for column, values in irrel_col_values.items():\n",
    "    if isinstance(values, int):  \n",
    "        num_rows = len(data[data[column] == values])\n",
    "        print(f\"Number of rows with value {values} in column '{column}': {num_rows}\")\n",
    "    elif isinstance(values, list):  \n",
    "        num_rows = len(data[data[column].isin(values)])\n",
    "        print(f\"Number of rows with values in {values} in column '{column}': {num_rows}\")\n",
    "\n",
    "# Calculating the size of the dataset after removing rows with specified values\n",
    "filtered_data = data.copy() \n",
    "for column, values in irrel_col_values.items():\n",
    "    if isinstance(values, int):  \n",
    "        filtered_data = filtered_data[filtered_data[column] != values]\n",
    "    elif isinstance(values, list):  \n",
    "        filtered_data = filtered_data[~filtered_data[column].isin(values)]\n",
    "\n",
    "# Calculate the size of the filtered dataset\n",
    "filtered_size = filtered_data.shape[0]\n",
    "print(f\"Size of the dataset after removing rows with specified values: {filtered_size}\")"
<<<<<<< HEAD
   ]
=======
   ],
   "outputs": [
    {
     "name": "stdout",
     "output_type": "stream",
     "text": [
      "Number of rows with value 9 in column '_RFHLTH': 601\n",
      "Number of rows with value 9 in column '_PHYS14D': 4691\n",
      "Number of rows with value 9 in column '_MENT14D': 4011\n",
      "Number of rows with value 9 in column '_HLTHPLN': 9341\n",
      "Number of rows with value 9 in column '_HCVU652': 83992\n",
      "Number of rows with value 9 in column '_TOTINDA': 454\n",
      "Number of rows with value 9 in column '_RFHYPE6': 1031\n",
      "Number of rows with value 9 in column '_CHOLCH3': 15155\n",
      "Number of rows with value 9 in column '_RFCHOL3': 1639\n",
      "Number of rows with value 9 in column '_LMTACT3': 712\n",
      "Number of rows with value 9 in column '_LMTWRK3': 1664\n",
      "Number of rows with value 9 in column '_SMOKER3': 14005\n",
      "Number of rows with value 9 in column '_RFSMOK3': 14005\n",
      "Number of rows with value 9 in column '_CURECI1': 13478\n",
      "Number of rows with value 9 in column 'DRNKANY5': 15146\n",
      "Number of rows with value 900 in column 'ALCDAY5': 0\n",
      "Number of rows with value 9 in column '_RFBING5': 19641\n",
      "Number of rows with value 99900 in column '_DRNKWK1': 19412\n",
      "Number of rows with value 9 in column '_RFDRHV7': 19412\n",
      "Number of rows with value 9 in column '_AIDTST4': 11198\n",
      "Number of rows with value 9 in column '_FRTLT1A': 27859\n",
      "Number of rows with value 9 in column '_VEGLT1A': 32613\n",
      "Number of rows with value 9 in column '_INCOMG1': 50442\n",
      "Number of rows with value 9 in column '_EDUCAG': 1471\n",
      "Number of rows with value 9 in column 'CHILDREN': 23\n",
      "Number of rows with value 9 in column '_RFBMI5': 26341\n",
      "Number of rows with value 3 in column '_AGE65YR': 5586\n",
      "Number of rows with value 14 in column '_AGEG5YR': 5586\n",
      "Number of rows with value 9 in column '_RACEGR3': 6007\n",
      "Number of rows with value 9 in column '_RACEG21': 6007\n",
      "Number of rows with value 9 in column '_RACE': 6007\n",
      "Number of rows with value 9 in column '_HISPANC': 3241\n",
      "Number of rows with values in [77, 99] in column '_MRACE1': 7869\n",
      "Number of rows with values in [77, 99] in column '_PRACE1': 7869\n",
      "Size of the dataset after removing rows with specified values: 84002\n"
     ]
    }
   ],
   "execution_count": 10
>>>>>>> origin/main
  },
  {
   "cell_type": "markdown",
   "metadata": {},
   "source": [
    "Some columns described in the 2021 SMART City and Country CodeBook are derived from other columns in the dataset.\n",
    "\n",
    "- DROCDY3_ Calculated variable for drink-occasions-per-day. DROCDY3_ is derived from ALCDAY5 by dividing the ALCDAY5 variable by 7 days per week or 30 days per month.\n",
    "\n",
    "- _CHLDCNT Calculated variable for number of children in household. _CHLDCNT is derived from CHILDREN.\n",
    "\n",
    "- HTM4 Calculated variable for reported height in meters. HTM4 is derived from the variable HTIN4 by multiplying HTIN4 by 2.54 cm per in and dividing by 100 cm per meter. HTM4 is derived from HEIGHT2 metric values by dividing by 100.\n",
    "\n",
    "- HTIN4 Calculated variable for reported height in inches. HTIN4 is derived from HEIGHT3. HTIN4 is calculated by adding the foot portion of HEIGHT3 multiplied by 12, to the inch portion. "
   ]
  },
  {
   "cell_type": "markdown",
   "metadata": {},
   "source": [
    "## Candidate Dataframe Creation"
   ]
  },
  {
   "cell_type": "code",
<<<<<<< HEAD
   "execution_count": null,
   "metadata": {},
   "outputs": [],
=======
   "metadata": {
    "ExecuteTime": {
     "end_time": "2024-04-29T12:44:30.588856Z",
     "start_time": "2024-04-29T12:44:30.572861Z"
    }
   },
>>>>>>> origin/main
   "source": [
    "# Check if the columns selected earlier exist in the dataset\n",
    "for col in columns[0]:\n",
    "    if col in data.columns:\n",
    "        print(col)\n",
    "    else:\n",
    "        print(f'{col} does not exist')"
<<<<<<< HEAD
   ]
  },
  {
   "cell_type": "code",
   "execution_count": null,
   "metadata": {},
   "outputs": [],
=======
   ],
   "outputs": [
    {
     "name": "stdout",
     "output_type": "stream",
     "text": [
      "_RFHLTH\n",
      "_PHYS14D\n",
      "_MENT14D\n",
      "_HLTHPLN\n",
      "_HCVU652\n",
      "_TOTINDA\n",
      "_RFHYPE6\n",
      "_CHOLCH3\n",
      "_RFCHOL3\n",
      "_MICHD\n",
      "_DRDXAR3\n",
      "_LMTACT3\n",
      "_LMTWRK3\n",
      "_SMOKER3\n",
      "_RFSMOK3\n",
      "_CURECI1\n",
      "DRNKANY5\n",
      "ALCDAY5\n",
      "_RFBING5\n",
      "_DRNKWK1\n",
      "_RFDRHV7\n",
      "_AIDTST4\n",
      "FTJUDA2_\n",
      "FRUTDA2_\n",
      "GRENDA1_\n",
      "FRNCHDA_\n",
      "POTADA1_\n",
      "VEGEDA2_\n",
      "_FRUTSU1\n",
      "_VEGESU1\n",
      "_FRTLT1A\n",
      "_VEGLT1A\n",
      "_INCOMG1\n",
      "_EDUCAG\n",
      "CHILDREN\n",
      "_RFBMI5\n",
      "_BMI5CAT\n",
      "_BMI5\n",
      "WTKG3\n",
      "HEIGHT3\n",
      "_AGE_G\n",
      "_AGE80\n",
      "_AGE65YR\n",
      "_AGEG5YR\n",
      "_SEX\n",
      "_RACEPRV\n",
      "_RACEGR3\n",
      "_RACEG21\n",
      "_RACE\n",
      "_HISPANC\n",
      "_MRACE1\n",
      "_PRACE1\n"
     ]
    }
   ],
   "execution_count": 11
  },
  {
   "cell_type": "code",
   "metadata": {
    "ExecuteTime": {
     "end_time": "2024-04-29T12:44:30.715833Z",
     "start_time": "2024-04-29T12:44:30.597853Z"
    }
   },
>>>>>>> origin/main
   "source": [
    "# How many null values each selected column has\n",
    "isna_data = data[columns[0]].isna().sum()\n",
    "for column, count in isna_data.items():\n",
    "    print(f\"{column}: {count}\")"
<<<<<<< HEAD
   ]
  },
  {
   "cell_type": "code",
   "execution_count": 7,
   "metadata": {},
   "outputs": [],
=======
   ],
   "outputs": [
    {
     "name": "stdout",
     "output_type": "stream",
     "text": [
      "_RFHLTH: 0\n",
      "_PHYS14D: 0\n",
      "_MENT14D: 0\n",
      "_HLTHPLN: 0\n",
      "_HCVU652: 0\n",
      "_TOTINDA: 0\n",
      "_RFHYPE6: 0\n",
      "_CHOLCH3: 0\n",
      "_RFCHOL3: 29981\n",
      "_MICHD: 2308\n",
      "_DRDXAR3: 1480\n",
      "_LMTACT3: 1480\n",
      "_LMTWRK3: 1480\n",
      "_SMOKER3: 0\n",
      "_RFSMOK3: 0\n",
      "_CURECI1: 0\n",
      "DRNKANY5: 0\n",
      "ALCDAY5: 13868\n",
      "_RFBING5: 0\n",
      "_DRNKWK1: 0\n",
      "_RFDRHV7: 0\n",
      "_AIDTST4: 17092\n",
      "FTJUDA2_: 24654\n",
      "FRUTDA2_: 24097\n",
      "GRENDA1_: 24449\n",
      "FRNCHDA_: 24886\n",
      "POTADA1_: 26756\n",
      "VEGEDA2_: 26817\n",
      "_FRUTSU1: 27859\n",
      "_VEGESU1: 32613\n",
      "_FRTLT1A: 0\n",
      "_VEGLT1A: 0\n",
      "_INCOMG1: 0\n",
      "_EDUCAG: 0\n",
      "CHILDREN: 3540\n",
      "_RFBMI5: 0\n",
      "_BMI5CAT: 26341\n",
      "_BMI5: 26341\n",
      "WTKG3: 22711\n",
      "HEIGHT3: 7408\n",
      "_AGE_G: 0\n",
      "_AGE80: 0\n",
      "_AGE65YR: 0\n",
      "_AGEG5YR: 0\n",
      "_SEX: 0\n",
      "_RACEPRV: 0\n",
      "_RACEGR3: 0\n",
      "_RACEG21: 0\n",
      "_RACE: 0\n",
      "_HISPANC: 0\n",
      "_MRACE1: 0\n",
      "_PRACE1: 0\n"
     ]
    }
   ],
   "execution_count": 12
  },
  {
   "cell_type": "code",
   "metadata": {
    "ExecuteTime": {
     "end_time": "2024-04-29T12:44:31.184541Z",
     "start_time": "2024-04-29T12:44:30.725831Z"
    }
   },
>>>>>>> origin/main
   "source": [
    "# Create dataframes based on the selected columns\n",
    "# Question: Should we drop the rows with null values?\n",
    "dataframes = [\n",
    "    data[columns[0]].dropna().copy(),\n",
    "    data[columns[1]].dropna().copy(),\n",
    "    data[columns[2]].dropna().copy(),\n",
    "]"
<<<<<<< HEAD
   ]
  },
  {
   "cell_type": "code",
   "execution_count": null,
   "metadata": {},
   "outputs": [],
=======
   ],
   "outputs": [],
   "execution_count": 13
  },
  {
   "cell_type": "code",
   "metadata": {
    "ExecuteTime": {
     "end_time": "2024-04-29T12:44:31.245826Z",
     "start_time": "2024-04-29T12:44:31.189540Z"
    }
   },
>>>>>>> origin/main
   "source": [
    "dataframes[2].info()"
   ]
  },
  {
   "cell_type": "code",
   "execution_count": 8,
   "metadata": {},
   "outputs": [
    {
     "name": "stdout",
     "output_type": "stream",
     "text": [
      "Categorical Columns: \n",
      "['_RFHLTH', '_PHYS14D', '_MENT14D', '_HLTHPLN', '_HCVU652', '_TOTINDA', '_RFHYPE6', '_CHOLCH3', '_RFCHOL3', '_MICHD', '_DRDXAR3', '_LMTACT3', '_LMTWRK3', '_SMOKER3', '_RFSMOK3', '_CURECI1', 'DRNKANY5', '_RFBING5', '_RFDRHV7', '_AIDTST4', '_FRTLT1A', '_VEGLT1A', '_INCOMG1', '_EDUCAG', 'CHILDREN', '_RFBMI5', '_BMI5CAT', '_AGE_G', '_AGE80', '_AGE65YR', '_AGEG5YR', '_SEX', '_RACEPRV', '_RACEGR3', '_RACEG21', '_RACE', '_HISPANC', '_MRACE1', '_PRACE1']\n"
     ]
    }
   ],
   "source": [
    "# Store all categorical only columns in a list\n",
    "object_cols = []\n",
    "for col, cat_con_var in cat_con_variables.items():\n",
    "    if cat_con_var == 1:\n",
    "        object_cols.append(col)\n",
    "\n",
    "print(f'Categorical Columns: \\n{object_cols}')"
<<<<<<< HEAD
   ]
  },
  {
   "cell_type": "code",
   "execution_count": 8,
   "metadata": {},
   "outputs": [],
=======
   ],
   "outputs": [
    {
     "name": "stdout",
     "output_type": "stream",
     "text": [
      "Categorical Columns: \n",
      "['_RFHLTH', '_PHYS14D', '_MENT14D', '_HLTHPLN', '_HCVU652', '_TOTINDA', '_RFHYPE6', '_CHOLCH3', '_RFCHOL3', '_MICHD', '_DRDXAR3', '_LMTACT3', '_LMTWRK3', '_SMOKER3', '_RFSMOK3', '_CURECI1', 'DRNKANY5', '_RFBING5', '_RFDRHV7', '_AIDTST4', '_FRTLT1A', '_VEGLT1A', '_INCOMG1', '_EDUCAG', 'CHILDREN', '_RFBMI5', '_BMI5CAT', '_AGE_G', '_AGE80', '_AGE65YR', '_AGEG5YR', '_SEX', '_RACEPRV', '_RACEGR3', '_RACEG21', '_RACE', '_HISPANC', '_MRACE1', '_PRACE1']\n"
     ]
    }
   ],
   "execution_count": 14
  },
  {
   "cell_type": "code",
   "metadata": {
    "ExecuteTime": {
     "end_time": "2024-04-29T12:44:31.510157Z",
     "start_time": "2024-04-29T12:44:31.267814Z"
    }
   },
>>>>>>> origin/main
   "source": [
    "for dataframe in dataframes:\n",
    "    dataframe['_MICHD'] = dataframe['_MICHD'].replace({1.0: 0, 2.0: 1})\n",
    "    dataframe['_MICHD'] = dataframe['_MICHD'].astype('int64')\n",
    "\n",
    "    # Convert categorical columns to integers. Categorical columns have float numerical values representing their categories, e.g 1.0, 2.0, 3.0\n",
    "    for column, col_type in cat_con_variables.items():\n",
    "        if col_type == 1 and (column in dataframe.columns):  # Check if the column is categorical\n",
    "            dataframe[column] = dataframe[column].astype('int64')"
   ]
  },
  {
   "cell_type": "code",
   "execution_count": 10,
   "metadata": {},
   "outputs": [],
   "source": [
    "# Use this if you want to utilize the one hot encoder\n",
    "# The one hot encoder will create sub-variables for each distinct value of a variable\n",
    "selected_cols = [col for col in set(object_cols) & set(dataframes[2].columns) if col != '_MICHD']\n",
    "\n",
<<<<<<< HEAD
    "dataframes[2] = pd.get_dummies(dataframes[2], columns=selected_cols)"
   ]
  },
  {
   "cell_type": "code",
   "execution_count": 11,
   "metadata": {},
   "outputs": [
    {
     "data": {
      "text/plain": [
       "_MICHD\n",
       "1    153711\n",
       "0     13872\n",
       "Name: count, dtype: int64"
      ]
     },
     "execution_count": 11,
     "metadata": {},
     "output_type": "execute_result"
    }
   ],
   "source": [
    "dataframes[2]['_MICHD'].value_counts()"
   ]
  },
  {
   "cell_type": "code",
   "execution_count": 12,
   "metadata": {},
   "outputs": [
    {
     "data": {
      "text/plain": [
       "(167583, 85)"
      ]
     },
     "execution_count": 12,
     "metadata": {},
     "output_type": "execute_result"
    }
   ],
   "source": [
    "dataframes[2].shape"
   ]
  },
  {
   "cell_type": "code",
   "execution_count": 11,
   "metadata": {},
   "outputs": [
    {
     "data": {
      "text/plain": [
       "32930"
      ]
     },
     "execution_count": 11,
     "metadata": {},
     "output_type": "execute_result"
    }
   ],
   "source": [
    "# Print the total number of duplicates for one of the categories of variable \"_MICHD\"\n",
    "dataframes[2][dataframes[2]['_MICHD'] == 1].duplicated().sum()"
   ]
  },
  {
   "cell_type": "code",
   "execution_count": null,
   "metadata": {},
   "outputs": [],
   "source": [
    "dataframes[2].info()"
   ]
  },
  {
   "cell_type": "markdown",
   "metadata": {},
   "source": [
    "### Frequency of Variable Categories"
   ]
  },
  {
=======
    "    # Use this if you want to utilize the one hot encoder\n",
    "    # The one hot encoder will create sub-variables for each distinct value of a variable\n",
    "    #dataframe = pd.get_dummies(dataframe, columns=object_cols)"
   ],
   "outputs": [],
   "execution_count": 15
  },
  {
   "cell_type": "code",
   "metadata": {
    "ExecuteTime": {
     "end_time": "2024-04-29T12:44:31.519961Z",
     "start_time": "2024-04-29T12:44:31.512149Z"
    }
   },
   "source": [
    "dataframes[0]['_MICHD'].value_counts()"
   ],
   "outputs": [
    {
     "data": {
      "text/plain": [
       "_MICHD\n",
       "2    141513\n",
       "1     12410\n",
       "Name: count, dtype: int64"
      ]
     },
     "execution_count": 16,
     "metadata": {},
     "output_type": "execute_result"
    }
   ],
   "execution_count": 16
  },
  {
   "cell_type": "code",
   "metadata": {
    "ExecuteTime": {
     "end_time": "2024-04-29T12:44:31.527808Z",
     "start_time": "2024-04-29T12:44:31.520956Z"
    }
   },
   "source": [
    "dataframes[0].shape"
   ],
   "outputs": [
    {
     "data": {
      "text/plain": [
       "(153923, 52)"
      ]
     },
     "execution_count": 17,
     "metadata": {},
     "output_type": "execute_result"
    }
   ],
   "execution_count": 17
  },
  {
   "cell_type": "code",
   "metadata": {
    "ExecuteTime": {
     "end_time": "2024-04-29T12:44:31.689241Z",
     "start_time": "2024-04-29T12:44:31.528805Z"
    }
   },
   "source": [
    "# Print the total number of duplicates for one of the categories of variable \"_MICHD\"\n",
    "dataframes[2][dataframes[2]['_MICHD'] == 2].duplicated().sum()"
   ],
   "outputs": [
    {
     "data": {
      "text/plain": [
       "32930"
      ]
     },
     "execution_count": 18,
     "metadata": {},
     "output_type": "execute_result"
    }
   ],
   "execution_count": 18
  },
  {
   "metadata": {
    "ExecuteTime": {
     "end_time": "2024-04-29T12:45:00.496136Z",
     "start_time": "2024-04-29T12:44:31.690207Z"
    }
   },
>>>>>>> origin/main
   "cell_type": "code",
<<<<<<< HEAD
   "execution_count": null,
   "metadata": {},
   "outputs": [],
=======
>>>>>>> origin/main
   "source": [
    "# Split variables into groups of five\n",
    "variable_groups = [dataframes[2].columns[i:i+5] for i in range(0, len(dataframes[2].columns), 5)]\n",
    "\n",
    "# Plot each group of variables\n",
    "for group in variable_groups:\n",
    "    plt.figure(figsize=(12, 6))\n",
    "    for idx, variable in enumerate(group):\n",
    "        plt.subplot(math.ceil(len(group)/2), 2, idx+1)\n",
    "        sns.countplot(data=dataframes[2], x=variable, hue=variable, palette='Set3', legend=False)\n",
    "        plt.title(f'Frequency of Categories in {variable}')\n",
    "        plt.xlabel('Categories')\n",
    "        plt.ylabel('Frequency')\n",
    "        plt.xticks(rotation=45)\n",
    "    plt.tight_layout()\n",
    "    plt.show()"
   ]
  },
  {
   "cell_type": "markdown",
   "metadata": {},
   "source": [
    "### Chi-Squared Test Analysis"
   ]
  },
  {
   "cell_type": "code",
   "execution_count": 24,
   "metadata": {},
   "outputs": [
    {
     "name": "stdout",
     "output_type": "stream",
     "text": [
      "   Independent Variable  Chi-square Value        P-value\n",
      "0               _RFHLTH       7650.663883   0.000000e+00\n",
      "1              _PHYS14D       4268.662883   0.000000e+00\n",
      "2              _MENT14D        464.365123  2.515920e-100\n",
      "3              _HLTHPLN         96.618771   1.045925e-21\n",
      "4              _HCVU652       5983.420192   0.000000e+00\n",
      "5              _TOTINDA       1663.766148   0.000000e+00\n",
      "6              _RFHYPE6       6697.390558   0.000000e+00\n",
      "7              _CHOLCH3        262.036886   6.173480e-59\n",
      "8              _RFCHOL3       4740.451737   0.000000e+00\n",
      "9              _SMOKER3       2021.200796   0.000000e+00\n",
      "10             _RFBING5        651.940519  2.709661e-142\n",
      "11             _RFDRHV7        120.394056   7.190565e-27\n",
      "12             _AIDTST4        200.666633   2.665596e-44\n",
      "13             _FRTLT1A         35.432240   2.022957e-08\n",
      "14             _VEGLT1A        146.811814   1.318924e-32\n",
      "15             _INCOMG1       2093.487975   0.000000e+00\n",
      "16              _EDUCAG       1098.497436  1.602772e-236\n",
      "17              _RFBMI5        243.521990   6.710847e-55\n",
      "18             _BMI5CAT        323.220608   9.366207e-70\n",
      "19               _AGE_G       7845.859736   0.000000e+00\n",
      "20                 _SEX        880.096634  2.082702e-193\n",
      "21                _RACE        410.974811   8.404536e-84\n"
     ]
    }
   ],
<<<<<<< HEAD
   "source": [
    "# Create an empty DataFrame to store the results\n",
    "chi_squared_results = []\n",
    "\n",
    "\n",
    "for col in [col for col in columns[2] if col != '_MICHD']:\n",
    "    contingency_table = pd.crosstab(dataframes[2][col], dataframes[2]['_MICHD'])\n",
    "    chi2, p_value, dof, expected = chi2_contingency(contingency_table)\n",
    "    \n",
    "\n",
    "    # Append the results to the DataFrame\n",
    "    chi_squared_results.append({'Independent Variable': col,\n",
    "                              'Chi-square Value': chi2,\n",
    "                              'P-value': p_value})\n",
    "    \n",
    "    \"\"\"\n",
    "    print(f\"Chi-square test for independence between {col} and {'_MICHD'}:\")\n",
    "    print(f\"Chi-square value: {chi2}\")\n",
    "    print(f\"P-value: {p_value}\")\n",
    "    print(\"\")\n",
    "\n",
    "    # You can perform further analysis based on the p-value and significance level\n",
    "    # For example:\n",
    "    if p_value < 0.05:  # Assuming a significance level of 0.05\n",
    "        print(f\"The p-value is less than 0.05, indicating that {col} is likely dependent on {'_MICHD'}.\")\n",
    "    else:\n",
    "        print(f\"The p-value is greater than 0.05, indicating that {col} is likely independent of {'_MICHD'}.\")\n",
    "    print(\"\")\n",
    "    \"\"\"\n",
    "chi_squared_results_df = pd.DataFrame(chi_squared_results)\n",
    "print(chi_squared_results_df)"
   ]
  },
  {
   "cell_type": "markdown",
   "metadata": {},
   "source": [
    "### Cramer's V Method for Correlation"
   ]
  },
  {
   "cell_type": "code",
   "execution_count": 29,
   "metadata": {},
   "outputs": [],
   "source": [
    "# Encode categorical variables\n",
    "encoded_df = pd.get_dummies(dataframes[2], drop_first=True)  # One-hot encoding\n",
    "\n",
    "# Function to calculate Cramér's V\n",
    "def cramers_v(x, y):\n",
    "    confusion_matrix = pd.crosstab(x, y)\n",
    "    chi2 = chi2_contingency(confusion_matrix)[0]\n",
    "    n = confusion_matrix.sum().sum()\n",
    "    phi2 = chi2 / n\n",
    "    r, k = confusion_matrix.shape\n",
    "    phi2corr = max(0, phi2 - ((k-1)*(r-1))/(n-1))\n",
    "    rcorr = r - ((r-1)**2)/(n-1)\n",
    "    kcorr = k - ((k-1)**2)/(n-1)\n",
    "    return np.sqrt(phi2corr / min((kcorr-1), (rcorr-1)))\n",
    "\n",
    "# Calculate Cramér's V for each pair of variables\n",
    "cramers_v_values = {}\n",
    "for col1 in encoded_df.columns:\n",
    "    for col2 in encoded_df.columns:\n",
    "        cramers_v_values[(col1, col2)] = cramers_v(encoded_df[col1], encoded_df[col2])\n",
    "\n",
    "\n",
    "# Create a correlation table\n",
    "correlation_table = pd.DataFrame(index=encoded_df.columns, columns=encoded_df.columns)\n",
    "for col1 in encoded_df.columns:\n",
    "    for col2 in encoded_df.columns:\n",
    "        correlation_table.loc[col1, col2] = cramers_v_values[(col1, col2)]\n",
    "\n",
    "# Create an empty dictionary to store associations\n",
    "association_dict = {}\n",
    "\n",
    "# Iterate over each variable in the correlation table\n",
    "for var1 in correlation_table.columns:\n",
    "    # Create an inner dictionary to store associations with other variables\n",
    "    inner_dict = {}\n",
    "    \n",
    "    # Iterate over other variables\n",
    "    for var2 in correlation_table.columns:\n",
    "        # Skip the current variable\n",
    "        if var1 == var2:\n",
    "            continue\n",
    "        \n",
    "        # Get the correlation value between var1 and var2 from the original correlation table\n",
    "        association_value = correlation_table.loc[var1, var2]\n",
    "        \n",
    "        # Store the association value in the inner dictionary\n",
    "        inner_dict[var2] = association_value\n",
    "    \n",
    "    # Sort the inner dictionary based on correlation values\n",
    "    sorted_inner_dict = {k: v for k, v in sorted(inner_dict.items(), key=lambda item: item[1], reverse=True)}\n",
    "\n",
    "    # Store the inner dictionary in the outer dictionary\n",
    "    association_dict[var1] = sorted_inner_dict"
   ]
  },
  {
   "cell_type": "code",
   "execution_count": 30,
   "metadata": {},
   "outputs": [
    {
     "name": "stdout",
     "output_type": "stream",
     "text": [
      "_RFHLTH:\n",
      "  _PHYS14D: 0.3614064284613051\n",
      "  _MICHD: 0.21363829499934134\n",
      "  _INCOMG1: 0.1935867208013684\n",
      "  _TOTINDA: 0.18029964894301873\n",
      "  _MENT14D: 0.17143570592315746\n",
      "  _EDUCAG: 0.15204789025587417\n",
      "  _RFHYPE6: 0.13517998796401912\n",
      "  _SMOKER3: 0.10057197701484735\n",
      "  _BMI5CAT: 0.0977096647006075\n",
      "  _RFCHOL3: 0.09291320987420845\n",
      "  _AGE_G: 0.07929579365029235\n",
      "  _RFBMI5: 0.0684755915778215\n",
      "  _VEGLT1A: 0.06726165464569893\n",
      "  _RACE: 0.06659320210777403\n",
      "  _HCVU652: 0.06226586351954926\n",
      "  _FRTLT1A: 0.041714917712912046\n",
      "  _RFBING5: 0.04004045008712682\n",
      "  _AIDTST4: 0.03235917549083652\n",
      "  _HLTHPLN: 0.029593844701554028\n",
      "  _CHOLCH3: 0.021763368271458052\n",
      "  _RFDRHV7: 0.020303714527265388\n",
      "  _SEX: 0.018633063685266255\n",
      "_PHYS14D:\n",
      "  _RFHLTH: 0.36140642846130516\n",
      "  _MENT14D: 0.2259787574960069\n",
      "  _TOTINDA: 0.16818639229380167\n",
      "  _MICHD: 0.15954367057453467\n",
      "  _INCOMG1: 0.13090327181619776\n",
      "  _RFHYPE6: 0.09931600485496782\n",
      "  _EDUCAG: 0.0831936525736148\n",
      "  _RFCHOL3: 0.07530743213427221\n",
      "  _SMOKER3: 0.06985201978885339\n",
      "  _VEGLT1A: 0.06855089609141606\n",
      "  _SEX: 0.06622007388379528\n",
      "  _AGE_G: 0.06599047070433955\n",
      "  _BMI5CAT: 0.06594503808907168\n",
      "  _HCVU652: 0.05767722528567192\n",
      "  _RFBING5: 0.05024061790337511\n",
      "  _RFBMI5: 0.05002285790132909\n",
      "  _FRTLT1A: 0.046677185202963725\n",
      "  _AIDTST4: 0.045866544006086266\n",
      "  _RACE: 0.03337471515390333\n",
      "  _HLTHPLN: 0.02800163324181061\n",
      "  _RFDRHV7: 0.027919003212383598\n",
      "  _CHOLCH3: 0.024446030081562813\n",
      "_MENT14D:\n",
      "  _PHYS14D: 0.22597875749600685\n",
      "  _RFHLTH: 0.17143570592315746\n",
      "  _AGE_G: 0.14342705563066327\n",
      "  _HCVU652: 0.1417079186020869\n",
      "  _SEX: 0.1286422681342891\n",
      "  _INCOMG1: 0.10089409119423892\n",
      "  _AIDTST4: 0.10013423439921575\n",
      "  _TOTINDA: 0.08584669558639717\n",
      "  _SMOKER3: 0.0764505797086261\n",
      "  _RFBING5: 0.07373321434795055\n",
      "  _EDUCAG: 0.07013415426771347\n",
      "  _VEGLT1A: 0.059897925636334254\n",
      "  _FRTLT1A: 0.05816526783483396\n",
      "  _MICHD: 0.05246971284832731\n",
      "  _BMI5CAT: 0.05038990206022836\n",
      "  _RFDRHV7: 0.04520335285068367\n",
      "  _RFHYPE6: 0.044771136032782086\n",
      "  _HLTHPLN: 0.038496652169306485\n",
      "  _RACE: 0.03787587235163304\n",
      "  _RFBMI5: 0.02714307781069763\n",
      "  _CHOLCH3: 0.025887036039715147\n",
      "  _RFCHOL3: 0.025464141334490036\n",
      "_HLTHPLN:\n",
      "  _HCVU652: 0.7021287312428877\n",
      "  _RACE: 0.14313399097653334\n",
      "  _CHOLCH3: 0.14225712337988047\n",
      "  _INCOMG1: 0.13195709525132313\n",
      "  _EDUCAG: 0.1315967296117762\n",
      "  _AGE_G: 0.12379677865686037\n",
      "  _SMOKER3: 0.05618860796758344\n",
      "  _VEGLT1A: 0.04714693698157233\n",
      "  _RFHYPE6: 0.04393816078364641\n",
      "  _RFCHOL3: 0.04303841520117264\n",
      "  _MENT14D: 0.038496652169306485\n",
      "  _AIDTST4: 0.03816117448744557\n",
      "  _RFBING5: 0.03471115861574111\n",
      "  _SEX: 0.03140156531288751\n",
      "  _FRTLT1A: 0.030362616703895957\n",
      "  _RFHLTH: 0.029593844701554028\n",
      "  _RFDRHV7: 0.028471559116438915\n",
      "  _TOTINDA: 0.02807974883104035\n",
      "  _PHYS14D: 0.02800163324181061\n",
      "  _MICHD: 0.023761559432600807\n",
      "  _BMI5CAT: 0.01785023249549455\n",
      "  _RFBMI5: 0.01765441943785564\n",
      "_HCVU652:\n",
      "  _HLTHPLN: 0.7021287312428877\n",
      "  _AGE_G: 0.6719814604377053\n",
      "  _INCOMG1: 0.20170008737270237\n",
      "  _RFHYPE6: 0.19242481801997774\n",
      "  _MICHD: 0.18892458252528632\n",
      "  _AIDTST4: 0.1829835284142059\n",
      "  _RACE: 0.17153582526519806\n",
      "  _CHOLCH3: 0.14970510480058127\n",
      "  _RFCHOL3: 0.14602203365329747\n",
      "  _MENT14D: 0.1417079186020869\n",
      "  _RFBING5: 0.12991356593431772\n",
      "  _SMOKER3: 0.12495540329553781\n",
      "  _EDUCAG: 0.1247839130661196\n",
      "  _TOTINDA: 0.0713438518708386\n",
      "  _RFHLTH: 0.06226586351954926\n",
      "  _PHYS14D: 0.05767722528567192\n",
      "  _FRTLT1A: 0.05380370473882116\n",
      "  _BMI5CAT: 0.04791869653059837\n",
      "  _VEGLT1A: 0.04302335070099706\n",
      "  _SEX: 0.04119457802012976\n",
      "  _RFDRHV7: 0.03954008963578854\n",
      "  _RFBMI5: 0.03626961675601535\n",
      "_TOTINDA:\n",
      "  _RFHLTH: 0.18029964894301873\n",
      "  _PHYS14D: 0.16818639229380167\n",
      "  _INCOMG1: 0.16345523503531145\n",
      "  _EDUCAG: 0.16070175937431813\n",
      "  _VEGLT1A: 0.10502479067504433\n",
      "  _BMI5CAT: 0.1019770764090294\n",
      "  _MICHD: 0.09957980413088452\n",
      "  _RFHYPE6: 0.0917244332508616\n",
      "  _RFBMI5: 0.08657332559513206\n",
      "  _SMOKER3: 0.08640726896690365\n",
      "  _MENT14D: 0.08584669558639717\n",
      "  _FRTLT1A: 0.0828857341163244\n",
      "  _AGE_G: 0.07833276824934479\n",
      "  _HCVU652: 0.0713438518708386\n",
      "  _SEX: 0.06731317594979579\n",
      "  _RACE: 0.06167080515851505\n",
      "  _RFCHOL3: 0.05394259920127644\n",
      "  _RFBING5: 0.03881136371051177\n",
      "  _HLTHPLN: 0.028079748831040353\n",
      "  _RFDRHV7: 0.018141855648807406\n",
      "  _AIDTST4: 0.013873903018422779\n",
      "  _CHOLCH3: 0.0\n",
      "_RFHYPE6:\n",
      "  _AGE_G: 0.2494228005895958\n",
      "  _RFCHOL3: 0.20679772316732292\n",
      "  _MICHD: 0.1998822699273013\n",
      "  _HCVU652: 0.1924248180199777\n",
      "  _RFBMI5: 0.17903924349608533\n",
      "  _BMI5CAT: 0.1497490469743976\n",
      "  _RFHLTH: 0.13517998796401912\n",
      "  _INCOMG1: 0.10307944758142625\n",
      "  _PHYS14D: 0.0993160048549678\n",
      "  _TOTINDA: 0.0917244332508616\n",
      "  _CHOLCH3: 0.09030024939894991\n",
      "  _SMOKER3: 0.08391948081573296\n",
      "  _RACE: 0.0822536312894928\n",
      "  _EDUCAG: 0.079185769984511\n",
      "  _SEX: 0.05516826042698035\n",
      "  _RFBING5: 0.04726054930981198\n",
      "  _MENT14D: 0.044771136032782086\n",
      "  _AIDTST4: 0.044493778526897884\n",
      "  _HLTHPLN: 0.04393816078364641\n",
      "  _VEGLT1A: 0.02783074985121571\n",
      "  _FRTLT1A: 0.022814793849226193\n",
      "  _RFDRHV7: 0.013186443862152933\n",
      "_CHOLCH3:\n",
      "  _HCVU652: 0.14970510480058127\n",
      "  _HLTHPLN: 0.14225712337988047\n",
      "  _AGE_G: 0.10645887681532712\n",
      "  _RFCHOL3: 0.09180814278143222\n",
      "  _RFHYPE6: 0.09030024939894991\n",
      "  _SMOKER3: 0.06268917811925308\n",
      "  _RFBING5: 0.0498040406720533\n",
      "  _SEX: 0.049533734279837816\n",
      "  _MICHD: 0.03946728490894508\n",
      "  _EDUCAG: 0.03197525361978724\n",
      "  _FRTLT1A: 0.02960116607354173\n",
      "  _RFDRHV7: 0.029029739101836788\n",
      "  _RACE: 0.027520248785880184\n",
      "  _BMI5CAT: 0.02747736066797396\n",
      "  _MENT14D: 0.025887036039715147\n",
      "  _PHYS14D: 0.024446030081562813\n",
      "  _RFBMI5: 0.02342687892597176\n",
      "  _RFHLTH: 0.021763368271458052\n",
      "  _INCOMG1: 0.021160969526398992\n",
      "  _VEGLT1A: 0.016127734367114305\n",
      "  _AIDTST4: 0.008313578954389608\n",
      "  _TOTINDA: 0.0\n",
      "_RFCHOL3:\n",
      "  _AGE_G: 0.2095909144184728\n",
      "  _RFHYPE6: 0.20679772316732292\n",
      "  _MICHD: 0.16815297123566464\n",
      "  _HCVU652: 0.14602203365329747\n",
      "  _RFBMI5: 0.11111372421359493\n",
      "  _RFHLTH: 0.09291320987420845\n",
      "  _CHOLCH3: 0.09180814278143222\n",
      "  _BMI5CAT: 0.08194833448390741\n",
      "  _PHYS14D: 0.07530743213427221\n",
      "  _SMOKER3: 0.06937518939687554\n",
      "  _TOTINDA: 0.05394259920127644\n",
      "  _INCOMG1: 0.05033138057440106\n",
      "  _RACE: 0.04448004831956392\n",
      "  _HLTHPLN: 0.04303841520117264\n",
      "  _RFBING5: 0.04251037825408345\n",
      "  _AIDTST4: 0.04057477330208641\n",
      "  _MENT14D: 0.025464141334490036\n",
      "  _VEGLT1A: 0.024945459521937777\n",
      "  _EDUCAG: 0.02416743851045223\n",
      "  _FRTLT1A: 0.02407600166702732\n",
      "  _SEX: 0.020334594925421456\n",
      "  _RFDRHV7: 0.014001520324039696\n",
      "_MICHD:\n",
      "  _AGE_G: 0.21630579617609447\n",
      "  _RFHLTH: 0.21363829499934134\n",
      "  _RFHYPE6: 0.1998822699273013\n",
      "  _HCVU652: 0.18892458252528632\n",
      "  _RFCHOL3: 0.16815297123566464\n",
      "  _PHYS14D: 0.1595436705745347\n",
      "  _INCOMG1: 0.11158202893663714\n",
      "  _SMOKER3: 0.10971370422371139\n",
      "  _TOTINDA: 0.09957980413088452\n",
      "  _EDUCAG: 0.0808153177654357\n",
      "  _SEX: 0.07242768805490152\n",
      "  _RFBING5: 0.06227634528516087\n",
      "  _MENT14D: 0.05246971284832731\n",
      "  _RACE: 0.049037152102378585\n",
      "  _BMI5CAT: 0.043713033150034476\n",
      "  _CHOLCH3: 0.03946728490894508\n",
      "  _RFBMI5: 0.03804187124883185\n",
      "  _AIDTST4: 0.03443093117396074\n",
      "  _VEGLT1A: 0.02939600374108021\n",
      "  _RFDRHV7: 0.026579771450664473\n",
      "  _HLTHPLN: 0.023761559432600807\n",
      "  _FRTLT1A: 0.014124366528096708\n",
      "_SMOKER3:\n",
      "  _HCVU652: 0.12495540329553782\n",
      "  _EDUCAG: 0.1145215848149265\n",
      "  _MICHD: 0.10971370422371139\n",
      "  _AGE_G: 0.10858918801837908\n",
      "  _RFHLTH: 0.10057197701484735\n",
      "  _INCOMG1: 0.09732210233918918\n",
      "  _RFBING5: 0.09168508272229992\n",
      "  _RFDRHV7: 0.09121744077591848\n",
      "  _TOTINDA: 0.08640726896690366\n",
      "  _RFHYPE6: 0.08391948081573296\n",
      "  _AIDTST4: 0.08062621309373905\n",
      "  _MENT14D: 0.0764505797086261\n",
      "  _FRTLT1A: 0.07244228516040423\n",
      "  _SEX: 0.07039820414293561\n",
      "  _RACE: 0.07020796252442162\n",
      "  _PHYS14D: 0.06985201978885337\n",
      "  _RFCHOL3: 0.06937518939687554\n",
      "  _CHOLCH3: 0.06268917811925308\n",
      "  _HLTHPLN: 0.05618860796758344\n",
      "  _RFBMI5: 0.04633909252862637\n",
      "  _VEGLT1A: 0.04367425377160284\n",
      "  _BMI5CAT: 0.03400219846827467\n",
      "_RFBING5:\n",
      "  _RFDRHV7: 0.5742777468111351\n",
      "  _AGE_G: 0.15849860071464336\n",
      "  _HCVU652: 0.12991356593431772\n",
      "  _SEX: 0.09859678588069172\n",
      "  _SMOKER3: 0.09168508272229993\n",
      "  _INCOMG1: 0.09124363499258806\n",
      "  _FRTLT1A: 0.07715134370588378\n",
      "  _MENT14D: 0.07373321434795055\n",
      "  _VEGLT1A: 0.06850946722256404\n",
      "  _MICHD: 0.06227634528516088\n",
      "  _AIDTST4: 0.05842664053193804\n",
      "  _PHYS14D: 0.05024061790337512\n",
      "  _CHOLCH3: 0.0498040406720533\n",
      "  _RFHYPE6: 0.04726054930981199\n",
      "  _RFCHOL3: 0.04251037825408345\n",
      "  _RACE: 0.04027981632347155\n",
      "  _RFHLTH: 0.040040450087126825\n",
      "  _TOTINDA: 0.03881136371051177\n",
      "  _HLTHPLN: 0.03471115861574111\n",
      "  _EDUCAG: 0.032807082126146844\n",
      "  _BMI5CAT: 0.015778997483872705\n",
      "  _RFBMI5: 0.015073485705989672\n",
      "_RFDRHV7:\n",
      "  _RFBING5: 0.5742777468111351\n",
      "  _SMOKER3: 0.09121744077591847\n",
      "  _INCOMG1: 0.07033052541613223\n",
      "  _VEGLT1A: 0.06880145786633995\n",
      "  _FRTLT1A: 0.065454297799917\n",
      "  _RACE: 0.04538946980079897\n",
      "  _MENT14D: 0.045203352850683665\n",
      "  _HCVU652: 0.03954008963578854\n",
      "  _AGE_G: 0.037153336090860335\n",
      "  _EDUCAG: 0.033977940118562845\n",
      "  _SEX: 0.02923398409430249\n",
      "  _CHOLCH3: 0.029029739101836788\n",
      "  _HLTHPLN: 0.028471559116438915\n",
      "  _PHYS14D: 0.027919003212383605\n",
      "  _MICHD: 0.026579771450664473\n",
      "  _AIDTST4: 0.025234583203713475\n",
      "  _RFHLTH: 0.020303714527265385\n",
      "  _RFBMI5: 0.01911288332534394\n",
      "  _BMI5CAT: 0.01823064394797814\n",
      "  _TOTINDA: 0.018141855648807406\n",
      "  _RFCHOL3: 0.014001520324039696\n",
      "  _RFHYPE6: 0.013186443862152933\n",
      "_AIDTST4:\n",
      "  _AGE_G: 0.20708505535551572\n",
      "  _HCVU652: 0.1829835284142059\n",
      "  _RACE: 0.13832477447975616\n",
      "  _MENT14D: 0.10013423439921575\n",
      "  _SMOKER3: 0.08062621309373905\n",
      "  _INCOMG1: 0.07550759640078651\n",
      "  _RFBING5: 0.05842664053193804\n",
      "  _PHYS14D: 0.045866544006086266\n",
      "  _RFHYPE6: 0.044493778526897884\n",
      "  _RFCHOL3: 0.04057477330208641\n",
      "  _HLTHPLN: 0.03816117448744557\n",
      "  _MICHD: 0.03443093117396074\n",
      "  _RFHLTH: 0.03235917549083652\n",
      "  _BMI5CAT: 0.031768246680280804\n",
      "  _EDUCAG: 0.03164167409667444\n",
      "  _RFBMI5: 0.029822373380535793\n",
      "  _RFDRHV7: 0.025234583203713475\n",
      "  _FRTLT1A: 0.016631080436661904\n",
      "  _TOTINDA: 0.013873903018422779\n",
      "  _VEGLT1A: 0.013148774358180383\n",
      "  _SEX: 0.011494045366991728\n",
      "  _CHOLCH3: 0.008313578954389608\n",
      "_FRTLT1A:\n",
      "  _VEGLT1A: 0.3497812043723713\n",
      "  _TOTINDA: 0.0828857341163244\n",
      "  _EDUCAG: 0.07946237424182954\n",
      "  _RFBING5: 0.07715134370588378\n",
      "  _SMOKER3: 0.07244228516040423\n",
      "  _INCOMG1: 0.07033141664649455\n",
      "  _RFBMI5: 0.06961202956146942\n",
      "  _RFDRHV7: 0.065454297799917\n",
      "  _BMI5CAT: 0.06327991222086313\n",
      "  _MENT14D: 0.05816526783483396\n",
      "  _SEX: 0.056817376729589586\n",
      "  _AGE_G: 0.05590084458572916\n",
      "  _HCVU652: 0.05380370473882116\n",
      "  _PHYS14D: 0.046677185202963725\n",
      "  _RFHLTH: 0.041714917712912046\n",
      "  _RACE: 0.03415122589867544\n",
      "  _HLTHPLN: 0.030362616703895957\n",
      "  _CHOLCH3: 0.02960116607354173\n",
      "  _RFCHOL3: 0.02407600166702732\n",
      "  _RFHYPE6: 0.022814793849226193\n",
      "  _AIDTST4: 0.016631080436661904\n",
      "  _MICHD: 0.014124366528096708\n",
      "_VEGLT1A:\n",
      "  _FRTLT1A: 0.3497812043723713\n",
      "  _INCOMG1: 0.11733610335750481\n",
      "  _EDUCAG: 0.11298520332434593\n",
      "  _TOTINDA: 0.10502479067504433\n",
      "  _RACE: 0.09092335765428111\n",
      "  _RFDRHV7: 0.06880145786633995\n",
      "  _PHYS14D: 0.06855089609141606\n",
      "  _RFBING5: 0.06850946722256404\n",
      "  _RFHLTH: 0.06726165464569893\n",
      "  _MENT14D: 0.059897925636334254\n",
      "  _SEX: 0.0496040954643402\n",
      "  _HLTHPLN: 0.04714693698157233\n",
      "  _SMOKER3: 0.04367425377160284\n",
      "  _HCVU652: 0.04302335070099706\n",
      "  _AGE_G: 0.036906026840996614\n",
      "  _RFBMI5: 0.03556357986685795\n",
      "  _BMI5CAT: 0.03284109066084437\n",
      "  _MICHD: 0.02939600374108021\n",
      "  _RFHYPE6: 0.02783074985121571\n",
      "  _RFCHOL3: 0.024945459521937777\n",
      "  _CHOLCH3: 0.016127734367114302\n",
      "  _AIDTST4: 0.013148774358180383\n",
      "_INCOMG1:\n",
      "  _EDUCAG: 0.21736483137323562\n",
      "  _HCVU652: 0.20170008737270237\n",
      "  _RFHLTH: 0.19358672080136843\n",
      "  _TOTINDA: 0.16345523503531145\n",
      "  _HLTHPLN: 0.13195709525132313\n",
      "  _PHYS14D: 0.1309032718161978\n",
      "  _SEX: 0.11830634994056119\n",
      "  _VEGLT1A: 0.11733610335750481\n",
      "  _AGE_G: 0.11708373610311748\n",
      "  _MICHD: 0.11158202893663714\n",
      "  _RFHYPE6: 0.10307944758142625\n",
      "  _MENT14D: 0.10089409119423892\n",
      "  _SMOKER3: 0.09732210233918917\n",
      "  _RACE: 0.09175380165482222\n",
      "  _RFBING5: 0.09124363499258806\n",
      "  _AIDTST4: 0.07550759640078651\n",
      "  _RFBMI5: 0.07086016971213167\n",
      "  _FRTLT1A: 0.07033141664649455\n",
      "  _RFDRHV7: 0.07033052541613224\n",
      "  _BMI5CAT: 0.06577493156643704\n",
      "  _RFCHOL3: 0.05033138057440106\n",
      "  _CHOLCH3: 0.021160969526398992\n",
      "_EDUCAG:\n",
      "  _INCOMG1: 0.21736483137323562\n",
      "  _TOTINDA: 0.16070175937431813\n",
      "  _RFHLTH: 0.15204789025587417\n",
      "  _RACE: 0.1378512193204756\n",
      "  _HLTHPLN: 0.13159672961177624\n",
      "  _HCVU652: 0.1247839130661196\n",
      "  _SMOKER3: 0.1145215848149265\n",
      "  _VEGLT1A: 0.11298520332434593\n",
      "  _PHYS14D: 0.08319365257361483\n",
      "  _MICHD: 0.08081531776543571\n",
      "  _RFBMI5: 0.08029109092888015\n",
      "  _FRTLT1A: 0.07946237424182954\n",
      "  _RFHYPE6: 0.079185769984511\n",
      "  _MENT14D: 0.07013415426771347\n",
      "  _BMI5CAT: 0.06699213304723627\n",
      "  _AGE_G: 0.06411550152782822\n",
      "  _SEX: 0.03577649407196621\n",
      "  _RFDRHV7: 0.033977940118562845\n",
      "  _RFBING5: 0.032807082126146844\n",
      "  _CHOLCH3: 0.03197525361978724\n",
      "  _AIDTST4: 0.03164167409667444\n",
      "  _RFCHOL3: 0.024167438510452232\n",
      "_RFBMI5:\n",
      "  _BMI5CAT: 0.9999940327186039\n",
      "  _RFHYPE6: 0.17903924349608533\n",
      "  _AGE_G: 0.1139071986410422\n",
      "  _SEX: 0.11285530566352975\n",
      "  _RFCHOL3: 0.11111372421359493\n",
      "  _RACE: 0.09997380868084825\n",
      "  _TOTINDA: 0.08657332559513206\n",
      "  _EDUCAG: 0.08029109092888016\n",
      "  _INCOMG1: 0.07086016971213167\n",
      "  _FRTLT1A: 0.06961202956146942\n",
      "  _RFHLTH: 0.0684755915778215\n",
      "  _PHYS14D: 0.05002285790132909\n",
      "  _SMOKER3: 0.04633909252862637\n",
      "  _MICHD: 0.03804187124883185\n",
      "  _HCVU652: 0.03626961675601535\n",
      "  _VEGLT1A: 0.03556357986685795\n",
      "  _AIDTST4: 0.029822373380535793\n",
      "  _MENT14D: 0.02714307781069763\n",
      "  _CHOLCH3: 0.02342687892597176\n",
      "  _RFDRHV7: 0.01911288332534394\n",
      "  _HLTHPLN: 0.01765441943785564\n",
      "  _RFBING5: 0.015073485705989672\n",
      "_BMI5CAT:\n",
      "  _RFBMI5: 0.9999940327186039\n",
      "  _RFHYPE6: 0.1497490469743976\n",
      "  _SEX: 0.1335238702774991\n",
      "  _TOTINDA: 0.10197707640902942\n",
      "  _RFHLTH: 0.09770966470060749\n",
      "  _RFCHOL3: 0.08194833448390741\n",
      "  _AGE_G: 0.07622029817115206\n",
      "  _RACE: 0.06963210499750819\n",
      "  _EDUCAG: 0.06699213304723628\n",
      "  _PHYS14D: 0.06594503808907168\n",
      "  _INCOMG1: 0.06577493156643704\n",
      "  _FRTLT1A: 0.06327991222086311\n",
      "  _MENT14D: 0.05038990206022836\n",
      "  _HCVU652: 0.04791869653059837\n",
      "  _MICHD: 0.043713033150034476\n",
      "  _SMOKER3: 0.034002198468274666\n",
      "  _VEGLT1A: 0.03284109066084437\n",
      "  _AIDTST4: 0.031768246680280804\n",
      "  _CHOLCH3: 0.02747736066797396\n",
      "  _RFDRHV7: 0.01823064394797814\n",
      "  _HLTHPLN: 0.01785023249549455\n",
      "  _RFBING5: 0.015778997483872705\n",
      "_AGE_G:\n",
      "  _HCVU652: 0.6719814604377053\n",
      "  _RFHYPE6: 0.24942280058959576\n",
      "  _MICHD: 0.21630579617609447\n",
      "  _RFCHOL3: 0.20959091441847277\n",
      "  _AIDTST4: 0.20708505535551572\n",
      "  _RFBING5: 0.15849860071464336\n",
      "  _MENT14D: 0.14342705563066327\n",
      "  _HLTHPLN: 0.12379677865686037\n",
      "  _INCOMG1: 0.1170837361031175\n",
      "  _RFBMI5: 0.1139071986410422\n",
      "  _RACE: 0.11362212547030479\n",
      "  _SMOKER3: 0.10858918801837908\n",
      "  _CHOLCH3: 0.10645887681532713\n",
      "  _RFHLTH: 0.07929579365029235\n",
      "  _TOTINDA: 0.0783327682493448\n",
      "  _BMI5CAT: 0.07622029817115206\n",
      "  _PHYS14D: 0.06599047070433955\n",
      "  _EDUCAG: 0.06411550152782823\n",
      "  _FRTLT1A: 0.05590084458572916\n",
      "  _SEX: 0.05201261096512566\n",
      "  _RFDRHV7: 0.037153336090860335\n",
      "  _VEGLT1A: 0.036906026840996614\n",
      "_SEX:\n",
      "  _BMI5CAT: 0.13352387027749912\n",
      "  _MENT14D: 0.12864226813428914\n",
      "  _INCOMG1: 0.11830634994056119\n",
      "  _RFBMI5: 0.11285530566352978\n",
      "  _RFBING5: 0.09859678588069173\n",
      "  _MICHD: 0.07242768805490152\n",
      "  _SMOKER3: 0.07039820414293561\n",
      "  _RACE: 0.06814335840865235\n",
      "  _TOTINDA: 0.06731317594979579\n",
      "  _PHYS14D: 0.06622007388379528\n",
      "  _FRTLT1A: 0.056817376729589586\n",
      "  _RFHYPE6: 0.05516826042698035\n",
      "  _AGE_G: 0.052012610965125654\n",
      "  _VEGLT1A: 0.0496040954643402\n",
      "  _CHOLCH3: 0.049533734279837816\n",
      "  _HCVU652: 0.04119457802012976\n",
      "  _EDUCAG: 0.0357764940719662\n",
      "  _HLTHPLN: 0.03140156531288751\n",
      "  _RFDRHV7: 0.02923398409430249\n",
      "  _RFCHOL3: 0.020334594925421456\n",
      "  _RFHLTH: 0.018633063685266255\n",
      "  _AIDTST4: 0.011494045366991728\n",
      "_RACE:\n",
      "  _HCVU652: 0.17153582526519806\n",
      "  _HLTHPLN: 0.14313399097653334\n",
      "  _AIDTST4: 0.13832477447975616\n",
      "  _EDUCAG: 0.1378512193204756\n",
      "  _AGE_G: 0.11362212547030479\n",
      "  _RFBMI5: 0.09997380868084825\n",
      "  _INCOMG1: 0.09175380165482222\n",
      "  _VEGLT1A: 0.09092335765428108\n",
      "  _RFHYPE6: 0.0822536312894928\n",
      "  _SMOKER3: 0.0702079625244216\n",
      "  _BMI5CAT: 0.0696321049975082\n",
      "  _SEX: 0.06814335840865235\n",
      "  _RFHLTH: 0.06659320210777403\n",
      "  _TOTINDA: 0.06167080515851505\n",
      "  _MICHD: 0.04903715210237858\n",
      "  _RFDRHV7: 0.04538946980079898\n",
      "  _RFCHOL3: 0.044480048319563925\n",
      "  _RFBING5: 0.04027981632347156\n",
      "  _MENT14D: 0.03787587235163305\n",
      "  _FRTLT1A: 0.03415122589867544\n",
      "  _PHYS14D: 0.03337471515390333\n",
      "  _CHOLCH3: 0.027520248785880184\n"
     ]
    }
   ],
   "source": [
    "for var1, inner_dict in association_dict.items():\n",
    "    print(f\"{var1}:\")\n",
    "    for var2, association_value in inner_dict.items():\n",
    "        print(f\"  {var2}: {association_value}\")"
   ]
=======
   "outputs": [
    {
     "data": {
      "text/plain": [
       "<Figure size 1200x600 with 5 Axes>"
      ],
      "image/png": "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"
     },
     "metadata": {},
     "output_type": "display_data"
    },
    {
     "data": {
      "text/plain": [
       "<Figure size 1200x600 with 5 Axes>"
      ],
      "image/png": "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"
     },
     "metadata": {},
     "output_type": "display_data"
    },
    {
     "data": {
      "text/plain": [
       "<Figure size 1200x600 with 5 Axes>"
      ],
      "image/png": "iVBORw0KGgoAAAANSUhEUgAABKUAAAJOCAYAAABm7rQwAAAAOXRFWHRTb2Z0d2FyZQBNYXRwbG90bGliIHZlcnNpb24zLjguNCwgaHR0cHM6Ly9tYXRwbG90bGliLm9yZy8fJSN1AAAACXBIWXMAAA9hAAAPYQGoP6dpAADMf0lEQVR4nOzde3zO9f/H8cd1bXYy2jBjCJFhmEVGaOZLITqMVAoxIRslx5HzKXOo2BJyjCJnySGVTk59v9OGtHJIlkM2Noc2m23X74/9dumyzQ5mJ8/77Xbd6nq/P4fX57ou1/Xa6/P+vD8Gk8lkQkREREREREREpAAZCzsAERERERERERG5/6goJSIiIiIiIiIiBU5FKRERERERERERKXAqSomIiIiIiIiISIFTUUpERERERERERAqcilIiIiIiIiIiIlLgVJQSEREREREREZECp6KUiIiIiIiIiIgUOBWlRKTEM5lMhR2CiIiISLGnnEpE8puKUnJfGj16NO7u7lk+du7cWdghljhffPEFvr6+NGjQgPHjx99x2f379xMYGEjr1q3x9PTkySefZObMmVy6dCnX+w0LC6N///55Dfue6dmzJz179rzn+2nbti2jR4++5/tJFxYWxsCBA/H29qZBgwa0adOGMWPGEBUVZbFcz549cXd358UXX8xyW0OHDsXd3T3T+L/55hv69euHt7c3jRo14sknn2TGjBmcP38+w7Lu7u7Mnz8/Q/vvv/9OixYt8PHx4fTp00Da63Wn74ahQ4ea189s2Xr16vHoo4/So0cPvv/+e4v9XblyhQkTJtCqVSu8vLzo3bs3hw8fvuPrKSJS1CmnKnjKqSyVxJwqtzlGdvnL5cuXM12ubt26eHt7M3DgQCIjIy22OX/+fNzd3c3PDx48iLu7O4MGDco05o0bN+Lu7s5ff/1l0Z6SksK6devo2bMnLVu2NOeHQUFBnDx5MsN2hg8fru+S+4x1YQcgUlhcXFwICQnJtK9GjRoFG8x9YPLkydSoUYN33nkHV1fXLJebPXs2H330ER06dGDs2LE4OTnx22+/sXjxYr788ktWrVpF5cqVc7zfdevWZfqDV9gmTJhQIPsJCQnB0dGxQPa1f/9++vXrR/v27Zk2bRplypThzJkzLF26lG7durFu3ToefPBB8/JGo5Hw8HAuXLhApUqVLLYVHx/Pnj17Mt3PpEmT+OSTT3jqqaeYMmUKZcuW5cSJE3z88cds2rSJefPm0bx58zvGevz4cV599VXs7e1ZsWIF1apVM/f5+PhkmXA5OztbPL992eTkZM6cOcOiRYsYNGgQ69evp27duqSmpjJo0CDOnDnD8OHDKV++PMuXL6d3795s2rRJ3zkiUqwppypYyqkslcScCnKeY2S1/L+VLVs20+WSk5O5ePEiS5cupXfv3mzfvp3y5cvfMa6vv/6arVu38vTTT2d7DNevX+f1118nIiKC7t2706dPH8qUKcPp06f5+OOP6dq1Kx999BFNmzY1rxMZGUnnzp0zFBr1XVJyqSgl9y0bGxsaN25c2GHcN+Li4mjZsiXe3t5ZLvPFF1+wePFigoKCePXVV83tzZs3x8fHh+eee45p06ZlmfgWJ7Vr1y6Q/dSvX79A9gPw4Ycf0qhRI9577z1zm7e3Nz4+PrRv355ly5ZZJI7169fnxIkT7Ny50+L9BtizZw/29vYWSRTA6tWr+eSTT3jnnXd47rnnzO3Nmzfn2Wef5bXXXuPNN99k27ZtVKhQIdM4T548Se/evSldujQrVqzAzc3Nor9cuXI5/m7IbNmmTZvi6elJp06d2Lp1K3Xr1uV///sf//vf/1i4cCFt2rQxL9e8eXM2bNjAsGHDcrQ/EZGiSDlVwVJOZakk5lSQ8xzjTsvndLsNGzakXbt27Ny5k5dffvmO65ctW5Zp06bx2GOPZZlrpZs2bRo///wzq1atstjno48+ytNPP02PHj0YN24cO3bsACAxMZE//viD3r176zvlPqLL90TuoGfPngwfPpwhQ4bQuHFj+vTpA6R9YQYHB+Pj40ODBg3o0qUL27dvt1g3NTWV0NBQ2rRpg6enJwMHDmTHjh0Ww1pHjx5N27ZtLdb766+/cHd3Z+PGjea2uLg4xo8fz2OPPUbDhg3p3r07+/fvt1jP3d2d1atXM3bsWJo1a4aXlxdvvPEGMTExFstt3ryZ5557Dk9PT9q0acOcOXNISkri+PHjuLu7s3btWovlz58/T7169di6dWuWr9ORI0fw9/fH29ubRx55hIEDB3L8+HHg1lBfgNDQ0EyH9aZbtGgRtWvXpnfv3hn6atSowYgRI/Dy8jLPZ3D58mUmTZpkHsLerFkzAgICLF7fTZs2cfbsWYvXNCfv382bN5k9ezaPP/44jRo1wt/fn82bN2eIf+/evfTo0YMmTZrg7e3NsGHDLC4h27hxI/Xr12fdunW0bNmSZs2aceLEiQxDzVNTU1m0aBHt27enQYMGPPnkk3z88ccWMZ05c8Z8aZynpycvvPAC3333XZbvC1gONU//bO3YsYMhQ4bg5eVFs2bNePvtt4mPj7/jdnIiJiYm07kmKlasyNtvv03Lli0t2h0cHPDx8cl0OPb27dt58sknsba+de4kJSWFBQsW0KpVK4uCVDpHR0emTp1KbGwsq1evzjTGkydP0qtXL8qUKcOqVasyFKTyS3oxzWAwANCgQQPWrFlj8RqUKlUKg8FAYmLiPYlBRKQoUU6lnEo5Vf64PcfIDw888ECOlx06dCjx8fFMnDjxjsudPXuWTZs20atXr0wLTLa2tgwdOpQGDRpw7do1IG1qheTkZOrVq5eb8KWYU1FK7mvJyckZHrf/Ub1jxw5Kly7NggUL6NevHyaTiYCAANasWUOfPn1YsGABXl5eDB06lM2bN5vXCw4O5oMPPqBr167Mnz+fsmXL5ml4cWJiIr179+brr79m6NChhISEUKlSJfr165chiXr33XdJTU1l7ty5jBw5kj179jB9+nRz/+rVqxk1ahQeHh6EhITQv39/Pv74Y6ZOncrDDz+Mp6cnW7Zssdjm5s2bcXBw4Iknnsg0vgMHDvDSSy8BMH36dKZOncr58+d58cUXOXnyJB4eHuakrFu3bqxdu5aKFStm2E50dDSRkZG0adMmyx/ZHj164O/vj8FgwGQyMWDAAPbu3cvw4cNZsmQJgYGB7N+/3/w6Dxo0CB8fH1xcXFi7di1t2rTJ8fs3fvx4VqxYwSuvvEJoaCgVKlRg3LhxGV6bvn37UrlyZebOnUtQUBA///wzL7zwgsVcDSkpKSxdupRp06YRFBRErVq1MhzbxIkTmTdvHk8//TQffvghHTp0YPr06YSGhgJpCdaAAQNISEgwf7acnJx4/fXX+fPPPzN9vbIyYcIEqlSpwgcffIC/vz/r169nwYIFudpGZtq0acPPP/9Mz549Wb9+vcU8Us8//zzt2rXLsE6nTp3Ml/Clu379Ot9//z2dO3e2WPbXX38lOjo6wx8d/1arVi3q1q3L119/naHv1KlT9O7dG0dHR1atWpXlJQ8mkynT74bk5ORsl01ISCAyMpJRo0ZRqlQp8zE4ODjg5eVFqVKlSE5O5vTp04waNQqTyYSfn1+WxyMiUlwop1JOpZwq/3IqyHmOkdXyOcldkpKSOHfuHNOmTaNChQp07Ngx27hq1arF4MGD2b17N9u2bctyua+//hqTyZQhzn9r1aoVs2bNokyZMgDmea3WrVtHq1ataNCgAT169CAiIiLbuKT40uV7ct86e/YsHh4eGdqHDRtmMYljqVKlmDRpEjY2NkDaWZwffviBd999l06dOgHQunVrEhISmD17Np07d+aff/5h1apV9OrVi8GDBwPw+OOP06dPH/bt25erOLds2UJkZCSfffYZnp6e5m317NmT2bNns2HDBvOyderUYcaMGebnhw8fNo9CST/L2K5dO6ZOnWpeJiEhgS+++IKbN2/StWtXJkyYQFRUlHmOnc2bN/PUU09hZ2eXaXxz5syhevXqLFq0CCsrKyDtB6Z9+/bMmzeP999/33x2pFKlSlkOxU0/E1a1atUcvS4XL17E3t6eUaNGma9D9/b25syZM+aE7cEHH6RcuXIWlxXk5P07d+4cmzZtYtSoUeYzua1btyYmJoYff/zR/HrOnj2bVq1aMWfOHHNcjzzyCJ06dWLJkiWMHDnS3D5w4EDzZVu3++OPP/jss8946623zJ+9Vq1aYTAYWLhwIT169CA5OZlTp06Zk0KARo0aERISQlJSUo5es3Q+Pj6MGjUKgBYtWrB3716+/fbbu76E7I033uDatWusX7+en376CUh7z318fHj11Vd56KGHMqzTpk0b7O3tLS7h2717N+XLl6dJkyYWy6afTc3uM1K9enX27t1r0Xb69Gl69epFTEwMN2/eJDU1Ncv1N2/ebJFM/9v69etp2LDhHZe1tramQYMGLFmyJNMzfZMnTzZ/RocMGWIx9F5EpDhSTpVGOZVyqvzKqSD3OUZW+cvatWstPiuZLWcwGJg1axblypXLUWz+/v7s3r2bKVOm0Lx580wv4ztz5gyQcS6o1NTUDHmYlZUVBoOBX3/9FUj7tzRnzhzi4uJYtGgRvXr1Yu3atcqZSigVpeS+5eLikumZjNsnXH7ooYfMyROkTeZsMBjw8fGxOPvQtm1btm7dyvHjx7l48SI3b97kP//5j8W2nn766VwnUPv378fFxQUPDw+L/fn6+hIcHMyVK1fMQ25vT04qVapEQkICkPYjfenSJdq3b2+xjL+/P/7+/gA89dRTzJgxgy1bthAYGMihQ4c4ffo077zzTqaxxcfHc+TIEQIDA83JE6QNK/b19c12GPS/pV+mdadiwb+5urqycuVKTCYTf/31F3/++SenTp3i0KFDd0wocvL+HT16FJPJRIcOHSzW7dy5szmB+uOPP4iOjs6QdDz44IN4eXmZizLp7jQM+cCBA5hMJtq2bZshpgULFhAWFsZ//vMfateuzbhx4/jxxx9p1aoVjz/+OEFBQdm/WLfJ7HNy9uzZXG/ndjY2NkyePJnBgwfz3XffceDAAQ4ePMjatWvZuHEjc+fOzXB22M7OjrZt21oUpb744gs6duyY4exu+hn3f1/SlxkrK6sMZ+e3bdtGgwYNePfdd+nbty8jRoxg+fLlGI0ZBwz7+voSEBCQ6bZvn7fi38ueOXOGWbNm4erqSkhICC4uLpluo1u3bjz11FN89913zJ8/n5s3b/Lmm2/e8ZhERIoy5VRplFOlUU519zkV5D7HyCp/uX002b+XM5lMXL58mR07djB8+HASEhLo3r17trFZWVkxY8YMnnvuOSZNmpTpXY4zm9IBYOTIkXz++ecWbTNmzMDPz49XXnkFX19fWrdube5r0aIFTzzxBB9++KHFvKVScqgoJfctGxsbixEPWSldurTF87i4OEwmE4888kimy1+8eJErV64AZDjbcKc7pGQlLi6O6OjoTM9AQtoQ7fQEyt7e3qLPaDSafxDi4uIA7nhHDUdHRzp06MDWrVsJDAxk8+bN1KxZEy8vr0yXv3btGiaTKdOzIxUqVDBfH54TlStXxmAw3PGH/MqVK1hbW5vfk61btzJ37lzOnz+Pk5MT9erVy/LsY7qcvH/pt829/bX69/P01zOrYz927JhFm4ODwx1jgrQENjN///03BoOBpUuXsmDBAnbv3s3mzZspVaoU7dq1Y9KkSbmaC+BOn5P84OLiQrdu3ejWrRuQliCOGDGCiRMn0q5duwyFoI4dOxIYGMiFCxewtbVl//79mRZpqlSpApBtshcVFWVeNp2HhwfLly+nTJkyDB06lJkzZ/Lhhx9mepcaJyenHH033L5sw4YNcXd3p2vXrrz22mt89tlnFn98pWvUqBGQdhY6NjaWJUuWEBAQQKlSpXK0TxGRokY5VUbKqZRT3a3c5hg5zV8yW65NmzZcvHiRWbNm0bVrV4vCaFZq165NYGAgc+fO5YsvvsjQnz5v59mzZ3n44YfN7W+88YZ5rrPo6Ghef/11c99DDz2UYWR92bJleeSRR8yX9knJo6KUSC6VKVMGBwcHVq5cmWl/9erVzdc9X7p0yeKLNf2HMp3BYCAlJcWi7fbJEcuUKUONGjWYPXt2pvvL6dDs9EkR05ODdLGxsRw7dgwvLy8cHBzo2rUrmzZt4vDhw+zatct8xi8zZcqUwWAwZJj4E9J+ZJycnHIUG4CzszMeHh788MMPjBgxItM5EEJCQlizZg179uwxz8nTs2dP/P39zclpcHAwYWFhd4w5u/cvNjYWSJu4+98TYf/7tUs/tqyO3dnZOfuD/n/p782KFSsyJOxw60fd1dWViRMnMmHCBCIjI9m5cyeLFy/G2dm5wG6HnJWIiAhef/11Zs2alWFC8+bNm+Pv78+MGTOIjY3NkJg+/vjjlC5dmp07d+Lg4EDVqlVp0KBBhn00aNCAihUrsnPnzizP4kVFRXHs2DFee+01i3ZfX1/zfAV9+vRhz549hIaG0rx58yyT6byoXbs2Q4YMITg4mJCQEN566y0ATpw4QUREBF27drVY3sPDg40bNxIXF5flyCoRkZJKOZVlbMqplFPdSVY5Rn5p0KAB+/btIzY2Ntu76qXr168fX375JVOmTMnw+W7bti3BwcHs3LnToihVrVo18yWtt0/Uv337dsqWLUurVq0s2hMTE3N8aaEUP5roXCSXmjVrRnx8PCaTiYYNG5ofv//+O6GhoSQnJ+Pl5WWeJ+ffvvnmG4vnpUuXJjY21uLuW7f/+Ddr1ozz589Tvnx5i/3t3buXjz76KEdnMiDtzIOzszN79uyxaN+yZQv9+/fn5s2bQNotWmvUqMGsWbO4du0azzzzTJbbdHBwoEGDBuzYscMiEbx27RrffvtthjmBsuPv78/vv//OqlWrMvSdOHGCDRs2mG8/+/PPP5OamsrgwYPNyVNKSop5KH/6kPXbR+Xk5P1r0qQJVlZW7N6922LdL7/80vz/NWvWxMXFJcMEj1FRUYSHh+eq0JE+f0NsbKxFTJcvX+b9998nLi6On3/+mccee4zDhw9jMBioV68eQ4cOpU6dOpw7dy7H+7pXatSoQUJCAitXrsz0coE//vgDFxeXTBMKGxsb2rVrx65du9ixY0eWZzeNRiOBgYHs3buXTz/9NEP/jRs3GDNmDGXKlKFHjx5ZxmowGJg5cyb29vYMHz6cq1ev5uJIs9e7d2/q1KnD0qVLOX36NABHjx5lzJgx/PzzzxbL/vjjj7i4uNzxbLuISEmlnOoW5VTKqXIisxwjvxw5coQHHnggV0VAKysr3nnnHa5fv87ChQst+mrWrEnnzp356KOPCA8Pz3T99DtLpluzZg0TJkywuGz077//5tChQ3h7e+f8YKRY0UgpkVzy8fHh0UcfZdCgQQwaNIhatWpx+PBh5s2bR+vWrc1/dAcEBDB37lzs7Oxo0aIFP/zwQ4Zb5Pr6+vLxxx8zduxYunXrxu+//86yZcsskiI/Pz9WrVpFnz59GDhwIJUrV2bfvn0sXryYV155JceX/FhZWTF48GAmT55M+fLladu2LX/88Qfz5s3j5Zdfthiq3LVrV+bMmcPjjz+e7fD4YcOG4e/vT//+/enRowc3b95k0aJFJCUlZTkvT1Y6derEvn37mDp1KhEREXTo0AEHBwcOHz7MsmXLcHZ2Nk8omn4J1OTJk+natStXrlxh9erV5qG98fHxODo6UrZsWWJiYvjuu++oV69ejt6/cuXK0bVrV+bOncvNmzepW7cuu3fvNiefRqMRo9HIW2+9RVBQEMOGDePpp58mNjaWkJAQHnjgAfNknjnh7u7O008/zbhx4zh79iwNGjTgjz/+4N1336Vq1arUqFGD5ORk7OzsGDlyJIMHD6ZChQrs27ePX3/9lV69euXqdb4XHnjgAUaNGsWECRPo0aMH3bt3p1q1aly7do3du3ezadMmZs+eneVdgDp16sSAAQMwGo28/fbbWe7nhRde4OTJk0ycOJH//ve/dOrUiQceeIBTp06xYsUKoqOjee+997L93Lq5uTFu3DhGjhzJ22+/zbx588x9ly9fzjJ5srKyynZovLW1NWPGjOHVV19l+vTpLFq0iCeffJIlS5YwbNgw3njjDcqVK8fnn3/Onj17mDlzZqZzW4mIlHTKqSwpp1JOlZ3Mcozcuj3PSUhIYPPmzezfv5+33norx8XZdA8//DABAQGZzvc0adIkrly5wiuvvMIzzzzD448/Trly5Th79iy7du1iz549PPTQQ+bP4KBBg+jTpw+DBg2iV69eXLlyhZCQEJycnOjbt2+uj1WKBxWlRHLJaDSyaNEi3n//fRYuXMilS5dwdXWlT58+FgnDa6+9RunSpVm6dCkrV66kSZMmDBw40Hw7WoCWLVsyatQoPv74Y3bt2mW+rfCLL75oXsbBwYHVq1czZ84c85m2KlWqMGzYsFx/Ob/88ss4ODiwZMkS1q5dS6VKlXjttdcyXOrk4+PDnDlzcnSr+hYtWrBs2TLmzZvHW2+9hY2NDU2bNmXmzJkWQ3VzaurUqXh7e/PZZ58xfvx4/vnnH9zc3Hj++efx9/c3n73x9vZm/PjxLFu2jJ07d1KhQgW8vb0JCQkhICCAsLAwfHx88PPz47vvviMgIIAhQ4bQv3//HL1/48aNw8HBgaVLl3L9+nVatGjB66+/TmhoqHkuAz8/P0qXLs3ChQsJCAjA0dGR1q1b89Zbb+X6UqwZM2awcOFC1qxZw4ULFyhfvjydOnXizTffxMrKCisrK5YuXcqcOXOYNm0aV69epUaNGkyePDlH71NBePHFF6levTorV65k7ty5xMXFUbp0aRo1asSKFSvueIbrscceo2zZslSuXDnT2zv/25gxY2jdujWrV69m4sSJXL16lcqVK9OmTRt69+5tcXnAnTzzzDPs2bOHHTt2sHbtWl544QUAvvvuuywnlC1Tpgz/+9//st12ixYtePLJJ80Jl6+vL8uWLePdd99l9uzZxMXF4e7uzgcffJBh8l4RkfuFcipLyqmUU+VEZjlGbtye5zg4OFCzZk3zicW8eO2119i9eze//PKLRbujoyOLFy9mx44dbN68mSlTphAXF8cDDzxAw4YNCQ4OpmPHjuaCcPPmzVm6dCnz589n6NChGI1GWrduzfDhw83TMEjJYzDl5+y2InJHGzduJCgoiK+//jrH8xYUhkWLFrF8+XK+/fbbTCdqLuni4uL4/vvvad26tcUQ5pkzZ7Jx40YOHjxYiNGJiIiIcqriQTmViGRHI6VExGzTpk38/vvvfPLJJwwaNOi+TJ4g7U4q06ZNo169evTu3RsHBwfCw8NZtWoVAwYMKOzwClRqamqObimdfvtpERERUU6VTjnVLcqpRDKnT7yImEVGRrJmzRrat29/X1+3bWtry/Lly3nvvfcYPXo0CQkJPPjgg4waNYqXX365sMMrUGPGjGHTpk3ZLvfbb78VQDQiIiLFg3KqNMqpblFOJZI5Xb4nIiJZ+uuvv8y3c76T7Cb/FhEREbmfKacSyZyKUiIiIiIiIiIiUuB0D2oRERERERERESlwKkqJiIiIiIiIiEiBU1FKREREREREREQKnIpSIiIiIiIiIiJS4KwLOwCApKQk/Pz8GDduHN7e3gBERUUxbtw4wsPDcXNzY8yYMbRq1cq8zr59+5g+fTpRUVF4enoybdo0qlWrZu5fvnw5S5Ys4fr163Ts2JFx48Zhb28PQGJiIpMmTeLLL7/Ezs6Ovn37WtyqNbt959SlS9fQNPIiIiLFm8EA5cuXKeww7hvKn0RERIq/nOZPhV6USkxMZNiwYRw/ftzcZjKZCAgIoE6dOmzYsIGvvvqKwMBAtm/fjpubG+fOnSMgIIDBgwfTunVrQkNDGTRoEFu3bsVgMLBr1y5CQkKYNWsW5cuXJygoiFmzZjF+/HgAgoODOXr0KCtWrODcuXOMGjUKNzc3OnTokO2+c8NkQkmViIiISC4ofxIREbl/FOrleydOnKB79+6cOXPGov3AgQNERUUxefJkatWqxYABA2jcuDEbNmwAYN26dTRo0IC+ffvy8MMPM2PGDM6ePctPP/0EwMqVK+nduze+vr40atSISZMmsWHDBhISEoiPj2fdunWMHTsWDw8P2rdvT79+/Vi9enWO9i0iIiIiIiIiInevUItSP/30E97e3qxdu9aiPSIigvr16+Pg4GBua9KkCeHh4eb+pk2bmvvs7e3x8PAgPDyclJQUjhw5YtHfuHFjbt68SWRkJJGRkSQnJ+Pl5WWx7YiICFJTU7Pdt4iIiIiIiIiI3L1CvXyvR48embZHR0dTsWJFi7by5ctz4cKFbPuvXr1KYmKiRb+1tTVOTk5cuHABo9GIs7MzNjY25v4KFSqQmJhIXFxctvsWEbmfGY0GjEZDYYdRbKWmmkhN1XVJIveSvqckM/r+FREpmgp9TqnMJCQkWBSNAGxsbEhKSsq2/8aNG+bnmfWbTKZM+yBtwvXs9p0bBuVDIlKCGI0GnJ0cMBh149a8MqWmEhsXrz+Mihn9nhcfRqMBZ2cHjPqektukpqYSG6vvXxGRoqZIFqVsbW2Ji4uzaEtKSsLOzs7cf3uRKCkpibJly2Jra2t+fnu/vb09KSkpmfYB2NnZZbvv3NCdekSkJLq6YzMpl2MKO4xix6pcBcp2fJZy5RwLOxSREittlJSRr05GEnsjvrDDkSLC2c6BdrXqYjQaVJQSESliimRRytXVlRMnTli0xcTEmC+rc3V1JSYmJkN/vXr1cHJywtbWlpiYGGrVqgVAcnIycXFxuLi4YDKZiI2NJTk5GWvrtMOPjo7Gzs6OsmXLZrvv3NAtjUWkJLGyMuLsXJqUyzEkX9QlzXkVG/sPKSmphR2G5EJOb2ksRUfsjXhi4q8XdhgiIiKSjSJZlPL09GTRokXcuHHDPEIpLCyMJk2amPvDwsLMyyckJHDs2DECAwMxGo00bNiQsLAwvL29AQgPD8fa2pq6desCaXNMhYeHmydDDwsLo2HDhhiNxmz3nRu6pbGIiGRGvw0iIiIiIoV8972sNGvWjMqVKxMUFMTx48dZtGgRhw8fplu3bgB07dqVQ4cOsWjRIo4fP05QUBBVq1Y1F6F69OjBkiVL+Oqrrzh8+DATJ06ke/fu2NvbY29vz7PPPsvEiRM5fPgwX331FUuXLqVXr1452reIiIiIiIiIiNy9IlmUsrKy4oMPPiA6Oho/Pz+2bt1KaGgobm5uAFStWpX58+ezYcMGunXrRlxcHKGhoRj+fybSp556igEDBjB+/Hj69u1Lo0aNGDFihHn7QUFBeHh40Lt3byZNmsTgwYN54okncrRvERERERERERG5ewaTSRcR3CsxMZpTSkRKDmvrtDmlYld/pDml8sC6YiWcX+5HbOw/JCdrTqnixGCAChU0p1RBuZv8Kf17at0vhzSnlJhVcHDkeY9H9P0rIlKAcpo/FcmRUiIiIiIiIiIiUrKpKCUiIiIiIiIiIgVORSkRERERERERESlwKkqJiIiIiIiIiEiBU1FKREREREREREQKnIpSIiIiIiIiIiJS4FSUEhERERERERGRAqeilIiIiIiIiIiIFDgVpUREREREREREpMCpKCUiIiIiIiIiIgVORSkRERERERERESlwKkqJiIiIiIiIiEiBU1FKREREREREREQKnIpSIiIiIiIiIiJS4FSUEhERERERERGRApenotSBAwcwmUz5HYuIiIhIiaYcSkREROQW67ys9MYbb1CqVCk6dOhA586dady4cT6HJSIiIlLyKIcSERERuSVPRam9e/eyd+9edu7cSf/+/XF0dKRjx4489dRT1K9fP79jFBERESkRlEOJiIiI3JKnopS1tTU+Pj74+PiQnJzMvn37+Oabb+jRoweurq506dIFPz8/3Nzc8jteERERkWJLOZSIiIjILXc10XlSUhLfffcdX3zxBTt27MDZ2Zm2bdty+vRpnnrqKVatWpVfcYqIiIiUGMqhRERERPJYlPrqq68YPnw4jz32GG+//Tb29vaEhoayZ88eRo0axezZsxk+fDjvvvtufscrIiIiUmzldw6VlJRE586dOXjwoLktKiqKV199lcaNG9OpUyd+/PFHi3X27dtH586d8fT0pFevXkRFRVn0L1++nNatW+Pl5cWYMWNISEgw9yUmJjJmzBiaNm1Kq1atWLp0qcW62e1bRERE5N/yVJQaNWoUVlZWzJ07lx9//JGJEyfStGlTi2UaNGhAnz598iVIERERkZIgP3OoxMRE3nrrLY4fP25uM5lMBAQEUKFCBTZs2MAzzzxDYGAg586dA+DcuXMEBATg5+fH+vXrKVeuHIMGDTLfEXDXrl2EhIQwefJkVqxYQUREBLNmzTJvPzg4mKNHj7JixQomTJhASEgIO3fuzNG+RURERG6Xpzml9u3bx/Xr17l69SpWVlYAbN++nUcffRQXFxcAPD098fT0zL9IRURERIq5/MqhTpw4wbBhw8zFpHQHDhwgKiqKNWvW4ODgQK1atdi/fz8bNmxg8ODBrFu3jgYNGtC3b18AZsyYQcuWLfnpp5/w9vZm5cqV9O7dG19fXwAmTZqEv78/I0aMwGQysW7dOhYvXoyHhwceHh4cP36c1atX06FDh2z3LSIiInK7PI2UOnToEO3bt+fzzz83t61cuZJOnToRFhaWb8GJiIiIlCT5lUOlF5HWrl1r0R4REUH9+vVxcHAwtzVp0oTw8HBz/79HZtnb2+Ph4UF4eDgpKSkcOXLEor9x48bcvHmTyMhIIiMjSU5OxsvLy2LbERERpKamZrtvERERkdvlqSg1c+ZMBg4cyJAhQ8xta9asoV+/fkyfPj3fghMREREpSfIrh+rRowdjxozB3t7eoj06OpqKFStatJUvX54LFy5k23/16lUSExMt+q2trXFycuLChQtER0fj7OyMjY2Nub9ChQokJiYSFxeX7b5FREREbpeny/dOnz5Nhw4dMrR37NiRDz744K6DEhERESmJ7nUOlZCQYFE0ArCxsSEpKSnb/hs3bpifZ9ZvMpky7YO0Cdez23dOGQy5WlwkV/T5EhEpGDn9vs1TUeqhhx5ix44dDBgwwKL9m2++4cEHH8zLJkVERERKvHudQ9na2hIXF2fRlpSUhJ2dnbn/9iJRUlISZcuWxdbW1vz89n57e3tSUlIy7QOws7PLdt85Vb58mVwtL5JTzs6lCzsEERG5TZ6KUm+++SaDBg1i7969eHh4APDbb7/xv//9j/nz5+drgCIiIiIlxb3OoVxdXTlx4oRFW0xMjPmyOldXV2JiYjL016tXDycnJ2xtbYmJiaFWrVoAJCcnExcXh4uLCyaTidjYWJKTk7G2Tksho6OjsbOzo2zZstnuO6cuXbrGbfO355iVlVGFB8lSbOw/pKSkFnYYIiL3BYMhZyea8jSn1OOPP86mTZuoX78+p06d4syZM9StW5cvvvgCHx+fvGxSREREpMS71zmUp6cnv/zyi/lSPICwsDDz3fw8PT0tJlRPSEjg2LFjeHp6YjQaadiwoUV/eHg41tbW1K1bl3r16mFtbW0xcXlYWBgNGzbEaDRmu++cMpny/hDJzt18vvTQQw899MjdIyfyNFIK4OGHH2b06NF5XV1ERETkvnQvc6hmzZpRuXJlgoKCGDRoEHv27OHw4cPMmDEDgK5du7JkyRIWLVqEr68voaGhVK1aFW9vbyBtAvXx48dTp04dKlasyMSJE+nevbt5QvVnn32WiRMnMn36dC5evMjSpUvN285u3yIiIiK3y1NR6urVqyxdupQjR46QnJyM6bYS2MqVK/MlOBEREZGS5F7nUFZWVnzwwQeMHTsWPz8/qlevTmhoKG5ubgBUrVqV+fPnM336dEJDQ/Hy8iI0NBTD/89G+tRTT3H27FnGjx9PUlISTzzxBCNGjDBvPygoiIkTJ9K7d28cHR0ZPHgwTzzxRI72LSIiInI7g+n2bCgHBg4cyJEjR+jSpQuOjo4Z+gMDA/MluOIuJibvcyKIiBQ11tZpc7XErv6I5Iu6xXtuWVeshPPL/YiN/YfkZM1pUpwYDFChQv5Mvq0cKnt3kz+lf0+t++UQMfHX8zcwKbYqODjyvMcj+v4VESlAOc2f8jRSat++faxatYpGjRrlZXURERGR+5JyKBEREZFb8jTRuaurK0ZjnlYVERERuW8phxIRERG5JU8jpUaOHMnEiRMZMmQI1atXp1SpUhb9mjtAREREJCPlUCIiIiK35KkoNXjwYAD69+8PYJ4c02QyYTAY+PXXX/MpPBEREZGSQzmUiIiIyC15Kkp9/fXX+R2HiIiISImnHEpERETkljxNalClShWqVKlCfHw8x44dw9nZmdTUVNzc3KhSpUp+xygiIiJSIiiHEhEREbklTyOlrly5whtvvMFPP/0EwK5du5g2bRpRUVEsWrRISZWIiIhIJpRDiYiIiNySp5FSU6dOxd7engMHDmBrawvA9OnTqVSpElOnTs3XAEVERERKCuVQIiIiIrfkqSj1ww8/8NZbb1G2bFlzW7ly5QgKCuK///1vvgUnIiIiUpIohxIRERG5JU9FKYDExMQMbZcvX8baOk9XBIqIiIjcF5RDiYiIiKTJU1Gqc+fOTJs2jePHj2MwGIiPj+fAgQOMGzeOTp065XeMIiIiIiWCcigRERGRW/JUlBo5ciSenp74+fkRHx/PM888g7+/Py1atGDkyJH5Ftzu3btxd3e3eAwZMgSAY8eO8fzzz+Pp6UnXrl05evSoxbrbtm2jXbt2eHp6EhAQwOXLl819JpOJ2bNn07x5c5o1a0ZwcDCpqanm/tjYWAYPHoyXlxdt27Zly5Yt+XZMIiIicv8qqBxKREREpDgwmEwmU15XvnHjBlFRUaSkpFCtWjVKly6dn7GxYMECIiIimDJlirnN1tYWa2trnnjiCbp06UK3bt349NNP2bFjB7t378bBwYHDhw/Ts2dPJk2aRN26dZk2bRoODg4sXLgQgKVLl7Jy5Upmz55NcnIyI0aM4NVXX8Xf3x+AgQMHcuPGDcaMGUNERASTJ09m9erVNGrUKFfxx8RcI++vrohI0WJtbcTZuTSxqz8i+eKFwg6n2LGuWAnnl/sRG/sPycmp2a8gRYbBABUqlMnXbd7rHKo4u5v8Kf17at0vh4iJv56/gUmxVcHBkec9HtH3r4hIAcpp/pSnyQsym4jz2LFj5v9/9NFH87LZDE6ePEmdOnVwcXGxaF+/fj22traMHDkSg8HA2LFj+f7779m5cyd+fn6sWrWKjh078uyzzwIQHByMr68vUVFRVKtWjZUrVzJkyBCaNm0KwPDhw3n//ffx9/fnzJkz7Nmzh6+//pqqVatSp04dwsPD+eSTT3JdlBIRERH5t4LKoURERESKgzwVpXr27Jlpu42NDS4uLnz99dd3FVS6kydP8thjj2Voj4iIoEmTJhgMBgAMBgOPPPII4eHh+Pn5ERERwWuvvWZevnLlyri5uREREYGNjQ3nz5+3SPqaNGnC2bNnuXjxIhEREVSuXJmqVata9KePshIRERHJq4LKoURERESKgzwVpSIjIy2ep6SkcObMGaZMmUKXLl3yJTCTycQff/zBjz/+yMKFC0lJSaFDhw4MGTKE6OhoateubbF8+fLlOX78OAAXL16kYsWKGfovXLhAdHQ0gEV/hQoVAMz9ma37999/5/oY/r9mJiIiYkG/D8VLfr5fBZFDiYiIiBQX+XLvYSsrK2rWrMno0aPp378/zz333F1v89y5cyQkJGBjY8N7773HX3/9xdSpU7lx44a5/d9sbGxISkoC0uZpyKr/xo0b5uf/7gNISkrKdtu5Ub58/s4/ISIixZ+zs+YOklvuRQ4lIiIiUlzkS1Eq3aVLl7h69Wq+bKtKlSocPHiQBx54AIPBQL169UhNTWXEiBE0a9YsQ5EoKSkJOzs7IG0y9Mz67e3tLQpQtra25v8HsLe3z3Ld9G3nxqVLmuhcREoOKyujCir5IDb2H1JSNNFucWIw3PsTTfmZQ4mIiIgUF3kqSgUFBWVo++eff9i3bx8dOnS466DSOTk5WTyvVasWiYmJuLi4EBMTY9EXExNjvuzO1dU1034XFxdcXV0BiI6ONs8blX5JX3p/VuvmlsmEilIid8loNGA06lqnvEpNNZGaqi+ioka/DfevgsqhRERERIqDfBsp5eTkxKhRo3jmmWfyZXs//PADw4cP59tvv8Xe3h6AX3/9FScnJ5o0acLixYsxmUwYDAZMJhOHDh1i4MCBAHh6ehIWFoafnx8A58+f5/z583h6euLq6oqbmxthYWHmolRYWBhubm5UrFiRxo0bc/bsWS5cuEClSpXM/Y0bN86X4xKRnDMaDTg7l1ZR6i6kppqIjf1HhSmRIiy/cygRERGR4iJPRakZM2bkdxwZeHl5YWtry9tvv01AQABRUVEEBwfTr18/OnTowJw5c5g2bRovvvgia9asISEhgY4dOwLw0ksv0bNnTxo3bkzDhg2ZNm0abdq0oVq1aub+2bNnm4tOc+bMoW/fvgBUq1aNVq1aMWLECMaOHcuRI0fYtm0bq1atuufHLCKW0kdJRR47S/w/uZ/X7X7nUNqGuvWrYDQaVJQSKSIKIocSERERKS7yVJQKCQnJ8bKBgYF52QWOjo4sWbKE6dOn07VrV0qXLs2LL75Iv379MBgMLFy4kAkTJvDZZ5/h7u7OokWLcHBwANIKWpMnT2bevHlcuXKFli1bMmXKFPO2/f39uXTpEoGBgVhZWdGtWzdeffVVc39wcDBjx46le/fuuLi4MH36dBo1apSn4xCRuxf/TxLXr98o7DBERO5aQeRQIiIiIsVFnopSf/75Jzt37sTJyYkGDRpgY2NDZGQkZ86coXHjxlhbp23WcJf3UH744YdZtmxZpn2NGjVi06ZNWa7r5+dnvnzvdlZWVgQFBWU6rwNA+fLl+fDDD3MfsIiIiMgdFFQOJSIiIlIc5KkoZWNjQ5cuXZg0aRKlSpUyt8+cOZMrV64wffr0fAtQREREpKRQDiUiIiJyizEvK23fvp1+/fpZJFMA3bt3Z/v27fkSmIiIiEhJoxxKRERE5JY8FaVcXV354YcfMrTv2rXLPJm4iIiIiFhSDiUiIiJyS54u3xs2bBhvvvkm3377LXXr1gXgyJEjHDt2THMxiYiIiGRBOZSIiIjILXkaKdW+fXs2btxInTp1OHnyJGfPnqVZs2bs2rWLZs2a5XeMIiIiIiVCQeVQu3fvxt3d3eIxZMgQAI4dO8bzzz+Pp6cnXbt25ejRoxbrbtu2jXbt2uHp6UlAQACXL18295lMJmbPnk3z5s1p1qwZwcHBpKammvtjY2MZPHgwXl5etG3bli1btuTbMYmIiEjJk6eRUgDu7u4EBQVx5coVHB0dMRqNulOMiIiISDYKIoc6ceIEvr6+TJkyxdxma2tLfHw8/fv3p0uXLrzzzjt8+umnDBgwgN27d+Pg4MDhw4cZO3YskyZNom7dukybNo2goCAWLlwIwLJly9i2bRshISEkJyczYsQIypcvj7+/PwBBQUHcuHGDtWvXEhERwdtvv03NmjVp1KhRvh6fiIiIlAx5GillMplYsGAB3t7etGjRgnPnzjFixAjGjx9PUlJSfscoIiIiUiIUVA518uRJ6tSpg4uLi/lRtmxZtm/fjq2tLSNHjqRWrVqMHTuW0qVLs3PnTgBWrVpFx44defbZZ6lbty7BwcF89913REVFAbBy5UqGDBlC06ZNad68OcOHD2f16tUAnDlzhj179jB16lTq1KnD888/z9NPP80nn3ySb8clIiIiJUueilKhoaFs3bqVd955BxsbGwCee+459u7dS3BwcL4GKCIiIlJSFFQOdfLkSWrUqJGhPSIigiZNmphHZhkMBh555BHCw8PN/U2bNjUvX7lyZdzc3IiIiODvv//m/PnzPProo+b+Jk2acPbsWS5evEhERASVK1ematWqFv0///xzvh2XiIiIlCx5Kkpt2rSJyZMn4+vra05qWrZsycyZM9mxY0e+BigiIiJSUhREDmUymfjjjz/48ccfefLJJ2nXrh2zZ88mKSmJ6OhoKlasaLF8+fLluXDhAgAXL17Msj86OhrAor9ChQoA5v7M1v37779zFb/BkPeHSHbu5vOlhx566KFH7h45kac5pS5dupQh6QAoW7Ys8fHxedmkiIiISIlXEDnUuXPnSEhIwMbGhvfee4+//vqLqVOncuPGDXP7v9nY2JgvHbxx40aW/Tdu3DA//3cfQFJSUrbbzqny5cvkanmRnHJ2Ll3YIYiIyG3yVJRq3rw5S5YsYfLkyea269evM3fuXLy9vfMtOBEREZGSpCByqCpVqnDw4EEeeOABDAYD9erVIzU1lREjRtCsWbMMRaKkpCTs7OyAtMnQM+u3t7e3KEDZ2tqa/x/A3t4+y3XTt51Tly5dw2TK1SpmVlZGFR4kS7Gx/5CSkpr9giIictcMhpydaMpTUWrixIkEBgbSsmVLEhMTGTRoEOfOncPNzY0FCxbkZZMiIiIiJV5B5VBOTk4Wz2vVqkViYiIuLi7ExMRY9MXExJhHb7m6umba7+LigqurKwDR0dHmeaPSL+lL789q3dwwmchzUUokO/psiYgULXkqSpUtW5b169ezf/9+Tp06RXJyMjVr1qRVq1YYjXmapkpERESkxCuIHOqHH35g+PDhfPvtt9jb2wPw66+/4uTkRJMmTVi8eDEmkwmDwYDJZOLQoUMMHDgQAE9PT8LCwvDz8wPg/PnznD9/Hk9PT1xdXXFzcyMsLMxclAoLC8PNzY2KFSvSuHFjzp49y4ULF6hUqZK5v3HjxvlyXCIiIlLy5Kko1blzZ0JCQmjRogUtWrTI75hERERESqSCyKG8vLywtbXl7bffJiAggKioKIKDg+nXrx8dOnRgzpw5TJs2jRdffJE1a9aQkJBAx44dAXjppZfo2bMnjRs3pmHDhkybNo02bdpQrVo1c//s2bPNRac5c+bQt29fAKpVq0arVq0YMWIEY8eO5ciRI2zbto1Vq1bdk+MUERGR4i9PRSmj0cjNmzfzOxYRERGREq0gcihHR0eWLFnC9OnT6dq1K6VLl+bFF1+kX79+GAwGFi5cyIQJE/jss89wd3dn0aJFODg4AGkFrcmTJzNv3jyuXLlCy5YtmTJlinnb/v7+XLp0icDAQKysrOjWrRuvvvqquT84OJixY8fSvXt3XFxcmD59Oo0aNbqnxysiIiLFl8Fkyv2V1VOnTmXjxo34+vpSpUqVDHdaCQwMzLcAi7OYmLxP1CkiYG2dNmHtof/+wfXrNwo7nGLH0dGORx6tSWzsPyQn3/3ErunvR+zqj0i+eCEfIry/WFeshPPL/fLt/ZCCYzBAhQr5c0c45VDZu5v8Kf17at0vh4iJv56/gUmxVcHBkec9HtH3r4hIAcpp/pSnkVK//fYbHh4eXLx4kYsXL962Y0NeNikiIiJS4imHEhEREbklx0Wpl19+mQULFlC2bFk+/vhjAG7cuJHr2/yKiIiI3E+UQ4mIiIhkLse3eQkLC8swB8Jjjz1GVFRUvgclIiIiUlIohxIRERHJ3F3dezgP01GJiIiI3PeUQ4mIiIjcZVFKREREREREREQkL1SUEhERERERERGRAperu+/t2LEDR0dH8/PU1FR2795NuXLlLJZ79tln8yU4ERERkZJAOZSIiIhIRjkuSrm5ubF06VKLtvLly7Nq1SqLNoPBoIRKRERE5P8phxIRERHJXI6LUt988829jENERESkRFIOJSIiIpI5zSklIiIiIiIiIiIFTkUpEREREREREREpcCpKiYiIiIiIiIhIgVNRSkRERERERERECpyKUiIiIiIiIiIiUuByfPc9ERERERERyRuj0YDRaCjsMKSISU01kZpqKuwwRAqNilIiIiIiIiL3kNFooFw5BwwGXagilkymVC5fjldhSu5bKkoVMp0xuTs6syAiIiIiRZ3RaMBgMJKUdJTU1PjCDkeKCKPRARubBhiNBv1NI/ctFaUKkdFowNnZAaNRZ0zyKjU1ldhYnVkQERERkaIvNTUek+laYYchRURqamFHIFL4VJQqRGmjpIx8dTKS2Bs6Y5JbznYOtKtVV2cWRERERERERIohFaWKgNgb8cTEXy/sMERERERERERECoyuGxMRERERERERkQKnopSIiIiIiIiIiBQ4FaVERERERERERKTAqSglIiIiIiIiIiIFThOdi/xL2h0RDYUdRrGVmmrSnRBFREREREQkR1SUEvl/RqOBcuUcMBg0gDCvTKZULl+OV2FKREREREREsqWiVBYSExOZNGkSX375JXZ2dvTt25e+ffsWdlhyDxmNBgwGI0lJR0lNjS/scIodo9EBG5sGGI0GFaVERO5Typ9EREQkN1SUykJwcDBHjx5lxYoVnDt3jlGjRuHm5kaHDh0KOzS5x1JT4zGZrhV2GMVOamphRyAiIoVN+ZOIiIjkhopSmYiPj2fdunUsXrwYDw8PPDw8OH78OKtXr1ZSJSIiIpIJ5U8iIsWT5tWVzBTUfMEqSmUiMjKS5ORkvLy8zG1NmjThww8/JDU1FaNRcw6JiEjhUxJ5d3Rzhvyl/ElEpPgxGg04O5dWPiEZpKaaiI39557nSipKZSI6OhpnZ2dsbGzMbRUqVCAxMZG4uDjKlSuXo+0YjWDKwftXwd4RayVqueZk62D+//x8+YxGR1JT9X7kltF4b94PAMcytvqhzAOH0re+w/LzPbGqWAmsS+XfBu8TVuXKm/8/P94Pg8GAk5OD/tC/C6mpqcTFxWPK5sfaoK+fHCno/OlOlFvJv92rnDEvlGfKv93L/DnnMaSd4Drz5yWSEm8WThBS5NjYluLB6uX//2+wvP0o5zR/UlEqEwkJCRYJFWB+npSUlOPtlCtXJkfL+T5UJ+fBSQbOzqXzdXs2NvXzdXv3m/x+PwDq1HXL923eT/L7PSnbvnO+bu9+cy/+jUjeGI1GypVzLOwwSoyCzp/uRLmVZKYofP8qz5TMFIXP5oPVy2e/kNx3CuKzqTJ9JmxtbTMkT+nP7ezsCiMkERERkSJN+ZOIiIjklopSmXB1dSU2Npbk5GRzW3R0NHZ2dpQtW7YQIxMREREpmpQ/iYiISG6pKJWJevXqYW1tTXh4uLktLCyMhg0bau4OERERkUwofxIREZHcUoaQCXt7e5599lkmTpzI4cOH+eqrr1i6dCm9evUq7NBEREREiiTlTyIiIpJbBlN2t5y5TyUkJDBx4kS+/PJLHB0d8ff359VXXy3ssERERESKLOVPIiIikhsqSomIiIiIiIiISIHT5XsiIiIiIiIiIlLgVJQSEREREREREZECp6KUiIiIiIiIiIgUOBWlRESkWEtNTS3sEEREREREJA+sCzsAEcna77//jrV12j/Thx56qJCjkfPnz1OqVClsbW0pU6ZMYYdz3zt48CAeHh44OjqSmpqK0ajzLIUtLi4OABsbGxwcHAo3GBERKTKU00pRpdyl8Onue2Lh8OHD1KlTBzs7u8IO5b737rvv8s033/DPP//g4OBAt27ddFvtQvTuu++yf/9+zp8/T6tWrXj55Zdp0KBBYYd13/r5559544038PPz47XXXqN06dIqTBWy999/n/DwcE6fPk3Dhg1p1aoV3bt3L+ywRO4ryuOkKFJOK0WVcpeiQSOlBEi7/OXy5cv079+f/v3788orr2BjY1PYYd231q5dy6ZNmwgJCeHmzZucPHmS6dOnU6lSJTp06FDY4d13VqxYwfr163nvvff4888/Wb9+PRERESpKFaI6depgbW3N119/zc2bNxk4cCBlypTBZDJhMBgKO7z7zmeffca6deuYM2cOMTExnD17lsmTJ3PhwgWGDBlS2OGJlHjK46SoUk4rRZVyl6JDRSkBwGQyUaFCBZycnJg7dy6pqan07t2bUqVKFXZo96WTJ0/Stm1bGjVqBEDNmjXZvn074eHh+gEvBL///jvdunXj0Ucf5dFHH+XQoUNERERQu3ZtrKysaNq0aWGHeF9JTU2lVKlSuLm5kZyczKlTp1i4cCH9+vXDycmJlJQUrKysCjvM+8qJEyfw9vbG29sbgISEBKytrQkODsbGxoaBAwcWcoQiJZvyOCmqlNNKUaXcpehQUUoAzH/AOTk5UaVKFWbPnk1iYiL9+/dXQlOA0kd5REdHc/PmTXN7uXLleOihh9i7dy9JSUk6+1lATCYTKSkpnDlzBkdHRwBSUlL48ccfcXBw4KeffuLKlSu88sorDBs2rJCjvX8YjUZsbGxo3749V65coWzZsuzatQsrKyuGDh1KeHg4TZo0Keww7wvp31mXLl3in3/+Mbfb29vTuHFjnJyceO+99zAajfTv378QIxUp2ZTHSVGjnFaKKuUuRY8m3xAg7R/nmTNnuHr1Ku+88w6hoaHMnz+fxYsXW/yQyL2VftlR586diYqK4u+//yYlJQWASpUqFWZo9yWDwYC1tTVvvPEGbm5uAPzyyy/UqVOHjz76iNWrVxMcHMzy5ctZtWpVIUd7/0ifCtHa2prIyEheffVV2rdvz9GjR+nUqRODBg0iOTlZd+UrAOnfWU8//TQ//vgjW7duNfc5OTnRsmVLpkyZwieffMKPP/5YWGGKlHjK46SoUU4rRZVyl6JHRSkB0v5xVqxYkU6dOpGUlMR//vMfZs+ezbx585TQFIL//Oc/LFq0iPLly5u/OK2srDLMlXP48OHCCO++07RpU3r37g1Ao0aNCAkJoWrVqlSpUoX27dszePBg9u/fT2JiIrp3xL2X/u+gY8eOXLlyBYC+ffsSGxvL33//Tbt27cyTnuv9KBiPPfYYAwYMYMKECYwdO5b33nuPF154gcqVK/P888/TtGlTTpw4UdhhipRYyuOkqFJOK0WVcpeiQ0UpMbOzs6N///5UqVKFlJQUOnfurISmELm6umJtbW2+m1h8fDz//POPefTHu+++S/fu3bl8+XJhhnlfSX/tb7+rkY2NDdHR0ZkmWXLvlCpViri4OA4fPsz06dO5evUq3bp148KFC8ycOZPr16/r/SggpUqVon///kyfPp0zZ85w5MgRevXqxfDhw839Bw4cKOQoRUo25XFSVCmnlaJIuUvRoTmlxEL6dd0GgwGTyUTnzp0BGD16NDdu3GDw4MGam6CApV/3bDQasbKyws7Ojvnz57Ny5Uo+++wzypUrV9gh3jfSk6mLFy8SExND/fr1zc/Lly9PcnIy1tb6Wi0oZcqUwcfHh0GDBlG6dGlWrFhBlSpVeP/994mMjCQxMdE8F5jce7a2tnTs2JF27dpl+J2ws7OjZs2ahRSZyP1DeZwUZcpppahR7lI06K8nyVT6ZS/pCU1SUhLvvPMOr776qn4wComTkxOlS5dm8uTJrFu3jk8//ZQGDRoUdlj3HZPJRFRUFL1796Z27dqUKVOGEydOsGzZsgwjqOTe69ChAwcOHGDWrFlUqVIFgMDAQK5evYqzs3MhR3d/sra25vr16wwePBiDwYCNjQ2HDh3SvGsiBUh5nBRlymmlqFHuUrgMJk24IXeQ/vEwGAxcv35dow4KUUREBC+88AKlSpVi7dq15lE6UvBSU1P56aefOHLkCA888ADNmzfnwQcfLOyw7luJiYnY2toCmOeSksL3yy+/sGvXLhwdHfnPf/5DrVq1CjskkfuO8jgpipTTSlGl3KVwqCgl2Uofapv+XykcCQkJzJkzhx49evDQQw8VdjgiIiJSDCiPk6JGOa2I/JuKUiLFiOYsEhEREZHiTjmtiKRTUUpERERERERERAqcJt4QEREREREREZECp6KUiIiIiIiIiIgUOBWlRERERERERESkwKkoJSIiIiIiIiIiBU5FKRERERERERERKXAqSomIiIiIiIiISIFTUUpEir0rV67wzjvv0LZtWzw9PenYsSPLly8nNTU1R+vv37+fkydP3uMoMzd//nx69uxZKPsWERGR+5fyJxEpCgwmk8lU2EGIiORVbGwsL7zwAhUrViQgIICqVaty5MgRpkyZQqdOnRg3bly223B3d2flypV4e3sXQMSW/vnnH27evImTk1OB71tERETuT8qfRKSosC7sAERE7sacOXOwsbFhyZIl2NraAlCtWjXs7OwYNGgQr7zyCjVr1izkKLNWunTpwg5BRERE7jPKn0SkqNDleyJSbCUlJfHFF1/w8ssvmxOqdL6+vixfvpwqVapw4sQJ/P398fLyomHDhvTo0cM83Lxt27YA9OrVi/nz5wPwv//9Dz8/Pxo1akSXLl3YtWuXxbaXL19O69ateeSRR5g6dSo9e/Zk48aNACQmJjJr1ix8fHxo3LgxAwcO5Pz58wD89ddfuLu7ExoayqOPPsrkyZMzDD+/077PnTtH37598fLyokWLFkyZMoWbN2/m86sqIiIiJZnyJ+VPIkWJilIiUmydOXOG+Ph4GjZsmKHPYDDQvHlzrK2tGThwIFWqVGHLli2sWbOGlJQUZs2aBcD69euBtLkJ+vbtS3R0NAMGDMDPz4/PP/+cfv36MXr0aP73v/8BsHXrVubNm8eYMWNYu3Ytf/31F//973/N+50wYQK7d+9m5syZrFmzhuTkZAYNGmQxP8OhQ4fYsGEDvXr1sog5u31PmTIFBwcHNm/eTGhoKLt27eKzzz7L3xdVRERESjTlT8qfRIoSXb4nIsXW1atXAShTpkyWy9y4cYMXX3yRHj164ODgAMBzzz3HRx99BEC5cuUAeOCBByhdujSLFy/mscce45VXXgGgevXq/Prrr6xYsYKmTZvyySef0Lt3bzp27AjAzJkz8fHxAdImDN2yZQuLFy+mefPmAMyePZs2bdqwd+9e8zD43r178+CDD2aIdfXq1Xfc99mzZ/Hw8MDNzY3q1auzaNEiypYte3cvooiIiNxXlD8pfxIpSlSUEpFiK31yyytXrmS5jIODAy+99BKbN2/m6NGjnDp1imPHjlGhQoVMlz916hR79uzBy8vL3Hbz5k1zQvTbb7/Rv39/c98DDzxg7jt9+jSpqal4enpaxFizZk1OnjxpXq5KlSp52ne/fv0YM2YMu3fv5vHHH6dTp07Ur18/y2MXERERuZ3yJ+VPIkWJilIiUmw9+OCDlClThl9++YVGjRpl6H/99dfp3r07wcHBODs707ZtWzp37sypU6dYunRppttMTk6mS5cuDBw40KLd2jrt69LKyorbb1qa/vz2eRnSpaSkWAw/z2q57Pb99NNP06JFC7766iu+/fZbhgwZwmuvvcbQoUMz3Z6IiIjI7ZQ/KX8SKUo0p5SIFFvW1tZ06tSJ1atXk5SUZNH3zTff8M033xAVFcXFixdZuXIl/fr147HHHuPcuXMZEqN0NWvW5M8//6R69ermx9dff83nn38OQO3atfnll1/My1+/fp0///wTSLtrjbW1NeHh4eb+2NhY/vzzzxzdwSa7fb/77rtcunSJl156iYULF/Lmm2/y5Zdf5uo1ExERkfub8iflTyJFiYpSIlKsDR48mOvXr+Pv789PP/3EmTNnWLduHaNHj6ZXr140bNiQ+Ph4vvrqK/766y/WrVuXIQlzcHDg+PHjXLt2jR49enD06FHeffddTp8+zeeff87cuXNxc3MDoGfPnqxcuZIvv/ySkydPMmbMGOLj4zEYDJQuXZrnn3+eKVOmcPDgQSIjIxkxYgSVKlWiZcuW2R5Ldvs+deoUkydPJjIykuPHj/Pdd99p+LmIiIjkmvIn5U8iRYUu3xORYs3FxYVPP/2U+fPnM3z4cOLi4njwwQcZMmQIL730ElZWVgQEBDBp0iQSExNxd3dn/PjxjB07lr///htXV1d69uxJcHAwZ86cYcyYMXz44YfMnj2bJUuW4OrqyujRo3n66acBeOqpp/jzzz+ZMGECiYmJvPDCC1SpUoVSpUoBMGrUKGbOnMmQIUNISkriscceY/ny5djY2GR7LFWqVLnjvidOnMikSZPo2bMnycnJtGnThrFjx967F1dERERKJOVPyp9EigqDKasxmCIiksFPP/1EtWrVqFy5MpA2j0Hz5s0JDQ3F29u7kKMTERERKXqUP4lIVjRSSkQkF7766it+/vlnJk2aROnSpVm5ciWOjo40bty4sEMTERERKZKUP4lIVjRSSkQkF65fv87kyZP57rvvSExMxMvLi7Fjx1K7du3CDk1ERESkSFL+JCJZUVFKREREREREREQKnO6+JyIiIiIiIiIiBU5FKRERERERERERKXAqSomIiIiIiIiISIFTUUpERERERERERAqcilIiIiIiIiIiIlLgVJQSEREREREREZECp6KUiIiIiIiIiIgUOBWlRERERERERESkwKkoJSIiIiIiIiIiBU5FKRERERERERERKXAqSomIiIiIiIiISIFTUUpERERERERERAqcilIiIiIiIiIiIlLgVJQSkfuGyWQq7BBEREREij3lVCKSX6wLOwCRwjR69Gg2bdqUZf/7779Phw4dCjCiku+LL75g9uzZREdH4+fnx+TJk7Ncdv/+/axevZqIiAiuXr1KpUqVaNu2Lf369aN8+fK52m9YWBgffvghixcvvttDyFc9e/YE4OOPP76n+2nbti3NmjXjnXfeuaf7Sd/X2bNnLdqMRiOOjo48/PDDDBw4kMcff/yOy//b/v37KVeuXIbljEYjpUuX5uGHH+aFF17g2Wefves4snqN/vrrL/7zn/8wY8YMOnXqRMuWLWnSpAmLFi3KNOaYmBh8fHzo378/1apVIygoKMvje+edd3juueey7BcRKQ6UUxU85VSWSmJO9W8vvvgiP//8M/PmzePJJ5/M0D9//nxCQkL47bffADh48CC9evWyWKZUqVI4OzvTrFkzXn/9dWrXrg3cynOys3LlSry9vQHYuHEjn332Gb///jspKSlUrVqVJ554An9/fxwdHYHsczyAwMBABg8ebNGWnJzMiy++iL29/T1/P6XwqSgl9z0XFxdCQkIy7atRo0bBBnMfmDx5MjVq1OCdd97B1dU1y+Vmz57NRx99RIcOHRg7dixOTk789ttvLF68mC+//JJVq1ZRuXLlHO933bp1nDx5Mj8OIV9NmDChQPYTEhJiThAKgo+PD4MGDTI/T05O5syZMyxatIhBgwaxfv166tatm+Xy/1a2bNlMl0tOTiY2NpYdO3YwatQofv311wzFn9zGkRN2dnY89dRTbNiwgcuXL1OuXLkMy3z++eekpKTQtWtXHBwcWLt2bYZl3n77ba5fv46Pj0+u9i8iUlQppypYyqksldScCuDUqVP8/PPP1KlThzVr1mRalMrK+PHj8fDwAODGjRtERUXx0Ucf0a1bN5YvX07jxo2pWLGiRa4SHR1NYGAgr7/+Om3atDG3pxexQkJC+PDDD+nbty+vv/46pUqV4ujRo3z00Uf88MMPfPrpp5QqVYqQkBCSkpLM6wcGBlK/fn2L3KxSpUoZYl60aBFHjhyhWbNmOT5OKb5UlJL7no2NDY0bNy7sMO4bcXFxtGzZ0nyWJTNffPEFixcvJigoiFdffdXc3rx5c3x8fHjuueeYNm1alolvcZL+436v1a9fv0D2k65cuXIZ/l01bdoUT09POnXqxNatWy2KQZktn9Pttm/fHhcXF5YvX84TTzxBkyZN8hxHTnXr1o21a9eyY8cOXn755Qz9mzZtokWLFlStWtUcx7+tXLmSkydPsmbNmkyLWiIixZFyqoKlnMpSSc2pIG1UUpUqVRgwYADDhw/nzz//pHr16jlat3bt2hb/Lps3b86TTz6Jn58fo0eP5osvvsjwb/evv/4C4MEHH8zwbzopKYnFixfj7+/P0KFDze2PPfYYDz30EAEBAXz11Vd07Ngxw2tlY2OTbc4XGRnJwoULcXFxydHxSfGnOaVEcqBnz54MHz6cIUOG0LhxY/r06QNAYmIiwcHB+Pj40KBBA7p06cL27dst1k1NTSU0NJQ2bdrg6enJwIED2bFjB+7u7uYv/NGjR9O2bVuL9f766y/c3d3ZuHGjuS0uLo7x48fz2GOP0bBhQ7p3787+/fst1nN3d2f16tWMHTuWZs2a4eXlxRtvvEFMTIzFcps3b+a5557D09OTNm3aMGfOHJKSkjh+/Dju7u4ZRnacP3+eevXqsXXr1ixfpyNHjuDv74+3tzePPPIIAwcO5Pjx40DaEGJ3d3cAQkNDLY7/dosWLaJ27dr07t07Q1+NGjUYMWIEXl5e5vkMLl++zKRJk/D19aVBgwY0a9aMgIAAi9d306ZNnD171uI1zcn7d/PmTWbPns3jjz9Oo0aN8Pf3Z/PmzRni37t3Lz169KBJkyZ4e3szbNgwzp8/b+7fuHEj9evXZ926dbRs2ZJmzZpx4sQJevbsaR5uDmmfl0WLFtG+fXsaNGjAk08+mWHY8pkzZxg4cCDe3t54enrywgsv8N1332X5vkDa8OnRo0cDtz5bO3bsYMiQIXh5edGsWTPefvtt4uPj77idu5U+6slgMOTrdgMDA7G1tWXNmjUFEkejRo14+OGH+fzzzzP0/frrr/z2229069Yt03VjYmJ47733eOmll/D09MzT/kVEiivlVMqplFPlTkpKCps3b8bX15d27dplOQI7N8qWLUu/fv34448/+Omnn3K17vXr17lx4wapqakZ+nx8fBg6dCjVqlXLU1xJSUmMHDmSnj17UrNmzTxtQ4ofFaVESLuk5/bH7RM47tixg9KlS7NgwQL69euHyWQiICCANWvW0KdPHxYsWICXlxdDhw5l8+bN5vWCg4P54IMP6Nq1K/Pnz6ds2bJ5Gl6cmJhI7969+frrrxk6dCghISFUqlSJfv36ZUii3n33XVJTU5k7dy4jR45kz549TJ8+3dy/evVqRo0ahYeHByEhIfTv35+PP/6YqVOn8vDDD+Pp6cmWLVsstrl582YcHBx44oknMo3vwIEDvPTSSwBMnz6dqVOncv78eV588UVOnjyJh4eH+Qc0fZRJxYoVM2wnOjqayMhI2rRpk2XBoEePHvj7+2MwGDCZTAwYMIC9e/cyfPhwlixZQmBgIPv37ze/zoMGDcLHxwcXFxfWrl1LmzZtcvz+jR8/nhUrVvDKK68QGhpKhQoVGDduXIbXpm/fvlSuXJm5c+cSFBTEzz//zAsvvMClS5fMy6WkpLB06VKmTZtGUFAQtWrVynBsEydOZN68eTz99NN8+OGHdOjQgenTpxMaGgqkJVgDBgwgISHB/NlycnLi9ddf588//8z09crKhAkTqFKlCh988AH+/v6sX7+eBQsW5GobWTGZTBb/nhISEoiMjGTUqFGUKlWKzp0733H59EdOlSlThkaNGhEWFnZP4sgs8eratSs///wzUVFRFu2bN2/GycmJ9u3bZxrrvHnzMBqNvPnmmzk+PhGR4kI5lXIq5VT5m1N9//33REdH8+yzz2JnZ0fHjh3ZtGmTxWVxedGyZUuADLlTdsqVK4enpydLlixh1KhRfPXVV1y+fBlIm7Nq4MCBNGjQIE8xhYaGkpyczJAhQ/K0vhRPunxP7ntnz541X2f9b8OGDaN///7m56VKlWLSpEnY2NgAaWdxfvjhB9599106deoEQOvWrUlISGD27Nl07tyZf/75h1WrVtGrVy/zBH6PP/44ffr0Yd++fbmKc8uWLURGRvLZZ5+ZR1c8/vjj9OzZk9mzZ7NhwwbzsnXq1GHGjBnm54cPH2bnzp3ArbOM7dq1Y+rUqeZlEhIS+OKLL7h58yZdu3ZlwoQJREVFmc90bN68maeeego7O7tM45szZw7Vq1dn0aJFWFlZAdCqVSvat2/PvHnzeP/9981DdStVqpTlsN30M2Hplz1l5+LFi9jb2zNq1CiaNm0KgLe3N2fOnDEnbA8++CDlypWzGJqck/fv3LlzbNq0iVGjRpnP5LZu3ZqYmBh+/PFH8+s5e/ZsWrVqxZw5c8xxPfLII3Tq1IklS5YwcuRIc/vAgQMtrs3/tz/++IPPPvuMt956y/zZa9WqFQaDgYULF9KjRw+Sk5M5deqUOSmEtFE7t1+znxM+Pj6MGjUKgBYtWrB3716+/fZbhg0blqvtZGbz5s0WiSiAtbU1DRo0YMmSJdSrVy/b5QHWrl2b40tBKlSowOHDh+9JHJl55plnmDNnDp9//rnFPFeff/45Xbp0MX9X/NulS5fYvHkzffr0sZgrS0SkJFBOlUY5lXKq/MypNm7cSJ06dWjYsCEAfn5+rF+/nl27dtGlS5c8bzf98rjo6Ohcrztv3jxGjhxpzpsMBgMPP/ww7du3p3fv3jzwwAO53ubhw4dZunQpq1evzjSHkpJLRSm577m4uGR6JuP2Sfceeughiy/I/fv3YzAY8PHxsRjR0bZtW7Zu3crx48e5ePEiN2/ezHA3i6effjrXCdT+/ftxcXHBw8PDYn++vr4EBwdz5coV8w/A7clJpUqVSEhIANJ+pC9dupRhFIe/vz/+/v4APPXUU8yYMYMtW7YQGBjIoUOHOH36dJZ3GYmPj+fIkSMEBgaakydIGxrs6+ub7TDof7O2TvtaymxkSmZcXV1ZuXIlJpOJv/76iz///JNTp05x6NChOyYUOXn/jh49islkynC3oM6dO5sTqD/++IPo6OgMSceDDz6Il5dXhiHRtxdB/u3AgQOYTCbatm2bIaYFCxYQFhbGf/7zH2rXrs24ceP48ccfadWqFY8//vgd7+6Wlcw+J9ndISWnfH19CQgIANKGxs+aNQtXV1dCQkIynSPg38v/W2ZnPrNiMpkynAnOrziio6N5/fXXLdrKlSuHr6+vRVHqhx9+4NKlS1leurdu3TpSU1MzvYxCRKS4U06VRjlVGuVUd59TXb58mT179jBw4ECuXr0KwMMPP0yVKlVYu3btXRWl0kcw5mUqg0qVKrFy5UpOnDjB999/z8GDB/nvf/9LaGgon332GatWrcrVzQ0SExMZPXo0vXv3plGjRrmOR4o3FaXkvmdjY2M+83AnpUuXtngeFxeHyWTikUceyXT5ixcvcuXKFSDjJMd3ukNKVuLi4oiOjs70DCSk/dGcnkDZ29tb9BmNRvMPT1xcHMAdb//r6OhIhw4d2Lp1K4GBgWzevJmaNWvi5eWV6fLXrl3DZDJRoUKFDH0VKlTg2rVr2R5fusqVK2MwGO74Q37lyhWsra3N78nWrVuZO3cu58+fx8nJiXr16mV59jFdTt6/9KHIt79W/36e/npmdezHjh2zaHNwcLhjTJCWwGbm77//xmAwsHTpUhYsWMDu3bvZvHkzpUqVol27dkyaNClXZ6bu9Dm5W05OTuZ/Vw0bNsTd3Z2uXbvy2muv8dlnn2U4A/bv5fPq77//zvCHT37FkdVcHV27dmXAgAH88ssveHh4sHnzZho2bJjl5Om7du2iZcuWmtxcREok5VQZKadSTnU3tm7dys2bN5k/fz7z58+36Dt79iwnT57M1Qm8f7tw4QKQ+d3vcqp27drUrl2bvn37cvPmTTZu3MjkyZOZO3cu8+bNy/F23nvvPVJTUxk0aJC5iJj++iUnJ2NlZZXv85FK0aGilEgelSlTBgcHB1auXJlpf/Xq1YmIiADSLtl56KGHzH3pP5TpDAYDKSkpFm23T45YpkwZatSowezZszPdX06HZqdfMpSeHKSLjY3l2LFjeHl54eDgQNeuXdm0aROHDx9m165d5jN+mSlTpgwGgyHDxJ+Qltg5OTnlKDYAZ2dnPDw8+OGHHxgxYkSmP0AhISGsWbOGPXv2cPr0aUaNGkXPnj3x9/c3J6fBwcF3vEY+J+9fbGwskDYxtZubm7nv369d+rFldezOzs7ZH/T/S39vVqxYkSFhB8wxuLq6MnHiRCZMmEBkZCQ7d+5k8eLFODs7F9jtkHOrdu3aDBkyhODgYEJCQnjrrbfydftXrlzhl19+4ZlnninQOFq3bk3FihXZtm0b1apV45tvvmHs2LGZLvv3339z7NgxjZISEbmNcirL2JRTKadKt2HDBvP8XP8WHx/PoEGD+PTTT3n77bfztO30EYaPPvportZbsWIFCxYsYM+ePRbFuFKlSpknij9x4kSutrlr1y7Onj2babHWw8ODGTNm4Ofnl6ttSvGhic5F8qhZs2bEx8djMplo2LCh+fH777+bJ+nz8vLC3t7ePPdAum+++cbieenSpYmNjSUxMdHcdvuPf7NmzTh//jzly5e32N/evXv56KOPLIZ438lDDz2Es7Mze/bssWjfsmUL/fv35+bNm0DaD1SNGjWYNWsW165du+Mf+w4ODjRo0IAdO3ZYJILXrl3j22+/pUmTJjmKLZ2/vz+///47q1atytB34sQJNmzYwGOPPUaFChX4+eefSU1NZfDgwebkKSUlxfxDmz5k3Wi0/LrLyfvXpEkTrKys2L17t8W6X375pfn/a9asiYuLC9u2bbNYJioqivDw8CzPGmYmff6G2NhYi5guX77M+++/T1xcHD///DOPPfYYhw8fxmAwUK9ePYYOHUqdOnU4d+5cjvdVGHr37k2dOnVYunQpp0+fztdtf/jhh9y8eZMXXnihQOOwsrLiueeeY9euXXzzzTdYWVllmDw9XfofVLn5TIiI3A+UU92inEo5VbojR47w+++/4+fnh7e3t8XD19eX5s2bs2XLFm7cuJHrbV+/fp1ly5bh7u6e67ykdu3axMbGZriTIaR9XqKioqhTp06utrlgwQLWr19v8fDw8MDDw4P169fj6+ubq+1J8aKRUiJ55OPjw6OPPsqgQYMYNGgQtWrV4vDhw8ybN4/WrVubh5cHBAQwd+5c7OzsaNGiBT/88EOGW+T6+vry8ccfM3bsWLp168bvv//OsmXLLJIiPz8/Vq1aRZ8+fRg4cCCVK1dm3759LF68mFdeeYVSpUrlKG4rKysGDx7M5MmTKV++PG3btuWPP/5g3rx5vPzyyxZDlbt27cqcOXN4/PHHsx0eP2zYMPz9/enfvz89evTg5s2bLFq0iKSkpEzn6LmTTp06sW/fPqZOnUpERAQdOnTAwcGBw4cPs2zZMpydnc0TiqZfdz558mS6du3KlStXWL16NZGRkUDamSRHR0fKli1LTEwM3333HfXq1cvR+1euXDm6du3K3LlzuXnzJnXr1mX37t3m5NNoNGI0GnnrrbcICgpi2LBhPP3008TGxhISEsIDDzxgnswzJ9zd3Xn66acZN24cZ8+epUGDBvzxxx+8++67VK1alRo1apCcnIydnR0jR45k8ODBVKhQgX379vHrr7/Sq1evXL3OBc3a2poxY8bw6quvMn36dBYtWpTrbVy+fJnw8HAgLfG5dOkSu3btYtu2bQwcODBHl43kRxz/5ufnx8KFC1mwYAEdOnTA0dEx0+V+//13bGxsePDBB+9qfyIiJY1yKkvKqZRTQdooqVKlSmV5l8ZnnnmGffv2sX379juOIjpx4gS2trZA2txNp06d4uOPPyY2Npb3338/15fFtWzZks6dOzN37lx+++03nnzyScqVK8eFCxdYs2YNFy5c4L333svVNt3d3TO0pY9wu9vpHaToU1FKJI+MRiOLFi3i/fffZ+HChVy6dAlXV1f69OljkTC89tprlC5dmqVLl7Jy5UqaNGnCwIEDzbejhbQv91GjRvHxxx+za9cu822FX3zxRfMyDg4OrF69mjlz5pjPtFWpUoVhw4bRt2/fXMX+8ssv4+DgwJIlS1i7di2VKlXitdde47XXXrNYzsfHhzlz5uRouGyLFi1YtmwZ8+bN46233sLGxoamTZsyc+ZMHn744VzFBzB16lS8vb357LPPGD9+PP/88w9ubm48//zz+Pv7m4dwe3t7M378eJYtW8bOnTupUKEC3t7ehISEEBAQQFhYGD4+Pvj5+fHdd98REBDAkCFD6N+/f47ev3HjxuHg4MDSpUu5fv06LVq04PXXXyc0NNQ8l4Gfnx+lS5dm4cKFBAQE4OjoSOvWrXnrrbcynUz7TmbMmMHChQvNP+rly5enU6dOvPnmm1hZWWFlZcXSpUuZM2cO06ZN4+rVq9SoUYPJkycXi2HNLVq04Mknn2TXrl3s2bMn12e+vvvuO/MkrwaDgbJly1K/fn3mzZvHk08+WWBx/FuNGjV49NFH+e9//8u0adOyXC4mJkZ33BMRyYRyKkvKqZRTJSYm8sUXX9CyZcssL9l84oknmDRpEmvWrLljvJMnTzb/f6lSpahYsSLNmzdnwIABVK9ePU/xzZo1i2bNmrF161befvtt4uPjKVeuHC1btmTGjBnmO02K5ITBlF+z2opIjm3cuJGgoCC+/vrrHM9bUBgWLVrE8uXL+fbbb+/LW7PGxcXx/fff07p1a4t5DGbOnMnGjRs5ePBgIUYnIiIiyqmKB+VUIpIVjZQSkQw2bdrE77//zieffMKgQYPuy+QJ0u6kMm3aNOrVq0fv3r1xcHAgPDycVatWMWDAgMIOr0Clpqbm6JbS6befFhEREeVU6ZRT3aKcSsSSPukikkFkZCRr1qyhffv2uR7GXpLY2tqyfPly3nvvPUaPHk1CQgIPPvggo0aN4uWXXy7s8ArUmDFj2LRpU7bL/fbbbwUQjYiISPGgnCqNcqpblFOJWNLleyIikq2//vrLfDvnO9FklCIiIiJZU04lYklFKRERERERERERKXDGwg5ARERERERERETuPypKiYiIiIiIiIhIgVNRSkRERERERERECpyKUiIiIiIiIiIiUuCsCzuAkuzSpWtoGnkREZHizWCA8uXLFHYYmUpKSsLPz49x48bh7e0NQFRUFOPGjSM8PBw3NzfGjBlDq1atzOvs27eP6dOnExUVhaenJ9OmTaNatWrm/uXLl7NkyRKuX79Ox44dGTduHPb29gAkJiYyadIkvvzyS+zs7Ojbt6/Fbe6z23dOKH8SEREp/nKaP6kodQ+ZTCipEhERkXsiMTGRYcOGcfz4cXObyWQiICCAOnXqsGHDBr766isCAwPZvn07bm5unDt3joCAAAYPHkzr1q0JDQ1l0KBBbN26FYPBwK5duwgJCWHWrFmUL1+eoKAgZs2axfjx4wEIDg7m6NGjrFixgnPnzjFq1Cjc3Nzo0KFDtvvOKeVPIiIi9w9dviciIiJSzJw4cYLu3btz5swZi/YDBw4QFRXF5MmTqVWrFgMGDKBx48Zs2LABgHXr1tGgQQP69u3Lww8/zIwZMzh79iw//fQTACtXrqR37974+vrSqFEjJk2axIYNG0hISCA+Pp5169YxduxYPDw8aN++Pf369WP16tU52reIiIjI7YpEUSopKYnOnTtz8OBBc9vUqVNxd3e3eKxatcrcv23bNtq1a4enpycBAQFcvnzZ3GcymZg9ezbNmzenWbNmBAcHk5qaau6PjY1l8ODBeHl50bZtW7Zs2WIRz7Fjx3j++efx9PSka9euHD169B4evYiIiEju/PTTT3h7e7N27VqL9oiICOrXr4+Dg4O5rUmTJoSHh5v7mzZtau6zt7fHw8OD8PBwUlJSOHLkiEV/48aNuXnzJpGRkURGRpKcnIyXl5fFtiMiIkhNTc123yIiIiK3K/TL9zIbeg5w8uRJhg0bxnPPPWduc3R0BODw4cOMHTuWSZMmUbduXaZNm0ZQUBALFy4EYNmyZWzbto2QkBCSk5MZMWIE5cuXx9/fH4CgoCBu3LjB2rVriYiI4O2336ZmzZo0atSI+Ph4+vfvT5cuXXjnnXf49NNPGTBgALt377ZIsgqC0WjAaDQU6D6laEtNNZGaqmsaRETudz169Mi0PTo6mooVK1q0lS9fngsXLmTbf/XqVRITEy36ra2tcXJy4sKFCxiNRpydnbGxsTH3V6hQgcTEROLi4rLdd04ZlPpICWU0GjDoAy63MZmU30vJlNOvu0ItSp04cYJhw4ZhymTigJMnT+Lv74+Li0uGvlWrVtGxY0eeffZZIG1+A19fX6KioqhWrRorV65kyJAh5jN9w4cP5/3338ff358zZ86wZ88evv76a6pWrUqdOnUIDw/nk08+oVGjRmzfvh1bW1tGjhyJwWBg7NixfP/99+zcuRM/P797+nr8m9FowNnZAaOxSAxmkyIiNTWV2Nh4/XCJiEimEhISLIpGADY2NiQlJWXbf+PGDfPzzPpNJlOmfZA26j27fedUUZ1UXuRumUwmFaUkA30u5H5XqEWp9KHnQ4cOpXHjxub269ev8/fff1OjRo1M14uIiOC1114zP69cuTJubm5ERERgY2PD+fPnefTRR839TZo04ezZs1y8eJGIiAgqV65M1apVLfrTR1lFRETQpEkT8xeDwWDgkUceITw8vMCLUkajka9ORhJ7I77A9itFl7OdA+1q1cVoNKgoJSIimbK1tSUuLs6iLSkpCTs7O3P/7UWipKQkypYti62trfn57f329vakpKRk2gdgZ2eX7b5zSnffk5LIysqIs3NpkpKOkpqq3F7SGI0O2Ng0IDb2H1JSUrNfQaQYKRZ338tq6PnJkycxGAx8+OGHfP/99zg5OdGnTx/zpXwXL17Mcnh4dHQ0gEV/hQoVAMz9ma37999/A2nD2mvXrp2h//bLCwtK7I14YuKvF8q+RUREpHhxdXXlxIkTFm0xMTHm3MfV1ZWYmJgM/fXq1cPJyQlbW1tiYmKoVasWAMnJycTFxeHi4oLJZCI2Npbk5GSsrdNSyOjoaOzs7Chbtmy2+84p3X1PSrLU1HhMpmuFHYYUEf+a9ljfe3LfKvQ5pTJz6tQpDAYDDz30EK+88gr//e9/GTduHI6OjrRv354bN27kauh5boaW59fQc9CcCHLv6LMlIlJwitN3rqenJ4sWLeLGjRvmEUphYWE0adLE3B8WFmZePiEhgWPHjhEYGIjRaKRhw4aEhYXh7e0NQHh4ONbW1tStWxdIm2MqPDzcPEVCWFgYDRs2xGg0ZrtvERERkdsVyaLUs88+i6+vL05OTgDUrVuX06dP8+mnn9K+ffssh57b29tbFKBuH4Zub2+f5brZDWvP7dBz0JwIcm84O5cu7BBERKSIatasGZUrVyYoKIhBgwaxZ88eDh8+zIwZMwDo2rUrS5YsYdGiRfj6+hIaGkrVqlXNRagePXowfvx46tSpQ8WKFZk4cSLdu3fH3t4eSMvRJk6cyPTp07l48SJLly41bzu7fYuIiIjcrkgWpQwGg7kgle6hhx7iwIEDQNZDz11cXHB1dQXShpOnzxuVfklfen9W695p27kdeg53NydC+nXnIrfTNeciIgUrp3MiFAVWVlZ88MEHjB07Fj8/P6pXr05oaChubm4AVK1alfnz5zN9+nRCQ0Px8vIiNDTUPJfmU089xdmzZxk/fjxJSUk88cQTjBgxwrz9oKAgJk6cSO/evXF0dGTw4ME88cQTOdq3iIiIyO2KZFHq/fff5+eff2b58uXmtsjISB566CHg1tDz9InHz58/z/nz5/H09MTV1RU3NzfCwsLMRamwsDDc3NyoWLEijRs35uzZs1y4cIFKlSqZ+9MnWvf09GTx4sXmuyCYTCYOHTrEwIEDc30cmhNB7hV9rkREJN1vv/1m8bx69eqsWrUqy+V9fHzw8fHJsr9///70798/0z57e3tmzpzJzJkzM+3Pbt8iIiIi/2Ys7AAy4+vry3//+1+WLFnCmTNn+OSTT9i8eTN9+/YF4KWXXmLLli2sW7eOyMhIRo4cSZs2bahWrZq5f/bs2Rw8eJCDBw8yZ84cevXqBUC1atVo1aoVI0aMIDIyknXr1rFt2zZefvllADp06MDVq1eZNm0aJ06cYNq0aSQkJNCxY8fCeTFEREREREREREqgIjlSqlGjRrz//vvMmzeP999/nypVqjBnzhy8vLwA8PLyYvLkycybN48rV67QsmVLpkyZYl7f39+fS5cuERgYiJWVFd26dePVV1819wcHBzN27Fi6d++Oi4sL06dPp1GjRgA4OjqycOFCJkyYwGeffYa7uzuLFi3CwcGhQF8DEREREREREZGSzGAy6UKgeyUmJu9zSllbp80pte6XQ8TEX8/fwKRYquDgyPMejxAb+w/JyZpTSkSkoBgMUKFC8ZhTqiS4m/xJpKhKz+1v3PgJk+laYYcjRYTBUAY7u2bK76VEymn+VCQv3xMRERERERERkZJNRSkRERERERERESlwKkqJiIiIiIiIiEiBU1FKREREREREREQKnIpSIiIiIiIiIiJS4FSUEhERERERERGRAqeilIiIiIiIiIiIFDgVpUREREREREREpMCpKCUiIiIiIiIiIgVORSkRERERERERESlwKkqJiIiIiIiIiEiBU1FKREREREREREQKXJ6KUgcOHMBkMuV3LCIiIiIlmnIoERERkVus87LSG2+8QalSpejQoQOdO3emcePG+RyWiIiISMmjHEpERETkljwVpfbu3cvevXvZuXMn/fv3x9HRkY4dO/LUU09Rv379/I5RREREpERQDiUiIiJyS56KUtbW1vj4+ODj40NycjL79u3jm2++oUePHri6utKlSxf8/Pxwc3PL73hFREREii3lUCIiIiK33NVE50lJSXz33Xd88cUX7NixA2dnZ9q2bcvp06d56qmnWLVqVX7FKSIiIlJiKIcSERERyeNIqa+++oqdO3fy7bffUqpUKZ588klCQ0Np2rSpeZnVq1czd+5cXnnllXwLVkRERKQ4Uw4lIiIickueilKjRo2iXbt2zJ07l5YtW2JlZZVhmQYNGtCnT5+7DlBERESkpFAOJSIiInJLnopS+/bt4/r161y9etWcTG3fvp1HH30UFxcXADw9PfH09My/SEVERESKOeVQIiIiIrfkaU6pQ4cO0b59ez7//HNz28qVK+nUqRNhYWH5FpyIiIhISaIcSkREROSWPBWlZs6cycCBAxkyZIi5bc2aNfTr14/p06fnW3AiIiIiJYlyKBEREZFb8lSUOn36NB06dMjQ3rFjR06cOHHXQYmIiIiURMqhRERERG7JU1HqoYceYseOHRnav/nmGx588MFcby8pKYnOnTtz8OBBc1tUVBSvvvoqjRs3plOnTvz4448W6+zbt4/OnTvj6elJr169iIqKsuhfvnw5rVu3xsvLizFjxpCQkGDuS0xMZMyYMTRt2pRWrVqxdOlSi3Wz27eIiIhIXuR3DiUiIiJSnOVpovM333yTQYMGsXfvXjw8PAD47bff+N///sf8+fNzta3ExESGDRvG8ePHzW0mk4mAgADq1KnDhg0b+OqrrwgMDGT79u24ublx7tw5AgICGDx4MK1btyY0NJRBgwaxdetWDAYDu3btIiQkhFmzZlG+fHmCgoKYNWsW48ePByA4OJijR4+yYsUKzp07x6hRo3Bzc6NDhw7Z7ltEREQkr/IzhxIREREp7vI0Uurxxx9n06ZN1K9fn1OnTnHmzBnq1q3LF198gY+PT463c+LECbp3786ZM2cs2g8cOEBUVBSTJ0+mVq1aDBgwgMaNG7NhwwYA1q1bR4MGDejbty8PP/wwM2bM4OzZs/z0009A2oShvXv3xtfXl0aNGjFp0iQ2bNhAQkIC8fHxrFu3jrFjx+Lh4UH79u3p168fq1evztG+RURERPIqv3IoERERkZIgTyOlAB5++GFGjx59Vzv/6aef8Pb2ZujQoTRu3NjcHhERQf369XFwcDC3NWnShPDwcHN/06ZNzX329vZ4eHgQHh5O06ZNOXLkCIGBgeb+xo0bc/PmTSIjIzGZTCQnJ+Pl5WWx7Q8//JDU1NRs9y0iIiJyN/IjhxIREREpCfJUlLp69SpLly7lyJEjJCcnYzKZLPpXrlyZo+306NEj0/bo6GgqVqxo0Va+fHkuXLiQbf/Vq1dJTEy06Le2tsbJyYkLFy5gNBpxdnbGxsbG3F+hQgUSExOJi4vLdt8iIiIieZVfOZSIiIhISZCnotTIkSM5cuQIXbp0wdHRMb9jIiEhwaJoBGBjY0NSUlK2/Tdu3DA/z6zfZDJl2gdpE65nt+/cMBhyvYpIjuizJSJScPLzO/de51AiIiIixUmeilL79u1j1apVNGrUKL/jAcDW1pa4uDiLtqSkJOzs7Mz9txeJkpKSKFu2LLa2tubnt/fb29uTkpKSaR+AnZ1dtvvOjfLly+R6HZHsODuXLuwQREQkj+51DiUiIiJSnOSpKOXq6orRmKc50nO8/RMnTli0xcTEmC+rc3V1JSYmJkN/vXr1cHJywtbWlpiYGGrVqgVAcnIycXFxuLi4YDKZiI2NJTk5GWvrtMOPjo7Gzs6OsmXLZrvv3Lh06Rq3jcrPMSsro4oPkqnY2H9ISUkt7DBERO4bBkP+nWi61zmUiIiISHGS58v3Jk6cyJAhQ6hevTqlSpWy6Hdzc7uroDw9PVm0aBE3btwwj1AKCwujSZMm5v6wsDDz8gkJCRw7dozAwECMRiMNGzYkLCwMb29vAMLDw7G2tqZu3bpA2hxT6ZOip2+7YcOGGI3GbPedGyYTeS5KidyJPlciIsXTvc6hRERERIqTPBWlBg8eDED//v0BMPz/ZAsmkwmDwcCvv/56V0E1a9aMypUrExQUxKBBg9izZw+HDx9mxowZAHTt2pUlS5awaNEifH19CQ0NpWrVquYiVI8ePRg/fjx16tShYsWKTJw4ke7du2Nvbw/As88+y8SJE5k+fToXL15k6dKl5m1nt28RERGRvLrXOZSIiIhIcZKnotTXX3+d33FYsLKy4oMPPmDs2LH4+flRvXp1QkNDzWcPq1atyvz585k+fTqhoaF4eXkRGhpqTuyeeuopzp49y/jx40lKSuKJJ55gxIgR5u0HBQUxceJEevfujaOjI4MHD+aJJ57I0b5FRERE8upe51AiIiIixYnBdPu9iHPh+PHjnD59mpYtW3Lp0iWqVq1qLgwJxMTkfU4pa+u0OaXW/XKImPjr+RuYFEsVHBx53uMRYmP/ITlZc0qJiBQUgwEqVMjfm5coh8ra3eRPAEajAaNRr6VYSk01kZpaePMfpOf2N278hMl0rdDikKLFYCiDnV0z5fdSIuU0f8rTSKkrV67wxhtv8NNPPwGwa9cupk2bRlRUFIsWLaJKlSp52ayIiIhIiaYc6t4yGg04OztoMnnJIDU1ldjY+EItTImISEZ5KkpNnToVe3t7Dhw4gI+PDwDTp09nxIgRTJ06lQULFuRrkCIiIiIlgXKoeyttlJSRr05GEnsjvrDDkSLC2c6BdrXqYjQaVJQSESli8lSU+uGHH/j4448pW7asua1cuXIEBQXx4osv5ltwIiIiIiWJcqiCEXsjXtMfiIiIFAN5HtucmJiYoe3y5ctYW+epziUiIiJyX1AOJSIiIpImT0Wpzp07M23aNI4fP47BYCA+Pp4DBw4wbtw4OnXqlN8xioiIiJQIBZVD7d69G3d3d4vHkCFDADh27BjPP/88np6edO3alaNHj1qsu23bNtq1a4enpycBAQFcvnzZ3GcymZg9ezbNmzenWbNmBAcHk5p6a3Le2NhYBg8ejJeXF23btmXLli35dkwiIiJS8uSpKDVy5Eg8PT3x8/MjPj6eZ555Bn9/f1q0aMHIkSPzO0YRERGREqGgcqgTJ07g6+vLjz/+aH5MnTqV+Ph4+vfvT9OmTdm4cSNeXl4MGDCA+Pi0+ZcOHz7M2LFjCQwMZO3atVy9epWgoCDzdpctW8a2bdsICQlh3rx5fP755yxbtszcHxQUxLVr11i7di2vv/46b7/9NocPH8634xIREZGSJU/jxG1sbBg9ejRvvvkmUVFRpKSkUK1aNUqXLp3f8YmIiIiUGAWVQ508eZI6derg4uJi0b5+/XpsbW0ZOXIkBoOBsWPH8v3337Nz5078/PxYtWoVHTt25NlnnwUgODgYX19foqKiqFatGitXrmTIkCE0bdoUgOHDh/P+++/j7+/PmTNn2LNnD19//TVVq1alTp06hIeH88knn9CoUaN8PT4REREpGfJUlPrvf/+boe3YsWPm/3/00UfzHpGIiIhICVVQOdTJkyd57LHHMrRHRETQpEkTDAYDAAaDgUceeYTw8HD8/PyIiIjgtddeMy9fuXJl3NzciIiIwMbGhvPnz1vE2KRJE86ePcvFixeJiIigcuXKVK1a1aJ/4cKF+XJMIiIiUvLkqSjVs2fPTNttbGxwcXHh66+/vqugREREREqigsihTCYTf/zxBz/++CMLFy4kJSWFDh06MGTIEKKjo6ldu7bF8uXLl+f48eMAXLx4kYoVK2bov3DhAtHR0QAW/RUqVAAw92e27t9//33XxyQiIiIlU56KUpGRkRbPU1JSOHPmDFOmTKFLly75EpiIiIhISVMQOdS5c+dISEjAxsaG9957j7/++oupU6dy48YNc/u/2djYkJSUBMCNGzey7L9x44b5+b/7AJKSkrLddk79/yAukXtCny8pqvTZlJImp5/pfLn3sJWVFTVr1mT06NH079+f5557Lj82KyIiIlKi3YscqkqVKhw8eJAHHngAg8FAvXr1SE1NZcSIETRr1ixDkSgpKQk7OzsAbG1tM+23t7e3KEDZ2tqa/x/A3t4+y3XTt51T5cuXydXyIjnl7Kz5b6Vo0mdT7mf5UpRKd+nSJa5evZqfmxQREREp8fI7h3JycrJ4XqtWLRITE3FxcSEmJsaiLyYmxnzZnaura6b9Li4uuLq6AhAdHW2eNyr9kr70/qzWzY1Ll65hMuVqFTMrK6P+uJMsxcb+Q0pKaqHsW59NuZPC/GyK3CsGQ85ONOWpKPXvWwOn++eff9i3bx8dOnTIyyZFRERESryCyKF++OEHhg8fzrfffou9vT0Av/76K05OTjRp0oTFixdjMpkwGAyYTCYOHTrEwIEDAfD09CQsLAw/Pz8Azp8/z/nz5/H09MTV1RU3NzfCwsLMRamwsDDc3NyoWLEijRs35uzZs1y4cIFKlSqZ+xs3bpyr+E0m8lyUEsmOPltSVOmzKfcrY35tyMnJiVGjRjFx4sT82qSIiIhIiZffOZSXlxe2tra8/fbbnDp1iu+++47g4GD69etHhw4duHr1KtOmTePEiRNMmzaNhIQEOnbsCMBLL73Eli1bWLduHZGRkYwcOZI2bdpQrVo1c//s2bM5ePAgBw8eZM6cOfTq1QuAatWq0apVK0aMGEFkZCTr1q1j27ZtvPzyy/lyXCIiIlLyGEwm1WTvlZiYvA8/t7ZOG+K77pdDxMRfz9/ApFiq4ODI8x6PEBv7D8nJGt4rIlJQDAaoUKF4zXN0/Phxpk+fTnh4OKVLl+bFF18kICAAg8HA4cOHmTBhAidPnsTd3Z1JkyZRv35987obN25k3rx5XLlyhZYtWzJlyhScnZ2BtInZg4OD2bhxI1ZWVnTr1o1hw4Zh+P/ZTC9dusTYsWPZt28fLi4uDB06lM6dO+cqduVPkt+KQg6V/tm8ceMnTKZrhRKDFD0GQxns7Jopv5cSKaf5U56KUiEhITleNjAwMLebLzGUVEl+KgoJlYjI/Sg/i1LKobKn/EnyW1HIoVSUksyoKCUlWU7zpzzNKfXnn3+yc+dOnJycaNCgATY2NkRGRnLmzBkaN26MtbX1/weh+1qKiIiIpFMOJSIiInJLnopSNjY2dOnShUmTJlGqVClz+8yZM7ly5QrTp0/PtwBFRERESgrlUCIiIiK35Gmi8+3bt9OvXz+LZAqge/fubN++PV8CExERESlplEOJiIiI3JKnopSrqys//PBDhvZdu3aZ784iIiIiIpaUQ4mIiIjckqfL94YNG8abb77Jt99+S926dQE4cuQIx44d48MPP8zXAEVERERKCuVQIiIiIrfkaaRU+/bt2bhxI3Xq1OHkyZOcPXuWZs2asWvXLpo1a5bfMYqIiIiUCMqhRERERG7J00gpAHd3d4KCgrhy5QqOjo4YjUbdKUZEREQkG8qhRERERNLkaaSUyWRiwYIFeHt706JFC86dO8eIESMYP348SUlJ+R2jiIiISImgHEpERETkljwVpUJDQ9m6dSvvvPMONjY2ADz33HPs3buX4ODgfAtu9+7duLu7WzyGDBkCwLFjx3j++efx9PSka9euHD161GLdbdu20a5dOzw9PQkICODy5cvmPpPJxOzZs2nevDnNmjUjODiY1NRUc39sbCyDBw/Gy8uLtm3bsmXLlnw7JhEREbl/FVQOJSIiIlIc5KkotWnTJiZPnoyvr695uHnLli2ZOXMmO3bsyLfgTpw4ga+vLz/++KP5MXXqVOLj4+nfvz9NmzZl48aNeHl5MWDAAOLj4wE4fPgwY8eOJTAwkLVr13L16lWCgoLM2122bBnbtm0jJCSEefPm8fnnn7Ns2TJzf1BQENeuXWPt2rW8/vrrvP322xw+fDjfjkvk/9q787goy/3/4+8ZcEBABQRRcNejKSKQJq6hVuerpp6yzDLREkNzOy2aW7ngkpJLqRxTj2ak5ZJri7lkdVLLThquWS65a6KhpiDbzO8PD/NrBBQQZwZ8PR+PecRc1z33/ZnhFq7e3Nd1AwDuTfYaQwEAABQHhQqlLl68qAoVKuRoL1u2rDUYKgpHjhxRnTp15O/vb32ULVtWn3/+udzc3PTaa6+pVq1aGjVqlDw9PfXFF19IkhYvXqz27dvrscce03333ae4uDh98803OnnypCQpISFBgwcPVuPGjdW0aVMNGTJES5YskSSdOHFCX331lSZMmKA6deqoa9eu6ty5sz788MMie18AAODeZK8xFAAAQHFQqFCqadOmWrBggU3b1atXNX36dEVERBRJYdKNUKp69eo52nfv3q1GjRpZ/8JoMBh0//33KzEx0drfuHFj6/aVKlVSYGCgdu/erd9//11nz57VAw88YO1v1KiRTp8+rfPnz2v37t2qVKmSKleubNP/008/Fdn7AgAA9yZ7jaEAAACKg0LdfW/s2LEaOHCgWrRoobS0NPXv319nzpxRYGCg5syZUySFWSwW/fbbb9q6davmzp2rrKwstWvXToMHD1ZSUpJq165ts3358uV16NAhSdL58+dz/BWyfPnyOnfunJKSkiTJpt/Pz0+SrP25vfb3338v8HvgRjq4Wzi3AMB+ivJnrj3GUAAAAMVFoUKpsmXL6uOPP9Z3332no0ePKjMzUzVq1FDLli1lNBbq4qsczpw5o9TUVJlMJr399ts6deqUJkyYoOvXr1vb/8pkMlnvWnP9+vU8+69fv259/tc+SUpPT7/tvguifPkyBX4NcDs+Pp6OLgEAUEj2GEMBAAAUF4UKpTp27KjZs2erWbNmatasWVHXJEkKCgrSjh07VK5cORkMBtWrV09ms1lDhw5VkyZNcoRE6enpcnd3lyS5ubnl2l+6dGmbAMrNzc36tSSVLl06z9dm77sgLl78UxZLgV8mSXJxMRI+IFfJydeUlWW+/YYAgCJhMBTdH5rsMYYCAAAoLgoVShmNRmVkZBR1LTl4e3vbPK9Vq5bS0tLk7++vCxcu2PRduHDBOu0uICAg135/f38FBARIkpKSkqzrRmVP6cvuz+u1BWWxqNChFHArnFcAUDzZawwFAABQHBQqlGrdurWef/55tWnTRkFBQTmmuw0cOPCOC/v22281ZMgQff311ypdurQk6eeff5a3t7caNWqk+fPny2KxyGAwyGKxaNeuXerXr58kKTQ0VDt37lSXLl0kSWfPntXZs2cVGhqqgIAABQYGaufOndZQaufOnQoMDFSFChUUFham06dP69y5c6pYsaK1Pyws7I7fEwAAuLfZYwwFAABQXBQqlPrll18UHBys8+fP6/z58zZ9hiJaDTQ8PFxubm56/fXXNWDAAJ08eVJxcXHq06eP2rVrp2nTpmnixIl6+umntXTpUqWmpqp9+/aSpGeeeUZRUVEKCwtTSEiIJk6cqNatW6tKlSrW/qlTp1pDp2nTpql3796SpCpVqqhly5YaOnSoRo0apb179+rTTz/V4sWLi+R9AQCAe5c9xlAAAADFRb5DqWeffVZz5sxR2bJl9cEHH0i6saB4YdZayg8vLy8tWLBAkyZN0hNPPCFPT089/fTT6tOnjwwGg+bOnasxY8Zo+fLlqlu3rubNmycPDw9JNwKt2NhYzZw5U5cvX1aLFi00fvx4676jo6N18eJFDRw4UC4uLnryySf13HPPWfvj4uI0atQoPfXUU/L399ekSZPUsGHDu/I+AQBAyWbvMRQAAEBxYbBY8rc6zX333adt27apfPny1rb7779fa9eutV6BBFsXLhR+oXNX1xsLna/Yv0sXUq4WbWEolvw8vNQ1+H4lJ19TZiYLnQOAvRgMkp9f4Rc6ZwxVMIyfUNScYQyVfW5ev/6DLJY/HVIDnI/BUEbu7k0Y36NEyu/46Y7uPZzPPAsAAAB/wRgKAADgDkMpAAAAAAAAoDAIpQAAAAAAAGB3Bbr73vr16+Xl5WV9bjabtWnTJvn6+tps99hjjxVJcQAAACUBYygAAICc8h1KBQYGauHChTZt5cuX1+LFi23aDAYDAyoAAID/YQwFAACQu3yHUlu2bLmbdQAAAJRIjKEAAAByx5pSAAAAAAAAsDtCKQAAAAAAANgdoRQAAAAAAADsjlAKAAAAAAAAdkcoBQAAAAAAALsjlAIAAAAAAIDdEUoBAAAAAADA7gilAAAAAAAAYHeEUgAAAAAAALA7QikAAAAAAADYHaEUAAAAAAAA7I5QCgAAAAAAAHbn6ugCAAAAAACAYxiNBhmNBkeXASdjNltkNlvu+nEIpQAAAAAAuAcZjQb5+HgSSiEHs9mi5ORrdz2YIpQCAAAAAOAelH2V1MEDp5VyLd3R5cBJeHiadF/9IBmNBkIpAM6HS3yRG3td4gsAAICilXItXVevXnd0GbgHEUoBKBCj0SBfXw8ZDNwnAbYsFrP++COFYAoAAABAvhBK5SEtLU3jxo3Txo0b5e7urt69e6t3796OLgtwOKPRIIPBqPT0fTKbUxxdDpyE0eghk6mBXS7xBeC8GD8BAICCIJTKQ1xcnPbt26f3339fZ86c0bBhwxQYGKh27do5ujTAKZjNKbJY/nR0GXASZrOjKwDgDBg/AQCAgiCUykVKSopWrFih+fPnKzg4WMHBwTp06JCWLFnCoAoAnBjrnSE3rHdmH4yfAABAQRFK5eLgwYPKzMxUeHi4ta1Ro0Z69913ZTabZTSylg4AOBtuaYy82OuWxvc6xk8AAKCgCKVykZSUJB8fH5lMJmubn5+f0tLSdOnSJfn6+uZrP0ajZLnD8a9faS+5MoiDJG83D+vXznBKGI1eMpudoBA4BaPR8edn9lVSJ45fVHpahmOKgNMxuZVS1Wrl/xdWFu6XsoGcM18YP8FZOdMYivET/soZxk/ZvMq48Yc9WHl4/v/f5YU9N/M7fiKUykVqaqrNgEqS9Xl6enq+9+PrW+aOa2lTs84d7wMli4+Pp6NLkCSZTPUdXQKckDOcn1WrlXd0CXBCznBulnSMn+DsnOHnAOMn5MYZzs069wU6ugQ4IXucm8T0uXBzc8sxeMp+7u7u7oiSAAAAnBrjJwAAUFCEUrkICAhQcnKyMjMzrW1JSUlyd3dX2bJlHVgZAACAc2L8BAAACopQKhf16tWTq6urEhMTrW07d+5USEgIi3QCAADkgvETAAAoKEYIuShdurQee+wxjR07Vnv27NHmzZu1cOFC9ezZ09GlAQAAOCXGTwAAoKAMFsud3t+kZEpNTdXYsWO1ceNGeXl5KTo6Ws8995yjywIAAHBajJ8AAEBBEEoBAAAAAADA7pi+BwAAAAAAALsjlAIAAAAAAIDdEUoBAAAAAADA7gilAAAAAAAAYHeuji4AAIqLX3/9Va6uN35s1qxZ08HVALYuXbokSTKZTPLw8HBsMQAA/AVjKDgrxk+ORygFp7Nnzx7VqVNH7u7uji4FsJoxY4a2bNmia9euycPDQ08++SS3OYfTeOedd5SYmKhjx44pJCRELVu21FNPPeXosgDYGWMoOCPGUHBWjJ+cA6EUnIbZbNYff/yhmJgYxcTEqEePHjKZTI4uC9CyZcu0evVqzZ49WxkZGTpy5IgmTZqkihUrql27do4uD/e45cuXa8WKFZo2bZouXLig06dPKzY2VufOndPgwYMdXR4AO2AMBWfFGArOivGT8yCUgtOwWCzy8/OTt7e3pk+fLrPZrF69eqlUqVKOLg33uCNHjqht27Zq2LChJKlGjRr6/PPPlZiYyIAKDnf48GFFREQoIiJCkpSamipXV1fFxcXJZDKpX79+Dq4QwN3GGArOijEUnBXjJ+dBKAWn4eLiIkny9vZWUFCQpk6dqrS0NMXExDCogkNYLBYZDAYlJSUpIyPD2u7r66uaNWtq27ZtSk9P56/RcIjs8/PixYu6du2atb106dIKCwuTt7e33n77bRmNRsXExDiwUgB3G2MoOBvGUHBWjJ+cD3ffg9OwWCw6ceKErly5osmTJys+Pl6zZs3S/PnzbX6ZAfZiMBgkSR07dtTJkyf1+++/KysrS5JUsWJFR5YGWM/Pzp07a+vWrVq3bp21z9vbWy1atND48eP14YcfauvWrY4qE4AdMIaCs2EMBWfF+Mn5cKUUnIbBYFCFChXUoUMHpaen66GHHtLUqVM1ZMgQSdILL7zAX/vgEA899JAaNGig8uXLW3+Rubi4WL/OtmfPHuvl6YC9NG/eXH379tWYMWO0Y8cO+fv7a8mSJerWrZu6du2qHTt26PDhw2rZsqWjSwVwlzCGgrNiDAVnxfjJeRBKwam4u7srJiZGJpNJWVlZ6tixoyQxqILDBQQE2DxPSUnRtWvXZDabJd24s8zcuXO1fft2+fr6OqJE3KNKlSqlmJgY1a5dWx9++KHOnTunnj17atCgQdb+77//njsdASUcYyg4K8ZQcEaMn5wHoRScTvbccoPBIIvFYh1UDR8+XNevX9egQYMYVMFhsuehG41Gubi4yN3dXbNmzVJCQoKWL1/OYAoO4ebmpvbt2+vhhx/O8fPR3d1dNWrUcFBlAOyJMRScGWMoOBvGT86BUApOy2g0ymKxWAdV6enpmjx5sp577jl+acHhvL295enpqdjYWK1YsUIfffSRGjRo4OiycI9zdXXV1atXNWjQIBkMBplMJu3atUuLFy92dGkA7IgxFJwZYyg4G8ZPjmWwWCwWRxcB3Er2KWowGHT16lV5eXk5uCJA2r17t7p166ZSpUpp2bJlql+/vqNLAqz279+vDRs2yMvLSw899JBq1arl6JIAOABjKDgjxlBwVoyfHINQCsVC9uW+2f8FHC01NVXTpk1T9+7dVbNmTUeXAwBArhhDwdkwhgLwV4RSAFBImZmZcnVlFjQAAEBBMIYCkI1QCgAAAAAAAHZndHQBAAAAAAAAuPcQSgEAAAAAAMDuCKUAAAAAAABgd4RSAAAAAAAAsDtCKQAAAAAAANgdoRQAAAAAAADsjlAKQLF3+fJlTZ48WW3btlVoaKjat2+vRYsWyWw25+v13333nY4cOXKXq8zdrFmzFBUV5ZBjAwCAexfjJwDOwGCxWCyOLgIACis5OVndunVThQoVNGDAAFWuXFl79+7V+PHj1aFDB73xxhu33UfdunWVkJCgiIgIO1Rs69q1a8rIyJC3t7fdjw0AAO5NjJ8AOAtXRxcAAHdi2rRpMplMWrBggdzc3CRJVapUkbu7u/r3768ePXqoRo0aDq4yb56eno4uAQAA3GMYPwFwFkzfA1Bspaen67PPPtOzzz5rHVBla9OmjRYtWqSgoCAdPnxY0dHRCg8PV0hIiLp372693Lxt27aSpJ49e2rWrFmSpB9//FFdunRRw4YN1alTJ23YsMFm34sWLVKrVq10//33a8KECYqKitKqVaskSWlpaXrrrbcUGRmpsLAw9evXT2fPnpUknTp1SnXr1lV8fLweeOABxcbG5rj8/FbHPnPmjHr37q3w8HA1a9ZM48ePV0ZGRhF/qgAAoCRj/MT4CXAmhFIAiq0TJ04oJSVFISEhOfoMBoOaNm0qV1dX9evXT0FBQVq7dq2WLl2qrKwsvfXWW5Kkjz/+WNKNtQl69+6tpKQk9e3bV126dNEnn3yiPn36aPjw4frxxx8lSevWrdPMmTM1cuRILVu2TKdOndJ///tf63HHjBmjTZs2acqUKVq6dKkyMzPVv39/m/UZdu3apZUrV6pnz542Nd/u2OPHj5eHh4fWrFmj+Ph4bdiwQcuXLy/aDxUAAJRojJ8YPwHOhOl7AIqtK1euSJLKlCmT5zbXr1/X008/re7du8vDw0OS9Pjjj+vf//63JMnX11eSVK5cOXl6emr+/Plq3ry5evToIUmqVq2afv75Z73//vtq3LixPvzwQ/Xq1Uvt27eXJE2ZMkWRkZGSbiwYunbtWs2fP19NmzaVJE2dOlWtW7fWtm3brJfB9+rVS1WrVs1R65IlS2557NOnTys4OFiBgYGqVq2a5s2bp7Jly97ZhwgAAO4pjJ8YPwHOhFAKQLGVvbjl5cuX89zGw8NDzzzzjNasWaN9+/bp6NGjOnDggPz8/HLd/ujRo/rqq68UHh5ubcvIyLAOiH755RfFxMRY+8qVK2ftO3bsmMxms0JDQ21qrFGjho4cOWLdLigoqFDH7tOnj0aOHKlNmzbpwQcfVIcOHVS/fv083zsAAMDNGD8xfgKcCaEUgGKratWqKlOmjPbv36+GDRvm6H/xxRf11FNPKS4uTj4+Pmrbtq06duyoo0ePauHChbnuMzMzU506dVK/fv1s2l1db/y4dHFx0c03Lc1+fvO6DNmysrJsLj/Pa7vbHbtz585q1qyZNm/erK+//lqDBw/WCy+8oJdffjnX/QEAANyM8RPjJ8CZsKYUgGLL1dVVHTp00JIlS5Senm7Tt2XLFm3ZskUnT57U+fPnlZCQoD59+qh58+Y6c+ZMjoFRtho1auj48eOqVq2a9fHll1/qk08+kSTVrl1b+/fvt25/9epVHT9+XNKNu9a4uroqMTHR2p+cnKzjx4/n6w42tzv2jBkzdPHiRT3zzDOaO3euXnrpJW3cuLFAnxkAALi3MX5i/AQ4E0IpAMXaoEGDdPXqVUVHR+uHH37QiRMntGLFCg0fPlw9e/ZUSEiIUlJStHnzZp06dUorVqzIMQjz8PDQoUOH9Oeff6p79+7at2+fZsyYoWPHjumTTz7R9OnTFRgYKEmKiopSQkKCNm7cqCNHjmjkyJFKSUmRwWCQp6enunbtqvHjx2vHjh06ePCghg4dqooVK6pFixa3fS+3O/bRo0cVGxurgwcP6tChQ/rmm2+4/BwAABQY4yfGT4CzYPoegGLN399fH330kWbNmqUhQ4bo0qVLqlq1qgYPHqxnnnlGLi4uGjBggMaNG6e0tDTVrVtXo0eP1qhRo/T7778rICBAUVFRiouL04kTJzRy5Ei9++67mjp1qhYsWKCAgAANHz5cnTt3liQ9+uijOn78uMaMGaO0tDR169ZNQUFBKlWqlCRp2LBhmjJligYPHqz09HQ1b95cixYtkslkuu17CQoKuuWxx44dq3HjxikqKkqZmZlq3bq1Ro0adfc+XAAAUCIxfmL8BDgLgyWvazABADn88MMPqlKliipVqiTpxjoGTZs2VXx8vCIiIhxcHQAAgPNh/AQgL1wpBQAFsHnzZv30008aN26cPD09lZCQIC8vL4WFhTm6NAAAAKfE+AlAXrhSCgAK4OrVq4qNjdU333yjtLQ0hYeHa9SoUapdu7ajSwMAAHBKjJ8A5IVQCgAAAAAAAHbH3fcAAAAAAABgd4RSAAAAAAAAsDtCKQAAAAAAANgdoRQAAAAAAADsjlAKAAAAAAAAdkcoBQAAAAAAALsjlAIAAAAAAIDdEUoBAAAAAADA7gilAAAAAAAAYHeEUgAAAAAAALA7QikAAAAAAADYHaEUAAAAAAAA7I5QCgAAAAAAAHZHKAXgnmWxWBxdAgAAAADcs1wdXQDgTIYPH67Vq1fn2f/OO++oXbt2dqyo5Pvss880depUJSUlqUuXLoqNjc1z2++++05LlizR7t27deXKFVWsWFFt27ZVnz59VL58+QIdd+fOnXr33Xc1f/78O30LRSoqKkqS9MEHH9zV47Rt21ZNmjTR5MmT7+pxpBvv6Ycffsiz/+OPP1ZISEiu2xkMBnl4eKh69erq1auX/vGPf0iS6tate9vjvvnmm+rSpYvq1q2rgQMHatCgQTm2adu2rU6fPn3L/eT22gMHDqhr167asGGDKleunOvrZsyYoXfffVc9evTQG2+8cdt6AQAAgHsNoRRwE39/f82ePTvXvurVq9u3mHtAbGysqlevrsmTJysgICDP7aZOnap///vfateunUaNGiVvb2/98ssvmj9/vjZu3KjFixerUqVK+T7uihUrdOTIkaJ4C0VqzJgxdjnO7Nmz5eXlZZdjSVL9+vXzfG+1atXKc7usrCydO3dOixYt0muvvSZvb29FRkZq2bJlNvvo1q2bnnzySXXt2tXaVrVq1dvWNXv2bKWnp1ufDxw4UPXr11f//v2tbRUrVrR5za+//qqYmBhlZmbmuV+z2aw1a9aoTp06Wrt2rYYMGaLSpUvfth4AAADgXkIoBdzEZDIpLCzM0WXcMy5duqQWLVooIiIiz20+++wzzZ8/XyNGjNBzzz1nbW/atKkiIyP1+OOPa+LEiXmGicVJ7dq17XKc+vXr2+U42by8vPL17yqv7R588EE1a9ZMq1atUmRkZK7bVKxYscD/dm/+HEwmk3x9fXPdT3p6uhYvXqyZM2fKzc3tlvvdunWrzp07p+nTp6tHjx769NNPbQIzAAAAAKwpBRRKVFSUhgwZosGDByssLEzPP/+8JCktLU1xcXGKjIxUgwYN1KlTJ33++ec2rzWbzYqPj1fr1q0VGhqqfv36af369apbt65OnTol6cY0wrZt29q87tSpU6pbt65WrVplbbt06ZJGjx6t5s2bKyQkRE899ZS+++47m9fVrVtXS5Ys0ahRo9SkSROFh4frn//8py5cuGCz3Zo1a/T4448rNDRUrVu31rRp05Senq5Dhw6pbt26Oa5MOXv2rOrVq6d169bl+Tnt3btX0dHRioiI0P33369+/frp0KFDkqQdO3ZYp2DFx8fbvP+bzZs3T7Vr11avXr1y9FWvXl1Dhw5VeHi4dY2oP/74Q+PGjVObNm3UoEEDNWnSRAMGDLD5fFevXq3Tp0/bfKb5+f5lZGRo6tSpevDBB9WwYUNFR0drzZo1Oerftm2bunfvrkaNGikiIkKvvvqqzp49a+1ftWqV6tevrxUrVqhFixZq0qSJDh8+rKioKOsUPunG+TJv3jw98sgjatCggf7v//4vx9S+EydOqF+/foqIiFBoaKi6deumb775Js/vi3Rj2trw4cMl/f9za/369Ro8eLDCw8PVpEkTvf7660pJSbnlfuzFzc1NJpNJBoPBYTX85z//0ezZs9W3b18NGTLkltuuXLlSderUsX7/b/73AwAAAIBQCshVZmZmjsfNi2KvX79enp6emjNnjvr06SOLxaIBAwZo6dKlev755zVnzhyFh4fr5Zdf1po1a6yvi4uL07/+9S898cQTmjVrlsqWLVuoKVtpaWnq1auXvvzyS7388suaPXu2KlasqD59+uQIpmbMmCGz2azp06frtdde01dffaVJkyZZ+5csWaJhw4YpODhYs2fPVkxMjD744ANNmDBBf/vb3xQaGqq1a9fa7HPNmjXy8PDQ3//+91zr+/777/XMM89IkiZNmqQJEybo7Nmzevrpp3XkyBEFBwdb/0f9ySef1LJly1ShQoUc+0lKStLBgwfVunXrPAOJ7t27Kzo6WgaDQRaLRX379tW2bds0ZMgQLViwQAMHDtR3331n/Zz79++vyMhI+fv7a9myZWrdunW+v3+jR4/W+++/rx49eig+Pl5+fn451gtas2aNevfurUqVKmn69OkaMWKEfvrpJ3Xr1k0XL160bpeVlaWFCxdq4sSJGjFihM00tmxjx47VzJkz1blzZ7377rtq166dJk2apPj4eEk3Qqu+ffsqNTXVem55e3vrxRdf1PHjx3P9vPIyZswYBQUF6V//+peio6P18ccfa86cOQXaR14sFku+/l3dvF1aWpqOHj2qESNG6Nq1a9Y1pRwhJCREW7Zs0YsvvigXF5c8t7t06ZK2bNmixx57TJL0+OOPa+/evdq/f7+dKgUAAACKB6bvATc5ffq0goODc7S/+uqriomJsT4vVaqUxo0bJ5PJJOnGlTHffvutZsyYoQ4dOkiSWrVqpdTUVE2dOlUdO3bUtWvXtHjxYvXs2dO6cPKDDz6o559/Xtu3by9QnWvXrtXBgwe1fPlyhYaGWvcVFRWlqVOnauXKldZt69SpozfffNP6fM+ePfriiy8k/f8rtx5++GFNmDDBuk1qaqo+++wzZWRk6IknntCYMWN08uRJValSRdKN4OXRRx+Vu7t7rvVNmzZN1apV07x586z/A9+yZUs98sgjmjlzpt555x3rFKlbTbvKvroor8Wkb3b+/HmVLl1aw4YNU+PGjSVJEREROnHihDUEq1q1qnx9fW2maubn+3fmzBmtXr1aw4YNs14d16pVK124cEFbt261fp5Tp05Vy5YtNW3aNGtd999/vzp06KAFCxbotddes7b369dPrVu3zvW9/Pbbb1q+fLleeeUV67nXsmVLGQwGzZ07V927d1dmZqaOHj1qDdokqWHDhjnWSsqPyMhIDRs2TJLUrFkzbdu2TV9//bVeffXVAu0nN//9739z/Xc1ffp0Pfroo7fczmAwqE6dOnrnnXfUpk2bO66lsG615tlfffLJJzKbzdYA7e9//7tiY2O1dOlSjR8//m6WCAAAABQrhFLATfz9/XO9OuTmxY5r1qxpDaSkG3eGMxgMioyMtFkAuW3btlq3bp0OHTqk8+fPKyMjQw899JDNvjp37lzgUOq7776Tv7+/goODbY7Xpk0bxcXF6fLlyypXrpwk5Qh8KlasqNTUVEk3go+LFy/qkUcesdkmOjpa0dHRkqRHH31Ub775ptauXauBAwdq165dOnbsWJ53bktJSdHevXs1cOBAmytKypYtqzZt2tx2atlfubre+DFlNpvztX1AQIASEhJksVh06tQpHT9+XEePHtWuXbtuGdLk5/u3b98+WSyWHHdg7NixozWU+u2335SUlJQjyKlatarCw8Nz3F2uXr16edb0/fffy2KxqG3btjlqmjNnjnbu3KmHHnpItWvX1htvvKGtW7eqZcuWevDBBzVixIjbf1g3ye08ud2d6fIrODhY48aNy9F+82Lkf93u/Pnzevvtt5WRkaG3335bNWvWLJJa7raVK1cqIiJCJpNJV65ckXTje/bpp59q2LBhdl1gHgAAAHBmhFLATUwmk0JCQm67naenp83zS5cuyWKx6P777891+/Pnz+vy5cuSJF9fX5u+/F6BcfPxkpKScr36RLox7S07lLr5rl9Go9E6berSpUuSpPLly+d5LC8vL7Vr107r1q3TwIEDtWbNGtWoUUPh4eG5bv/nn3/KYrHIz88vR5+fn5/+/PPP276/bJUqVZLBYLhlOHL58mW5urpavyfr1q3T9OnTdfbsWXl7e6tevXp5XtGVLT/fvz/++ENSzs/qr8+zP8+83vuBAwds2jw8PG5ZkySbK4n+6vfff5fBYNDChQs1Z84cbdq0SWvWrFGpUqX08MMPa9y4cdZzID9udZ7cKU9Pz3z/u/rrdqGhoercubN69+6tVatW5fi342wOHDign3/+WZL0wAMP5Ohft26dunfvbu+yAAAAAKdEKAUUkTJlysjDw0MJCQm59lerVk27d++WJF28eNHmqo/s8CGbwWBQVlaWTdvNC06XKVNG1atX19SpU3M9Xn6nu5UtW1aSrIFLtuTkZB04cEDh4eHy8PDQE088odWrV2vPnj3asGGD9Sqq3JQpU0YGgyHHYurSjbDM29s7X7VJko+Pj4KDg/Xtt99q6NChua4rNXv2bC1dulRfffWVjh07pmHDhikqKkrR0dHWwC8uLk47d+68Zc23+/4lJydLki5cuKDAwEBr318/u+z3ltd79/Hxuf2b/p/s783777+fIwSVZK0hICBAY8eO1ZgxY3Tw4EF98cUXmj9/vnx8fAq1Xpkz8fPz0+jRo/XPf/5TEydOtJkS6YxWrVolDw8P/etf/5LRaLts4+jRo7Vs2TJCKQAAAOB/WOgcKCJNmjRRSkqKLBaLQkJCrI9ff/1V8fHxyszMVHh4uEqXLm1dzynbli1bbJ57enoqOTlZaWlp1rabA5UmTZro7NmzKl++vM3xtm3bpn//+9+3XIj5r2rWrCkfHx999dVXNu1r165VTEyMMjIyJN246qN69ep666239Oeff95ywWkPDw81aNBA69evtwnX/vzzT3399ddq1KhRvmrLFh0drV9//VWLFy/O0Xf48GGtXLlSzZs3l5+fn3766SeZzWYNGjTIGkhlZWVZp0dmTwO8OTDIz/evUaNGcnFx0aZNm2xeu3HjRuvXNWrUkL+/vz799FObbU6ePKnExMQ8r8TKTfaaWMnJyTY1/fHHH3rnnXd06dIl/fTTT2revLn27Nkjg8GgevXq6eWXX1adOnV05syZfB/LmbVr106tWrXSp59+mmP6ozNJT0/XJ598orZt26pZs2aKiIiweTz22GM6ePCgEhMTHV0qAAAA4BS4UgooIpGRkXrggQfUv39/9e/fX7Vq1dKePXs0c+ZMtWrVyjrtaMCAAZo+fbrc3d3VrFkzffvtt/r8889t9tWmTRt98MEHGjVqlJ588kn9+uuveu+992yCpi5dumjx4sV6/vnn1a9fP1WqVEnbt2/X/Pnz1aNHD5UqVSpfdbu4uGjQoEGKjY1V+fLl1bZtW/3222+aOXOmnn32WZvpX0888YSmTZumBx988LZTDl999VVFR0crJiZG3bt3V0ZGhubNm6f09HQNGDAgvx+rJKlDhw7avn27JkyYoN27d6tdu3by8PDQnj179N5778nHx8e6SHvDhg0lSbGxsXriiSd0+fJlLVmyRAcPHpR044ozLy8vlS1bVhcuXNA333yjevXq5ev75+vrqyeeeELTp09XRkaG7rvvPm3atMka6BmNRhmNRr3yyisaMWKEXn31VXXu3FnJycmaPXu2ypUrZ10gPT/q1q2rzp0764033tDp06fVoEED/fbbb5oxY4YqV66s6tWrKzMzU+7u7nrttdc0aNAg+fn5afv27fr555/Vs2fPAn3OzmzkyJHq3LmzJkyYoNWrV+c7dM2WmJioRYsW5Whv1apVrnc9LIzNmzfr0qVL6tixY679//jHP/TOO+9o6dKleS7sDwAAANxLCKWAImI0GjVv3jy98847mjt3ri5evKiAgAA9//zzNiHMCy+8IE9PTy1cuFAJCQlq1KiR+vXrp/j4eOs2LVq00LBhw/TBBx9ow4YNCg4O1uzZs/X0009bt/Hw8NCSJUs0bdo069VLQUFBevXVV9W7d+8C1f7ss8/Kw8NDCxYs0LJly1SxYkW98MILeuGFF2y2i4yM1LRp09SlS5fb7rNZs2Z67733NHPmTL3yyisymUxq3LixpkyZor/97W8Fqk+SJkyYoIiICC1fvlyjR4/WtWvXFBgYqK5duyo6Oto6LS4iIkKjR4/We++9py+++EJ+fn6KiIjQ7NmzNWDAAO3cuVORkZHq0qWLvvnmGw0YMECDBw9WTExMvr5/b7zxhjw8PLRw4UJdvXpVzZo104svvqj4+Hjr+lBdunSRp6en5s6dqwEDBsjLy0utWrXSK6+8In9//wK97zfffFNz587V0qVLde7cOZUvX14dOnTQSy+9JBcXF7m4uGjhwoWaNm2aJk6cqCtXrqh69eqKjY3N1/epuKhZs6aioqK0cOFCffTRR+rRo0eBXr9161brYvR/5ePjU2Sh1KpVq1SuXDm1bNky1/7AwEA98MADWr9+vUaMGFGg9b4AAACAkshgKapVbAEU2qpVqzRixAh9+eWX+V4LyhHmzZunRYsW6euvv7a58+C94tKlS/rPf/6jVq1a2awNNWXKFK1atUo7duxwYHUAAAAAULxwpRSA21q9erV+/fVXffjhh+rfv/89GUhJN+5ON3HiRNWrV0+9evWSh4eHEhMTtXjxYvXt29fR5dmV2Wy2rs91K66u/JoBAAAAkDv+bwHAbR08eFBLly7VI488UuCpgSWJm5ubFi1apLffflvDhw9XamqqqlatqmHDhunZZ591dHl2NXLkSK1evfq22/3yyy92qAYAAABAccT0PQBAgZ06dUrJycm33S4kJMQO1QAAAAAojgilAAAAAAAAYHdGRxcAAAAAAACAew+hFAAAAAAAAOyOUAoAAAAAAAB2RygFAAAAAAAAu3N1dAEl2cWLf4pl5AEAKN4MBql8+TKOLgMAAKDEcYorpdLT09WxY0ft2LHD2nby5Ek999xzCgsLU4cOHbR161ab12zfvl0dO3ZUaGioevbsqZMnT9r0L1q0SK1atVJ4eLhGjhyp1NRUa19aWppGjhypxo0bq2XLllq4cKHNa2937PyyWHjw4MGDBw8eJeEBAACAoufwUCotLU2vvPKKDh06ZG2zWCwaMGCA/Pz8tHLlSv3jH//QwIEDdebMGUnSmTNnNGDAAHXp0kUff/yxfH191b9/f1n+N2rcsGGDZs+erdjYWL3//vvavXu33nrrLev+4+LitG/fPr3//vsaM2aMZs+erS+++CJfxwYAAAAAAMCdc2godfjwYT311FM6ceKETfv333+vkydPKjY2VrVq1VLfvn0VFhamlStXSpJWrFihBg0aqHfv3vrb3/6mN998U6dPn9YPP/wgSUpISFCvXr3Upk0bNWzYUOPGjdPKlSuVmpqqlJQUrVixQqNGjVJwcLAeeeQR9enTR0uWLMnXsQEAAAAAAHDnHLqm1A8//KCIiAi9/PLLCgsLs7bv3r1b9evXl4eHh7WtUaNGSkxMtPY3btzY2le6dGkFBwcrMTFRjRs31t69ezVw4EBrf1hYmDIyMnTw4EFZLBZlZmYqPDzcZt/vvvuuzGbzbY9tT0ajQUajwe7HhfMymy0ym5lHAgAAAAAo/hwaSnXv3j3X9qSkJFWoUMGmrXz58jp37txt+69cuaK0tDSbfldXV3l7e+vcuXMyGo3y8fGRyWSy9vv5+SktLU2XLl267bHtxWg0yMfHQ0ajw2dYwomYzWYlJ6cQTAEAAAAAij2nvPteamqqTWgkSSaTSenp6bftv379uvV5bv0WiyXXPunGguu3O3ZBGO7gIqcbV0kZtfnIQSVfTyn8jlBi+Lh76OFa98loNFjXTwMA3H138vscAAAAeXPKUMrNzU2XLl2yaUtPT5e7u7u1/+aQKD09XWXLlpWbm5v1+c39pUuXVlZWVq59kuTu7n7bYxdEUdw+Ovl6ii6kXL3j/aDk8PHxdHQJAAAAAADcMacMpQICAnT48GGbtgsXLlin1QUEBOjChQs5+uvVqydvb2+5ubnpwoULqlWrliQpMzNTly5dkr+/vywWi5KTk5WZmSlX1xtvPykpSe7u7ipbtuxtj10QFy/+WejbSLu4GAkfkKvk5GvKyjI7ugwAuGcYDEXzhyYAAADYcsoFi0JDQ7V//37rVDxJ2rlzp0JDQ639O3futPalpqbqwIEDCg0NldFoVEhIiE1/YmKiXF1ddd9996levXpydXW1Wbh8586dCgkJkdFovO2xC8JiKfwDuJU7Obd48ODBg0fBHwAAACh6ThlKNWnSRJUqVdKIESN06NAhzZs3T3v27NGTTz4pSXriiSe0a9cuzZs3T4cOHdKIESNUuXJlRURESLqxgPqCBQu0efNm7dmzR2PHjtVTTz2l0qVLq3Tp0nrsscc0duxY7dmzR5s3b9bChQvVs2fPfB0bAAAAAAAAd84pQykXFxf961//UlJSkrp06aJ169YpPj5egYGBkqTKlStr1qxZWrlypZ588kldunRJ8fHxMvxvJdJHH31Uffv21ejRo9W7d281bNhQQ4cOte5/xIgRCg4OVq9evTRu3DgNGjRIf//73/N1bAAAAAAAANw5g4XbeN01Fy4Ufk0pV9cba0qt2L+Lhc4hSfLz8FLX4PuVnHxNmZmsKQUA9mIwSH5+rCkFAABQ1JzySikAAAAAAACUbIRSAAAAAAAAsDtCKQAAAAAAANgdoRQAAAAAAADsjlAKAAAAAAAAdkcoBQAAAAAAALsjlAIAAAAAAIDdEUoBAAAAAADA7gilAAAAAAAAYHeEUgAAAAAAALA7QikAAAAAAADYHaEUAAAAAAAA7I5QCgAAAAAAAHZHKAUAAAAAAAC7K1Qo9f3338tisRR1LQAAAAAAALhHuBbmRf/85z9VqlQptWvXTh07dlRYWFgRlwUAAAAAAICSrFCh1LZt27Rt2zZ98cUXiomJkZeXl9q3b69HH31U9evXL+oaAQAAAAAAUMIUKpRydXVVZGSkIiMjlZmZqe3bt2vLli3q3r27AgIC1KlTJ3Xp0kWBgYFFXS8AAAAAAABKgDta6Dw9PV3ffPONPvvsM61fv14+Pj5q27atjh07pkcffVSLFy8uqjoBAAAAAABQghTqSqnNmzfriy++0Ndff61SpUrp//7v/xQfH6/GjRtbt1myZImmT5+uHj16FFmxAAAAAAAAKBkKFUoNGzZMDz/8sKZPn64WLVrIxcUlxzYNGjTQ888/f8cFAgAAAAAAoOQpVCi1fft2Xb16VVeuXLEGUp9//rkeeOAB+fv7S5JCQ0MVGhpadJUCAAAAAACgxCjUmlK7du3SI488ok8++cTalpCQoA4dOmjnzp1FVhwAAAAAAABKpkKFUlOmTFG/fv00ePBga9vSpUvVp08fTZo0qciKAwAAAAAAQMlUqFDq2LFjateuXY729u3b6/Dhw3dcFAAAAAAAAEq2QoVSNWvW1Pr163O0b9myRVWrVr3jogAAAAAAAFCyFWqh85deekn9+/fXtm3bFBwcLEn65Zdf9OOPP2rWrFlFWiAAAAAAAABKnkJdKfXggw9q9erVql+/vo4ePaoTJ07ovvvu02effabIyMiirhEAAAAAAAAlTKGulJKkv/3tbxo+fHhR1gIAAAAAAIB7RKFCqStXrmjhwoXau3evMjMzZbFYbPoTEhKKpDgAAAAAAACUTIUKpV577TXt3btXnTp1kpeXV1HXBAAAAAAAgBKuUKHU9u3btXjxYjVs2LCo6wEAAAAAAMA9oFALnQcEBMhoLNRLAQAAAAAAgMJP3xs7dqwGDx6satWqqVSpUjb9gYGBRVIcAAAAAAAASqZChVKDBg2SJMXExEiSDAaDJMlischgMOjnn38uovIAAAAAAABQEhUqlPryyy+Lug4AAAAAAADcQwq1MFRQUJCCgoKUkpKiAwcOyMfHR2azWYGBgQoKCirqGgEAAAAAAFDCFOpKqcuXL+uf//ynfvjhB0nShg0bNHHiRJ08eVLz5s0jmAJKOKPRIKPR4Ogy4GTMZovMZoujywAAAABQTBQqlJowYYJKly6t77//XpGRkZKkSZMmaejQoZowYYLmzJlTpEUCcB5Go0G+vh4yGLgDJ2xZLGb98UcKwRQAAACAfClUKPXtt9/qgw8+UNmyZa1tvr6+GjFihJ5++ukiKw6A8zEaDTIYjEpP3yezOcXR5cBJGI0eMpkayGg0EEoBAAAAyJdChVKSlJaWlqPtjz/+kKtroXcJoBgxm1Nksfzp6DLgJMxmR1cAAAAAoLgp1Pybjh07auLEiTp06JAMBoNSUlL0/fff64033lCHDh2KukYAAAAAAACUMIUKpV577TWFhoaqS5cuSklJ0T/+8Q9FR0erWbNmeu2114qsuE2bNqlu3bo2j8GDB0uSDhw4oK5duyo0NFRPPPGE9u3bZ/PaTz/9VA8//LBCQ0M1YMAA/fHHH9Y+i8WiqVOnqmnTpmrSpIni4uJk/suf+ZOTkzVo0CCFh4erbdu2Wrt2bZG9JwAAAAAAABRy+p7JZNLw4cP10ksv6eTJk8rKylKVKlXk6elZpMUdPnxYbdq00fjx461tbm5uSklJUUxMjDp16qTJkyfro48+Ut++fbVp0yZ5eHhoz549GjVqlMaNG6f77rtPEydO1IgRIzR37lxJ0nvvvadPP/1Us2fPVmZmpoYOHary5csrOjpakjRixAhdv35dy5Yt0+7du/X666+rRo0aatiwYZG+PwAAAAAAgHtVoUKp//73vznaDhw4YP36gQceKHxFf3HkyBHVqVNH/v7+Nu0ff/yx3Nzc9Nprr8lgMGjUqFH6z3/+oy+++EJdunTR4sWL1b59ez322GOSpLi4OLVp00YnT55UlSpVlJCQoMGDB6tx48aSpCFDhuidd95RdHS0Tpw4oa+++kpffvmlKleurDp16igxMVEffvghoRQAAAAAAEARKVQoFRUVlWu7yWSSv7+/vvzyyzsqKtuRI0fUvHnzHO27d+9Wo0aNZDAYJEkGg0H333+/EhMT1aVLF+3evVsvvPCCdftKlSopMDBQu3fvlslk0tmzZ22Cs0aNGun06dM6f/68du/erUqVKqly5co2/dlXWQEAAAAAAODOFSqUOnjwoM3zrKwsnThxQuPHj1enTp2KpDCLxaLffvtNW7du1dy5c5WVlaV27dpp8ODBSkpKUu3atW22L1++vA4dOiRJOn/+vCpUqJCj/9y5c0pKSpIkm34/Pz9Jsvbn9trff/+9SN4XAAAAAAAAChlK3czFxUU1atTQ8OHDFRMTo8cff/yO93nmzBmlpqbKZDLp7bff1qlTpzRhwgRdv37d2v5XJpNJ6enpkqTr16/n2X/9+nXr87/2SVJ6evpt910Q/7uQCyhynFtwZpyfKGk4pwEAAO6OIgmlsl28eFFXrlwpkn0FBQVpx44dKleunAwGg+rVqyez2ayhQ4eqSZMmOUKi9PR0ubu7S7qxGHpu/aVLl7YJoNzc3KxfS1Lp0qXzfG32vguifPkyBX4NcDs+PkV7QwGgKHF+AgAAAMivQoVSI0aMyNF27do1bd++Xe3atbvjorJ5e3vbPK9Vq5bS0tLk7++vCxcu2PRduHDBOu0uICAg135/f38FBARIkpKSkqzrRmVP6cvuz+u1BXXx4p+yWAr8MkmSi4uR/7lDrpKTrykry+yw43Nu4lYcfX4Cd4PBwB+aAAAA7gZjUe3I29tbw4YN09ixY4tkf99++60iIiKUmppqbfv555/l7e2tRo0a6aeffpLlf4mPxWLRrl27FBoaKkkKDQ3Vzp07ra87e/aszp49q9DQUAUEBCgwMNCmf+fOnQoMDFSFChUUFham06dP69y5czb9YWFhBX4PFkvhH8Ct3Mm5dacP4HYceX7y4HG3HgAAACh6hbpS6s033yzqOnIIDw+Xm5ubXn/9dQ0YMEAnT55UXFyc+vTpo3bt2mnatGmaOHGinn76aS1dulSpqalq3769JOmZZ55RVFSUwsLCFBISookTJ6p169aqUqWKtX/q1KmqWLGiJGnatGnq3bu3JKlKlSpq2bKlhg4dqlGjRmnv3r369NNPtXjx4rv+ngEAAAAAAO4VBoul4H//mz17dr63HThwYEF3b3Xo0CFNmjRJiYmJ8vT01NNPP60BAwbIYDBoz549GjNmjI4cOaK6detq3Lhxql+/vvW1q1at0syZM3X58mW1aNFC48ePl4+Pj6QbdwuMi4vTqlWr5OLioieffFKvvvqqDP9byfTixYsaNWqUtm/fLn9/f7388svq2LFjgeu/cKHw0/dcXW9MkVqxf5cupFwt3E5Qovh5eKlr8P1KTr6mzEzHTY/KPjevX/9BFsufDqsDzsVgKCN39yYOPz+Bu8FgkPz8mL4HAABQ1AoVSg0dOlRffPGFvL291aBBA5lMJh08eFAnTpxQWFiYXF1vXIBlMBiUkJBQ5EUXF4RSKEqEUnBmhFIoyQilAAAA7o5CTd8zmUzq1KmTxo0bp1KlSlnbp0yZosuXL2vSpElFViAAAAAAAABKnkItdP7555+rT58+NoGUJD311FP6/PPPi6QwAAAAAAAAlFyFCqUCAgL07bff5mjfsGGDdTFxAAAAAAAAIC+Fmr736quv6qWXXtLXX3+t++67T5K0d+9eHThwQO+++26RFggAAAAAAICSp1BXSj3yyCNatWqV6tSpoyNHjuj06dNq0qSJNmzYoCZNmhR1jQAAAAAAAChhCnWllCTVrVtXI0aM0OXLl+Xl5SWj0SiDwVCUtQEAAAAAAKCEKtSVUhaLRXPmzFFERISaNWumM2fOaOjQoRo9erTS09OLukYAAAAAAACUMIUKpeLj47Vu3TpNnjxZJpNJkvT4449r27ZtiouLK9ICAQAAAAAAUPIUKpRavXq1YmNj1aZNG+uUvRYtWmjKlClav359kRYIAAAAAACAkqdQodTFixdVoUKFHO1ly5ZVSkrKHRcFAAAAAACAkq1QoVTTpk21YMECm7arV69q+vTpioiIKJLCAAAAAAAAUHIVKpQaO3asDhw4oBYtWigtLU39+/dXZGSkTp8+rddff72oawQAAAAAAEAJ41qYF5UtW1Yff/yxvvvuOx09elSZmZmqUaOGWrZsKaOxUDkXAAAAAAAA7iGFCqU6duyo2bNnq1mzZmrWrFlR1wQAAAAAAIASrlCXNRmNRmVkZBR1LQAAAAAAALhHFOpKqdatW+v5559XmzZtFBQUJJPJZNM/cODAIikOAAAAAAAAJVOhQqlffvlFwcHBOn/+vM6fP2/TZzAYiqQwAAAAAAAAlFz5DqWeffZZzZkzR2XLltUHH3wgSbp+/brc3d3vWnEAAAAAAAAomfK9ptTOnTtzrCPVvHlznTx5ssiLAgAAAAAAQMlWqIXOs1kslqKqAwAAAAAAAPeQOwqlAAAAAAAAgMIglAIAAAAAAIDdFejue+vXr5eXl5f1udls1qZNm+Tr62uz3WOPPVYkxQEAAAAAAKBkyncoFRgYqIULF9q0lS9fXosXL7ZpMxgMhFIAAAAAAAC4pXyHUlu2bLmbdQAAAAAAAOAewppSAAAAAAAAsDtCKQAAAAAAANgdoRQAAAAAAADsjlAKAAAAAAAAdkcoBQAAAAAAALsjlAIAAAAAAIDdEUoBAAAAAADA7gilAAAAAAAAYHeEUgAAAAAAALA7QikAAAAAAADYHaEUAAAAAAAA7I5QCgAAAAAAAHZHKAUAAAAAAAC7I5QCAAAAAACA3bk6ugAAAIqK0WiQ0WhwdBlwMmazRWazxdFlAAAA4CaEUgCAEsFoNMjHx5NQCjmYzRYlJ18jmAIAAHAyhFIAgBIh+yqpgwdOK+VauqPLgZPw8DTpvvpBMhoNhFIAAABOhlAqD2lpaRo3bpw2btwod3d39e7dW71793Z0WQCA20i5lq6rV687ugwAAAAAt0EolYe4uDjt27dP77//vs6cOaNhw4YpMDBQ7dq1c3RpAAAAAAAAxR6hVC5SUlK0YsUKzZ8/X8HBwQoODtahQ4e0ZMkSQikAAAAAAIAiYHR0Ac7o4MGDyszMVHh4uLWtUaNG2r17t8xmswMrAwAAAAAAKBm4UioXSUlJ8vHxkclksrb5+fkpLS1Nly5dkq+vb772YzRKljtcU9WvtJdcjWSHkLzdPKxfO8MpYTR6yWx2gkLgFIxG5zk/vcq4cQc+WHl4/v/f5YU9Nw2cTgAAAHcFoVQuUlNTbQIpSdbn6en5v6OTr2+ZO66lTc06d7wPlCw+Pp6OLkGSZDLVd3QJcELOcH7WuS/Q0SXACTnDuQkAAABbXOaQCzc3txzhU/Zzd3d3R5QEAAAAAABQohBK5SIgIEDJycnKzMy0tiUlJcnd3V1ly5Z1YGUAAAAAAAAlA6FULurVqydXV1clJiZa23bu3KmQkBAZHb1YCgAAAAAAQAlAwpKL0qVL67HHHtPYsWO1Z88ebd68WQsXLlTPnj0dXRoAAAAAAECJYLBY7vT+cCVTamqqxo4dq40bN8rLy0vR0dF67rnnHF0WAAAAAABAiUAoBQAAAAAAALtj+h4AAAAAAADsjlAKAAAAAAAAdkcoBQAAAAAAALsjlAIAAAAAAIDduTq6AAAoLn799Ve5ut74sVmzZk0HVwPYunTpkiTJZDLJw8PDscUAAAAA+UAoBaezZ88e1alTR+7u7o4uBbCaMWOGtmzZomvXrsnDw0NPPvmknnvuOUeXBUiS3nnnHSUmJurYsWMKCQlRy5Yt9dRTTzm6LAAAAOCWCKXgNMxms/744w/FxMQoJiZGPXr0kMlkcnRZgJYtW6bVq1dr9uzZysjI0JEjRzRp0iRVrFhR7dq1c3R5uMctX75cK1as0LRp03ThwgWdPn1asbGxOnfunAYPHuzo8gAAAIA8EUrBaVgsFvn5+cnb21vTp0+X2WxWr169VKpUKUeXhnvckSNH1LZtWzVs2FCSVKNGDX3++edKTEwklILDHT58WBEREYqIiJAkpaamytXVVXFxcTKZTOrXr5+DKwQAAAByRygFp+Hi4iJJ8vb2VlBQkKZOnaq0tDTFxMQQTMEhLBaLDAaDkpKSlJGRYW339fVVzZo1tW3bNqWnp3NFHxwi+/y8ePGirl27Zm0vXbq0wsLC5O3trbfffltGo1ExMTEOrBQAAADIHXffg9OwWCw6ceKErly5osmTJys+Pl6zZs3S/PnzbQIBwF4MBoMkqWPHjjp58qR+//13ZWVlSZIqVqzoyNIA6/nZuXNnbd26VevWrbP2eXt7q0WLFho/frw+/PBDbd261VFlAgAAAHniSik4DYPBoAoVKqhDhw5KT0/XQw89pKlTp2rIkCGSpBdeeIErpuAQDz30kBo0aKDy5ctbgwAXFxfr19n27NljneIH2Evz5s3Vt29fjRkzRjt27JC/v7+WLFmibt26qWvXrtqxY4cOHz6sli1bOrpUAAAAwAahFJyKu7u7YmJiZDKZlJWVpY4dO0oSwRQcLiAgwOZ5SkqKrl27JrPZLOnG3fnmzp2r7du3y9fX1xEl4h5VqlQpxcTEqHbt2vrwww917tw59ezZU4MGDbL2f//999wtEgAAAE6HUApOJ3t9HoPBIIvFYg2mhg8fruvXr2vQoEEEU3CY7HV8jEajXFxc5O7urlmzZikhIUHLly8nkIJDuLm5qX379nr44Ydz/Hx0d3dXjRo1HFQZAAAAkDdCKTgto9Eoi8ViDabS09M1efJkPffcc/yPPxzO29tbnp6eio2N1YoVK/TRRx+pQYMGji4L9zhXV1ddvXpVgwYNksFgkMlk0q5du7R48WJHlwYAAADkYLBYLBZHFwHcSvYpajAYdPXqVXl5eTm4IkDavXu3unXrplKlSmnZsmWqX7++o0sCrPbv368NGzbIy8tLDz30kGrVquXokgAAAIAcCKVQLGRPmcr+L+BoqampmjZtmrp3766aNWs6uhwAAAAAKHYIpQCgkDIzM+XqyixoAAAAACgMQikAAAAAAADYndHRBQAAAAAAAODeQygFAAAAAAAAuyOUAgAAAAAAgN0RSgEAAAAAAMDuCKUAAAAAAABgd4RSAAAAAAAAsDtCKQDF3uXLlzV58mS1bdtWoaGhat++vRYtWiSz2Zyv13/33Xc6cuTIXa4yd7NmzVJUVJRDjg0AAAAAjmSwWCwWRxcBAIWVnJysbt26qUKFChowYIAqV66svXv3avz48erQoYPeeOON2+6jbt26SkhIUEREhB0qtnXt2jVlZGTI29vb7scGAAAAAEdydXQBAHAnpk2bJpPJpAULFsjNzU2SVKVKFbm7u6t///7q0aOHatSo4eAq8+bp6enoEgAAAADAIZi+B6DYSk9P12effaZnn33WGkhla9OmjRYtWqSgoCAdPnxY0dHRCg8PV0hIiLp3726drte2bVtJUs+ePTVr1ixJ0o8//qguXbqoYcOG6tSpkzZs2GCz70WLFqlVq1a6//77NWHCBEVFRWnVqlWSpLS0NL311luKjIxUWFiY+vXrp7Nnz0qSTp06pbp16yo+Pl4PPPCAYmNjc0zfu9Wxz5w5o969eys8PFzNmjXT+PHjlZGRUcSfKgAAAADYB6EUgGLrxIkTSklJUUhISI4+g8Ggpk2bytXVVf369VNQUJDWrl2rpUuXKisrS2+99ZYk6eOPP5Z0Y22n3r17KykpSX379lWXLl30ySefqE+fPho+fLh+/PFHSdK6des0c+ZMjRw5UsuWLdOpU6f03//+13rcMWPGaNOmTZoyZYqWLl2qzMxM9e/f32Z9q127dmnlypXq2bOnTc23O/b48ePl4eGhNWvWKD4+Xhs2bNDy5cuL9kMFAAAAADth+h6AYuvKlSuSpDJlyuS5zfXr1/X000+re/fu8vDwkCQ9/vjj+ve//y1J8vX1lSSVK1dOnp6emj9/vpo3b64ePXpIkqpVq6aff/5Z77//vho3bqwPP/xQvXr1Uvv27SVJU6ZMUWRkpKQbC66vXbtW8+fPV9OmTSVJU6dOVevWrbVt2zbrNMJevXqpatWqOWpdsmTJLY99+vRpBQcHKzAwUNWqVdO8efNUtmzZO/sQAQAAAMBBCKUAFFvZi4Nfvnw5z208PDz0zDPPaM2aNdq3b5+OHj2qAwcOyM/PL9ftjx49qq+++krh4eHWtoyMDGug9MsvvygmJsbaV65cOWvfsWPHZDabFRoaalNjjRo1dOTIEet2QUFBhTp2nz59NHLkSG3atEkPPvigOnTooPr16+f53gEAAADAmRFKASi2qlatqjJlymj//v1q2LBhjv4XX3xRTz31lOLi4uTj46O2bduqY8eOOnr0qBYuXJjrPjMzM9WpUyf169fPpt3V9caPSxcXF91809Ls5zeva5UtKyvLZvpeXtvd7tidO3dWs2bNtHnzZn399dcaPHiwXnjhBb388su57g8AAAAAnBlrSgEotlxdXdWhQwctWbJE6enpNn1btmzRli1bdPLkSZ0/f14JCQnq06ePmjdvrjNnzuQIlrLVqFFDx48fV7Vq1ayPL7/8Up988okkqXbt2tq/f791+6tXr+r48eOSbtz1z9XVVYmJidb+5ORkHT9+PF93ALzdsWfMmKGLFy/qmWee0dy5c/XSSy9p48aNBfrMAAAAAMBZEEoBKNYGDRqkq1evKjo6Wj/88INOnDihFStWaPjw4erZs6dCQkKUkpKizZs369SpU1qxYkWOEMvDw0OHDh3Sn3/+qe7du2vfvn2aMWOGjh07pk8++UTTp09XYGCgJCkqKkoJCQnauHGjjhw5opEjRyolJUUGg0Genp7q2rWrxo8frx07dujgwYMaOnSoKlasqBYtWtz2vdzu2EePHlVsbKwOHjyoQ4cO6ZtvvmH6HgAAAIBii+l7AIo1f39/ffTRR5o1a5aGDBmiS5cuqWrVqho8eLCeeeYZubi4aMCAARo3bpzS0tJUt25djR49WqNGjdLvv/+ugIAARUVFKS4uTidOnNDIkSP17rvvaurUqVqwYIECAgI0fPhwde7cWZL06KOP6vjx4xozZozS0tLUrVs3BQUFqVSpUpKkYcOGacqUKRo8eLDS09PVvHlzLVq0SCaT6bbvJSgo6JbHHjt2rMaNG6eoqChlZmaqdevWGjVq1N37cAEAAADgLjJY8prDAgDI4YcfflCVKlVUqVIlSTfWgWratKni4+MVERHh4OoAAAAAoPjgSikAKIDNmzfrp59+0rhx4+Tp6amEhAR5eXkpLCzM0aUBAAAAQLHClVIAUABXr15VbGysvvnmG6WlpSk8PFyjRo1S7dq1HV0aAAAAABQrhFIAAAAAAACwO+6+BwAAAAAAALsjlAIAAAAAAIDdEUoBAAAAAADA7gilAAAAAAAAYHeEUgAAAAAAALA7QikAAAAAAADYHaEUAAAAAAAA7I5QCgAAAAAAAHZHKAUAAAAAAAC7+38peZUhatK1wgAAAABJRU5ErkJggg=="
     },
     "metadata": {},
     "output_type": "display_data"
    },
    {
     "data": {
      "text/plain": [
       "<Figure size 1200x600 with 5 Axes>"
      ],
      "image/png": "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"
     },
     "metadata": {},
     "output_type": "display_data"
    },
    {
     "data": {
      "text/plain": [
       "<Figure size 1200x600 with 3 Axes>"
      ],
      "image/png": "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"
     },
     "metadata": {},
     "output_type": "display_data"
    }
   ],
   "execution_count": 19
>>>>>>> origin/main
  },
  {
   "cell_type": "markdown",
   "metadata": {},
   "source": [
    "### Dataset Sample Creation\n",
    "Create a sample for one of the dataframes for later feature extraction and classification. Another method we can use to take a sample is to split the original dataframe and apply a combination of oversampling and undersampling to the training set."
   ]
  },
  {
   "cell_type": "markdown",
   "metadata": {},
   "source": [
    "First way to create a sample: \n",
    "- Take all the samples from the minority class\n",
    "- Define a percentage of samples that you want to take and subtract the number of minority class samples; that will be the number of majority class samples"
   ]
  },
  {
   "cell_type": "code",
   "execution_count": 77,
   "metadata": {},
   "outputs": [],
   "source": [
    "# Take all minority samples. Including duplicates\n",
<<<<<<< HEAD
<<<<<<< HEAD
    "minority_samples = dataframes[2][dataframes[2]['_MICHD'] == 0] \n",
=======
    "minority_samples = dataframes[2][dataframes[2]['_MICHD'] == 1.0] \n",
>>>>>>> origin/main
=======
    "minority_samples = dataframes[2][dataframes[2]['_MICHD'] == 1.0] \n",
>>>>>>> origin/main
    "num_minority_samples = len(minority_samples)\n",
    "\n",
    "\"\"\"\n",
    "Lets say that we want to take p% of the original dataframe as a sample. The first step we have to take is subtract the number of minority samples assuming we have already included them in our sample.\n",
    "The second step is to add the necessary number of majority samples in our sample until we reach the upper limit which is p% of samples. We can add some of the unique samples from the majority class \n",
    "to the sample or we can randomly pick some of them. Below, we add unique samples to the sample.\n",
    "\"\"\"\n",
    "num_majority_samples =  math.floor(dataframes[2].shape[0] * 0.25) - num_minority_samples\n",
<<<<<<< HEAD
<<<<<<< HEAD
    "majority_unique_samples = dataframes[2][dataframes[2]['_MICHD'] == 1].drop_duplicates()\n",
    "num_unique_majority_samples = len(majority_unique_samples) # Not needed\n",
=======
=======
>>>>>>> origin/main
    "majority_unique_samples = dataframes[2][dataframes[2]['_MICHD'] == 2.0].drop_duplicates()\n",
    "num_unique_majority_samples = len(majority_unique_samples)\n",
>>>>>>> origin/main
    "\n",
    "majority_samples = majority_unique_samples.sample(n=num_majority_samples)\n",
    "\n",
    "dataframe_sample = pd.concat([minority_samples, majority_samples])"
   ]
  },
  {
   "cell_type": "markdown",
   "metadata": {},
   "source": [
    "Second way to create a sample:\n",
    "- Perform stratified sampling using a percentage of samples"
   ]
  },
  {
   "cell_type": "code",
   "execution_count": null,
   "metadata": {},
   "outputs": [],
   "source": [
    "# Specify the fraction of samples you want to retain in the subset (e.g., 0.5 for 50%)\n",
    "subset_fraction = 0.1\n",
    "\n",
    "# Perform stratified sampling to create a smaller dataframe\n",
    "dataframe_sample = dataframes[2].groupby('_MICHD', group_keys = False).apply(lambda x: x.sample(frac = subset_fraction))"
   ]
  },
  {
   "cell_type": "markdown",
   "metadata": {},
   "source": [
    "Third way to create a sample:\n",
    "- Undersample the majority class so we can keep all instances of the minority class, thereby reducing the overall size of the dataset. The downside of this approach is we lose valuable instances of the majority class."
   ]
  },
  {
   "cell_type": "code",
   "execution_count": 9,
   "metadata": {},
   "outputs": [],
   "source": [
    "# Define the undersampler\n",
    "undersampler = RandomUnderSampler(random_state=SEED)\n",
    "\n",
    "# Separate features (X) and target variable (y)\n",
    "x = dataframes[2].drop(columns=['_MICHD'])\n",
    "y = dataframes[2]['_MICHD']\n",
    "\n",
    "# Perform undersampling\n",
    "x_resampled, y_resampled = undersampler.fit_resample(x, y)\n",
    "\n",
    "# Construct the balanced DataFrame\n",
    "dataframe_sample = pd.concat([x_resampled, y_resampled], axis=1)"
   ]
  },
  {
   "cell_type": "code",
   "execution_count": 10,
   "metadata": {},
   "outputs": [
    {
     "data": {
      "text/plain": [
       "(27744, 23)"
      ]
     },
     "execution_count": 10,
     "metadata": {},
     "output_type": "execute_result"
    }
   ],
   "source": [
    "dataframe_sample.shape"
   ]
  },
  {
   "cell_type": "code",
   "execution_count": 14,
   "metadata": {},
   "outputs": [
    {
     "data": {
      "text/plain": [
       "_MICHD\n",
       "0    13872\n",
       "1    13872\n",
       "Name: count, dtype: int64"
      ]
     },
     "execution_count": 14,
     "metadata": {},
     "output_type": "execute_result"
    }
   ],
   "source": [
    "dataframe_sample['_MICHD'].value_counts()"
   ]
  },
  {
   "cell_type": "code",
   "execution_count": null,
   "metadata": {},
   "outputs": [],
   "source": [
    "dataframe_sample.info()"
   ]
  },
  {
   "cell_type": "markdown",
   "metadata": {},
   "source": [
    "## Feature Importance with Random Forests\n",
    "We can use the GridSearchCV, or the RandomizedSearchCV method with the Random Forest algorithm to evaluate the importance of each variable in assessing the risk of MI or CHD."
   ]
  },
  {
   "cell_type": "code",
   "execution_count": 16,
   "metadata": {},
   "outputs": [],
   "source": [
    "target_column = \"_MICHD\"\n",
    "\n",
    "#y = dataframes[2][target_column]\n",
    "#x = dataframes[2].drop(columns=[target_column])\n",
    "\n",
    "y = dataframe_sample[target_column]\n",
<<<<<<< HEAD
    "x = dataframe_sample.drop(columns = [target_column])"
=======
    "x = dataframe_sample.drop(columns = [target_column])\n",
    "\n",
    "x_train,x_test,y_train,y_test = train_test_split(x, y, test_size = 0.20)\n",
    "x_train,x_val,y_train,y_val = train_test_split(x_train, y_train, test_size = 0.25)"
   ],
   "outputs": [],
   "execution_count": null
  },
  {
   "cell_type": "code",
   "metadata": {},
   "source": [
    "best_params = find_best_params(SVC(), linear_params, [x_train, y_train], [x_val, y_val])"
   ],
   "outputs": [],
   "execution_count": null
  },
  {
   "cell_type": "code",
   "metadata": {},
   "source": [
    "print(best_params)"
   ],
   "outputs": [],
   "execution_count": null
  },
  {
   "cell_type": "code",
   "metadata": {},
   "source": [
    "classifier = SVC(**best_params)\n",
    "classifier.fit(x_train, y_train)\n",
    "weights = zip(list(data.columns),classifier.coef_.todense().data)\n",
    "weights_sorted = {k: v for k, v in sorted(weights.items(), key=lambda item: item[1])}\n",
    "with open(\"Important_Features.json\",\"w\") as f:\n",
    "    json.dump(weights_sorted,f)"
   ],
   "outputs": [],
   "execution_count": null
  },
  {
   "cell_type": "markdown",
   "metadata": {},
   "source": [
    "## Feature Selection with Random Forests\n",
    "We can use the GridSearch, or the RandomizedSearch method with the Random Forest algorithm to evaluate the importance of each variable and identify the optimal features for assessing the risk of MI or CHD."
>>>>>>> origin/main
   ]
  },
  {
   "cell_type": "code",
   "execution_count": 134,
   "metadata": {},
   "outputs": [],
   "source": [
    "x_train, x_test, y_train, y_test = train_test_split(x, y, test_size=0.2, random_state=SEED, stratify=y)"
   ]
  },
  {
   "cell_type": "code",
   "execution_count": 24,
   "metadata": {},
   "outputs": [],
   "source": [
    "# Define the cost matrix\n",
    "cost_matrix = [[0, 0.25],  # Cost of false positive \n",
    "               [1, 0]]  # Cost of false negative"
   ]
  },
  {
   "cell_type": "code",
   "execution_count": 22,
   "metadata": {},
   "outputs": [],
   "source": [
    "# Define a custom scoring function using the cost matrix\n",
    "def custom_score(y_true, y_pred):\n",
    "    cm = confusion_matrix(y_true, y_pred)\n",
    "    cost = np.sum(cm * cost_matrix)\n",
    "    return -cost  # Minimize cost, so negative of cost is returned"
   ]
  },
  {
   "cell_type": "code",
   "execution_count": 26,
   "metadata": {},
   "outputs": [],
   "source": [
    "# Make the custom scoring function into a scorer object\n",
    "custom_scorer = make_scorer(custom_score, greater_is_better = False)"
   ]
  },
  {
   "cell_type": "markdown",
   "metadata": {},
   "source": [
    "### Random Search"
   ]
  },
  {
   "cell_type": "code",
   "execution_count": 135,
   "metadata": {},
   "outputs": [],
   "source": [
    "# Define the parameter distributions to sample from\n",
    "param_dist = {\n",
    "    'n_estimators': randint(50, 300),\n",
    "    'max_depth': [None] + list(range(10, 41)),\n",
    "    'min_samples_split': randint(2, 21),\n",
    "    'class_weight': [{0: 1, 1: 0.25}]\n",
    "}\n",
    "\n",
    "# Initialize a Random Forest classifier\n",
    "rf_classifier = RandomForestClassifier(random_state=SEED)\n",
    "\n",
    "# Initialize RandomizedSearchCV with custom scoring\n",
    "random_search = RandomizedSearchCV(estimator=rf_classifier, param_distributions=param_dist, \n",
    "                                   scoring=make_scorer(f1_score, average='weighted'), n_jobs=4, random_state=SEED)\n"
   ]
  },
  {
   "cell_type": "markdown",
   "metadata": {},
   "source": [
    "### Grid Search"
   ]
  },
  {
   "cell_type": "code",
   "execution_count": 65,
   "metadata": {},
   "outputs": [],
   "source": [
    "# Define the parameter grid to search\n",
    "param_grid = {\n",
    "    'n_estimators': [100, 200, 300],\n",
    "    'max_depth': [None, 10, 20],\n",
    "    'class_weight': [{0: 1, 1: 0.25}]\n",
    "}\n",
    "\n",
    "# Initialize a Random Forest classifier\n",
    "rf_classifier = RandomForestClassifier(random_state=SEED)\n",
    "\n",
    "# Initialize GridSearchCV\n",
    "grid_search = GridSearchCV(estimator=rf_classifier, param_grid=param_grid, n_jobs=4, scoring=make_scorer(f1_score, average='weighted'))\n"
   ]
  },
  {
   "cell_type": "markdown",
   "metadata": {},
   "source": [
    "### Initialize search, output the best parameters, and print feature importance"
   ]
  },
  {
   "cell_type": "code",
<<<<<<< HEAD
<<<<<<< HEAD
   "execution_count": 136,
   "metadata": {},
   "outputs": [
    {
     "data": {
      "text/html": [
       "<style>#sk-container-id-3 {\n",
       "  /* Definition of color scheme common for light and dark mode */\n",
       "  --sklearn-color-text: black;\n",
       "  --sklearn-color-line: gray;\n",
       "  /* Definition of color scheme for unfitted estimators */\n",
       "  --sklearn-color-unfitted-level-0: #fff5e6;\n",
       "  --sklearn-color-unfitted-level-1: #f6e4d2;\n",
       "  --sklearn-color-unfitted-level-2: #ffe0b3;\n",
       "  --sklearn-color-unfitted-level-3: chocolate;\n",
       "  /* Definition of color scheme for fitted estimators */\n",
       "  --sklearn-color-fitted-level-0: #f0f8ff;\n",
       "  --sklearn-color-fitted-level-1: #d4ebff;\n",
       "  --sklearn-color-fitted-level-2: #b3dbfd;\n",
       "  --sklearn-color-fitted-level-3: cornflowerblue;\n",
       "\n",
       "  /* Specific color for light theme */\n",
       "  --sklearn-color-text-on-default-background: var(--sg-text-color, var(--theme-code-foreground, var(--jp-content-font-color1, black)));\n",
       "  --sklearn-color-background: var(--sg-background-color, var(--theme-background, var(--jp-layout-color0, white)));\n",
       "  --sklearn-color-border-box: var(--sg-text-color, var(--theme-code-foreground, var(--jp-content-font-color1, black)));\n",
       "  --sklearn-color-icon: #696969;\n",
       "\n",
       "  @media (prefers-color-scheme: dark) {\n",
       "    /* Redefinition of color scheme for dark theme */\n",
       "    --sklearn-color-text-on-default-background: var(--sg-text-color, var(--theme-code-foreground, var(--jp-content-font-color1, white)));\n",
       "    --sklearn-color-background: var(--sg-background-color, var(--theme-background, var(--jp-layout-color0, #111)));\n",
       "    --sklearn-color-border-box: var(--sg-text-color, var(--theme-code-foreground, var(--jp-content-font-color1, white)));\n",
       "    --sklearn-color-icon: #878787;\n",
       "  }\n",
       "}\n",
       "\n",
       "#sk-container-id-3 {\n",
       "  color: var(--sklearn-color-text);\n",
       "}\n",
       "\n",
       "#sk-container-id-3 pre {\n",
       "  padding: 0;\n",
       "}\n",
       "\n",
       "#sk-container-id-3 input.sk-hidden--visually {\n",
       "  border: 0;\n",
       "  clip: rect(1px 1px 1px 1px);\n",
       "  clip: rect(1px, 1px, 1px, 1px);\n",
       "  height: 1px;\n",
       "  margin: -1px;\n",
       "  overflow: hidden;\n",
       "  padding: 0;\n",
       "  position: absolute;\n",
       "  width: 1px;\n",
       "}\n",
       "\n",
       "#sk-container-id-3 div.sk-dashed-wrapped {\n",
       "  border: 1px dashed var(--sklearn-color-line);\n",
       "  margin: 0 0.4em 0.5em 0.4em;\n",
       "  box-sizing: border-box;\n",
       "  padding-bottom: 0.4em;\n",
       "  background-color: var(--sklearn-color-background);\n",
       "}\n",
       "\n",
       "#sk-container-id-3 div.sk-container {\n",
       "  /* jupyter's `normalize.less` sets `[hidden] { display: none; }`\n",
       "     but bootstrap.min.css set `[hidden] { display: none !important; }`\n",
       "     so we also need the `!important` here to be able to override the\n",
       "     default hidden behavior on the sphinx rendered scikit-learn.org.\n",
       "     See: https://github.com/scikit-learn/scikit-learn/issues/21755 */\n",
       "  display: inline-block !important;\n",
       "  position: relative;\n",
       "}\n",
       "\n",
       "#sk-container-id-3 div.sk-text-repr-fallback {\n",
       "  display: none;\n",
       "}\n",
       "\n",
       "div.sk-parallel-item,\n",
       "div.sk-serial,\n",
       "div.sk-item {\n",
       "  /* draw centered vertical line to link estimators */\n",
       "  background-image: linear-gradient(var(--sklearn-color-text-on-default-background), var(--sklearn-color-text-on-default-background));\n",
       "  background-size: 2px 100%;\n",
       "  background-repeat: no-repeat;\n",
       "  background-position: center center;\n",
       "}\n",
       "\n",
       "/* Parallel-specific style estimator block */\n",
       "\n",
       "#sk-container-id-3 div.sk-parallel-item::after {\n",
       "  content: \"\";\n",
       "  width: 100%;\n",
       "  border-bottom: 2px solid var(--sklearn-color-text-on-default-background);\n",
       "  flex-grow: 1;\n",
       "}\n",
       "\n",
       "#sk-container-id-3 div.sk-parallel {\n",
       "  display: flex;\n",
       "  align-items: stretch;\n",
       "  justify-content: center;\n",
       "  background-color: var(--sklearn-color-background);\n",
       "  position: relative;\n",
       "}\n",
       "\n",
       "#sk-container-id-3 div.sk-parallel-item {\n",
       "  display: flex;\n",
       "  flex-direction: column;\n",
       "}\n",
       "\n",
       "#sk-container-id-3 div.sk-parallel-item:first-child::after {\n",
       "  align-self: flex-end;\n",
       "  width: 50%;\n",
       "}\n",
       "\n",
       "#sk-container-id-3 div.sk-parallel-item:last-child::after {\n",
       "  align-self: flex-start;\n",
       "  width: 50%;\n",
       "}\n",
       "\n",
       "#sk-container-id-3 div.sk-parallel-item:only-child::after {\n",
       "  width: 0;\n",
       "}\n",
       "\n",
       "/* Serial-specific style estimator block */\n",
       "\n",
       "#sk-container-id-3 div.sk-serial {\n",
       "  display: flex;\n",
       "  flex-direction: column;\n",
       "  align-items: center;\n",
       "  background-color: var(--sklearn-color-background);\n",
       "  padding-right: 1em;\n",
       "  padding-left: 1em;\n",
       "}\n",
       "\n",
       "\n",
       "/* Toggleable style: style used for estimator/Pipeline/ColumnTransformer box that is\n",
       "clickable and can be expanded/collapsed.\n",
       "- Pipeline and ColumnTransformer use this feature and define the default style\n",
       "- Estimators will overwrite some part of the style using the `sk-estimator` class\n",
       "*/\n",
       "\n",
       "/* Pipeline and ColumnTransformer style (default) */\n",
       "\n",
       "#sk-container-id-3 div.sk-toggleable {\n",
       "  /* Default theme specific background. It is overwritten whether we have a\n",
       "  specific estimator or a Pipeline/ColumnTransformer */\n",
       "  background-color: var(--sklearn-color-background);\n",
       "}\n",
       "\n",
       "/* Toggleable label */\n",
       "#sk-container-id-3 label.sk-toggleable__label {\n",
       "  cursor: pointer;\n",
       "  display: block;\n",
       "  width: 100%;\n",
       "  margin-bottom: 0;\n",
       "  padding: 0.5em;\n",
       "  box-sizing: border-box;\n",
       "  text-align: center;\n",
       "}\n",
       "\n",
       "#sk-container-id-3 label.sk-toggleable__label-arrow:before {\n",
       "  /* Arrow on the left of the label */\n",
       "  content: \"▸\";\n",
       "  float: left;\n",
       "  margin-right: 0.25em;\n",
       "  color: var(--sklearn-color-icon);\n",
       "}\n",
       "\n",
       "#sk-container-id-3 label.sk-toggleable__label-arrow:hover:before {\n",
       "  color: var(--sklearn-color-text);\n",
       "}\n",
       "\n",
       "/* Toggleable content - dropdown */\n",
       "\n",
       "#sk-container-id-3 div.sk-toggleable__content {\n",
       "  max-height: 0;\n",
       "  max-width: 0;\n",
       "  overflow: hidden;\n",
       "  text-align: left;\n",
       "  /* unfitted */\n",
       "  background-color: var(--sklearn-color-unfitted-level-0);\n",
       "}\n",
       "\n",
       "#sk-container-id-3 div.sk-toggleable__content.fitted {\n",
       "  /* fitted */\n",
       "  background-color: var(--sklearn-color-fitted-level-0);\n",
       "}\n",
       "\n",
       "#sk-container-id-3 div.sk-toggleable__content pre {\n",
       "  margin: 0.2em;\n",
       "  border-radius: 0.25em;\n",
       "  color: var(--sklearn-color-text);\n",
       "  /* unfitted */\n",
       "  background-color: var(--sklearn-color-unfitted-level-0);\n",
       "}\n",
       "\n",
       "#sk-container-id-3 div.sk-toggleable__content.fitted pre {\n",
       "  /* unfitted */\n",
       "  background-color: var(--sklearn-color-fitted-level-0);\n",
       "}\n",
       "\n",
       "#sk-container-id-3 input.sk-toggleable__control:checked~div.sk-toggleable__content {\n",
       "  /* Expand drop-down */\n",
       "  max-height: 200px;\n",
       "  max-width: 100%;\n",
       "  overflow: auto;\n",
       "}\n",
       "\n",
       "#sk-container-id-3 input.sk-toggleable__control:checked~label.sk-toggleable__label-arrow:before {\n",
       "  content: \"▾\";\n",
       "}\n",
       "\n",
       "/* Pipeline/ColumnTransformer-specific style */\n",
       "\n",
       "#sk-container-id-3 div.sk-label input.sk-toggleable__control:checked~label.sk-toggleable__label {\n",
       "  color: var(--sklearn-color-text);\n",
       "  background-color: var(--sklearn-color-unfitted-level-2);\n",
       "}\n",
       "\n",
       "#sk-container-id-3 div.sk-label.fitted input.sk-toggleable__control:checked~label.sk-toggleable__label {\n",
       "  background-color: var(--sklearn-color-fitted-level-2);\n",
       "}\n",
       "\n",
       "/* Estimator-specific style */\n",
       "\n",
       "/* Colorize estimator box */\n",
       "#sk-container-id-3 div.sk-estimator input.sk-toggleable__control:checked~label.sk-toggleable__label {\n",
       "  /* unfitted */\n",
       "  background-color: var(--sklearn-color-unfitted-level-2);\n",
       "}\n",
       "\n",
       "#sk-container-id-3 div.sk-estimator.fitted input.sk-toggleable__control:checked~label.sk-toggleable__label {\n",
       "  /* fitted */\n",
       "  background-color: var(--sklearn-color-fitted-level-2);\n",
       "}\n",
       "\n",
       "#sk-container-id-3 div.sk-label label.sk-toggleable__label,\n",
       "#sk-container-id-3 div.sk-label label {\n",
       "  /* The background is the default theme color */\n",
       "  color: var(--sklearn-color-text-on-default-background);\n",
       "}\n",
       "\n",
       "/* On hover, darken the color of the background */\n",
       "#sk-container-id-3 div.sk-label:hover label.sk-toggleable__label {\n",
       "  color: var(--sklearn-color-text);\n",
       "  background-color: var(--sklearn-color-unfitted-level-2);\n",
       "}\n",
       "\n",
       "/* Label box, darken color on hover, fitted */\n",
       "#sk-container-id-3 div.sk-label.fitted:hover label.sk-toggleable__label.fitted {\n",
       "  color: var(--sklearn-color-text);\n",
       "  background-color: var(--sklearn-color-fitted-level-2);\n",
       "}\n",
       "\n",
       "/* Estimator label */\n",
       "\n",
       "#sk-container-id-3 div.sk-label label {\n",
       "  font-family: monospace;\n",
       "  font-weight: bold;\n",
       "  display: inline-block;\n",
       "  line-height: 1.2em;\n",
       "}\n",
       "\n",
       "#sk-container-id-3 div.sk-label-container {\n",
       "  text-align: center;\n",
       "}\n",
       "\n",
       "/* Estimator-specific */\n",
       "#sk-container-id-3 div.sk-estimator {\n",
       "  font-family: monospace;\n",
       "  border: 1px dotted var(--sklearn-color-border-box);\n",
       "  border-radius: 0.25em;\n",
       "  box-sizing: border-box;\n",
       "  margin-bottom: 0.5em;\n",
       "  /* unfitted */\n",
       "  background-color: var(--sklearn-color-unfitted-level-0);\n",
       "}\n",
       "\n",
       "#sk-container-id-3 div.sk-estimator.fitted {\n",
       "  /* fitted */\n",
       "  background-color: var(--sklearn-color-fitted-level-0);\n",
       "}\n",
       "\n",
       "/* on hover */\n",
       "#sk-container-id-3 div.sk-estimator:hover {\n",
       "  /* unfitted */\n",
       "  background-color: var(--sklearn-color-unfitted-level-2);\n",
       "}\n",
       "\n",
       "#sk-container-id-3 div.sk-estimator.fitted:hover {\n",
       "  /* fitted */\n",
       "  background-color: var(--sklearn-color-fitted-level-2);\n",
       "}\n",
       "\n",
       "/* Specification for estimator info (e.g. \"i\" and \"?\") */\n",
       "\n",
       "/* Common style for \"i\" and \"?\" */\n",
       "\n",
       ".sk-estimator-doc-link,\n",
       "a:link.sk-estimator-doc-link,\n",
       "a:visited.sk-estimator-doc-link {\n",
       "  float: right;\n",
       "  font-size: smaller;\n",
       "  line-height: 1em;\n",
       "  font-family: monospace;\n",
       "  background-color: var(--sklearn-color-background);\n",
       "  border-radius: 1em;\n",
       "  height: 1em;\n",
       "  width: 1em;\n",
       "  text-decoration: none !important;\n",
       "  margin-left: 1ex;\n",
       "  /* unfitted */\n",
       "  border: var(--sklearn-color-unfitted-level-1) 1pt solid;\n",
       "  color: var(--sklearn-color-unfitted-level-1);\n",
       "}\n",
       "\n",
       ".sk-estimator-doc-link.fitted,\n",
       "a:link.sk-estimator-doc-link.fitted,\n",
       "a:visited.sk-estimator-doc-link.fitted {\n",
       "  /* fitted */\n",
       "  border: var(--sklearn-color-fitted-level-1) 1pt solid;\n",
       "  color: var(--sklearn-color-fitted-level-1);\n",
       "}\n",
       "\n",
       "/* On hover */\n",
       "div.sk-estimator:hover .sk-estimator-doc-link:hover,\n",
       ".sk-estimator-doc-link:hover,\n",
       "div.sk-label-container:hover .sk-estimator-doc-link:hover,\n",
       ".sk-estimator-doc-link:hover {\n",
       "  /* unfitted */\n",
       "  background-color: var(--sklearn-color-unfitted-level-3);\n",
       "  color: var(--sklearn-color-background);\n",
       "  text-decoration: none;\n",
       "}\n",
       "\n",
       "div.sk-estimator.fitted:hover .sk-estimator-doc-link.fitted:hover,\n",
       ".sk-estimator-doc-link.fitted:hover,\n",
       "div.sk-label-container:hover .sk-estimator-doc-link.fitted:hover,\n",
       ".sk-estimator-doc-link.fitted:hover {\n",
       "  /* fitted */\n",
       "  background-color: var(--sklearn-color-fitted-level-3);\n",
       "  color: var(--sklearn-color-background);\n",
       "  text-decoration: none;\n",
       "}\n",
       "\n",
       "/* Span, style for the box shown on hovering the info icon */\n",
       ".sk-estimator-doc-link span {\n",
       "  display: none;\n",
       "  z-index: 9999;\n",
       "  position: relative;\n",
       "  font-weight: normal;\n",
       "  right: .2ex;\n",
       "  padding: .5ex;\n",
       "  margin: .5ex;\n",
       "  width: min-content;\n",
       "  min-width: 20ex;\n",
       "  max-width: 50ex;\n",
       "  color: var(--sklearn-color-text);\n",
       "  box-shadow: 2pt 2pt 4pt #999;\n",
       "  /* unfitted */\n",
       "  background: var(--sklearn-color-unfitted-level-0);\n",
       "  border: .5pt solid var(--sklearn-color-unfitted-level-3);\n",
       "}\n",
       "\n",
       ".sk-estimator-doc-link.fitted span {\n",
       "  /* fitted */\n",
       "  background: var(--sklearn-color-fitted-level-0);\n",
       "  border: var(--sklearn-color-fitted-level-3);\n",
       "}\n",
       "\n",
       ".sk-estimator-doc-link:hover span {\n",
       "  display: block;\n",
       "}\n",
       "\n",
       "/* \"?\"-specific style due to the `<a>` HTML tag */\n",
       "\n",
       "#sk-container-id-3 a.estimator_doc_link {\n",
       "  float: right;\n",
       "  font-size: 1rem;\n",
       "  line-height: 1em;\n",
       "  font-family: monospace;\n",
       "  background-color: var(--sklearn-color-background);\n",
       "  border-radius: 1rem;\n",
       "  height: 1rem;\n",
       "  width: 1rem;\n",
       "  text-decoration: none;\n",
       "  /* unfitted */\n",
       "  color: var(--sklearn-color-unfitted-level-1);\n",
       "  border: var(--sklearn-color-unfitted-level-1) 1pt solid;\n",
       "}\n",
       "\n",
       "#sk-container-id-3 a.estimator_doc_link.fitted {\n",
       "  /* fitted */\n",
       "  border: var(--sklearn-color-fitted-level-1) 1pt solid;\n",
       "  color: var(--sklearn-color-fitted-level-1);\n",
       "}\n",
       "\n",
       "/* On hover */\n",
       "#sk-container-id-3 a.estimator_doc_link:hover {\n",
       "  /* unfitted */\n",
       "  background-color: var(--sklearn-color-unfitted-level-3);\n",
       "  color: var(--sklearn-color-background);\n",
       "  text-decoration: none;\n",
       "}\n",
       "\n",
       "#sk-container-id-3 a.estimator_doc_link.fitted:hover {\n",
       "  /* fitted */\n",
       "  background-color: var(--sklearn-color-fitted-level-3);\n",
       "}\n",
       "</style><div id=\"sk-container-id-3\" class=\"sk-top-container\"><div class=\"sk-text-repr-fallback\"><pre>RandomizedSearchCV(estimator=RandomForestClassifier(random_state=42), n_jobs=4,\n",
       "                   param_distributions={&#x27;class_weight&#x27;: [{0: 1, 1: 0.25}],\n",
       "                                        &#x27;max_depth&#x27;: [None, 10, 11, 12, 13, 14,\n",
       "                                                      15, 16, 17, 18, 19, 20,\n",
       "                                                      21, 22, 23, 24, 25, 26,\n",
       "                                                      27, 28, 29, 30, 31, 32,\n",
       "                                                      33, 34, 35, 36, 37, 38, ...],\n",
       "                                        &#x27;min_samples_split&#x27;: &lt;scipy.stats._distn_infrastructure.rv_discrete_frozen object at 0x7948058ab5b0&gt;,\n",
       "                                        &#x27;n_estimators&#x27;: &lt;scipy.stats._distn_infrastructure.rv_discrete_frozen object at 0x794805828be0&gt;},\n",
       "                   random_state=42,\n",
       "                   scoring=make_scorer(f1_score, response_method=&#x27;predict&#x27;, average=weighted))</pre><b>In a Jupyter environment, please rerun this cell to show the HTML representation or trust the notebook. <br />On GitHub, the HTML representation is unable to render, please try loading this page with nbviewer.org.</b></div><div class=\"sk-container\" hidden><div class=\"sk-item sk-dashed-wrapped\"><div class=\"sk-label-container\"><div class=\"sk-label fitted sk-toggleable\"><input class=\"sk-toggleable__control sk-hidden--visually\" id=\"sk-estimator-id-7\" type=\"checkbox\" ><label for=\"sk-estimator-id-7\" class=\"sk-toggleable__label fitted sk-toggleable__label-arrow fitted\">&nbsp;&nbsp;RandomizedSearchCV<a class=\"sk-estimator-doc-link fitted\" rel=\"noreferrer\" target=\"_blank\" href=\"https://scikit-learn.org/1.4/modules/generated/sklearn.model_selection.RandomizedSearchCV.html\">?<span>Documentation for RandomizedSearchCV</span></a><span class=\"sk-estimator-doc-link fitted\">i<span>Fitted</span></span></label><div class=\"sk-toggleable__content fitted\"><pre>RandomizedSearchCV(estimator=RandomForestClassifier(random_state=42), n_jobs=4,\n",
       "                   param_distributions={&#x27;class_weight&#x27;: [{0: 1, 1: 0.25}],\n",
       "                                        &#x27;max_depth&#x27;: [None, 10, 11, 12, 13, 14,\n",
       "                                                      15, 16, 17, 18, 19, 20,\n",
       "                                                      21, 22, 23, 24, 25, 26,\n",
       "                                                      27, 28, 29, 30, 31, 32,\n",
       "                                                      33, 34, 35, 36, 37, 38, ...],\n",
       "                                        &#x27;min_samples_split&#x27;: &lt;scipy.stats._distn_infrastructure.rv_discrete_frozen object at 0x7948058ab5b0&gt;,\n",
       "                                        &#x27;n_estimators&#x27;: &lt;scipy.stats._distn_infrastructure.rv_discrete_frozen object at 0x794805828be0&gt;},\n",
       "                   random_state=42,\n",
       "                   scoring=make_scorer(f1_score, response_method=&#x27;predict&#x27;, average=weighted))</pre></div> </div></div><div class=\"sk-parallel\"><div class=\"sk-parallel-item\"><div class=\"sk-item\"><div class=\"sk-label-container\"><div class=\"sk-label fitted sk-toggleable\"><input class=\"sk-toggleable__control sk-hidden--visually\" id=\"sk-estimator-id-8\" type=\"checkbox\" ><label for=\"sk-estimator-id-8\" class=\"sk-toggleable__label fitted sk-toggleable__label-arrow fitted\">estimator: RandomForestClassifier</label><div class=\"sk-toggleable__content fitted\"><pre>RandomForestClassifier(random_state=42)</pre></div> </div></div><div class=\"sk-serial\"><div class=\"sk-item\"><div class=\"sk-estimator fitted sk-toggleable\"><input class=\"sk-toggleable__control sk-hidden--visually\" id=\"sk-estimator-id-9\" type=\"checkbox\" ><label for=\"sk-estimator-id-9\" class=\"sk-toggleable__label fitted sk-toggleable__label-arrow fitted\">&nbsp;RandomForestClassifier<a class=\"sk-estimator-doc-link fitted\" rel=\"noreferrer\" target=\"_blank\" href=\"https://scikit-learn.org/1.4/modules/generated/sklearn.ensemble.RandomForestClassifier.html\">?<span>Documentation for RandomForestClassifier</span></a></label><div class=\"sk-toggleable__content fitted\"><pre>RandomForestClassifier(random_state=42)</pre></div> </div></div></div></div></div></div></div></div></div>"
      ],
      "text/plain": [
       "RandomizedSearchCV(estimator=RandomForestClassifier(random_state=42), n_jobs=4,\n",
       "                   param_distributions={'class_weight': [{0: 1, 1: 0.25}],\n",
       "                                        'max_depth': [None, 10, 11, 12, 13, 14,\n",
       "                                                      15, 16, 17, 18, 19, 20,\n",
       "                                                      21, 22, 23, 24, 25, 26,\n",
       "                                                      27, 28, 29, 30, 31, 32,\n",
       "                                                      33, 34, 35, 36, 37, 38, ...],\n",
       "                                        'min_samples_split': <scipy.stats._distn_infrastructure.rv_discrete_frozen object at 0x7948058ab5b0>,\n",
       "                                        'n_estimators': <scipy.stats._distn_infrastructure.rv_discrete_frozen object at 0x794805828be0>},\n",
       "                   random_state=42,\n",
       "                   scoring=make_scorer(f1_score, response_method='predict', average=weighted))"
      ]
     },
     "execution_count": 136,
     "metadata": {},
     "output_type": "execute_result"
    }
=======
=======
>>>>>>> origin/main
   "metadata": {
    "jupyter": {
     "is_executing": true
    }
   },
   "source": [
    "random_search.fit(x, y)\n",
    "#grid_search.fit(x, y)"
>>>>>>> origin/main
   ],
   "source": [
    "random_search.fit(x_train, y_train)\n",
    "#grid_search.fit(x, y)"
   ]
  },
  {
   "cell_type": "code",
<<<<<<< HEAD
<<<<<<< HEAD
   "execution_count": 137,
   "metadata": {},
   "outputs": [
    {
     "name": "stdout",
     "output_type": "stream",
     "text": [
      "Best Parameters: {'class_weight': {0: 1, 1: 0.25}, 'max_depth': 32, 'min_samples_split': 5, 'n_estimators': 153}\n"
     ]
    }
   ],
=======
=======
>>>>>>> origin/main
   "metadata": {
    "jupyter": {
     "is_executing": true
    }
   },
<<<<<<< HEAD
>>>>>>> origin/main
=======
>>>>>>> origin/main
   "source": [
    "# Get the best parameters from the random search\n",
    "best_params = random_search.best_params_\n",
    "\n",
    "# Print the best parameters\n",
    "print(\"Best Parameters:\", best_params)\n",
    "\n",
    "# Get the best estimator (Random Forest classifier with the best parameters)\n",
    "best_rf_classifier = random_search.best_estimator_\n",
    "\n",
    "# Train the best classifier on the entire dataset\n",
    "best_rf_classifier.fit(x, y)\n",
    "\n",
    "# Extract feature importance\n",
    "feature_importances = best_rf_classifier.feature_importances_"
   ]
  },
  {
   "cell_type": "markdown",
   "metadata": {},
   "source": [
    "Print the importance of each feature if original unaltered variables are used."
   ]
  },
  {
   "cell_type": "code",
<<<<<<< HEAD
<<<<<<< HEAD
   "execution_count": null,
   "metadata": {},
   "outputs": [],
=======
=======
>>>>>>> origin/main
   "metadata": {
    "jupyter": {
     "is_executing": true
    }
   },
<<<<<<< HEAD
>>>>>>> origin/main
=======
>>>>>>> origin/main
   "source": [
    "# Sort the features and their importance scores by importance in descending order\n",
    "sorted_features = sorted(zip(x.columns, feature_importances), key=lambda x: x[1], reverse=True)\n",
    "\n",
    "# Print all features and their importance scores in descending order\n",
    "print(\"\\nFeature Importance (Descending Order):\")\n",
    "for feature, importance in sorted_features:\n",
    "    print(f\"{feature}: {importance}\")"
   ]
  },
  {
   "cell_type": "markdown",
   "metadata": {},
   "source": [
    "Print the importance of each feature if one hot encoder is used in descending order."
   ]
  },
  {
   "cell_type": "code",
<<<<<<< HEAD
<<<<<<< HEAD
   "execution_count": 139,
   "metadata": {},
   "outputs": [
    {
     "name": "stdout",
     "output_type": "stream",
     "text": [
      "_AGE_G: 0.10378490525284366\n",
      "_INCOMG1: 0.09896199952245247\n",
      "_HCVU652: 0.07764165379308188\n",
      "_RFHYPE6: 0.07763948023634709\n",
      "_EDUCAG: 0.0578318636042885\n",
      "_RFHLTH: 0.05549590228974927\n",
      "_RFCHOL3: 0.05404574003870293\n",
      "_PHYS14D: 0.051028269222555\n",
      "_RACE: 0.049967238577657634\n",
      "_SMOKER3: 0.04949376816673063\n",
      "_MENT14D: 0.04317670659519978\n",
      "_BMI5CAT: 0.04116992926502239\n",
      "_AIDTST4: 0.038188030270938686\n",
      "_FRTLT1A: 0.03676601724944525\n",
      "_VEGLT1A: 0.03543090405782048\n",
      "_SEX: 0.03182151319394934\n",
      "_TOTINDA: 0.02727769554681295\n",
      "_RFBING5: 0.020129593026226612\n",
      "_RFBMI5: 0.016887414479694468\n",
      "_RFDRHV7: 0.013723627853188538\n",
      "_HLTHPLN: 0.012955427012098343\n",
      "_CHOLCH3: 0.006582320745193958\n"
     ]
    }
   ],
=======
=======
>>>>>>> origin/main
   "metadata": {
    "jupyter": {
     "is_executing": true
    }
   },
<<<<<<< HEAD
>>>>>>> origin/main
=======
>>>>>>> origin/main
   "source": [
    "feature_importance_sum = {}\n",
    "\n",
    "for feature, importance in zip(x.columns, feature_importances):\n",
    "    feature_name = re.sub(r'(.*?)_\\d$', r'\\1', feature)\n",
    "\n",
    "    if feature_name in feature_importance_sum:\n",
    "        feature_importance_sum[feature_name] += importance\n",
    "    else:\n",
    "        feature_importance_sum[feature_name] = importance\n",
    "\n",
    "sorted_feature_importance_sum = sorted(feature_importance_sum.items(), key=lambda x: x[1], reverse=True)\n",
    "\n",
    "for feature, importance_sum in sorted_feature_importance_sum:\n",
    "    print(f\"{feature}: {importance_sum}\")"
   ]
  },
  {
   "cell_type": "code",
   "execution_count": 140,
   "metadata": {},
   "outputs": [
    {
     "data": {
      "image/png": "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",
      "text/plain": [
       "<Figure size 1000x600 with 1 Axes>"
      ]
     },
     "metadata": {},
     "output_type": "display_data"
    }
   ],
   "source": [
    "features = [feat for feat, _ in sorted_feature_importance_sum]\n",
    "importance_sums = [imp_sum for _, imp_sum in sorted_feature_importance_sum]\n",
    "\n",
    "# Plotting\n",
    "plt.figure(figsize=(10, 6))\n",
    "plt.barh(features, importance_sums, color='skyblue')\n",
    "plt.xlabel('Importance Sum')\n",
    "plt.ylabel('Features')\n",
    "plt.title('Feature Importance Sum')\n",
    "plt.gca().invert_yaxis()  # Invert y-axis to display features from top to bottom\n",
    "plt.show()"
   ]
  },
  {
   "cell_type": "markdown",
   "metadata": {},
   "source": [
    "Print the top features if original unaltered variables are used."
   ]
  },
  {
   "cell_type": "code",
<<<<<<< HEAD
<<<<<<< HEAD
   "execution_count": null,
   "metadata": {},
   "outputs": [],
=======
=======
>>>>>>> origin/main
   "metadata": {
    "jupyter": {
     "is_executing": true
    }
   },
<<<<<<< HEAD
>>>>>>> origin/main
=======
>>>>>>> origin/main
   "source": [
    "num_top_features = 23  # You can adjust this number based on your preference\n",
    "top_feature_indices = feature_importances.argsort()[-num_top_features:][::-1]\n",
    "top_features = x.columns[top_feature_indices]\n",
    "\n",
    "print(\"Top features:\")\n",
    "for feature in top_features:\n",
    "    print(feature)"
   ]
  },
  {
   "cell_type": "markdown",
   "metadata": {},
   "source": [
    "Print the top complete features if one hot encoder is used."
   ]
  },
  {
   "cell_type": "code",
<<<<<<< HEAD
<<<<<<< HEAD
   "execution_count": null,
   "metadata": {},
   "outputs": [],
=======
=======
>>>>>>> origin/main
   "metadata": {
    "jupyter": {
     "is_executing": true
    }
   },
<<<<<<< HEAD
>>>>>>> origin/main
=======
>>>>>>> origin/main
   "source": [
    "top_features = [sorted_feature_importance_sum[i][0] for i in range(5)]\n",
    "\n",
    "complete_features = []\n",
    "\n",
    "for feature in top_features:\n",
    "  for column in dataframe_sample.columns:\n",
    "      if column.startswith(feature):\n",
    "          suffix = column[len(feature):].lstrip('_')\n",
    "          if suffix != '':\n",
    "            complete_part = feature + '_' + suffix\n",
    "          else:\n",
    "            complete_part = feature\n",
    "\n",
    "          complete_features.append(complete_part)\n",
    "\n",
    "top_features = complete_features\n",
    "for complete_feat in top_features: print(complete_feat)"
   ]
  },
  {
   "cell_type": "markdown",
   "metadata": {},
   "source": [
    "# ***Classification with Data Mining Methods***"
   ]
  },
  {
   "cell_type": "markdown",
   "metadata": {},
   "source": [
    "## Class Frequency of the Target Variable"
   ]
  },
  {
   "cell_type": "code",
<<<<<<< HEAD
   "execution_count": 13,
   "metadata": {},
   "outputs": [
    {
     "data": {
      "image/png": "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",
      "text/plain": [
       "<Figure size 640x480 with 1 Axes>"
      ]
     },
     "metadata": {},
     "output_type": "display_data"
    }
   ],
   "source": [
    "category_labels = [\"Didn't Report having MI or CHD\", 'Reported having MI or CHD']\n",
    "sns.countplot(data=dataframes[2], x='_MICHD', order=dataframes[2]['_MICHD'].value_counts().index)\n",
    "plt.xticks(ticks=range(len(category_labels)), labels=category_labels)\n",
    "plt.show()"
   ]
=======
   "metadata": {
    "ExecuteTime": {
     "end_time": "2024-04-29T12:45:02.022037Z",
     "start_time": "2024-04-29T12:45:01.303756Z"
    }
   },
   "source": [
    "# Counts for the \"Had_CHD_MI\" variable\n",
    "sns.countplot(data=dataframes[2],x='_MICHD')"
   ],
   "outputs": [
    {
     "data": {
      "text/plain": [
       "<Axes: xlabel='_MICHD', ylabel='count'>"
      ]
     },
     "execution_count": 20,
     "metadata": {},
     "output_type": "execute_result"
    },
    {
     "data": {
      "text/plain": [
       "<Figure size 640x480 with 1 Axes>"
      ],
      "image/png": "iVBORw0KGgoAAAANSUhEUgAAAk8AAAGzCAYAAAA2f/ORAAAAOXRFWHRTb2Z0d2FyZQBNYXRwbG90bGliIHZlcnNpb24zLjguNCwgaHR0cHM6Ly9tYXRwbG90bGliLm9yZy8fJSN1AAAACXBIWXMAAA9hAAAPYQGoP6dpAAA5dElEQVR4nO3de3hU1b3/8c8k00yCQIHcSkhEinI1TGLCpSWcI3gpaE6l3BQ4IgcqHATSqkAbQiGAkTZAazEoonIT1BigUqMPtiBFLTa0gUxAfrEBW0lDApOQcMtlTDK/P5B9HEkkOw3MIO/X88xT9vrutWbt6ZNnPu61smNxu91uAQAAoFn8vD0BAACA6wnhCQAAwATCEwAAgAmEJwAAABMITwAAACYQngAAAEwgPAEAAJhAeAIAADCB8AQAAGCCT4Qnl8ulxMRE5eTkGG0nTpzQo48+KrvdrnvuuUfvvPOOR5/s7Gzdfffdstvtmjlzpk6fPm3U3G63VqxYoUGDBmnAgAFKT09XQ0ODUa+oqNDs2bMVGxurYcOGaceOHR5jHzlyRGPHjpXdbtfo0aN1+PDhq3TlAADgeuP18FRbW6snnnhChYWFRltdXZ2mT58uq9Wq3/3ud5o6darmzZunv//975Kk/Px8paSkaNasWcrMzNTZs2eVnJxs9F+/fr2ys7OVkZGhVatW6a233tL69euNenJyss6dO6fMzEzNmDFDCxYsUH5+viSpqqpK06ZNU3x8vLZv367Y2FhNnz5dVVVV1+gTAQAAvszqzTc/evSonnzySX31z+vt3btXJSUleu2119S2bVt997vf1fvvv6+DBw+qR48e2rx5s0aMGKGRI0dKktLT0zV06FAVFRUpKipKmzZtUlJSkuLj4yVJc+bM0W9/+1tNnTpVx48f1549e7R7925FRkaqR48eysvL06uvvqp+/frpnXfekc1m07x582SxWJSSkqL3339fO3fu1KhRo671RwQAAHyMV8PT/v37NXDgQD3++OOKiYnxaP/e976ntm3bGm3PPfec8W+Hw6FHH33UOO7cubMiIiLkcDgUEBCgkpIS9e/f36jHxcWpuLhYp06dksPhUOfOnRUZGelRf+GFF4yx4+LiZLFYJEkWi0V33HGH8vLyTIen8vJz4s8uAwBwfbBYpODgdlc8z6vhacKECY22FxUVqUuXLlqxYoV27Nihjh07KikpSXfffbck6dSpUwoLC/PoExwcrNLSUjmdTknyqIeEhEiSUW+s78mTJyVJTqdTt95662X1Ly8rAgCAG5dXw1NTqqqq9Lvf/U733Xef1qxZo5ycHCUlJSkzM1PR0dGqqalRQECAR5+AgAC5XC7V1NQYx1+uSRc3pldXVzfZV9IV62Y0J70CAIDri0+GJ39/f3Xo0EGpqany8/NT37599be//U1vvPGGoqOjZbPZLgszLpdLQUFBHkHJZrMZ/5akoKCgJvsGBgZK0hXrZrBsBwDA9eO6WLZrSlhYmCwWi/z8/u+XAbt166ZPPvlEkhQeHq6ysjKPPmVlZQoNDVV4eLiki8tvl/Y1XVrKu1Rvqu/Xjf3Vpb7mcLtFeAIA4BvG648qaIzdbldhYaHq6+uNtmPHjqlLly5GPTc316iVlJSopKREdrtd4eHhioiI8Kjn5uYqIiJCYWFhiomJUXFxsUpLSz3qlzas2+12HTx40PgNQLfbrQMHDshut1/NSwYAANcJnwxPiYmJamho0OLFi/XZZ59py5Yt+uCDDzRu3DhJ0vjx47Vjxw5lZWWpoKBA8+bN05133qmoqCijvmLFCuXk5CgnJ0crV67UpEmTJElRUVFKSEjQ3LlzVVBQoKysLGVnZ2vixImSpOHDh+vs2bNKS0vT0aNHlZaWpurqao0YMcI7HwYAAPApFvdXH7LkJT179tSmTZs0cOBASRefAZWamiqHw6GIiAg9+eSTuvfee43zt2/frlWrVunMmTMaPHiwli5dqo4dO0qS6uvrlZ6eru3bt8vf319jxozRk08+aTx+oLy8XCkpKdq3b59CQ0P1+OOPKzEx0Rg7Pz9fixYt0rFjx9SzZ08tXrxYffr0MX1NZWXseQIA4HphsUghIVfe8+Qz4embiPAEAMD1o7nhySeX7QAAAHwV4QkAAMAEwhMAAIAJhCcAAAATCE8AAAAmEJ4AAABMIDwBAACY4JN/2w4AbnR+fhb5+Vm8PQ3ApzQ0uNXQ4P0HKBKeAMDH+PlZ1KFDG/n7szgAfFl9fYMqK6u8HqAITwDgY/z8LPL399OCVz/QP06d8fZ0AJ/QLezbemrCEPn5WQhPAIDG/ePUGRUUn/b2NAB8BfeEAQAATCA8AQAAmEB4AgAAMIHwBAAAYALhCQAAwATCEwAAgAmEJwAAABMITwAAACYQngAAAEwgPAEAAJhAeAIAADCB8AQAAGAC4QkAAMAEwhMAAIAJhCcAAAATCE8AAAAmEJ4AAABMIDwBAACYQHgCAAAwgfAEAABgAuEJAADABMITAACACYQnAAAAE3wiPLlcLiUmJionJ+ey2rlz5zRkyBBt377doz07O1t333237Ha7Zs6cqdOnTxs1t9utFStWaNCgQRowYIDS09PV0NBg1CsqKjR79mzFxsZq2LBh2rFjh8fYR44c0dixY2W32zV69GgdPny4la8YAABcr7wenmpra/XEE0+osLCw0fry5ct16tQpj7b8/HylpKRo1qxZyszM1NmzZ5WcnGzU169fr+zsbGVkZGjVqlV66623tH79eqOenJysc+fOKTMzUzNmzNCCBQuUn58vSaqqqtK0adMUHx+v7du3KzY2VtOnT1dVVdVVuHoAAHC98Wp4Onr0qMaNG6fjx483Wv/b3/6mv/zlLwoNDfVo37x5s0aMGKGRI0eqV69eSk9P1969e1VUVCRJ2rRpk5KSkhQfH69BgwZpzpw52rJliyTp+PHj2rNnj5566in16NFDY8eO1Q9/+EO9+uqrkqR33nlHNptN8+bNU/fu3ZWSkqKbbrpJO3fuvIqfBAAAuF54NTzt379fAwcOVGZm5mU1l8ulX/ziF1q4cKECAgI8ag6HQ/Hx8cZx586dFRERIYfDoZMnT6qkpET9+/c36nFxcSouLtapU6fkcDjUuXNnRUZGetQPHjxojB0XFyeLxSJJslgsuuOOO5SXl9ealw4AAK5TVm+++YQJE5qsrVmzRn369FFCQsJltVOnTiksLMyjLTg4WKWlpXI6nZLkUQ8JCZEko95Y35MnT0qSnE6nbr311svqTS0rfp0v8hcAAGhFV+v7tbnjejU8NeXo0aN6/fXX9fvf/77Rek1NzWV3owICAuRyuVRTU2Mcf7kmXbybVV1d3WRfSVesmxEc3M50HwAA0LSOHW/y9hR8Lzy53W4tWLBASUlJxh2jr7LZbJeFGZfLpaCgII+gZLPZjH9LUlBQUJN9AwMDv3bsS3UzysvPye023Q3ADc7f388nviAAX1RRcUH19Q1XPrEFLJbm3fjwufB04sQJHTx4UJ988ol+9atfSbp4N2jRokV655139NJLLyk8PFxlZWUe/crKyhQaGqrw8HBJF5ffLu1rurSUd6neVF9JTda/utTXHG63CE8AALQyb3+3ev1RBV8VHh6uP/zhD3rzzTeNV1hYmJKSkpSWliZJstvtys3NNfqUlJSopKREdrtd4eHhioiI8Kjn5uYqIiJCYWFhiomJUXFxsUpLSz3qMTExxtgHDx6U+4v/Z9xutw4cOCC73X4Nrh4AAPg6n7vzZLVa1bVr18vagoODjbtK48eP18MPP6yYmBhFR0crLS1Nd955p6Kiooz6ihUr9J3vfEeStHLlSk2ZMkWSFBUVpYSEBM2dO1cpKSk6dOiQsrOztXnzZknS8OHDtXLlSqWlpemhhx7S66+/rurqao0YMeJafQQAAMCH+Vx4ao7Y2FgtWbJEq1at0pkzZzR48GAtXbrUqE+dOlXl5eWaNWuW/P39NWbMGE2ePNmop6enKyUlRePGjVNoaKiefvpp9evXT5LUtm1bvfDCC1q0aJHeeOMN9ezZU2vXrlWbNm2u9WUCAAAfZHG7vb1y+M1VVsaGcQDmWa0XN4xPfCZbBcWnr9wBuAH06tJJW36aqIqKC6qru3obxkNCrrxh3Of2PAEAAPgywhMAAIAJhCcAAAATCE8AAAAmEJ4AAABMIDwBAACYQHgCAAAwgfAEAABgAuEJAADABMITAACACYQnAAAAEwhPAAAAJhCeAAAATCA8AQAAmEB4AgAAMIHwBAAAYALhCQAAwATCEwAAgAmEJwAAABMITwAAACYQngAAAEwgPAEAAJhAeAIAADCB8AQAAGAC4QkAAMAEwhMAAIAJhCcAAAATCE8AAAAmEJ4AAABMIDwBAACYQHgCAAAwgfAEAABgAuEJAADABMITAACACT4RnlwulxITE5WTk2O05eXl6aGHHlJsbKx+8IMfKCsry6PPvn37lJiYKLvdrkmTJqmoqMijvmHDBg0ZMkSxsbGaP3++qqurjVptba3mz5+v+Ph4JSQkaN26dR59i4qKNHnyZMXExOi+++7Thx9+eBWuGgAAXI+8Hp5qa2v1xBNPqLCw0GhzOp169NFHNWDAAP3ud79TUlKSli5dqj/96U+SpBMnTmjmzJkaNWqUtm7dqk6dOumxxx6T2+2WJL377rvKyMjQkiVLtHHjRjkcDi1fvtwYPz09XYcPH9bGjRu1aNEiZWRkaOfOnZIkt9utmTNnKiQkRNu2bdMDDzygWbNm6cSJE9fuQwEAAD7Lq+Hp6NGjGjdunI4fP+7RvmvXLoWEhOiJJ57QLbfcovvvv18jR47UW2+9JUnKysrS7bffrilTpui2227TsmXLVFxcrP3790uSNm3apEceeURDhw5Vv379tHjxYm3btk3V1dWqqqpSVlaWUlJS1LdvX91zzz368Y9/rC1btkiS/vKXv6ioqEhLlixR9+7dNX36dMXExGjbtm3X9sMBAAA+yavhaf/+/Ro4cKAyMzM92ocMGaJly5Zddv758+clSQ6HQ/Hx8UZ7UFCQ+vbtq7y8PNXX1+vQoUMe9ZiYGH3++ecqKChQQUGB6urqFBsba9Tj4uLkcDjU0NAgh8OhPn36qE2bNh71vLy81rpsAABwHbN6880nTJjQaHtkZKQiIyON4/Lycr399tuaPXu2pIvLemFhYR59goODVVpaqrNnz6q2ttajbrVa1aFDB5WWlsrPz08dO3ZUQECAUQ8JCVFtba0qKyu/dmyzLBbTXQAAwBVcre/X5o7r1fDUHDU1NZo9e7ZCQkL04IMPSpKqq6s9wo8kBQQEyOVyqaamxjhurO52uxutSRc3rn/d2GYFB7cz3QcAADStY8ebvD0F3w5PFy5c0GOPPaZ//vOfevXVVxUUFCRJstlsl4UZl8ul9u3by2azGcdfrQcFBam+vr7RmiQFBgbKZrOpsrLysnpgYKDp+ZeXn9MXe9gBoNn8/f184gsC8EUVFRdUX99wVca2WJp348Nnw9P58+f14x//WMePH9fGjRt1yy23GLXw8HCVlZV5nF9WVqbevXurQ4cOstlsKisrU/fu3SVJdXV1qqysVGhoqNxutyoqKlRXVyer9eLlO51OBQYGqn379goPD9fRo0cvG/urS3nN4XaL8AQAQCvz9ner1x9V0JiGhgbNmjVL//rXv/TKK6/otttu86jb7Xbl5uYax9XV1Tpy5Ijsdrv8/PwUHR3tUc/Ly5PValWvXr3Uu3dvWa1Wjw3gubm5io6Olp+fn+x2uz7++GNj+e9S3W63X70LBgAA1w2fDE9bt25VTk6OnnrqKbVv315Op1NOp9NYThs9erQOHDigtWvXqrCwUMnJyYqMjNTAgQMlXdyI/vLLL2vXrl3Kz89Xamqqxo0bp6CgIAUFBWnkyJFKTU1Vfn6+du3apXXr1mnSpEmSpAEDBqhz585KTk5WYWGh1q5dq/z8fI0ZM8ZbHwcAAPAhPrls9+6776qhoUHTp0/3aB8wYIBeeeUVRUZG6tlnn9XTTz+t1atXKzY2VqtXr5bli23y999/v4qLi7Vw4UK5XC7de++9mjt3rjFOcnKyUlNT9cgjj6ht27aaPXu27r33XkmSv7+/nnvuOaWkpGjUqFHq2rWrVq9erYiIiGv3AQAAAJ9lcbu9vXL4zVVWxoZxAOZZrRc3jE98JlsFxae9PR3AJ/Tq0klbfpqoiooLqqu7ehvGQ0KuvGHcJ5ftAAAAfBXhCQAAwATCEwAAgAmEJwAAABMITwAAACYQngAAAEwgPAEAAJhAeAIAADCB8AQAAGAC4QkAAMAEwhMAAIAJhCcAAAATCE8AAAAmEJ4AAABMIDwBAACYQHgCAAAwgfAEAABgAuEJAADABMITAACACYQnAAAAEwhPAAAAJhCeAAAATCA8AQAAmEB4AgAAMIHwBAAAYALhCQAAwATCEwAAgAmEJwAAABMITwAAACYQngAAAEwgPAEAAJhAeAIAADCB8AQAAGCCT4Qnl8ulxMRE5eTkGG1FRUWaPHmyYmJidN999+nDDz/06LNv3z4lJibKbrdr0qRJKioq8qhv2LBBQ4YMUWxsrObPn6/q6mqjVltbq/nz5ys+Pl4JCQlat26dR98rvTcAALhxeT081dbW6oknnlBhYaHR5na7NXPmTIWEhGjbtm164IEHNGvWLJ04cUKSdOLECc2cOVOjRo3S1q1b1alTJz322GNyu92SpHfffVcZGRlasmSJNm7cKIfDoeXLlxvjp6en6/Dhw9q4caMWLVqkjIwM7dy5s1nvDQAAbmxeDU9Hjx7VuHHjdPz4cY/2v/zlLyoqKtKSJUvUvXt3TZ8+XTExMdq2bZskKSsrS7fffrumTJmi2267TcuWLVNxcbH2798vSdq0aZMeeeQRDR06VP369dPixYu1bds2VVdXq6qqSllZWUpJSVHfvn11zz336Mc//rG2bNnSrPcGAAA3Nq+Gp/3792vgwIHKzMz0aHc4HOrTp4/atGljtMXFxSkvL8+ox8fHG7WgoCD17dtXeXl5qq+v16FDhzzqMTEx+vzzz1VQUKCCggLV1dUpNjbWY2yHw6GGhoYrvjcAALixWb355hMmTGi03el0KiwszKMtODhYpaWlV6yfPXtWtbW1HnWr1aoOHTqotLRUfn5+6tixowICAox6SEiIamtrVVlZecX3BgAANzavhqemVFdXe4QbSQoICJDL5bpivaamxjhurO52uxutSRc3rl/pvc2wWEx3AQAAV3C1vl+bO65PhiebzabKykqPNpfLpcDAQKP+1TDjcrnUvn172Ww24/ir9aCgINXX1zdak6TAwMArvrcZwcHtTPcBAABN69jxJm9PwTfDU3h4uI4ePerRVlZWZiynhYeHq6ys7LJ679691aFDB9lsNpWVlal79+6SpLq6OlVWVio0NFRut1sVFRWqq6uT1Xrx8p1OpwIDA9W+ffsrvrcZ5eXn9MUvAAJAs/n7+/nEFwTgiyoqLqi+vuGqjG2xNO/Gh9cfVdAYu92ujz/+2FiCk6Tc3FzZ7Xajnpuba9Sqq6t15MgR2e12+fn5KTo62qOel5cnq9WqXr16qXfv3rJarR4bwHNzcxUdHS0/P78rvrcZbjcvXrx4mX8B+Hre/vnzyfA0YMAAde7cWcnJySosLNTatWuVn5+vMWPGSJJGjx6tAwcOaO3atSosLFRycrIiIyM1cOBASRc3or/88svatWuX8vPzlZqaqnHjxikoKEhBQUEaOXKkUlNTlZ+fr127dmndunWaNGlSs94bAADc2HwyPPn7++u5556T0+nUqFGj9Pvf/16rV69WRESEJCkyMlLPPvustm3bpjFjxqiyslKrV6+W5YudXvfff7+mT5+uhQsXasqUKerXr5/mzp1rjJ+cnKy+ffvqkUce0eLFizV79mzde++9zXpvAABwY7O43dwkvlrKytjzBMA8q/XinqeJz2SroPi0t6cD+IReXTppy08TVVFxQXV1V2/PU0jIdbrnCQAAwFcRngAAAEwgPAEAAJhAeAIAADCB8AQAAGAC4QkAAMAEwhMAAIAJhCcAAAATCE8AAAAmEJ4AAABMIDwBAACYQHgCAAAwgfAEAABgAuEJAADABMITAACACYQnAAAAEwhPAAAAJhCeAAAATCA8AQAAmEB4AgAAMIHwBAAAYALhCQAAwATCEwAAgAktCk+TJk3S2bNnL2s/ffq0Ro0a9W9PCgAAwFdZm3vi+++/r/z8fEnSX//6V61Zs0Zt2rTxOOezzz5TcXFx684QAADAhzQ7PHXr1k0vvfSS3G633G63Dhw4oG9961tG3WKxqE2bNkpLS7sqEwUAAPAFzQ5PUVFR2rRpkyQpOTlZKSkpatu27VWbGAAAgC9qdnj6smXLlkmSnE6n6urq5Ha7PeoRERH//swAAAB8UIvC05///Gf94he/UElJiSTJ7XbLYrEY//v//t//a9VJAgAA+IoWhaclS5aoX79+ev7551m6AwAAN5QWhafS0lK99NJLioqKau35AAAA+LQWPecpPj5eubm5rT0XAAAAn9eiO0/9+/fX4sWL9ac//Uldu3b1eGSBJM2aNatVJgcAAOBrWrxh/Pbbb1d5ebnKy8s9ahaLpVUmBgAA4ItaFJ5eeeWV1p5Ho0pKSpSamqq//vWv6tChgyZNmqTJkydLko4cOaJFixbp73//u2699VYtXrxYt99+u9E3OztbzzzzjJxOpxISErR06VJ16tRJ0sXfDly5cqW2bt2qhoYGjRkzRnPmzJGf38VVzIqKCi1cuFAffvihOnbsqJ/85Cd64IEHrsk1AwAA39ai8PTmm29+bX3kyJEtGfYyP/3pTxUREaHt27fr6NGjmjNnjrp06aLBgwdr2rRp+q//+i/98pe/1Guvvabp06frj3/8o9q0aaP8/HylpKRo8eLF6tWrl9LS0pScnKwXXnhBkrR+/XplZ2crIyNDdXV1mjt3roKDgzV16lRJFx8CWlNTo8zMTDkcDi1YsEDdunVTv379WuW6AADA9atF4WnVqlUex/X19SovL5fValW/fv1aJTydOXNGeXl5Wrp0qW655RbdcsstGjJkiD766COdOXNGNptN8+bNk8ViUUpKit5//33t3LlTo0aN0ubNmzVixAhjHunp6Ro6dKiKioqMJ6UnJSUpPj5ekjRnzhz99re/1dSpU3X8+HHt2bNHu3fvVmRkpHr06KG8vDy9+uqrhCcAANCy37Z77733PF579+5VTk6O7rrrLiUkJLTKxAIDAxUUFKTt27fr888/16effqoDBw6od+/ecjgciouLM/ZXWSwW3XHHHcrLy5MkORwOIxhJUufOnRURESGHw6GTJ0+qpKRE/fv3N+pxcXEqLi7WqVOn5HA41LlzZ0VGRnrUDx482CrXBQAArm8tCk+NuemmmzR79mytX7++Vcaz2WxauHChMjMzZbfbNWLECP3Hf/yHxo4dK6fTqbCwMI/zg4ODVVpaKkk6depUk3Wn0ylJHvWQkBBJMuqN9T158qTpa7BYePHixcv8C8DX8/bPX4uW7ZpSUFCghoaGVhvv2LFjGjp0qP7nf/5HhYWFWrp0qb73ve+purpaAQEBHucGBATI5XJJkmpqapqs19TUGMdfrkmSy+W64thmBAe3M90HAAA0rWPHm7w9hZaFp4cfflhffSTBhQsX9Mknnxi/Dffv+uijj7R161bt3btXgYGBio6O1smTJ/X8888rKirqsjDjcrkUGBgo6eJdq8bqQUFBHkHJZrMZ/5akoKCgJvteGtuM8vJz+srfTAaAK/L39/OJLwjAF1VUXFB9fevdqPkyi6V5Nz5aFJ4GDhx4WVtAQIDmzJmj733vey0Z8jKHDx9W165dPUJLnz59tGbNGsXHx6usrMzj/LKyMmO5LTw8vNF6aGiowsPDJUlOp9PY13RpKe9Svam+ZrndIjwBANDKvP3d2qLw9OUniJ8/f1719fX69re/3WqTki7uSfrss8/kcrmMu0WffvqpIiMjZbfb9eKLL8rtdstiscjtduvAgQP63//9X0mS3W5Xbm6uRo0aJeni86JKSkpkt9sVHh6uiIgI5ebmGuEpNzdXERERCgsLU0xMjIqLi1VaWqrvfOc7Rj0mJqZVrw8AAFyfWrxhfOPGjRoyZIj69++vQYMGafDgwcrIyGi1iQ0bNkzf+ta3tGDBAv3jH//Qe++9pzVr1ujhhx/W8OHDdfbsWaWlpeno0aNKS0tTdXW1RowYIUkaP368duzYoaysLBUUFGjevHm68847jT9kPH78eK1YsUI5OTnKycnRypUrNWnSJElSVFSUEhISNHfuXBUUFCgrK0vZ2dmaOHFiq10bAAC4frXoztPq1au1efNm/eQnP1FsbKwaGhp04MABZWRkKCAgQNOmTfu3J9auXTtt2LBBaWlpGjNmjDp16qQZM2bowQcflMVi0QsvvKBFixbpjTfeUM+ePbV27Vq1adNGkhQbG6slS5Zo1apVOnPmjAYPHqylS5caY0+dOlXl5eWaNWuW/P39NWbMGI+9Wunp6UpJSdG4ceMUGhqqp59+mmc8AQAASZLF7Ta/cvif//mfWrRokYYNG+bRvmvXLqWlpWnPnj2tNsHrWVkZG8YBmGe1XtwwPvGZbBUUn/b2dACf0KtLJ235aaIqKi6oru7qbRgPCbnyhvEWLdudP39et9xyy2Xt3bp10+nT/KADAIBvrhaFp9jYWK1bt87jmU719fV6+eWXWd4CAADfaC3a85ScnKyJEydq37596tu3ryTp448/lsvl0ksvvdSqEwQAAPAlLQpP3bt31/z581VZWalPP/1UNptNe/bs0apVq9SrV6/WniMAAIDPaNGy3SuvvKLU1FS1a9dOqampSk5O1sMPP6w5c+bojTfeaO05AgAA+IwWhaf169dr5cqV+tGPfmS0/exnP9Py5cu1du3aVpscAACAr2lReKqoqNDNN998WXu3bt0u+9MmAAAA3yQtCk9xcXF69tlnVV1dbbTV1tZqzZo1io2NbbXJAQAA+JoWbRhfuHChpkyZooSEBON5T8ePH1dISIiee+651pwfAACAT2lReLr55pv1zjvv6IMPPtA///lPWa1W3XLLLUpISJC/v39rzxEAAMBntCg8SVJAQIDuuuuu1pwLAACAz2vRnicAAIAbFeEJAADABMITAACACYQnAAAAEwhPAAAAJhCeAAAATCA8AQAAmEB4AgAAMIHwBAAAYALhCQAAwATCEwAAgAmEJwAAABMITwAAACYQngAAAEwgPAEAAJhAeAIAADCB8AQAAGAC4QkAAMAEwhMAAIAJhCcAAAATCE8AAAAmEJ4AAABMIDwBAACY4NPhyeVyafHixerfv7++//3v69e//rXcbrck6ciRIxo7dqzsdrtGjx6tw4cPe/TNzs7W3XffLbvdrpkzZ+r06dNGze12a8WKFRo0aJAGDBig9PR0NTQ0GPWKigrNnj1bsbGxGjZsmHbs2HFtLhgAAPg8nw5PTz31lPbt26eXX35ZK1eu1BtvvKHMzExVVVVp2rRpio+P1/bt2xUbG6vp06erqqpKkpSfn6+UlBTNmjVLmZmZOnv2rJKTk41x169fr+zsbGVkZGjVqlV66623tH79eqOenJysc+fOKTMzUzNmzNCCBQuUn59/za8fAAD4Hqu3J9CUyspKbdu2TevXr1e/fv0kSVOmTJHD4ZDVapXNZtO8efNksViUkpKi999/Xzt37tSoUaO0efNmjRgxQiNHjpQkpaena+jQoSoqKlJUVJQ2bdqkpKQkxcfHS5LmzJmj3/72t5o6daqOHz+uPXv2aPfu3YqMjFSPHj2Ul5enV1991ZgHAAC4cfnsnafc3Fy1bdtWAwYMMNqmTZumZcuWyeFwKC4uThaLRZJksVh0xx13KC8vT5LkcDiMYCRJnTt3VkREhBwOh06ePKmSkhL179/fqMfFxam4uFinTp2Sw+FQ586dFRkZ6VE/ePDgVb5iAABwPfDZO09FRUXq0qWL3nzzTa1Zs0aff/65Ro0apRkzZsjpdOrWW2/1OD84OFiFhYWSpFOnTiksLOyyemlpqZxOpyR51ENCQiTJqDfW9+TJk6av4YtsBwAAWtHV+n5t7rg+G56qqqr02Wef6fXXX9eyZcvkdDq1cOFCBQUFqbq6WgEBAR7nBwQEyOVySZJqamqarNfU1BjHX65JFzeoX2lsM4KD25nuAwAAmtax403enoLvhier1arz589r5cqV6tKliyTpxIkTeu2119S1a9fLwozL5VJgYKAkyWazNVoPCgryCEo2m834tyQFBQU12ffS2GaUl5/TF78cCADN5u/v5xNfEIAvqqi4oPr6hiuf2AIWS/NufPhseAoNDZXNZjOCkyR169ZNJSUlGjBggMrKyjzOLysrM5bbwsPDG62HhoYqPDxckuR0Oo19TZeW8i7Vm+prltstwhMAAK3M29+tPrth3G63q7a2Vv/4xz+Mtk8//VRdunSR3W7XwYMHjWc+ud1uHThwQHa73eibm5tr9CspKVFJSYnsdrvCw8MVERHhUc/NzVVERITCwsIUExOj4uJilZaWetRjYmKu8hUDAIDrgc+Gp+9+97u68847lZycrIKCAn3wwQdau3atxo8fr+HDh+vs2bNKS0vT0aNHlZaWpurqao0YMUKSNH78eO3YsUNZWVkqKCjQvHnzdOeddyoqKsqor1ixQjk5OcrJydHKlSs1adIkSVJUVJQSEhI0d+5cFRQUKCsrS9nZ2Zo4caLXPgsAAOA7LG63t29+Ne3cuXNaunSp/vjHPyooKEgTJkzQzJkzZbFYlJ+fr0WLFunYsWPq2bOnFi9erD59+hh9t2/frlWrVunMmTMaPHiwli5dqo4dO0qS6uvrlZ6eru3bt8vf319jxozRk08+aTz6oLy8XCkpKdq3b59CQ0P1+OOPKzEx0fT8y8rY8wTAPKv14p6nic9kq6D49JU7ADeAXl06actPE1VRcUF1dVdvz1NIyJX3PPl0eLreEZ4AtAThCbicL4Unn122AwAA8EWEJwAAABMITwAAACYQngAAAEwgPAEAAJhAeAIAADCB8AQAAGAC4QkAAMAEwhMAAIAJhCcAAAATCE8AAAAmEJ4AAABMIDwBAACYQHgCAAAwgfAEAABgAuEJAADABMITAACACYQnAAAAEwhPAAAAJhCeAAAATCA8AQAAmEB4AgAAMIHwBAAAYALhCQAAwATCEwAAgAmEJwAAABMITwAAACYQngAAAEwgPAEAAJhAeAIAADCB8AQAAGAC4QkAAMAEwhMAAIAJhCcAAAATrpvwNG3aNP385z83jo8cOaKxY8fKbrdr9OjROnz4sMf52dnZuvvuu2W32zVz5kydPn3aqLndbq1YsUKDBg3SgAEDlJ6eroaGBqNeUVGh2bNnKzY2VsOGDdOOHTuu/gUCAIDrwnURnt5++23t3bvXOK6qqtK0adMUHx+v7du3KzY2VtOnT1dVVZUkKT8/XykpKZo1a5YyMzN19uxZJScnG/3Xr1+v7OxsZWRkaNWqVXrrrbe0fv16o56cnKxz584pMzNTM2bM0IIFC5Sfn3/tLhgAAPgsnw9PlZWVSk9PV3R0tNH2zjvvyGazad68eerevbtSUlJ00003aefOnZKkzZs3a8SIERo5cqR69eql9PR07d27V0VFRZKkTZs2KSkpSfHx8Ro0aJDmzJmjLVu2SJKOHz+uPXv26KmnnlKPHj00duxY/fCHP9Srr7567S8eAAD4HJ8PT7/61a/0wAMP6NZbbzXaHA6H4uLiZLFYJEkWi0V33HGH8vLyjHp8fLxxfufOnRURESGHw6GTJ0+qpKRE/fv3N+pxcXEqLi7WqVOn5HA41LlzZ0VGRnrUDx48eJWvFAAAXA+s3p7A1/noo4/0t7/9TW+99ZZSU1ONdqfT6RGmJCk4OFiFhYWSpFOnTiksLOyyemlpqZxOpyR51ENCQiTJqDfW9+TJk6bn/0W2AwAArehqfb82d1yfDU+1tbVatGiRFi5cqMDAQI9adXW1AgICPNoCAgLkcrkkSTU1NU3Wa2pqjOMv1yTJ5XJdcWwzgoPbme4DAACa1rHjTd6egu+Gp4yMDN1+++0aMmTIZTWbzXZZmHG5XEbIaqoeFBTkEZRsNpvxb0kKCgq64thmlJefk9ttuhuAG5y/v59PfEEAvqii4oLq6xuufGILWCzNu/Hhs+Hp7bffVllZmWJjYyX9X8B59913lZiYqLKyMo/zy8rKjOW28PDwRuuhoaEKDw+XdHHp79K+pktLeZfqTfU1y+0W4QkAgFbm7e9Wn90w/sorr+itt97Sm2++qTfffFPDhg3TsGHD9Oabb8put+vgwYNyf/Hpud1uHThwQHa7XZJkt9uVm5trjFVSUqKSkhLZ7XaFh4crIiLCo56bm6uIiAiFhYUpJiZGxcXFKi0t9ajHxMRcmwsHAAA+zWfvPHXp0sXj+KabLt7C7tq1q4KDg7Vy5UqlpaXpoYce0uuvv67q6mqNGDFCkjR+/Hg9/PDDiomJUXR0tNLS0nTnnXcqKirKqK9YsULf+c53JEkrV67UlClTJElRUVFKSEjQ3LlzlZKSokOHDik7O1ubN2++VpcOAAB8mM+Gp6/Ttm1bvfDCC1q0aJHeeOMN9ezZU2vXrlWbNm0kSbGxsVqyZIlWrVqlM2fOaPDgwVq6dKnRf+rUqSovL9esWbPk7++vMWPGaPLkyUY9PT1dKSkpGjdunEJDQ/X000+rX79+1/oyAQCAD7K43d5eOfzmKitjwzgA86zWixvGJz6TrYLi01fuANwAenXppC0/TVRFxQXV1V29DeMhIVfeMO6ze54AAAB8EeEJAADABMITAACACYQnAAAAEwhPAAAAJhCeAAAATCA8AQAAmEB4AgAAMIHwBAAAYALhCQAAwATCEwAAgAmEJwAAABMITwAAACYQngAAAEwgPAEAAJhAeAIAADCB8AQAAGAC4QkAAMAEwhMAAIAJhCcAAAATCE8AAAAmEJ4AAABMIDwBAACYQHgCAAAwgfAEAABgAuEJAADABMITAACACYQnAAAAEwhPAAAAJhCeAAAATCA8AQAAmEB4AgAAMIHwBAAAYALhCQAAwASfDk8nT55UUlKSBgwYoCFDhmjZsmWqra2VJBUVFWny5MmKiYnRfffdpw8//NCj7759+5SYmCi73a5JkyapqKjIo75hwwYNGTJEsbGxmj9/vqqrq41abW2t5s+fr/j4eCUkJGjdunVX/2IBAMB1wWfDk9vtVlJSkqqrq7Vlyxb95je/0Z49e/TMM8/I7XZr5syZCgkJ0bZt2/TAAw9o1qxZOnHihCTpxIkTmjlzpkaNGqWtW7eqU6dOeuyxx+R2uyVJ7777rjIyMrRkyRJt3LhRDodDy5cvN947PT1dhw8f1saNG7Vo0SJlZGRo586dXvkcAACAb7F6ewJN+fTTT5WXl6c///nPCgkJkSQlJSXpV7/6lf7jP/5DRUVFev3119WmTRt1795dH330kbZt26bZs2crKytLt99+u6ZMmSJJWrZsmQYPHqz9+/dr4MCB2rRpkx555BENHTpUkrR48WJNnTpVc+fOldvtVlZWll588UX17dtXffv2VWFhobZs2aLhw4d77fMAAAC+wWfvPIWGhuqll14ygtMl58+fl8PhUJ8+fdSmTRujPS4uTnl5eZIkh8Oh+Ph4oxYUFKS+ffsqLy9P9fX1OnTokEc9JiZGn3/+uQoKClRQUKC6ujrFxsZ6jO1wONTQ0HCVrhYAAFwvfPbOU/v27TVkyBDjuKGhQZs3b9agQYPkdDoVFhbmcX5wcLBKS0sl6WvrZ8+eVW1trUfdarWqQ4cOKi0tlZ+fnzp27KiAgACjHhISotraWlVWVqpTp07NvgaLxdQlAwCAZrha36/NHddnw9NXLV++XEeOHNHWrVu1YcMGj3AjSQEBAXK5XJKk6urqJus1NTXGcWN1t9vdaE2SMX5zBQe3M3U+AAD4eh073uTtKVwf4Wn58uXauHGjfvOb36hHjx6y2WyqrKz0OMflcikwMFCSZLPZLgs6LpdL7du3l81mM46/Wg8KClJ9fX2jNUnG+M1VXn5OX+xRB4Bm8/f384kvCMAXVVRcUH391dlGY7E078aHz4enpUuX6rXXXtPy5cv1gx/8QJIUHh6uo0ePepxXVlZmLMWFh4errKzssnrv3r3VoUMH2Ww2lZWVqXv37pKkuro6VVZWKjQ0VG63WxUVFaqrq5PVevHjcTqdCgwMVPv27U3N3e0W4QkAgFbm7e9Wn90wLkkZGRl6/fXX9etf/1r333+/0W632/Xxxx8bS3CSlJubK7vdbtRzc3ONWnV1tY4cOSK73S4/Pz9FR0d71PPy8mS1WtWrVy/17t1bVqvV2Hx+aezo6Gj5+fn0xwUAAK4Bn00Dx44d03PPPadHH31UcXFxcjqdxmvAgAHq3LmzkpOTVVhYqLVr1yo/P19jxoyRJI0ePVoHDhzQ2rVrVVhYqOTkZEVGRmrgwIGSpAkTJujll1/Wrl27lJ+fr9TUVI0bN05BQUEKCgrSyJEjlZqaqvz8fO3atUvr1q3TpEmTvPlxAAAAH2Fxu71986txa9eu1cqVKxutffLJJ/rss8+UkpIih8Ohrl27av78+fr+979vnLN37149/fTTKi0tVWxsrJYuXaqoqCiP8Tds2CCXy6V7771XixYtMvZDVVdXKzU1VX/4wx/Utm1bTZ06VZMnTzZ9DWVl7HkCYJ7VenHP08RnslVQfNrb0wF8Qq8unbTlp4mqqLigurqrt+cpJOTKe558Njx9ExCeALQE4Qm4nC+FJ59dtgMAAPBFhCcAAAATCE8AAAAmEJ4AAABMIDwBAACYQHgCAAAwwef/PAua5udnkZ/fVfrT0sB1qqHBrYYGnhEC4OohPF2n/Pws6tChjfz9uXkIfFl9fYMqK6sIUACuGsLTdcrPzyJ/fz8tePUD/ePUGW9PB/AJ3cK+racmDJGfn4XwBOCqITxd5/5x6gxPIAYA4BpizQcAAMAEwhMAAIAJhCcAAAATCE8AAAAmEJ4AAABMIDwBAACYQHgCAAAwgfAEAABgAuEJAADABMITAACACYQnAAAAEwhPAAAAJhCeAAAATCA8AQAAmEB4AgAAMIHwBAAAYALhCQAAwATCEwAAgAmEJwAAABMITwAAACYQngAAAEwgPAEAAJhAeAIAADCB8NSE2tpazZ8/X/Hx8UpISNC6deu8PSUAAOADrN6egK9KT0/X4cOHtXHjRp04cUI/+9nPFBERoeHDh3t7agAAwIsIT42oqqpSVlaWXnzxRfXt21d9+/ZVYWGhtmzZQngCAOAGx7JdIwoKClRXV6fY2FijLS4uTg6HQw0NDV6cGQAA8DbCUyOcTqc6duyogIAAoy0kJES1tbWqrKz03sQAAIDXsWzXiOrqao/gJMk4drlczR7Hz09yu1t1apfpFdFJQQH83whIUteQ9sa//b4B/2nIzzfwf67Fz7fF0rzz+KlshM1muywkXToODAxs9jidOrVr1Xk15hfjvn/V3wO43nTseJO3p9Aq+PkGLucLP9/fgP82a33h4eGqqKhQXV2d0eZ0OhUYGKj27dt/TU8AAPBNR3hqRO/evWW1WpWXl2e05ebmKjo6Wn7fhLUAAADQYiSBRgQFBWnkyJFKTU1Vfn6+du3apXXr1mnSpEnenhoAAPAyi9t9tbc0X5+qq6uVmpqqP/zhD2rbtq2mTp2qyZMne3taAADAywhPAAAAJrBsBwAAYALhCQAAwATCEwAAgAmEJwAAABMIT8C/yeVyKTExUTk5Od6eCoBWcvLkSSUlJWnAgAEaMmSIli1bptraWm9PCz6CP88C/Btqa2v15JNPqrCw0NtTAdBK3G63kpKS1L59e23ZskVnzpzR/Pnz5efnp5/97Gfenh58AHeegBY6evSoxo0bp+PHj3t7KgBa0aeffqq8vDwtW7ZMt912m+Lj45WUlKTs7GxvTw0+gvAEtND+/fs1cOBAZWZmensqAFpRaGioXnrpJYWEhHi0nz9/3kszgq9h2Q5ooQkTJnh7CgCugvbt22vIkCHGcUNDgzZv3qxBgwZ5cVbwJYQnAAC+xvLly3XkyBFt3brV21OBjyA8AQDQhOXLl2vjxo36zW9+ox49enh7OvARhCcAABqxdOlSvfbaa1q+fLl+8IMfeHs68CGEJwAAviIjI0Ovv/66fv3rX2v48OHeng58DOEJAIAvOXbsmJ577jlNmzZNcXFxcjqdRi00NNSLM4OvIDwBAPAlu3fvVn19vZ5//nk9//zzHrVPPvnES7OCL7G43W63tycBAABwveAhmQAAACYQngAAAEwgPAEAAJhAeAIAADCB8AQAAGAC4QkAAMAEwhMAAIAJhCcAN4ScnBz17NlTd911V6P1xx9/XD179lROTo4k6dlnn9XDDz/scc6ZM2f0y1/+UsOGDZPdbteIESO0YcMGNTQ0GOc8/PDDevbZZ5t8/y+f17NnT+Nlt9v1ox/9SL///e9b43IBXEU8YRzADeXkyZP6+9//rh49ehhtLpdLH3zwwdf2q6io0IMPPqiwsDClpaUpMjJShw4d0tKlS1VUVKRf/OIXpucyZcoUTZkyRW63W+fOndPu3buVnJysuro6jRo1yvR4AK4NwhOAG0p8fLzee+89j/D00Ucf6dZbb9XBgweb7Ldy5UoFBATo5Zdfls1mkyRFRUUpMDBQjz32mP77v/9b3bp1MzWXNm3aGH8rLSwsTN27d1dVVZWWL1+u+++/33gfAL6FZTsAN5S77rpL7733nkfb7t27dffddzfZx+Vy6e2339bEiRMvCzRDhw7Vhg0b1KVLl1aZ34MPPqjTp08rNze3VcYD0PoITwBuKMOGDdOhQ4dUVlYmSWpoaNB77733teHp+PHjqqqqUnR09GU1i8WiQYMGKSAgoFXm17lzZ7Vp00ZHjx5tlfEAtD6W7QDcULp06aKePXtqz549Gjt2rPLy8tShQwfdcsstTfY5e/asJKldu3bNeo8XXnhB69at82irr69v9hzbtWunCxcuNPt8ANcW4QnADeeuu+7S7t27NXbsWO3atetr7zpJUocOHSRd/G275njooYcu+009h8OhuXPnNqv/hQsX1LZt22adC+DaY9kOwA3nrrvu0kcffaTq6mrt3r1b99xzz9eef/PNN6tdu3b6+OOPG63PmDFD+/btM46//e1vq2vXrh6v8PDwZs3tX//6l86fP6/bbrut+RcE4JoiPAG44fTp00edOnXSli1b9Pnnn6tv375fe77VatV9992nLVu2yOVyedTee+89vffeewoLC2uVuW3btk2hoaGKj49vlfEAtD7CE4Ab0rBhw/Tcc881+dDMr5o9e7bOnz+vqVOnav/+/Tp+/LiysrL085//XJMmTdKtt95qeg5VVVVyOp1yOp06duyYVq9erRdffFFz586V1cquCsBX8dMJ4IZ01113afPmzVfc73RJaGioXnvtNT377LOaM2eOKisrdfPNNyspKUnjx49v0RzWrVtnbCzv0KGDbrvtNq1atUrDhg1r0XgArg2L2+12e3sSAAAA1wuW7QAAAExg2Q7AN0J+fr4eeeSRJusRERF6++23r+GMAHxTsWwH4BvB5XKppKSkybrVam21P6EC4MZGeAIAADCBPU8AAAAmEJ4AAABMIDwBAACYQHgCAAAwgfAEAABgAuEJAADABMITAACACYQnAAAAE/4/Er5dq035wooAAAAASUVORK5CYII="
     },
     "metadata": {},
     "output_type": "display_data"
    }
   ],
   "execution_count": 20
  },
  {
   "cell_type": "markdown",
   "metadata": {},
   "source": "<h1 style=\"text-align: center;\">Generation of Synthetic Data</h1>"
  },
  {
   "cell_type": "markdown",
   "metadata": {},
   "source": "<h2> Here we try different oversampling methods and for each variant we run the model and save the results </h2>"
  },
  {
   "cell_type": "code",
<<<<<<< HEAD
   "metadata": {
    "ExecuteTime": {
     "end_time": "2024-04-29T12:45:02.109433Z",
     "start_time": "2024-04-29T12:45:02.032034Z"
    }
   },
=======
   "metadata": {},
>>>>>>> origin/main
   "source": "SMOTE_data = dataframes[2].copy()",
   "outputs": [],
   "execution_count": 21
  },
  {
   "cell_type": "code",
   "metadata": {
    "ExecuteTime": {
     "end_time": "2024-04-29T12:45:02.158299Z",
     "start_time": "2024-04-29T12:45:02.120429Z"
    }
   },
   "source": [
    "SMOTE_data['_MICHD'].value_counts()"
   ],
   "outputs": [
    {
     "data": {
      "text/plain": [
       "_MICHD\n",
       "2    153711\n",
       "1     13872\n",
       "Name: count, dtype: int64"
      ]
     },
     "execution_count": 22,
     "metadata": {},
     "output_type": "execute_result"
    }
   ],
   "execution_count": 22
  },
  {
   "cell_type": "code",
   "metadata": {
    "ExecuteTime": {
     "end_time": "2024-04-29T12:45:02.354257Z",
     "start_time": "2024-04-29T12:45:02.169296Z"
    }
   },
   "source": [
    "SMOTE_data.drop_duplicates()['_MICHD'].value_counts()"
   ],
   "outputs": [
    {
     "data": {
      "text/plain": [
       "_MICHD\n",
       "2    120781\n",
       "1     12936\n",
       "Name: count, dtype: int64"
      ]
     },
     "execution_count": 23,
     "metadata": {},
     "output_type": "execute_result"
    }
   ],
   "execution_count": 23
  },
  {
   "metadata": {
    "ExecuteTime": {
     "end_time": "2024-04-29T12:45:02.392753Z",
     "start_time": "2024-04-29T12:45:02.366761Z"
    }
   },
   "cell_type": "code",
   "source": "target_column = \"_MICHD\"",
   "outputs": [],
   "execution_count": 24
  },
  {
   "metadata": {},
   "cell_type": "markdown",
   "source": "<h3 style=\"text-align: center;\"> First variant: Borderline SMOTE </h3>"
  },
  {
   "metadata": {},
   "cell_type": "markdown",
   "source": "#### Split data before applying Borderline SMOTE"
  },
  {
   "metadata": {
    "jupyter": {
     "is_executing": true
    }
   },
   "cell_type": "code",
   "source": "SMOTE_train_data, SMOTE_test_data = train_test_split(SMOTE_data, test_size=0.20, stratify=SMOTE_data['_MICHD'])",
   "outputs": [],
   "execution_count": null
  },
  {
   "metadata": {
    "jupyter": {
     "is_executing": true
    }
   },
   "cell_type": "code",
   "source": [
    "# Separate the dataframe into minority and majority classes\n",
    "minority_df = SMOTE_data[SMOTE_data['_MICHD'] == 1.0]\n",
    "majority_df = SMOTE_data[SMOTE_data['_MICHD'] == 2.0]\n",
    "\n",
    "# Split the minority class into training and testing sets\n",
    "minority_train, minority_test = train_test_split(minority_df, test_size=0.1)\n",
    "\n",
    "# Split the majority class into training and testing sets\n",
    "majority_train, majority_test = train_test_split(majority_df, test_size=0.3)\n",
    "\n",
    "# Concatenate the training and testing sets for both classes\n",
    "train_set = pd.concat([minority_train, majority_train])\n",
    "test_set = pd.concat([minority_test, majority_test])\n",
    "\n",
    "# Shuffle the rows in the testing set\n",
    "test_set = test_set.sample(frac=1)\n",
    "\n",
    "# Ensure that the testing set does not contain samples from the training set\n",
    "test_set = test_set[~test_set.index.isin(train_set.index)]\n",
    "\n",
    "# Verify the class distribution in the training and testing sets\n",
    "print(\"Training set class distribution:\")\n",
    "print(train_set['_MICHD'].value_counts())\n",
    "print(\"\\nTesting set class distribution:\")\n",
    "print(test_set['_MICHD'].value_counts())"
   ],
   "outputs": [],
   "execution_count": null
  },
  {
   "cell_type": "code",
   "metadata": {
    "jupyter": {
     "is_executing": true
    }
   },
   "source": [
    "# Generate synthetic data for the original imbalanced data\n",
    "resampled_data = BorderlineSMOTE().fit_resample(train_set.drop(columns = ['_MICHD']), \n",
    "                                        train_set['_MICHD'])\n",
    "train_set = resampled_data[0]\n",
    "train_set[target_column] = resampled_data[1].to_numpy()"
   ],
   "outputs": [],
   "execution_count": null
  },
  {
   "cell_type": "code",
   "metadata": {
    "jupyter": {
     "is_executing": true
    }
   },
   "source": [
    "# Counts for the \"Had_CHD_MI\" variable\n",
    "sns.countplot(data=train_set,x='_MICHD')"
   ],
   "outputs": [],
   "execution_count": null
  },
  {
   "cell_type": "code",
   "metadata": {
    "jupyter": {
     "is_executing": true
    }
   },
   "source": [
    "# 0: Reported having MI or CHD\n",
    "# 1: Did not report having MI or CHD\n",
    "\n",
    "train_set['_MICHD'] = train_set['_MICHD'].map({1.0: 0, 2.0: 1})\n",
    "test_set['_MICHD'] = test_set['_MICHD'].map({1.0: 0, 2.0: 1})"
   ],
   "outputs": [],
   "execution_count": null
>>>>>>> origin/main
  },
  {
   "cell_type": "markdown",
   "metadata": {},
   "source": [
    "## Generation of Synthetic Data"
   ]
  },
  {
   "cell_type": "markdown",
   "metadata": {},
   "source": [
    "Here we try different oversampling methods and for each variant we run the model and save the results"
   ]
  },
  {
   "cell_type": "code",
<<<<<<< HEAD
   "execution_count": null,
   "metadata": {},
   "outputs": [],
   "source": [
    "SMOTE_data = dataframes[2].copy()"
   ]
  },
  {
   "cell_type": "code",
   "execution_count": null,
   "metadata": {},
   "outputs": [],
   "source": [
    "SMOTE_data['_MICHD'].value_counts()"
   ]
  },
  {
   "cell_type": "code",
   "execution_count": null,
   "metadata": {},
   "outputs": [],
   "source": [
    "SMOTE_data.drop_duplicates()['_MICHD'].value_counts()"
   ]
  },
  {
   "cell_type": "code",
   "execution_count": null,
   "metadata": {},
   "outputs": [],
   "source": [
    "target_column = \"_MICHD\""
   ]
  },
  {
   "cell_type": "markdown",
   "metadata": {},
   "source": [
    "### First variant: Borderline SMOTE"
   ]
  },
  {
   "cell_type": "code",
   "execution_count": null,
   "metadata": {},
   "outputs": [],
=======
   "metadata": {
    "ExecuteTime": {
     "end_time": "2024-04-29T12:46:36.189973Z",
     "start_time": "2024-04-29T12:45:02.409748Z"
    }
   },
>>>>>>> origin/main
   "source": [
    "# Generate synthetic data for the original imbalanced data\n",
    "resampled_data = BorderlineSMOTE().fit_resample(SMOTE_data.drop(columns = ['_MICHD']), \n",
    "                                        SMOTE_data['_MICHD'])\n",
    "SMOTE_data = resampled_data[0]\n",
    "SMOTE_data[target_column] = resampled_data[1].to_numpy()\n",
    "\n",
    "# This variable specifies the oversampling method we use. 1 is for the first method, 2 is for the second and so on. Based on this variable, the results are saved to the correct dataframe.\n",
    "method=1"
<<<<<<< HEAD
   ]
  },
  {
   "cell_type": "code",
   "execution_count": null,
   "metadata": {},
   "outputs": [],
   "source": [
    "# Counts for the \"Had_CHD_MI\" variable\n",
    "sns.countplot(data=SMOTE_data,x='_MICHD')"
   ]
  },
  {
   "cell_type": "code",
   "execution_count": null,
   "metadata": {},
   "outputs": [],
=======
   ],
   "outputs": [],
   "execution_count": 25
  },
  {
   "cell_type": "code",
   "metadata": {
    "ExecuteTime": {
     "end_time": "2024-04-29T12:46:38.998428Z",
     "start_time": "2024-04-29T12:46:36.193972Z"
    }
   },
   "source": [
    "# Counts for the \"Had_CHD_MI\" variable\n",
    "sns.countplot(data=SMOTE_data,x='_MICHD')"
   ],
   "outputs": [
    {
     "data": {
      "text/plain": [
       "<Axes: xlabel='_MICHD', ylabel='count'>"
      ]
     },
     "execution_count": 26,
     "metadata": {},
     "output_type": "execute_result"
    },
    {
     "data": {
      "text/plain": [
       "<Figure size 640x480 with 1 Axes>"
      ],
      "image/png": "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"
     },
     "metadata": {},
     "output_type": "display_data"
    }
   ],
   "execution_count": 26
  },
  {
   "cell_type": "code",
   "metadata": {
    "ExecuteTime": {
     "end_time": "2024-04-29T12:46:39.029418Z",
     "start_time": "2024-04-29T12:46:39.000428Z"
    }
   },
>>>>>>> origin/main
   "source": [
    "# 0: Reported having MI or CHD\n",
    "# 1: Did not report having MI or CHD\n",
    "\n",
    "SMOTE_data['_MICHD'] = SMOTE_data['_MICHD'].map({1.0: 0, 2.0: 1})"
<<<<<<< HEAD
   ]
  },
  {
=======
   ],
   "outputs": [],
   "execution_count": 27
  },
  {
   "metadata": {
    "ExecuteTime": {
     "end_time": "2024-04-29T12:46:39.055410Z",
     "start_time": "2024-04-29T12:46:39.039415Z"
    }
   },
>>>>>>> origin/main
   "cell_type": "code",
   "execution_count": null,
   "metadata": {},
   "outputs": [],
   "source": [
    "# In this dataframe we will keep the results for every oversampling variant and for all the methods we use. In rows, we have the metrics and in columns, we have the classifiers.\n",
<<<<<<< HEAD
<<<<<<< HEAD
    "BorderlineSMOTE_loss = pd.DataFrame(columns = ['XGBoost', 'Decision Tree', 'Naive Bayes', 'Random Forests', 'KNN'])\n",
    "BorderlineSMOTE_precision = pd.DataFrame(columns=['XGBoost', 'Decision Tree', 'Naive Bayes', 'Random Forests', 'KNN'])\n",
    "BorderlineSMOTE_recall = pd.DataFrame(columns=['XGBoost', 'Decision Tree', 'Naive Bayes', 'Random Forests', 'KNN'])\n",
    "BorderlineSMOTE_f1_score = pd.DataFrame(columns=['XGBoost', 'Decision Tree', 'Naive Bayes', 'Random Forests', 'KNN'])"
   ]
=======
=======
>>>>>>> origin/main
    "BorderlineSMOTE_loss = pd.DataFrame(columns = ['XGBoost', 'Decision Tree', 'GaussianNB', 'Random Forests', 'KNN', 'Logistic regression'])\n",
    "BorderlineSMOTE_precision = pd.DataFrame(columns=['XGBoost', 'Decision Tree', 'GaussianNB', 'Random Forests', 'KNN', 'Logistic regression'])\n",
    "BorderlineSMOTE_recall = pd.DataFrame(columns=['XGBoost', 'Decision Tree', 'GaussianNB', 'Random Forests', 'KNN', 'Logistic regression'])\n",
    "BorderlineSMOTE_f1_score = pd.DataFrame(columns=['XGBoost', 'Decision Tree', 'GaussianNB', 'Random Forests', 'KNN', 'Logistic regression'])"
   ],
   "outputs": [],
   "execution_count": 28
>>>>>>> origin/main
  },
  {
   "cell_type": "markdown",
   "metadata": {},
   "source": [
    "### Second variant: SMOTE-Tomek"
   ]
  },
  {
<<<<<<< HEAD
=======
   "metadata": {
    "jupyter": {
     "is_executing": true
    }
   },
>>>>>>> origin/main
   "cell_type": "code",
   "execution_count": null,
   "metadata": {},
   "outputs": [],
   "source": [
    "# Generate synthetic data for the original imbalanced data\n",
    "from imblearn.combine import SMOTETomek\n",
    "\n",
    "smote_tomek = SMOTETomek()\n",
    "resampled_data = smote_tomek.fit_resample(SMOTE_data.drop(columns=['_MICHD']), SMOTE_data['_MICHD'])\n",
    "\n",
    "SMOTE_data = resampled_data[0]\n",
    "SMOTE_data[target_column] = resampled_data[1].to_numpy()\n",
    "\n",
    "method=2"
   ]
  },
  {
<<<<<<< HEAD
=======
   "metadata": {
    "jupyter": {
     "is_executing": true
    }
   },
>>>>>>> origin/main
   "cell_type": "code",
   "execution_count": null,
   "metadata": {},
   "outputs": [],
   "source": [
    "# Counts for the \"Had_CHD_MI\" variable\n",
    "sns.countplot(data=SMOTE_data,x='_MICHD')"
   ]
  },
  {
<<<<<<< HEAD
=======
   "metadata": {
    "jupyter": {
     "is_executing": true
    }
   },
>>>>>>> origin/main
   "cell_type": "code",
   "execution_count": null,
   "metadata": {},
   "outputs": [],
   "source": [
    "# 0: Reported having MI or CHD\n",
    "# 1: Did not report having MI or CHD\n",
    "\n",
    "SMOTE_data['_MICHD'] = SMOTE_data['_MICHD'].map({1.0: 0, 2.0: 1})"
   ]
  },
  {
<<<<<<< HEAD
=======
   "metadata": {
    "jupyter": {
     "is_executing": true
    }
   },
>>>>>>> origin/main
   "cell_type": "code",
   "execution_count": null,
   "metadata": {},
   "outputs": [],
   "source": [
    "# In this dataframe we will keep the results for every oversampling variant and for all the methods we use. In rows, we have the metrics and in columns, we have the classifiers.\n",
<<<<<<< HEAD
<<<<<<< HEAD
    "smote_tomek_loss = pd.DataFrame(columns = ['XGBoost', 'Decision Tree', 'Naive Bayes', 'Random Forests', 'KNN'])\n",
    "smote_tomek_precision = pd.DataFrame(columns=['XGBoost', 'Decision Tree', 'Naive Bayes', 'Random Forests', 'KNN'])\n",
    "smote_tomek_recall = pd.DataFrame(columns=['XGBoost', 'Decision Tree', 'Naive Bayes', 'Random Forests', 'KNN'])\n",
    "smote_tomek_f1_score = pd.DataFrame(columns=['XGBoost', 'Decision Tree', 'Naive Bayes', 'Random Forests', 'KNN'])"
   ]
=======
=======
>>>>>>> origin/main
    "smote_tomek_loss = pd.DataFrame(columns = ['XGBoost', 'Decision Tree', 'GaussianNB', 'Random Forests', 'KNN', 'Logistic regression'])\n",
    "smote_tomek_precision = pd.DataFrame(columns=['XGBoost', 'Decision Tree', 'GaussianNB', 'Random Forests', 'KNN', 'Logistic regression'])\n",
    "smote_tomek_recall = pd.DataFrame(columns=['XGBoost', 'Decision Tree', 'GaussianNB', 'Random Forests', 'KNN', 'Logistic regression'])\n",
    "smote_tomek_f1_score = pd.DataFrame(columns=['XGBoost', 'Decision Tree', 'GaussianNB', 'Random Forests', 'KNN', 'Logistic regression'])"
   ],
   "outputs": [],
   "execution_count": null
>>>>>>> origin/main
  },
  {
   "cell_type": "markdown",
   "metadata": {},
   "source": [
    "<h3 style=\"text-align: center;\"> Third variant: ADASYN (Adaptive Synthetic Sampling) </h3>"
   ]
  },
  {
   "cell_type": "markdown",
   "metadata": {},
   "source": [
    "ADASYN is an extension of SMOTE that adaptively generates samples according to the local density of minority samples. It focuses more on regions where the class imbalance is more severe."
   ]
  },
  {
<<<<<<< HEAD
=======
   "metadata": {
    "jupyter": {
     "is_executing": true
    }
   },
>>>>>>> origin/main
   "cell_type": "code",
   "execution_count": null,
   "metadata": {},
   "outputs": [],
   "source": [
    "from imblearn.over_sampling import ADASYN\n",
    "\n",
    "adasyn = ADASYN()\n",
    "resampled_data = adasyn.fit_resample(SMOTE_data.drop(columns=['_MICHD']), SMOTE_data['_MICHD'])\n",
    "\n",
    "SMOTE_data = resampled_data[0]\n",
    "SMOTE_data[target_column] = resampled_data[1].to_numpy()\n",
    "\n",
    "method=3"
   ]
  },
  {
<<<<<<< HEAD
=======
   "metadata": {
    "jupyter": {
     "is_executing": true
    }
   },
>>>>>>> origin/main
   "cell_type": "code",
   "execution_count": null,
   "metadata": {},
   "outputs": [],
   "source": [
    "# Counts for the \"Had_CHD_MI\" variable\n",
    "sns.countplot(data=SMOTE_data,x='_MICHD')"
   ]
  },
  {
<<<<<<< HEAD
=======
   "metadata": {
    "jupyter": {
     "is_executing": true
    }
   },
>>>>>>> origin/main
   "cell_type": "code",
   "execution_count": null,
   "metadata": {},
   "outputs": [],
   "source": [
    "# 0: Reported having MI or CHD\n",
    "# 1: Did not report having MI or CHD\n",
    "\n",
    "SMOTE_data['_MICHD'] = SMOTE_data['_MICHD'].map({1.0: 0, 2.0: 1})"
   ]
  },
  {
<<<<<<< HEAD
=======
   "metadata": {
    "jupyter": {
     "is_executing": true
    }
   },
>>>>>>> origin/main
   "cell_type": "code",
   "execution_count": null,
   "metadata": {},
   "outputs": [],
   "source": [
    "# In this dataframe we will keep the results for every oversampling variant and for all the methods we use. In rows, we have the metrics and in columns, we have the classifiers.\n",
<<<<<<< HEAD
<<<<<<< HEAD
    "adasyn_loss = pd.DataFrame(columns = ['XGBoost', 'Decision Tree', 'Naive Bayes', 'Random Forests', 'KNN'])\n",
    "adasyn_precision = pd.DataFrame(columns=['XGBoost', 'Decision Tree', 'Naive Bayes', 'Random Forests', 'KNN'])\n",
    "adasyn_recall = pd.DataFrame(columns=['XGBoost', 'Decision Tree', 'Naive Bayes', 'Random Forests', 'KNN'])\n",
    "adasyn_f1_score = pd.DataFrame(columns=['XGBoost', 'Decision Tree', 'Naive Bayes', 'Random Forests', 'KNN'])"
   ]
=======
=======
>>>>>>> origin/main
    "adasyn_loss = pd.DataFrame(columns = ['XGBoost', 'Decision Tree', 'GaussianNB', 'Random Forests', 'KNN', 'Logistic regression'])\n",
    "adasyn_precision = pd.DataFrame(columns=['XGBoost', 'Decision Tree', 'GaussianNB', 'Random Forests', 'KNN', 'Logistic regression'])\n",
    "adasyn_recall = pd.DataFrame(columns=['XGBoost', 'Decision Tree', 'GaussianNB', 'Random Forests', 'KNN', 'Logistic regression'])\n",
    "adasyn_f1_score = pd.DataFrame(columns=['XGBoost', 'Decision Tree', 'GaussianNB', 'Random Forests', 'KNN', 'Logistic regression'])"
   ],
   "outputs": [],
   "execution_count": null
>>>>>>> origin/main
  },
  {
   "cell_type": "markdown",
   "metadata": {},
   "source": [
    "<h3 style=\"text-align: center;\"> Fourth variant: SMOTE </h3>"
   ]
  },
  {
<<<<<<< HEAD
=======
   "metadata": {
    "jupyter": {
     "is_executing": true
    }
   },
>>>>>>> origin/main
   "cell_type": "code",
   "execution_count": null,
   "metadata": {},
   "outputs": [],
   "source": [
    "from imblearn.over_sampling import SMOTE\n",
    "\n",
    "resampled_data = SMOTE().fit_resample(SMOTE_data.drop(columns=['_MICHD']), SMOTE_data['_MICHD'])\n",
    "\n",
    "SMOTE_data = resampled_data[0]\n",
    "SMOTE_data[target_column] = resampled_data[1].to_numpy()\n",
    "\n",
    "method=4"
   ]
  },
  {
<<<<<<< HEAD
=======
   "metadata": {
    "jupyter": {
     "is_executing": true
    }
   },
>>>>>>> origin/main
   "cell_type": "code",
   "execution_count": null,
   "metadata": {},
   "outputs": [],
   "source": [
    "# Counts for the \"Had_CHD_MI\" variable\n",
    "sns.countplot(data=SMOTE_data,x='_MICHD')"
   ]
  },
  {
<<<<<<< HEAD
=======
   "metadata": {
    "jupyter": {
     "is_executing": true
    }
   },
>>>>>>> origin/main
   "cell_type": "code",
   "execution_count": null,
   "metadata": {},
   "outputs": [],
   "source": [
    "# 0: Reported having MI or CHD\n",
    "# 1: Did not report having MI or CHD\n",
    "\n",
    "SMOTE_data['_MICHD'] = SMOTE_data['_MICHD'].map({1.0: 0, 2.0: 1})"
   ]
  },
  {
<<<<<<< HEAD
=======
   "metadata": {
    "jupyter": {
     "is_executing": true
    }
   },
>>>>>>> origin/main
   "cell_type": "code",
   "execution_count": null,
   "metadata": {},
   "outputs": [],
   "source": [
    "# In this dataframe we will keep the results for every oversampling variant and for all the methods we use. In rows, we have the metrics and in columns, we have the classifiers.\n",
<<<<<<< HEAD
<<<<<<< HEAD
    "SMOTE_loss = pd.DataFrame(columns = ['XGBoost', 'Decision Tree', 'Naive Bayes', 'Random Forests', 'KNN'])\n",
    "SMOTE_precision = pd.DataFrame(columns=['XGBoost', 'Decision Tree', 'Naive Bayes', 'Random Forests', 'KNN'])\n",
    "SMOTE_recall = pd.DataFrame(columns=['XGBoost', 'Decision Tree', 'Naive Bayes', 'Random Forests', 'KNN'])\n",
    "SMOTE_f1_score = pd.DataFrame(columns=['XGBoost', 'Decision Tree', 'Naive Bayes', 'Random Forests', 'KNN'])"
   ]
=======
=======
>>>>>>> origin/main
    "SMOTE_loss = pd.DataFrame(columns = ['XGBoost', 'Decision Tree', 'GaussianNB', 'Random Forests', 'KNN', 'Logistic regression'])\n",
    "SMOTE_precision = pd.DataFrame(columns=['XGBoost', 'Decision Tree', 'GaussianNB', 'Random Forests', 'KNN', 'Logistic regression'])\n",
    "SMOTE_recall = pd.DataFrame(columns=['XGBoost', 'Decision Tree', 'GaussianNB', 'Random Forests', 'KNN', 'Logistic regression'])\n",
    "SMOTE_f1_score = pd.DataFrame(columns=['XGBoost', 'Decision Tree', 'GaussianNB', 'Random Forests', 'KNN', 'Logistic regression'])"
   ],
   "outputs": [],
   "execution_count": null
>>>>>>> origin/main
  },
  {
   "cell_type": "markdown",
   "metadata": {},
   "source": [
    "## Classification"
   ]
  },
  {
   "cell_type": "code",
<<<<<<< HEAD
   "execution_count": 14,
   "metadata": {},
   "outputs": [],
   "source": [
    "target_column = \"_MICHD\"\n",
    "\n",
    "\n",
    "# Utilize all the selected dataframe samples \n",
    "#y = dataframes[2][target_column]\n",
    "#x = dataframes[2].drop(columns=[target_column])\n",
    "\n",
    "\n",
    "# Utilize a dataframe sample \n",
    "y = dataframe_sample[target_column]\n",
    "x = dataframe_sample.drop(columns = [target_column])"
   ]
  },
  {
   "cell_type": "code",
   "execution_count": 15,
   "metadata": {},
   "outputs": [],
   "source": [
    "# Use this spliting only when undersampling of the majority class has occured and there is no class imbalance\n",
    "x_train, x_test, y_train, y_test = train_test_split(x, y, test_size=0.25, random_state=SEED)"
   ]
  },
  {
   "cell_type": "code",
   "execution_count": 16,
   "metadata": {},
   "outputs": [],
=======
   "metadata": {
    "ExecuteTime": {
     "end_time": "2024-04-29T12:46:58.656921Z",
     "start_time": "2024-04-29T12:46:58.649923Z"
    }
   },
>>>>>>> origin/main
   "source": [
    "# Define the cost matrix\n",
    "cost_matrix = [ \n",
<<<<<<< HEAD
    "    [0, 1],  \n",
=======
    "    [0, 0.25],\n",
>>>>>>> origin/main
    "    [1, 0]\n",
    "] "
   ]
  },
  {
   "cell_type": "code",
   "execution_count": 17,
   "metadata": {},
   "outputs": [],
<<<<<<< HEAD
   "source": [
    "tabular_based_classifiers = {}"
   ]
=======
   "execution_count": 29
>>>>>>> origin/main
  },
  {
   "cell_type": "markdown",
   "metadata": {},
   "source": [
    "### ***XGBoost***"
   ]
  },
  {
   "cell_type": "markdown",
   "metadata": {},
   "source": [
    "#### XGBoost for undersampling"
   ]
  },
  {
   "cell_type": "code",
<<<<<<< HEAD
   "execution_count": 20,
   "metadata": {},
   "outputs": [],
   "source": [
<<<<<<< HEAD
    "param_dist = {\n",
    "    'n_estimators': randint(100, 500),\n",
    "    'max_depth': randint(3, 10),\n",
    "    'learning_rate': uniform(0.01, 0.5),\n",
    "}\n",
    "\n",
    "xgb_classifier = XGBClassifier(objective='binary:logistic', random_state=SEED)\n",
    "\n",
    "random_search = RandomizedSearchCV(estimator=xgb_classifier, param_distributions=param_dist, n_iter=50, random_state=SEED,n_jobs=4)"
   ]
  },
  {
   "cell_type": "code",
   "execution_count": 21,
   "metadata": {},
   "outputs": [
    {
     "name": "stdout",
     "output_type": "stream",
     "text": [
      "Best parameters found: {'learning_rate': 0.017818203370596968, 'max_depth': 3, 'n_estimators': 443}\n"
     ]
    }
   ],
   "source": [
    "random_search.fit(x_train, y_train)\n",
    "\n",
    "best_params = random_search.best_params_\n",
    "print(\"Best parameters found:\", best_params)"
   ]
  },
  {
   "cell_type": "code",
   "execution_count": 22,
   "metadata": {},
   "outputs": [
    {
     "name": "stdout",
     "output_type": "stream",
     "text": [
      "Classification Report:\n",
      "              precision    recall  f1-score   support\n",
      "\n",
      "           0       0.74      0.79      0.77      3504\n",
      "           1       0.77      0.72      0.75      3432\n",
      "\n",
      "    accuracy                           0.76      6936\n",
      "   macro avg       0.76      0.76      0.76      6936\n",
      "weighted avg       0.76      0.76      0.76      6936\n",
      "\n",
      "Confusion Matrix:\n",
      "[[2783  721]\n",
      " [ 964 2468]]\n",
      "Total Cost: 1685\n"
     ]
    }
   ],
   "source": [
    "#best_xgb_model = random_search.best_estimator_\n",
    "\n",
    "xgboost_clf = XGBClassifier(n_estimators=443, max_depth=3, learning_rate=0.018, objective='binary:logistic', random_state=SEED)\n",
    "xgboost_clf = CalibratedClassifierCV(xgboost_clf, method='isotonic')\n",
    "xgboost_clf.fit(x_train, y_train)\n",
    "\n",
    "tabular_based_classifiers['XGBoost'] = xgboost_clf\n",
    "\n",
    "y_pred = xgboost_clf.predict(x_test)\n",
    "\n",
    "print(\"Classification Report:\")\n",
    "print(classification_report(y_test, y_pred))\n",
    "\n",
    "print(\"Confusion Matrix:\")\n",
    "print(confusion_matrix(y_test, y_pred))\n",
    "\n",
    "total_cost = np.sum(confusion_matrix(y_test, y_pred).T * cost_matrix)\n",
    "print(\"Total Cost:\", total_cost)"
   ]
=======
   "metadata": {
    "ExecuteTime": {
     "end_time": "2024-04-29T12:47:08.712219Z",
     "start_time": "2024-04-29T12:47:08.708677Z"
    }
   },
   "source": [
=======
>>>>>>> origin/main
    "# # Calculate the scale_pos_weight based on the corrected cost matrix\n",
    "# scale_pos_weight = cost_matrix[1][0] / cost_matrix[0][1]\n",
    "# \n",
    "# # Create an XGBClassifier object\n",
    "# xgb_model = XGBClassifier(n_estimators = 500, learning_rate = 0.1, scale_pos_weight=scale_pos_weight)\n",
    "# \n",
    "# # Train the classifier\n",
    "# xgb_model.fit(train_set.drop(columns=['_MICHD']), train_set['_MICHD'])\n",
    "# \n",
    "# # Predict the response for test dataset\n",
    "# y_pred = xgb_model.predict(test_set.drop(columns=['_MICHD']))\n",
    "# \n",
    "# # Print the confusion matrix\n",
    "# print('Confusion Matrix:')\n",
    "# print(confusion_matrix(test_set['_MICHD'], y_pred))"
   ],
   "outputs": [],
   "execution_count": 30
>>>>>>> origin/main
  },
  {
   "cell_type": "markdown",
   "metadata": {},
   "source": [
    "#### XGBoost for oversampling"
   ]
  },
  {
   "cell_type": "code",
<<<<<<< HEAD
   "execution_count": null,
   "metadata": {},
   "outputs": [],
   "source": [
    "# Split the balanced dataset to a set of training and testing samples \n",
    "x_train, x_test, y_train, y_test = train_test_split(SMOTE_data.drop(columns=['_MICHD']), SMOTE_data['_MICHD'], test_size=0.25, random_state=SEED)"
   ]
=======
   "metadata": {
    "ExecuteTime": {
     "end_time": "2024-04-29T12:47:12.751391Z",
     "start_time": "2024-04-29T12:47:12.447488Z"
    }
   },
   "source": [
    "# Split the balanced dataset to a set of training and testing samples \n",
    "x_train, x_test, y_train, y_test = train_test_split(SMOTE_data.drop(columns=['_MICHD']), SMOTE_data['_MICHD'], test_size=0.25, random_state=SEED)"
   ],
   "outputs": [],
   "execution_count": 31
>>>>>>> origin/main
  },
  {
   "cell_type": "code",
   "execution_count": null,
   "metadata": {
    "collapsed": false
   },
   "outputs": [],
   "source": [
    "from sklearn.model_selection import GridSearchCV\n",
    "\n",
    "# Define the parameter grid to search\n",
    "param_grid = {\n",
    "    'n_estimators': [100, 300, 500],  # Number of trees in the forest\n",
    "    'learning_rate': [0.05, 0.1, 0.2],  # Learning rate\n",
    "    'max_depth': [3, 5, 7],  # Maximum depth of each tree\n",
    "    'min_child_weight': [1, 3, 5],  # Minimum sum of instance weight needed in a child\n",
    "}\n",
    "\n",
    "# Create an XGBClassifier object\n",
    "xgb_model = XGBClassifier(random_state=SEED)\n",
    "\n",
    "# Create GridSearchCV object\n",
    "grid_search = GridSearchCV(estimator=xgb_model, param_grid=param_grid, cv=5, scoring='neg_mean_squared_error', n_jobs=-1)\n",
    "\n",
    "# Perform grid search\n",
    "grid_search.fit(x_train, y_train)\n",
    "\n",
    "# Get the best parameters and the best estimator\n",
    "best_params = grid_search.best_params_\n",
    "best_xgb_model = grid_search.best_estimator_\n",
    "\n",
    "# Train the best estimator\n",
    "best_xgb_model.fit(x_train, y_train)\n",
    "\n",
    "# Predict the response for test dataset\n",
    "y_pred = best_xgb_model.predict(x_test)\n",
    "\n",
    "# Print the confusion matrix\n",
    "print('Confusion Matrix:')\n",
    "print(confusion_matrix(y_test, y_pred).T)\n",
    "\n",
    "total_cost = np.sum(confusion_matrix(y_test, y_pred).T * cost_matrix)\n",
    "print(f\"\\nTotal Cost: {total_cost}\") \n",
    "\n",
    "# Print classification report for additional evaluation metrics\n",
    "print('\\nClassification Report:')\n",
    "print(classification_report(y_test, y_pred, target_names=[\"Reported having MI or CHD\", \"Did not report having MI or CHD\"]))\n",
    "\n",
    "# Extract macro metrics from the classification report\n",
    "metrics_dict = classification_report(y_test, y_pred, target_names=[\"Reported having MI or CHD\", \"Did not report having MI or CHD\"], output_dict=True)['macro avg']\n",
    "\n",
    "if method == 1:\n",
    "    BorderlineSMOTE_loss.loc['Total Cost baseline', 'XGBoost'] = total_cost\n",
    "    BorderlineSMOTE_precision.loc['macro precision baseline', 'XGBoost'] = metrics_dict['precision']\n",
    "    BorderlineSMOTE_recall.loc['macro recall baseline', 'XGBoost'] = metrics_dict['recall']\n",
    "    BorderlineSMOTE_f1_score.loc['macro f1-score baseline', 'XGBoost'] = metrics_dict['f1-score']\n",
    "elif method == 2:\n",
    "    smote_tomek_loss.loc['Total Cost baseline', 'XGBoost'] = total_cost\n",
    "    smote_tomek_precision.loc['macro precision baseline', 'XGBoost'] = metrics_dict['precision']\n",
    "    smote_tomek_recall.loc['macro recall baseline', 'XGBoost'] = metrics_dict['recall']\n",
    "    smote_tomek_f1_score.loc['macro f1-score baseline', 'XGBoost'] = metrics_dict['f1-score']\n",
    "elif method == 3:\n",
    "    adasyn_loss.loc['Total Cost baseline', 'XGBoost'] = total_cost\n",
    "    adasyn_precision.loc['macro precision baseline', 'XGBoost'] = metrics_dict['precision']\n",
    "    adasyn_recall.loc['macro recall baseline', 'XGBoost'] = metrics_dict['recall']\n",
    "    adasyn_f1_score.loc['macro f1-score baseline', 'XGBoost'] = metrics_dict['f1-score']\n",
    "else:\n",
    "    SMOTE_loss.loc['Total Cost baseline', 'XGBoost'] = total_cost\n",
    "    SMOTE_precision.loc['macro precision baseline', 'XGBoost'] = metrics_dict['precision']\n",
    "    SMOTE_recall.loc['macro recall baseline', 'XGBoost'] = metrics_dict['recall']\n",
    "    SMOTE_f1_score.loc['macro f1-score baseline', 'XGBoost'] = metrics_dict['f1-score']"
<<<<<<< HEAD
   ]
  },
  {
=======
   ],
   "metadata": {
    "collapsed": false,
    "ExecuteTime": {
     "end_time": "2024-04-29T12:57:37.811451Z",
     "start_time": "2024-04-29T12:47:12.839362Z"
    }
   },
   "outputs": [
    {
     "name": "stdout",
     "output_type": "stream",
     "text": [
      "Confusion Matrix:\n",
      "[[35056  7033]\n",
      " [ 3650 31117]]\n",
      "\n",
      "Total Cost: 5408.25\n",
      "\n",
      "Classification Report:\n",
      "                                 precision    recall  f1-score   support\n",
      "\n",
      "      Reported having MI or CHD       0.83      0.91      0.87     38706\n",
      "Did not report having MI or CHD       0.90      0.82      0.85     38150\n",
      "\n",
      "                       accuracy                           0.86     76856\n",
      "                      macro avg       0.86      0.86      0.86     76856\n",
      "                   weighted avg       0.86      0.86      0.86     76856\n",
      "\n"
     ]
    }
   ],
   "execution_count": 32
  },
  {
   "metadata": {
    "ExecuteTime": {
     "end_time": "2024-04-29T12:57:37.838037Z",
     "start_time": "2024-04-29T12:57:37.813446Z"
    }
   },
>>>>>>> origin/main
   "cell_type": "code",
   "execution_count": null,
   "metadata": {},
   "outputs": [],
   "source": [
<<<<<<< HEAD
    "import matplotlib.pyplot as plt\n",
    " \n",
    "# Get feature importances\n",
    "importances = best_xgb_model.feature_importances_\n",
    "features = x_train.columns\n",
    " \n",
    "# Sort feature importances in descending order\n",
    "indices = np.argsort(importances)[::-1]\n",
    " \n",
    "# Plot\n",
    "plt.figure(figsize=(10, 6))\n",
    "plt.title(\"Feature Importances (XGBoost)\")\n",
    "plt.bar(range(x_train.shape[1]), importances[indices], align=\"center\")\n",
    "plt.xticks(range(x_train.shape[1]), [features[i] for i in indices], rotation=90)\n",
    "plt.xlabel(\"Feature\")\n",
    "plt.ylabel(\"Importance\")\n",
    "plt.tight_layout()\n",
    " \n",
    "# Save the plot as an image file\n",
    "plt.savefig(\"feature_importance_plot (XGBoost).png\")\n",
    " \n",
    "# Display the plot\n",
    "plt.show()"
   ]
  },
  {
=======
    "# import matplotlib.pyplot as plt\n",
    "# \n",
    "# # Get feature importances\n",
    "# importances = best_xgb_model.feature_importances_\n",
    "# features = x_train.columns\n",
    "# \n",
    "# # Sort feature importances in descending order\n",
    "# indices = np.argsort(importances)[::-1]\n",
    "# \n",
    "# # Plot\n",
    "# plt.figure(figsize=(10, 6))\n",
    "# plt.title(\"Feature Importances (XGBoost)\")\n",
    "# plt.bar(range(x_train.shape[1]), importances[indices], align=\"center\")\n",
    "# plt.xticks(range(x_train.shape[1]), [features[i] for i in indices], rotation=90)\n",
    "# plt.xlabel(\"Feature\")\n",
    "# plt.ylabel(\"Importance\")\n",
    "# plt.tight_layout()\n",
    "# \n",
    "# # Save the plot as an image file\n",
    "# plt.savefig(\"feature_importance_plot (XGBoost).png\")\n",
    "# \n",
    "# # Display the plot\n",
    "# plt.show()"
   ],
   "outputs": [],
   "execution_count": 33
  },
  {
   "metadata": {
    "ExecuteTime": {
     "end_time": "2024-04-29T12:57:37.849563Z",
     "start_time": "2024-04-29T12:57:37.844035Z"
    }
   },
>>>>>>> origin/main
   "cell_type": "code",
   "execution_count": null,
   "metadata": {},
   "outputs": [],
   "source": [
<<<<<<< HEAD
    "import shap\n",
    "\n",
    "# Explain the model's predictions using SHAP\n",
    "explainer = shap.TreeExplainer(best_xgb_model)\n",
    "shap_values = explainer.shap_values(x_train)\n",
    " \n",
    "# Save SHAP values to a file\n",
    "np.save('shap_values.npy', shap_values)\n",
    " \n",
    "# Plot the SHAP values\n",
    "shap.summary_plot(shap_values, features=x_train, feature_names=x_train.columns, show=False)\n",
    "plt.savefig('shap_summary_plot.png', bbox_inches='tight')  # Save the plot as an image\n",
    "plt.show()"
   ]
=======
    "# import shap\n",
    "# \n",
    "# # Explain the model's predictions using SHAP\n",
    "# explainer = shap.TreeExplainer(best_xgb_model)\n",
    "# shap_values = explainer.shap_values(x_train)\n",
    "# \n",
    "# # Save SHAP values to a file\n",
    "# np.save('shap_values.npy', shap_values)\n",
    "# \n",
    "# # Plot the SHAP values\n",
    "# shap.summary_plot(shap_values, features=x_train, feature_names=x_train.columns, show=False)\n",
    "# plt.savefig('shap_summary_plot.png', bbox_inches='tight')  # Save the plot as an image\n",
    "# plt.show()"
   ],
   "outputs": [],
   "execution_count": 34
>>>>>>> origin/main
  },
  {
   "cell_type": "code",
   "execution_count": null,
   "metadata": {
    "collapsed": false
   },
   "outputs": [],
   "source": [
    "def predict(y_prob, cost_m):\n",
    "    t_BMR = (cost_m[1][0] - cost_m[1][1])/(cost_m[0][1] - cost_m[1][1] - cost_m[0][0] + cost_m[1][0])\n",
    "    y_pred = np.greater(y_prob[:, 1], t_BMR).astype(int)\n",
    "    \n",
    "    return y_pred\n",
    "\n",
    "from sklearn.calibration import CalibratedClassifierCV\n",
    "\n",
    "# Create an XGBClassifier object\n",
    "xgb_model = CalibratedClassifierCV(XGBClassifier(**best_params, random_state=SEED), method=\"isotonic\", cv=10)\n",
    "\n",
    "# Train the classifier\n",
    "xgb_model.fit(x_train, y_train)\n",
    "\n",
    "# Predict the response for test dataset\n",
    "y_prob = xgb_model.predict_proba(x_test)\n",
    "y_pred = predict(y_prob, cost_matrix)\n",
    "    \n",
    "# Print the confusion matrix\n",
    "print('Confusion Matrix:')\n",
    "print(confusion_matrix(y_test, y_pred).T)\n",
    "\n",
    "total_cost = np.sum(confusion_matrix(y_test, y_pred).T * cost_matrix)\n",
    "print(f\"\\nTotal loss Cost: {total_cost}\") \n",
    "\n",
    "# Print classification report for additional evaluation metrics\n",
    "print('\\nClassification Report:')\n",
    "print(classification_report(y_test, y_pred, target_names = [\"Reported having MI or CHD\", \"Did not report having MI or CHD\"]))\n",
    "\n",
    "# Extract macro metrics from the classification report\n",
    "metrics_dict = classification_report(y_test, y_pred, target_names=[\"Reported having MI or CHD\", \"Did not report having MI or CHD\"], output_dict=True)['macro avg']\n",
    "\n",
    "if method == 1:\n",
    "    BorderlineSMOTE_loss.loc['Total Cost MEC', 'XGBoost'] = total_cost\n",
    "    BorderlineSMOTE_precision.loc['macro precision MEC', 'XGBoost'] = metrics_dict['precision']\n",
    "    BorderlineSMOTE_recall.loc['macro recall MEC', 'XGBoost'] = metrics_dict['recall']\n",
    "    BorderlineSMOTE_f1_score.loc['macro f1-score MEC', 'XGBoost'] = metrics_dict['f1-score']\n",
    "elif method == 2:\n",
    "    smote_tomek_loss.loc['Total Cost MEC', 'XGBoost'] = total_cost\n",
    "    smote_tomek_precision.loc['macro precision MEC', 'XGBoost'] = metrics_dict['precision']\n",
    "    smote_tomek_recall.loc['macro recall MEC', 'XGBoost'] = metrics_dict['recall']\n",
    "    smote_tomek_f1_score.loc['macro f1-score MEC', 'XGBoost'] = metrics_dict['f1-score']\n",
    "elif method == 3:\n",
    "    adasyn_loss.loc['Total Cost MEC', 'XGBoost'] = total_cost\n",
    "    adasyn_precision.loc['macro precision MEC', 'XGBoost'] = metrics_dict['precision']\n",
    "    adasyn_recall.loc['macro recall MEC', 'XGBoost'] = metrics_dict['recall']\n",
    "    adasyn_f1_score.loc['macro f1-score MEC', 'XGBoost'] = metrics_dict['f1-score']\n",
    "else:\n",
    "    SMOTE_loss.loc['Total Cost MEC', 'XGBoost'] = total_cost\n",
    "    SMOTE_precision.loc['macro precision MEC', 'XGBoost'] = metrics_dict['precision']\n",
    "    SMOTE_recall.loc['macro recall MEC', 'XGBoost'] = metrics_dict['recall']\n",
    "    SMOTE_f1_score.loc['macro f1-score MEC', 'XGBoost'] = metrics_dict['f1-score']"
<<<<<<< HEAD
   ]
  },
  {
   "cell_type": "code",
   "execution_count": null,
   "metadata": {},
   "outputs": [],
=======
   ],
   "metadata": {
    "collapsed": false,
    "ExecuteTime": {
     "end_time": "2024-04-29T13:04:17.466272Z",
     "start_time": "2024-04-29T12:57:37.852541Z"
    }
   },
   "outputs": [
    {
     "name": "stdout",
     "output_type": "stream",
     "text": [
      "Confusion Matrix:\n",
      "[[37504 12156]\n",
      " [ 1202 25994]]\n",
      "\n",
      "Total loss Cost: 4241.0\n",
      "\n",
      "Classification Report:\n",
      "                                 precision    recall  f1-score   support\n",
      "\n",
      "      Reported having MI or CHD       0.76      0.97      0.85     38706\n",
      "Did not report having MI or CHD       0.96      0.68      0.80     38150\n",
      "\n",
      "                       accuracy                           0.83     76856\n",
      "                      macro avg       0.86      0.83      0.82     76856\n",
      "                   weighted avg       0.85      0.83      0.82     76856\n",
      "\n"
     ]
    }
   ],
   "execution_count": 35
  },
  {
   "cell_type": "code",
   "metadata": {
    "ExecuteTime": {
     "end_time": "2024-04-29T13:05:02.628913Z",
     "start_time": "2024-04-29T13:04:17.469261Z"
    }
   },
>>>>>>> origin/main
   "source": [
    "# Calculate the scale_pos_weight based on the corrected cost matrix\n",
    "scale_pos_weight = cost_matrix[1][0] / cost_matrix[0][1]\n",
    "\n",
    "# Create an XGBClassifier object\n",
    "xgb_model = XGBClassifier(**best_params, scale_pos_weight=scale_pos_weight, random_state=SEED)\n",
    "\n",
    "# Train the classifier\n",
    "xgb_model.fit(x_train, y_train)\n",
    "\n",
    "# Predict the response for test dataset\n",
    "y_pred = xgb_model.predict(x_test)\n",
    "\n",
    "# Print the confusion matrix\n",
    "print('Confusion Matrix:')\n",
    "print(confusion_matrix(y_test, y_pred).T)\n",
    "\n",
    "total_cost = np.sum(confusion_matrix(y_test, y_pred).T * cost_matrix)\n",
    "print(f\"\\nTotal loss Cost: {total_cost}\") \n",
    "\n",
    "# Print classification report for additional evaluation metrics\n",
    "print('\\nClassification Report:')\n",
    "print(classification_report(y_test, y_pred, target_names = [\"Reported having MI or CHD\", \"Did not report having MI or CHD\"]))\n",
    "\n",
    "# Extract macro metrics from the classification report\n",
    "metrics_dict = classification_report(y_test, y_pred, target_names=[\"Reported having MI or CHD\", \"Did not report having MI or CHD\"], output_dict=True)['macro avg']\n",
    "\n",
    "if method == 1:\n",
    "    BorderlineSMOTE_loss.loc['Total Cost weighting', 'XGBoost'] = total_cost\n",
    "    BorderlineSMOTE_precision.loc['macro precision weighting', 'XGBoost'] = metrics_dict['precision']\n",
    "    BorderlineSMOTE_recall.loc['macro recall weighting', 'XGBoost'] = metrics_dict['recall']\n",
    "    BorderlineSMOTE_f1_score.loc['macro f1-score weighting', 'XGBoost'] = metrics_dict['f1-score']\n",
    "elif method == 2:\n",
    "    smote_tomek_loss.loc['Total Cost weighting', 'XGBoost'] = total_cost\n",
    "    smote_tomek_precision.loc['macro precision weighting', 'XGBoost'] = metrics_dict['precision']\n",
    "    smote_tomek_recall.loc['macro recall weighting', 'XGBoost'] = metrics_dict['recall']\n",
    "    smote_tomek_f1_score.loc['macro f1-score weighting', 'XGBoost'] = metrics_dict['f1-score']\n",
    "elif method == 3:\n",
    "    adasyn_loss.loc['Total Cost weighting', 'XGBoost'] = total_cost\n",
    "    adasyn_precision.loc['macro precision weighting', 'XGBoost'] = metrics_dict['precision']\n",
    "    adasyn_recall.loc['macro recall weighting', 'XGBoost'] = metrics_dict['recall']\n",
    "    adasyn_f1_score.loc['macro f1-score weighting', 'XGBoost'] = metrics_dict['f1-score']\n",
    "else:\n",
    "    SMOTE_loss.loc['Total Cost weighting', 'XGBoost'] = total_cost\n",
    "    SMOTE_precision.loc['macro precision weighting', 'XGBoost'] = metrics_dict['precision']\n",
    "    SMOTE_recall.loc['macro recall weighting', 'XGBoost'] = metrics_dict['recall']\n",
    "    SMOTE_f1_score.loc['macro f1-score weighting', 'XGBoost'] = metrics_dict['f1-score']"
<<<<<<< HEAD
   ]
=======
   ],
   "outputs": [
    {
     "name": "stdout",
     "output_type": "stream",
     "text": [
      "Confusion Matrix:\n",
      "[[25598  2479]\n",
      " [13108 35671]]\n",
      "\n",
      "Total loss Cost: 13727.75\n",
      "\n",
      "Classification Report:\n",
      "                                 precision    recall  f1-score   support\n",
      "\n",
      "      Reported having MI or CHD       0.91      0.66      0.77     38706\n",
      "Did not report having MI or CHD       0.73      0.94      0.82     38150\n",
      "\n",
      "                       accuracy                           0.80     76856\n",
      "                      macro avg       0.82      0.80      0.79     76856\n",
      "                   weighted avg       0.82      0.80      0.79     76856\n",
      "\n"
     ]
    }
   ],
   "execution_count": 36
>>>>>>> origin/main
  },
  {
   "cell_type": "markdown",
   "metadata": {},
   "source": [
    "### ***Decision Tree Classifier***"
   ]
  },
  {
<<<<<<< HEAD
   "cell_type": "markdown",
   "metadata": {},
=======
   "cell_type": "code",
   "metadata": {
    "ExecuteTime": {
     "end_time": "2024-04-29T13:05:02.647013Z",
     "start_time": "2024-04-29T13:05:02.632909Z"
    }
   },
>>>>>>> origin/main
   "source": [
    "#### Decision Tree plot"
   ]
  },
  {
   "cell_type": "code",
   "execution_count": null,
   "metadata": {},
   "outputs": [],
   "source": [
    "from io import StringIO\n",
    "\n",
    "# Visualize the decision tree\n",
    "def show_decision_tree_classifier(model, features):\n",
    "  dot_data = StringIO()\n",
    "  export_graphviz(model,\n",
    "                  out_file=dot_data,\n",
    "                  filled=False,\n",
    "                  rounded=True,\n",
    "                  special_characters=False,\n",
    "                  impurity=True,\n",
    "                  precision=2,\n",
    "                  rotate=False,\n",
    "                  feature_names=features,\n",
    "                  fontname='arial',\n",
    "                  label='all',\n",
    "                  class_names=['1', '2', '3', '4', '5', '6'])\n",
    "\n",
    "  graph = pydotplus.graph_from_dot_data(dot_data.getvalue())\n",
    "  graph.write_png('DecisionTree.png')\n",
    "\n",
    "  return graph"
<<<<<<< HEAD
   ]
=======
   ],
   "outputs": [],
   "execution_count": 37
>>>>>>> origin/main
  },
  {
   "cell_type": "markdown",
   "metadata": {},
   "source": [
    "#### Decision Tree for undersampling"
   ]
  },
  {
   "cell_type": "code",
<<<<<<< HEAD
   "execution_count": 23,
   "metadata": {},
   "outputs": [],
   "source": [
<<<<<<< HEAD
    "param_grid = {\n",
    "    'max_depth': [5, 10, 15, None],\n",
    "    'min_samples_split': [100, 200, 500],\n",
    "    'min_samples_leaf': [50, 100, 200]\n",
    "}\n",
    "\n",
    "grid_search = GridSearchCV(DecisionTreeClassifier(random_state=SEED), param_grid)"
   ]
  },
  {
   "cell_type": "code",
   "execution_count": 24,
   "metadata": {},
   "outputs": [
    {
     "data": {
      "text/html": [
       "<style>#sk-container-id-1 {\n",
       "  /* Definition of color scheme common for light and dark mode */\n",
       "  --sklearn-color-text: black;\n",
       "  --sklearn-color-line: gray;\n",
       "  /* Definition of color scheme for unfitted estimators */\n",
       "  --sklearn-color-unfitted-level-0: #fff5e6;\n",
       "  --sklearn-color-unfitted-level-1: #f6e4d2;\n",
       "  --sklearn-color-unfitted-level-2: #ffe0b3;\n",
       "  --sklearn-color-unfitted-level-3: chocolate;\n",
       "  /* Definition of color scheme for fitted estimators */\n",
       "  --sklearn-color-fitted-level-0: #f0f8ff;\n",
       "  --sklearn-color-fitted-level-1: #d4ebff;\n",
       "  --sklearn-color-fitted-level-2: #b3dbfd;\n",
       "  --sklearn-color-fitted-level-3: cornflowerblue;\n",
       "\n",
       "  /* Specific color for light theme */\n",
       "  --sklearn-color-text-on-default-background: var(--sg-text-color, var(--theme-code-foreground, var(--jp-content-font-color1, black)));\n",
       "  --sklearn-color-background: var(--sg-background-color, var(--theme-background, var(--jp-layout-color0, white)));\n",
       "  --sklearn-color-border-box: var(--sg-text-color, var(--theme-code-foreground, var(--jp-content-font-color1, black)));\n",
       "  --sklearn-color-icon: #696969;\n",
       "\n",
       "  @media (prefers-color-scheme: dark) {\n",
       "    /* Redefinition of color scheme for dark theme */\n",
       "    --sklearn-color-text-on-default-background: var(--sg-text-color, var(--theme-code-foreground, var(--jp-content-font-color1, white)));\n",
       "    --sklearn-color-background: var(--sg-background-color, var(--theme-background, var(--jp-layout-color0, #111)));\n",
       "    --sklearn-color-border-box: var(--sg-text-color, var(--theme-code-foreground, var(--jp-content-font-color1, white)));\n",
       "    --sklearn-color-icon: #878787;\n",
       "  }\n",
       "}\n",
       "\n",
       "#sk-container-id-1 {\n",
       "  color: var(--sklearn-color-text);\n",
       "}\n",
       "\n",
       "#sk-container-id-1 pre {\n",
       "  padding: 0;\n",
       "}\n",
       "\n",
       "#sk-container-id-1 input.sk-hidden--visually {\n",
       "  border: 0;\n",
       "  clip: rect(1px 1px 1px 1px);\n",
       "  clip: rect(1px, 1px, 1px, 1px);\n",
       "  height: 1px;\n",
       "  margin: -1px;\n",
       "  overflow: hidden;\n",
       "  padding: 0;\n",
       "  position: absolute;\n",
       "  width: 1px;\n",
       "}\n",
       "\n",
       "#sk-container-id-1 div.sk-dashed-wrapped {\n",
       "  border: 1px dashed var(--sklearn-color-line);\n",
       "  margin: 0 0.4em 0.5em 0.4em;\n",
       "  box-sizing: border-box;\n",
       "  padding-bottom: 0.4em;\n",
       "  background-color: var(--sklearn-color-background);\n",
       "}\n",
       "\n",
       "#sk-container-id-1 div.sk-container {\n",
       "  /* jupyter's `normalize.less` sets `[hidden] { display: none; }`\n",
       "     but bootstrap.min.css set `[hidden] { display: none !important; }`\n",
       "     so we also need the `!important` here to be able to override the\n",
       "     default hidden behavior on the sphinx rendered scikit-learn.org.\n",
       "     See: https://github.com/scikit-learn/scikit-learn/issues/21755 */\n",
       "  display: inline-block !important;\n",
       "  position: relative;\n",
       "}\n",
       "\n",
       "#sk-container-id-1 div.sk-text-repr-fallback {\n",
       "  display: none;\n",
       "}\n",
       "\n",
       "div.sk-parallel-item,\n",
       "div.sk-serial,\n",
       "div.sk-item {\n",
       "  /* draw centered vertical line to link estimators */\n",
       "  background-image: linear-gradient(var(--sklearn-color-text-on-default-background), var(--sklearn-color-text-on-default-background));\n",
       "  background-size: 2px 100%;\n",
       "  background-repeat: no-repeat;\n",
       "  background-position: center center;\n",
       "}\n",
       "\n",
       "/* Parallel-specific style estimator block */\n",
       "\n",
       "#sk-container-id-1 div.sk-parallel-item::after {\n",
       "  content: \"\";\n",
       "  width: 100%;\n",
       "  border-bottom: 2px solid var(--sklearn-color-text-on-default-background);\n",
       "  flex-grow: 1;\n",
       "}\n",
       "\n",
       "#sk-container-id-1 div.sk-parallel {\n",
       "  display: flex;\n",
       "  align-items: stretch;\n",
       "  justify-content: center;\n",
       "  background-color: var(--sklearn-color-background);\n",
       "  position: relative;\n",
       "}\n",
       "\n",
       "#sk-container-id-1 div.sk-parallel-item {\n",
       "  display: flex;\n",
       "  flex-direction: column;\n",
       "}\n",
       "\n",
       "#sk-container-id-1 div.sk-parallel-item:first-child::after {\n",
       "  align-self: flex-end;\n",
       "  width: 50%;\n",
       "}\n",
       "\n",
       "#sk-container-id-1 div.sk-parallel-item:last-child::after {\n",
       "  align-self: flex-start;\n",
       "  width: 50%;\n",
       "}\n",
       "\n",
       "#sk-container-id-1 div.sk-parallel-item:only-child::after {\n",
       "  width: 0;\n",
       "}\n",
       "\n",
       "/* Serial-specific style estimator block */\n",
       "\n",
       "#sk-container-id-1 div.sk-serial {\n",
       "  display: flex;\n",
       "  flex-direction: column;\n",
       "  align-items: center;\n",
       "  background-color: var(--sklearn-color-background);\n",
       "  padding-right: 1em;\n",
       "  padding-left: 1em;\n",
       "}\n",
       "\n",
       "\n",
       "/* Toggleable style: style used for estimator/Pipeline/ColumnTransformer box that is\n",
       "clickable and can be expanded/collapsed.\n",
       "- Pipeline and ColumnTransformer use this feature and define the default style\n",
       "- Estimators will overwrite some part of the style using the `sk-estimator` class\n",
       "*/\n",
       "\n",
       "/* Pipeline and ColumnTransformer style (default) */\n",
       "\n",
       "#sk-container-id-1 div.sk-toggleable {\n",
       "  /* Default theme specific background. It is overwritten whether we have a\n",
       "  specific estimator or a Pipeline/ColumnTransformer */\n",
       "  background-color: var(--sklearn-color-background);\n",
       "}\n",
       "\n",
       "/* Toggleable label */\n",
       "#sk-container-id-1 label.sk-toggleable__label {\n",
       "  cursor: pointer;\n",
       "  display: block;\n",
       "  width: 100%;\n",
       "  margin-bottom: 0;\n",
       "  padding: 0.5em;\n",
       "  box-sizing: border-box;\n",
       "  text-align: center;\n",
       "}\n",
       "\n",
       "#sk-container-id-1 label.sk-toggleable__label-arrow:before {\n",
       "  /* Arrow on the left of the label */\n",
       "  content: \"▸\";\n",
       "  float: left;\n",
       "  margin-right: 0.25em;\n",
       "  color: var(--sklearn-color-icon);\n",
       "}\n",
       "\n",
       "#sk-container-id-1 label.sk-toggleable__label-arrow:hover:before {\n",
       "  color: var(--sklearn-color-text);\n",
       "}\n",
       "\n",
       "/* Toggleable content - dropdown */\n",
       "\n",
       "#sk-container-id-1 div.sk-toggleable__content {\n",
       "  max-height: 0;\n",
       "  max-width: 0;\n",
       "  overflow: hidden;\n",
       "  text-align: left;\n",
       "  /* unfitted */\n",
       "  background-color: var(--sklearn-color-unfitted-level-0);\n",
       "}\n",
       "\n",
       "#sk-container-id-1 div.sk-toggleable__content.fitted {\n",
       "  /* fitted */\n",
       "  background-color: var(--sklearn-color-fitted-level-0);\n",
       "}\n",
       "\n",
       "#sk-container-id-1 div.sk-toggleable__content pre {\n",
       "  margin: 0.2em;\n",
       "  border-radius: 0.25em;\n",
       "  color: var(--sklearn-color-text);\n",
       "  /* unfitted */\n",
       "  background-color: var(--sklearn-color-unfitted-level-0);\n",
       "}\n",
       "\n",
       "#sk-container-id-1 div.sk-toggleable__content.fitted pre {\n",
       "  /* unfitted */\n",
       "  background-color: var(--sklearn-color-fitted-level-0);\n",
       "}\n",
       "\n",
       "#sk-container-id-1 input.sk-toggleable__control:checked~div.sk-toggleable__content {\n",
       "  /* Expand drop-down */\n",
       "  max-height: 200px;\n",
       "  max-width: 100%;\n",
       "  overflow: auto;\n",
       "}\n",
       "\n",
       "#sk-container-id-1 input.sk-toggleable__control:checked~label.sk-toggleable__label-arrow:before {\n",
       "  content: \"▾\";\n",
       "}\n",
       "\n",
       "/* Pipeline/ColumnTransformer-specific style */\n",
       "\n",
       "#sk-container-id-1 div.sk-label input.sk-toggleable__control:checked~label.sk-toggleable__label {\n",
       "  color: var(--sklearn-color-text);\n",
       "  background-color: var(--sklearn-color-unfitted-level-2);\n",
       "}\n",
       "\n",
       "#sk-container-id-1 div.sk-label.fitted input.sk-toggleable__control:checked~label.sk-toggleable__label {\n",
       "  background-color: var(--sklearn-color-fitted-level-2);\n",
       "}\n",
       "\n",
       "/* Estimator-specific style */\n",
       "\n",
       "/* Colorize estimator box */\n",
       "#sk-container-id-1 div.sk-estimator input.sk-toggleable__control:checked~label.sk-toggleable__label {\n",
       "  /* unfitted */\n",
       "  background-color: var(--sklearn-color-unfitted-level-2);\n",
       "}\n",
       "\n",
       "#sk-container-id-1 div.sk-estimator.fitted input.sk-toggleable__control:checked~label.sk-toggleable__label {\n",
       "  /* fitted */\n",
       "  background-color: var(--sklearn-color-fitted-level-2);\n",
       "}\n",
       "\n",
       "#sk-container-id-1 div.sk-label label.sk-toggleable__label,\n",
       "#sk-container-id-1 div.sk-label label {\n",
       "  /* The background is the default theme color */\n",
       "  color: var(--sklearn-color-text-on-default-background);\n",
       "}\n",
       "\n",
       "/* On hover, darken the color of the background */\n",
       "#sk-container-id-1 div.sk-label:hover label.sk-toggleable__label {\n",
       "  color: var(--sklearn-color-text);\n",
       "  background-color: var(--sklearn-color-unfitted-level-2);\n",
       "}\n",
       "\n",
       "/* Label box, darken color on hover, fitted */\n",
       "#sk-container-id-1 div.sk-label.fitted:hover label.sk-toggleable__label.fitted {\n",
       "  color: var(--sklearn-color-text);\n",
       "  background-color: var(--sklearn-color-fitted-level-2);\n",
       "}\n",
       "\n",
       "/* Estimator label */\n",
       "\n",
       "#sk-container-id-1 div.sk-label label {\n",
       "  font-family: monospace;\n",
       "  font-weight: bold;\n",
       "  display: inline-block;\n",
       "  line-height: 1.2em;\n",
       "}\n",
       "\n",
       "#sk-container-id-1 div.sk-label-container {\n",
       "  text-align: center;\n",
       "}\n",
       "\n",
       "/* Estimator-specific */\n",
       "#sk-container-id-1 div.sk-estimator {\n",
       "  font-family: monospace;\n",
       "  border: 1px dotted var(--sklearn-color-border-box);\n",
       "  border-radius: 0.25em;\n",
       "  box-sizing: border-box;\n",
       "  margin-bottom: 0.5em;\n",
       "  /* unfitted */\n",
       "  background-color: var(--sklearn-color-unfitted-level-0);\n",
       "}\n",
       "\n",
       "#sk-container-id-1 div.sk-estimator.fitted {\n",
       "  /* fitted */\n",
       "  background-color: var(--sklearn-color-fitted-level-0);\n",
       "}\n",
       "\n",
       "/* on hover */\n",
       "#sk-container-id-1 div.sk-estimator:hover {\n",
       "  /* unfitted */\n",
       "  background-color: var(--sklearn-color-unfitted-level-2);\n",
       "}\n",
       "\n",
       "#sk-container-id-1 div.sk-estimator.fitted:hover {\n",
       "  /* fitted */\n",
       "  background-color: var(--sklearn-color-fitted-level-2);\n",
       "}\n",
       "\n",
       "/* Specification for estimator info (e.g. \"i\" and \"?\") */\n",
       "\n",
       "/* Common style for \"i\" and \"?\" */\n",
       "\n",
       ".sk-estimator-doc-link,\n",
       "a:link.sk-estimator-doc-link,\n",
       "a:visited.sk-estimator-doc-link {\n",
       "  float: right;\n",
       "  font-size: smaller;\n",
       "  line-height: 1em;\n",
       "  font-family: monospace;\n",
       "  background-color: var(--sklearn-color-background);\n",
       "  border-radius: 1em;\n",
       "  height: 1em;\n",
       "  width: 1em;\n",
       "  text-decoration: none !important;\n",
       "  margin-left: 1ex;\n",
       "  /* unfitted */\n",
       "  border: var(--sklearn-color-unfitted-level-1) 1pt solid;\n",
       "  color: var(--sklearn-color-unfitted-level-1);\n",
       "}\n",
       "\n",
       ".sk-estimator-doc-link.fitted,\n",
       "a:link.sk-estimator-doc-link.fitted,\n",
       "a:visited.sk-estimator-doc-link.fitted {\n",
       "  /* fitted */\n",
       "  border: var(--sklearn-color-fitted-level-1) 1pt solid;\n",
       "  color: var(--sklearn-color-fitted-level-1);\n",
       "}\n",
       "\n",
       "/* On hover */\n",
       "div.sk-estimator:hover .sk-estimator-doc-link:hover,\n",
       ".sk-estimator-doc-link:hover,\n",
       "div.sk-label-container:hover .sk-estimator-doc-link:hover,\n",
       ".sk-estimator-doc-link:hover {\n",
       "  /* unfitted */\n",
       "  background-color: var(--sklearn-color-unfitted-level-3);\n",
       "  color: var(--sklearn-color-background);\n",
       "  text-decoration: none;\n",
       "}\n",
       "\n",
       "div.sk-estimator.fitted:hover .sk-estimator-doc-link.fitted:hover,\n",
       ".sk-estimator-doc-link.fitted:hover,\n",
       "div.sk-label-container:hover .sk-estimator-doc-link.fitted:hover,\n",
       ".sk-estimator-doc-link.fitted:hover {\n",
       "  /* fitted */\n",
       "  background-color: var(--sklearn-color-fitted-level-3);\n",
       "  color: var(--sklearn-color-background);\n",
       "  text-decoration: none;\n",
       "}\n",
       "\n",
       "/* Span, style for the box shown on hovering the info icon */\n",
       ".sk-estimator-doc-link span {\n",
       "  display: none;\n",
       "  z-index: 9999;\n",
       "  position: relative;\n",
       "  font-weight: normal;\n",
       "  right: .2ex;\n",
       "  padding: .5ex;\n",
       "  margin: .5ex;\n",
       "  width: min-content;\n",
       "  min-width: 20ex;\n",
       "  max-width: 50ex;\n",
       "  color: var(--sklearn-color-text);\n",
       "  box-shadow: 2pt 2pt 4pt #999;\n",
       "  /* unfitted */\n",
       "  background: var(--sklearn-color-unfitted-level-0);\n",
       "  border: .5pt solid var(--sklearn-color-unfitted-level-3);\n",
       "}\n",
       "\n",
       ".sk-estimator-doc-link.fitted span {\n",
       "  /* fitted */\n",
       "  background: var(--sklearn-color-fitted-level-0);\n",
       "  border: var(--sklearn-color-fitted-level-3);\n",
       "}\n",
       "\n",
       ".sk-estimator-doc-link:hover span {\n",
       "  display: block;\n",
       "}\n",
       "\n",
       "/* \"?\"-specific style due to the `<a>` HTML tag */\n",
       "\n",
       "#sk-container-id-1 a.estimator_doc_link {\n",
       "  float: right;\n",
       "  font-size: 1rem;\n",
       "  line-height: 1em;\n",
       "  font-family: monospace;\n",
       "  background-color: var(--sklearn-color-background);\n",
       "  border-radius: 1rem;\n",
       "  height: 1rem;\n",
       "  width: 1rem;\n",
       "  text-decoration: none;\n",
       "  /* unfitted */\n",
       "  color: var(--sklearn-color-unfitted-level-1);\n",
       "  border: var(--sklearn-color-unfitted-level-1) 1pt solid;\n",
       "}\n",
       "\n",
       "#sk-container-id-1 a.estimator_doc_link.fitted {\n",
       "  /* fitted */\n",
       "  border: var(--sklearn-color-fitted-level-1) 1pt solid;\n",
       "  color: var(--sklearn-color-fitted-level-1);\n",
       "}\n",
       "\n",
       "/* On hover */\n",
       "#sk-container-id-1 a.estimator_doc_link:hover {\n",
       "  /* unfitted */\n",
       "  background-color: var(--sklearn-color-unfitted-level-3);\n",
       "  color: var(--sklearn-color-background);\n",
       "  text-decoration: none;\n",
       "}\n",
       "\n",
       "#sk-container-id-1 a.estimator_doc_link.fitted:hover {\n",
       "  /* fitted */\n",
       "  background-color: var(--sklearn-color-fitted-level-3);\n",
       "}\n",
       "</style><div id=\"sk-container-id-1\" class=\"sk-top-container\"><div class=\"sk-text-repr-fallback\"><pre>GridSearchCV(estimator=DecisionTreeClassifier(random_state=42),\n",
       "             param_grid={&#x27;max_depth&#x27;: [5, 10, 15, None],\n",
       "                         &#x27;min_samples_leaf&#x27;: [50, 100, 200],\n",
       "                         &#x27;min_samples_split&#x27;: [100, 200, 500]})</pre><b>In a Jupyter environment, please rerun this cell to show the HTML representation or trust the notebook. <br />On GitHub, the HTML representation is unable to render, please try loading this page with nbviewer.org.</b></div><div class=\"sk-container\" hidden><div class=\"sk-item sk-dashed-wrapped\"><div class=\"sk-label-container\"><div class=\"sk-label fitted sk-toggleable\"><input class=\"sk-toggleable__control sk-hidden--visually\" id=\"sk-estimator-id-1\" type=\"checkbox\" ><label for=\"sk-estimator-id-1\" class=\"sk-toggleable__label fitted sk-toggleable__label-arrow fitted\">&nbsp;&nbsp;GridSearchCV<a class=\"sk-estimator-doc-link fitted\" rel=\"noreferrer\" target=\"_blank\" href=\"https://scikit-learn.org/1.4/modules/generated/sklearn.model_selection.GridSearchCV.html\">?<span>Documentation for GridSearchCV</span></a><span class=\"sk-estimator-doc-link fitted\">i<span>Fitted</span></span></label><div class=\"sk-toggleable__content fitted\"><pre>GridSearchCV(estimator=DecisionTreeClassifier(random_state=42),\n",
       "             param_grid={&#x27;max_depth&#x27;: [5, 10, 15, None],\n",
       "                         &#x27;min_samples_leaf&#x27;: [50, 100, 200],\n",
       "                         &#x27;min_samples_split&#x27;: [100, 200, 500]})</pre></div> </div></div><div class=\"sk-parallel\"><div class=\"sk-parallel-item\"><div class=\"sk-item\"><div class=\"sk-label-container\"><div class=\"sk-label fitted sk-toggleable\"><input class=\"sk-toggleable__control sk-hidden--visually\" id=\"sk-estimator-id-2\" type=\"checkbox\" ><label for=\"sk-estimator-id-2\" class=\"sk-toggleable__label fitted sk-toggleable__label-arrow fitted\">estimator: DecisionTreeClassifier</label><div class=\"sk-toggleable__content fitted\"><pre>DecisionTreeClassifier(random_state=42)</pre></div> </div></div><div class=\"sk-serial\"><div class=\"sk-item\"><div class=\"sk-estimator fitted sk-toggleable\"><input class=\"sk-toggleable__control sk-hidden--visually\" id=\"sk-estimator-id-3\" type=\"checkbox\" ><label for=\"sk-estimator-id-3\" class=\"sk-toggleable__label fitted sk-toggleable__label-arrow fitted\">&nbsp;DecisionTreeClassifier<a class=\"sk-estimator-doc-link fitted\" rel=\"noreferrer\" target=\"_blank\" href=\"https://scikit-learn.org/1.4/modules/generated/sklearn.tree.DecisionTreeClassifier.html\">?<span>Documentation for DecisionTreeClassifier</span></a></label><div class=\"sk-toggleable__content fitted\"><pre>DecisionTreeClassifier(random_state=42)</pre></div> </div></div></div></div></div></div></div></div></div>"
      ],
      "text/plain": [
       "GridSearchCV(estimator=DecisionTreeClassifier(random_state=42),\n",
       "             param_grid={'max_depth': [5, 10, 15, None],\n",
       "                         'min_samples_leaf': [50, 100, 200],\n",
       "                         'min_samples_split': [100, 200, 500]})"
      ]
     },
     "execution_count": 24,
     "metadata": {},
     "output_type": "execute_result"
    }
   ],
   "source": [
    "grid_search.fit(x_train, y_train)"
   ]
  },
  {
   "cell_type": "code",
   "execution_count": 25,
   "metadata": {},
   "outputs": [
    {
     "name": "stdout",
     "output_type": "stream",
     "text": [
      "Best parameters: {'max_depth': 15, 'min_samples_leaf': 100, 'min_samples_split': 100}\n"
     ]
    }
   ],
   "source": [
    "best_params = grid_search.best_params_\n",
    "print(\"Best parameters:\", best_params)"
   ]
  },
  {
   "cell_type": "code",
   "execution_count": 26,
   "metadata": {},
   "outputs": [],
   "source": [
    "dt_clf = DecisionTreeClassifier(random_state=SEED, max_depth=15, min_samples_split=100, min_samples_leaf=100)\n",
    "dt_clf = CalibratedClassifierCV(dt_clf, method='isotonic')\n",
    "dt_clf.fit(x_train, y_train)\n",
    "tabular_based_classifiers['DT'] = dt_clf"
   ]
  },
  {
   "cell_type": "code",
   "execution_count": 27,
   "metadata": {},
   "outputs": [
    {
     "name": "stdout",
     "output_type": "stream",
     "text": [
      "Classification Report:\n",
      "              precision    recall  f1-score   support\n",
      "\n",
      "           0       0.72      0.83      0.77      3504\n",
      "           1       0.80      0.67      0.73      3432\n",
      "\n",
      "    accuracy                           0.75      6936\n",
      "   macro avg       0.76      0.75      0.75      6936\n",
      "weighted avg       0.76      0.75      0.75      6936\n",
      "\n",
      "Confusion Matrix:\n",
      "[[2918  586]\n",
      " [1145 2287]]\n",
      "Total Cost: 1731\n"
     ]
    }
   ],
   "source": [
    "y_pred = dt_clf.predict(x_test)\n",
    "\n",
    "print(\"Classification Report:\")\n",
    "print(classification_report(y_test, y_pred))\n",
    "\n",
    "print(\"Confusion Matrix:\")\n",
    "print(confusion_matrix(y_test, y_pred))\n",
    "\n",
    "total_cost = np.sum(confusion_matrix(y_test, y_pred).T * cost_matrix)\n",
    "print(\"Total Cost:\", total_cost)"
   ]
=======
   "metadata": {
    "ExecuteTime": {
     "end_time": "2024-04-29T13:05:02.674299Z",
     "start_time": "2024-04-29T13:05:02.656007Z"
    }
   },
   "source": [
=======
>>>>>>> origin/main
    "# # Create a Decision Tree Classifier object\n",
    "# dt = DecisionTreeClassifier()\n",
    "# \n",
    "# # Train the classifier\n",
    "# dt.fit(train_set.drop(columns=['_MICHD']), train_set['_MICHD'], sample_weight=cost_matrix)\n",
    "# \n",
    "# # Predict the response for test dataset\n",
    "# y_pred = dt.predict(test_set.drop(columns=['_MICHD']))\n",
    "# \n",
    "# # Print the confusion matrix and a classification report\n",
    "# print('Confusion Matrix:')\n",
    "# print(confusion_matrix(test_set['_MICHD'], y_pred))\n",
    "# \n",
    "# print(classification_report(test_set['_MICHD'], y_pred))"
   ],
   "outputs": [],
   "execution_count": 38
>>>>>>> origin/main
  },
  {
   "cell_type": "markdown",
   "metadata": {},
   "source": [
    "#### Decision Tree for oversampling"
   ]
  },
  {
   "cell_type": "code",
<<<<<<< HEAD
   "execution_count": null,
   "metadata": {},
   "outputs": [],
   "source": [
    "# Split the balanced dataset to a set of training and testing samples \n",
    "x_train, x_test, y_train, y_test = train_test_split(SMOTE_data.drop(columns=['_MICHD']), SMOTE_data['_MICHD'], test_size=0.25, random_state=SEED)"
   ]
=======
   "metadata": {
    "ExecuteTime": {
     "end_time": "2024-04-29T13:05:02.966089Z",
     "start_time": "2024-04-29T13:05:02.678293Z"
    }
   },
   "source": [
    "# Split the balanced dataset to a set of training and testing samples \n",
    "x_train, x_test, y_train, y_test = train_test_split(SMOTE_data.drop(columns=['_MICHD']), SMOTE_data['_MICHD'], test_size=0.25, random_state=SEED)"
   ],
   "outputs": [],
   "execution_count": 39
  },
  {
   "metadata": {
    "ExecuteTime": {
     "end_time": "2024-04-29T13:40:41.676039Z",
     "start_time": "2024-04-29T13:05:02.995076Z"
    }
   },
   "cell_type": "code",
   "source": [
    "from sklearn.model_selection import GridSearchCV\n",
    "\n",
    "# Define the adjusted parameter grid\n",
    "param_grid = {\n",
    "    'criterion': ['gini', 'entropy'],\n",
    "    'max_depth': [None, 10, 20, 30],\n",
    "    'min_samples_split': [2, 5, 10],\n",
    "    'min_samples_leaf': [1, 2, 4],\n",
    "    'max_features': [None, 'sqrt', 'log2', 0.5, 0.7]  # Adjusted max_features values\n",
    "}\n",
    "\n",
    "# Create a Decision Tree Classifier object\n",
    "dt = DecisionTreeClassifier(random_state=SEED)\n",
    "\n",
    "# Instantiate the grid search with 5-fold cross-validation\n",
    "grid_search = GridSearchCV(dt, param_grid, cv=5, scoring='accuracy')\n",
    "\n",
    "# Fit the grid search to the data\n",
    "grid_search.fit(x_train, y_train)\n",
    "\n",
    "# Get the best parameters\n",
    "best_params = grid_search.best_params_\n",
    "print(\"Best Parameters:\", best_params)\n",
    "\n",
    "# Train the classifier with the best parameters\n",
    "best_dt = DecisionTreeClassifier(random_state=SEED, **best_params)\n",
    "best_dt.fit(x_train, y_train)\n",
    "\n",
    "# Predict the response for test dataset using the best classifier\n",
    "y_pred = best_dt.predict(x_test)\n",
    "\n",
    "# Print the confusion matrix and a classification report\n",
    "print('Confusion Matrix:')\n",
    "print(confusion_matrix(y_test, y_pred).T)\n",
    "\n",
    "total_cost = np.sum(confusion_matrix(y_test, y_pred).T * cost_matrix)\n",
    "print(f\"\\nTotal Cost: {total_cost}\") \n",
    "\n",
    "print(classification_report(y_test, y_pred))\n",
    "\n",
    "# Extract macro metrics from the classification report\n",
    "metrics_dict = classification_report(y_test, y_pred, target_names=[\"Reported having MI or CHD\", \"Did not report having MI or CHD\"], output_dict=True)['macro avg']\n",
    "\n",
    "if method==1:\n",
    "    BorderlineSMOTE_loss.loc['Total Cost baseline', 'Decision Tree'] = total_cost\n",
    "    BorderlineSMOTE_precision.loc['macro precision baseline', 'Decision Tree'] = metrics_dict['precision']\n",
    "    BorderlineSMOTE_recall.loc['macro recall baseline', 'Decision Tree'] = metrics_dict['recall']\n",
    "    BorderlineSMOTE_f1_score.loc['macro f1-score baseline', 'Decision Tree'] = metrics_dict['f1-score']\n",
    "elif method==2:\n",
    "    smote_tomek_loss.loc['Total Cost baseline', 'Decision Tree'] = total_cost\n",
    "    smote_tomek_precision.loc['macro precision baseline', 'Decision Tree'] = metrics_dict['precision']\n",
    "    smote_tomek_recall.loc['macro recall baseline', 'Decision Tree'] = metrics_dict['recall']\n",
    "    smote_tomek_f1_score.loc['macro f1-score baseline', 'Decision Tree'] = metrics_dict['f1-score']\n",
    "elif method==3:\n",
    "    adasyn_loss.loc['Total Cost baseline', 'Decision Tree'] = total_cost\n",
    "    adasyn_precision.loc['macro precision baseline', 'Decision Tree'] = metrics_dict['precision']\n",
    "    adasyn_recall.loc['macro recall baseline', 'Decision Tree'] = metrics_dict['recall']\n",
    "    adasyn_f1_score.loc['macro f1-score baseline', 'Decision Tree'] = metrics_dict['f1-score']\n",
    "else:\n",
    "    SMOTE_loss.loc['Total Cost baseline', 'Decision Tree'] = total_cost\n",
    "    SMOTE_precision.loc['macro precision baseline', 'Decision Tree'] = metrics_dict['precision']\n",
    "    SMOTE_recall.loc['macro recall baseline', 'Decision Tree'] = metrics_dict['recall']\n",
    "    SMOTE_f1_score.loc['macro f1-score baseline', 'Decision Tree'] = metrics_dict['f1-score']"
   ],
   "outputs": [
    {
     "name": "stdout",
     "output_type": "stream",
     "text": [
      "Best Parameters: {'criterion': 'entropy', 'max_depth': None, 'max_features': 0.5, 'min_samples_leaf': 1, 'min_samples_split': 2}\n",
      "Confusion Matrix:\n",
      "[[36539  6298]\n",
      " [ 2167 31852]]\n",
      "\n",
      "Total Cost: 3741.5\n",
      "              precision    recall  f1-score   support\n",
      "\n",
      "           0       0.85      0.94      0.90     38706\n",
      "           1       0.94      0.83      0.88     38150\n",
      "\n",
      "    accuracy                           0.89     76856\n",
      "   macro avg       0.89      0.89      0.89     76856\n",
      "weighted avg       0.89      0.89      0.89     76856\n",
      "\n"
     ]
    }
   ],
   "execution_count": 40
  },
  {
   "metadata": {
    "ExecuteTime": {
     "end_time": "2024-04-29T13:40:41.705023Z",
     "start_time": "2024-04-29T13:40:41.694026Z"
    }
   },
   "cell_type": "code",
   "source": [
    "# from sklearn.inspection import permutation_importance\n",
    "# \n",
    "# # Compute permutation feature importance\n",
    "# perm_importance = permutation_importance(best_dt, x_test, y_test)\n",
    "# \n",
    "# # Get feature names\n",
    "# feature_names = x_test.columns\n",
    "# \n",
    "# # Get sorted indices of feature importance\n",
    "# sorted_idx = perm_importance.importances_mean.argsort()\n",
    "# \n",
    "# # Plot permutation feature importance\n",
    "# plt.figure(figsize=(10, 6))\n",
    "# plt.barh(range(len(sorted_idx)), perm_importance.importances_mean[sorted_idx], tick_label=feature_names[sorted_idx])\n",
    "# plt.xlabel('Permutation Importance')\n",
    "# plt.ylabel('Feature')\n",
    "# plt.title('Permutation Feature Importance')\n",
    "# \n",
    "# # Save the plot as an image file\n",
    "# plt.savefig(\"feature_importance_plot (DecisionTreeClassifier).png\")\n",
    "# \n",
    "# # Display the plot\n",
    "# plt.show()"
   ],
   "outputs": [],
   "execution_count": 41
  },
  {
   "metadata": {
    "ExecuteTime": {
     "end_time": "2024-04-29T13:40:41.713018Z",
     "start_time": "2024-04-29T13:40:41.708020Z"
    }
   },
   "cell_type": "code",
   "source": [
    "# import shap\n",
    "# \n",
    "# # Explain the model's predictions using SHAP\n",
    "# explainer = shap.TreeExplainer(best_dt)\n",
    "# shap_values = explainer.shap_values(x_train)\n",
    "# \n",
    "# # Save SHAP values to a file\n",
    "# np.save('shap_values.npy', shap_values)\n",
    "# \n",
    "# # Plot the SHAP values\n",
    "# shap.summary_plot(shap_values, features=x_train, feature_names=x_train.columns, show=False)\n",
    "# plt.savefig('shap_summary_plot (dt).png', bbox_inches='tight')  # Save the plot as an image\n",
    "# plt.show()"
   ],
   "outputs": [],
   "execution_count": 42
>>>>>>> origin/main
  },
  {
   "metadata": {},
   "cell_type": "code",
   "source": [
    "from sklearn.model_selection import GridSearchCV\n",
    "\n",
    "# Define the adjusted parameter grid\n",
    "param_grid = {\n",
    "    'criterion': ['gini', 'entropy'],\n",
    "    'max_depth': [None, 10, 20, 30],\n",
    "    'min_samples_split': [2, 5, 10],\n",
    "    'min_samples_leaf': [1, 2, 4],\n",
    "    'max_features': [None, 'sqrt', 'log2', 0.5, 0.7]  # Adjusted max_features values\n",
    "}\n",
    "\n",
    "# Create a Decision Tree Classifier object\n",
    "dt = DecisionTreeClassifier(random_state=SEED)\n",
    "\n",
    "# Instantiate the grid search with 5-fold cross-validation\n",
    "grid_search = GridSearchCV(dt, param_grid, cv=5, scoring='accuracy')\n",
    "\n",
    "# Fit the grid search to the data\n",
    "grid_search.fit(x_train, y_train)\n",
    "\n",
    "# Get the best parameters\n",
    "best_params = grid_search.best_params_\n",
    "print(\"Best Parameters:\", best_params)\n",
    "\n",
    "# Train the classifier with the best parameters\n",
    "best_dt = DecisionTreeClassifier(random_state=SEED, **best_params)\n",
    "best_dt.fit(x_train, y_train)\n",
    "\n",
    "# Predict the response for test dataset using the best classifier\n",
    "y_pred = best_dt.predict(x_test)\n",
    "\n",
    "# Print the confusion matrix and a classification report\n",
    "print('Confusion Matrix:')\n",
    "print(confusion_matrix(y_test, y_pred).T)\n",
    "\n",
    "total_cost = np.sum(confusion_matrix(y_test, y_pred).T * cost_matrix)\n",
    "print(f\"\\nTotal Cost: {total_cost}\") \n",
    "\n",
    "print(classification_report(y_test, y_pred))\n",
    "\n",
    "# Extract macro metrics from the classification report\n",
    "metrics_dict = classification_report(y_test, y_pred, target_names=[\"Reported having MI or CHD\", \"Did not report having MI or CHD\"], output_dict=True)['macro avg']\n",
    "\n",
    "if method==1:\n",
    "    BorderlineSMOTE_loss.loc['Total Cost baseline', 'Decision Tree'] = total_cost\n",
    "    BorderlineSMOTE_precision.loc['macro precision baseline', 'Decision Tree'] = metrics_dict['precision']\n",
    "    BorderlineSMOTE_recall.loc['macro recall baseline', 'Decision Tree'] = metrics_dict['recall']\n",
    "    BorderlineSMOTE_f1_score.loc['macro f1-score baseline', 'Decision Tree'] = metrics_dict['f1-score']\n",
    "elif method==2:\n",
    "    smote_tomek_loss.loc['Total Cost baseline', 'Decision Tree'] = total_cost\n",
    "    smote_tomek_precision.loc['macro precision baseline', 'Decision Tree'] = metrics_dict['precision']\n",
    "    smote_tomek_recall.loc['macro recall baseline', 'Decision Tree'] = metrics_dict['recall']\n",
    "    smote_tomek_f1_score.loc['macro f1-score baseline', 'Decision Tree'] = metrics_dict['f1-score']\n",
    "elif method==3:\n",
    "    adasyn_loss.loc['Total Cost baseline', 'Decision Tree'] = total_cost\n",
    "    adasyn_precision.loc['macro precision baseline', 'Decision Tree'] = metrics_dict['precision']\n",
    "    adasyn_recall.loc['macro recall baseline', 'Decision Tree'] = metrics_dict['recall']\n",
    "    adasyn_f1_score.loc['macro f1-score baseline', 'Decision Tree'] = metrics_dict['f1-score']\n",
    "else:\n",
    "    SMOTE_loss.loc['Total Cost baseline', 'Decision Tree'] = total_cost\n",
    "    SMOTE_precision.loc['macro precision baseline', 'Decision Tree'] = metrics_dict['precision']\n",
    "    SMOTE_recall.loc['macro recall baseline', 'Decision Tree'] = metrics_dict['recall']\n",
    "    SMOTE_f1_score.loc['macro f1-score baseline', 'Decision Tree'] = metrics_dict['f1-score']"
   ],
   "outputs": [],
   "execution_count": null
  },
  {
   "metadata": {},
   "cell_type": "code",
   "source": [
    "from sklearn.inspection import permutation_importance\n",
    " \n",
    "# Compute permutation feature importance\n",
    "perm_importance = permutation_importance(best_dt, x_test, y_test)\n",
    " \n",
    "# Get feature names\n",
    "feature_names = x_test.columns\n",
    " \n",
    "# Get sorted indices of feature importance\n",
    "sorted_idx = perm_importance.importances_mean.argsort()\n",
    " \n",
    "# Plot permutation feature importance\n",
    "plt.figure(figsize=(10, 6))\n",
    "plt.barh(range(len(sorted_idx)), perm_importance.importances_mean[sorted_idx], tick_label=feature_names[sorted_idx])\n",
    "plt.xlabel('Permutation Importance')\n",
    "plt.ylabel('Feature')\n",
    "plt.title('Permutation Feature Importance')\n",
    " \n",
    "# Save the plot as an image file\n",
    "plt.savefig(\"feature_importance_plot (DecisionTreeClassifier).png\")\n",
    " \n",
    "# Display the plot\n",
    "plt.show()"
   ],
   "outputs": [],
   "execution_count": null
  },
  {
   "metadata": {},
   "cell_type": "code",
   "source": [
    "import shap\n",
    " \n",
    "# Explain the model's predictions using SHAP\n",
    "explainer = shap.TreeExplainer(best_dt)\n",
    "shap_values = explainer.shap_values(x_train)\n",
    " \n",
    "# Save SHAP values to a file\n",
    "np.save('shap_values.npy', shap_values)\n",
    " \n",
    "# Plot the SHAP values\n",
    "shap.summary_plot(shap_values, features=x_train, feature_names=x_train.columns, show=False)\n",
    "plt.savefig('shap_summary_plot (dt).png', bbox_inches='tight')  # Save the plot as an image\n",
    "plt.show()"
   ],
   "outputs": [],
   "execution_count": null
  },
  {
   "cell_type": "code",
   "execution_count": null,
   "metadata": {
    "collapsed": false
   },
   "outputs": [],
   "source": [
    "def predict(y_prob, cost_m):\n",
    "    t_BMR = (cost_m[1][0] - cost_m[1][1])/(cost_m[0][1] - cost_m[1][1] - cost_m[0][0] + cost_m[1][0])\n",
    "    y_pred = np.greater(y_prob[:, 1], t_BMR).astype(int)\n",
    "    \n",
    "    return y_pred\n",
    "\n",
    "from sklearn.calibration import CalibratedClassifierCV\n",
    "\n",
    "# Create a Decision Tree Classifier object\n",
    "dt = CalibratedClassifierCV(\n",
    "    DecisionTreeClassifier(random_state=SEED, **best_params),\n",
    "    method=\"isotonic\",\n",
    "    cv=10\n",
    ")\n",
    "\n",
    "# Train the classifier\n",
    "dt.fit(x_train , y_train)\n",
    "\n",
    "# Predict the response for test dataset\n",
    "y_prob = dt.predict_proba(x_test)\n",
    "y_pred = predict(y_prob, cost_matrix)\n",
    "\n",
    "# Print the confusion matrix and a classification report\n",
    "print('Confusion Matrix:')\n",
    "print(confusion_matrix(y_test, y_pred).T)\n",
    "\n",
    "total_cost = np.sum(confusion_matrix(y_test, y_pred).T * cost_matrix)\n",
    "print(f\"\\nTotal Cost: {total_cost}\") \n",
    "\n",
    "print(classification_report(y_test, y_pred))\n",
    "\n",
    "# Extract macro metrics from the classification report\n",
    "metrics_dict = classification_report(y_test, y_pred, target_names=[\"Reported having MI or CHD\", \"Did not report having MI or CHD\"], output_dict=True)['macro avg']\n",
    "\n",
    "if method==1:\n",
    "    BorderlineSMOTE_loss.loc['Total Cost MEC', 'Decision Tree'] = total_cost\n",
    "    BorderlineSMOTE_precision.loc['macro precision MEC', 'Decision Tree'] = metrics_dict['precision']\n",
    "    BorderlineSMOTE_recall.loc['macro recall MEC', 'Decision Tree'] = metrics_dict['recall']\n",
    "    BorderlineSMOTE_f1_score.loc['macro f1-score MEC', 'Decision Tree'] = metrics_dict['f1-score']\n",
    "elif method==2:\n",
    "    smote_tomek_loss.loc['Total Cost MEC', 'Decision Tree'] = total_cost\n",
    "    smote_tomek_precision.loc['macro precision MEC', 'Decision Tree'] = metrics_dict['precision']\n",
    "    smote_tomek_recall.loc['macro recall MEC', 'Decision Tree'] = metrics_dict['recall']\n",
    "    smote_tomek_f1_score.loc['macro f1-score MEC', 'Decision Tree'] = metrics_dict['f1-score']\n",
    "elif method==3:\n",
    "    adasyn_loss.loc['Total Cost MEC', 'Decision Tree'] = total_cost\n",
    "    adasyn_precision.loc['macro precision MEC', 'Decision Tree'] = metrics_dict['precision']\n",
    "    adasyn_recall.loc['macro recall MEC', 'Decision Tree'] = metrics_dict['recall']\n",
    "    adasyn_f1_score.loc['macro f1-score MEC', 'Decision Tree'] = metrics_dict['f1-score']\n",
    "else:\n",
    "    SMOTE_loss.loc['Total Cost MEC', 'Decision Tree'] = total_cost\n",
    "    SMOTE_precision.loc['macro precision MEC', 'Decision Tree'] = metrics_dict['precision']\n",
    "    SMOTE_recall.loc['macro recall MEC', 'Decision Tree'] = metrics_dict['recall']\n",
    "    SMOTE_f1_score.loc['macro f1-score MEC', 'Decision Tree'] = metrics_dict['f1-score']"
   ]
  },
  {
   "cell_type": "code",
<<<<<<< HEAD
   "execution_count": null,
   "metadata": {
    "collapsed": false,
    "ExecuteTime": {
     "end_time": "2024-04-29T13:40:58.750172Z",
     "start_time": "2024-04-29T13:40:41.715018Z"
    }
   },
<<<<<<< HEAD
   "outputs": [],
   "source": [
    "# Create a Decision Tree Classifier object\n",
    "dt = DecisionTreeClassifier(random_state=SEED)\n",
    "\n",
    "# Train the classifier\n",
    "dt.fit(x_train, y_train)\n",
    "\n",
    "# Predict the response for test dataset\n",
    "y_pred = dt.predict(x_test)\n",
    "\n",
    "# Print the confusion matrix and a classification report\n",
    "print('Confusion Matrix:')\n",
    "print(confusion_matrix(y_test, y_pred).T)\n",
    "\n",
    "total_cost = np.sum(confusion_matrix(y_test, y_pred).T * cost_matrix)\n",
    "print(f\"\\nTotal Cost: {total_cost}\") \n",
    "\n",
    "print(classification_report(y_test, y_pred))\n",
    "\n",
    "# Extract macro metrics from the classification report\n",
    "metrics_dict = classification_report(y_test, y_pred, target_names=[\"Reported having MI or CHD\", \"Did not report having MI or CHD\"], output_dict=True)['macro avg']\n",
    "\n",
    "if method==1:\n",
    "    BorderlineSMOTE_loss.loc['Total Cost baseline', 'Decision Tree'] = total_cost\n",
    "    # Update BorderlineSMOTE_precision DataFrame with macro precision\n",
    "    BorderlineSMOTE_precision.loc['macro precision baseline', 'Decision Tree'] = metrics_dict['precision']\n",
    "    # Update BorderlineSMOTE_recall DataFrame with macro recall\n",
    "    BorderlineSMOTE_recall.loc['macro recall baseline', 'Decision Tree'] = metrics_dict['recall']\n",
    "    # Update BorderlineSMOTE_f1_score DataFrame with macro F1-score\n",
    "    BorderlineSMOTE_f1_score.loc['macro f1-score baseline', 'Decision Tree'] = metrics_dict['f1-score']\n",
    "elif method==2:\n",
    "    smote_tomek_loss.loc['Total Cost baseline', 'Decision Tree'] = total_cost\n",
    "    smote_tomek_precision.loc['macro precision baseline', 'Decision Tree'] = metrics_dict['precision']\n",
    "    smote_tomek_recall.loc['macro recall baseline', 'Decision Tree'] = metrics_dict['recall']\n",
    "    smote_tomek_f1_score.loc['macro f1-score baseline', 'Decision Tree'] = metrics_dict['f1-score']\n",
    "elif method==3:\n",
    "    adasyn_loss.loc['Total Cost baseline', 'Decision Tree'] = total_cost\n",
    "    adasyn_precision.loc['macro precision baseline', 'Decision Tree'] = metrics_dict['precision']\n",
    "    adasyn_recall.loc['macro recall baseline', 'Decision Tree'] = metrics_dict['recall']\n",
    "    adasyn_f1_score.loc['macro f1-score baseline', 'Decision Tree'] = metrics_dict['f1-score']\n",
    "else:\n",
    "    SMOTE_loss.loc['Total Cost baseline', 'Decision Tree'] = total_cost\n",
    "    SMOTE_precision.loc['macro precision baseline', 'Decision Tree'] = metrics_dict['precision']\n",
    "    SMOTE_recall.loc['macro recall baseline', 'Decision Tree'] = metrics_dict['recall']\n",
    "    SMOTE_f1_score.loc['macro f1-score baseline', 'Decision Tree'] = metrics_dict['f1-score']"
   ]
  },
  {
   "cell_type": "code",
   "execution_count": null,
   "metadata": {},
   "outputs": [],
   "source": [
    "import matplotlib.pyplot as plt\n",
    "\n",
    "# Get feature importances\n",
    "importances = dt.feature_importances_\n",
    "features = x_train.columns\n",
    "\n",
    "# Sort feature importances in descending order\n",
    "indices = np.argsort(importances)[::-1]\n",
    "\n",
    "# Plot\n",
    "plt.figure(figsize=(10, 6))\n",
    "plt.title(\"Feature Importances ()\")\n",
    "plt.bar(range(x_train.shape[1]), importances[indices], align=\"center\")\n",
    "plt.xticks(range(x_train.shape[1]), [features[i] for i in indices], rotation=90)\n",
    "plt.xlabel(\"Feature\")\n",
    "plt.ylabel(\"Importance\")\n",
    "plt.tight_layout()\n",
    "\n",
    "# Save the plot as an image file\n",
    "plt.savefig(\"feature_importance_plot ().png\")\n",
    "\n",
    "# Display the plot\n",
    "plt.show()"
   ]
  },
  {
   "cell_type": "code",
   "execution_count": null,
=======
>>>>>>> origin/main
   "metadata": {},
   "outputs": [],
=======
   "outputs": [
    {
     "name": "stdout",
     "output_type": "stream",
     "text": [
      "Confusion Matrix:\n",
      "[[38028 11593]\n",
      " [  678 26557]]\n",
      "\n",
      "Total Cost: 3576.25\n",
      "              precision    recall  f1-score   support\n",
      "\n",
      "           0       0.77      0.98      0.86     38706\n",
      "           1       0.98      0.70      0.81     38150\n",
      "\n",
      "    accuracy                           0.84     76856\n",
      "   macro avg       0.87      0.84      0.84     76856\n",
      "weighted avg       0.87      0.84      0.84     76856\n",
      "\n"
     ]
    }
   ],
   "execution_count": 43
  },
  {
   "cell_type": "code",
   "metadata": {
    "ExecuteTime": {
     "end_time": "2024-04-29T13:41:00.568592Z",
     "start_time": "2024-04-29T13:40:58.752676Z"
    }
   },
>>>>>>> origin/main
   "source": [
    "# Calculate sample weights based on the corrected cost matrix\n",
    "sample_weights = np.zeros_like(y_train, dtype=float)\n",
    "sample_weights[y_train == 0] = cost_matrix[0][1]\n",
    "sample_weights[y_train == 1] = cost_matrix[1][0]\n",
    "\n",
    "# Create a Decision Tree Classifier object\n",
    "dt = DecisionTreeClassifier(random_state=SEED, **best_params)\n",
    "\n",
    "# Train the classifier\n",
    "dt.fit(x_train , y_train, sample_weight=sample_weights)\n",
    "\n",
    "# Predict the response for test dataset\n",
    "y_pred = dt.predict(x_test)\n",
    "\n",
    "# Print the confusion matrix and a classification report\n",
    "print('Confusion Matrix:')\n",
    "print(confusion_matrix(y_test, y_pred).T)\n",
    "\n",
    "total_cost = np.sum(confusion_matrix(y_test, y_pred).T * cost_matrix)\n",
    "print(f\"\\nTotal Cost: {total_cost}\") \n",
    "\n",
    "print(classification_report(y_test, y_pred))\n",
    "\n",
    "# Extract macro metrics from the classification report\n",
    "metrics_dict = classification_report(y_test, y_pred, target_names=[\"Reported having MI or CHD\", \"Did not report having MI or CHD\"], output_dict=True)['macro avg']\n",
    "\n",
    "if method==1:\n",
    "    BorderlineSMOTE_loss.loc['Total Cost weighting', 'Decision Tree'] = total_cost\n",
    "    BorderlineSMOTE_precision.loc['macro precision weighting', 'Decision Tree'] = metrics_dict['precision']\n",
    "    BorderlineSMOTE_recall.loc['macro recall weighting', 'Decision Tree'] = metrics_dict['recall']\n",
    "    BorderlineSMOTE_f1_score.loc['macro f1-score weighting', 'Decision Tree'] = metrics_dict['f1-score']\n",
    "elif method==2:\n",
    "    smote_tomek_loss.loc['Total Cost weighting', 'Decision Tree'] = total_cost\n",
    "    smote_tomek_precision.loc['macro precision weighting', 'Decision Tree'] = metrics_dict['precision']\n",
    "    smote_tomek_recall.loc['macro recall weighting', 'Decision Tree'] = metrics_dict['recall']\n",
    "    smote_tomek_f1_score.loc['macro f1-score weighting', 'Decision Tree'] = metrics_dict['f1-score']\n",
    "elif method==3:\n",
    "    adasyn_loss.loc['Total Cost weighting', 'Decision Tree'] = total_cost\n",
    "    adasyn_precision.loc['macro precision weighting', 'Decision Tree'] = metrics_dict['precision']\n",
    "    adasyn_recall.loc['macro recall weighting', 'Decision Tree'] = metrics_dict['recall']\n",
    "    adasyn_f1_score.loc['macro f1-score weighting', 'Decision Tree'] = metrics_dict['f1-score']\n",
    "else:\n",
    "    SMOTE_loss.loc['Total Cost weighting', 'Decision Tree'] = total_cost\n",
    "    SMOTE_precision.loc['macro precision weighting', 'Decision Tree'] = metrics_dict['precision']\n",
    "    SMOTE_recall.loc['macro recall weighting', 'Decision Tree'] = metrics_dict['recall']\n",
    "    SMOTE_f1_score.loc['macro f1-score weighting', 'Decision Tree'] = metrics_dict['f1-score']"
<<<<<<< HEAD
   ]
=======
   ],
   "outputs": [
    {
     "name": "stdout",
     "output_type": "stream",
     "text": [
      "Confusion Matrix:\n",
      "[[33679  5254]\n",
      " [ 5027 32896]]\n",
      "\n",
      "Total Cost: 6340.5\n",
      "              precision    recall  f1-score   support\n",
      "\n",
      "           0       0.87      0.87      0.87     38706\n",
      "           1       0.87      0.86      0.86     38150\n",
      "\n",
      "    accuracy                           0.87     76856\n",
      "   macro avg       0.87      0.87      0.87     76856\n",
      "weighted avg       0.87      0.87      0.87     76856\n",
      "\n"
     ]
    }
   ],
   "execution_count": 44
>>>>>>> origin/main
  },
  {
   "cell_type": "markdown",
   "metadata": {},
   "source": [
    "### ***Gaussian Naive Bayes***"
   ]
  },
  {
   "cell_type": "markdown",
   "metadata": {},
   "source": [
    "#### NB for undersampling"
   ]
  },
  {
   "cell_type": "code",
<<<<<<< HEAD
   "execution_count": 28,
   "metadata": {},
   "outputs": [
    {
     "name": "stdout",
     "output_type": "stream",
     "text": [
      "Confusion Matrix:\n",
      "[[2723  781]\n",
      " [1165 2267]]\n",
      "\n",
      "Total Cost: 1946\n",
      "              precision    recall  f1-score   support\n",
      "\n",
      "           0       0.70      0.78      0.74      3504\n",
      "           1       0.74      0.66      0.70      3432\n",
      "\n",
      "    accuracy                           0.72      6936\n",
      "   macro avg       0.72      0.72      0.72      6936\n",
      "weighted avg       0.72      0.72      0.72      6936\n",
      "\n"
     ]
    }
   ],
   "source": [
<<<<<<< HEAD
    "sample_weights = np.zeros(y_train.shape[0])\n",
    "sample_weights[np.where(y_train == 0)] = 1\n",
    "sample_weights[np.where(y_train == 1)] = 1\n",
    "\n",
    "# Create a Gaussian Naive Bayes Classifier object\n",
    "gnb = GaussianNB()\n",
    "\n",
    "gnb = CalibratedClassifierCV(gnb, method='isotonic')\n",
    "\n",
    "# Train the classifier\n",
    "gnb.fit(x_train , y_train, sample_weight=sample_weights)\n",
    "\n",
    "tabular_based_classifiers['GNB'] = gnb\n",
=======
    "# # Create a Gaussian Naive Bayes Classifier object\n",
    "# gnb = GaussianNB()\n",
    "# \n",
    "# # Train the classifier\n",
    "# gnb.fit(train_set.drop(columns=['_MICHD']), train_set['_MICHD'], sample_weight=cost_matrix)\n",
    "# \n",
    "# # Predict the response for test dataset\n",
    "# y_pred = gnb.predict(test_set.drop(columns=['_MICHD']))\n",
    "# \n",
    "# # Print the confusion matrix and a classification report\n",
    "# print('Confusion Matrix:')\n",
    "# print(confusion_matrix(test_set['_MICHD'], y_pred))\n",
    "# \n",
    "# print(classification_report(test_set['_MICHD'], y_pred))"
   ],
   "outputs": [],
   "execution_count": null
  },
  {
   "cell_type": "markdown",
   "metadata": {},
   "source": [
    "#### NB for non-split data"
   ]
  },
  {
   "cell_type": "code",
   "metadata": {},
   "source": [
    "# Split the balanced dataset to a set of training and testing samples \n",
    "x_train, x_test, y_train, y_test = train_test_split(SMOTE_data.drop(columns=['_MICHD']), SMOTE_data['_MICHD'], test_size=0.25, random_state=SEED)"
   ],
   "outputs": [],
   "execution_count": null
  },
  {
   "cell_type": "code",
   "source": [
    "from sklearn.model_selection import GridSearchCV\n",
    "from sklearn.naive_bayes import GaussianNB\n",
    "\n",
    "# Create a Gaussian Naive Bayes Classifier object\n",
    "gnb = GaussianNB()\n",
    "\n",
    "# Define a grid of parameters to search\n",
    "param_grid = {\n",
    "    'priors': [None, [0.5, 0.5], [0.3, 0.7], [0.7, 0.3]]  # Example priors to search\n",
    "}\n",
>>>>>>> origin/main
    "\n",
    "# Instantiate the grid search with the Gaussian Naive Bayes classifier\n",
    "grid_search = GridSearchCV(estimator=gnb, param_grid=param_grid, cv=5)\n",
    "\n",
    "# Fit the grid search to the data\n",
    "grid_search.fit(x_train, y_train)\n",
    "\n",
    "# Get the best parameters\n",
    "best_params = grid_search.best_params_\n",
    "\n",
    "# Use the best parameters to create a new Gaussian Naive Bayes classifier\n",
    "best_gnb = GaussianNB(**best_params)\n",
    "\n",
    "# Train the classifier with the best parameters\n",
    "best_gnb.fit(x_train, y_train)\n",
    "\n",
    "# Predict the response for the test dataset\n",
    "y_pred = best_gnb.predict(x_test)\n",
    "\n",
    "# Print the confusion matrix and a classification report\n",
    "print('Confusion Matrix:')\n",
    "print(confusion_matrix(y_test, y_pred))\n",
    "\n",
    "total_cost = np.sum(confusion_matrix(y_test, y_pred).T * cost_matrix)\n",
    "print(f\"\\nTotal Cost: {total_cost}\")\n",
    "\n",
    "print(classification_report(y_test, y_pred))"
   ]
=======
   "metadata": {
    "ExecuteTime": {
     "end_time": "2024-04-29T13:41:00.616733Z",
     "start_time": "2024-04-29T13:41:00.588585Z"
    }
   },
   "source": [
    "# # Create a Gaussian Naive Bayes Classifier object\n",
    "# gnb = GaussianNB()\n",
    "# \n",
    "# # Train the classifier\n",
    "# gnb.fit(train_set.drop(columns=['_MICHD']), train_set['_MICHD'], sample_weight=cost_matrix)\n",
    "# \n",
    "# # Predict the response for test dataset\n",
    "# y_pred = gnb.predict(test_set.drop(columns=['_MICHD']))\n",
    "# \n",
    "# # Print the confusion matrix and a classification report\n",
    "# print('Confusion Matrix:')\n",
    "# print(confusion_matrix(test_set['_MICHD'], y_pred))\n",
    "# \n",
    "# print(classification_report(test_set['_MICHD'], y_pred))"
   ],
   "outputs": [],
   "execution_count": 45
>>>>>>> origin/main
  },
  {
   "cell_type": "markdown",
   "metadata": {},
   "source": [
    "#### NB for oversampling"
   ]
  },
  {
   "cell_type": "code",
<<<<<<< HEAD
   "execution_count": null,
   "metadata": {},
   "outputs": [],
   "source": [
    "# Split the balanced dataset to a set of training and testing samples \n",
    "x_train, x_test, y_train, y_test = train_test_split(SMOTE_data.drop(columns=['_MICHD']), SMOTE_data['_MICHD'], test_size=0.25, random_state=SEED)"
   ]
=======
   "metadata": {
    "ExecuteTime": {
     "end_time": "2024-04-30T09:26:08.481764Z",
     "start_time": "2024-04-30T09:26:07.830703Z"
    }
   },
   "source": [
    "# Split the balanced dataset to a set of training and testing samples \n",
    "x_train, x_test, y_train, y_test = train_test_split(SMOTE_data.drop(columns=['_MICHD']), SMOTE_data['_MICHD'], test_size=0.25, random_state=SEED)"
   ],
   "outputs": [],
   "execution_count": 92
>>>>>>> origin/main
  },
  {
   "cell_type": "code",
   "execution_count": null,
   "metadata": {
    "collapsed": false
   },
   "outputs": [],
   "source": [
    "from sklearn.model_selection import GridSearchCV\n",
    "from sklearn.naive_bayes import GaussianNB\n",
    "\n",
    "# Create a Gaussian Naive Bayes Classifier object\n",
    "gnb = GaussianNB()\n",
    "\n",
    "# Define a grid of parameters to search\n",
    "param_grid = {\n",
    "    'priors': [None, [0.5, 0.5], [0.3, 0.7], [0.7, 0.3]]  # Example priors to search\n",
    "}\n",
    "\n",
    "# Instantiate the grid search with the Gaussian Naive Bayes classifier\n",
    "grid_search = GridSearchCV(estimator=gnb, param_grid=param_grid, cv=5)\n",
    "\n",
    "# Fit the grid search to the data\n",
    "grid_search.fit(x_train, y_train)\n",
    "\n",
    "# Get the best parameters\n",
    "best_params = grid_search.best_params_\n",
    "\n",
    "# Use the best parameters to create a new Gaussian Naive Bayes classifier\n",
    "best_gnb = GaussianNB(**best_params)\n",
    "\n",
    "# Train the classifier with the best parameters\n",
    "best_gnb.fit(x_train, y_train)\n",
    "\n",
    "# Predict the response for the test dataset\n",
    "y_pred = best_gnb.predict(x_test)\n",
    "\n",
    "# Print the confusion matrix and a classification report\n",
    "print('Confusion Matrix:')\n",
    "print(confusion_matrix(y_test, y_pred).T)\n",
    "\n",
    "total_cost = np.sum(confusion_matrix(y_test, y_pred).T * cost_matrix)\n",
    "print(f\"\\nTotal Cost: {total_cost}\")\n",
    "\n",
    "print(classification_report(y_test, y_pred, target_names=[\"Reported having MI or CHD\", \"Did not report having MI or CHD\"]))\n",
    "\n",
    "# Extract macro metrics from the classification report\n",
    "metrics_dict = classification_report(y_test, y_pred, target_names=[\"Reported having MI or CHD\", \"Did not report having MI or CHD\"], output_dict=True)['macro avg']\n",
    "\n",
    "if method==1:\n",
    "    BorderlineSMOTE_loss.loc['Total Cost baseline', 'GaussianNB'] = total_cost\n",
    "    BorderlineSMOTE_precision.loc['macro precision baseline', 'GaussianNB'] = metrics_dict['precision']\n",
    "    BorderlineSMOTE_recall.loc['macro recall baseline', 'GaussianNB'] = metrics_dict['recall']\n",
    "    BorderlineSMOTE_f1_score.loc['macro f1-score baseline', 'GaussianNB'] = metrics_dict['f1-score']\n",
    "elif method==2:\n",
    "    smote_tomek_loss.loc['Total Cost baseline', 'GaussianNB'] = total_cost\n",
    "    smote_tomek_precision.loc['macro precision baseline', 'GaussianNB'] = metrics_dict['precision']\n",
    "    smote_tomek_recall.loc['macro recall baseline', 'GaussianNB'] = metrics_dict['recall']\n",
    "    smote_tomek_f1_score.loc['macro f1-score baseline', 'GaussianNB'] = metrics_dict['f1-score']\n",
    "elif method==3:\n",
    "    adasyn_loss.loc['Total Cost baseline', 'GaussianNB'] = total_cost\n",
    "    adasyn_precision.loc['macro precision baseline', 'GaussianNB'] = metrics_dict['precision']\n",
    "    adasyn_recall.loc['macro recall baseline', 'GaussianNB'] = metrics_dict['recall']\n",
    "    adasyn_f1_score.loc['macro f1-score baseline', 'GaussianNB'] = metrics_dict['f1-score']\n",
    "else:\n",
<<<<<<< HEAD
<<<<<<< HEAD
    "    SMOTE_loss.loc['Total Cost baseline', 'Decision Tree'] = total_cost\n",
    "    SMOTE_precision.loc['macro precision baseline', 'Decision Tree'] = metrics_dict['precision']\n",
    "    SMOTE_recall.loc['macro recall baseline', 'Decision Tree'] = metrics_dict['recall']\n",
    "    SMOTE_f1_score.loc['macro f1-score baseline', 'Decision Tree'] = metrics_dict['f1-score']"
   ]
=======
    "    SMOTE_loss.loc['Total Cost baseline', 'GaussianNB'] = total_cost\n",
    "    SMOTE_precision.loc['macro precision baseline', 'GaussianNB'] = metrics_dict['precision']\n",
    "    SMOTE_recall.loc['macro recall baseline', 'GaussianNB'] = metrics_dict['recall']\n",
    "    SMOTE_f1_score.loc['macro f1-score baseline', 'GaussianNB'] = metrics_dict['f1-score']"
   ],
   "metadata": {
    "collapsed": false
   },
   "outputs": [],
   "execution_count": null
>>>>>>> origin/main
  },
  {
   "metadata": {},
   "cell_type": "code",
   "source": [
    "# # Get SHAP values\n",
    "# explainer = shap.Explainer(best_gnb, x_train)\n",
    "# shap_values = explainer(x_test)\n",
    "# \n",
    "# # Plot and save the SHAP summary plot\n",
    "# shap.summary_plot(shap_values, features=x_test, plot_type='bar', show=False)\n",
    "# plt.savefig('shap_summary_plot (best_gnb).png')  # Save the plot as PNG file\n",
    "# plt.show()  # Display the plot"
   ],
   "outputs": [],
   "execution_count": null
  },
  {
   "cell_type": "code",
   "execution_count": null,
   "metadata": {},
   "outputs": [],
=======
    "    SMOTE_loss.loc['Total Cost baseline', 'GaussianNB'] = total_cost\n",
    "    SMOTE_precision.loc['macro precision baseline', 'GaussianNB'] = metrics_dict['precision']\n",
    "    SMOTE_recall.loc['macro recall baseline', 'GaussianNB'] = metrics_dict['recall']\n",
    "    SMOTE_f1_score.loc['macro f1-score baseline', 'GaussianNB'] = metrics_dict['f1-score']"
   ],
   "metadata": {
    "collapsed": false,
    "ExecuteTime": {
     "end_time": "2024-04-30T09:26:20.287965Z",
     "start_time": "2024-04-30T09:26:08.486762Z"
    }
   },
   "outputs": [
    {
     "name": "stdout",
     "output_type": "stream",
     "text": [
      "Confusion Matrix:\n",
      "[[33537 14394]\n",
      " [ 5169 23756]]\n",
      "\n",
      "Total Cost: 8767.5\n",
      "                                 precision    recall  f1-score   support\n",
      "\n",
      "      Reported having MI or CHD       0.70      0.87      0.77     38706\n",
      "Did not report having MI or CHD       0.82      0.62      0.71     38150\n",
      "\n",
      "                       accuracy                           0.75     76856\n",
      "                      macro avg       0.76      0.74      0.74     76856\n",
      "                   weighted avg       0.76      0.75      0.74     76856\n",
      "\n"
     ]
    }
   ],
   "execution_count": 93
  },
  {
   "metadata": {
    "ExecuteTime": {
     "end_time": "2024-04-29T13:41:09.993872Z",
     "start_time": "2024-04-29T13:41:09.986628Z"
    }
   },
   "cell_type": "code",
   "source": [
    "# # Get SHAP values\n",
    "# explainer = shap.Explainer(best_gnb, x_train)\n",
    "# shap_values = explainer(x_test)\n",
    "# \n",
    "# # Plot and save the SHAP summary plot\n",
    "# shap.summary_plot(shap_values, features=x_test, plot_type='bar', show=False)\n",
    "# plt.savefig('shap_summary_plot (best_gnb).png')  # Save the plot as PNG file\n",
    "# plt.show()  # Display the plot"
   ],
   "outputs": [],
   "execution_count": 48
  },
  {
   "cell_type": "code",
   "metadata": {
    "ExecuteTime": {
     "end_time": "2024-04-30T09:26:21.289305Z",
     "start_time": "2024-04-30T09:26:20.294962Z"
    }
   },
>>>>>>> origin/main
   "source": [
    "sample_weights = np.zeros_like(y_train, dtype=float)\n",
    "sample_weights[y_train == 0] = cost_matrix[0][1]\n",
    "sample_weights[y_train == 1] = cost_matrix[1][0]\n",
    "\n",
    "# Create a Gaussian Naive Bayes Classifier object\n",
    "gnb = GaussianNB(**best_params)\n",
    "\n",
    "# Train the classifier\n",
    "gnb.fit(x_train , y_train, sample_weight=sample_weights)\n",
    "\n",
    "# Predict the response for test dataset\n",
    "y_pred = gnb.predict(x_test)\n",
    "\n",
    "# Print the confusion matrix and a classification report\n",
    "print('Confusion Matrix:')\n",
    "print(confusion_matrix(y_test, y_pred).T)\n",
    "\n",
    "total_cost = np.sum(confusion_matrix(y_test, y_pred).T * cost_matrix)\n",
    "print(f\"\\nTotal Cost: {total_cost}\") \n",
    "\n",
    "print(classification_report(y_test, y_pred, target_names=[\"Reported having MI or CHD\", \"Did not report having MI or CHD\"]))\n",
    "\n",
    "# Extract macro metrics from the classification report\n",
    "metrics_dict = classification_report(y_test, y_pred, target_names=[\"Reported having MI or CHD\", \"Did not report having MI or CHD\"], output_dict=True)['macro avg']\n",
    "\n",
    "if method==1:\n",
    "    BorderlineSMOTE_loss.loc['Total Cost weighting', 'GaussianNB'] = total_cost\n",
    "    BorderlineSMOTE_precision.loc['macro precision weighting', 'GaussianNB'] = metrics_dict['precision']\n",
    "    BorderlineSMOTE_recall.loc['macro recall weighting', 'GaussianNB'] = metrics_dict['recall']\n",
    "    BorderlineSMOTE_f1_score.loc['macro f1-score weighting', 'GaussianNB'] = metrics_dict['f1-score']\n",
    "elif method==2:\n",
    "    smote_tomek_loss.loc['Total Cost weighting', 'GaussianNB'] = total_cost\n",
    "    smote_tomek_precision.loc['macro precision weighting', 'GaussianNB'] = metrics_dict['precision']\n",
    "    smote_tomek_recall.loc['macro recall weighting', 'GaussianNB'] = metrics_dict['recall']\n",
    "    smote_tomek_f1_score.loc['macro f1-score weighting', 'GaussianNB'] = metrics_dict['f1-score']\n",
    "elif method==3:\n",
    "    adasyn_loss.loc['Total Cost weighting', 'GaussianNB'] = total_cost\n",
    "    adasyn_precision.loc['macro precision weighting', 'GaussianNB'] = metrics_dict['precision']\n",
    "    adasyn_recall.loc['macro recall weighting', 'GaussianNB'] = metrics_dict['recall']\n",
    "    adasyn_f1_score.loc['macro f1-score weighting', 'GaussianNB'] = metrics_dict['f1-score']\n",
    "else:\n",
<<<<<<< HEAD
<<<<<<< HEAD
    "    SMOTE_loss.loc['Total Cost weighting', 'Decision Tree'] = total_cost\n",
    "    SMOTE_precision.loc['macro precision weighting', 'Decision Tree'] = metrics_dict['precision']\n",
    "    SMOTE_recall.loc['macro recall weighting', 'Decision Tree'] = metrics_dict['recall']\n",
    "    SMOTE_f1_score.loc['macro f1-score weighting', 'Decision Tree'] = metrics_dict['f1-score']"
   ]
=======
=======
>>>>>>> origin/main
    "    SMOTE_loss.loc['Total Cost weighting', 'GaussianNB'] = total_cost\n",
    "    SMOTE_precision.loc['macro precision weighting', 'GaussianNB'] = metrics_dict['precision']\n",
    "    SMOTE_recall.loc['macro recall weighting', 'GaussianNB'] = metrics_dict['recall']\n",
    "    SMOTE_f1_score.loc['macro f1-score weighting', 'GaussianNB'] = metrics_dict['f1-score']"
   ],
   "outputs": [
    {
     "name": "stdout",
     "output_type": "stream",
     "text": [
      "Confusion Matrix:\n",
      "[[33537 14394]\n",
      " [ 5169 23756]]\n",
      "\n",
      "Total Cost: 8767.5\n",
      "                                 precision    recall  f1-score   support\n",
      "\n",
      "      Reported having MI or CHD       0.70      0.87      0.77     38706\n",
      "Did not report having MI or CHD       0.82      0.62      0.71     38150\n",
      "\n",
      "                       accuracy                           0.75     76856\n",
      "                      macro avg       0.76      0.74      0.74     76856\n",
      "                   weighted avg       0.76      0.75      0.74     76856\n",
      "\n"
     ]
    }
   ],
   "execution_count": 94
>>>>>>> origin/main
  },
  {
   "cell_type": "code",
   "execution_count": null,
   "metadata": {
    "collapsed": false
   },
   "outputs": [],
   "source": [
    "def predict(y_prob, cost_m):\n",
    "    t_BMR = (cost_m[1][0] - cost_m[1][1])/(cost_m[0][1] - cost_m[1][1] - cost_m[0][0] + cost_m[1][0])\n",
    "    y_pred = np.greater(y_prob[:, 1], t_BMR).astype(int)\n",
    "    \n",
    "    return y_pred\n",
    "\n",
    "from sklearn.calibration import CalibratedClassifierCV\n",
    "\n",
    "# Create a Gaussian Naive Bayes Classifier object\n",
    "gnb = CalibratedClassifierCV(GaussianNB(**best_params), method=\"isotonic\", cv=10)\n",
    "\n",
    "# Train the classifier\n",
    "gnb.fit(x_train , y_train)\n",
    "\n",
    "# Predict the response for test dataset\n",
    "y_prob = gnb.predict_proba(x_test)\n",
    "y_pred = predict(y_prob, cost_matrix)\n",
    "\n",
    "# Print the confusion matrix and a classification report\n",
    "print('Confusion Matrix:')\n",
    "print(confusion_matrix(y_test, y_pred).T)\n",
    "\n",
    "total_cost = np.sum(confusion_matrix(y_test, y_pred).T * cost_matrix)\n",
    "print(f\"\\nTotal Cost: {total_cost}\") \n",
    "\n",
    "print(classification_report(y_test, y_pred, target_names=[\"Reported having MI or CHD\", \"Did not report having MI or CHD\"]))\n",
    "\n",
    "# Extract macro metrics from the classification report\n",
    "metrics_dict = classification_report(y_test, y_pred, target_names=[\"Reported having MI or CHD\", \"Did not report having MI or CHD\"], output_dict=True)['macro avg']\n",
    "\n",
    "if method==1:\n",
    "    BorderlineSMOTE_loss.loc['Total Cost MEC', 'GaussianNB'] = total_cost\n",
    "    BorderlineSMOTE_precision.loc['macro precision MEC', 'GaussianNB'] = metrics_dict['precision']\n",
    "    BorderlineSMOTE_recall.loc['macro recall MEC', 'GaussianNB'] = metrics_dict['recall']\n",
    "    BorderlineSMOTE_f1_score.loc['macro f1-score MEC', 'GaussianNB'] = metrics_dict['f1-score']\n",
    "elif method==2:\n",
    "    smote_tomek_loss.loc['Total Cost MEC', 'GaussianNB'] = total_cost\n",
    "    smote_tomek_precision.loc['macro precision MEC', 'GaussianNB'] = metrics_dict['precision']\n",
    "    smote_tomek_recall.loc['macro recall MEC', 'GaussianNB'] = metrics_dict['recall']\n",
    "    smote_tomek_f1_score.loc['macro f1-score MEC', 'GaussianNB'] = metrics_dict['f1-score']\n",
    "elif method==3:\n",
    "    adasyn_loss.loc['Total Cost MEC', 'GaussianNB'] = total_cost\n",
    "    adasyn_precision.loc['macro precision MEC', 'GaussianNB'] = metrics_dict['precision']\n",
    "    adasyn_recall.loc['macro recall MEC', 'GaussianNB'] = metrics_dict['recall']\n",
    "    adasyn_f1_score.loc['macro f1-score MEC', 'GaussianNB'] = metrics_dict['f1-score']\n",
    "else:\n",
<<<<<<< HEAD
<<<<<<< HEAD
    "    SMOTE_loss.loc['Total Cost MEC', 'Decision Tree'] = total_cost\n",
    "    SMOTE_precision.loc['macro precision MEC', 'Decision Tree'] = metrics_dict['precision']\n",
    "    SMOTE_recall.loc['macro recall MEC', 'Decision Tree'] = metrics_dict['recall']\n",
    "    SMOTE_f1_score.loc['macro f1-score MEC', 'Decision Tree'] = metrics_dict['f1-score']"
   ]
=======
    "    SMOTE_loss.loc['Total Cost MEC', 'GaussianNB'] = total_cost\n",
    "    SMOTE_precision.loc['macro precision MEC', 'GaussianNB'] = metrics_dict['precision']\n",
    "    SMOTE_recall.loc['macro recall MEC', 'DeGaussianNB'] = metrics_dict['recall']\n",
=======
    "    SMOTE_loss.loc['Total Cost MEC', 'GaussianNB'] = total_cost\n",
    "    SMOTE_precision.loc['macro precision MEC', 'GaussianNB'] = metrics_dict['precision']\n",
    "    SMOTE_recall.loc['macro recall MEC', 'GaussianNB'] = metrics_dict['recall']\n",
>>>>>>> origin/main
    "    SMOTE_f1_score.loc['macro f1-score MEC', 'GaussianNB'] = metrics_dict['f1-score']"
   ],
   "metadata": {
    "collapsed": false,
    "ExecuteTime": {
     "end_time": "2024-04-30T09:26:29.331101Z",
     "start_time": "2024-04-30T09:26:21.293304Z"
    }
   },
   "outputs": [
    {
     "name": "stdout",
     "output_type": "stream",
     "text": [
      "Confusion Matrix:\n",
      "[[36823 21694]\n",
      " [ 1883 16456]]\n",
      "\n",
      "Total Cost: 7306.5\n",
      "                                 precision    recall  f1-score   support\n",
      "\n",
      "      Reported having MI or CHD       0.63      0.95      0.76     38706\n",
      "Did not report having MI or CHD       0.90      0.43      0.58     38150\n",
      "\n",
      "                       accuracy                           0.69     76856\n",
      "                      macro avg       0.76      0.69      0.67     76856\n",
      "                   weighted avg       0.76      0.69      0.67     76856\n",
      "\n"
     ]
    }
   ],
   "execution_count": 95
>>>>>>> origin/main
  },
  {
   "cell_type": "markdown",
   "metadata": {},
   "source": [
    "### ***Random Forests***"
   ]
  },
  {
   "cell_type": "markdown",
   "metadata": {},
   "source": [
    "#### RF for undersampling"
   ]
  },
  {
   "cell_type": "code",
<<<<<<< HEAD
   "execution_count": 29,
   "metadata": {},
   "outputs": [],
   "source": [
<<<<<<< HEAD
    "param_grid = {\n",
    "    'n_estimators': [100, 200, 300],\n",
    "    'max_depth': [None, 10, 20]\n",
    "}\n",
    "\n",
    "rf_classifier = RandomForestClassifier(random_state=SEED)\n",
    "\n",
    "grid_search = GridSearchCV(estimator=rf_classifier, param_grid=param_grid, n_jobs=4)"
   ]
  },
  {
   "cell_type": "code",
   "execution_count": 30,
   "metadata": {},
   "outputs": [
    {
     "data": {
      "text/html": [
       "<style>#sk-container-id-2 {\n",
       "  /* Definition of color scheme common for light and dark mode */\n",
       "  --sklearn-color-text: black;\n",
       "  --sklearn-color-line: gray;\n",
       "  /* Definition of color scheme for unfitted estimators */\n",
       "  --sklearn-color-unfitted-level-0: #fff5e6;\n",
       "  --sklearn-color-unfitted-level-1: #f6e4d2;\n",
       "  --sklearn-color-unfitted-level-2: #ffe0b3;\n",
       "  --sklearn-color-unfitted-level-3: chocolate;\n",
       "  /* Definition of color scheme for fitted estimators */\n",
       "  --sklearn-color-fitted-level-0: #f0f8ff;\n",
       "  --sklearn-color-fitted-level-1: #d4ebff;\n",
       "  --sklearn-color-fitted-level-2: #b3dbfd;\n",
       "  --sklearn-color-fitted-level-3: cornflowerblue;\n",
       "\n",
       "  /* Specific color for light theme */\n",
       "  --sklearn-color-text-on-default-background: var(--sg-text-color, var(--theme-code-foreground, var(--jp-content-font-color1, black)));\n",
       "  --sklearn-color-background: var(--sg-background-color, var(--theme-background, var(--jp-layout-color0, white)));\n",
       "  --sklearn-color-border-box: var(--sg-text-color, var(--theme-code-foreground, var(--jp-content-font-color1, black)));\n",
       "  --sklearn-color-icon: #696969;\n",
       "\n",
       "  @media (prefers-color-scheme: dark) {\n",
       "    /* Redefinition of color scheme for dark theme */\n",
       "    --sklearn-color-text-on-default-background: var(--sg-text-color, var(--theme-code-foreground, var(--jp-content-font-color1, white)));\n",
       "    --sklearn-color-background: var(--sg-background-color, var(--theme-background, var(--jp-layout-color0, #111)));\n",
       "    --sklearn-color-border-box: var(--sg-text-color, var(--theme-code-foreground, var(--jp-content-font-color1, white)));\n",
       "    --sklearn-color-icon: #878787;\n",
       "  }\n",
       "}\n",
       "\n",
       "#sk-container-id-2 {\n",
       "  color: var(--sklearn-color-text);\n",
       "}\n",
       "\n",
       "#sk-container-id-2 pre {\n",
       "  padding: 0;\n",
       "}\n",
       "\n",
       "#sk-container-id-2 input.sk-hidden--visually {\n",
       "  border: 0;\n",
       "  clip: rect(1px 1px 1px 1px);\n",
       "  clip: rect(1px, 1px, 1px, 1px);\n",
       "  height: 1px;\n",
       "  margin: -1px;\n",
       "  overflow: hidden;\n",
       "  padding: 0;\n",
       "  position: absolute;\n",
       "  width: 1px;\n",
       "}\n",
       "\n",
       "#sk-container-id-2 div.sk-dashed-wrapped {\n",
       "  border: 1px dashed var(--sklearn-color-line);\n",
       "  margin: 0 0.4em 0.5em 0.4em;\n",
       "  box-sizing: border-box;\n",
       "  padding-bottom: 0.4em;\n",
       "  background-color: var(--sklearn-color-background);\n",
       "}\n",
       "\n",
       "#sk-container-id-2 div.sk-container {\n",
       "  /* jupyter's `normalize.less` sets `[hidden] { display: none; }`\n",
       "     but bootstrap.min.css set `[hidden] { display: none !important; }`\n",
       "     so we also need the `!important` here to be able to override the\n",
       "     default hidden behavior on the sphinx rendered scikit-learn.org.\n",
       "     See: https://github.com/scikit-learn/scikit-learn/issues/21755 */\n",
       "  display: inline-block !important;\n",
       "  position: relative;\n",
       "}\n",
       "\n",
       "#sk-container-id-2 div.sk-text-repr-fallback {\n",
       "  display: none;\n",
       "}\n",
       "\n",
       "div.sk-parallel-item,\n",
       "div.sk-serial,\n",
       "div.sk-item {\n",
       "  /* draw centered vertical line to link estimators */\n",
       "  background-image: linear-gradient(var(--sklearn-color-text-on-default-background), var(--sklearn-color-text-on-default-background));\n",
       "  background-size: 2px 100%;\n",
       "  background-repeat: no-repeat;\n",
       "  background-position: center center;\n",
       "}\n",
       "\n",
       "/* Parallel-specific style estimator block */\n",
       "\n",
       "#sk-container-id-2 div.sk-parallel-item::after {\n",
       "  content: \"\";\n",
       "  width: 100%;\n",
       "  border-bottom: 2px solid var(--sklearn-color-text-on-default-background);\n",
       "  flex-grow: 1;\n",
       "}\n",
       "\n",
       "#sk-container-id-2 div.sk-parallel {\n",
       "  display: flex;\n",
       "  align-items: stretch;\n",
       "  justify-content: center;\n",
       "  background-color: var(--sklearn-color-background);\n",
       "  position: relative;\n",
       "}\n",
       "\n",
       "#sk-container-id-2 div.sk-parallel-item {\n",
       "  display: flex;\n",
       "  flex-direction: column;\n",
       "}\n",
       "\n",
       "#sk-container-id-2 div.sk-parallel-item:first-child::after {\n",
       "  align-self: flex-end;\n",
       "  width: 50%;\n",
       "}\n",
       "\n",
       "#sk-container-id-2 div.sk-parallel-item:last-child::after {\n",
       "  align-self: flex-start;\n",
       "  width: 50%;\n",
       "}\n",
       "\n",
       "#sk-container-id-2 div.sk-parallel-item:only-child::after {\n",
       "  width: 0;\n",
       "}\n",
       "\n",
       "/* Serial-specific style estimator block */\n",
       "\n",
       "#sk-container-id-2 div.sk-serial {\n",
       "  display: flex;\n",
       "  flex-direction: column;\n",
       "  align-items: center;\n",
       "  background-color: var(--sklearn-color-background);\n",
       "  padding-right: 1em;\n",
       "  padding-left: 1em;\n",
       "}\n",
       "\n",
       "\n",
       "/* Toggleable style: style used for estimator/Pipeline/ColumnTransformer box that is\n",
       "clickable and can be expanded/collapsed.\n",
       "- Pipeline and ColumnTransformer use this feature and define the default style\n",
       "- Estimators will overwrite some part of the style using the `sk-estimator` class\n",
       "*/\n",
       "\n",
       "/* Pipeline and ColumnTransformer style (default) */\n",
       "\n",
       "#sk-container-id-2 div.sk-toggleable {\n",
       "  /* Default theme specific background. It is overwritten whether we have a\n",
       "  specific estimator or a Pipeline/ColumnTransformer */\n",
       "  background-color: var(--sklearn-color-background);\n",
       "}\n",
       "\n",
       "/* Toggleable label */\n",
       "#sk-container-id-2 label.sk-toggleable__label {\n",
       "  cursor: pointer;\n",
       "  display: block;\n",
       "  width: 100%;\n",
       "  margin-bottom: 0;\n",
       "  padding: 0.5em;\n",
       "  box-sizing: border-box;\n",
       "  text-align: center;\n",
       "}\n",
       "\n",
       "#sk-container-id-2 label.sk-toggleable__label-arrow:before {\n",
       "  /* Arrow on the left of the label */\n",
       "  content: \"▸\";\n",
       "  float: left;\n",
       "  margin-right: 0.25em;\n",
       "  color: var(--sklearn-color-icon);\n",
       "}\n",
       "\n",
       "#sk-container-id-2 label.sk-toggleable__label-arrow:hover:before {\n",
       "  color: var(--sklearn-color-text);\n",
       "}\n",
       "\n",
       "/* Toggleable content - dropdown */\n",
       "\n",
       "#sk-container-id-2 div.sk-toggleable__content {\n",
       "  max-height: 0;\n",
       "  max-width: 0;\n",
       "  overflow: hidden;\n",
       "  text-align: left;\n",
       "  /* unfitted */\n",
       "  background-color: var(--sklearn-color-unfitted-level-0);\n",
       "}\n",
       "\n",
       "#sk-container-id-2 div.sk-toggleable__content.fitted {\n",
       "  /* fitted */\n",
       "  background-color: var(--sklearn-color-fitted-level-0);\n",
       "}\n",
       "\n",
       "#sk-container-id-2 div.sk-toggleable__content pre {\n",
       "  margin: 0.2em;\n",
       "  border-radius: 0.25em;\n",
       "  color: var(--sklearn-color-text);\n",
       "  /* unfitted */\n",
       "  background-color: var(--sklearn-color-unfitted-level-0);\n",
       "}\n",
       "\n",
       "#sk-container-id-2 div.sk-toggleable__content.fitted pre {\n",
       "  /* unfitted */\n",
       "  background-color: var(--sklearn-color-fitted-level-0);\n",
       "}\n",
       "\n",
       "#sk-container-id-2 input.sk-toggleable__control:checked~div.sk-toggleable__content {\n",
       "  /* Expand drop-down */\n",
       "  max-height: 200px;\n",
       "  max-width: 100%;\n",
       "  overflow: auto;\n",
       "}\n",
       "\n",
       "#sk-container-id-2 input.sk-toggleable__control:checked~label.sk-toggleable__label-arrow:before {\n",
       "  content: \"▾\";\n",
       "}\n",
       "\n",
       "/* Pipeline/ColumnTransformer-specific style */\n",
       "\n",
       "#sk-container-id-2 div.sk-label input.sk-toggleable__control:checked~label.sk-toggleable__label {\n",
       "  color: var(--sklearn-color-text);\n",
       "  background-color: var(--sklearn-color-unfitted-level-2);\n",
       "}\n",
       "\n",
       "#sk-container-id-2 div.sk-label.fitted input.sk-toggleable__control:checked~label.sk-toggleable__label {\n",
       "  background-color: var(--sklearn-color-fitted-level-2);\n",
       "}\n",
       "\n",
       "/* Estimator-specific style */\n",
       "\n",
       "/* Colorize estimator box */\n",
       "#sk-container-id-2 div.sk-estimator input.sk-toggleable__control:checked~label.sk-toggleable__label {\n",
       "  /* unfitted */\n",
       "  background-color: var(--sklearn-color-unfitted-level-2);\n",
       "}\n",
       "\n",
       "#sk-container-id-2 div.sk-estimator.fitted input.sk-toggleable__control:checked~label.sk-toggleable__label {\n",
       "  /* fitted */\n",
       "  background-color: var(--sklearn-color-fitted-level-2);\n",
       "}\n",
       "\n",
       "#sk-container-id-2 div.sk-label label.sk-toggleable__label,\n",
       "#sk-container-id-2 div.sk-label label {\n",
       "  /* The background is the default theme color */\n",
       "  color: var(--sklearn-color-text-on-default-background);\n",
       "}\n",
       "\n",
       "/* On hover, darken the color of the background */\n",
       "#sk-container-id-2 div.sk-label:hover label.sk-toggleable__label {\n",
       "  color: var(--sklearn-color-text);\n",
       "  background-color: var(--sklearn-color-unfitted-level-2);\n",
       "}\n",
       "\n",
       "/* Label box, darken color on hover, fitted */\n",
       "#sk-container-id-2 div.sk-label.fitted:hover label.sk-toggleable__label.fitted {\n",
       "  color: var(--sklearn-color-text);\n",
       "  background-color: var(--sklearn-color-fitted-level-2);\n",
       "}\n",
       "\n",
       "/* Estimator label */\n",
       "\n",
       "#sk-container-id-2 div.sk-label label {\n",
       "  font-family: monospace;\n",
       "  font-weight: bold;\n",
       "  display: inline-block;\n",
       "  line-height: 1.2em;\n",
       "}\n",
       "\n",
       "#sk-container-id-2 div.sk-label-container {\n",
       "  text-align: center;\n",
       "}\n",
       "\n",
       "/* Estimator-specific */\n",
       "#sk-container-id-2 div.sk-estimator {\n",
       "  font-family: monospace;\n",
       "  border: 1px dotted var(--sklearn-color-border-box);\n",
       "  border-radius: 0.25em;\n",
       "  box-sizing: border-box;\n",
       "  margin-bottom: 0.5em;\n",
       "  /* unfitted */\n",
       "  background-color: var(--sklearn-color-unfitted-level-0);\n",
       "}\n",
       "\n",
       "#sk-container-id-2 div.sk-estimator.fitted {\n",
       "  /* fitted */\n",
       "  background-color: var(--sklearn-color-fitted-level-0);\n",
       "}\n",
       "\n",
       "/* on hover */\n",
       "#sk-container-id-2 div.sk-estimator:hover {\n",
       "  /* unfitted */\n",
       "  background-color: var(--sklearn-color-unfitted-level-2);\n",
       "}\n",
       "\n",
       "#sk-container-id-2 div.sk-estimator.fitted:hover {\n",
       "  /* fitted */\n",
       "  background-color: var(--sklearn-color-fitted-level-2);\n",
       "}\n",
       "\n",
       "/* Specification for estimator info (e.g. \"i\" and \"?\") */\n",
       "\n",
       "/* Common style for \"i\" and \"?\" */\n",
       "\n",
       ".sk-estimator-doc-link,\n",
       "a:link.sk-estimator-doc-link,\n",
       "a:visited.sk-estimator-doc-link {\n",
       "  float: right;\n",
       "  font-size: smaller;\n",
       "  line-height: 1em;\n",
       "  font-family: monospace;\n",
       "  background-color: var(--sklearn-color-background);\n",
       "  border-radius: 1em;\n",
       "  height: 1em;\n",
       "  width: 1em;\n",
       "  text-decoration: none !important;\n",
       "  margin-left: 1ex;\n",
       "  /* unfitted */\n",
       "  border: var(--sklearn-color-unfitted-level-1) 1pt solid;\n",
       "  color: var(--sklearn-color-unfitted-level-1);\n",
       "}\n",
       "\n",
       ".sk-estimator-doc-link.fitted,\n",
       "a:link.sk-estimator-doc-link.fitted,\n",
       "a:visited.sk-estimator-doc-link.fitted {\n",
       "  /* fitted */\n",
       "  border: var(--sklearn-color-fitted-level-1) 1pt solid;\n",
       "  color: var(--sklearn-color-fitted-level-1);\n",
       "}\n",
       "\n",
       "/* On hover */\n",
       "div.sk-estimator:hover .sk-estimator-doc-link:hover,\n",
       ".sk-estimator-doc-link:hover,\n",
       "div.sk-label-container:hover .sk-estimator-doc-link:hover,\n",
       ".sk-estimator-doc-link:hover {\n",
       "  /* unfitted */\n",
       "  background-color: var(--sklearn-color-unfitted-level-3);\n",
       "  color: var(--sklearn-color-background);\n",
       "  text-decoration: none;\n",
       "}\n",
       "\n",
       "div.sk-estimator.fitted:hover .sk-estimator-doc-link.fitted:hover,\n",
       ".sk-estimator-doc-link.fitted:hover,\n",
       "div.sk-label-container:hover .sk-estimator-doc-link.fitted:hover,\n",
       ".sk-estimator-doc-link.fitted:hover {\n",
       "  /* fitted */\n",
       "  background-color: var(--sklearn-color-fitted-level-3);\n",
       "  color: var(--sklearn-color-background);\n",
       "  text-decoration: none;\n",
       "}\n",
       "\n",
       "/* Span, style for the box shown on hovering the info icon */\n",
       ".sk-estimator-doc-link span {\n",
       "  display: none;\n",
       "  z-index: 9999;\n",
       "  position: relative;\n",
       "  font-weight: normal;\n",
       "  right: .2ex;\n",
       "  padding: .5ex;\n",
       "  margin: .5ex;\n",
       "  width: min-content;\n",
       "  min-width: 20ex;\n",
       "  max-width: 50ex;\n",
       "  color: var(--sklearn-color-text);\n",
       "  box-shadow: 2pt 2pt 4pt #999;\n",
       "  /* unfitted */\n",
       "  background: var(--sklearn-color-unfitted-level-0);\n",
       "  border: .5pt solid var(--sklearn-color-unfitted-level-3);\n",
       "}\n",
       "\n",
       ".sk-estimator-doc-link.fitted span {\n",
       "  /* fitted */\n",
       "  background: var(--sklearn-color-fitted-level-0);\n",
       "  border: var(--sklearn-color-fitted-level-3);\n",
       "}\n",
       "\n",
       ".sk-estimator-doc-link:hover span {\n",
       "  display: block;\n",
       "}\n",
       "\n",
       "/* \"?\"-specific style due to the `<a>` HTML tag */\n",
       "\n",
       "#sk-container-id-2 a.estimator_doc_link {\n",
       "  float: right;\n",
       "  font-size: 1rem;\n",
       "  line-height: 1em;\n",
       "  font-family: monospace;\n",
       "  background-color: var(--sklearn-color-background);\n",
       "  border-radius: 1rem;\n",
       "  height: 1rem;\n",
       "  width: 1rem;\n",
       "  text-decoration: none;\n",
       "  /* unfitted */\n",
       "  color: var(--sklearn-color-unfitted-level-1);\n",
       "  border: var(--sklearn-color-unfitted-level-1) 1pt solid;\n",
       "}\n",
       "\n",
       "#sk-container-id-2 a.estimator_doc_link.fitted {\n",
       "  /* fitted */\n",
       "  border: var(--sklearn-color-fitted-level-1) 1pt solid;\n",
       "  color: var(--sklearn-color-fitted-level-1);\n",
       "}\n",
       "\n",
       "/* On hover */\n",
       "#sk-container-id-2 a.estimator_doc_link:hover {\n",
       "  /* unfitted */\n",
       "  background-color: var(--sklearn-color-unfitted-level-3);\n",
       "  color: var(--sklearn-color-background);\n",
       "  text-decoration: none;\n",
       "}\n",
       "\n",
       "#sk-container-id-2 a.estimator_doc_link.fitted:hover {\n",
       "  /* fitted */\n",
       "  background-color: var(--sklearn-color-fitted-level-3);\n",
       "}\n",
       "</style><div id=\"sk-container-id-2\" class=\"sk-top-container\"><div class=\"sk-text-repr-fallback\"><pre>GridSearchCV(estimator=RandomForestClassifier(random_state=42), n_jobs=4,\n",
       "             param_grid={&#x27;max_depth&#x27;: [None, 10, 20],\n",
       "                         &#x27;n_estimators&#x27;: [100, 200, 300]})</pre><b>In a Jupyter environment, please rerun this cell to show the HTML representation or trust the notebook. <br />On GitHub, the HTML representation is unable to render, please try loading this page with nbviewer.org.</b></div><div class=\"sk-container\" hidden><div class=\"sk-item sk-dashed-wrapped\"><div class=\"sk-label-container\"><div class=\"sk-label fitted sk-toggleable\"><input class=\"sk-toggleable__control sk-hidden--visually\" id=\"sk-estimator-id-4\" type=\"checkbox\" ><label for=\"sk-estimator-id-4\" class=\"sk-toggleable__label fitted sk-toggleable__label-arrow fitted\">&nbsp;&nbsp;GridSearchCV<a class=\"sk-estimator-doc-link fitted\" rel=\"noreferrer\" target=\"_blank\" href=\"https://scikit-learn.org/1.4/modules/generated/sklearn.model_selection.GridSearchCV.html\">?<span>Documentation for GridSearchCV</span></a><span class=\"sk-estimator-doc-link fitted\">i<span>Fitted</span></span></label><div class=\"sk-toggleable__content fitted\"><pre>GridSearchCV(estimator=RandomForestClassifier(random_state=42), n_jobs=4,\n",
       "             param_grid={&#x27;max_depth&#x27;: [None, 10, 20],\n",
       "                         &#x27;n_estimators&#x27;: [100, 200, 300]})</pre></div> </div></div><div class=\"sk-parallel\"><div class=\"sk-parallel-item\"><div class=\"sk-item\"><div class=\"sk-label-container\"><div class=\"sk-label fitted sk-toggleable\"><input class=\"sk-toggleable__control sk-hidden--visually\" id=\"sk-estimator-id-5\" type=\"checkbox\" ><label for=\"sk-estimator-id-5\" class=\"sk-toggleable__label fitted sk-toggleable__label-arrow fitted\">estimator: RandomForestClassifier</label><div class=\"sk-toggleable__content fitted\"><pre>RandomForestClassifier(random_state=42)</pre></div> </div></div><div class=\"sk-serial\"><div class=\"sk-item\"><div class=\"sk-estimator fitted sk-toggleable\"><input class=\"sk-toggleable__control sk-hidden--visually\" id=\"sk-estimator-id-6\" type=\"checkbox\" ><label for=\"sk-estimator-id-6\" class=\"sk-toggleable__label fitted sk-toggleable__label-arrow fitted\">&nbsp;RandomForestClassifier<a class=\"sk-estimator-doc-link fitted\" rel=\"noreferrer\" target=\"_blank\" href=\"https://scikit-learn.org/1.4/modules/generated/sklearn.ensemble.RandomForestClassifier.html\">?<span>Documentation for RandomForestClassifier</span></a></label><div class=\"sk-toggleable__content fitted\"><pre>RandomForestClassifier(random_state=42)</pre></div> </div></div></div></div></div></div></div></div></div>"
      ],
      "text/plain": [
       "GridSearchCV(estimator=RandomForestClassifier(random_state=42), n_jobs=4,\n",
       "             param_grid={'max_depth': [None, 10, 20],\n",
       "                         'n_estimators': [100, 200, 300]})"
      ]
     },
     "execution_count": 30,
     "metadata": {},
     "output_type": "execute_result"
    }
   ],
   "source": [
    "grid_search.fit(x_train, y_train)"
   ]
  },
  {
   "cell_type": "code",
   "execution_count": 31,
   "metadata": {},
   "outputs": [
    {
     "name": "stdout",
     "output_type": "stream",
     "text": [
      "Best Parameters: {'max_depth': 10, 'n_estimators': 100}\n",
      "Classification Report:\n",
      "              precision    recall  f1-score   support\n",
      "\n",
      "           0       0.74      0.82      0.78      3504\n",
      "           1       0.79      0.70      0.75      3432\n",
      "\n",
      "    accuracy                           0.76      6936\n",
      "   macro avg       0.77      0.76      0.76      6936\n",
      "weighted avg       0.77      0.76      0.76      6936\n",
      "\n",
      "Confusion Matrix:\n",
      "[[2879  625]\n",
      " [1018 2414]]\n",
      "Total Cost: 1643\n"
     ]
    }
   ],
   "source": [
    "# Get the best parameters from the random search\n",
    "best_params = grid_search.best_params_\n",
    "\n",
    "# Print the best parameters\n",
    "print(\"Best Parameters:\", best_params)\n",
    "\n",
    "# Get the best estimator (Random Forest classifier with the best parameters)\n",
    "best_rf_classifier = grid_search.best_estimator_\n",
    "\n",
    "best_rf_classifier = CalibratedClassifierCV(best_rf_classifier, method='isotonic')\n",
    "\n",
    "# Train the best classifier on the entire dataset\n",
    "best_rf_classifier.fit(x_train, y_train)\n",
    "\n",
    "tabular_based_classifiers['RF'] = best_rf_classifier\n",
    "\n",
    "# Use the best estimator to make predictions\n",
    "y_pred = best_rf_classifier.predict(x_test)\n",
    "\n",
    "# Print the classification report\n",
    "print(\"Classification Report:\")\n",
    "print(classification_report(y_test, y_pred))\n",
    "\n",
    "# Print the confusion matrix\n",
    "print(\"Confusion Matrix:\")\n",
    "print(confusion_matrix(y_test, y_pred))\n",
    "\n",
    "# Calculate the total cost based on the cost matrix\n",
    "total_cost = np.sum(confusion_matrix(y_test, y_pred).T * cost_matrix)\n",
    "print(\"Total Cost:\", total_cost)"
   ]
=======
   "metadata": {
    "ExecuteTime": {
     "end_time": "2024-04-29T13:41:17.033253Z",
     "start_time": "2024-04-29T13:41:17.029633Z"
    }
   },
   "source": [
=======
>>>>>>> origin/main
    "# # Create a Random Forests Classifier object\n",
    "# rf_classifier = RandomForestClassifier(n_estimators=393, max_depth=16)\n",
    "# \n",
    "# # Train the classifier\n",
    "# rf_classifier.fit(train_set.drop(columns=['_MICHD']), train_set['_MICHD'], sample_weight=cost_matrix)\n",
    "# \n",
    "# # Predict the response for test dataset\n",
    "# y_pred = rf_classifier.predict(test_set.drop(columns=['_MICHD']))\n",
    "# \n",
    "# # Print the confusion matrix and a classification report\n",
    "# print('Confusion Matrix:')\n",
    "# print(confusion_matrix(test_set['_MICHD'], y_pred))\n",
    "# \n",
    "# print(classification_report(test_set['_MICHD'], y_pred))"
   ],
   "outputs": [],
   "execution_count": 51
>>>>>>> origin/main
  },
  {
   "cell_type": "markdown",
   "metadata": {},
   "source": [
    "#### RF for oversampling"
   ]
  },
  {
   "cell_type": "code",
<<<<<<< HEAD
   "execution_count": null,
   "metadata": {},
   "outputs": [],
   "source": [
    "# Split the balanced dataset to a set of training and testing samples \n",
    "x_train, x_test, y_train, y_test = train_test_split(SMOTE_data.drop(columns=['_MICHD']), SMOTE_data['_MICHD'], test_size=0.25, random_state=SEED)"
   ]
=======
   "metadata": {
    "ExecuteTime": {
     "end_time": "2024-04-29T13:41:17.283246Z",
     "start_time": "2024-04-29T13:41:17.034250Z"
    }
   },
   "source": [
    "# Split the balanced dataset to a set of training and testing samples \n",
    "x_train, x_test, y_train, y_test = train_test_split(SMOTE_data.drop(columns=['_MICHD']), SMOTE_data['_MICHD'], test_size=0.25, random_state=SEED)"
   ],
   "outputs": [],
   "execution_count": 52
  },
  {
   "metadata": {
    "jupyter": {
     "is_executing": true
    },
    "ExecuteTime": {
     "start_time": "2024-04-30T19:14:03.467331Z"
    }
   },
   "cell_type": "code",
   "source": [
    "from sklearn.model_selection import GridSearchCV\n",
    "\n",
    "# Define the parameter grid to search\n",
    "param_grid = {\n",
    "    'n_estimators': [100, 200, 300, 400],  # Example values, adjust as needed\n",
    "    'max_depth': [10, 20, 30, None]  # Example values, adjust as needed\n",
    "}\n",
    "\n",
    "# Create a Random Forest Classifier object\n",
    "rf_classifier = RandomForestClassifier(random_state=SEED)\n",
    "\n",
    "# Instantiate the GridSearchCV object\n",
    "grid_search = GridSearchCV(rf_classifier, param_grid, cv=5, scoring='accuracy')\n",
    "\n",
    "# Fit the grid search to the data\n",
    "grid_search.fit(x_train, y_train)\n",
    "\n",
    "# Print the best parameters found\n",
    "print(\"Best Parameters:\", grid_search.best_params_)\n",
    "\n",
    "# Use the best estimator to make predictions\n",
    "best_rf_classifier = grid_search.best_estimator_\n",
    "y_pred = best_rf_classifier.predict(x_test)\n",
    "\n",
    "# Print the confusion matrix and a classification report\n",
    "print('Confusion Matrix:')\n",
    "print(confusion_matrix(y_test, y_pred).T)\n",
    "\n",
    "total_cost = np.sum(confusion_matrix(y_test, y_pred).T * cost_matrix)\n",
    "print(f\"\\nTotal Cost: {total_cost}\")\n",
    "\n",
    "print(classification_report(y_test, y_pred, target_names=[\"Reported having MI or CHD\", \"Did not report having MI or CHD\"]))\n",
    "\n",
    "# Extract macro metrics from the classification report\n",
    "metrics_dict = classification_report(y_test, y_pred, target_names=[\"Reported having MI or CHD\", \"Did not report having MI or CHD\"], output_dict=True)['macro avg']\n",
    "\n",
    "if method==1:\n",
    "    BorderlineSMOTE_loss.loc['Total Cost baseline', 'Random Forests'] = total_cost\n",
    "    BorderlineSMOTE_precision.loc['macro precision baseline', 'Random Forests'] = metrics_dict['precision']\n",
    "    BorderlineSMOTE_recall.loc['macro recall baseline', 'Random Forests'] = metrics_dict['recall']\n",
    "    BorderlineSMOTE_f1_score.loc['macro f1-score baseline', 'Random Forests'] = metrics_dict['f1-score']\n",
    "elif method==2:\n",
    "    smote_tomek_loss.loc['Total Cost baseline', 'Random Forests'] = total_cost\n",
    "    smote_tomek_precision.loc['macro precision baseline', 'Random Forests'] = metrics_dict['precision']\n",
    "    smote_tomek_recall.loc['macro recall baseline', 'Random Forests'] = metrics_dict['recall']\n",
    "    smote_tomek_f1_score.loc['macro f1-score baseline', 'Random Forests'] = metrics_dict['f1-score']\n",
    "elif method==3:\n",
    "    adasyn_loss.loc['Total Cost baseline', 'Random Forests'] = total_cost\n",
    "    adasyn_precision.loc['macro precision baseline', 'Random Forests'] = metrics_dict['precision']\n",
    "    adasyn_recall.loc['macro recall baseline', 'Random Forests'] = metrics_dict['recall']\n",
    "    adasyn_f1_score.loc['macro f1-score baseline', 'Random Forests'] = metrics_dict['f1-score']\n",
    "else:\n",
    "    SMOTE_loss.loc['Total Cost baseline', 'Random Forests'] = total_cost\n",
    "    SMOTE_precision.loc['macro precision baseline', 'Random Forests'] = metrics_dict['precision']\n",
    "    SMOTE_recall.loc['macro recall baseline', 'Random Forests'] = metrics_dict['recall']\n",
    "    SMOTE_f1_score.loc['macro f1-score baseline', 'Random Forests'] = metrics_dict['f1-score']"
   ],
   "outputs": [],
   "execution_count": null
>>>>>>> origin/main
  },
  {
   "metadata": {},
   "cell_type": "code",
   "outputs": [],
   "execution_count": null,
   "source": ""
  },
  {
   "metadata": {
    "ExecuteTime": {
     "end_time": "2024-04-29T15:49:18.586129Z",
     "start_time": "2024-04-29T15:49:18.575409Z"
    }
   },
   "cell_type": "code",
   "source": [
    "# import matplotlib.pyplot as plt\n",
    "# \n",
    "# # Extract feature importances from the best classifier\n",
    "# feature_importances = best_rf_classifier.feature_importances_\n",
    "# \n",
    "# # Get the names of the features\n",
    "# feature_names = x_train.columns  # Assuming x_train is a DataFrame\n",
    "# \n",
    "# # Sort feature importances in descending order\n",
    "# indices = np.argsort(feature_importances)[::-1]\n",
    "# \n",
    "# # Plot the feature importances\n",
    "# plt.figure(figsize=(10, 6))\n",
    "# plt.title(\"Feature Importances\")\n",
    "# plt.bar(range(x_train.shape[1]), feature_importances[indices], color=\"b\", align=\"center\")\n",
    "# plt.xticks(range(x_train.shape[1]), [feature_names[i] for i in indices], rotation=90)\n",
    "# plt.xlim([-1, x_train.shape[1]])\n",
    "# plt.tight_layout()\n",
    "# \n",
    "# # Save the plot as an image file\n",
    "# plt.savefig(\"feature_importance_plot (RandomForestClassifier).png\")\n",
    "# \n",
    "# plt.show()"
   ],
   "outputs": [],
   "execution_count": 54
  },
  {
   "metadata": {},
   "cell_type": "code",
   "source": [
    "from sklearn.model_selection import GridSearchCV\n",
    "\n",
    "# Define the parameter grid to search\n",
    "param_grid = {\n",
    "    'n_estimators': [100, 200, 300, 400],  # Example values, adjust as needed\n",
    "    'max_depth': [10, 20, 30, None]  # Example values, adjust as needed\n",
    "}\n",
    "\n",
    "# Create a Random Forest Classifier object\n",
    "rf_classifier = RandomForestClassifier(random_state=SEED)\n",
    "\n",
    "# Instantiate the GridSearchCV object\n",
    "grid_search = GridSearchCV(rf_classifier, param_grid, cv=5, scoring='accuracy')\n",
    "\n",
    "# Fit the grid search to the data\n",
    "grid_search.fit(x_train, y_train)\n",
    "\n",
    "# Print the best parameters found\n",
    "print(\"Best Parameters:\", grid_search.best_params_)\n",
    "\n",
    "# Use the best estimator to make predictions\n",
    "best_rf_classifier = grid_search.best_estimator_\n",
    "y_pred = best_rf_classifier.predict(x_test)\n",
    "\n",
    "# Print the confusion matrix and a classification report\n",
    "print('Confusion Matrix:')\n",
    "print(confusion_matrix(y_test, y_pred).T)\n",
    "\n",
    "total_cost = np.sum(confusion_matrix(y_test, y_pred).T * cost_matrix)\n",
    "print(f\"\\nTotal Cost: {total_cost}\")\n",
    "\n",
    "print(classification_report(y_test, y_pred, target_names=[\"Reported having MI or CHD\", \"Did not report having MI or CHD\"]))\n",
    "\n",
    "# Extract macro metrics from the classification report\n",
    "metrics_dict = classification_report(y_test, y_pred, target_names=[\"Reported having MI or CHD\", \"Did not report having MI or CHD\"], output_dict=True)['macro avg']\n",
    "\n",
    "if method==1:\n",
    "    BorderlineSMOTE_loss.loc['Total Cost baseline', 'Random Forests'] = total_cost\n",
    "    BorderlineSMOTE_precision.loc['macro precision baseline', 'Random Forests'] = metrics_dict['precision']\n",
    "    BorderlineSMOTE_recall.loc['macro recall baseline', 'Random Forests'] = metrics_dict['recall']\n",
    "    BorderlineSMOTE_f1_score.loc['macro f1-score baseline', 'Random Forests'] = metrics_dict['f1-score']\n",
    "elif method==2:\n",
    "    smote_tomek_loss.loc['Total Cost baseline', 'Random Forests'] = total_cost\n",
    "    smote_tomek_precision.loc['macro precision baseline', 'Random Forests'] = metrics_dict['precision']\n",
    "    smote_tomek_recall.loc['macro recall baseline', 'Random Forests'] = metrics_dict['recall']\n",
    "    smote_tomek_f1_score.loc['macro f1-score baseline', 'Random Forests'] = metrics_dict['f1-score']\n",
    "elif method==3:\n",
    "    adasyn_loss.loc['Total Cost baseline', 'Random Forests'] = total_cost\n",
    "    adasyn_precision.loc['macro precision baseline', 'Random Forests'] = metrics_dict['precision']\n",
    "    adasyn_recall.loc['macro recall baseline', 'Random Forests'] = metrics_dict['recall']\n",
    "    adasyn_f1_score.loc['macro f1-score baseline', 'Random Forests'] = metrics_dict['f1-score']\n",
    "else:\n",
    "    SMOTE_loss.loc['Total Cost baseline', 'Random Forests'] = total_cost\n",
    "    SMOTE_precision.loc['macro precision baseline', 'Random Forests'] = metrics_dict['precision']\n",
    "    SMOTE_recall.loc['macro recall baseline', 'Random Forests'] = metrics_dict['recall']\n",
    "    SMOTE_f1_score.loc['macro f1-score baseline', 'Random Forests'] = metrics_dict['f1-score']"
   ],
   "outputs": [],
   "execution_count": null
  },
  {
   "metadata": {},
   "cell_type": "code",
   "source": [
    "from sklearn.calibration import calibration_curve\n",
    "\n",
    "# Get predicted probabilities for the positive class\n",
    "y_pred_proba = best_rf_classifier.predict_proba(x_test)[:, 1]\n",
    "\n",
    "# Compute calibration curve\n",
    "prob_true, prob_pred = calibration_curve(y_test, y_pred_proba, n_bins=10)\n",
    "\n",
    "# Plot calibration curve\n",
    "plt.figure(figsize=(8, 6))\n",
    "plt.plot(prob_pred, prob_true, marker='o', linestyle='-')\n",
    "plt.plot([0, 1], [0, 1], linestyle='--', color='gray')  # Ideal curve\n",
    "plt.xlabel('Mean Predicted Probability')\n",
    "plt.ylabel('Fraction of Positives')\n",
    "plt.title('Probability Calibration Curve')\n",
    "\n",
    "# Save the plot as an image file (e.g., PNG)\n",
    "plt.savefig('calibration_curve (SMOTE RF - baseline).png')\n",
    "\n",
    "# Show the plot (optional)\n",
    "plt.show()"
   ],
   "outputs": [],
   "execution_count": null
  },
  {
   "metadata": {},
   "cell_type": "code",
   "source": [
    "from sklearn.metrics import roc_curve, precision_recall_curve, auc, confusion_matrix, classification_report\n",
    "import matplotlib.pyplot as plt\n",
    "\n",
    "# Print the best parameters found\n",
    "print(\"Best Parameters:\", grid_search.best_params_)\n",
    "\n",
    "# Use the best estimator to make predictions\n",
    "best_rf_classifier = grid_search.best_estimator_\n",
    "\n",
    "# Predict probabilities for ROC curve\n",
    "y_probs = best_rf_classifier.predict_proba(x_test)[:, 1]\n",
    "\n",
    "# Compute precision-recall curve\n",
    "precision, recall, _ = precision_recall_curve(y_test, y_probs)\n",
    "\n",
    "# Compute area under the curve (AUC) for precision-recall curve\n",
    "pr_auc = auc(recall, precision)\n",
    "\n",
    "# Plot precision-recall curve\n",
    "plt.figure(figsize=(10, 6))\n",
    "plt.plot(recall, precision, label=f'Precision-Recall curve (AUC = {pr_auc:.2f})')\n",
    "plt.xlabel('Recall')\n",
    "plt.ylabel('Precision')\n",
    "plt.title('Precision-Recall Curve')\n",
    "plt.legend()\n",
    "plt.grid(True)\n",
    "plt.savefig('precision_recall_curve (SMOTE RF - baseline).png')\n",
    "plt.show()"
   ],
   "outputs": [],
   "execution_count": null
  },
  {
   "metadata": {},
   "cell_type": "code",
   "source": [
    "from sklearn.metrics import roc_curve, auc\n",
    "import matplotlib.pyplot as plt\n",
    "\n",
    "# Get predicted probabilities for the positive class\n",
    "y_prob = best_rf_classifier.predict_proba(x_test)[:, 1]\n",
    "\n",
    "# Compute ROC curve and AUC\n",
    "fpr, tpr, thresholds = roc_curve(y_test, y_prob)\n",
    "roc_auc = auc(fpr, tpr)\n",
    "\n",
    "# Plot ROC curve\n",
    "plt.figure(figsize=(8, 6))\n",
    "plt.plot(fpr, tpr, color='blue', lw=2, label='ROC curve (AUC = %0.2f)' % roc_auc)\n",
    "plt.plot([0, 1], [0, 1], color='red', lw=2, linestyle='--', label='Random Guessing')\n",
    "plt.xlabel('False Positive Rate')\n",
    "plt.ylabel('True Positive Rate')\n",
    "plt.title('Receiver Operating Characteristic (ROC) Curve')\n",
    "plt.legend(loc='lower right')\n",
    "\n",
    "# Save the plot\n",
    "plt.savefig('roc_curve (SMOTE rf - baseline).png')\n",
    "\n",
    "# Show the plot\n",
    "plt.show()"
   ],
   "outputs": [],
   "execution_count": null
  },
  {
   "metadata": {},
   "cell_type": "code",
   "source": [
    "# import matplotlib.pyplot as plt\n",
    "# \n",
    "# # Extract feature importances from the best classifier\n",
    "# feature_importances = best_rf_classifier.feature_importances_\n",
    "# \n",
    "# # Get the names of the features\n",
    "# feature_names = x_train.columns  # Assuming x_train is a DataFrame\n",
    "# \n",
    "# # Sort feature importances in descending order\n",
    "# indices = np.argsort(feature_importances)[::-1]\n",
    "# \n",
    "# # Plot the feature importances\n",
    "# plt.figure(figsize=(10, 6))\n",
    "# plt.title(\"Feature Importances\")\n",
    "# plt.bar(range(x_train.shape[1]), feature_importances[indices], color=\"b\", align=\"center\")\n",
    "# plt.xticks(range(x_train.shape[1]), [feature_names[i] for i in indices], rotation=90)\n",
    "# plt.xlim([-1, x_train.shape[1]])\n",
    "# plt.tight_layout()\n",
    "# \n",
    "# # Save the plot as an image file\n",
    "# plt.savefig(\"feature_importance_plot (RandomForestClassifier).png\")\n",
    "# \n",
    "# plt.show()"
   ],
   "outputs": [],
   "execution_count": null
  },
  {
   "cell_type": "code",
   "execution_count": null,
   "metadata": {
    "collapsed": false
   },
   "outputs": [],
   "source": [
    "def predict(y_prob, cost_m):\n",
    "    t_BMR = (cost_m[1][0] - cost_m[1][1])/(cost_m[0][1] - cost_m[1][1] - cost_m[0][0] + cost_m[1][0])\n",
    "    y_pred = np.greater(y_prob[:, 1], t_BMR).astype(int)\n",
    "    \n",
    "    return y_pred\n",
    "\n",
    "\n",
    "from sklearn.calibration import CalibratedClassifierCV\n",
    "\n",
    "# Best parameters found from grid search\n",
    "best_n_estimators = grid_search.best_params_['n_estimators']\n",
    "best_max_depth = grid_search.best_params_['max_depth']\n",
    "\n",
    "# Create a Random Forest Classifier object with the best parameters\n",
    "rf_classifier = CalibratedClassifierCV(\n",
    "    RandomForestClassifier(n_estimators=best_n_estimators, max_depth=best_max_depth, random_state=SEED),\n",
    "    method=\"sigmoid\", cv=10)\n",
    "\n",
    "# Train the classifier\n",
    "rf_classifier.fit(x_train, y_train)\n",
    "\n",
    "# Predict the response for test dataset\n",
    "y_prob = rf_classifier.predict_proba(x_test)\n",
    "y_pred = predict(y_prob, cost_matrix)\n",
    "\n",
    "# Print the confusion matrix and a classification report\n",
    "print('Confusion Matrix:')\n",
    "print(confusion_matrix(y_test, y_pred).T)\n",
    "\n",
    "total_cost = np.sum(confusion_matrix(y_test, y_pred).T * cost_matrix)\n",
    "print(f\"\\nTotal Cost: {total_cost}\")\n",
    "\n",
    "print(classification_report(y_test, y_pred, target_names=[\"Reported having MI or CHD\", \"Did not report having MI or CHD\"]))\n",
    "\n",
    "# Extract macro metrics from the classification report\n",
    "metrics_dict = classification_report(y_test, y_pred, target_names=[\"Reported having MI or CHD\", \"Did not report having MI or CHD\"], output_dict=True)['macro avg']\n",
    "\n",
<<<<<<< HEAD
<<<<<<< HEAD
    "BorderlineSMOTE_loss.loc['Total Cost MEC', 'Random Forests'] = total_cost\n",
    "# Update BorderlineSMOTE_precision DataFrame with macro precision\n",
    "BorderlineSMOTE_precision.loc['macro precision MEC', 'Random Forests'] = metrics_dict['precision']\n",
    "# Update BorderlineSMOTE_recall DataFrame with macro recall\n",
    "BorderlineSMOTE_recall.loc['macro recall MEC', 'Random Forests'] = metrics_dict['recall']\n",
    "# Update BorderlineSMOTE_f1_score DataFrame with macro F1-score\n",
    "BorderlineSMOTE_f1_score.loc['macro f1-score MEC', 'Random Forests'] = metrics_dict['f1-score']"
   ]
  },
  {
   "cell_type": "code",
   "execution_count": null,
=======
=======
>>>>>>> origin/main
    "if method==1:\n",
    "    BorderlineSMOTE_loss.loc['Total Cost MEC', 'Random Forests'] = total_cost\n",
    "    BorderlineSMOTE_precision.loc['macro precision MEC', 'Random Forests'] = metrics_dict['precision']\n",
    "    BorderlineSMOTE_recall.loc['macro recall MEC', 'Random Forests'] = metrics_dict['recall']\n",
    "    BorderlineSMOTE_f1_score.loc['macro f1-score MEC', 'Random Forests'] = metrics_dict['f1-score']\n",
    "elif method==2:\n",
    "    smote_tomek_loss.loc['Total Cost MEC', 'Random Forests'] = total_cost\n",
    "    smote_tomek_precision.loc['macro precision MEC', 'Random Forests'] = metrics_dict['precision']\n",
    "    smote_tomek_recall.loc['macro recall MEC', 'Random Forests'] = metrics_dict['recall']\n",
    "    smote_tomek_f1_score.loc['macro f1-score MEC', 'Random Forests'] = metrics_dict['f1-score']\n",
    "elif method==3:\n",
    "    adasyn_loss.loc['Total Cost MEC', 'Random Forests'] = total_cost\n",
    "    adasyn_precision.loc['macro precision MEC', 'Random Forests'] = metrics_dict['precision']\n",
    "    adasyn_recall.loc['macro recall MEC', 'Random Forests'] = metrics_dict['recall']\n",
    "    adasyn_f1_score.loc['macro f1-score MEC', 'Random Forests'] = metrics_dict['f1-score']\n",
    "else:\n",
    "    SMOTE_loss.loc['Total Cost MEC', 'Random Forests'] = total_cost\n",
    "    SMOTE_precision.loc['macro precision MEC', 'Random Forests'] = metrics_dict['precision']\n",
    "    SMOTE_recall.loc['macro recall MEC', 'Random Forests'] = metrics_dict['recall']\n",
    "    SMOTE_f1_score.loc['macro f1-score MEC', 'Random Forests'] = metrics_dict['f1-score']"
   ],
<<<<<<< HEAD
>>>>>>> origin/main
   "metadata": {
    "collapsed": false,
    "ExecuteTime": {
     "end_time": "2024-04-29T16:09:02.119079Z",
     "start_time": "2024-04-29T15:49:18.589126Z"
    }
   },
<<<<<<< HEAD
   "outputs": [],
   "source": [
    "# Create a Random Forests Classifier object\n",
    "rf_classifier = RandomForestClassifier(n_estimators=393, max_depth=16, random_state=SEED)\n",
    "\n",
    "# Train the classifier\n",
    "rf_classifier.fit(x_train , y_train)\n",
    "\n",
    "# Predict the response for test dataset\n",
    "y_pred = rf_classifier.predict(x_test)\n",
    "\n",
    "# Print the confusion matrix and a classification report\n",
    "print('Confusion Matrix:')\n",
    "print(confusion_matrix(y_test, y_pred).T)\n",
    "\n",
    "total_cost = np.sum(confusion_matrix(y_test, y_pred).T * cost_matrix)\n",
    "print(f\"\\nTotal Cost: {total_cost}\")\n",
    "\n",
    "print(classification_report(y_test, y_pred, target_names=[\"Reported having MI or CHD\", \"Did not report having MI or CHD\"]))\n",
    "\n",
    "# Extract macro metrics from the classification report\n",
    "metrics_dict = classification_report(y_test, y_pred, target_names=[\"Reported having MI or CHD\", \"Did not report having MI or CHD\"], output_dict=True)['macro avg']\n",
    "\n",
    "BorderlineSMOTE_loss.loc['Total Cost baseline', 'Random Forests'] = total_cost\n",
    "# Update BorderlineSMOTE_precision DataFrame with macro precision\n",
    "BorderlineSMOTE_precision.loc['macro precision baseline', 'Random Forests'] = metrics_dict['precision']\n",
    "# Update BorderlineSMOTE_recall DataFrame with macro recall\n",
    "BorderlineSMOTE_recall.loc['macro recall baseline', 'Random Forests'] = metrics_dict['recall']\n",
    "# Update BorderlineSMOTE_f1_score DataFrame with macro F1-score\n",
    "BorderlineSMOTE_f1_score.loc['macro f1-score baseline', 'Random Forests'] = metrics_dict['f1-score']"
   ]
=======
   "metadata": {
    "collapsed": false
   },
   "outputs": [],
   "execution_count": null
>>>>>>> origin/main
  },
  {
   "cell_type": "code",
   "execution_count": null,
   "metadata": {},
   "outputs": [],
=======
   "outputs": [
    {
     "name": "stdout",
     "output_type": "stream",
     "text": [
      "Confusion Matrix:\n",
      "[[37472  6772]\n",
      " [ 1234 31378]]\n",
      "\n",
      "Total Cost: 2927.0\n",
      "                                 precision    recall  f1-score   support\n",
      "\n",
      "      Reported having MI or CHD       0.85      0.97      0.90     38706\n",
      "Did not report having MI or CHD       0.96      0.82      0.89     38150\n",
      "\n",
      "                       accuracy                           0.90     76856\n",
      "                      macro avg       0.90      0.90      0.90     76856\n",
      "                   weighted avg       0.90      0.90      0.90     76856\n",
      "\n"
     ]
    }
   ],
   "execution_count": 55
  },
  {
   "cell_type": "code",
   "metadata": {
    "ExecuteTime": {
     "end_time": "2024-04-29T16:10:43.364555Z",
     "start_time": "2024-04-29T16:09:02.132067Z"
    }
   },
>>>>>>> origin/main
   "source": [
    "sample_weights = np.zeros_like(y_train, dtype=float)\n",
    "sample_weights[y_train == 0] = cost_matrix[0][1]\n",
    "sample_weights[y_train == 1] = cost_matrix[1][0]\n",
    "\n",
    "# Best parameters found from grid search\n",
    "best_n_estimators = grid_search.best_params_['n_estimators']\n",
    "best_max_depth = grid_search.best_params_['max_depth']\n",
    "\n",
    "# Create a Random Forests Classifier object\n",
    "rf_classifier = RandomForestClassifier(n_estimators=best_n_estimators, max_depth=best_max_depth, random_state=SEED)\n",
    "\n",
    "# Train the classifier\n",
    "rf_classifier.fit(x_train , y_train, sample_weight=sample_weights)\n",
    "\n",
    "# Predict the response for test dataset\n",
    "y_pred = rf_classifier.predict(x_test)\n",
    "\n",
    "# Print the confusion matrix and a classification report\n",
    "print('Confusion Matrix:')\n",
    "print(confusion_matrix(y_test, y_pred).T)\n",
    "\n",
    "total_cost = np.sum(confusion_matrix(y_test, y_pred).T * cost_matrix)\n",
    "print(f\"\\nTotal Cost: {total_cost}\")\n",
    "\n",
    "print(classification_report(y_test, y_pred, target_names=[\"Reported having MI or CHD\", \"Did not report having MI or CHD\"]))\n",
    "\n",
    "# Extract macro metrics from the classification report\n",
    "metrics_dict = classification_report(y_test, y_pred, target_names=[\"Reported having MI or CHD\", \"Did not report having MI or CHD\"], output_dict=True)['macro avg']\n",
    "\n",
<<<<<<< HEAD
<<<<<<< HEAD
    "BorderlineSMOTE_loss.loc['Total Cost weighting', 'Random Forests'] = total_cost\n",
    "# Update BorderlineSMOTE_precision DataFrame with macro precision\n",
    "BorderlineSMOTE_precision.loc['macro precision weighting', 'Random Forests'] = metrics_dict['precision']\n",
    "# Update BorderlineSMOTE_recall DataFrame with macro recall\n",
    "BorderlineSMOTE_recall.loc['macro recall weighting', 'Random Forests'] = metrics_dict['recall']\n",
    "# Update BorderlineSMOTE_f1_score DataFrame with macro F1-score\n",
    "BorderlineSMOTE_f1_score.loc['macro f1-score weighting', 'Random Forests'] = metrics_dict['f1-score']"
   ]
=======
=======
>>>>>>> origin/main
    "if method==1:\n",
    "    BorderlineSMOTE_loss.loc['Total Cost weighting', 'Random Forests'] = total_cost\n",
    "    BorderlineSMOTE_precision.loc['macro precision weighting', 'Random Forests'] = metrics_dict['precision']\n",
    "    BorderlineSMOTE_recall.loc['macro recall weighting', 'Random Forests'] = metrics_dict['recall']\n",
    "    BorderlineSMOTE_f1_score.loc['macro f1-score weighting', 'Random Forests'] = metrics_dict['f1-score']\n",
    "elif method==2:\n",
    "    smote_tomek_loss.loc['Total Cost weighting', 'Random Forests'] = total_cost\n",
    "    smote_tomek_precision.loc['macro precision weighting', 'Random Forests'] = metrics_dict['precision']\n",
    "    smote_tomek_recall.loc['macro recall weighting', 'Random Forests'] = metrics_dict['recall']\n",
    "    smote_tomek_f1_score.loc['macro f1-score weighting', 'Random Forests'] = metrics_dict['f1-score']\n",
    "elif method==3:\n",
    "    adasyn_loss.loc['Total Cost weighting', 'Random Forests'] = total_cost\n",
    "    adasyn_precision.loc['macro precision weighting', 'Random Forests'] = metrics_dict['precision']\n",
    "    adasyn_recall.loc['macro recall weighting', 'Random Forests'] = metrics_dict['recall']\n",
    "    adasyn_f1_score.loc['macro f1-score weighting', 'Random Forests'] = metrics_dict['f1-score']\n",
    "else:\n",
    "    SMOTE_loss.loc['Total Cost weighting', 'Random Forests'] = total_cost\n",
    "    SMOTE_precision.loc['macro precision weighting', 'Random Forests'] = metrics_dict['precision']\n",
    "    SMOTE_recall.loc['macro recall weighting', 'Random Forests'] = metrics_dict['recall']\n",
    "    SMOTE_f1_score.loc['macro f1-score weighting', 'Random Forests'] = metrics_dict['f1-score']"
   ],
   "outputs": [
    {
     "name": "stdout",
     "output_type": "stream",
     "text": [
      "Confusion Matrix:\n",
      "[[34546  3935]\n",
      " [ 4160 34215]]\n",
      "\n",
      "Total Cost: 5143.75\n",
      "                                 precision    recall  f1-score   support\n",
      "\n",
      "      Reported having MI or CHD       0.90      0.89      0.90     38706\n",
      "Did not report having MI or CHD       0.89      0.90      0.89     38150\n",
      "\n",
      "                       accuracy                           0.89     76856\n",
      "                      macro avg       0.89      0.89      0.89     76856\n",
      "                   weighted avg       0.89      0.89      0.89     76856\n",
      "\n"
     ]
    }
   ],
   "execution_count": 56
>>>>>>> origin/main
  },
  {
<<<<<<< HEAD
   "cell_type": "code",
   "execution_count": null,
   "metadata": {
    "ExecuteTime": {
     "end_time": "2024-04-29T16:10:43.370564Z",
     "start_time": "2024-04-29T16:10:43.366550Z"
    }
   },
   "outputs": [],
   "source": [
<<<<<<< HEAD
    "import shap\n",
    "\n",
    "# Create an explainer object with the trained model and the training dataset\n",
    "explainer = shap.TreeExplainer(rf_classifier)\n",
    "\n",
    "# Calculate SHAP values for the test dataset\n",
    "shap_values = explainer.shap_values(x_test)\n",
    "\n",
    "# Visualize the SHAP values\n",
    "shap.summary_plot(shap_values, x_test)"
   ]
=======
=======
   "metadata": {},
   "cell_type": "code",
   "source": [
>>>>>>> origin/main
    "# import shap\n",
    "# \n",
    "# # Calculate SHAP values\n",
    "# explainer = shap.TreeExplainer(best_rf_classifier)\n",
    "# shap_values = explainer.shap_values(x_train)\n",
    "# \n",
    "# # Plot SHAP summary plot\n",
    "# summary_plot = shap.summary_plot(shap_values, x_train, feature_names=feature_names)\n",
    "# \n",
    "# # Save the plot\n",
    "# summary_plot.savefig(\"shap_summary_plot.png\")"
   ],
   "outputs": [],
   "execution_count": 57
>>>>>>> origin/main
  },
  {
   "cell_type": "markdown",
   "metadata": {},
   "source": [
    "### ***K-Nearest Neighbors (KNN)***"
   ]
  },
  {
<<<<<<< HEAD
   "cell_type": "markdown",
   "metadata": {},
   "source": [
    "#### KNN for undersampling"
   ]
  },
  {
=======
   "metadata": {
    "ExecuteTime": {
     "end_time": "2024-04-29T16:10:43.623123Z",
     "start_time": "2024-04-29T16:10:43.374264Z"
    }
   },
>>>>>>> origin/main
   "cell_type": "code",
   "execution_count": 198,
   "metadata": {},
   "outputs": [],
   "source": [
    "param_grid = {\n",
    "    'n_neighbors': [3, 5, 7],\n",
    "    'weights': ['uniform', 'distance'],\n",
    "    'algorithm': ['auto', 'ball_tree'],\n",
    "}\n",
    "\n",
    "grid_search = GridSearchCV(KNeighborsClassifier(), param_grid, cv=5, n_jobs=4)"
   ]
  },
  {
   "cell_type": "code",
   "execution_count": 199,
   "metadata": {},
   "outputs": [
    {
     "data": {
      "text/html": [
       "<style>#sk-container-id-10 {\n",
       "  /* Definition of color scheme common for light and dark mode */\n",
       "  --sklearn-color-text: black;\n",
       "  --sklearn-color-line: gray;\n",
       "  /* Definition of color scheme for unfitted estimators */\n",
       "  --sklearn-color-unfitted-level-0: #fff5e6;\n",
       "  --sklearn-color-unfitted-level-1: #f6e4d2;\n",
       "  --sklearn-color-unfitted-level-2: #ffe0b3;\n",
       "  --sklearn-color-unfitted-level-3: chocolate;\n",
       "  /* Definition of color scheme for fitted estimators */\n",
       "  --sklearn-color-fitted-level-0: #f0f8ff;\n",
       "  --sklearn-color-fitted-level-1: #d4ebff;\n",
       "  --sklearn-color-fitted-level-2: #b3dbfd;\n",
       "  --sklearn-color-fitted-level-3: cornflowerblue;\n",
       "\n",
       "  /* Specific color for light theme */\n",
       "  --sklearn-color-text-on-default-background: var(--sg-text-color, var(--theme-code-foreground, var(--jp-content-font-color1, black)));\n",
       "  --sklearn-color-background: var(--sg-background-color, var(--theme-background, var(--jp-layout-color0, white)));\n",
       "  --sklearn-color-border-box: var(--sg-text-color, var(--theme-code-foreground, var(--jp-content-font-color1, black)));\n",
       "  --sklearn-color-icon: #696969;\n",
       "\n",
       "  @media (prefers-color-scheme: dark) {\n",
       "    /* Redefinition of color scheme for dark theme */\n",
       "    --sklearn-color-text-on-default-background: var(--sg-text-color, var(--theme-code-foreground, var(--jp-content-font-color1, white)));\n",
       "    --sklearn-color-background: var(--sg-background-color, var(--theme-background, var(--jp-layout-color0, #111)));\n",
       "    --sklearn-color-border-box: var(--sg-text-color, var(--theme-code-foreground, var(--jp-content-font-color1, white)));\n",
       "    --sklearn-color-icon: #878787;\n",
       "  }\n",
       "}\n",
       "\n",
       "#sk-container-id-10 {\n",
       "  color: var(--sklearn-color-text);\n",
       "}\n",
       "\n",
       "#sk-container-id-10 pre {\n",
       "  padding: 0;\n",
       "}\n",
       "\n",
       "#sk-container-id-10 input.sk-hidden--visually {\n",
       "  border: 0;\n",
       "  clip: rect(1px 1px 1px 1px);\n",
       "  clip: rect(1px, 1px, 1px, 1px);\n",
       "  height: 1px;\n",
       "  margin: -1px;\n",
       "  overflow: hidden;\n",
       "  padding: 0;\n",
       "  position: absolute;\n",
       "  width: 1px;\n",
       "}\n",
       "\n",
       "#sk-container-id-10 div.sk-dashed-wrapped {\n",
       "  border: 1px dashed var(--sklearn-color-line);\n",
       "  margin: 0 0.4em 0.5em 0.4em;\n",
       "  box-sizing: border-box;\n",
       "  padding-bottom: 0.4em;\n",
       "  background-color: var(--sklearn-color-background);\n",
       "}\n",
       "\n",
       "#sk-container-id-10 div.sk-container {\n",
       "  /* jupyter's `normalize.less` sets `[hidden] { display: none; }`\n",
       "     but bootstrap.min.css set `[hidden] { display: none !important; }`\n",
       "     so we also need the `!important` here to be able to override the\n",
       "     default hidden behavior on the sphinx rendered scikit-learn.org.\n",
       "     See: https://github.com/scikit-learn/scikit-learn/issues/21755 */\n",
       "  display: inline-block !important;\n",
       "  position: relative;\n",
       "}\n",
       "\n",
       "#sk-container-id-10 div.sk-text-repr-fallback {\n",
       "  display: none;\n",
       "}\n",
       "\n",
       "div.sk-parallel-item,\n",
       "div.sk-serial,\n",
       "div.sk-item {\n",
       "  /* draw centered vertical line to link estimators */\n",
       "  background-image: linear-gradient(var(--sklearn-color-text-on-default-background), var(--sklearn-color-text-on-default-background));\n",
       "  background-size: 2px 100%;\n",
       "  background-repeat: no-repeat;\n",
       "  background-position: center center;\n",
       "}\n",
       "\n",
       "/* Parallel-specific style estimator block */\n",
       "\n",
       "#sk-container-id-10 div.sk-parallel-item::after {\n",
       "  content: \"\";\n",
       "  width: 100%;\n",
       "  border-bottom: 2px solid var(--sklearn-color-text-on-default-background);\n",
       "  flex-grow: 1;\n",
       "}\n",
       "\n",
       "#sk-container-id-10 div.sk-parallel {\n",
       "  display: flex;\n",
       "  align-items: stretch;\n",
       "  justify-content: center;\n",
       "  background-color: var(--sklearn-color-background);\n",
       "  position: relative;\n",
       "}\n",
       "\n",
       "#sk-container-id-10 div.sk-parallel-item {\n",
       "  display: flex;\n",
       "  flex-direction: column;\n",
       "}\n",
       "\n",
       "#sk-container-id-10 div.sk-parallel-item:first-child::after {\n",
       "  align-self: flex-end;\n",
       "  width: 50%;\n",
       "}\n",
       "\n",
       "#sk-container-id-10 div.sk-parallel-item:last-child::after {\n",
       "  align-self: flex-start;\n",
       "  width: 50%;\n",
       "}\n",
       "\n",
       "#sk-container-id-10 div.sk-parallel-item:only-child::after {\n",
       "  width: 0;\n",
       "}\n",
       "\n",
       "/* Serial-specific style estimator block */\n",
       "\n",
       "#sk-container-id-10 div.sk-serial {\n",
       "  display: flex;\n",
       "  flex-direction: column;\n",
       "  align-items: center;\n",
       "  background-color: var(--sklearn-color-background);\n",
       "  padding-right: 1em;\n",
       "  padding-left: 1em;\n",
       "}\n",
       "\n",
       "\n",
       "/* Toggleable style: style used for estimator/Pipeline/ColumnTransformer box that is\n",
       "clickable and can be expanded/collapsed.\n",
       "- Pipeline and ColumnTransformer use this feature and define the default style\n",
       "- Estimators will overwrite some part of the style using the `sk-estimator` class\n",
       "*/\n",
       "\n",
       "/* Pipeline and ColumnTransformer style (default) */\n",
       "\n",
       "#sk-container-id-10 div.sk-toggleable {\n",
       "  /* Default theme specific background. It is overwritten whether we have a\n",
       "  specific estimator or a Pipeline/ColumnTransformer */\n",
       "  background-color: var(--sklearn-color-background);\n",
       "}\n",
       "\n",
       "/* Toggleable label */\n",
       "#sk-container-id-10 label.sk-toggleable__label {\n",
       "  cursor: pointer;\n",
       "  display: block;\n",
       "  width: 100%;\n",
       "  margin-bottom: 0;\n",
       "  padding: 0.5em;\n",
       "  box-sizing: border-box;\n",
       "  text-align: center;\n",
       "}\n",
       "\n",
       "#sk-container-id-10 label.sk-toggleable__label-arrow:before {\n",
       "  /* Arrow on the left of the label */\n",
       "  content: \"▸\";\n",
       "  float: left;\n",
       "  margin-right: 0.25em;\n",
       "  color: var(--sklearn-color-icon);\n",
       "}\n",
       "\n",
       "#sk-container-id-10 label.sk-toggleable__label-arrow:hover:before {\n",
       "  color: var(--sklearn-color-text);\n",
       "}\n",
       "\n",
       "/* Toggleable content - dropdown */\n",
       "\n",
       "#sk-container-id-10 div.sk-toggleable__content {\n",
       "  max-height: 0;\n",
       "  max-width: 0;\n",
       "  overflow: hidden;\n",
       "  text-align: left;\n",
       "  /* unfitted */\n",
       "  background-color: var(--sklearn-color-unfitted-level-0);\n",
       "}\n",
       "\n",
       "#sk-container-id-10 div.sk-toggleable__content.fitted {\n",
       "  /* fitted */\n",
       "  background-color: var(--sklearn-color-fitted-level-0);\n",
       "}\n",
       "\n",
       "#sk-container-id-10 div.sk-toggleable__content pre {\n",
       "  margin: 0.2em;\n",
       "  border-radius: 0.25em;\n",
       "  color: var(--sklearn-color-text);\n",
       "  /* unfitted */\n",
       "  background-color: var(--sklearn-color-unfitted-level-0);\n",
       "}\n",
       "\n",
       "#sk-container-id-10 div.sk-toggleable__content.fitted pre {\n",
       "  /* unfitted */\n",
       "  background-color: var(--sklearn-color-fitted-level-0);\n",
       "}\n",
       "\n",
       "#sk-container-id-10 input.sk-toggleable__control:checked~div.sk-toggleable__content {\n",
       "  /* Expand drop-down */\n",
       "  max-height: 200px;\n",
       "  max-width: 100%;\n",
       "  overflow: auto;\n",
       "}\n",
       "\n",
       "#sk-container-id-10 input.sk-toggleable__control:checked~label.sk-toggleable__label-arrow:before {\n",
       "  content: \"▾\";\n",
       "}\n",
       "\n",
       "/* Pipeline/ColumnTransformer-specific style */\n",
       "\n",
       "#sk-container-id-10 div.sk-label input.sk-toggleable__control:checked~label.sk-toggleable__label {\n",
       "  color: var(--sklearn-color-text);\n",
       "  background-color: var(--sklearn-color-unfitted-level-2);\n",
       "}\n",
       "\n",
       "#sk-container-id-10 div.sk-label.fitted input.sk-toggleable__control:checked~label.sk-toggleable__label {\n",
       "  background-color: var(--sklearn-color-fitted-level-2);\n",
       "}\n",
       "\n",
       "/* Estimator-specific style */\n",
       "\n",
       "/* Colorize estimator box */\n",
       "#sk-container-id-10 div.sk-estimator input.sk-toggleable__control:checked~label.sk-toggleable__label {\n",
       "  /* unfitted */\n",
       "  background-color: var(--sklearn-color-unfitted-level-2);\n",
       "}\n",
       "\n",
       "#sk-container-id-10 div.sk-estimator.fitted input.sk-toggleable__control:checked~label.sk-toggleable__label {\n",
       "  /* fitted */\n",
       "  background-color: var(--sklearn-color-fitted-level-2);\n",
       "}\n",
       "\n",
       "#sk-container-id-10 div.sk-label label.sk-toggleable__label,\n",
       "#sk-container-id-10 div.sk-label label {\n",
       "  /* The background is the default theme color */\n",
       "  color: var(--sklearn-color-text-on-default-background);\n",
       "}\n",
       "\n",
       "/* On hover, darken the color of the background */\n",
       "#sk-container-id-10 div.sk-label:hover label.sk-toggleable__label {\n",
       "  color: var(--sklearn-color-text);\n",
       "  background-color: var(--sklearn-color-unfitted-level-2);\n",
       "}\n",
       "\n",
       "/* Label box, darken color on hover, fitted */\n",
       "#sk-container-id-10 div.sk-label.fitted:hover label.sk-toggleable__label.fitted {\n",
       "  color: var(--sklearn-color-text);\n",
       "  background-color: var(--sklearn-color-fitted-level-2);\n",
       "}\n",
       "\n",
       "/* Estimator label */\n",
       "\n",
       "#sk-container-id-10 div.sk-label label {\n",
       "  font-family: monospace;\n",
       "  font-weight: bold;\n",
       "  display: inline-block;\n",
       "  line-height: 1.2em;\n",
       "}\n",
       "\n",
       "#sk-container-id-10 div.sk-label-container {\n",
       "  text-align: center;\n",
       "}\n",
       "\n",
       "/* Estimator-specific */\n",
       "#sk-container-id-10 div.sk-estimator {\n",
       "  font-family: monospace;\n",
       "  border: 1px dotted var(--sklearn-color-border-box);\n",
       "  border-radius: 0.25em;\n",
       "  box-sizing: border-box;\n",
       "  margin-bottom: 0.5em;\n",
       "  /* unfitted */\n",
       "  background-color: var(--sklearn-color-unfitted-level-0);\n",
       "}\n",
       "\n",
       "#sk-container-id-10 div.sk-estimator.fitted {\n",
       "  /* fitted */\n",
       "  background-color: var(--sklearn-color-fitted-level-0);\n",
       "}\n",
       "\n",
       "/* on hover */\n",
       "#sk-container-id-10 div.sk-estimator:hover {\n",
       "  /* unfitted */\n",
       "  background-color: var(--sklearn-color-unfitted-level-2);\n",
       "}\n",
       "\n",
       "#sk-container-id-10 div.sk-estimator.fitted:hover {\n",
       "  /* fitted */\n",
       "  background-color: var(--sklearn-color-fitted-level-2);\n",
       "}\n",
       "\n",
       "/* Specification for estimator info (e.g. \"i\" and \"?\") */\n",
       "\n",
       "/* Common style for \"i\" and \"?\" */\n",
       "\n",
       ".sk-estimator-doc-link,\n",
       "a:link.sk-estimator-doc-link,\n",
       "a:visited.sk-estimator-doc-link {\n",
       "  float: right;\n",
       "  font-size: smaller;\n",
       "  line-height: 1em;\n",
       "  font-family: monospace;\n",
       "  background-color: var(--sklearn-color-background);\n",
       "  border-radius: 1em;\n",
       "  height: 1em;\n",
       "  width: 1em;\n",
       "  text-decoration: none !important;\n",
       "  margin-left: 1ex;\n",
       "  /* unfitted */\n",
       "  border: var(--sklearn-color-unfitted-level-1) 1pt solid;\n",
       "  color: var(--sklearn-color-unfitted-level-1);\n",
       "}\n",
       "\n",
       ".sk-estimator-doc-link.fitted,\n",
       "a:link.sk-estimator-doc-link.fitted,\n",
       "a:visited.sk-estimator-doc-link.fitted {\n",
       "  /* fitted */\n",
       "  border: var(--sklearn-color-fitted-level-1) 1pt solid;\n",
       "  color: var(--sklearn-color-fitted-level-1);\n",
       "}\n",
       "\n",
       "/* On hover */\n",
       "div.sk-estimator:hover .sk-estimator-doc-link:hover,\n",
       ".sk-estimator-doc-link:hover,\n",
       "div.sk-label-container:hover .sk-estimator-doc-link:hover,\n",
       ".sk-estimator-doc-link:hover {\n",
       "  /* unfitted */\n",
       "  background-color: var(--sklearn-color-unfitted-level-3);\n",
       "  color: var(--sklearn-color-background);\n",
       "  text-decoration: none;\n",
       "}\n",
       "\n",
       "div.sk-estimator.fitted:hover .sk-estimator-doc-link.fitted:hover,\n",
       ".sk-estimator-doc-link.fitted:hover,\n",
       "div.sk-label-container:hover .sk-estimator-doc-link.fitted:hover,\n",
       ".sk-estimator-doc-link.fitted:hover {\n",
       "  /* fitted */\n",
       "  background-color: var(--sklearn-color-fitted-level-3);\n",
       "  color: var(--sklearn-color-background);\n",
       "  text-decoration: none;\n",
       "}\n",
       "\n",
       "/* Span, style for the box shown on hovering the info icon */\n",
       ".sk-estimator-doc-link span {\n",
       "  display: none;\n",
       "  z-index: 9999;\n",
       "  position: relative;\n",
       "  font-weight: normal;\n",
       "  right: .2ex;\n",
       "  padding: .5ex;\n",
       "  margin: .5ex;\n",
       "  width: min-content;\n",
       "  min-width: 20ex;\n",
       "  max-width: 50ex;\n",
       "  color: var(--sklearn-color-text);\n",
       "  box-shadow: 2pt 2pt 4pt #999;\n",
       "  /* unfitted */\n",
       "  background: var(--sklearn-color-unfitted-level-0);\n",
       "  border: .5pt solid var(--sklearn-color-unfitted-level-3);\n",
       "}\n",
       "\n",
       ".sk-estimator-doc-link.fitted span {\n",
       "  /* fitted */\n",
       "  background: var(--sklearn-color-fitted-level-0);\n",
       "  border: var(--sklearn-color-fitted-level-3);\n",
       "}\n",
       "\n",
       ".sk-estimator-doc-link:hover span {\n",
       "  display: block;\n",
       "}\n",
       "\n",
       "/* \"?\"-specific style due to the `<a>` HTML tag */\n",
       "\n",
       "#sk-container-id-10 a.estimator_doc_link {\n",
       "  float: right;\n",
       "  font-size: 1rem;\n",
       "  line-height: 1em;\n",
       "  font-family: monospace;\n",
       "  background-color: var(--sklearn-color-background);\n",
       "  border-radius: 1rem;\n",
       "  height: 1rem;\n",
       "  width: 1rem;\n",
       "  text-decoration: none;\n",
       "  /* unfitted */\n",
       "  color: var(--sklearn-color-unfitted-level-1);\n",
       "  border: var(--sklearn-color-unfitted-level-1) 1pt solid;\n",
       "}\n",
       "\n",
       "#sk-container-id-10 a.estimator_doc_link.fitted {\n",
       "  /* fitted */\n",
       "  border: var(--sklearn-color-fitted-level-1) 1pt solid;\n",
       "  color: var(--sklearn-color-fitted-level-1);\n",
       "}\n",
       "\n",
       "/* On hover */\n",
       "#sk-container-id-10 a.estimator_doc_link:hover {\n",
       "  /* unfitted */\n",
       "  background-color: var(--sklearn-color-unfitted-level-3);\n",
       "  color: var(--sklearn-color-background);\n",
       "  text-decoration: none;\n",
       "}\n",
       "\n",
       "#sk-container-id-10 a.estimator_doc_link.fitted:hover {\n",
       "  /* fitted */\n",
       "  background-color: var(--sklearn-color-fitted-level-3);\n",
       "}\n",
       "</style><div id=\"sk-container-id-10\" class=\"sk-top-container\"><div class=\"sk-text-repr-fallback\"><pre>GridSearchCV(cv=5, estimator=KNeighborsClassifier(), n_jobs=4,\n",
       "             param_grid={&#x27;algorithm&#x27;: [&#x27;auto&#x27;, &#x27;ball_tree&#x27;],\n",
       "                         &#x27;n_neighbors&#x27;: [3, 5, 7],\n",
       "                         &#x27;weights&#x27;: [&#x27;uniform&#x27;, &#x27;distance&#x27;]})</pre><b>In a Jupyter environment, please rerun this cell to show the HTML representation or trust the notebook. <br />On GitHub, the HTML representation is unable to render, please try loading this page with nbviewer.org.</b></div><div class=\"sk-container\" hidden><div class=\"sk-item sk-dashed-wrapped\"><div class=\"sk-label-container\"><div class=\"sk-label fitted sk-toggleable\"><input class=\"sk-toggleable__control sk-hidden--visually\" id=\"sk-estimator-id-22\" type=\"checkbox\" ><label for=\"sk-estimator-id-22\" class=\"sk-toggleable__label fitted sk-toggleable__label-arrow fitted\">&nbsp;&nbsp;GridSearchCV<a class=\"sk-estimator-doc-link fitted\" rel=\"noreferrer\" target=\"_blank\" href=\"https://scikit-learn.org/1.4/modules/generated/sklearn.model_selection.GridSearchCV.html\">?<span>Documentation for GridSearchCV</span></a><span class=\"sk-estimator-doc-link fitted\">i<span>Fitted</span></span></label><div class=\"sk-toggleable__content fitted\"><pre>GridSearchCV(cv=5, estimator=KNeighborsClassifier(), n_jobs=4,\n",
       "             param_grid={&#x27;algorithm&#x27;: [&#x27;auto&#x27;, &#x27;ball_tree&#x27;],\n",
       "                         &#x27;n_neighbors&#x27;: [3, 5, 7],\n",
       "                         &#x27;weights&#x27;: [&#x27;uniform&#x27;, &#x27;distance&#x27;]})</pre></div> </div></div><div class=\"sk-parallel\"><div class=\"sk-parallel-item\"><div class=\"sk-item\"><div class=\"sk-label-container\"><div class=\"sk-label fitted sk-toggleable\"><input class=\"sk-toggleable__control sk-hidden--visually\" id=\"sk-estimator-id-23\" type=\"checkbox\" ><label for=\"sk-estimator-id-23\" class=\"sk-toggleable__label fitted sk-toggleable__label-arrow fitted\">estimator: KNeighborsClassifier</label><div class=\"sk-toggleable__content fitted\"><pre>KNeighborsClassifier()</pre></div> </div></div><div class=\"sk-serial\"><div class=\"sk-item\"><div class=\"sk-estimator fitted sk-toggleable\"><input class=\"sk-toggleable__control sk-hidden--visually\" id=\"sk-estimator-id-24\" type=\"checkbox\" ><label for=\"sk-estimator-id-24\" class=\"sk-toggleable__label fitted sk-toggleable__label-arrow fitted\">&nbsp;KNeighborsClassifier<a class=\"sk-estimator-doc-link fitted\" rel=\"noreferrer\" target=\"_blank\" href=\"https://scikit-learn.org/1.4/modules/generated/sklearn.neighbors.KNeighborsClassifier.html\">?<span>Documentation for KNeighborsClassifier</span></a></label><div class=\"sk-toggleable__content fitted\"><pre>KNeighborsClassifier()</pre></div> </div></div></div></div></div></div></div></div></div>"
      ],
      "text/plain": [
       "GridSearchCV(cv=5, estimator=KNeighborsClassifier(), n_jobs=4,\n",
       "             param_grid={'algorithm': ['auto', 'ball_tree'],\n",
       "                         'n_neighbors': [3, 5, 7],\n",
       "                         'weights': ['uniform', 'distance']})"
      ]
     },
     "execution_count": 199,
     "metadata": {},
     "output_type": "execute_result"
    }
   ],
   "source": [
    "grid_search.fit(x_train, y_train)"
   ]
  },
  {
   "cell_type": "code",
   "execution_count": 200,
   "metadata": {},
   "outputs": [
    {
     "name": "stdout",
     "output_type": "stream",
     "text": [
      "Best parameters: {'algorithm': 'auto', 'n_neighbors': 7, 'weights': 'uniform'}\n"
     ]
    }
   ],
   "source": [
    "best_params = grid_search.best_params_\n",
    "print(\"Best parameters:\", best_params)"
   ]
  },
  {
   "cell_type": "code",
   "execution_count": 32,
   "metadata": {},
   "outputs": [],
   "source": [
    "knn_clf = KNeighborsClassifier(n_neighbors=7, algorithm='auto', weights='uniform')\n",
    "knn_clf = CalibratedClassifierCV(knn_clf, method='isotonic')"
   ]
  },
  {
   "cell_type": "code",
   "execution_count": 33,
   "metadata": {},
   "outputs": [
    {
     "name": "stdout",
     "output_type": "stream",
     "text": [
      "Classification Report:\n",
      "              precision    recall  f1-score   support\n",
      "\n",
      "           0       0.71      0.80      0.75      3504\n",
      "           1       0.77      0.67      0.71      3432\n",
      "\n",
      "    accuracy                           0.74      6936\n",
      "   macro avg       0.74      0.74      0.73      6936\n",
      "weighted avg       0.74      0.74      0.73      6936\n",
      "\n",
      "Confusion Matrix:\n",
      "[[2809  695]\n",
      " [1137 2295]]\n",
      "Total Cost: 1832\n"
     ]
    }
   ],
   "source": [
    "knn_clf.fit(x_train, y_train)\n",
    "\n",
    "tabular_based_classifiers['KNN'] = knn_clf\n",
    "\n",
    "y_pred = knn_clf.predict(x_test)\n",
    "\n",
    "print(\"Classification Report:\")\n",
    "print(classification_report(y_test, y_pred))\n",
    "\n",
    "print(\"Confusion Matrix:\")\n",
    "print(confusion_matrix(y_test, y_pred))\n",
    "\n",
    "total_cost = np.sum(confusion_matrix(y_test, y_pred).T * cost_matrix)\n",
    "print(\"Total Cost:\", total_cost)"
   ]
  },
  {
   "cell_type": "markdown",
   "metadata": {},
   "source": [
    "#### KNN for oversampling"
   ]
  },
  {
   "cell_type": "code",
   "execution_count": null,
   "metadata": {},
   "outputs": [],
   "source": [
    "# Split the balanced dataset to a set of training and testing samples \n",
    "x_train, x_test, y_train, y_test = train_test_split(SMOTE_data.drop(columns=['_MICHD']), SMOTE_data['_MICHD'], test_size=0.25, random_state=SEED)"
<<<<<<< HEAD
   ]
=======
   ],
   "outputs": [],
   "execution_count": 58
>>>>>>> origin/main
  },
  {
<<<<<<< HEAD
   "cell_type": "code",
   "execution_count": null,
   "metadata": {
    "ExecuteTime": {
     "end_time": "2024-04-29T22:31:19.603536Z",
     "start_time": "2024-04-29T16:10:43.650108Z"
    }
   },
   "outputs": [],
=======
   "metadata": {},
   "cell_type": "code",
>>>>>>> origin/main
   "source": [
    "from sklearn.model_selection import cross_val_score\n",
    "\n",
    "# Define a range of k values to try\n",
    "k_values = range(1, 21)  # You can adjust this range as needed\n",
    "\n",
    "# Initialize lists to store mean cross-validation scores for each k\n",
    "mean_cv_scores = []\n",
    "\n",
    "# Iterate over each k value\n",
    "for k in k_values:\n",
    "    # Create a KNeighborsClassifier object with the current k value\n",
    "    knn_model = KNeighborsClassifier(n_neighbors=k)\n",
    "    \n",
    "    # Perform 5-fold cross-validation and compute the mean accuracy\n",
    "    cv_scores = cross_val_score(knn_model, x_train, y_train, cv=5, scoring='accuracy')\n",
    "    mean_cv_score = np.mean(cv_scores)\n",
    "    \n",
    "    # Append the mean cross-validation score to the list\n",
    "    mean_cv_scores.append(mean_cv_score)\n",
    "\n",
    "# Find the index of the k value with the highest mean cross-validation score\n",
    "best_k_index = np.argmax(mean_cv_scores)\n",
    "\n",
    "# Get the best value of k\n",
    "best_k = k_values[best_k_index]\n",
    "\n",
    "print(f\"The best value of k is: {best_k}\")\n",
    "\n",
    "# Create a KNeighborsClassifier object with the best value of k\n",
    "best_knn_model = KNeighborsClassifier(n_neighbors=best_k)\n",
    "\n",
    "# Train the classifier\n",
    "best_knn_model.fit(x_train, y_train)\n",
    "\n",
    "# Predict the response for the test dataset\n",
    "y_pred = best_knn_model.predict(x_test)\n",
    "\n",
    "# Print the confusion matrix\n",
    "print('Confusion Matrix:')\n",
    "print(confusion_matrix(y_test, y_pred).T)\n",
    "\n",
    "# Calculate and print the total cost\n",
    "total_cost = np.sum(confusion_matrix(y_test, y_pred).T * cost_matrix)\n",
    "print(f\"\\nTotal Cost: {total_cost}\") \n",
    "\n",
    "# Print the classification report for additional evaluation metrics\n",
    "print('\\nClassification Report:')\n",
    "print(classification_report(y_test, y_pred, target_names=[\"Reported having MI or CHD\", \"Did not report having MI or CHD\"]))\n",
    "\n",
    "# Extract macro metrics from the classification report\n",
    "metrics_dict = classification_report(y_test, y_pred, target_names=[\"Reported having MI or CHD\", \"Did not report having MI or CHD\"], output_dict=True)['macro avg']\n",
    "\n",
<<<<<<< HEAD
<<<<<<< HEAD
    "# Update the performance metrics DataFrame with KNN results\n",
    "BorderlineSMOTE_loss.loc['Total Cost baseline', 'KNN'] = total_cost\n",
    "BorderlineSMOTE_precision.loc['macro precision baseline', 'KNN'] = metrics_dict['precision']\n",
    "BorderlineSMOTE_recall.loc['macro recall baseline', 'KNN'] = metrics_dict['recall']\n",
    "BorderlineSMOTE_f1_score.loc['macro f1-score baseline', 'KNN'] = metrics_dict['f1-score']"
   ]
=======
=======
>>>>>>> origin/main
    "if method==1:\n",
    "    BorderlineSMOTE_loss.loc['Total Cost baseline', 'KNN'] = total_cost\n",
    "    BorderlineSMOTE_precision.loc['macro precision baseline', 'KNN'] = metrics_dict['precision']\n",
    "    BorderlineSMOTE_recall.loc['macro recall baseline', 'KNN'] = metrics_dict['recall']\n",
    "    BorderlineSMOTE_f1_score.loc['macro f1-score baseline', 'KNN'] = metrics_dict['f1-score']\n",
    "elif method==2:\n",
    "    smote_tomek_loss.loc['Total Cost baseline', 'KNN'] = total_cost\n",
    "    smote_tomek_precision.loc['macro precision baseline', 'KNN'] = metrics_dict['precision']\n",
    "    smote_tomek_recall.loc['macro recall baseline', 'KNN'] = metrics_dict['recall']\n",
    "    smote_tomek_f1_score.loc['macro f1-score baseline', 'KNN'] = metrics_dict['f1-score']\n",
    "elif method==3:\n",
    "    adasyn_loss.loc['Total Cost baseline', 'KNN'] = total_cost\n",
    "    adasyn_precision.loc['macro precision baseline', 'KNN'] = metrics_dict['precision']\n",
    "    adasyn_recall.loc['macro recall baseline', 'KNN'] = metrics_dict['recall']\n",
    "    adasyn_f1_score.loc['macro f1-score baseline', 'KNN'] = metrics_dict['f1-score']\n",
    "else:\n",
    "    SMOTE_loss.loc['Total Cost baseline', 'KNN'] = total_cost\n",
    "    SMOTE_precision.loc['macro precision baseline', 'KNN'] = metrics_dict['precision']\n",
    "    SMOTE_recall.loc['macro recall baseline', 'KNN'] = metrics_dict['recall']\n",
    "    SMOTE_f1_score.loc['macro f1-score baseline', 'KNN'] = metrics_dict['f1-score']"
<<<<<<< HEAD
=======
   ],
   "outputs": [],
   "execution_count": null
  },
  {
   "metadata": {},
   "cell_type": "code",
   "source": [
    "def predict(y_prob, cost_m):\n",
    "    t_BMR = (cost_m[1][0] - cost_m[1][1])/(cost_m[0][1] - cost_m[1][1] - cost_m[0][0] + cost_m[1][0])\n",
    "    y_pred = np.greater(y_prob[:, 1], t_BMR).astype(int)\n",
    "    \n",
    "    return y_pred\n",
    "\n",
    "\n",
    "from sklearn.calibration import CalibratedClassifierCV\n",
    "\n",
    "# Create a KNeighborsClassifier object with the best value of k\n",
    "knn_model = CalibratedClassifierCV(KNeighborsClassifier(n_neighbors=best_k), method='isotonic', cv=10)\n",
    "\n",
    "# Train the classifier\n",
    "knn_model.fit(x_train, y_train)\n",
    "\n",
    "# Predict the response for the test dataset\n",
    "y_prob = knn_model.predict_proba(x_test)\n",
    "y_pred = predict(y_prob, cost_matrix)\n",
    "\n",
    "# Print the confusion matrix\n",
    "print('Confusion Matrix:')\n",
    "print(confusion_matrix(y_test, y_pred).T)\n",
    "\n",
    "# Calculate and print the total cost\n",
    "total_cost = np.sum(confusion_matrix(y_test, y_pred).T * cost_matrix)\n",
    "print(f\"\\nTotal Cost: {total_cost}\") \n",
    "\n",
    "# Print the classification report for additional evaluation metrics\n",
    "print('\\nClassification Report:')\n",
    "print(classification_report(y_test, y_pred, target_names=[\"Reported having MI or CHD\", \"Did not report having MI or CHD\"]))\n",
    "\n",
    "# Extract macro metrics from the classification report\n",
    "metrics_dict = classification_report(y_test, y_pred, target_names=[\"Reported having MI or CHD\", \"Did not report having MI or CHD\"], output_dict=True)['macro avg']\n",
    "\n",
    "if method==1:\n",
    "    BorderlineSMOTE_loss.loc['Total Cost MEC', 'KNN'] = total_cost\n",
    "    BorderlineSMOTE_precision.loc['macro precision MEC', 'KNN'] = metrics_dict['precision']\n",
    "    BorderlineSMOTE_recall.loc['macro recall MEC', 'KNN'] = metrics_dict['recall']\n",
    "    BorderlineSMOTE_f1_score.loc['macro f1-score MEC', 'KNN'] = metrics_dict['f1-score']\n",
    "elif method==2:\n",
    "    smote_tomek_loss.loc['Total Cost MEC', 'KNN'] = total_cost\n",
    "    smote_tomek_precision.loc['macro precision MEC', 'KNN'] = metrics_dict['precision']\n",
    "    smote_tomek_recall.loc['macro recall MEC', 'KNN'] = metrics_dict['recall']\n",
    "    smote_tomek_f1_score.loc['macro f1-score MEC', 'KNN'] = metrics_dict['f1-score']\n",
    "elif method==3:\n",
    "    adasyn_loss.loc['Total Cost MEC', 'KNN'] = total_cost\n",
    "    adasyn_precision.loc['macro precision MEC', 'KNN'] = metrics_dict['precision']\n",
    "    adasyn_recall.loc['macro recall MEC', 'KNN'] = metrics_dict['recall']\n",
    "    adasyn_f1_score.loc['macro f1-score MEC', 'KNN'] = metrics_dict['f1-score']\n",
    "else:\n",
    "    SMOTE_loss.loc['Total Cost MEC', 'KNN'] = total_cost\n",
    "    SMOTE_precision.loc['macro precision MEC', 'KNN'] = metrics_dict['precision']\n",
    "    SMOTE_recall.loc['macro recall MEC', 'KNN'] = metrics_dict['recall']\n",
    "    SMOTE_f1_score.loc['macro f1-score MEC', 'KNN'] = metrics_dict['f1-score']"
   ],
   "outputs": [],
   "execution_count": null
  },
  {
   "metadata": {},
   "cell_type": "code",
   "source": [
    "from sklearn.utils import resample\n",
    "\n",
    "# sample_weights = np.zeros_like(y_train, dtype=float)\n",
    "# sample_weights[y_train == 0] = cost_matrix[0][1]\n",
    "# sample_weights[y_train == 1] = cost_matrix[1][0]\n",
    "\n",
    "# Convert y_train to a NumPy array\n",
    "y_train_array = y_train.values\n",
    "\n",
    "# Get indices of minority class instances\n",
    "minority_indices = np.where(y_train == 1)[0]\n",
    "\n",
    "# Replicate minority class instances with their respective weights\n",
    "x_train_up = np.repeat(x_train.iloc[minority_indices], sample_weights[minority_indices].astype(int), axis=0)\n",
    "y_train_up = np.repeat(y_train_array[minority_indices], sample_weights[minority_indices].astype(int))\n",
    "\n",
    "# Concatenate the upsampled minority class with the majority class\n",
    "x_train_weighted = np.vstack((x_train[y_train == 0], x_train_up))\n",
    "y_train_weighted = np.hstack((y_train[y_train == 0], y_train_up))\n",
    "\n",
    "# Create a KNeighborsClassifier object with the best value of k\n",
    "knn_model = KNeighborsClassifier(n_neighbors=best_k)\n",
    "\n",
    "# Train the classifier\n",
    "knn_model.fit(x_train_weighted, y_train_weighted)\n",
    "\n",
    "# Predict the response for the test dataset\n",
    "y_pred = knn_model.predict(x_test)\n",
    "\n",
    "# Print the confusion matrix\n",
    "print('Confusion Matrix:')\n",
    "print(confusion_matrix(y_test, y_pred).T)\n",
    "\n",
    "# Calculate and print the total cost\n",
    "total_cost = np.sum(confusion_matrix(y_test, y_pred).T * cost_matrix)\n",
    "print(f\"\\nTotal Cost: {total_cost}\") \n",
    "\n",
    "# Print the classification report for additional evaluation metrics\n",
    "print('\\nClassification Report:')\n",
    "print(classification_report(y_test, y_pred, target_names=[\"Reported having MI or CHD\", \"Did not report having MI or CHD\"]))\n",
    "\n",
    "# Extract macro metrics from the classification report\n",
    "metrics_dict = classification_report(y_test, y_pred, target_names=[\"Reported having MI or CHD\", \"Did not report having MI or CHD\"], output_dict=True)['macro avg']\n",
    "\n",
    "if method==1:\n",
    "    BorderlineSMOTE_loss.loc['Total Cost weighting', 'KNN'] = total_cost\n",
    "    BorderlineSMOTE_precision.loc['macro precision weighting', 'KNN'] = metrics_dict['precision']\n",
    "    BorderlineSMOTE_recall.loc['macro recall weighting', 'KNN'] = metrics_dict['recall']\n",
    "    BorderlineSMOTE_f1_score.loc['macro f1-score weighting', 'KNN'] = metrics_dict['f1-score']\n",
    "elif method==2:\n",
    "    smote_tomek_loss.loc['Total Cost weighting', 'KNN'] = total_cost\n",
    "    smote_tomek_precision.loc['macro precision weighting', 'KNN'] = metrics_dict['precision']\n",
    "    smote_tomek_recall.loc['macro recall weighting', 'KNN'] = metrics_dict['recall']\n",
    "    smote_tomek_f1_score.loc['macro f1-score weighting', 'KNN'] = metrics_dict['f1-score']\n",
    "elif method==3:\n",
    "    adasyn_loss.loc['Total Cost weighting', 'KNN'] = total_cost\n",
    "    adasyn_precision.loc['macro precision weighting', 'KNN'] = metrics_dict['precision']\n",
    "    adasyn_recall.loc['macro recall weighting', 'KNN'] = metrics_dict['recall']\n",
    "    adasyn_f1_score.loc['macro f1-score weighting', 'KNN'] = metrics_dict['f1-score']\n",
    "else:\n",
    "    SMOTE_loss.loc['Total Cost weighting', 'KNN'] = total_cost\n",
    "    SMOTE_precision.loc['macro precision weighting', 'KNN'] = metrics_dict['precision']\n",
    "    SMOTE_recall.loc['macro recall weighting', 'KNN'] = metrics_dict['recall']\n",
    "    SMOTE_f1_score.loc['macro f1-score weighting', 'KNN'] = metrics_dict['f1-score']"
   ],
   "outputs": [],
   "execution_count": null
  },
  {
   "metadata": {},
   "cell_type": "markdown",
   "source": "### ***LogisticRegression***"
  },
  {
   "metadata": {},
   "cell_type": "code",
   "source": [
    "from sklearn.linear_model import LogisticRegression\n",
    "\n",
    "# Define the parameter grid to search\n",
    "param_grid = {\n",
    "    'penalty': ['l1', 'l2'],  # Regularization penalty\n",
    "    'C': [0.001, 0.01, 0.1, 1, 10, 100],  # Inverse of regularization strength\n",
    "    'solver': ['liblinear', 'saga'] \n",
    "}\n",
    "\n",
    "# Create a Logistic Regression Classifier object\n",
    "logreg_classifier = LogisticRegression(random_state=SEED)\n",
    "\n",
    "# Instantiate the GridSearchCV object\n",
    "grid_search = GridSearchCV(logreg_classifier, param_grid, cv=5, scoring='accuracy')\n",
    "\n",
    "# Fit the grid search to the data\n",
    "grid_search.fit(x_train, y_train)\n",
    "\n",
    "# Print the best parameters found\n",
    "print(\"Best Parameters:\", grid_search.best_params_)\n",
    "\n",
    "# Use the best estimator to make predictions\n",
    "best_logreg_classifier = grid_search.best_estimator_\n",
    "y_pred = best_logreg_classifier.predict(x_test)\n",
    "\n",
    "# Print the confusion matrix and a classification report\n",
    "print('Confusion Matrix:')\n",
    "print(confusion_matrix(y_test, y_pred).T)\n",
    "\n",
    "total_cost = np.sum(confusion_matrix(y_test, y_pred).T * cost_matrix)\n",
    "print(f\"\\nTotal Cost: {total_cost}\")\n",
    "\n",
    "print(classification_report(y_test, y_pred, target_names=[\"Reported having MI or CHD\", \"Did not report having MI or CHD\"]))\n",
    "\n",
    "# Extract macro metrics from the classification report\n",
    "metrics_dict = classification_report(y_test, y_pred, target_names=[\"Reported having MI or CHD\", \"Did not report having MI or CHD\"], output_dict=True)['macro avg']\n",
    "\n",
    "if method==1:\n",
    "    BorderlineSMOTE_loss.loc['Total Cost baseline', 'Logistic Regression'] = total_cost\n",
    "    BorderlineSMOTE_precision.loc['macro precision baseline', 'Logistic Regression'] = metrics_dict['precision']\n",
    "    BorderlineSMOTE_recall.loc['macro recall baseline', 'Logistic Regression'] = metrics_dict['recall']\n",
    "    BorderlineSMOTE_f1_score.loc['macro f1-score baseline', 'Logistic Regression'] = metrics_dict['f1-score']\n",
    "elif method==2:\n",
    "    smote_tomek_loss.loc['Total Cost baseline', 'Logistic Regression'] = total_cost\n",
    "    smote_tomek_precision.loc['macro precision baseline', 'Logistic Regression'] = metrics_dict['precision']\n",
    "    smote_tomek_recall.loc['macro recall baseline', 'Logistic Regression'] = metrics_dict['recall']\n",
    "    smote_tomek_f1_score.loc['macro f1-score baseline', 'Logistic Regression'] = metrics_dict['f1-score']\n",
    "elif method==3:\n",
    "    adasyn_loss.loc['Total Cost baseline', 'Logistic Regression'] = total_cost\n",
    "    adasyn_precision.loc['macro precision baseline', 'Logistic Regression'] = metrics_dict['precision']\n",
    "    adasyn_recall.loc['macro recall baseline', 'Logistic Regression'] = metrics_dict['recall']\n",
    "    adasyn_f1_score.loc['macro f1-score baseline', 'Logistic Regression'] = metrics_dict['f1-score']\n",
    "else:\n",
    "    SMOTE_loss.loc['Total Cost baseline', 'Logistic Regression'] = total_cost\n",
    "    SMOTE_precision.loc['macro precision baseline', 'Logistic Regression'] = metrics_dict['precision']\n",
    "    SMOTE_recall.loc['macro recall baseline', 'Logistic Regression'] = metrics_dict['recall']\n",
    "    SMOTE_f1_score.loc['macro f1-score baseline', 'Logistic Regression'] = metrics_dict['f1-score']"
   ],
   "outputs": [],
   "execution_count": null
  },
  {
   "metadata": {},
   "cell_type": "code",
   "source": [
    "def predict(y_prob, cost_m):\n",
    "    t_BMR = (cost_m[1][0] - cost_m[1][1])/(cost_m[0][1] - cost_m[1][1] - cost_m[0][0] + cost_m[1][0])\n",
    "    y_pred = np.greater(y_prob[:, 1], t_BMR).astype(int)\n",
    "    \n",
    "    return y_pred\n",
    "\n",
    "\n",
    "# Create a logistic regression classifier with the best parameters\n",
    "logreg_model = CalibratedClassifierCV(LogisticRegression(**grid_search.best_params_, random_state=SEED), method='isotonic', cv=10)\n",
    "\n",
    "# Train the classifier\n",
    "logreg_model.fit(x_train, y_train)\n",
    "\n",
    "# Predict probabilities for the test dataset\n",
    "y_prob = logreg_model.predict_proba(x_test)\n",
    "\n",
    "# Use the custom predict function to get binary predictions\n",
    "y_pred = predict(y_prob, cost_matrix)\n",
    "\n",
    "# Print the confusion matrix\n",
    "print('Confusion Matrix:')\n",
    "print(confusion_matrix(y_test, y_pred).T)\n",
    "\n",
    "# Calculate and print the total cost\n",
    "total_cost = np.sum(confusion_matrix(y_test, y_pred).T * cost_matrix)\n",
    "print(f\"\\nTotal Cost: {total_cost}\") \n",
    "\n",
    "# Print the classification report for additional evaluation metrics\n",
    "print('\\nClassification Report:')\n",
    "print(classification_report(y_test, y_pred, target_names=[\"Reported having MI or CHD\", \"Did not report having MI or CHD\"]))\n",
    "\n",
    "# Extract macro metrics from the classification report\n",
    "metrics_dict = classification_report(y_test, y_pred, target_names=[\"Reported having MI or CHD\", \"Did not report having MI or CHD\"], output_dict=True)['macro avg']\n",
    "\n",
    "# Update the appropriate DataFrame based on the chosen method\n",
    "if method == 1:\n",
    "    BorderlineSMOTE_loss.loc['Total Cost MEC', 'Logistic Regression'] = total_cost\n",
    "    BorderlineSMOTE_precision.loc['macro precision MEC', 'Logistic Regression'] = metrics_dict['precision']\n",
    "    BorderlineSMOTE_recall.loc['macro recall MEC', 'Logistic Regression'] = metrics_dict['recall']\n",
    "    BorderlineSMOTE_f1_score.loc['macro f1-score MEC', 'Logistic Regression'] = metrics_dict['f1-score']\n",
    "elif method == 2:\n",
    "    smote_tomek_loss.loc['Total Cost MEC', 'Logistic Regression'] = total_cost\n",
    "    smote_tomek_precision.loc['macro precision MEC', 'Logistic Regression'] = metrics_dict['precision']\n",
    "    smote_tomek_recall.loc['macro recall MEC', 'Logistic Regression'] = metrics_dict['recall']\n",
    "    smote_tomek_f1_score.loc['macro f1-score MEC', 'Logistic Regression'] = metrics_dict['f1-score']\n",
    "elif method == 3:\n",
    "    adasyn_loss.loc['Total Cost MEC', 'Logistic Regression'] = total_cost\n",
    "    adasyn_precision.loc['macro precision MEC', 'Logistic Regression'] = metrics_dict['precision']\n",
    "    adasyn_recall.loc['macro recall MEC', 'Logistic Regression'] = metrics_dict['recall']\n",
    "    adasyn_f1_score.loc['macro f1-score MEC', 'Logistic Regression'] = metrics_dict['f1-score']\n",
    "else:\n",
    "    SMOTE_loss.loc['Total Cost MEC', 'Logistic Regression'] = total_cost\n",
    "    SMOTE_precision.loc['macro precision MEC', 'Logistic Regression'] = metrics_dict['precision']\n",
    "    SMOTE_recall.loc['macro recall MEC', 'Logistic Regression'] = metrics_dict['recall']\n",
    "    SMOTE_f1_score.loc['macro f1-score MEC', 'Logistic Regression'] = metrics_dict['f1-score']"
   ],
   "outputs": [],
   "execution_count": null
  },
  {
   "metadata": {},
   "cell_type": "code",
   "source": [
    "sample_weights = np.zeros_like(y_train, dtype=float)\n",
    "sample_weights[y_train == 0] = cost_matrix[0][1]\n",
    "sample_weights[y_train == 1] = cost_matrix[1][0]\n",
    "\n",
    "# Create a logistic regression classifier with the best parameters\n",
    "logreg_model = LogisticRegression(**grid_search.best_params_, random_state=SEED, max_iter=10000)\n",
    "\n",
    "# Train the classifier with sample weights\n",
    "logreg_classifier.fit(x_train, y_train, sample_weight=sample_weights)\n",
    "\n",
    "# Predict the response for the test dataset\n",
    "y_pred = logreg_classifier.predict(x_test)\n",
    "\n",
    "# Print the confusion matrix and a classification report\n",
    "print('Confusion Matrix:')\n",
    "print(confusion_matrix(y_test, y_pred).T)\n",
    "\n",
    "total_cost = np.sum(confusion_matrix(y_test, y_pred).T * cost_matrix)\n",
    "print(f\"\\nTotal Cost: {total_cost}\")\n",
    "\n",
    "print(classification_report(y_test, y_pred, target_names=[\"Reported having MI or CHD\", \"Did not report having MI or CHD\"]))\n",
    "\n",
    "# Extract macro metrics from the classification report\n",
    "metrics_dict = classification_report(y_test, y_pred, target_names=[\"Reported having MI or CHD\", \"Did not report having MI or CHD\"], output_dict=True)['macro avg']\n",
    "\n",
    "# Update the appropriate DataFrame based on the chosen method\n",
    "if method == 1:\n",
    "    BorderlineSMOTE_loss.loc['Total Cost weighting', 'Logistic Regression'] = total_cost\n",
    "    BorderlineSMOTE_precision.loc['macro precision weighting', 'Logistic Regression'] = metrics_dict['precision']\n",
    "    BorderlineSMOTE_recall.loc['macro recall weighting', 'Logistic Regression'] = metrics_dict['recall']\n",
    "    BorderlineSMOTE_f1_score.loc['macro f1-score weighting', 'Logistic Regression'] = metrics_dict['f1-score']\n",
    "elif method == 2:\n",
    "    smote_tomek_loss.loc['Total Cost weighting', 'Logistic Regression'] = total_cost\n",
    "    smote_tomek_precision.loc['macro precision weighting', 'Logistic Regression'] = metrics_dict['precision']\n",
    "    smote_tomek_recall.loc['macro recall weighting', 'Logistic Regression'] = metrics_dict['recall']\n",
    "    smote_tomek_f1_score.loc['macro f1-score weighting', 'Logistic Regression'] = metrics_dict['f1-score']\n",
    "elif method == 3:\n",
    "    adasyn_loss.loc['Total Cost weighting', 'Logistic Regression'] = total_cost\n",
    "    adasyn_precision.loc['macro precision weighting', 'Logistic Regression'] = metrics_dict['precision']\n",
    "    adasyn_recall.loc['macro recall weighting', 'Logistic Regression'] = metrics_dict['recall']\n",
    "    adasyn_f1_score.loc['macro f1-score weighting', 'Logistic Regression'] = metrics_dict['f1-score']\n",
    "else:\n",
    "    SMOTE_loss.loc['Total Cost weighting', 'Logistic Regression'] = total_cost\n",
    "    SMOTE_precision.loc['macro precision weighting', 'Logistic Regression'] = metrics_dict['precision']\n",
    "    SMOTE_recall.loc['macro recall weighting', 'Logistic Regression'] = metrics_dict['recall']\n",
    "    SMOTE_f1_score.loc['macro f1-score weighting', 'Logistic Regression'] = metrics_dict['f1-score']"
>>>>>>> origin/main
   ],
   "outputs": [
    {
     "name": "stdout",
     "output_type": "stream",
     "text": [
      "The best value of k is: 1\n",
      "Confusion Matrix:\n",
      "[[35891  7194]\n",
      " [ 2815 30956]]\n",
      "\n",
      "Total Cost: 4613.5\n",
      "\n",
      "Classification Report:\n",
      "                                 precision    recall  f1-score   support\n",
      "\n",
      "      Reported having MI or CHD       0.83      0.93      0.88     38706\n",
      "Did not report having MI or CHD       0.92      0.81      0.86     38150\n",
      "\n",
      "                       accuracy                           0.87     76856\n",
      "                      macro avg       0.87      0.87      0.87     76856\n",
      "                   weighted avg       0.87      0.87      0.87     76856\n",
      "\n"
     ]
    }
   ],
   "execution_count": 59
  },
  {
   "metadata": {
    "ExecuteTime": {
     "end_time": "2024-04-30T00:04:53.636253Z",
     "start_time": "2024-04-29T22:31:19.610539Z"
    }
   },
   "cell_type": "code",
   "source": [
    "def predict(y_prob, cost_m):\n",
    "    t_BMR = (cost_m[1][0] - cost_m[1][1])/(cost_m[0][1] - cost_m[1][1] - cost_m[0][0] + cost_m[1][0])\n",
    "    y_pred = np.greater(y_prob[:, 1], t_BMR).astype(int)\n",
    "    \n",
    "    return y_pred\n",
    "\n",
    "\n",
    "from sklearn.calibration import CalibratedClassifierCV\n",
    "\n",
    "# Create a KNeighborsClassifier object with the best value of k\n",
    "knn_model = CalibratedClassifierCV(KNeighborsClassifier(n_neighbors=best_k), method='isotonic', cv=10)\n",
    "\n",
    "# Train the classifier\n",
    "knn_model.fit(x_train, y_train)\n",
    "\n",
    "# Predict the response for the test dataset\n",
    "y_prob = knn_model.predict_proba(x_test)\n",
    "y_pred = predict(y_prob, cost_matrix)\n",
    "\n",
    "# Print the confusion matrix\n",
    "print('Confusion Matrix:')\n",
    "print(confusion_matrix(y_test, y_pred).T)\n",
    "\n",
    "# Calculate and print the total cost\n",
    "total_cost = np.sum(confusion_matrix(y_test, y_pred).T * cost_matrix)\n",
    "print(f\"\\nTotal Cost: {total_cost}\") \n",
    "\n",
    "# Print the classification report for additional evaluation metrics\n",
    "print('\\nClassification Report:')\n",
    "print(classification_report(y_test, y_pred, target_names=[\"Reported having MI or CHD\", \"Did not report having MI or CHD\"]))\n",
    "\n",
    "# Extract macro metrics from the classification report\n",
    "metrics_dict = classification_report(y_test, y_pred, target_names=[\"Reported having MI or CHD\", \"Did not report having MI or CHD\"], output_dict=True)['macro avg']\n",
    "\n",
    "if method==1:\n",
    "    BorderlineSMOTE_loss.loc['Total Cost MEC', 'KNN'] = total_cost\n",
    "    BorderlineSMOTE_precision.loc['macro precision MEC', 'KNN'] = metrics_dict['precision']\n",
    "    BorderlineSMOTE_recall.loc['macro recall MEC', 'KNN'] = metrics_dict['recall']\n",
    "    BorderlineSMOTE_f1_score.loc['macro f1-score MEC', 'KNN'] = metrics_dict['f1-score']\n",
    "elif method==2:\n",
    "    smote_tomek_loss.loc['Total Cost MEC', 'KNN'] = total_cost\n",
    "    smote_tomek_precision.loc['macro precision MEC', 'KNN'] = metrics_dict['precision']\n",
    "    smote_tomek_recall.loc['macro recall MEC', 'KNN'] = metrics_dict['recall']\n",
    "    smote_tomek_f1_score.loc['macro f1-score MEC', 'KNN'] = metrics_dict['f1-score']\n",
    "elif method==3:\n",
    "    adasyn_loss.loc['Total Cost MEC', 'KNN'] = total_cost\n",
    "    adasyn_precision.loc['macro precision MEC', 'KNN'] = metrics_dict['precision']\n",
    "    adasyn_recall.loc['macro recall MEC', 'KNN'] = metrics_dict['recall']\n",
    "    adasyn_f1_score.loc['macro f1-score MEC', 'KNN'] = metrics_dict['f1-score']\n",
    "else:\n",
    "    SMOTE_loss.loc['Total Cost MEC', 'KNN'] = total_cost\n",
    "    SMOTE_precision.loc['macro precision MEC', 'KNN'] = metrics_dict['precision']\n",
    "    SMOTE_recall.loc['macro recall MEC', 'KNN'] = metrics_dict['recall']\n",
    "    SMOTE_f1_score.loc['macro f1-score MEC', 'KNN'] = metrics_dict['f1-score']"
   ],
   "outputs": [
    {
     "name": "stdout",
     "output_type": "stream",
     "text": [
      "Confusion Matrix:\n",
      "[[35891  7194]\n",
      " [ 2815 30956]]\n",
      "\n",
      "Total Cost: 4613.5\n",
      "\n",
      "Classification Report:\n",
      "                                 precision    recall  f1-score   support\n",
      "\n",
      "      Reported having MI or CHD       0.83      0.93      0.88     38706\n",
      "Did not report having MI or CHD       0.92      0.81      0.86     38150\n",
      "\n",
      "                       accuracy                           0.87     76856\n",
      "                      macro avg       0.87      0.87      0.87     76856\n",
      "                   weighted avg       0.87      0.87      0.87     76856\n",
      "\n"
     ]
    }
   ],
   "execution_count": 60
  },
  {
   "metadata": {
    "ExecuteTime": {
     "end_time": "2024-04-30T09:03:22.046288Z",
     "start_time": "2024-04-30T08:55:30.490330Z"
    }
   },
   "cell_type": "code",
   "source": [
    "from sklearn.utils import resample\n",
    "\n",
    "# sample_weights = np.zeros_like(y_train, dtype=float)\n",
    "# sample_weights[y_train == 0] = cost_matrix[0][1]\n",
    "# sample_weights[y_train == 1] = cost_matrix[1][0]\n",
    "\n",
    "# Convert y_train to a NumPy array\n",
    "y_train_array = y_train.values\n",
    "\n",
    "# Get indices of minority class instances\n",
    "minority_indices = np.where(y_train == 1)[0]\n",
    "\n",
    "# Replicate minority class instances with their respective weights\n",
    "x_train_up = np.repeat(x_train.iloc[minority_indices], sample_weights[minority_indices].astype(int), axis=0)\n",
    "y_train_up = np.repeat(y_train_array[minority_indices], sample_weights[minority_indices].astype(int))\n",
    "\n",
    "# Concatenate the upsampled minority class with the majority class\n",
    "x_train_weighted = np.vstack((x_train[y_train == 0], x_train_up))\n",
    "y_train_weighted = np.hstack((y_train[y_train == 0], y_train_up))\n",
    "\n",
    "# Create a KNeighborsClassifier object with the best value of k\n",
    "knn_model = KNeighborsClassifier(n_neighbors=best_k)\n",
    "\n",
    "# Train the classifier\n",
    "knn_model.fit(x_train_weighted, y_train_weighted)\n",
    "\n",
    "# Predict the response for the test dataset\n",
    "y_pred = knn_model.predict(x_test)\n",
    "\n",
    "# Print the confusion matrix\n",
    "print('Confusion Matrix:')\n",
    "print(confusion_matrix(y_test, y_pred).T)\n",
    "\n",
    "# Calculate and print the total cost\n",
    "total_cost = np.sum(confusion_matrix(y_test, y_pred).T * cost_matrix)\n",
    "print(f\"\\nTotal Cost: {total_cost}\") \n",
    "\n",
    "# Print the classification report for additional evaluation metrics\n",
    "print('\\nClassification Report:')\n",
    "print(classification_report(y_test, y_pred, target_names=[\"Reported having MI or CHD\", \"Did not report having MI or CHD\"]))\n",
    "\n",
    "# Extract macro metrics from the classification report\n",
    "metrics_dict = classification_report(y_test, y_pred, target_names=[\"Reported having MI or CHD\", \"Did not report having MI or CHD\"], output_dict=True)['macro avg']\n",
    "\n",
    "if method==1:\n",
    "    BorderlineSMOTE_loss.loc['Total Cost weighting', 'KNN'] = total_cost\n",
    "    BorderlineSMOTE_precision.loc['macro precision weighting', 'KNN'] = metrics_dict['precision']\n",
    "    BorderlineSMOTE_recall.loc['macro recall weighting', 'KNN'] = metrics_dict['recall']\n",
    "    BorderlineSMOTE_f1_score.loc['macro f1-score weighting', 'KNN'] = metrics_dict['f1-score']\n",
    "elif method==2:\n",
    "    smote_tomek_loss.loc['Total Cost weighting', 'KNN'] = total_cost\n",
    "    smote_tomek_precision.loc['macro precision weighting', 'KNN'] = metrics_dict['precision']\n",
    "    smote_tomek_recall.loc['macro recall weighting', 'KNN'] = metrics_dict['recall']\n",
    "    smote_tomek_f1_score.loc['macro f1-score weighting', 'KNN'] = metrics_dict['f1-score']\n",
    "elif method==3:\n",
    "    adasyn_loss.loc['Total Cost weighting', 'KNN'] = total_cost\n",
    "    adasyn_precision.loc['macro precision weighting', 'KNN'] = metrics_dict['precision']\n",
    "    adasyn_recall.loc['macro recall weighting', 'KNN'] = metrics_dict['recall']\n",
    "    adasyn_f1_score.loc['macro f1-score weighting', 'KNN'] = metrics_dict['f1-score']\n",
    "else:\n",
    "    SMOTE_loss.loc['Total Cost weighting', 'KNN'] = total_cost\n",
    "    SMOTE_precision.loc['macro precision weighting', 'KNN'] = metrics_dict['precision']\n",
    "    SMOTE_recall.loc['macro recall weighting', 'KNN'] = metrics_dict['recall']\n",
    "    SMOTE_f1_score.loc['macro f1-score weighting', 'KNN'] = metrics_dict['f1-score']"
   ],
   "outputs": [
    {
     "name": "stderr",
     "output_type": "stream",
     "text": [
      "C:\\Users\\skape\\PycharmProjects\\pythonProject3\\.venv\\Lib\\site-packages\\sklearn\\base.py:486: UserWarning: X has feature names, but KNeighborsClassifier was fitted without feature names\n",
      "  warnings.warn(\n"
     ]
    },
    {
     "name": "stdout",
     "output_type": "stream",
     "text": [
      "Confusion Matrix:\n",
      "[[38168 11085]\n",
      " [  538 27065]]\n",
      "\n",
      "Total Cost: 3309.25\n",
      "\n",
      "Classification Report:\n",
      "                                 precision    recall  f1-score   support\n",
      "\n",
      "      Reported having MI or CHD       0.77      0.99      0.87     38706\n",
      "Did not report having MI or CHD       0.98      0.71      0.82     38150\n",
      "\n",
      "                       accuracy                           0.85     76856\n",
      "                      macro avg       0.88      0.85      0.85     76856\n",
      "                   weighted avg       0.88      0.85      0.85     76856\n",
      "\n"
     ]
    }
   ],
   "execution_count": 67
  },
  {
   "metadata": {},
   "cell_type": "markdown",
   "source": "### ***LogisticRegression***"
  },
  {
   "metadata": {
    "ExecuteTime": {
     "end_time": "2024-04-30T18:23:50.488739Z",
     "start_time": "2024-04-30T17:32:18.663463Z"
    }
   },
   "cell_type": "code",
   "source": [
    "from sklearn.linear_model import LogisticRegression\n",
    "\n",
    "# Define the parameter grid to search\n",
    "param_grid = {\n",
    "    'penalty': ['l1', 'l2'],  # Regularization penalty\n",
    "    'C': [0.001, 0.01, 0.1, 1, 10, 100],  # Inverse of regularization strength\n",
    "    'solver': ['liblinear', 'saga'] \n",
    "}\n",
    "\n",
    "# Create a Logistic Regression Classifier object\n",
    "logreg_classifier = LogisticRegression(random_state=SEED)\n",
    "\n",
    "# Instantiate the GridSearchCV object\n",
    "grid_search = GridSearchCV(logreg_classifier, param_grid, cv=5, scoring='accuracy')\n",
    "\n",
    "# Fit the grid search to the data\n",
    "grid_search.fit(x_train, y_train)\n",
    "\n",
    "# Print the best parameters found\n",
    "print(\"Best Parameters:\", grid_search.best_params_)\n",
    "\n",
    "# Use the best estimator to make predictions\n",
    "best_logreg_classifier = grid_search.best_estimator_\n",
    "y_pred = best_logreg_classifier.predict(x_test)\n",
    "\n",
    "# Print the confusion matrix and a classification report\n",
    "print('Confusion Matrix:')\n",
    "print(confusion_matrix(y_test, y_pred).T)\n",
    "\n",
    "total_cost = np.sum(confusion_matrix(y_test, y_pred).T * cost_matrix)\n",
    "print(f\"\\nTotal Cost: {total_cost}\")\n",
    "\n",
    "print(classification_report(y_test, y_pred, target_names=[\"Reported having MI or CHD\", \"Did not report having MI or CHD\"]))\n",
    "\n",
    "# Extract macro metrics from the classification report\n",
    "metrics_dict = classification_report(y_test, y_pred, target_names=[\"Reported having MI or CHD\", \"Did not report having MI or CHD\"], output_dict=True)['macro avg']\n",
    "\n",
    "if method==1:\n",
    "    BorderlineSMOTE_loss.loc['Total Cost baseline', 'Logistic Regression'] = total_cost\n",
    "    BorderlineSMOTE_precision.loc['macro precision baseline', 'Logistic Regression'] = metrics_dict['precision']\n",
    "    BorderlineSMOTE_recall.loc['macro recall baseline', 'Logistic Regression'] = metrics_dict['recall']\n",
    "    BorderlineSMOTE_f1_score.loc['macro f1-score baseline', 'Logistic Regression'] = metrics_dict['f1-score']\n",
    "elif method==2:\n",
    "    smote_tomek_loss.loc['Total Cost baseline', 'Logistic Regression'] = total_cost\n",
    "    smote_tomek_precision.loc['macro precision baseline', 'Logistic Regression'] = metrics_dict['precision']\n",
    "    smote_tomek_recall.loc['macro recall baseline', 'Logistic Regression'] = metrics_dict['recall']\n",
    "    smote_tomek_f1_score.loc['macro f1-score baseline', 'Logistic Regression'] = metrics_dict['f1-score']\n",
    "elif method==3:\n",
    "    adasyn_loss.loc['Total Cost baseline', 'Logistic Regression'] = total_cost\n",
    "    adasyn_precision.loc['macro precision baseline', 'Logistic Regression'] = metrics_dict['precision']\n",
    "    adasyn_recall.loc['macro recall baseline', 'Logistic Regression'] = metrics_dict['recall']\n",
    "    adasyn_f1_score.loc['macro f1-score baseline', 'Logistic Regression'] = metrics_dict['f1-score']\n",
    "else:\n",
    "    SMOTE_loss.loc['Total Cost baseline', 'Logistic Regression'] = total_cost\n",
    "    SMOTE_precision.loc['macro precision baseline', 'Logistic Regression'] = metrics_dict['precision']\n",
    "    SMOTE_recall.loc['macro recall baseline', 'Logistic Regression'] = metrics_dict['recall']\n",
    "    SMOTE_f1_score.loc['macro f1-score baseline', 'Logistic Regression'] = metrics_dict['f1-score']"
   ],
   "outputs": [
    {
     "name": "stdout",
     "output_type": "stream",
     "text": [
      "Best Parameters: {'C': 0.1, 'penalty': 'l1', 'solver': 'saga'}\n",
      "Confusion Matrix:\n",
      "[[31488 10259]\n",
      " [ 7218 27891]]\n",
      "\n",
      "Total Cost: 9782.75\n",
      "                                 precision    recall  f1-score   support\n",
      "\n",
      "      Reported having MI or CHD       0.75      0.81      0.78     38706\n",
      "Did not report having MI or CHD       0.79      0.73      0.76     38150\n",
      "\n",
      "                       accuracy                           0.77     76856\n",
      "                      macro avg       0.77      0.77      0.77     76856\n",
      "                   weighted avg       0.77      0.77      0.77     76856\n",
      "\n"
     ]
    }
   ],
   "execution_count": 110
  },
  {
   "metadata": {
    "ExecuteTime": {
     "end_time": "2024-04-30T11:43:59.556759Z",
     "start_time": "2024-04-30T11:43:36.814859Z"
    }
   },
   "cell_type": "code",
   "source": [
    "def predict(y_prob, cost_m):\n",
    "    t_BMR = (cost_m[1][0] - cost_m[1][1])/(cost_m[0][1] - cost_m[1][1] - cost_m[0][0] + cost_m[1][0])\n",
    "    y_pred = np.greater(y_prob[:, 1], t_BMR).astype(int)\n",
    "    \n",
    "    return y_pred\n",
    "\n",
    "\n",
    "# Create a logistic regression classifier with the best parameters\n",
    "logreg_model = LogisticRegression(**grid_search.best_params_, random_state=SEED)\n",
    "\n",
    "# Train the classifier\n",
    "logreg_model.fit(x_train, y_train)\n",
    "\n",
    "# Predict probabilities for the test dataset\n",
    "y_prob = logreg_model.predict_proba(x_test)\n",
    "\n",
    "# Use the custom predict function to get binary predictions\n",
    "y_pred = predict(y_prob, cost_matrix)\n",
    "\n",
    "# Print the confusion matrix\n",
    "print('Confusion Matrix:')\n",
    "print(confusion_matrix(y_test, y_pred).T)\n",
    "\n",
    "# Calculate and print the total cost\n",
    "total_cost = np.sum(confusion_matrix(y_test, y_pred).T * cost_matrix)\n",
    "print(f\"\\nTotal Cost: {total_cost}\") \n",
    "\n",
    "# Print the classification report for additional evaluation metrics\n",
    "print('\\nClassification Report:')\n",
    "print(classification_report(y_test, y_pred, target_names=[\"Reported having MI or CHD\", \"Did not report having MI or CHD\"]))\n",
    "\n",
    "# Extract macro metrics from the classification report\n",
    "metrics_dict = classification_report(y_test, y_pred, target_names=[\"Reported having MI or CHD\", \"Did not report having MI or CHD\"], output_dict=True)['macro avg']\n",
    "\n",
    "# Update the appropriate DataFrame based on the chosen method\n",
    "if method == 1:\n",
    "    BorderlineSMOTE_loss.loc['Total Cost MEC', 'Logistic Regression'] = total_cost\n",
    "    BorderlineSMOTE_precision.loc['macro precision MEC', 'Logistic Regression'] = metrics_dict['precision']\n",
    "    BorderlineSMOTE_recall.loc['macro recall MEC', 'Logistic Regression'] = metrics_dict['recall']\n",
    "    BorderlineSMOTE_f1_score.loc['macro f1-score MEC', 'Logistic Regression'] = metrics_dict['f1-score']\n",
    "elif method == 2:\n",
    "    smote_tomek_loss.loc['Total Cost MEC', 'Logistic Regression'] = total_cost\n",
    "    smote_tomek_precision.loc['macro precision MEC', 'Logistic Regression'] = metrics_dict['precision']\n",
    "    smote_tomek_recall.loc['macro recall MEC', 'Logistic Regression'] = metrics_dict['recall']\n",
    "    smote_tomek_f1_score.loc['macro f1-score MEC', 'Logistic Regression'] = metrics_dict['f1-score']\n",
    "elif method == 3:\n",
    "    adasyn_loss.loc['Total Cost MEC', 'Logistic Regression'] = total_cost\n",
    "    adasyn_precision.loc['macro precision MEC', 'Logistic Regression'] = metrics_dict['precision']\n",
    "    adasyn_recall.loc['macro recall MEC', 'Logistic Regression'] = metrics_dict['recall']\n",
    "    adasyn_f1_score.loc['macro f1-score MEC', 'Logistic Regression'] = metrics_dict['f1-score']\n",
    "else:\n",
    "    SMOTE_loss.loc['Total Cost MEC', 'Logistic Regression'] = total_cost\n",
    "    SMOTE_precision.loc['macro precision MEC', 'Logistic Regression'] = metrics_dict['precision']\n",
    "    SMOTE_recall.loc['macro recall MEC', 'Logistic Regression'] = metrics_dict['recall']\n",
    "    SMOTE_f1_score.loc['macro f1-score MEC', 'Logistic Regression'] = metrics_dict['f1-score']"
   ],
   "outputs": [
    {
     "name": "stdout",
     "output_type": "stream",
     "text": [
      "Confusion Matrix:\n",
      "[[37587 21159]\n",
      " [ 1119 16991]]\n",
      "\n",
      "Total Cost: 6408.75\n",
      "\n",
      "Classification Report:\n",
      "                                 precision    recall  f1-score   support\n",
      "\n",
      "      Reported having MI or CHD       0.64      0.97      0.77     38706\n",
      "Did not report having MI or CHD       0.94      0.45      0.60     38150\n",
      "\n",
      "                       accuracy                           0.71     76856\n",
      "                      macro avg       0.79      0.71      0.69     76856\n",
      "                   weighted avg       0.79      0.71      0.69     76856\n",
      "\n"
     ]
    }
   ],
   "execution_count": 108
  },
  {
   "metadata": {
    "ExecuteTime": {
     "end_time": "2024-04-30T11:44:03.674187Z",
     "start_time": "2024-04-30T11:43:59.559755Z"
    }
   },
   "cell_type": "code",
   "source": [
    "sample_weights = np.zeros_like(y_train, dtype=float)\n",
    "sample_weights[y_train == 0] = cost_matrix[0][1]\n",
    "sample_weights[y_train == 1] = cost_matrix[1][0]\n",
    "\n",
    "# Create a logistic regression classifier with the best parameters\n",
    "logreg_model = LogisticRegression(**grid_search.best_params_, random_state=SEED, max_iter=10000)\n",
    "\n",
    "# Train the classifier with sample weights\n",
    "logreg_classifier.fit(x_train, y_train, sample_weight=sample_weights)\n",
    "\n",
    "# Predict the response for the test dataset\n",
    "y_pred = logreg_classifier.predict(x_test)\n",
    "\n",
    "# Print the confusion matrix and a classification report\n",
    "print('Confusion Matrix:')\n",
    "print(confusion_matrix(y_test, y_pred).T)\n",
    "\n",
    "total_cost = np.sum(confusion_matrix(y_test, y_pred).T * cost_matrix)\n",
    "print(f\"\\nTotal Cost: {total_cost}\")\n",
    "\n",
    "print(classification_report(y_test, y_pred, target_names=[\"Reported having MI or CHD\", \"Did not report having MI or CHD\"]))\n",
    "\n",
    "# Extract macro metrics from the classification report\n",
    "metrics_dict = classification_report(y_test, y_pred, target_names=[\"Reported having MI or CHD\", \"Did not report having MI or CHD\"], output_dict=True)['macro avg']\n",
    "\n",
    "# Update the appropriate DataFrame based on the chosen method\n",
    "if method == 1:\n",
    "    BorderlineSMOTE_loss.loc['Total Cost weighting', 'Logistic Regression'] = total_cost\n",
    "    BorderlineSMOTE_precision.loc['macro precision weighting', 'Logistic Regression'] = metrics_dict['precision']\n",
    "    BorderlineSMOTE_recall.loc['macro recall weighting', 'Logistic Regression'] = metrics_dict['recall']\n",
    "    BorderlineSMOTE_f1_score.loc['macro f1-score weighting', 'Logistic Regression'] = metrics_dict['f1-score']\n",
    "elif method == 2:\n",
    "    smote_tomek_loss.loc['Total Cost weighting', 'Logistic Regression'] = total_cost\n",
    "    smote_tomek_precision.loc['macro precision weighting', 'Logistic Regression'] = metrics_dict['precision']\n",
    "    smote_tomek_recall.loc['macro recall weighting', 'Logistic Regression'] = metrics_dict['recall']\n",
    "    smote_tomek_f1_score.loc['macro f1-score weighting', 'Logistic Regression'] = metrics_dict['f1-score']\n",
    "elif method == 3:\n",
    "    adasyn_loss.loc['Total Cost weighting', 'Logistic Regression'] = total_cost\n",
    "    adasyn_precision.loc['macro precision weighting', 'Logistic Regression'] = metrics_dict['precision']\n",
    "    adasyn_recall.loc['macro recall weighting', 'Logistic Regression'] = metrics_dict['recall']\n",
    "    adasyn_f1_score.loc['macro f1-score weighting', 'Logistic Regression'] = metrics_dict['f1-score']\n",
    "else:\n",
    "    SMOTE_loss.loc['Total Cost weighting', 'Logistic Regression'] = total_cost\n",
    "    SMOTE_precision.loc['macro precision weighting', 'Logistic Regression'] = metrics_dict['precision']\n",
    "    SMOTE_recall.loc['macro recall weighting', 'Logistic Regression'] = metrics_dict['recall']\n",
    "    SMOTE_f1_score.loc['macro f1-score weighting', 'Logistic Regression'] = metrics_dict['f1-score']"
   ],
   "outputs": [
    {
     "name": "stderr",
     "output_type": "stream",
     "text": [
      "C:\\Users\\skape\\PycharmProjects\\pythonProject3\\.venv\\Lib\\site-packages\\sklearn\\linear_model\\_logistic.py:469: ConvergenceWarning: lbfgs failed to converge (status=1):\n",
      "STOP: TOTAL NO. of ITERATIONS REACHED LIMIT.\n",
      "\n",
      "Increase the number of iterations (max_iter) or scale the data as shown in:\n",
      "    https://scikit-learn.org/stable/modules/preprocessing.html\n",
      "Please also refer to the documentation for alternative solver options:\n",
      "    https://scikit-learn.org/stable/modules/linear_model.html#logistic-regression\n",
      "  n_iter_i = _check_optimize_result(\n"
     ]
    },
    {
     "name": "stdout",
     "output_type": "stream",
     "text": [
      "Confusion Matrix:\n",
      "[[11664  2013]\n",
      " [27042 36137]]\n",
      "\n",
      "Total Cost: 27545.25\n",
      "                                 precision    recall  f1-score   support\n",
      "\n",
      "      Reported having MI or CHD       0.85      0.30      0.45     38706\n",
      "Did not report having MI or CHD       0.57      0.95      0.71     38150\n",
      "\n",
      "                       accuracy                           0.62     76856\n",
      "                      macro avg       0.71      0.62      0.58     76856\n",
      "                   weighted avg       0.71      0.62      0.58     76856\n",
      "\n"
     ]
    }
   ],
   "execution_count": 109
>>>>>>> origin/main
  },
  {
   "cell_type": "markdown",
   "metadata": {},
   "source": [
    "# ***Classification with NLP Methods***"
   ]
  },
  {
   "cell_type": "markdown",
   "metadata": {},
   "source": [
    "## Convert Original Data to Text Sequences"
   ]
  },
  {
   "cell_type": "markdown",
   "metadata": {},
   "source": [
    "### Sentences from Variable Values\n",
    "Create a small sentence from each variable value according to the 2021 SMART BRFSS Survey Codebook"
   ]
  },
  {
   "cell_type": "code",
   "execution_count": 11,
   "metadata": {},
   "outputs": [],
   "source": [
    "sequences = {\n",
    "    # Sec 1 Health Status\n",
    "    '_RFHLTH': {\n",
    "        1: \"i think my health is good or very good\",\n",
    "        2: \"i think my health is fair or poor\"\n",
    "    },\n",
    "\n",
    "    # Sec 2 Healthy Days\n",
    "    '_PHYS14D': {\n",
    "        1: \"my health has not been good for zero days\",\n",
    "        2: \"my health has not been good for 1-13 days\",\n",
    "        3: \"my health has not been good for 14 or more days\"\n",
    "    },\n",
    "\n",
    "    '_MENT14D': {\n",
    "        1: \"my mental health has not been good for zero days\",\n",
    "        2: \"my mental health has not been good for 1-13 days\",\n",
    "        3: \"my mental health has not been good for 14 or more days\"\n",
    "    },\n",
    "\n",
    "    # Sec 3 Health Care Access\n",
    "    '_HLTHPLN': {\n",
    "        1: \"i had some form of health insurance\",\n",
    "        2: \"i didn't have some form of health insurance\"\n",
    "    },\n",
    "\n",
    "    '_HCVU652': {\n",
    "        1: \"i have some form of health insurance\",\n",
    "        2: \"i don't have some form of health insurance\"\n",
    "    },\n",
    "\n",
    "    # Sec 4 Exercise\n",
    "    '_TOTINDA': {\n",
    "        1: \"i have exercised during the past 30 days\",\n",
    "        2: \"i haven't exercised during the past 30 days\"\n",
    "    },\n",
    "\n",
    "    # Sec 5 Hypertension Awareness\n",
    "    '_RFHYPE6': {\n",
    "        1: \"i haven't been told that my blood pressure is high\",\n",
    "        2: \"i have been told that my blood pressure is high\"\n",
    "    },\n",
    "\n",
    "    # Sec 6 Cholesterol Awareness\n",
    "    '_CHOLCH3': {\n",
    "        1: \"i have had my cholesterol checked within the past five years\",\n",
    "        2: \"i haven't had my cholesterol checked within the past five years\",\n",
    "        3: \"i have never had my cholesterol checked\"\n",
    "    },\n",
    "\n",
    "    '_RFCHOL3': {\n",
    "        1: \"i have checked my cholesterol and it's not high\",\n",
    "        2: \"i have checked my cholesterol and it's high\"\n",
    "    },\n",
    "\n",
    "    # Sec 7 Chronic Health Conditions\n",
    "    \n",
    "\n",
    "    # Sec 8 Arthritis\n",
    "    \n",
    "\n",
    "    # Sec 11 Tobacco Use\n",
    "    '_SMOKER3': {\n",
    "        1: \"i smoke every day\",\n",
    "        2: \"i smoke some days\",\n",
    "        3: \"i'm a former smoker\",\n",
    "        4: \"i've never smoked\"\n",
    "    },\n",
    "\n",
    "    # Sec 12 Alcohol Consumption\n",
    "    '_RFBING5': {\n",
    "        1: \"i didn't drink in the past 30 days, but if i did, i didn't drink five or more drinks on an occasion\",\n",
    "        2: \"i did drink in the past 30 days and had five or more drinks on one or more occasions in the past month\"\n",
    "    },\n",
    "\n",
    "    '_RFDRHV7': {\n",
    "        1: \"i'm not a heavy drinker\",\n",
    "        2: \"i'm a heavy drinker\"\n",
    "    },\n",
    "\n",
    "    # Sec 14 HIV/AIDS\n",
    "    '_AIDTST4': {\n",
    "        1: \"i have been tested for HIV\",\n",
    "        2: \"i haven't been tested for HIV\"\n",
    "    },\n",
    "\n",
    "    # Sec 15 Fruits & Vegetables\n",
    "    '_FRTLT1A': {\n",
    "        1: \"i eat fruits one or more times per day\",\n",
    "        2: \"i don't eat fruits one or more times per day\"\n",
    "    },\n",
    "\n",
    "    '_VEGLT1A': {\n",
    "        1: \"i eat vegetables one or more times per day\",\n",
    "        2: \"i don't eat vegetables one or more times per day\"\n",
    "    },\n",
    "    \n",
    "    # Sec 9 Demographics\n",
    "    '_INCOMG1': {\n",
    "        1: \"my inclome is less than 15,000\",\n",
    "        2: \"my income ranges from 15,000 to 25,000\",\n",
    "        3: \"my income ranges from 25,000 to 35,000\",\n",
    "        4: \"my income ranges from 35,000 to 50,000\",\n",
    "        5: \"my income ranges from 50,000 to 100,000\",\n",
    "        6: \"my income ranges from 100,000 to 200,000\",\n",
    "        7: \"my income ranges from 200,000 and higher\"\n",
    "    },\n",
    "\n",
    "    '_EDUCAG': {\n",
    "        1: \"i didn't graduate high school\",\n",
    "        2: \"i graduated high school\",\n",
    "        3: \"i attended college\",\n",
    "        4: \"i graduated from college\"\n",
    "    },\n",
    "\n",
    "    '_RFBMI5': {\n",
    "        1: \"my BMI is less than 25.00\",\n",
    "        2: \"my BMI is greater than 25.00\"\n",
    "    },\n",
    "\n",
    "    '_BMI5CAT': {\n",
    "        1: \"i am underweight\",\n",
    "        2: \"my weight is normal\",\n",
    "        3: \"i am overweight\",\n",
    "        4: \"i am obese\"\n",
    "    },\n",
    "\n",
    "    '_AGE_G': {\n",
    "        1: \"my age is 18 to 24\",\n",
    "        2: \"my age is 25 to 34\",\n",
    "        3: \"my age is 35 to 44\",\n",
    "        4: \"my age is 45 to 54\",\n",
    "        5: \"my age is 55 to 64\",\n",
    "        6: \"my age is 65 or older\",\n",
    "    },\n",
    "\n",
    "    '_SEX': {\n",
    "        1: \"i'm a male\",\n",
    "        2: \"i'm a female\"\n",
    "    },\n",
    "\n",
    "    '_RACE': {\n",
    "        1: \"i'm white\",\n",
    "        2: \"i'm black\",\n",
    "        3: \"i'm american indian or alaskan\",\n",
    "        4: \"i'm asian\",\n",
    "        5: \"i'm native hawaiian or other pacific islander\",\n",
    "        6: \"i belong to some other race\",\n",
    "        7: \"i'm multiracial\",\n",
    "        8: \"i'm hispanic\"\n",
    "    }\n",
    "}"
   ]
  },
  {
   "cell_type": "markdown",
   "metadata": {},
   "source": [
    "Target Variable: '_MICHD': {\n",
    "        1: \"i had MI or CHD\",\n",
    "        2: \"i haven't had MI or CHD\"\n",
    "    },"
   ]
  },
  {
   "cell_type": "markdown",
   "metadata": {},
   "source": [
    "### String Variable Values\n",
    "In the 2021 SMART BRFSS Codebook there are numerical values that correspond to string values, which represent a short description of the variable. The description of each variable value is used to create the small sentence. Here, we use the corresponding string values which might be the optimal and most practical choice of converting the numerical values to text. The reason why is obvious; we don't have to manually write small sentences for each variable value, we hust have to map each numerical value to its corresponding string value which already exists in the 2021 SMART Codebook."
   ]
  },
  {
   "cell_type": "code",
   "execution_count": 12,
   "metadata": {},
   "outputs": [],
   "source": [
    "string_var_values = {\n",
    "    # Sec 1 Health Status\n",
    "    '_RFHLTH': {\n",
    "        1: \"Good or Better Health\",\n",
    "        2: \"Fair or Poor Health\"\n",
    "    },\n",
    "\n",
    "    # Sec 2 Healthy Days\n",
    "    '_PHYS14D': {\n",
    "        1: \"Zero days when physical health not good\",\n",
    "        2: \"1-13 days when physical health not good\",\n",
    "        3: \"14+ days when physical health not good\"\n",
    "    },\n",
    "\n",
    "    '_MENT14D': {\n",
    "        1: \"Zero days when mental health not good\",\n",
    "        2: \"1-13 days when mental health not good\",\n",
    "        3: \"14+ days when mental health not good\"\n",
    "    },\n",
    "\n",
    "    # Sec 3 Health Care Access\n",
    "    '_HLTHPLN': {\n",
    "        1: \"Have some form of insurance\",\n",
    "        2: \"Do not have some form of health insurance\"\n",
    "    },\n",
    "\n",
    "    '_HCVU652': {\n",
    "        1: \"Have some form of health insurance\",\n",
    "        2: \"Do not have any form of health insurance\"\n",
    "    },\n",
    "\n",
    "    # Sec 4 Exercise\n",
    "    '_TOTINDA': {\n",
    "        1: \"Had physical activity or exercise\",\n",
    "        2: \"No physical activity or exercise in last 30 days\"\n",
    "    },\n",
    "\n",
    "    # Sec 5 Hypertension Awareness\n",
    "    '_RFHYPE6': {\n",
    "        1: \"_RFHYPE6-No\",\n",
    "        2: \"_RFHYPE6-Yes\"\n",
    "    },\n",
    "\n",
    "    # Sec 6 Cholesterol Awareness\n",
    "    '_CHOLCH3': {\n",
    "        1: \"Had cholesterol checked in past 5 years\",\n",
    "        2: \"Did not have cholesterol checked in past 5 years\",\n",
    "        3: \"Have never had cholesterol checked\"\n",
    "    },\n",
    "\n",
    "    '_RFCHOL3': {\n",
    "        1: \"_RFCHOL3-No\",\n",
    "        2: \"_RFCHOL3-Yes\"\n",
    "    },\n",
    "\n",
    "    # Sec 7 Chronic Health Conditions\n",
    "    \n",
    "\n",
    "    # Sec 8 Arthritis\n",
    "    \n",
    "\n",
    "    # Sec 11 Tobacco Use\n",
    "    '_SMOKER3': {\n",
    "        1: \"Current smoker-now smokes every day\",\n",
    "        2: \"Current smoker-now smokes some days\",\n",
    "        3: \"Former smoker\",\n",
    "        4: \"Never smoked\"\n",
    "    },\n",
    "\n",
    "    # Sec 12 Alcohol Consumption\n",
    "    '_RFBING5': {\n",
    "        1: \"_RFBING5-No\",\n",
    "        2: \"_RFBING5-Yes\"\n",
    "    },\n",
    "\n",
    "    '_RFDRHV7': {\n",
    "        1: \"_RFDRHV7-No\",\n",
    "        2: \"_RFDRHV7-Yes\"\n",
    "    },\n",
    "\n",
    "    # Sec 14 HIV/AIDS\n",
    "    '_AIDTST4': {\n",
    "        1: \"_AIDTST4-Yes\",\n",
    "        2: \"_AIDTST4-No\"\n",
    "    },\n",
    "\n",
    "    # Sec 15 Fruits & Vegetables\n",
    "    '_FRTLT1A': {\n",
    "        1: \"Consumed fruit one or more times per day\",\n",
    "        2: \"Consumed fruit less than one time per day\"\n",
    "    },\n",
    "\n",
    "    '_VEGLT1A': {\n",
    "        1: \"Consumed vegetables one or more times per day\",\n",
    "        2: \"Consumed vegetables less than one time per day\"\n",
    "    },\n",
    "    \n",
    "    # Sec 9 Demographics\n",
    "    '_INCOMG1': {\n",
    "        1: \"Less than $15,000\",\n",
    "        2: \"$15,000 to less than $25,000\",\n",
    "        3: \"$25,000 to less than $35,000\",\n",
    "        4: \"$35,000 to less than $50,000\",\n",
    "        5: \"$50,000 to less than $100,000\",\n",
    "        6: \"$100,000 to less than $200,000\",\n",
    "        7: \"$200,000 or more\"\n",
    "    },\n",
    "\n",
    "    '_EDUCAG': {\n",
    "        1: \"Did not graduate High School\",\n",
    "        2: \"Graduated High School\",\n",
    "        3: \"Attended College or Technical School\",\n",
    "        4: \"Graduated from College or Technical School\"\n",
    "    },\n",
    "\n",
    "    '_RFBMI5': {\n",
    "        1: \"_RFBMI5-No\",\n",
    "        2: \"_RFBMI5-Yes\"\n",
    "    },\n",
    "\n",
    "    '_BMI5CAT': {\n",
    "        1: \"Underweight\",\n",
    "        2: \"Normal Weight\",\n",
    "        3: \"Overweight\",\n",
    "        4: \"Obese\"\n",
    "    },\n",
    "\n",
    "    '_AGE_G': {\n",
    "        1: \"my age is 18 to 24\",\n",
    "        2: \"my age is 25 to 34\",\n",
    "        3: \"my age is 35 to 44\",\n",
    "        4: \"my age is 45 to 54\",\n",
    "        5: \"my age is 55 to 64\",\n",
    "        6: \"my age is 65 or older\",\n",
    "    },\n",
    "\n",
    "    '_SEX': {\n",
    "        1: \"Male\",\n",
    "        2: \"Female\"\n",
    "    },\n",
    "\n",
    "    '_RACE': {\n",
    "        1: \"White only, non-Hispanic\",\n",
    "        2: \"Black only, non-Hispanic\",\n",
    "        3: \"American Indian or Alaskan Native only, Non-Hispanic\",\n",
    "        4: \"Asian only, non-Hispanic\",\n",
    "        5: \"Native Hawaiian or other Pacific Islander only, Non-Hispanic\",\n",
    "        6: \"Other race only, non-Hispanic\",\n",
    "        7: \"Multiracial, non-Hispanic\",\n",
    "        8: \"Hispanic\"\n",
    "    }\n",
    "}"
   ]
  },
  {
   "cell_type": "markdown",
   "metadata": {},
   "source": [
    "Target Variable: '_MICHD': {\n",
    "        1: \"Reported having MI or CHD\",\n",
    "        2: \"Did not report having MI or CHD\"\n",
    "    },"
   ]
  },
  {
   "cell_type": "markdown",
   "metadata": {},
   "source": [
    "### New Text Dataset Creation\n",
    "We create text datasets based on the transformation of the numerical values to string/text values. Two datasets will be created:\n",
    "- Dataset A: This dataset will transform each variable value into a small sentence\n",
    "- Dataset B: This dataset will transform each variable value into its corresponding text value, according to the text values provided in \"2021 SMART BRFSS Survey Codebook\"."
   ]
  },
  {
   "cell_type": "markdown",
   "metadata": {},
   "source": [
    "The following algorithm implements the generation of text sequences from the original data."
   ]
  },
  {
   "cell_type": "code",
   "execution_count": 13,
   "metadata": {},
   "outputs": [
    {
     "name": "stdout",
     "output_type": "stream",
     "text": [
      "                                                Sentence  Classification\n",
      "0      i think my health is good or very good, my hea...               0\n",
      "1      i think my health is good or very good, my hea...               0\n",
      "2      i think my health is good or very good, my hea...               0\n",
      "3      i think my health is good or very good, my hea...               0\n",
      "4      i think my health is good or very good, my hea...               0\n",
      "...                                                  ...             ...\n",
      "27739  i think my health is good or very good, my hea...               1\n",
      "27740  i think my health is good or very good, my hea...               1\n",
      "27741  i think my health is good or very good, my hea...               1\n",
      "27742  i think my health is good or very good, my hea...               1\n",
      "27743  i think my health is good or very good, my hea...               1\n",
      "\n",
      "[27744 rows x 2 columns]\n",
      "\n",
      "                                                Sentence  Classification\n",
      "0      Good or Better Health, Zero days when physical...               0\n",
      "1      Good or Better Health, 14+ days when physical ...               0\n",
      "2      Good or Better Health, Zero days when physical...               0\n",
      "3      Good or Better Health, 1-13 days when physical...               0\n",
      "4      Good or Better Health, Zero days when physical...               0\n",
      "...                                                  ...             ...\n",
      "27739  Good or Better Health, 1-13 days when physical...               1\n",
      "27740  Good or Better Health, Zero days when physical...               1\n",
      "27741  Good or Better Health, 1-13 days when physical...               1\n",
      "27742  Good or Better Health, Zero days when physical...               1\n",
      "27743  Good or Better Health, 1-13 days when physical...               1\n",
      "\n",
      "[27744 rows x 2 columns]\n"
     ]
    }
   ],
   "source": [
    "# Create an empty list to store rows for the two datasets\n",
    "new_dataset_rows = [\n",
    "    [],\n",
    "    []\n",
    "]\n",
    "\n",
    "# Create an empty list to store the two datasets\n",
    "text_data = []\n",
    "\n",
    "# Iterate through each row in the original dataset\n",
    "for _, row in SMOTE_data.iterrows():\n",
    "    sentence_parts = [\n",
    "        [],  # To store parts of the sentence for each row for dataset A\n",
    "        []   # To store parts of the sentence for each row for dataset B\n",
    "    ]\n",
    "\n",
    "    # Iterate through each column in the original dataset\n",
    "    for column_name, value in row.items():\n",
    "        # Check if the current column is in the sequences dictionary. Both the sequences and the string_var_values dictionaries have the same keys.\n",
    "        if (column_name in sequences) and (value in sequences[column_name]):\n",
    "\n",
    "            # === Dataset A ===\n",
    "            # Get the description for the current value of the variable\n",
    "            description = sequences[column_name].get(value, '')\n",
    "            # Add a comma to the end of the description\n",
    "            description += ','\n",
    "            # Add the description to the sentence parts for dataset A\n",
    "            sentence_parts[0].append(description)\n",
    "\n",
    "            # === Dataset B ===\n",
    "            # Get the description for the current value of the variable\n",
    "            description = string_var_values[column_name].get(value, '')\n",
    "            # Add a comma to the end of the description\n",
    "            description += ','\n",
    "            # Add the description to the sentence parts for dataset B\n",
    "            sentence_parts[1].append(description)\n",
    "        \n",
    "        # Check if the current column is the target variable\n",
    "        elif column_name == '_MICHD':\n",
    "            # Add the target variable's value to the second column of both datasets\n",
    "            classification_value = value\n",
    "    \n",
    "    # === Dataset A ===\n",
    "    # Concatenate the sentence parts into a single sentence\n",
    "    sentence = ' '.join(sentence_parts[0])\n",
    "    \n",
    "    # Create a new row for dataset A\n",
    "    new_dataset_rows[0].append({'Sentence': sentence, 'Classification': classification_value})\n",
    "\n",
    "    # === Dataset B ===\n",
    "    # Concatenate the sentence parts into a single sentence \n",
    "    sentence = ' '.join(sentence_parts[1])\n",
    "    \n",
    "    # Create a new row for dataset B\n",
    "    new_dataset_rows[1].append({'Sentence': sentence, 'Classification': classification_value})\n",
    "\n",
    "# Create the new dataset from the list of rows\n",
    "text_data.append(pd.DataFrame(new_dataset_rows[0]))\n",
    "text_data.append(pd.DataFrame(new_dataset_rows[1]))\n",
    "\n",
    "# Display dataset A\n",
    "print(text_data[0])\n",
    "\n",
    "print()\n",
    "\n",
    "# Display dataset B\n",
    "print(text_data[1])"
   ]
  },
  {
   "cell_type": "code",
<<<<<<< HEAD
   "execution_count": 14,
   "metadata": {},
   "outputs": [],
=======
   "metadata": {
    "ExecuteTime": {
     "end_time": "2024-04-30T00:04:56.780433Z",
     "start_time": "2024-04-30T00:04:56.780433Z"
    }
   },
>>>>>>> origin/main
   "source": [
    "# Capitalize the \"i\" in the beginning of each sentence, remove the comma from the end fo the sentence and replace it with a period.\n",
    "text_data[0]['Sentence'] = text_data[0]['Sentence'].str.rstrip(',')  # Remove comma from the end\n",
    "text_data[0]['Sentence'] = text_data[0]['Sentence'].str.capitalize()  # Capitalize \"I\" at the beginning\n",
    "text_data[0]['Sentence'] = text_data[0]['Sentence'].str.replace(r'\\bi\\b', 'I')  # Capitalize standalone \"i\"\n",
    "text_data[0]['Sentence'] = text_data[0]['Sentence'] + '.'  # Replace comma with a period at the end"
   ]
  },
  {
   "cell_type": "code",
   "execution_count": 15,
   "metadata": {},
   "outputs": [
    {
     "name": "stdout",
     "output_type": "stream",
     "text": [
      "                                                Sentence  Classification\n",
      "0      I think my health is good or very good, my hea...               0\n",
      "1      I think my health is good or very good, my hea...               0\n",
      "2      I think my health is good or very good, my hea...               0\n",
      "3      I think my health is good or very good, my hea...               0\n",
      "4      I think my health is good or very good, my hea...               0\n",
      "...                                                  ...             ...\n",
      "27739  I think my health is good or very good, my hea...               1\n",
      "27740  I think my health is good or very good, my hea...               1\n",
      "27741  I think my health is good or very good, my hea...               1\n",
      "27742  I think my health is good or very good, my hea...               1\n",
      "27743  I think my health is good or very good, my hea...               1\n",
      "\n",
      "[27744 rows x 2 columns]\n"
     ]
    }
   ],
   "source": [
    "print(text_data[0])"
   ]
  },
  {
   "cell_type": "code",
   "execution_count": 16,
   "metadata": {},
   "outputs": [],
   "source": [
    "text_data[1]['Sentence'] = text_data[1]['Sentence'].str.rstrip(',')  # Remove comma from the end"
   ]
  },
  {
   "cell_type": "code",
<<<<<<< HEAD
   "execution_count": null,
   "metadata": {},
   "outputs": [],
=======
   "metadata": {
    "ExecuteTime": {
     "end_time": "2024-04-30T00:04:56.786431Z",
     "start_time": "2024-04-30T00:04:56.785431Z"
    }
   },
>>>>>>> origin/main
   "source": [
    "# Based on the value (custom sentence, string/text), convert the \"_MICHD\" target variable values to 1 and 0\n",
    "text_data['Classification'] = text_data['Classification'].map({'Yes': 1, 'No': 0})"
   ]
  },
  {
   "cell_type": "code",
   "execution_count": 17,
   "metadata": {},
   "outputs": [
    {
     "data": {
      "text/plain": [
       "Classification\n",
       "0    13872\n",
       "1    13872\n",
       "Name: count, dtype: int64"
      ]
     },
     "execution_count": 17,
     "metadata": {},
     "output_type": "execute_result"
    }
   ],
   "source": [
    "text_data[0]['Classification'].value_counts()"
   ]
  },
  {
   "cell_type": "code",
   "execution_count": 106,
   "metadata": {},
   "outputs": [
    {
     "data": {
      "text/plain": [
       "Classification\n",
       "0    13872\n",
       "1    13872\n",
       "Name: count, dtype: int64"
      ]
     },
     "execution_count": 106,
     "metadata": {},
     "output_type": "execute_result"
    }
   ],
   "source": [
    "text_data[1]['Classification'].value_counts()"
   ]
  },
  {
   "cell_type": "code",
   "execution_count": 108,
   "metadata": {},
   "outputs": [
    {
     "data": {
      "text/html": [
       "<div>\n",
       "<style scoped>\n",
       "    .dataframe tbody tr th:only-of-type {\n",
       "        vertical-align: middle;\n",
       "    }\n",
       "\n",
       "    .dataframe tbody tr th {\n",
       "        vertical-align: top;\n",
       "    }\n",
       "\n",
       "    .dataframe thead th {\n",
       "        text-align: right;\n",
       "    }\n",
       "</style>\n",
       "<table border=\"1\" class=\"dataframe\">\n",
       "  <thead>\n",
       "    <tr style=\"text-align: right;\">\n",
       "      <th></th>\n",
       "      <th>Sentence</th>\n",
       "      <th>Classification</th>\n",
       "    </tr>\n",
       "  </thead>\n",
       "  <tbody>\n",
       "    <tr>\n",
       "      <th>0</th>\n",
       "      <td>I think my health is good or very good, my hea...</td>\n",
       "      <td>0</td>\n",
       "    </tr>\n",
       "    <tr>\n",
       "      <th>1</th>\n",
       "      <td>I think my health is good or very good, my hea...</td>\n",
       "      <td>0</td>\n",
       "    </tr>\n",
       "    <tr>\n",
       "      <th>2</th>\n",
       "      <td>I think my health is good or very good, my hea...</td>\n",
       "      <td>0</td>\n",
       "    </tr>\n",
       "    <tr>\n",
       "      <th>3</th>\n",
       "      <td>I think my health is good or very good, my hea...</td>\n",
       "      <td>0</td>\n",
       "    </tr>\n",
       "    <tr>\n",
       "      <th>4</th>\n",
       "      <td>I think my health is good or very good, my hea...</td>\n",
       "      <td>0</td>\n",
       "    </tr>\n",
       "  </tbody>\n",
       "</table>\n",
       "</div>"
      ],
      "text/plain": [
       "                                            Sentence  Classification\n",
       "0  I think my health is good or very good, my hea...               0\n",
       "1  I think my health is good or very good, my hea...               0\n",
       "2  I think my health is good or very good, my hea...               0\n",
       "3  I think my health is good or very good, my hea...               0\n",
       "4  I think my health is good or very good, my hea...               0"
      ]
     },
     "execution_count": 108,
     "metadata": {},
     "output_type": "execute_result"
    }
   ],
   "source": [
    "text_data[0].head()"
   ]
  },
  {
   "cell_type": "code",
   "execution_count": 140,
   "metadata": {},
   "outputs": [],
   "source": [
    "# Save the new sentence dataset. This dataset will be used for sequence classification tasks.\n",
    "text_data[1].to_excel(\"Text_Sequence_Dataset.xlsx\",  index=False)"
   ]
  },
  {
   "cell_type": "markdown",
   "metadata": {},
   "source": [
    "### Wordcloud"
   ]
  },
  {
   "cell_type": "code",
   "execution_count": null,
   "metadata": {},
   "outputs": [],
   "source": [
    "# Function to generate word cloud for a specific class\n",
    "def generate_word_cloud(text):\n",
    "    wordcloud = WordCloud(width = 800, height = 800, \n",
    "                background_color ='white', \n",
    "                stopwords = None, \n",
    "                min_font_size = 10).generate(text)\n",
    "    return wordcloud"
   ]
  },
  {
   "cell_type": "code",
   "execution_count": null,
   "metadata": {},
   "outputs": [],
   "source": [
    "# Tokenize text and count word frequency for each class\n",
    "class_data = {}\n",
    "for class_name, group in text_data[1].groupby('Classification'):\n",
    "    text = ' '.join(group['Sentence'])\n",
    "    tokens = word_tokenize(text)\n",
    "    word_freq = ' '.join(tokens)\n",
    "    class_data[class_name] = word_freq"
   ]
  },
  {
   "cell_type": "code",
   "execution_count": null,
   "metadata": {},
   "outputs": [],
   "source": [
    "# Generate word cloud for each class\n",
    "for class_name, text in class_data.items():\n",
    "    wordcloud = generate_word_cloud(text)\n",
    "    plt.figure(figsize = (8, 8), facecolor = None) \n",
    "    plt.imshow(wordcloud) \n",
    "    plt.axis(\"off\") \n",
    "    plt.tight_layout(pad = 0) \n",
    "    plt.title(f'Word Cloud for {class_name}')\n",
    "    plt.show()"
   ]
  },
  {
   "cell_type": "markdown",
   "metadata": {},
   "source": [
    "## Classification using Naive Bayes Classifiers"
   ]
  },
  {
   "cell_type": "code",
   "execution_count": 142,
   "metadata": {},
   "outputs": [],
   "source": [
    "# We can add the \"NOT_\" word infront of words that come after negation words\n",
    "def add_not_to_words(sentence):\n",
    "    words = sentence.split()\n",
    "    new_sentence = []\n",
    "\n",
    "    add_not = False\n",
    "\n",
    "    for word in words:\n",
    "        if add_not:\n",
    "            new_sentence.append(\"NOT_\" + word)\n",
    "            # Stop adding \"NOT_\" when a comma is encountered\n",
    "            if \",\" in word:\n",
    "                add_not = False\n",
    "        else:\n",
    "            new_sentence.append(word)\n",
    "\n",
    "        if word.lower() in ['not', \"didn't\", \"don't\", \"haven't\", \"never\"]:\n",
    "            add_not = True\n",
    "\n",
    "    return ' '.join(new_sentence)"
   ]
  },
  {
   "cell_type": "code",
<<<<<<< HEAD
   "execution_count": 18,
   "metadata": {},
   "outputs": [],
=======
   "metadata": {
    "ExecuteTime": {
     "end_time": "2024-04-30T00:04:56.813423Z",
     "start_time": "2024-04-30T00:04:56.812423Z"
    }
   },
>>>>>>> origin/main
   "source": [
    "text_dataset = text_data[1].copy()"
   ]
  },
  {
   "cell_type": "code",
<<<<<<< HEAD
   "execution_count": 29,
   "metadata": {},
   "outputs": [],
=======
   "metadata": {
    "ExecuteTime": {
     "end_time": "2024-04-30T00:04:56.823420Z",
     "start_time": "2024-04-30T00:04:56.823420Z"
    }
   },
>>>>>>> origin/main
   "source": [
    "# Apply the function to every sentence in the dataset (optional)\n",
    "text_dataset['Sentence'] = text_dataset['Sentence'].apply(add_not_to_words)"
   ]
  },
  {
<<<<<<< HEAD
   "cell_type": "code",
   "execution_count": 19,
   "metadata": {},
   "outputs": [],
   "source": [
    "COST = [\n",
    "    [0, 1],\n",
    "    [1, 0]\n",
    "]\n",
    "\n",
    "text_based_classifiers = {}"
   ]
  },
  {
=======
>>>>>>> origin/main
   "cell_type": "markdown",
   "metadata": {},
   "source": [
    "### Multinomial NB\n"
   ]
  },
  {
   "metadata": {},
   "cell_type": "code",
   "source": [
    "# Split the dataset into training and testing sets\n",
    "x_train, x_test, y_train, y_test = train_test_split(negation_text_data['Sentence'], negation_text_data['Classification'], test_size=0.25, random_state=SEED, stratify=negation_text_data['Classification'])\n",
    "\n",
    "# Create a CountVectorizer to convert the text data into numerical features\n",
    "vectorizer = CountVectorizer()\n",
    "x_train_vectorized = vectorizer.fit_transform(x_train)\n",
    "x_test_vectorized = vectorizer.transform(x_test)\n",
    "\n",
    "# Train a Multinomial Naive Bayes classifier\n",
    "clf = MultinomialNB()\n",
    "clf.fit(x_train_vectorized, y_train)\n",
    "\n",
    "# Make predictions on the test set\n",
    "y_pred = clf.predict(x_test_vectorized)\n",
    "\n",
    "# Calculate the confusion matrix\n",
    "conf_matrix = confusion_matrix(y_test, y_pred).T\n",
    "print(f'Confusion Matrix: \\n{conf_matrix}\\n')\n",
    "\n",
    "# Calculate the total cost\n",
    "total_cost = np.sum(conf_matrix * cost_matrix)\n",
    "print(f'Total Cost: {total_cost}\\n')\n",
    "\n",
    "# Evaluate the performance\n",
    "classification_rep = classification_report(y_test, y_pred)\n",
    "\n",
    "# Display the results\n",
    "print('Classification Report:')\n",
    "print(classification_rep)\n",
    "\n",
    "# Extract macro metrics from the classification report\n",
    "metrics_dict = classification_report(y_test, y_pred, target_names=[\"Reported having MI or CHD\", \"Did not report having MI or CHD\"], output_dict=True)['macro avg']"
   ],
   "outputs": [],
   "execution_count": null
  },
  {
   "metadata": {},
   "cell_type": "code",
   "source": [
    "# # Read the existing CSV file\n",
    "# df = pd.read_csv('SMOTE/SMOTE_f1_score.csv')\n",
    "# df.at[0, 'Multinomial NB'] = metrics_dict['f1-score']\n",
    "# df.to_csv('SMOTE/SMOTE_f1_score.csv', index=False)\n",
    "# \n",
    "# # Read the existing CSV file\n",
    "# df1 = pd.read_csv('SMOTE/SMOTE_loss.csv')\n",
    "# # Add data to the new column in the specific line\n",
    "# df1.at[0, 'Multinomial NB'] = total_cost\n",
    "# df1.to_csv('SMOTE/SMOTE_loss.csv', index=False)\n",
    "\n",
    "# Read the existing CSV file\n",
    "df2 = pd.read_csv('SMOTE/SMOTE_precision.csv')\n",
    "# Add data to the new column in the specific line\n",
    "df2.at[0, 'Multinomial NB'] = metrics_dict['precision']\n",
    "df2.to_csv('SMOTE/SMOTE_precision.csv', index=False)\n",
    "\n",
    "# # Read the existing CSV file\n",
    "# df3 = pd.read_csv('SMOTE/SMOTE_recall.csv')\n",
    "# df3.at[0, 'Multinomial NB'] = metrics_dict['recall']\n",
    "# df3.to_csv('SMOTE/SMOTE_recall.csv', index=False)"
   ],
   "outputs": [],
   "execution_count": null
  },
  {
   "metadata": {},
   "cell_type": "code",
   "source": [
    "from sklearn.metrics import roc_curve, auc\n",
    "import matplotlib.pyplot as plt\n",
    "\n",
    "# Get predicted probabilities for the positive class\n",
    "y_prob = clf.predict_proba(x_test_vectorized)[:, 1]\n",
    "\n",
    "# Compute ROC curve and AUC\n",
    "fpr, tpr, thresholds = roc_curve(y_test, y_prob)\n",
    "roc_auc = auc(fpr, tpr)\n",
    "\n",
    "# Plot ROC curve\n",
    "plt.figure(figsize=(8, 6))\n",
    "plt.plot(fpr, tpr, color='blue', lw=2, label='ROC curve (AUC = %0.2f)' % roc_auc)\n",
    "plt.plot([0, 1], [0, 1], color='red', lw=2, linestyle='--', label='Random Guessing')\n",
    "plt.xlabel('False Positive Rate')\n",
    "plt.ylabel('True Positive Rate')\n",
    "plt.title('Receiver Operating Characteristic (ROC) Curve')\n",
    "plt.legend(loc='lower right')\n",
    "\n",
    "# Save the plot\n",
    "\n",
    "# Show the plot\n",
    "plt.show()"
   ],
   "outputs": [],
   "execution_count": null
  },
  {
   "metadata": {},
   "cell_type": "code",
   "source": [
    "# Split the dataset into training and testing sets\n",
    "x_train, x_test, y_train, y_test = train_test_split(negation_text_data['Sentence'], negation_text_data['Classification'], test_size=0.25, random_state=SEED, stratify=negation_text_data['Classification'])\n",
    "\n",
    "def predict(y_prob, cost_m):\n",
    "    t_BMR = (cost_m[1][0] - cost_m[1][1])/(cost_m[0][1] - cost_m[1][1] - cost_m[0][0] + cost_m[1][0])\n",
    "    y_pred = np.greater(y_prob[:, 1], t_BMR).astype(int)\n",
    "    \n",
    "    return y_pred\n",
    "\n",
    "from sklearn.calibration import CalibratedClassifierCV\n",
    "\n",
    "# Create a CountVectorizer to convert the text data into numerical features\n",
    "vectorizer = CountVectorizer()\n",
    "x_train_vectorized = vectorizer.fit_transform(x_train)\n",
    "x_test_vectorized = vectorizer.transform(x_test)\n",
    "\n",
    "# Train a Multinomial Naive Bayes classifier\n",
    "clf = CalibratedClassifierCV(MultinomialNB(),\n",
    "                                method=\"isotonic\",\n",
    "                                cv=10\n",
    "                            )\n",
    "clf.fit(x_train_vectorized, y_train)\n",
    "\n",
    "y_prob = clf.predict_proba(x_test_vectorized)\n",
    "\n",
    "# Make predictions on the test set\n",
    "y_pred = predict(y_prob, cost_matrix)\n",
    "\n",
    "# Calculate the confusion matrix\n",
    "conf_matrix = confusion_matrix(y_test, y_pred).T\n",
    "print(f'Confusion Matrix: \\n{conf_matrix}\\n')\n",
    "\n",
    "# Calculate the total cost\n",
    "total_cost = np.sum(conf_matrix * cost_matrix)\n",
    "print(f'Total Cost: {total_cost}\\n')\n",
    "\n",
    "# Evaluate the performance\n",
    "classification_rep = classification_report(y_test, y_pred)\n",
    "\n",
    "# Display the results\n",
    "print('Classification Report:')\n",
    "print(classification_rep)\n",
    "\n",
    "# Extract macro metrics from the classification report\n",
    "metrics_dict = classification_report(y_test, y_pred, target_names=[\"Reported having MI or CHD\", \"Did not report having MI or CHD\"], output_dict=True)['macro avg']"
   ],
   "outputs": [],
   "execution_count": null
  },
  {
   "metadata": {},
   "cell_type": "code",
   "source": [
    "# # Read the existing CSV file\n",
    "# df = pd.read_csv('SMOTE/SMOTE_f1_score.csv')\n",
    "# df.at[0, 'Multinomial NB'] = metrics_dict['f1-score']\n",
    "# df.to_csv('SMOTE/SMOTE_f1_score.csv', index=False)\n",
    "# \n",
    "# # Read the existing CSV file\n",
    "# df1 = pd.read_csv('SMOTE/SMOTE_loss.csv')\n",
    "# # Add data to the new column in the specific line\n",
    "# df1.at[0, 'Multinomial NB'] = total_cost\n",
    "# df1.to_csv('SMOTE/SMOTE_loss.csv', index=False)\n",
    "\n",
    "# Read the existing CSV file\n",
    "df2 = pd.read_csv('SMOTE/SMOTE_precision.csv')\n",
    "# Add data to the new column in the specific line\n",
    "df2.at[1, 'Multinomial NB'] = metrics_dict['precision']\n",
    "df2.to_csv('SMOTE/SMOTE_precision.csv', index=False)\n",
    "\n",
    "# # Read the existing CSV file\n",
    "# df3 = pd.read_csv('SMOTE/SMOTE_recall.csv')\n",
    "# df3.at[0, 'Multinomial NB'] = metrics_dict['recall']\n",
    "# df3.to_csv('SMOTE/SMOTE_recall.csv', index=False)"
   ],
   "outputs": [],
   "execution_count": null
  },
  {
   "metadata": {},
   "cell_type": "code",
   "source": [
    "from sklearn.calibration import calibration_curve\n",
    "\n",
    "# Get predicted probabilities for the positive class\n",
    "y_pred_proba = clf.predict_proba(x_test_vectorized)[:, 1]\n",
    "\n",
    "# Compute calibration curve\n",
    "prob_true, prob_pred = calibration_curve(y_test, y_pred_proba, n_bins=10)\n",
    "\n",
    "# Plot calibration curve\n",
    "plt.figure(figsize=(8, 6))\n",
    "plt.plot(prob_pred, prob_true, marker='o', linestyle='-')\n",
    "plt.plot([0, 1], [0, 1], linestyle='--', color='gray')  # Ideal curve\n",
    "plt.xlabel('Mean Predicted Probability')\n",
    "plt.ylabel('Fraction of Positives')\n",
    "plt.title('Probability Calibration Curve')\n",
    "\n",
    "# Save the plot as an image file (e.g., PNG)\n",
    "\n",
    "# Show the plot (optional)\n",
    "plt.show()"
   ],
   "outputs": [],
   "execution_count": null
  },
  {
   "cell_type": "code",
   "execution_count": 22,
   "metadata": {},
   "outputs": [
    {
     "name": "stdout",
     "output_type": "stream",
     "text": [
      "Confusion Matrix: \n",
      "[[2740  728]\n",
      " [1139 2329]]\n",
      "\n",
      "Total Cost: 1867\n",
      "\n",
      "Classification Report:\n",
      "              precision    recall  f1-score   support\n",
      "\n",
      "           0       0.71      0.79      0.75      3468\n",
      "           1       0.76      0.67      0.71      3468\n",
      "\n",
      "    accuracy                           0.73      6936\n",
      "   macro avg       0.73      0.73      0.73      6936\n",
      "weighted avg       0.73      0.73      0.73      6936\n",
      "\n"
     ]
    }
   ],
   "source": [
    "# Split the dataset into training and testing sets\n",
<<<<<<< HEAD
    "x_train, x_test, y_train, y_test = train_test_split(text_dataset['Sentence'], text_dataset['Classification'], test_size=0.25, random_state=SEED, stratify=text_dataset['Classification'])\n",
    "\n",
    "weights = np.zeros(y_train.shape[0])\n",
    "weights[np.where(y_train == 0)] = 1\n",
    "weights[np.where(y_train == 1)] = 1\n",
=======
    "x_train, x_test, y_train, y_test = train_test_split(negation_text_data['Sentence'], negation_text_data['Classification'], test_size=0.25, random_state=SEED, stratify=negation_text_data['Classification'])\n",
    "\n",
    "weights = np.zeros_like(y_train, dtype=float)\n",
    "weights[y_train == 0] = cost_matrix[0][1]\n",
    "weights[y_train == 1] = cost_matrix[1][0]\n",
>>>>>>> origin/main
    "\n",
    "# Create a CountVectorizer to convert the text data into numerical features\n",
    "vectorizer = CountVectorizer()\n",
    "x_train_vectorized = vectorizer.fit_transform(x_train)\n",
    "x_test_vectorized = vectorizer.transform(x_test)\n",
    "\n",
    "# Define TF-IDF vectorizer\n",
    "#tfidf_vectorizer = TfidfVectorizer()\n",
    "\n",
    "# Train a Multinomial Naive Bayes classifier\n",
    "clf = MultinomialNB()\n",
    "\n",
    "# Create a pipeline with TF-IDF vectorizer and Multinomial NB classifier\n",
    "#pipeline = Pipeline([('tfidf', tfidf_vectorizer), ('clf', clf)])\n",
    "\n",
    "clf = CalibratedClassifierCV(clf, method='isotonic')\n",
    "clf.fit(x_train_vectorized, y_train, sample_weight=weights)\n",
    "\n",
    "\n",
    "text_based_classifiers['Multinomial NB'] = clf\n",
    "\n",
    "\n",
    "# Make predictions on the test set\n",
    "y_pred = clf.predict(x_test_vectorized)\n",
    "\n",
    "# Calculate the confusion matrix\n",
    "conf_matrix = confusion_matrix(y_test, y_pred).T\n",
    "print(f'Confusion Matrix: \\n{conf_matrix}\\n')\n",
    "\n",
    "# Calculate the total cost\n",
    "total_cost = np.sum(conf_matrix * cost_matrix)\n",
    "print(f'Total Cost: {total_cost}\\n')\n",
    "\n",
    "# Evaluate the performance\n",
    "classification_rep = classification_report(y_test, y_pred)\n",
    "\n",
    "# Display the results\n",
    "print('Classification Report:')\n",
<<<<<<< HEAD
    "print(classification_rep)"
   ]
=======
    "print(classification_rep)\n",
    "\n",
    "# Extract macro metrics from the classification report\n",
    "metrics_dict = classification_report(y_test, y_pred, target_names=[\"Reported having MI or CHD\", \"Did not report having MI or CHD\"], output_dict=True)['macro avg']"
   ],
   "outputs": [],
   "execution_count": null
  },
  {
   "metadata": {},
   "cell_type": "code",
   "source": [
    "# # Read the existing CSV file\n",
    "# df = pd.read_csv('SMOTE/SMOTE_f1_score.csv')\n",
    "# df.at[0, 'Multinomial NB'] = metrics_dict['f1-score']\n",
    "# df.to_csv('SMOTE/SMOTE_f1_score.csv', index=False)\n",
    "# \n",
    "# # Read the existing CSV file\n",
    "# df1 = pd.read_csv('SMOTE/SMOTE_loss.csv')\n",
    "# # Add data to the new column in the specific line\n",
    "# df1.at[0, 'Multinomial NB'] = total_cost\n",
    "# df1.to_csv('SMOTE/SMOTE_loss.csv', index=False)\n",
    "\n",
    "# Read the existing CSV file\n",
    "df2 = pd.read_csv('SMOTE/SMOTE_precision.csv')\n",
    "# Add data to the new column in the specific line\n",
    "df2.at[2, 'Multinomial NB'] = metrics_dict['precision']\n",
    "df2.to_csv('SMOTE/SMOTE_precision.csv', index=False)\n",
    "\n",
    "# # Read the existing CSV file\n",
    "# df3 = pd.read_csv('SMOTE/SMOTE_recall.csv')\n",
    "# df3.at[0, 'Multinomial NB'] = metrics_dict['recall']\n",
    "# df3.to_csv('SMOTE/SMOTE_recall.csv', index=False)"
   ],
   "outputs": [],
   "execution_count": null
>>>>>>> origin/main
  },
  {
   "cell_type": "markdown",
   "metadata": {},
   "source": [
    "### Multi-variate Bernoulli NB\n"
   ]
  },
  {
   "metadata": {},
   "cell_type": "code",
   "source": [
    "# Split the dataset into training and testing sets\n",
    "x_train, x_test, y_train, y_test = train_test_split(negation_text_data['Sentence'], negation_text_data['Classification'], test_size=0.25, random_state=SEED, stratify=negation_text_data['Classification'])\n",
    "\n",
    "# Create a CountVectorizer to convert the text data into numerical features\n",
    "vectorizer = CountVectorizer()\n",
    "x_train_vectorized = vectorizer.fit_transform(x_train)\n",
    "x_test_vectorized = vectorizer.transform(x_test)\n",
    "\n",
    "# Train a Multinomial Naive Bayes classifier\n",
    "clf = BernoulliNB()\n",
    "clf.fit(x_train_vectorized, y_train)\n",
    "\n",
    "# Make predictions on the test set\n",
    "y_pred = clf.predict(x_test_vectorized)\n",
    "\n",
    "# Calculate the confusion matrix\n",
    "conf_matrix = confusion_matrix(y_test, y_pred).T\n",
    "print(f'Confusion Matrix: \\n{conf_matrix}\\n')\n",
    "\n",
    "# Calculate the total cost\n",
    "total_cost = np.sum(conf_matrix * cost_matrix)\n",
    "print(f'Total Cost: {total_cost}\\n')\n",
    "\n",
    "# Evaluate the performance\n",
    "classification_rep = classification_report(y_test, y_pred)\n",
    "\n",
    "# Display the results\n",
    "print('Classification Report:')\n",
    "print(classification_rep)\n",
    "\n",
    "# Extract macro metrics from the classification report\n",
    "metrics_dict = classification_report(y_test, y_pred, target_names=[\"Reported having MI or CHD\", \"Did not report having MI or CHD\"], output_dict=True)['macro avg']"
   ],
   "outputs": [],
   "execution_count": null
  },
  {
   "metadata": {},
   "cell_type": "code",
   "source": [
    "# # Read the existing CSV file\n",
    "# df = pd.read_csv('SMOTE/SMOTE_f1_score.csv')\n",
    "# df.at[0, 'Multi-variate Bernoulli NB'] = metrics_dict['f1-score']\n",
    "# df.to_csv('SMOTE/SMOTE_f1_score.csv', index=False)\n",
    "# \n",
    "# # Read the existing CSV file\n",
    "# df1 = pd.read_csv('SMOTE/SMOTE_loss.csv')\n",
    "# # Add data to the new column in the specific line\n",
    "# df1.at[0, 'Multi-variate Bernoulli NB'] = total_cost\n",
    "# df1.to_csv('SMOTE/SMOTE_loss.csv', index=False)\n",
    "\n",
    "# Read the existing CSV file\n",
    "df2 = pd.read_csv('SMOTE/SMOTE_precision.csv')\n",
    "# Add data to the new column in the specific line\n",
    "df2.at[0, 'Multi-variate Bernoulli NB'] = metrics_dict['precision']\n",
    "df2.to_csv('SMOTE/SMOTE_precision.csv', index=False)\n",
    "\n",
    "# # Read the existing CSV file\n",
    "# df3 = pd.read_csv('SMOTE/SMOTE_recall.csv')\n",
    "# df3.at[0, 'Multi-variate Bernoulli NB'] = metrics_dict['recall']\n",
    "# df3.to_csv('SMOTE/SMOTE_recall.csv', index=False)"
   ],
   "outputs": [],
   "execution_count": null
  },
  {
   "metadata": {},
   "cell_type": "code",
   "source": [
    "# Split the dataset into training and testing sets\n",
    "x_train, x_test, y_train, y_test = train_test_split(negation_text_data['Sentence'], negation_text_data['Classification'], test_size=0.25, random_state=SEED, stratify=negation_text_data['Classification'])\n",
    "\n",
    "def predict(y_prob, cost_m):\n",
    "    t_BMR = (cost_m[1][0] - cost_m[1][1])/(cost_m[0][1] - cost_m[1][1] - cost_m[0][0] + cost_m[1][0])\n",
    "    y_pred = np.greater(y_prob[:, 1], t_BMR).astype(int)\n",
    "    \n",
    "    return y_pred\n",
    "\n",
    "from sklearn.calibration import CalibratedClassifierCV\n",
    "\n",
    "# Create a CountVectorizer to convert the text data into numerical features\n",
    "vectorizer = CountVectorizer()\n",
    "x_train_vectorized = vectorizer.fit_transform(x_train)\n",
    "x_test_vectorized = vectorizer.transform(x_test)\n",
    "\n",
    "# Train a Multinomial Naive Bayes classifier\n",
    "clf = CalibratedClassifierCV(BernoulliNB(),\n",
    "                            method=\"isotonic\",\n",
    "                            cv=10)\n",
    "clf.fit(x_train_vectorized, y_train)\n",
    "\n",
    "y_prob = clf.predict_proba(x_test_vectorized)\n",
    "\n",
    "# Make predictions on the test set\n",
    "y_pred = predict(y_prob, cost_matrix)\n",
    "\n",
    "# Calculate the confusion matrix\n",
    "conf_matrix = confusion_matrix(y_test, y_pred).T\n",
    "print(f'Confusion Matrix: \\n{conf_matrix}\\n')\n",
    "\n",
    "# Calculate the total cost\n",
    "total_cost = np.sum(conf_matrix * cost_matrix)\n",
    "print(f'Total Cost: {total_cost}\\n')\n",
    "\n",
    "# Evaluate the performance\n",
    "classification_rep = classification_report(y_test, y_pred)\n",
    "\n",
    "# Display the results\n",
    "print('Classification Report:')\n",
    "print(classification_rep)\n",
    "\n",
    "# Extract macro metrics from the classification report\n",
    "metrics_dict = classification_report(y_test, y_pred, target_names=[\"Reported having MI or CHD\", \"Did not report having MI or CHD\"], output_dict=True)['macro avg']"
   ],
   "outputs": [],
   "execution_count": null
  },
  {
   "metadata": {},
   "cell_type": "code",
   "source": [
    "# # Read the existing CSV file\n",
    "# df = pd.read_csv('SMOTE/SMOTE_f1_score.csv')\n",
    "# df.at[0, 'Multi-variate Bernoulli NB'] = metrics_dict['f1-score']\n",
    "# df.to_csv('SMOTE/SMOTE_f1_score.csv', index=False)\n",
    "# \n",
    "# # Read the existing CSV file\n",
    "# df1 = pd.read_csv('SMOTE/SMOTE_loss.csv')\n",
    "# # Add data to the new column in the specific line\n",
    "# df1.at[0, 'Multi-variate Bernoulli NB'] = total_cost\n",
    "# df1.to_csv('SMOTE/SMOTE_loss.csv', index=False)\n",
    "\n",
    "# Read the existing CSV file\n",
    "df2 = pd.read_csv('SMOTE/SMOTE_precision.csv')\n",
    "# Add data to the new column in the specific line\n",
    "df2.at[1, 'Multi-variate Bernoulli NB'] = metrics_dict['precision']\n",
    "df2.to_csv('SMOTE/SMOTE_precision.csv', index=False)\n",
    "\n",
    "# # Read the existing CSV file\n",
    "# df3 = pd.read_csv('SMOTE/SMOTE_recall.csv')\n",
    "# df3.at[0, 'Multi-variate Bernoulli NB'] = metrics_dict['recall']\n",
    "# df3.to_csv('SMOTE/SMOTE_recall.csv', index=False)"
   ],
   "outputs": [],
   "execution_count": null
  },
  {
   "cell_type": "code",
   "execution_count": 166,
   "metadata": {},
   "outputs": [
    {
     "name": "stdout",
     "output_type": "stream",
     "text": [
      "Confusion Matrix: \n",
      "[[2698  770]\n",
      " [1121 2347]]\n",
      "\n",
      "Total Cost: 1891\n",
      "\n",
      "Classification Report:\n",
      "              precision    recall  f1-score   support\n",
      "\n",
      "           0       0.71      0.78      0.74      3468\n",
      "           1       0.75      0.68      0.71      3468\n",
      "\n",
      "    accuracy                           0.73      6936\n",
      "   macro avg       0.73      0.73      0.73      6936\n",
      "weighted avg       0.73      0.73      0.73      6936\n",
      "\n"
     ]
    }
   ],
   "source": [
    "# Split the dataset into training and testing sets\n",
<<<<<<< HEAD
    "x_train, x_test, y_train, y_test = train_test_split(text_dataset['Sentence'], text_dataset['Classification'], test_size=0.25, random_state=SEED, stratify=text_dataset['Classification'])\n",
    "\n",
    "weights = np.zeros(y_train.shape[0])\n",
    "weights[np.where(y_train == 0)] = 1\n",
    "weights[np.where(y_train == 1)] = 1\n",
=======
    "x_train, x_test, y_train, y_test = train_test_split(negation_text_data['Sentence'], negation_text_data['Classification'], test_size=0.25, random_state=SEED, stratify=negation_text_data['Classification'])\n",
    "\n",
    "weights = np.zeros_like(y_train, dtype=float)\n",
    "weights[y_train == 0] = cost_matrix[0][1]\n",
    "weights[y_train == 1] = cost_matrix[1][0]\n",
>>>>>>> origin/main
    "\n",
    "# Create a CountVectorizer to convert the text data into numerical features\n",
    "vectorizer = CountVectorizer()\n",
    "x_train_vectorized = vectorizer.fit_transform(x_train)\n",
    "x_test_vectorized = vectorizer.transform(x_test)\n",
    "\n",
    "\n",
    "# Define TF-IDF vectorizer\n",
    "#tfidf_vectorizer = TfidfVectorizer()\n",
    "\n",
    "\n",
    "# Train a Multinomial Naive Bayes classifier\n",
    "clf = BernoulliNB()\n",
    "\n",
    "#pipeline = Pipeline([('tfidf', tfidf_vectorizer), ('clf', clf)])\n",
    "\n",
    "clf = CalibratedClassifierCV(clf, method='isotonic')\n",
    "clf.fit(x_train_vectorized, y_train, sample_weight=weights)\n",
    "\n",
    "\n",
    "text_based_classifiers['Multivariate Bernoulli NB'] = clf\n",
    "\n",
    "\n",
    "# Make predictions on the test set\n",
    "y_pred = clf.predict(x_test_vectorized)\n",
    "\n",
    "# Calculate the confusion matrix\n",
    "conf_matrix = confusion_matrix(y_test, y_pred).T\n",
    "print(f'Confusion Matrix: \\n{conf_matrix}\\n')\n",
    "\n",
    "# Calculate the total cost\n",
    "total_cost = np.sum(conf_matrix * cost_matrix)\n",
    "print(f'Total Cost: {total_cost}\\n')\n",
    "\n",
    "# Evaluate the performance\n",
    "classification_rep = classification_report(y_test, y_pred, zero_division=0.0)\n",
    "\n",
    "# Display the results\n",
    "print('Classification Report:')\n",
<<<<<<< HEAD
    "print(classification_rep)"
   ]
=======
    "print(classification_rep)\n",
    "\n",
    "# Extract macro metrics from the classification report\n",
    "metrics_dict = classification_report(y_test, y_pred, target_names=[\"Reported having MI or CHD\", \"Did not report having MI or CHD\"], output_dict=True)['macro avg']"
   ],
   "outputs": [],
   "execution_count": null
  },
  {
   "metadata": {},
   "cell_type": "code",
   "source": [
    "# # Read the existing CSV file\n",
    "# df = pd.read_csv('SMOTE/SMOTE_f1_score.csv')\n",
    "# df.at[0, 'Multi-variate Bernoulli NB'] = metrics_dict['f1-score']\n",
    "# df.to_csv('SMOTE/SMOTE_f1_score.csv', index=False)\n",
    "# \n",
    "# # Read the existing CSV file\n",
    "# df1 = pd.read_csv('SMOTE/SMOTE_loss.csv')\n",
    "# # Add data to the new column in the specific line\n",
    "# df1.at[0, 'Multi-variate Bernoulli NB'] = total_cost\n",
    "# df1.to_csv('SMOTE/SMOTE_loss.csv', index=False)\n",
    "\n",
    "# Read the existing CSV file\n",
    "df2 = pd.read_csv('SMOTE/SMOTE_precision.csv')\n",
    "# Add data to the new column in the specific line\n",
    "df2.at[2, 'Multi-variate Bernoulli NB'] = metrics_dict['precision']\n",
    "df2.to_csv('SMOTE/SMOTE_precision.csv', index=False)\n",
    "\n",
    "# # Read the existing CSV file\n",
    "# df3 = pd.read_csv('SMOTE/SMOTE_recall.csv')\n",
    "# df3.at[0, 'Multi-variate Bernoulli NB'] = metrics_dict['recall']\n",
    "# df3.to_csv('SMOTE/SMOTE_recall.csv', index=False)"
   ],
   "outputs": [],
   "execution_count": null
>>>>>>> origin/main
  },
  {
   "cell_type": "markdown",
   "metadata": {},
   "source": "### Binary Multinomial NB"
  },
  {
   "metadata": {},
   "cell_type": "code",
   "source": [
    "# Split the dataset into training and testing sets\n",
    "x_train, x_test, y_train, y_test = train_test_split(negation_text_data['Sentence'], negation_text_data['Classification'], test_size=0.25, random_state=SEED, stratify=negation_text_data['Classification'])\n",
    "\n",
    "# Create a CountVectorizer to convert the text data into numerical features\n",
    "vectorizer = CountVectorizer()\n",
    "x_train_vectorized = vectorizer.fit_transform(x_train.apply(lambda x: ' '.join(set(x.split()))))\n",
    "x_test_vectorized = vectorizer.transform(x_test.apply(lambda x: ' '.join(set(x.split()))))\n",
    "\n",
    "# Train a Multinomial Naive Bayes classifier\n",
    "clf = MultinomialNB()\n",
    "clf.fit(x_train_vectorized, y_train)\n",
    "\n",
    "# Make predictions on the test set\n",
    "y_pred = clf.predict(x_test_vectorized)\n",
    "\n",
    "# Calculate the confusion matrix\n",
    "conf_matrix = confusion_matrix(y_test, y_pred).T\n",
    "print(f'Confusion Matrix: \\n{conf_matrix}\\n')\n",
    "\n",
    "# Calculate the total cost\n",
    "total_cost = np.sum(conf_matrix * cost_matrix)\n",
    "print(f'Total Cost: {total_cost}\\n')\n",
    "\n",
    "# Evaluate the performance\n",
    "classification_rep = classification_report(y_test, y_pred)\n",
    "\n",
    "# Display the results\n",
    "print('Classification Report:')\n",
    "print(classification_rep)\n",
    "\n",
    "# Extract macro metrics from the classification report\n",
    "metrics_dict = classification_report(y_test, y_pred, target_names=[\"Reported having MI or CHD\", \"Did not report having MI or CHD\"], output_dict=True)['macro avg']"
   ],
   "outputs": [],
   "execution_count": null
  },
  {
   "metadata": {},
   "cell_type": "code",
   "source": [
    "# # Read the existing CSV file\n",
    "# df = pd.read_csv('SMOTE/SMOTE_f1_score.csv')\n",
    "# df.at[0, 'Binary Multinomial NB'] = metrics_dict['f1-score']\n",
    "# df.to_csv('SMOTE/SMOTE_f1_score.csv', index=False)\n",
    "# \n",
    "# # Read the existing CSV file\n",
    "# df1 = pd.read_csv('SMOTE/SMOTE_loss.csv')\n",
    "# # Add data to the new column in the specific line\n",
    "# df1.at[0, 'Binary Multinomial NB'] = total_cost\n",
    "# df1.to_csv('SMOTE/SMOTE_loss.csv', index=False)\n",
    "\n",
    "# Read the existing CSV file\n",
    "df2 = pd.read_csv('SMOTE/SMOTE_precision.csv')\n",
    "# Add data to the new column in the specific line\n",
    "df2.at[0, 'Binary Multinomial NB'] = metrics_dict['precision']\n",
    "df2.to_csv('SMOTE/SMOTE_precision.csv', index=False)\n",
    "\n",
    "# # Read the existing CSV file\n",
    "# df3 = pd.read_csv('SMOTE/SMOTE_recall.csv')\n",
    "# df3.at[0, 'Binary Multinomial NB'] = metrics_dict['recall']\n",
    "# df3.to_csv('SMOTE/SMOTE_recall.csv', index=False)"
   ],
   "outputs": [],
   "execution_count": null
  },
  {
   "metadata": {},
   "cell_type": "code",
   "source": [
    "# Split the dataset into training and testing sets\n",
    "x_train, x_test, y_train, y_test = train_test_split(negation_text_data['Sentence'], negation_text_data['Classification'], test_size=0.25, random_state=SEED, stratify=negation_text_data['Classification'])\n",
    "\n",
    "def predict(y_prob, cost_m):\n",
    "    t_BMR = (cost_m[1][0] - cost_m[1][1])/(cost_m[0][1] - cost_m[1][1] - cost_m[0][0] + cost_m[1][0])\n",
    "    y_pred = np.greater(y_prob[:, 1], t_BMR).astype(int)\n",
    "    \n",
    "    return y_pred\n",
    "\n",
    "from sklearn.calibration import CalibratedClassifierCV\n",
    "\n",
    "# Create a CountVectorizer to convert the text data into numerical features\n",
    "vectorizer = CountVectorizer()\n",
    "x_train_vectorized = vectorizer.fit_transform(x_train.apply(lambda x: ' '.join(set(x.split()))))\n",
    "x_test_vectorized = vectorizer.transform(x_test.apply(lambda x: ' '.join(set(x.split()))))\n",
    "\n",
    "# Train a Multinomial Naive Bayes classifier\n",
    "clf = CalibratedClassifierCV(MultinomialNB(),\n",
    "                            method=\"isotonic\",\n",
    "                            cv=10)\n",
    "clf.fit(x_train_vectorized, y_train)\n",
    "\n",
    "y_prob = clf.predict_proba(x_test_vectorized)\n",
    "\n",
    "# Make predictions on the test set\n",
    "y_pred = predict(y_prob, cost_matrix)\n",
    "\n",
    "# Calculate the confusion matrix\n",
    "conf_matrix = confusion_matrix(y_test, y_pred).T\n",
    "print(f'Confusion Matrix: \\n{conf_matrix}\\n')\n",
    "\n",
    "# Calculate the total cost\n",
    "total_cost = np.sum(conf_matrix * cost_matrix)\n",
    "print(f'Total Cost: {total_cost}\\n')\n",
    "\n",
    "# Evaluate the performance\n",
    "classification_rep = classification_report(y_test, y_pred)\n",
    "\n",
    "# Display the results\n",
    "print('Classification Report:')\n",
    "print(classification_rep)\n",
    "\n",
    "# Extract macro metrics from the classification report\n",
    "metrics_dict = classification_report(y_test, y_pred, target_names=[\"Reported having MI or CHD\", \"Did not report having MI or CHD\"], output_dict=True)['macro avg']"
   ],
   "outputs": [],
   "execution_count": null
  },
  {
   "metadata": {},
   "cell_type": "code",
   "source": [
    "# # Read the existing CSV file\n",
    "# df = pd.read_csv('SMOTE/SMOTE_f1_score.csv')\n",
    "# df.at[0, 'Binary Multinomial NB'] = metrics_dict['f1-score']\n",
    "# df.to_csv('SMOTE/SMOTE_f1_score.csv', index=False)\n",
    "# \n",
    "# # Read the existing CSV file\n",
    "# df1 = pd.read_csv('SMOTE/SMOTE_loss.csv')\n",
    "# # Add data to the new column in the specific line\n",
    "# df1.at[0, 'Binary Multinomial NB'] = total_cost\n",
    "# df1.to_csv('SMOTE/SMOTE_loss.csv', index=False)\n",
    "\n",
    "# Read the existing CSV file\n",
    "df2 = pd.read_csv('SMOTE/SMOTE_precision.csv')\n",
    "# Add data to the new column in the specific line\n",
    "df2.at[1, 'Binary Multinomial NB'] = metrics_dict['precision']\n",
    "df2.to_csv('SMOTE/SMOTE_precision.csv', index=False)\n",
    "\n",
    "# # Read the existing CSV file\n",
    "# df3 = pd.read_csv('SMOTE/SMOTE_recall.csv')\n",
    "# df3.at[0, 'Binary Multinomial NB'] = metrics_dict['recall']\n",
    "# df3.to_csv('SMOTE/SMOTE_recall.csv', index=False)"
   ],
   "outputs": [],
   "execution_count": null
  },
  {
   "cell_type": "code",
   "execution_count": 162,
   "metadata": {},
   "outputs": [],
   "source": [
    "# Define a preprocessing function\n",
    "def preprocess_text(text):\n",
    "    return ' '.join(set(text.split()))"
   ]
  },
  {
   "cell_type": "code",
   "execution_count": 167,
   "metadata": {},
   "outputs": [
    {
     "name": "stdout",
     "output_type": "stream",
     "text": [
      "Confusion Matrix: \n",
      "[[2799  669]\n",
      " [1217 2251]]\n",
      "\n",
      "Total Cost: 1886\n",
      "\n",
      "Classification Report:\n",
      "              precision    recall  f1-score   support\n",
      "\n",
      "           0       0.70      0.81      0.75      3468\n",
      "           1       0.77      0.65      0.70      3468\n",
      "\n",
      "    accuracy                           0.73      6936\n",
      "   macro avg       0.73      0.73      0.73      6936\n",
      "weighted avg       0.73      0.73      0.73      6936\n",
      "\n"
     ]
    }
   ],
   "source": [
    "# Split the dataset into training and testing sets\n",
<<<<<<< HEAD
    "x_train, x_test, y_train, y_test = train_test_split(text_dataset['Sentence'], text_dataset['Classification'], test_size=0.25, random_state=SEED, stratify=text_dataset['Classification'])\n",
    "\n",
    "weights = np.zeros(y_train.shape[0])\n",
    "weights[np.where(y_train == 0)] = 1\n",
    "weights[np.where(y_train == 1)] = 1\n",
=======
    "x_train, x_test, y_train, y_test = train_test_split(negation_text_data['Sentence'], negation_text_data['Classification'], test_size=0.25, random_state=SEED, stratify=negation_text_data['Classification'])\n",
    "\n",
    "weights = np.zeros_like(y_train, dtype=float)\n",
    "weights[y_train == 0] = cost_matrix[0][1]\n",
    "weights[y_train == 1] = cost_matrix[1][0]\n",
>>>>>>> origin/main
    "\n",
    "# Create a CountVectorizer to convert the text data into numerical features\n",
    "vectorizer = CountVectorizer()\n",
    "x_train_vectorized = vectorizer.fit_transform(x_train.apply(lambda x: ' '.join(set(x.split()))))\n",
    "x_test_vectorized = vectorizer.transform(x_test.apply(lambda x: ' '.join(set(x.split()))))\n",
    "\n",
    "# Define TF-IDF vectorizer\n",
    "#tfidf_vectorizer = TfidfVectorizer(preprocessor=preprocess_text)\n",
    "\n",
    "# Train a Multinomial Naive Bayes classifier\n",
    "clf = MultinomialNB()\n",
    "\n",
    "#pipeline = Pipeline([('tfidf', tfidf_vectorizer), ('clf', clf)])\n",
    "\n",
    "clf = CalibratedClassifierCV(clf, method='isotonic')\n",
    "clf.fit(x_train_vectorized, y_train, sample_weight=weights)\n",
    "\n",
    "\n",
    "text_based_classifiers['Binary NB'] = clf\n",
    "\n",
    "# Make predictions on the test set\n",
    "y_pred = clf.predict(x_test_vectorized)\n",
    "\n",
    "# Calculate the confusion matrix\n",
    "conf_matrix = confusion_matrix(y_test, y_pred).T\n",
    "print(f'Confusion Matrix: \\n{conf_matrix}\\n')\n",
    "\n",
    "# Calculate the total cost\n",
    "total_cost = np.sum(conf_matrix * cost_matrix)\n",
    "print(f'Total Cost: {total_cost}\\n')\n",
    "\n",
    "# Evaluate the performance\n",
    "classification_rep = classification_report(y_test, y_pred)\n",
    "\n",
    "# Display the results\n",
    "print('Classification Report:')\n",
<<<<<<< HEAD
    "print(classification_rep)"
   ]
  },
  {
   "cell_type": "markdown",
   "metadata": {},
   "source": [
    "### Decision Tree"
   ]
  },
  {
   "cell_type": "code",
   "execution_count": 73,
   "metadata": {},
=======
    "print(classification_rep)\n",
    "\n",
    "# Extract macro metrics from the classification report\n",
    "metrics_dict = classification_report(y_test, y_pred, target_names=[\"Reported having MI or CHD\", \"Did not report having MI or CHD\"], output_dict=True)['macro avg']"
   ],
   "outputs": [],
   "execution_count": null
  },
  {
   "metadata": {},
   "cell_type": "code",
   "source": [
    "# # Read the existing CSV file\n",
    "# df = pd.read_csv('SMOTE/SMOTE_f1_score.csv')\n",
    "# df.at[0, 'Binary Multinomial NB'] = metrics_dict['f1-score']\n",
    "# df.to_csv('SMOTE/SMOTE_f1_score.csv', index=False)\n",
    "# \n",
    "# # Read the existing CSV file\n",
    "# df1 = pd.read_csv('SMOTE/SMOTE_loss.csv')\n",
    "# # Add data to the new column in the specific line\n",
    "# df1.at[0, 'Binary Multinomial NB'] = total_cost\n",
    "# df1.to_csv('SMOTE/SMOTE_loss.csv', index=False)\n",
    "\n",
    "# Read the existing CSV file\n",
    "df2 = pd.read_csv('SMOTE/SMOTE_precision.csv')\n",
    "# Add data to the new column in the specific line\n",
    "df2.at[2, 'Binary Multinomial NB'] = metrics_dict['precision']\n",
    "df2.to_csv('SMOTE/SMOTE_precision.csv', index=False)\n",
    "\n",
    "# # Read the existing CSV file\n",
    "# df3 = pd.read_csv('SMOTE/SMOTE_recall.csv')\n",
    "# df3.at[0, 'Binary Multinomial NB'] = metrics_dict['recall']\n",
    "# df3.to_csv('SMOTE/SMOTE_recall.csv', index=False)"
   ],
>>>>>>> origin/main
   "outputs": [],
   "source": [
    "# Split the dataset into training and testing sets\n",
    "x_train, x_test, y_train, y_test = train_test_split(text_dataset['Sentence'], text_dataset['Classification'], test_size=0.25, random_state=SEED, stratify=text_dataset['Classification'])\n",
    "\n",
    "weights = np.zeros(y_train.shape[0])\n",
    "weights[np.where(y_train == 0)] = 1\n",
    "weights[np.where(y_train == 1)] = 1\n",
    "\n",
    "# Create a CountVectorizer to convert the text data into numerical features\n",
    "#vectorizer = CountVectorizer()\n",
    "#x_train_vectorized = vectorizer.fit_transform(x_train)\n",
    "#x_test_vectorized = vectorizer.transform(x_test)\n",
    "\n",
    "tfidf_vectorizer = TfidfVectorizer()"
   ]
  },
  {
   "cell_type": "code",
   "execution_count": 57,
   "metadata": {},
   "outputs": [],
   "source": [
    "# Define a custom scoring function using the cost matrix\n",
    "def custom_dt_score(y_true, y_pred):\n",
    "    cm = confusion_matrix(y_true, y_pred)\n",
    "    cost = np.sum(cm * COST)\n",
    "    return -cost  # Minimize cost, so negative of cost is returned"
   ]
  },
  {
   "cell_type": "code",
   "execution_count": 58,
   "metadata": {},
   "outputs": [],
   "source": [
    "# Make the custom scoring function into a scorer object\n",
    "custom_dt_scorer = make_scorer(custom_dt_score, greater_is_better = False)"
   ]
  },
  {
   "cell_type": "code",
   "execution_count": 70,
   "metadata": {},
   "outputs": [],
   "source": [
    "param_grid = {\n",
    "    'max_depth': [5, 10, 15, None],\n",
    "    'min_samples_split': [100, 200, 500],\n",
    "    'min_samples_leaf': [50, 100, 200],\n",
    "    'class_weight':[{0: 1, 1: 1}]\n",
    "}\n",
    "\n",
    "grid_search = GridSearchCV(DecisionTreeClassifier(random_state=SEED), param_grid, scoring='f1_weighted')"
   ]
  },
  {
   "cell_type": "code",
   "execution_count": null,
   "metadata": {},
   "outputs": [],
   "source": [
    "grid_search.fit(x_train, y_train)"
   ]
  },
  {
   "cell_type": "code",
   "execution_count": 61,
   "metadata": {},
   "outputs": [
    {
     "name": "stdout",
     "output_type": "stream",
     "text": [
      "Best parameters: {'class_weight': {0: 1, 1: 1}, 'max_depth': 10, 'min_samples_leaf': 200, 'min_samples_split': 100}\n"
     ]
    }
   ],
   "source": [
    "best_params = grid_search.best_params_\n",
    "print(\"Best parameters:\", best_params)"
   ]
  },
  {
   "cell_type": "code",
   "execution_count": 75,
   "metadata": {},
   "outputs": [
    {
     "name": "stderr",
     "output_type": "stream",
     "text": [
      "/home/georgematlis/AUTH/DWS/ADVANCED_TOPICS_IN_MACHINE_LEARNING/CDC-BRFSS/lib/python3.10/site-packages/sklearn/calibration.py:367: UserWarning: Since Pipeline does not appear to accept sample_weight, sample weights will only be used for the calibration itself. This can be caused by a limitation of the current scikit-learn API. See the following issue for more details: https://github.com/scikit-learn/scikit-learn/issues/21134. Be warned that the result of the calibration is likely to be incorrect.\n",
      "  warnings.warn(\n"
     ]
    },
    {
     "name": "stdout",
     "output_type": "stream",
     "text": [
      "Confusion Matrix: \n",
      "[[2756  712]\n",
      " [1075 2393]]\n",
      "\n",
      "Total Cost: 980.75\n",
      "\n",
      "Classification Report:\n",
      "              precision    recall  f1-score   support\n",
      "\n",
      "           0       0.72      0.79      0.76      3468\n",
      "           1       0.77      0.69      0.73      3468\n",
      "\n",
      "    accuracy                           0.74      6936\n",
      "   macro avg       0.75      0.74      0.74      6936\n",
      "weighted avg       0.75      0.74      0.74      6936\n",
      "\n"
     ]
    }
   ],
   "source": [
    "# Train a Decision Tree classifier\n",
    "dt = DecisionTreeClassifier(max_depth=15, min_samples_split=200, min_samples_leaf=200)\n",
    "\n",
    "pipeline = Pipeline([\n",
    "    ('tfidf', tfidf_vectorizer),\n",
    "    ('clf', dt)\n",
    "])\n",
    "\n",
    "clf = CalibratedClassifierCV(pipeline, method='isotonic')\n",
    "clf.fit(x_train_vectorized, y_train, sample_weight=weights)\n",
    "\n",
    "text_based_classifiers['DT'] = clf\n",
    "\n",
    "\n",
    "# Make predictions on the test set\n",
    "y_pred = clf.predict(x_test)\n",
    "\n",
    "\n",
    "# Calculate the confusion matrix\n",
    "conf_matrix = confusion_matrix(y_test, y_pred)\n",
    "print(f'Confusion Matrix: \\n{conf_matrix}\\n')\n",
    "\n",
    "# Calculate the total cost\n",
    "total_cost = np.sum(conf_matrix * COST)\n",
    "print(f'Total Cost: {total_cost}\\n')\n",
    "\n",
    "\n",
    "# Evaluate the performance\n",
    "classification_rep = classification_report(y_test, y_pred)\n",
    "\n",
    "# Display the results\n",
    "print('Classification Report:')\n",
    "print(classification_rep)"
   ]
  },
  {
   "cell_type": "markdown",
   "metadata": {},
   "source": [
    "# ***Probability Calibration Plot***\n",
    "The probability calibration plot displays how confident the mehtods are for their predictions"
   ]
  },
  {
   "cell_type": "code",
   "execution_count": 34,
   "metadata": {},
   "outputs": [
    {
     "data": {
      "image/png": "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",
      "text/plain": [
       "<Figure size 1000x800 with 1 Axes>"
      ]
     },
     "metadata": {},
     "output_type": "display_data"
    }
   ],
   "source": [
    "# Calibration plot\n",
    "plt.figure(figsize=(10, 8))\n",
    "\n",
    "for name, clf in text_based_classifiers.items():\n",
    "\n",
    "    # Get calibrated probabilities\n",
    "    prob_pos = clf.predict_proba(x_test)[:, 1]\n",
    "    fraction_of_positives, mean_predicted_value = calibration_curve(y_test, prob_pos, n_bins=10)\n",
    "\n",
    "    # Plot calibration curve\n",
    "    plt.plot(mean_predicted_value, fraction_of_positives, marker='o', label=name)\n",
    "\n",
    "# Plot reference line\n",
    "plt.plot([0, 1], [0, 1], linestyle='--', color='black', label='Perfectly calibrated')\n",
    "\n",
    "# Add labels and legend\n",
    "plt.xlabel('Mean predicted probability')\n",
    "plt.ylabel('Fraction of positives')\n",
    "plt.title('Calibration Plot')\n",
    "plt.legend()\n",
    "plt.grid(True)\n",
    "plt.show()"
   ]
  }
 ],
 "metadata": {
  "kernelspec": {
   "display_name": "CDC-BRFSS",
   "language": "python",
   "name": "python3"
  },
  "language_info": {
   "codemirror_mode": {
    "name": "ipython",
    "version": 3
   },
   "file_extension": ".py",
   "mimetype": "text/x-python",
   "name": "python",
   "nbconvert_exporter": "python",
   "pygments_lexer": "ipython3",
   "version": "3.10.12"
  }
 },
 "nbformat": 4,
 "nbformat_minor": 2
}
